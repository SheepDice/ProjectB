{
 "cells": [
  {
   "cell_type": "code",
   "execution_count": 4,
   "metadata": {},
   "outputs": [],
   "source": [
    "from PIL import Image\n",
    "from PIL.ExifTags import TAGS\n",
    "import pandas as pd\n",
    "from easyimages import EasyImageList\n"
   ]
  },
  {
   "cell_type": "code",
   "execution_count": 5,
   "metadata": {},
   "outputs": [
    {
     "name": "stdout",
     "output_type": "stream",
     "text": [
      "Drawing .\n"
     ]
    },
    {
     "data": {
      "text/html": [
       "<div class=\"zoom\"><img style='width: 100px; height: 100px; margin: 1px; float: left; border: 0px solid black;'title=['.'] src='dataset_birds\\valid\\ABBOTTS BABBLER\\1.jpg'/></div><div class=\"zoom\"><img style='width: 100px; height: 100px; margin: 1px; float: left; border: 0px solid black;'title=['.'] src='dataset_birds\\valid\\ABBOTTS BABBLER\\2.jpg'/></div><div class=\"zoom\"><img style='width: 100px; height: 100px; margin: 1px; float: left; border: 0px solid black;'title=['.'] src='dataset_birds\\valid\\ABBOTTS BABBLER\\3.jpg'/></div><div class=\"zoom\"><img style='width: 100px; height: 100px; margin: 1px; float: left; border: 0px solid black;'title=['.'] src='dataset_birds\\valid\\ABBOTTS BABBLER\\4.jpg'/></div><div class=\"zoom\"><img style='width: 100px; height: 100px; margin: 1px; float: left; border: 0px solid black;'title=['.'] src='dataset_birds\\valid\\ABBOTTS BABBLER\\5.jpg'/></div>"
      ],
      "text/plain": [
       "<IPython.core.display.HTML object>"
      ]
     },
     "metadata": {},
     "output_type": "display_data"
    },
    {
     "name": "stdout",
     "output_type": "stream",
     "text": [
      "Drawing .\n"
     ]
    },
    {
     "data": {
      "text/html": [
       "<div class=\"zoom\"><img style='width: 100px; height: 100px; margin: 1px; float: left; border: 0px solid black;'title=['.'] src='dataset_birds\\valid\\ABBOTTS BOOBY\\1.jpg'/></div><div class=\"zoom\"><img style='width: 100px; height: 100px; margin: 1px; float: left; border: 0px solid black;'title=['.'] src='dataset_birds\\valid\\ABBOTTS BOOBY\\2.jpg'/></div><div class=\"zoom\"><img style='width: 100px; height: 100px; margin: 1px; float: left; border: 0px solid black;'title=['.'] src='dataset_birds\\valid\\ABBOTTS BOOBY\\3.jpg'/></div><div class=\"zoom\"><img style='width: 100px; height: 100px; margin: 1px; float: left; border: 0px solid black;'title=['.'] src='dataset_birds\\valid\\ABBOTTS BOOBY\\4.jpg'/></div><div class=\"zoom\"><img style='width: 100px; height: 100px; margin: 1px; float: left; border: 0px solid black;'title=['.'] src='dataset_birds\\valid\\ABBOTTS BOOBY\\5.jpg'/></div>"
      ],
      "text/plain": [
       "<IPython.core.display.HTML object>"
      ]
     },
     "metadata": {},
     "output_type": "display_data"
    },
    {
     "name": "stdout",
     "output_type": "stream",
     "text": [
      "Drawing .\n"
     ]
    },
    {
     "data": {
      "text/html": [
       "<div class=\"zoom\"><img style='width: 100px; height: 100px; margin: 1px; float: left; border: 0px solid black;'title=['.'] src='dataset_birds\\valid\\ABYSSINIAN GROUND HORNBILL\\1.jpg'/></div><div class=\"zoom\"><img style='width: 100px; height: 100px; margin: 1px; float: left; border: 0px solid black;'title=['.'] src='dataset_birds\\valid\\ABYSSINIAN GROUND HORNBILL\\2.jpg'/></div><div class=\"zoom\"><img style='width: 100px; height: 100px; margin: 1px; float: left; border: 0px solid black;'title=['.'] src='dataset_birds\\valid\\ABYSSINIAN GROUND HORNBILL\\3.jpg'/></div><div class=\"zoom\"><img style='width: 100px; height: 100px; margin: 1px; float: left; border: 0px solid black;'title=['.'] src='dataset_birds\\valid\\ABYSSINIAN GROUND HORNBILL\\4.jpg'/></div><div class=\"zoom\"><img style='width: 100px; height: 100px; margin: 1px; float: left; border: 0px solid black;'title=['.'] src='dataset_birds\\valid\\ABYSSINIAN GROUND HORNBILL\\5.jpg'/></div>"
      ],
      "text/plain": [
       "<IPython.core.display.HTML object>"
      ]
     },
     "metadata": {},
     "output_type": "display_data"
    },
    {
     "name": "stdout",
     "output_type": "stream",
     "text": [
      "Drawing .\n"
     ]
    },
    {
     "data": {
      "text/html": [
       "<div class=\"zoom\"><img style='width: 100px; height: 100px; margin: 1px; float: left; border: 0px solid black;'title=['.'] src='dataset_birds\\valid\\AFRICAN CROWNED CRANE\\1.jpg'/></div><div class=\"zoom\"><img style='width: 100px; height: 100px; margin: 1px; float: left; border: 0px solid black;'title=['.'] src='dataset_birds\\valid\\AFRICAN CROWNED CRANE\\2.jpg'/></div><div class=\"zoom\"><img style='width: 100px; height: 100px; margin: 1px; float: left; border: 0px solid black;'title=['.'] src='dataset_birds\\valid\\AFRICAN CROWNED CRANE\\3.jpg'/></div><div class=\"zoom\"><img style='width: 100px; height: 100px; margin: 1px; float: left; border: 0px solid black;'title=['.'] src='dataset_birds\\valid\\AFRICAN CROWNED CRANE\\4.jpg'/></div><div class=\"zoom\"><img style='width: 100px; height: 100px; margin: 1px; float: left; border: 0px solid black;'title=['.'] src='dataset_birds\\valid\\AFRICAN CROWNED CRANE\\5.jpg'/></div>"
      ],
      "text/plain": [
       "<IPython.core.display.HTML object>"
      ]
     },
     "metadata": {},
     "output_type": "display_data"
    },
    {
     "name": "stdout",
     "output_type": "stream",
     "text": [
      "Drawing .\n"
     ]
    },
    {
     "data": {
      "text/html": [
       "<div class=\"zoom\"><img style='width: 100px; height: 100px; margin: 1px; float: left; border: 0px solid black;'title=['.'] src='dataset_birds\\valid\\AFRICAN EMERALD CUCKOO\\1.jpg'/></div><div class=\"zoom\"><img style='width: 100px; height: 100px; margin: 1px; float: left; border: 0px solid black;'title=['.'] src='dataset_birds\\valid\\AFRICAN EMERALD CUCKOO\\2.jpg'/></div><div class=\"zoom\"><img style='width: 100px; height: 100px; margin: 1px; float: left; border: 0px solid black;'title=['.'] src='dataset_birds\\valid\\AFRICAN EMERALD CUCKOO\\3.jpg'/></div><div class=\"zoom\"><img style='width: 100px; height: 100px; margin: 1px; float: left; border: 0px solid black;'title=['.'] src='dataset_birds\\valid\\AFRICAN EMERALD CUCKOO\\4.jpg'/></div><div class=\"zoom\"><img style='width: 100px; height: 100px; margin: 1px; float: left; border: 0px solid black;'title=['.'] src='dataset_birds\\valid\\AFRICAN EMERALD CUCKOO\\5.jpg'/></div>"
      ],
      "text/plain": [
       "<IPython.core.display.HTML object>"
      ]
     },
     "metadata": {},
     "output_type": "display_data"
    },
    {
     "name": "stdout",
     "output_type": "stream",
     "text": [
      "Drawing .\n"
     ]
    },
    {
     "data": {
      "text/html": [
       "<div class=\"zoom\"><img style='width: 100px; height: 100px; margin: 1px; float: left; border: 0px solid black;'title=['.'] src='dataset_birds\\valid\\AFRICAN FIREFINCH\\1.jpg'/></div><div class=\"zoom\"><img style='width: 100px; height: 100px; margin: 1px; float: left; border: 0px solid black;'title=['.'] src='dataset_birds\\valid\\AFRICAN FIREFINCH\\2.jpg'/></div><div class=\"zoom\"><img style='width: 100px; height: 100px; margin: 1px; float: left; border: 0px solid black;'title=['.'] src='dataset_birds\\valid\\AFRICAN FIREFINCH\\3.jpg'/></div><div class=\"zoom\"><img style='width: 100px; height: 100px; margin: 1px; float: left; border: 0px solid black;'title=['.'] src='dataset_birds\\valid\\AFRICAN FIREFINCH\\4.jpg'/></div><div class=\"zoom\"><img style='width: 100px; height: 100px; margin: 1px; float: left; border: 0px solid black;'title=['.'] src='dataset_birds\\valid\\AFRICAN FIREFINCH\\5.jpg'/></div>"
      ],
      "text/plain": [
       "<IPython.core.display.HTML object>"
      ]
     },
     "metadata": {},
     "output_type": "display_data"
    },
    {
     "name": "stdout",
     "output_type": "stream",
     "text": [
      "Drawing .\n"
     ]
    },
    {
     "data": {
      "text/html": [
       "<div class=\"zoom\"><img style='width: 100px; height: 100px; margin: 1px; float: left; border: 0px solid black;'title=['.'] src='dataset_birds\\valid\\AFRICAN OYSTER CATCHER\\1.jpg'/></div><div class=\"zoom\"><img style='width: 100px; height: 100px; margin: 1px; float: left; border: 0px solid black;'title=['.'] src='dataset_birds\\valid\\AFRICAN OYSTER CATCHER\\2.jpg'/></div><div class=\"zoom\"><img style='width: 100px; height: 100px; margin: 1px; float: left; border: 0px solid black;'title=['.'] src='dataset_birds\\valid\\AFRICAN OYSTER CATCHER\\3.jpg'/></div><div class=\"zoom\"><img style='width: 100px; height: 100px; margin: 1px; float: left; border: 0px solid black;'title=['.'] src='dataset_birds\\valid\\AFRICAN OYSTER CATCHER\\4.jpg'/></div><div class=\"zoom\"><img style='width: 100px; height: 100px; margin: 1px; float: left; border: 0px solid black;'title=['.'] src='dataset_birds\\valid\\AFRICAN OYSTER CATCHER\\5.jpg'/></div>"
      ],
      "text/plain": [
       "<IPython.core.display.HTML object>"
      ]
     },
     "metadata": {},
     "output_type": "display_data"
    },
    {
     "name": "stdout",
     "output_type": "stream",
     "text": [
      "Drawing .\n"
     ]
    },
    {
     "data": {
      "text/html": [
       "<div class=\"zoom\"><img style='width: 100px; height: 100px; margin: 1px; float: left; border: 0px solid black;'title=['.'] src='dataset_birds\\valid\\AFRICAN PIED HORNBILL\\1.jpg'/></div><div class=\"zoom\"><img style='width: 100px; height: 100px; margin: 1px; float: left; border: 0px solid black;'title=['.'] src='dataset_birds\\valid\\AFRICAN PIED HORNBILL\\2.jpg'/></div><div class=\"zoom\"><img style='width: 100px; height: 100px; margin: 1px; float: left; border: 0px solid black;'title=['.'] src='dataset_birds\\valid\\AFRICAN PIED HORNBILL\\3.jpg'/></div><div class=\"zoom\"><img style='width: 100px; height: 100px; margin: 1px; float: left; border: 0px solid black;'title=['.'] src='dataset_birds\\valid\\AFRICAN PIED HORNBILL\\4.jpg'/></div><div class=\"zoom\"><img style='width: 100px; height: 100px; margin: 1px; float: left; border: 0px solid black;'title=['.'] src='dataset_birds\\valid\\AFRICAN PIED HORNBILL\\5.jpg'/></div>"
      ],
      "text/plain": [
       "<IPython.core.display.HTML object>"
      ]
     },
     "metadata": {},
     "output_type": "display_data"
    },
    {
     "name": "stdout",
     "output_type": "stream",
     "text": [
      "Drawing .\n"
     ]
    },
    {
     "data": {
      "text/html": [
       "<div class=\"zoom\"><img style='width: 100px; height: 100px; margin: 1px; float: left; border: 0px solid black;'title=['.'] src='dataset_birds\\valid\\AFRICAN PYGMY GOOSE\\1.jpg'/></div><div class=\"zoom\"><img style='width: 100px; height: 100px; margin: 1px; float: left; border: 0px solid black;'title=['.'] src='dataset_birds\\valid\\AFRICAN PYGMY GOOSE\\2.jpg'/></div><div class=\"zoom\"><img style='width: 100px; height: 100px; margin: 1px; float: left; border: 0px solid black;'title=['.'] src='dataset_birds\\valid\\AFRICAN PYGMY GOOSE\\3.jpg'/></div><div class=\"zoom\"><img style='width: 100px; height: 100px; margin: 1px; float: left; border: 0px solid black;'title=['.'] src='dataset_birds\\valid\\AFRICAN PYGMY GOOSE\\4.jpg'/></div><div class=\"zoom\"><img style='width: 100px; height: 100px; margin: 1px; float: left; border: 0px solid black;'title=['.'] src='dataset_birds\\valid\\AFRICAN PYGMY GOOSE\\5.jpg'/></div>"
      ],
      "text/plain": [
       "<IPython.core.display.HTML object>"
      ]
     },
     "metadata": {},
     "output_type": "display_data"
    },
    {
     "name": "stdout",
     "output_type": "stream",
     "text": [
      "Drawing .\n"
     ]
    },
    {
     "data": {
      "text/html": [
       "<div class=\"zoom\"><img style='width: 100px; height: 100px; margin: 1px; float: left; border: 0px solid black;'title=['.'] src='dataset_birds\\valid\\ALBATROSS\\1.jpg'/></div><div class=\"zoom\"><img style='width: 100px; height: 100px; margin: 1px; float: left; border: 0px solid black;'title=['.'] src='dataset_birds\\valid\\ALBATROSS\\2.jpg'/></div><div class=\"zoom\"><img style='width: 100px; height: 100px; margin: 1px; float: left; border: 0px solid black;'title=['.'] src='dataset_birds\\valid\\ALBATROSS\\3.jpg'/></div><div class=\"zoom\"><img style='width: 100px; height: 100px; margin: 1px; float: left; border: 0px solid black;'title=['.'] src='dataset_birds\\valid\\ALBATROSS\\4.jpg'/></div><div class=\"zoom\"><img style='width: 100px; height: 100px; margin: 1px; float: left; border: 0px solid black;'title=['.'] src='dataset_birds\\valid\\ALBATROSS\\5.jpg'/></div>"
      ],
      "text/plain": [
       "<IPython.core.display.HTML object>"
      ]
     },
     "metadata": {},
     "output_type": "display_data"
    },
    {
     "name": "stdout",
     "output_type": "stream",
     "text": [
      "Drawing .\n"
     ]
    },
    {
     "data": {
      "text/html": [
       "<div class=\"zoom\"><img style='width: 100px; height: 100px; margin: 1px; float: left; border: 0px solid black;'title=['.'] src='dataset_birds\\valid\\ALBERTS TOWHEE\\1.jpg'/></div><div class=\"zoom\"><img style='width: 100px; height: 100px; margin: 1px; float: left; border: 0px solid black;'title=['.'] src='dataset_birds\\valid\\ALBERTS TOWHEE\\2.jpg'/></div><div class=\"zoom\"><img style='width: 100px; height: 100px; margin: 1px; float: left; border: 0px solid black;'title=['.'] src='dataset_birds\\valid\\ALBERTS TOWHEE\\3.jpg'/></div><div class=\"zoom\"><img style='width: 100px; height: 100px; margin: 1px; float: left; border: 0px solid black;'title=['.'] src='dataset_birds\\valid\\ALBERTS TOWHEE\\4.jpg'/></div><div class=\"zoom\"><img style='width: 100px; height: 100px; margin: 1px; float: left; border: 0px solid black;'title=['.'] src='dataset_birds\\valid\\ALBERTS TOWHEE\\5.jpg'/></div>"
      ],
      "text/plain": [
       "<IPython.core.display.HTML object>"
      ]
     },
     "metadata": {},
     "output_type": "display_data"
    },
    {
     "name": "stdout",
     "output_type": "stream",
     "text": [
      "Drawing .\n"
     ]
    },
    {
     "data": {
      "text/html": [
       "<div class=\"zoom\"><img style='width: 100px; height: 100px; margin: 1px; float: left; border: 0px solid black;'title=['.'] src='dataset_birds\\valid\\ALEXANDRINE PARAKEET\\1.jpg'/></div><div class=\"zoom\"><img style='width: 100px; height: 100px; margin: 1px; float: left; border: 0px solid black;'title=['.'] src='dataset_birds\\valid\\ALEXANDRINE PARAKEET\\2.jpg'/></div><div class=\"zoom\"><img style='width: 100px; height: 100px; margin: 1px; float: left; border: 0px solid black;'title=['.'] src='dataset_birds\\valid\\ALEXANDRINE PARAKEET\\3.jpg'/></div><div class=\"zoom\"><img style='width: 100px; height: 100px; margin: 1px; float: left; border: 0px solid black;'title=['.'] src='dataset_birds\\valid\\ALEXANDRINE PARAKEET\\4.jpg'/></div><div class=\"zoom\"><img style='width: 100px; height: 100px; margin: 1px; float: left; border: 0px solid black;'title=['.'] src='dataset_birds\\valid\\ALEXANDRINE PARAKEET\\5.jpg'/></div>"
      ],
      "text/plain": [
       "<IPython.core.display.HTML object>"
      ]
     },
     "metadata": {},
     "output_type": "display_data"
    },
    {
     "name": "stdout",
     "output_type": "stream",
     "text": [
      "Drawing .\n"
     ]
    },
    {
     "data": {
      "text/html": [
       "<div class=\"zoom\"><img style='width: 100px; height: 100px; margin: 1px; float: left; border: 0px solid black;'title=['.'] src='dataset_birds\\valid\\ALPINE CHOUGH\\1.jpg'/></div><div class=\"zoom\"><img style='width: 100px; height: 100px; margin: 1px; float: left; border: 0px solid black;'title=['.'] src='dataset_birds\\valid\\ALPINE CHOUGH\\2.jpg'/></div><div class=\"zoom\"><img style='width: 100px; height: 100px; margin: 1px; float: left; border: 0px solid black;'title=['.'] src='dataset_birds\\valid\\ALPINE CHOUGH\\3.jpg'/></div><div class=\"zoom\"><img style='width: 100px; height: 100px; margin: 1px; float: left; border: 0px solid black;'title=['.'] src='dataset_birds\\valid\\ALPINE CHOUGH\\4.jpg'/></div><div class=\"zoom\"><img style='width: 100px; height: 100px; margin: 1px; float: left; border: 0px solid black;'title=['.'] src='dataset_birds\\valid\\ALPINE CHOUGH\\5.jpg'/></div>"
      ],
      "text/plain": [
       "<IPython.core.display.HTML object>"
      ]
     },
     "metadata": {},
     "output_type": "display_data"
    },
    {
     "name": "stdout",
     "output_type": "stream",
     "text": [
      "Drawing .\n"
     ]
    },
    {
     "data": {
      "text/html": [
       "<div class=\"zoom\"><img style='width: 100px; height: 100px; margin: 1px; float: left; border: 0px solid black;'title=['.'] src='dataset_birds\\valid\\ALTAMIRA YELLOWTHROAT\\1.jpg'/></div><div class=\"zoom\"><img style='width: 100px; height: 100px; margin: 1px; float: left; border: 0px solid black;'title=['.'] src='dataset_birds\\valid\\ALTAMIRA YELLOWTHROAT\\2.jpg'/></div><div class=\"zoom\"><img style='width: 100px; height: 100px; margin: 1px; float: left; border: 0px solid black;'title=['.'] src='dataset_birds\\valid\\ALTAMIRA YELLOWTHROAT\\3.jpg'/></div><div class=\"zoom\"><img style='width: 100px; height: 100px; margin: 1px; float: left; border: 0px solid black;'title=['.'] src='dataset_birds\\valid\\ALTAMIRA YELLOWTHROAT\\4.jpg'/></div><div class=\"zoom\"><img style='width: 100px; height: 100px; margin: 1px; float: left; border: 0px solid black;'title=['.'] src='dataset_birds\\valid\\ALTAMIRA YELLOWTHROAT\\5.jpg'/></div>"
      ],
      "text/plain": [
       "<IPython.core.display.HTML object>"
      ]
     },
     "metadata": {},
     "output_type": "display_data"
    },
    {
     "name": "stdout",
     "output_type": "stream",
     "text": [
      "Drawing .\n"
     ]
    },
    {
     "data": {
      "text/html": [
       "<div class=\"zoom\"><img style='width: 100px; height: 100px; margin: 1px; float: left; border: 0px solid black;'title=['.'] src='dataset_birds\\valid\\AMERICAN AVOCET\\1.jpg'/></div><div class=\"zoom\"><img style='width: 100px; height: 100px; margin: 1px; float: left; border: 0px solid black;'title=['.'] src='dataset_birds\\valid\\AMERICAN AVOCET\\2.jpg'/></div><div class=\"zoom\"><img style='width: 100px; height: 100px; margin: 1px; float: left; border: 0px solid black;'title=['.'] src='dataset_birds\\valid\\AMERICAN AVOCET\\3.jpg'/></div><div class=\"zoom\"><img style='width: 100px; height: 100px; margin: 1px; float: left; border: 0px solid black;'title=['.'] src='dataset_birds\\valid\\AMERICAN AVOCET\\4.jpg'/></div><div class=\"zoom\"><img style='width: 100px; height: 100px; margin: 1px; float: left; border: 0px solid black;'title=['.'] src='dataset_birds\\valid\\AMERICAN AVOCET\\5.jpg'/></div>"
      ],
      "text/plain": [
       "<IPython.core.display.HTML object>"
      ]
     },
     "metadata": {},
     "output_type": "display_data"
    },
    {
     "name": "stdout",
     "output_type": "stream",
     "text": [
      "Drawing .\n"
     ]
    },
    {
     "data": {
      "text/html": [
       "<div class=\"zoom\"><img style='width: 100px; height: 100px; margin: 1px; float: left; border: 0px solid black;'title=['.'] src='dataset_birds\\valid\\AMERICAN BITTERN\\1.jpg'/></div><div class=\"zoom\"><img style='width: 100px; height: 100px; margin: 1px; float: left; border: 0px solid black;'title=['.'] src='dataset_birds\\valid\\AMERICAN BITTERN\\2.jpg'/></div><div class=\"zoom\"><img style='width: 100px; height: 100px; margin: 1px; float: left; border: 0px solid black;'title=['.'] src='dataset_birds\\valid\\AMERICAN BITTERN\\3.jpg'/></div><div class=\"zoom\"><img style='width: 100px; height: 100px; margin: 1px; float: left; border: 0px solid black;'title=['.'] src='dataset_birds\\valid\\AMERICAN BITTERN\\4.jpg'/></div><div class=\"zoom\"><img style='width: 100px; height: 100px; margin: 1px; float: left; border: 0px solid black;'title=['.'] src='dataset_birds\\valid\\AMERICAN BITTERN\\5.jpg'/></div>"
      ],
      "text/plain": [
       "<IPython.core.display.HTML object>"
      ]
     },
     "metadata": {},
     "output_type": "display_data"
    },
    {
     "name": "stdout",
     "output_type": "stream",
     "text": [
      "Drawing .\n"
     ]
    },
    {
     "data": {
      "text/html": [
       "<div class=\"zoom\"><img style='width: 100px; height: 100px; margin: 1px; float: left; border: 0px solid black;'title=['.'] src='dataset_birds\\valid\\AMERICAN COOT\\1.jpg'/></div><div class=\"zoom\"><img style='width: 100px; height: 100px; margin: 1px; float: left; border: 0px solid black;'title=['.'] src='dataset_birds\\valid\\AMERICAN COOT\\2.jpg'/></div><div class=\"zoom\"><img style='width: 100px; height: 100px; margin: 1px; float: left; border: 0px solid black;'title=['.'] src='dataset_birds\\valid\\AMERICAN COOT\\3.jpg'/></div><div class=\"zoom\"><img style='width: 100px; height: 100px; margin: 1px; float: left; border: 0px solid black;'title=['.'] src='dataset_birds\\valid\\AMERICAN COOT\\4.jpg'/></div><div class=\"zoom\"><img style='width: 100px; height: 100px; margin: 1px; float: left; border: 0px solid black;'title=['.'] src='dataset_birds\\valid\\AMERICAN COOT\\5.jpg'/></div>"
      ],
      "text/plain": [
       "<IPython.core.display.HTML object>"
      ]
     },
     "metadata": {},
     "output_type": "display_data"
    },
    {
     "name": "stdout",
     "output_type": "stream",
     "text": [
      "Drawing .\n"
     ]
    },
    {
     "data": {
      "text/html": [
       "<div class=\"zoom\"><img style='width: 100px; height: 100px; margin: 1px; float: left; border: 0px solid black;'title=['.'] src='dataset_birds\\valid\\AMERICAN DIPPER\\1.jpg'/></div><div class=\"zoom\"><img style='width: 100px; height: 100px; margin: 1px; float: left; border: 0px solid black;'title=['.'] src='dataset_birds\\valid\\AMERICAN DIPPER\\2.jpg'/></div><div class=\"zoom\"><img style='width: 100px; height: 100px; margin: 1px; float: left; border: 0px solid black;'title=['.'] src='dataset_birds\\valid\\AMERICAN DIPPER\\3.jpg'/></div><div class=\"zoom\"><img style='width: 100px; height: 100px; margin: 1px; float: left; border: 0px solid black;'title=['.'] src='dataset_birds\\valid\\AMERICAN DIPPER\\4.jpg'/></div><div class=\"zoom\"><img style='width: 100px; height: 100px; margin: 1px; float: left; border: 0px solid black;'title=['.'] src='dataset_birds\\valid\\AMERICAN DIPPER\\5.jpg'/></div>"
      ],
      "text/plain": [
       "<IPython.core.display.HTML object>"
      ]
     },
     "metadata": {},
     "output_type": "display_data"
    },
    {
     "name": "stdout",
     "output_type": "stream",
     "text": [
      "Drawing .\n"
     ]
    },
    {
     "data": {
      "text/html": [
       "<div class=\"zoom\"><img style='width: 100px; height: 100px; margin: 1px; float: left; border: 0px solid black;'title=['.'] src='dataset_birds\\valid\\AMERICAN FLAMINGO\\1.jpg'/></div><div class=\"zoom\"><img style='width: 100px; height: 100px; margin: 1px; float: left; border: 0px solid black;'title=['.'] src='dataset_birds\\valid\\AMERICAN FLAMINGO\\2.jpg'/></div><div class=\"zoom\"><img style='width: 100px; height: 100px; margin: 1px; float: left; border: 0px solid black;'title=['.'] src='dataset_birds\\valid\\AMERICAN FLAMINGO\\3.jpg'/></div><div class=\"zoom\"><img style='width: 100px; height: 100px; margin: 1px; float: left; border: 0px solid black;'title=['.'] src='dataset_birds\\valid\\AMERICAN FLAMINGO\\4.jpg'/></div><div class=\"zoom\"><img style='width: 100px; height: 100px; margin: 1px; float: left; border: 0px solid black;'title=['.'] src='dataset_birds\\valid\\AMERICAN FLAMINGO\\5.jpg'/></div>"
      ],
      "text/plain": [
       "<IPython.core.display.HTML object>"
      ]
     },
     "metadata": {},
     "output_type": "display_data"
    },
    {
     "name": "stdout",
     "output_type": "stream",
     "text": [
      "Drawing .\n"
     ]
    },
    {
     "data": {
      "text/html": [
       "<div class=\"zoom\"><img style='width: 100px; height: 100px; margin: 1px; float: left; border: 0px solid black;'title=['.'] src='dataset_birds\\valid\\AMERICAN GOLDFINCH\\1.jpg'/></div><div class=\"zoom\"><img style='width: 100px; height: 100px; margin: 1px; float: left; border: 0px solid black;'title=['.'] src='dataset_birds\\valid\\AMERICAN GOLDFINCH\\2.jpg'/></div><div class=\"zoom\"><img style='width: 100px; height: 100px; margin: 1px; float: left; border: 0px solid black;'title=['.'] src='dataset_birds\\valid\\AMERICAN GOLDFINCH\\3.jpg'/></div><div class=\"zoom\"><img style='width: 100px; height: 100px; margin: 1px; float: left; border: 0px solid black;'title=['.'] src='dataset_birds\\valid\\AMERICAN GOLDFINCH\\4.jpg'/></div><div class=\"zoom\"><img style='width: 100px; height: 100px; margin: 1px; float: left; border: 0px solid black;'title=['.'] src='dataset_birds\\valid\\AMERICAN GOLDFINCH\\5.jpg'/></div>"
      ],
      "text/plain": [
       "<IPython.core.display.HTML object>"
      ]
     },
     "metadata": {},
     "output_type": "display_data"
    },
    {
     "name": "stdout",
     "output_type": "stream",
     "text": [
      "Drawing .\n"
     ]
    },
    {
     "data": {
      "text/html": [
       "<div class=\"zoom\"><img style='width: 100px; height: 100px; margin: 1px; float: left; border: 0px solid black;'title=['.'] src='dataset_birds\\valid\\AMERICAN KESTREL\\1.jpg'/></div><div class=\"zoom\"><img style='width: 100px; height: 100px; margin: 1px; float: left; border: 0px solid black;'title=['.'] src='dataset_birds\\valid\\AMERICAN KESTREL\\2.jpg'/></div><div class=\"zoom\"><img style='width: 100px; height: 100px; margin: 1px; float: left; border: 0px solid black;'title=['.'] src='dataset_birds\\valid\\AMERICAN KESTREL\\3.jpg'/></div><div class=\"zoom\"><img style='width: 100px; height: 100px; margin: 1px; float: left; border: 0px solid black;'title=['.'] src='dataset_birds\\valid\\AMERICAN KESTREL\\4.jpg'/></div><div class=\"zoom\"><img style='width: 100px; height: 100px; margin: 1px; float: left; border: 0px solid black;'title=['.'] src='dataset_birds\\valid\\AMERICAN KESTREL\\5.jpg'/></div>"
      ],
      "text/plain": [
       "<IPython.core.display.HTML object>"
      ]
     },
     "metadata": {},
     "output_type": "display_data"
    },
    {
     "name": "stdout",
     "output_type": "stream",
     "text": [
      "Drawing .\n"
     ]
    },
    {
     "data": {
      "text/html": [
       "<div class=\"zoom\"><img style='width: 100px; height: 100px; margin: 1px; float: left; border: 0px solid black;'title=['.'] src='dataset_birds\\valid\\AMERICAN PIPIT\\1.jpg'/></div><div class=\"zoom\"><img style='width: 100px; height: 100px; margin: 1px; float: left; border: 0px solid black;'title=['.'] src='dataset_birds\\valid\\AMERICAN PIPIT\\2.jpg'/></div><div class=\"zoom\"><img style='width: 100px; height: 100px; margin: 1px; float: left; border: 0px solid black;'title=['.'] src='dataset_birds\\valid\\AMERICAN PIPIT\\3.jpg'/></div><div class=\"zoom\"><img style='width: 100px; height: 100px; margin: 1px; float: left; border: 0px solid black;'title=['.'] src='dataset_birds\\valid\\AMERICAN PIPIT\\4.jpg'/></div><div class=\"zoom\"><img style='width: 100px; height: 100px; margin: 1px; float: left; border: 0px solid black;'title=['.'] src='dataset_birds\\valid\\AMERICAN PIPIT\\5.jpg'/></div>"
      ],
      "text/plain": [
       "<IPython.core.display.HTML object>"
      ]
     },
     "metadata": {},
     "output_type": "display_data"
    },
    {
     "name": "stdout",
     "output_type": "stream",
     "text": [
      "Drawing .\n"
     ]
    },
    {
     "data": {
      "text/html": [
       "<div class=\"zoom\"><img style='width: 100px; height: 100px; margin: 1px; float: left; border: 0px solid black;'title=['.'] src='dataset_birds\\valid\\AMERICAN REDSTART\\1.jpg'/></div><div class=\"zoom\"><img style='width: 100px; height: 100px; margin: 1px; float: left; border: 0px solid black;'title=['.'] src='dataset_birds\\valid\\AMERICAN REDSTART\\2.jpg'/></div><div class=\"zoom\"><img style='width: 100px; height: 100px; margin: 1px; float: left; border: 0px solid black;'title=['.'] src='dataset_birds\\valid\\AMERICAN REDSTART\\3.jpg'/></div><div class=\"zoom\"><img style='width: 100px; height: 100px; margin: 1px; float: left; border: 0px solid black;'title=['.'] src='dataset_birds\\valid\\AMERICAN REDSTART\\4.jpg'/></div><div class=\"zoom\"><img style='width: 100px; height: 100px; margin: 1px; float: left; border: 0px solid black;'title=['.'] src='dataset_birds\\valid\\AMERICAN REDSTART\\5.jpg'/></div>"
      ],
      "text/plain": [
       "<IPython.core.display.HTML object>"
      ]
     },
     "metadata": {},
     "output_type": "display_data"
    },
    {
     "name": "stdout",
     "output_type": "stream",
     "text": [
      "Drawing .\n"
     ]
    },
    {
     "data": {
      "text/html": [
       "<div class=\"zoom\"><img style='width: 100px; height: 100px; margin: 1px; float: left; border: 0px solid black;'title=['.'] src='dataset_birds\\valid\\AMERICAN ROBIN\\1.jpg'/></div><div class=\"zoom\"><img style='width: 100px; height: 100px; margin: 1px; float: left; border: 0px solid black;'title=['.'] src='dataset_birds\\valid\\AMERICAN ROBIN\\2.jpg'/></div><div class=\"zoom\"><img style='width: 100px; height: 100px; margin: 1px; float: left; border: 0px solid black;'title=['.'] src='dataset_birds\\valid\\AMERICAN ROBIN\\3.jpg'/></div><div class=\"zoom\"><img style='width: 100px; height: 100px; margin: 1px; float: left; border: 0px solid black;'title=['.'] src='dataset_birds\\valid\\AMERICAN ROBIN\\4.jpg'/></div><div class=\"zoom\"><img style='width: 100px; height: 100px; margin: 1px; float: left; border: 0px solid black;'title=['.'] src='dataset_birds\\valid\\AMERICAN ROBIN\\5.jpg'/></div>"
      ],
      "text/plain": [
       "<IPython.core.display.HTML object>"
      ]
     },
     "metadata": {},
     "output_type": "display_data"
    },
    {
     "name": "stdout",
     "output_type": "stream",
     "text": [
      "Drawing .\n"
     ]
    },
    {
     "data": {
      "text/html": [
       "<div class=\"zoom\"><img style='width: 100px; height: 100px; margin: 1px; float: left; border: 0px solid black;'title=['.'] src='dataset_birds\\valid\\AMERICAN WIGEON\\1.jpg'/></div><div class=\"zoom\"><img style='width: 100px; height: 100px; margin: 1px; float: left; border: 0px solid black;'title=['.'] src='dataset_birds\\valid\\AMERICAN WIGEON\\2.jpg'/></div><div class=\"zoom\"><img style='width: 100px; height: 100px; margin: 1px; float: left; border: 0px solid black;'title=['.'] src='dataset_birds\\valid\\AMERICAN WIGEON\\3.jpg'/></div><div class=\"zoom\"><img style='width: 100px; height: 100px; margin: 1px; float: left; border: 0px solid black;'title=['.'] src='dataset_birds\\valid\\AMERICAN WIGEON\\4.jpg'/></div><div class=\"zoom\"><img style='width: 100px; height: 100px; margin: 1px; float: left; border: 0px solid black;'title=['.'] src='dataset_birds\\valid\\AMERICAN WIGEON\\5.jpg'/></div>"
      ],
      "text/plain": [
       "<IPython.core.display.HTML object>"
      ]
     },
     "metadata": {},
     "output_type": "display_data"
    },
    {
     "name": "stdout",
     "output_type": "stream",
     "text": [
      "Drawing .\n"
     ]
    },
    {
     "data": {
      "text/html": [
       "<div class=\"zoom\"><img style='width: 100px; height: 100px; margin: 1px; float: left; border: 0px solid black;'title=['.'] src='dataset_birds\\valid\\AMETHYST WOODSTAR\\1.jpg'/></div><div class=\"zoom\"><img style='width: 100px; height: 100px; margin: 1px; float: left; border: 0px solid black;'title=['.'] src='dataset_birds\\valid\\AMETHYST WOODSTAR\\2.jpg'/></div><div class=\"zoom\"><img style='width: 100px; height: 100px; margin: 1px; float: left; border: 0px solid black;'title=['.'] src='dataset_birds\\valid\\AMETHYST WOODSTAR\\3.jpg'/></div><div class=\"zoom\"><img style='width: 100px; height: 100px; margin: 1px; float: left; border: 0px solid black;'title=['.'] src='dataset_birds\\valid\\AMETHYST WOODSTAR\\4.jpg'/></div><div class=\"zoom\"><img style='width: 100px; height: 100px; margin: 1px; float: left; border: 0px solid black;'title=['.'] src='dataset_birds\\valid\\AMETHYST WOODSTAR\\5.jpg'/></div>"
      ],
      "text/plain": [
       "<IPython.core.display.HTML object>"
      ]
     },
     "metadata": {},
     "output_type": "display_data"
    },
    {
     "name": "stdout",
     "output_type": "stream",
     "text": [
      "Drawing .\n"
     ]
    },
    {
     "data": {
      "text/html": [
       "<div class=\"zoom\"><img style='width: 100px; height: 100px; margin: 1px; float: left; border: 0px solid black;'title=['.'] src='dataset_birds\\valid\\ANDEAN GOOSE\\1.jpg'/></div><div class=\"zoom\"><img style='width: 100px; height: 100px; margin: 1px; float: left; border: 0px solid black;'title=['.'] src='dataset_birds\\valid\\ANDEAN GOOSE\\2.jpg'/></div><div class=\"zoom\"><img style='width: 100px; height: 100px; margin: 1px; float: left; border: 0px solid black;'title=['.'] src='dataset_birds\\valid\\ANDEAN GOOSE\\3.jpg'/></div><div class=\"zoom\"><img style='width: 100px; height: 100px; margin: 1px; float: left; border: 0px solid black;'title=['.'] src='dataset_birds\\valid\\ANDEAN GOOSE\\4.jpg'/></div><div class=\"zoom\"><img style='width: 100px; height: 100px; margin: 1px; float: left; border: 0px solid black;'title=['.'] src='dataset_birds\\valid\\ANDEAN GOOSE\\5.jpg'/></div>"
      ],
      "text/plain": [
       "<IPython.core.display.HTML object>"
      ]
     },
     "metadata": {},
     "output_type": "display_data"
    },
    {
     "name": "stdout",
     "output_type": "stream",
     "text": [
      "Drawing .\n"
     ]
    },
    {
     "data": {
      "text/html": [
       "<div class=\"zoom\"><img style='width: 100px; height: 100px; margin: 1px; float: left; border: 0px solid black;'title=['.'] src='dataset_birds\\valid\\ANDEAN LAPWING\\1.jpg'/></div><div class=\"zoom\"><img style='width: 100px; height: 100px; margin: 1px; float: left; border: 0px solid black;'title=['.'] src='dataset_birds\\valid\\ANDEAN LAPWING\\2.jpg'/></div><div class=\"zoom\"><img style='width: 100px; height: 100px; margin: 1px; float: left; border: 0px solid black;'title=['.'] src='dataset_birds\\valid\\ANDEAN LAPWING\\3.jpg'/></div><div class=\"zoom\"><img style='width: 100px; height: 100px; margin: 1px; float: left; border: 0px solid black;'title=['.'] src='dataset_birds\\valid\\ANDEAN LAPWING\\4.jpg'/></div><div class=\"zoom\"><img style='width: 100px; height: 100px; margin: 1px; float: left; border: 0px solid black;'title=['.'] src='dataset_birds\\valid\\ANDEAN LAPWING\\5.jpg'/></div>"
      ],
      "text/plain": [
       "<IPython.core.display.HTML object>"
      ]
     },
     "metadata": {},
     "output_type": "display_data"
    },
    {
     "name": "stdout",
     "output_type": "stream",
     "text": [
      "Drawing .\n"
     ]
    },
    {
     "data": {
      "text/html": [
       "<div class=\"zoom\"><img style='width: 100px; height: 100px; margin: 1px; float: left; border: 0px solid black;'title=['.'] src='dataset_birds\\valid\\ANDEAN SISKIN\\1.jpg'/></div><div class=\"zoom\"><img style='width: 100px; height: 100px; margin: 1px; float: left; border: 0px solid black;'title=['.'] src='dataset_birds\\valid\\ANDEAN SISKIN\\2.jpg'/></div><div class=\"zoom\"><img style='width: 100px; height: 100px; margin: 1px; float: left; border: 0px solid black;'title=['.'] src='dataset_birds\\valid\\ANDEAN SISKIN\\3.jpg'/></div><div class=\"zoom\"><img style='width: 100px; height: 100px; margin: 1px; float: left; border: 0px solid black;'title=['.'] src='dataset_birds\\valid\\ANDEAN SISKIN\\4.jpg'/></div><div class=\"zoom\"><img style='width: 100px; height: 100px; margin: 1px; float: left; border: 0px solid black;'title=['.'] src='dataset_birds\\valid\\ANDEAN SISKIN\\5.jpg'/></div>"
      ],
      "text/plain": [
       "<IPython.core.display.HTML object>"
      ]
     },
     "metadata": {},
     "output_type": "display_data"
    },
    {
     "name": "stdout",
     "output_type": "stream",
     "text": [
      "Drawing .\n"
     ]
    },
    {
     "data": {
      "text/html": [
       "<div class=\"zoom\"><img style='width: 100px; height: 100px; margin: 1px; float: left; border: 0px solid black;'title=['.'] src='dataset_birds\\valid\\ANHINGA\\1.jpg'/></div><div class=\"zoom\"><img style='width: 100px; height: 100px; margin: 1px; float: left; border: 0px solid black;'title=['.'] src='dataset_birds\\valid\\ANHINGA\\2.jpg'/></div><div class=\"zoom\"><img style='width: 100px; height: 100px; margin: 1px; float: left; border: 0px solid black;'title=['.'] src='dataset_birds\\valid\\ANHINGA\\3.jpg'/></div><div class=\"zoom\"><img style='width: 100px; height: 100px; margin: 1px; float: left; border: 0px solid black;'title=['.'] src='dataset_birds\\valid\\ANHINGA\\4.jpg'/></div><div class=\"zoom\"><img style='width: 100px; height: 100px; margin: 1px; float: left; border: 0px solid black;'title=['.'] src='dataset_birds\\valid\\ANHINGA\\5.jpg'/></div>"
      ],
      "text/plain": [
       "<IPython.core.display.HTML object>"
      ]
     },
     "metadata": {},
     "output_type": "display_data"
    },
    {
     "name": "stdout",
     "output_type": "stream",
     "text": [
      "Drawing .\n"
     ]
    },
    {
     "data": {
      "text/html": [
       "<div class=\"zoom\"><img style='width: 100px; height: 100px; margin: 1px; float: left; border: 0px solid black;'title=['.'] src='dataset_birds\\valid\\ANIANIAU\\1.jpg'/></div><div class=\"zoom\"><img style='width: 100px; height: 100px; margin: 1px; float: left; border: 0px solid black;'title=['.'] src='dataset_birds\\valid\\ANIANIAU\\2.jpg'/></div><div class=\"zoom\"><img style='width: 100px; height: 100px; margin: 1px; float: left; border: 0px solid black;'title=['.'] src='dataset_birds\\valid\\ANIANIAU\\3.jpg'/></div><div class=\"zoom\"><img style='width: 100px; height: 100px; margin: 1px; float: left; border: 0px solid black;'title=['.'] src='dataset_birds\\valid\\ANIANIAU\\4.jpg'/></div><div class=\"zoom\"><img style='width: 100px; height: 100px; margin: 1px; float: left; border: 0px solid black;'title=['.'] src='dataset_birds\\valid\\ANIANIAU\\5.jpg'/></div>"
      ],
      "text/plain": [
       "<IPython.core.display.HTML object>"
      ]
     },
     "metadata": {},
     "output_type": "display_data"
    },
    {
     "name": "stdout",
     "output_type": "stream",
     "text": [
      "Drawing .\n"
     ]
    },
    {
     "data": {
      "text/html": [
       "<div class=\"zoom\"><img style='width: 100px; height: 100px; margin: 1px; float: left; border: 0px solid black;'title=['.'] src='dataset_birds\\valid\\ANNAS HUMMINGBIRD\\1.jpg'/></div><div class=\"zoom\"><img style='width: 100px; height: 100px; margin: 1px; float: left; border: 0px solid black;'title=['.'] src='dataset_birds\\valid\\ANNAS HUMMINGBIRD\\2.jpg'/></div><div class=\"zoom\"><img style='width: 100px; height: 100px; margin: 1px; float: left; border: 0px solid black;'title=['.'] src='dataset_birds\\valid\\ANNAS HUMMINGBIRD\\3.jpg'/></div><div class=\"zoom\"><img style='width: 100px; height: 100px; margin: 1px; float: left; border: 0px solid black;'title=['.'] src='dataset_birds\\valid\\ANNAS HUMMINGBIRD\\4.jpg'/></div><div class=\"zoom\"><img style='width: 100px; height: 100px; margin: 1px; float: left; border: 0px solid black;'title=['.'] src='dataset_birds\\valid\\ANNAS HUMMINGBIRD\\5.jpg'/></div>"
      ],
      "text/plain": [
       "<IPython.core.display.HTML object>"
      ]
     },
     "metadata": {},
     "output_type": "display_data"
    },
    {
     "name": "stdout",
     "output_type": "stream",
     "text": [
      "Drawing .\n"
     ]
    },
    {
     "data": {
      "text/html": [
       "<div class=\"zoom\"><img style='width: 100px; height: 100px; margin: 1px; float: left; border: 0px solid black;'title=['.'] src='dataset_birds\\valid\\ANTBIRD\\1.jpg'/></div><div class=\"zoom\"><img style='width: 100px; height: 100px; margin: 1px; float: left; border: 0px solid black;'title=['.'] src='dataset_birds\\valid\\ANTBIRD\\2.jpg'/></div><div class=\"zoom\"><img style='width: 100px; height: 100px; margin: 1px; float: left; border: 0px solid black;'title=['.'] src='dataset_birds\\valid\\ANTBIRD\\3.jpg'/></div><div class=\"zoom\"><img style='width: 100px; height: 100px; margin: 1px; float: left; border: 0px solid black;'title=['.'] src='dataset_birds\\valid\\ANTBIRD\\4.jpg'/></div><div class=\"zoom\"><img style='width: 100px; height: 100px; margin: 1px; float: left; border: 0px solid black;'title=['.'] src='dataset_birds\\valid\\ANTBIRD\\5.jpg'/></div>"
      ],
      "text/plain": [
       "<IPython.core.display.HTML object>"
      ]
     },
     "metadata": {},
     "output_type": "display_data"
    },
    {
     "name": "stdout",
     "output_type": "stream",
     "text": [
      "Drawing .\n"
     ]
    },
    {
     "data": {
      "text/html": [
       "<div class=\"zoom\"><img style='width: 100px; height: 100px; margin: 1px; float: left; border: 0px solid black;'title=['.'] src='dataset_birds\\valid\\ANTILLEAN EUPHONIA\\1.jpg'/></div><div class=\"zoom\"><img style='width: 100px; height: 100px; margin: 1px; float: left; border: 0px solid black;'title=['.'] src='dataset_birds\\valid\\ANTILLEAN EUPHONIA\\2.jpg'/></div><div class=\"zoom\"><img style='width: 100px; height: 100px; margin: 1px; float: left; border: 0px solid black;'title=['.'] src='dataset_birds\\valid\\ANTILLEAN EUPHONIA\\3.jpg'/></div><div class=\"zoom\"><img style='width: 100px; height: 100px; margin: 1px; float: left; border: 0px solid black;'title=['.'] src='dataset_birds\\valid\\ANTILLEAN EUPHONIA\\4.jpg'/></div><div class=\"zoom\"><img style='width: 100px; height: 100px; margin: 1px; float: left; border: 0px solid black;'title=['.'] src='dataset_birds\\valid\\ANTILLEAN EUPHONIA\\5.jpg'/></div>"
      ],
      "text/plain": [
       "<IPython.core.display.HTML object>"
      ]
     },
     "metadata": {},
     "output_type": "display_data"
    },
    {
     "name": "stdout",
     "output_type": "stream",
     "text": [
      "Drawing .\n"
     ]
    },
    {
     "data": {
      "text/html": [
       "<div class=\"zoom\"><img style='width: 100px; height: 100px; margin: 1px; float: left; border: 0px solid black;'title=['.'] src='dataset_birds\\valid\\APAPANE\\1.jpg'/></div><div class=\"zoom\"><img style='width: 100px; height: 100px; margin: 1px; float: left; border: 0px solid black;'title=['.'] src='dataset_birds\\valid\\APAPANE\\2.jpg'/></div><div class=\"zoom\"><img style='width: 100px; height: 100px; margin: 1px; float: left; border: 0px solid black;'title=['.'] src='dataset_birds\\valid\\APAPANE\\3.jpg'/></div><div class=\"zoom\"><img style='width: 100px; height: 100px; margin: 1px; float: left; border: 0px solid black;'title=['.'] src='dataset_birds\\valid\\APAPANE\\4.jpg'/></div><div class=\"zoom\"><img style='width: 100px; height: 100px; margin: 1px; float: left; border: 0px solid black;'title=['.'] src='dataset_birds\\valid\\APAPANE\\5.jpg'/></div>"
      ],
      "text/plain": [
       "<IPython.core.display.HTML object>"
      ]
     },
     "metadata": {},
     "output_type": "display_data"
    },
    {
     "name": "stdout",
     "output_type": "stream",
     "text": [
      "Drawing .\n"
     ]
    },
    {
     "data": {
      "text/html": [
       "<div class=\"zoom\"><img style='width: 100px; height: 100px; margin: 1px; float: left; border: 0px solid black;'title=['.'] src='dataset_birds\\valid\\APOSTLEBIRD\\1.jpg'/></div><div class=\"zoom\"><img style='width: 100px; height: 100px; margin: 1px; float: left; border: 0px solid black;'title=['.'] src='dataset_birds\\valid\\APOSTLEBIRD\\2.jpg'/></div><div class=\"zoom\"><img style='width: 100px; height: 100px; margin: 1px; float: left; border: 0px solid black;'title=['.'] src='dataset_birds\\valid\\APOSTLEBIRD\\3.jpg'/></div><div class=\"zoom\"><img style='width: 100px; height: 100px; margin: 1px; float: left; border: 0px solid black;'title=['.'] src='dataset_birds\\valid\\APOSTLEBIRD\\4.jpg'/></div><div class=\"zoom\"><img style='width: 100px; height: 100px; margin: 1px; float: left; border: 0px solid black;'title=['.'] src='dataset_birds\\valid\\APOSTLEBIRD\\5.jpg'/></div>"
      ],
      "text/plain": [
       "<IPython.core.display.HTML object>"
      ]
     },
     "metadata": {},
     "output_type": "display_data"
    },
    {
     "name": "stdout",
     "output_type": "stream",
     "text": [
      "Drawing .\n"
     ]
    },
    {
     "data": {
      "text/html": [
       "<div class=\"zoom\"><img style='width: 100px; height: 100px; margin: 1px; float: left; border: 0px solid black;'title=['.'] src='dataset_birds\\valid\\ARARIPE MANAKIN\\1.jpg'/></div><div class=\"zoom\"><img style='width: 100px; height: 100px; margin: 1px; float: left; border: 0px solid black;'title=['.'] src='dataset_birds\\valid\\ARARIPE MANAKIN\\2.jpg'/></div><div class=\"zoom\"><img style='width: 100px; height: 100px; margin: 1px; float: left; border: 0px solid black;'title=['.'] src='dataset_birds\\valid\\ARARIPE MANAKIN\\3.jpg'/></div><div class=\"zoom\"><img style='width: 100px; height: 100px; margin: 1px; float: left; border: 0px solid black;'title=['.'] src='dataset_birds\\valid\\ARARIPE MANAKIN\\4.jpg'/></div><div class=\"zoom\"><img style='width: 100px; height: 100px; margin: 1px; float: left; border: 0px solid black;'title=['.'] src='dataset_birds\\valid\\ARARIPE MANAKIN\\5.jpg'/></div>"
      ],
      "text/plain": [
       "<IPython.core.display.HTML object>"
      ]
     },
     "metadata": {},
     "output_type": "display_data"
    },
    {
     "name": "stdout",
     "output_type": "stream",
     "text": [
      "Drawing .\n"
     ]
    },
    {
     "data": {
      "text/html": [
       "<div class=\"zoom\"><img style='width: 100px; height: 100px; margin: 1px; float: left; border: 0px solid black;'title=['.'] src='dataset_birds\\valid\\ASHY STORM PETREL\\1.jpg'/></div><div class=\"zoom\"><img style='width: 100px; height: 100px; margin: 1px; float: left; border: 0px solid black;'title=['.'] src='dataset_birds\\valid\\ASHY STORM PETREL\\2.jpg'/></div><div class=\"zoom\"><img style='width: 100px; height: 100px; margin: 1px; float: left; border: 0px solid black;'title=['.'] src='dataset_birds\\valid\\ASHY STORM PETREL\\3.jpg'/></div><div class=\"zoom\"><img style='width: 100px; height: 100px; margin: 1px; float: left; border: 0px solid black;'title=['.'] src='dataset_birds\\valid\\ASHY STORM PETREL\\4.jpg'/></div><div class=\"zoom\"><img style='width: 100px; height: 100px; margin: 1px; float: left; border: 0px solid black;'title=['.'] src='dataset_birds\\valid\\ASHY STORM PETREL\\5.jpg'/></div>"
      ],
      "text/plain": [
       "<IPython.core.display.HTML object>"
      ]
     },
     "metadata": {},
     "output_type": "display_data"
    },
    {
     "name": "stdout",
     "output_type": "stream",
     "text": [
      "Drawing .\n"
     ]
    },
    {
     "data": {
      "text/html": [
       "<div class=\"zoom\"><img style='width: 100px; height: 100px; margin: 1px; float: left; border: 0px solid black;'title=['.'] src='dataset_birds\\valid\\ASHY THRUSHBIRD\\1.jpg'/></div><div class=\"zoom\"><img style='width: 100px; height: 100px; margin: 1px; float: left; border: 0px solid black;'title=['.'] src='dataset_birds\\valid\\ASHY THRUSHBIRD\\2.jpg'/></div><div class=\"zoom\"><img style='width: 100px; height: 100px; margin: 1px; float: left; border: 0px solid black;'title=['.'] src='dataset_birds\\valid\\ASHY THRUSHBIRD\\3.jpg'/></div><div class=\"zoom\"><img style='width: 100px; height: 100px; margin: 1px; float: left; border: 0px solid black;'title=['.'] src='dataset_birds\\valid\\ASHY THRUSHBIRD\\4.jpg'/></div><div class=\"zoom\"><img style='width: 100px; height: 100px; margin: 1px; float: left; border: 0px solid black;'title=['.'] src='dataset_birds\\valid\\ASHY THRUSHBIRD\\5.jpg'/></div>"
      ],
      "text/plain": [
       "<IPython.core.display.HTML object>"
      ]
     },
     "metadata": {},
     "output_type": "display_data"
    },
    {
     "name": "stdout",
     "output_type": "stream",
     "text": [
      "Drawing .\n"
     ]
    },
    {
     "data": {
      "text/html": [
       "<div class=\"zoom\"><img style='width: 100px; height: 100px; margin: 1px; float: left; border: 0px solid black;'title=['.'] src='dataset_birds\\valid\\ASIAN CRESTED IBIS\\1.jpg'/></div><div class=\"zoom\"><img style='width: 100px; height: 100px; margin: 1px; float: left; border: 0px solid black;'title=['.'] src='dataset_birds\\valid\\ASIAN CRESTED IBIS\\2.jpg'/></div><div class=\"zoom\"><img style='width: 100px; height: 100px; margin: 1px; float: left; border: 0px solid black;'title=['.'] src='dataset_birds\\valid\\ASIAN CRESTED IBIS\\3.jpg'/></div><div class=\"zoom\"><img style='width: 100px; height: 100px; margin: 1px; float: left; border: 0px solid black;'title=['.'] src='dataset_birds\\valid\\ASIAN CRESTED IBIS\\4.jpg'/></div><div class=\"zoom\"><img style='width: 100px; height: 100px; margin: 1px; float: left; border: 0px solid black;'title=['.'] src='dataset_birds\\valid\\ASIAN CRESTED IBIS\\5.jpg'/></div>"
      ],
      "text/plain": [
       "<IPython.core.display.HTML object>"
      ]
     },
     "metadata": {},
     "output_type": "display_data"
    },
    {
     "name": "stdout",
     "output_type": "stream",
     "text": [
      "Drawing .\n"
     ]
    },
    {
     "data": {
      "text/html": [
       "<div class=\"zoom\"><img style='width: 100px; height: 100px; margin: 1px; float: left; border: 0px solid black;'title=['.'] src='dataset_birds\\valid\\ASIAN DOLLARD BIRD\\1.jpg'/></div><div class=\"zoom\"><img style='width: 100px; height: 100px; margin: 1px; float: left; border: 0px solid black;'title=['.'] src='dataset_birds\\valid\\ASIAN DOLLARD BIRD\\2.jpg'/></div><div class=\"zoom\"><img style='width: 100px; height: 100px; margin: 1px; float: left; border: 0px solid black;'title=['.'] src='dataset_birds\\valid\\ASIAN DOLLARD BIRD\\3.jpg'/></div><div class=\"zoom\"><img style='width: 100px; height: 100px; margin: 1px; float: left; border: 0px solid black;'title=['.'] src='dataset_birds\\valid\\ASIAN DOLLARD BIRD\\4.jpg'/></div><div class=\"zoom\"><img style='width: 100px; height: 100px; margin: 1px; float: left; border: 0px solid black;'title=['.'] src='dataset_birds\\valid\\ASIAN DOLLARD BIRD\\5.jpg'/></div>"
      ],
      "text/plain": [
       "<IPython.core.display.HTML object>"
      ]
     },
     "metadata": {},
     "output_type": "display_data"
    },
    {
     "name": "stdout",
     "output_type": "stream",
     "text": [
      "Drawing .\n"
     ]
    },
    {
     "data": {
      "text/html": [
       "<div class=\"zoom\"><img style='width: 100px; height: 100px; margin: 1px; float: left; border: 0px solid black;'title=['.'] src='dataset_birds\\valid\\ASIAN GREEN BEE EATER\\1.jpg'/></div><div class=\"zoom\"><img style='width: 100px; height: 100px; margin: 1px; float: left; border: 0px solid black;'title=['.'] src='dataset_birds\\valid\\ASIAN GREEN BEE EATER\\2.jpg'/></div><div class=\"zoom\"><img style='width: 100px; height: 100px; margin: 1px; float: left; border: 0px solid black;'title=['.'] src='dataset_birds\\valid\\ASIAN GREEN BEE EATER\\3.jpg'/></div><div class=\"zoom\"><img style='width: 100px; height: 100px; margin: 1px; float: left; border: 0px solid black;'title=['.'] src='dataset_birds\\valid\\ASIAN GREEN BEE EATER\\4.jpg'/></div><div class=\"zoom\"><img style='width: 100px; height: 100px; margin: 1px; float: left; border: 0px solid black;'title=['.'] src='dataset_birds\\valid\\ASIAN GREEN BEE EATER\\5.jpg'/></div>"
      ],
      "text/plain": [
       "<IPython.core.display.HTML object>"
      ]
     },
     "metadata": {},
     "output_type": "display_data"
    },
    {
     "name": "stdout",
     "output_type": "stream",
     "text": [
      "Drawing .\n"
     ]
    },
    {
     "data": {
      "text/html": [
       "<div class=\"zoom\"><img style='width: 100px; height: 100px; margin: 1px; float: left; border: 0px solid black;'title=['.'] src='dataset_birds\\valid\\ASIAN OPENBILL STORK\\1.jpg'/></div><div class=\"zoom\"><img style='width: 100px; height: 100px; margin: 1px; float: left; border: 0px solid black;'title=['.'] src='dataset_birds\\valid\\ASIAN OPENBILL STORK\\2.jpg'/></div><div class=\"zoom\"><img style='width: 100px; height: 100px; margin: 1px; float: left; border: 0px solid black;'title=['.'] src='dataset_birds\\valid\\ASIAN OPENBILL STORK\\3.jpg'/></div><div class=\"zoom\"><img style='width: 100px; height: 100px; margin: 1px; float: left; border: 0px solid black;'title=['.'] src='dataset_birds\\valid\\ASIAN OPENBILL STORK\\4.jpg'/></div><div class=\"zoom\"><img style='width: 100px; height: 100px; margin: 1px; float: left; border: 0px solid black;'title=['.'] src='dataset_birds\\valid\\ASIAN OPENBILL STORK\\5.jpg'/></div>"
      ],
      "text/plain": [
       "<IPython.core.display.HTML object>"
      ]
     },
     "metadata": {},
     "output_type": "display_data"
    },
    {
     "name": "stdout",
     "output_type": "stream",
     "text": [
      "Drawing .\n"
     ]
    },
    {
     "data": {
      "text/html": [
       "<div class=\"zoom\"><img style='width: 100px; height: 100px; margin: 1px; float: left; border: 0px solid black;'title=['.'] src='dataset_birds\\valid\\AUCKLAND SHAQ\\1.jpg'/></div><div class=\"zoom\"><img style='width: 100px; height: 100px; margin: 1px; float: left; border: 0px solid black;'title=['.'] src='dataset_birds\\valid\\AUCKLAND SHAQ\\2.jpg'/></div><div class=\"zoom\"><img style='width: 100px; height: 100px; margin: 1px; float: left; border: 0px solid black;'title=['.'] src='dataset_birds\\valid\\AUCKLAND SHAQ\\3.jpg'/></div><div class=\"zoom\"><img style='width: 100px; height: 100px; margin: 1px; float: left; border: 0px solid black;'title=['.'] src='dataset_birds\\valid\\AUCKLAND SHAQ\\4.jpg'/></div><div class=\"zoom\"><img style='width: 100px; height: 100px; margin: 1px; float: left; border: 0px solid black;'title=['.'] src='dataset_birds\\valid\\AUCKLAND SHAQ\\5.jpg'/></div>"
      ],
      "text/plain": [
       "<IPython.core.display.HTML object>"
      ]
     },
     "metadata": {},
     "output_type": "display_data"
    },
    {
     "name": "stdout",
     "output_type": "stream",
     "text": [
      "Drawing .\n"
     ]
    },
    {
     "data": {
      "text/html": [
       "<div class=\"zoom\"><img style='width: 100px; height: 100px; margin: 1px; float: left; border: 0px solid black;'title=['.'] src='dataset_birds\\valid\\AUSTRAL CANASTERO\\1.jpg'/></div><div class=\"zoom\"><img style='width: 100px; height: 100px; margin: 1px; float: left; border: 0px solid black;'title=['.'] src='dataset_birds\\valid\\AUSTRAL CANASTERO\\2.jpg'/></div><div class=\"zoom\"><img style='width: 100px; height: 100px; margin: 1px; float: left; border: 0px solid black;'title=['.'] src='dataset_birds\\valid\\AUSTRAL CANASTERO\\3.jpg'/></div><div class=\"zoom\"><img style='width: 100px; height: 100px; margin: 1px; float: left; border: 0px solid black;'title=['.'] src='dataset_birds\\valid\\AUSTRAL CANASTERO\\4.jpg'/></div><div class=\"zoom\"><img style='width: 100px; height: 100px; margin: 1px; float: left; border: 0px solid black;'title=['.'] src='dataset_birds\\valid\\AUSTRAL CANASTERO\\5.jpg'/></div>"
      ],
      "text/plain": [
       "<IPython.core.display.HTML object>"
      ]
     },
     "metadata": {},
     "output_type": "display_data"
    },
    {
     "name": "stdout",
     "output_type": "stream",
     "text": [
      "Drawing .\n"
     ]
    },
    {
     "data": {
      "text/html": [
       "<div class=\"zoom\"><img style='width: 100px; height: 100px; margin: 1px; float: left; border: 0px solid black;'title=['.'] src='dataset_birds\\valid\\AUSTRALASIAN FIGBIRD\\1.jpg'/></div><div class=\"zoom\"><img style='width: 100px; height: 100px; margin: 1px; float: left; border: 0px solid black;'title=['.'] src='dataset_birds\\valid\\AUSTRALASIAN FIGBIRD\\2.jpg'/></div><div class=\"zoom\"><img style='width: 100px; height: 100px; margin: 1px; float: left; border: 0px solid black;'title=['.'] src='dataset_birds\\valid\\AUSTRALASIAN FIGBIRD\\3.jpg'/></div><div class=\"zoom\"><img style='width: 100px; height: 100px; margin: 1px; float: left; border: 0px solid black;'title=['.'] src='dataset_birds\\valid\\AUSTRALASIAN FIGBIRD\\4.jpg'/></div><div class=\"zoom\"><img style='width: 100px; height: 100px; margin: 1px; float: left; border: 0px solid black;'title=['.'] src='dataset_birds\\valid\\AUSTRALASIAN FIGBIRD\\5.jpg'/></div>"
      ],
      "text/plain": [
       "<IPython.core.display.HTML object>"
      ]
     },
     "metadata": {},
     "output_type": "display_data"
    },
    {
     "name": "stdout",
     "output_type": "stream",
     "text": [
      "Drawing .\n"
     ]
    },
    {
     "data": {
      "text/html": [
       "<div class=\"zoom\"><img style='width: 100px; height: 100px; margin: 1px; float: left; border: 0px solid black;'title=['.'] src='dataset_birds\\valid\\AVADAVAT\\1.jpg'/></div><div class=\"zoom\"><img style='width: 100px; height: 100px; margin: 1px; float: left; border: 0px solid black;'title=['.'] src='dataset_birds\\valid\\AVADAVAT\\2.jpg'/></div><div class=\"zoom\"><img style='width: 100px; height: 100px; margin: 1px; float: left; border: 0px solid black;'title=['.'] src='dataset_birds\\valid\\AVADAVAT\\3.jpg'/></div><div class=\"zoom\"><img style='width: 100px; height: 100px; margin: 1px; float: left; border: 0px solid black;'title=['.'] src='dataset_birds\\valid\\AVADAVAT\\4.jpg'/></div><div class=\"zoom\"><img style='width: 100px; height: 100px; margin: 1px; float: left; border: 0px solid black;'title=['.'] src='dataset_birds\\valid\\AVADAVAT\\5.jpg'/></div>"
      ],
      "text/plain": [
       "<IPython.core.display.HTML object>"
      ]
     },
     "metadata": {},
     "output_type": "display_data"
    },
    {
     "name": "stdout",
     "output_type": "stream",
     "text": [
      "Drawing .\n"
     ]
    },
    {
     "data": {
      "text/html": [
       "<div class=\"zoom\"><img style='width: 100px; height: 100px; margin: 1px; float: left; border: 0px solid black;'title=['.'] src='dataset_birds\\valid\\AZARAS SPINETAIL\\1.jpg'/></div><div class=\"zoom\"><img style='width: 100px; height: 100px; margin: 1px; float: left; border: 0px solid black;'title=['.'] src='dataset_birds\\valid\\AZARAS SPINETAIL\\2.jpg'/></div><div class=\"zoom\"><img style='width: 100px; height: 100px; margin: 1px; float: left; border: 0px solid black;'title=['.'] src='dataset_birds\\valid\\AZARAS SPINETAIL\\3.jpg'/></div><div class=\"zoom\"><img style='width: 100px; height: 100px; margin: 1px; float: left; border: 0px solid black;'title=['.'] src='dataset_birds\\valid\\AZARAS SPINETAIL\\4.jpg'/></div><div class=\"zoom\"><img style='width: 100px; height: 100px; margin: 1px; float: left; border: 0px solid black;'title=['.'] src='dataset_birds\\valid\\AZARAS SPINETAIL\\5.jpg'/></div>"
      ],
      "text/plain": [
       "<IPython.core.display.HTML object>"
      ]
     },
     "metadata": {},
     "output_type": "display_data"
    },
    {
     "name": "stdout",
     "output_type": "stream",
     "text": [
      "Drawing .\n"
     ]
    },
    {
     "data": {
      "text/html": [
       "<div class=\"zoom\"><img style='width: 100px; height: 100px; margin: 1px; float: left; border: 0px solid black;'title=['.'] src='dataset_birds\\valid\\AZURE BREASTED PITTA\\1.jpg'/></div><div class=\"zoom\"><img style='width: 100px; height: 100px; margin: 1px; float: left; border: 0px solid black;'title=['.'] src='dataset_birds\\valid\\AZURE BREASTED PITTA\\2.jpg'/></div><div class=\"zoom\"><img style='width: 100px; height: 100px; margin: 1px; float: left; border: 0px solid black;'title=['.'] src='dataset_birds\\valid\\AZURE BREASTED PITTA\\3.jpg'/></div><div class=\"zoom\"><img style='width: 100px; height: 100px; margin: 1px; float: left; border: 0px solid black;'title=['.'] src='dataset_birds\\valid\\AZURE BREASTED PITTA\\4.jpg'/></div><div class=\"zoom\"><img style='width: 100px; height: 100px; margin: 1px; float: left; border: 0px solid black;'title=['.'] src='dataset_birds\\valid\\AZURE BREASTED PITTA\\5.jpg'/></div>"
      ],
      "text/plain": [
       "<IPython.core.display.HTML object>"
      ]
     },
     "metadata": {},
     "output_type": "display_data"
    },
    {
     "name": "stdout",
     "output_type": "stream",
     "text": [
      "Drawing .\n"
     ]
    },
    {
     "data": {
      "text/html": [
       "<div class=\"zoom\"><img style='width: 100px; height: 100px; margin: 1px; float: left; border: 0px solid black;'title=['.'] src='dataset_birds\\valid\\AZURE JAY\\1.jpg'/></div><div class=\"zoom\"><img style='width: 100px; height: 100px; margin: 1px; float: left; border: 0px solid black;'title=['.'] src='dataset_birds\\valid\\AZURE JAY\\2.jpg'/></div><div class=\"zoom\"><img style='width: 100px; height: 100px; margin: 1px; float: left; border: 0px solid black;'title=['.'] src='dataset_birds\\valid\\AZURE JAY\\3.jpg'/></div><div class=\"zoom\"><img style='width: 100px; height: 100px; margin: 1px; float: left; border: 0px solid black;'title=['.'] src='dataset_birds\\valid\\AZURE JAY\\4.jpg'/></div><div class=\"zoom\"><img style='width: 100px; height: 100px; margin: 1px; float: left; border: 0px solid black;'title=['.'] src='dataset_birds\\valid\\AZURE JAY\\5.jpg'/></div>"
      ],
      "text/plain": [
       "<IPython.core.display.HTML object>"
      ]
     },
     "metadata": {},
     "output_type": "display_data"
    },
    {
     "name": "stdout",
     "output_type": "stream",
     "text": [
      "Drawing .\n"
     ]
    },
    {
     "data": {
      "text/html": [
       "<div class=\"zoom\"><img style='width: 100px; height: 100px; margin: 1px; float: left; border: 0px solid black;'title=['.'] src='dataset_birds\\valid\\AZURE TANAGER\\1.jpg'/></div><div class=\"zoom\"><img style='width: 100px; height: 100px; margin: 1px; float: left; border: 0px solid black;'title=['.'] src='dataset_birds\\valid\\AZURE TANAGER\\2.jpg'/></div><div class=\"zoom\"><img style='width: 100px; height: 100px; margin: 1px; float: left; border: 0px solid black;'title=['.'] src='dataset_birds\\valid\\AZURE TANAGER\\3.jpg'/></div><div class=\"zoom\"><img style='width: 100px; height: 100px; margin: 1px; float: left; border: 0px solid black;'title=['.'] src='dataset_birds\\valid\\AZURE TANAGER\\4.jpg'/></div><div class=\"zoom\"><img style='width: 100px; height: 100px; margin: 1px; float: left; border: 0px solid black;'title=['.'] src='dataset_birds\\valid\\AZURE TANAGER\\5.jpg'/></div>"
      ],
      "text/plain": [
       "<IPython.core.display.HTML object>"
      ]
     },
     "metadata": {},
     "output_type": "display_data"
    },
    {
     "name": "stdout",
     "output_type": "stream",
     "text": [
      "Drawing .\n"
     ]
    },
    {
     "data": {
      "text/html": [
       "<div class=\"zoom\"><img style='width: 100px; height: 100px; margin: 1px; float: left; border: 0px solid black;'title=['.'] src='dataset_birds\\valid\\AZURE TIT\\1.jpg'/></div><div class=\"zoom\"><img style='width: 100px; height: 100px; margin: 1px; float: left; border: 0px solid black;'title=['.'] src='dataset_birds\\valid\\AZURE TIT\\2.jpg'/></div><div class=\"zoom\"><img style='width: 100px; height: 100px; margin: 1px; float: left; border: 0px solid black;'title=['.'] src='dataset_birds\\valid\\AZURE TIT\\3.jpg'/></div><div class=\"zoom\"><img style='width: 100px; height: 100px; margin: 1px; float: left; border: 0px solid black;'title=['.'] src='dataset_birds\\valid\\AZURE TIT\\4.jpg'/></div><div class=\"zoom\"><img style='width: 100px; height: 100px; margin: 1px; float: left; border: 0px solid black;'title=['.'] src='dataset_birds\\valid\\AZURE TIT\\5.jpg'/></div>"
      ],
      "text/plain": [
       "<IPython.core.display.HTML object>"
      ]
     },
     "metadata": {},
     "output_type": "display_data"
    },
    {
     "name": "stdout",
     "output_type": "stream",
     "text": [
      "Drawing .\n"
     ]
    },
    {
     "data": {
      "text/html": [
       "<div class=\"zoom\"><img style='width: 100px; height: 100px; margin: 1px; float: left; border: 0px solid black;'title=['.'] src='dataset_birds\\valid\\BAIKAL TEAL\\1.jpg'/></div><div class=\"zoom\"><img style='width: 100px; height: 100px; margin: 1px; float: left; border: 0px solid black;'title=['.'] src='dataset_birds\\valid\\BAIKAL TEAL\\2.jpg'/></div><div class=\"zoom\"><img style='width: 100px; height: 100px; margin: 1px; float: left; border: 0px solid black;'title=['.'] src='dataset_birds\\valid\\BAIKAL TEAL\\3.jpg'/></div><div class=\"zoom\"><img style='width: 100px; height: 100px; margin: 1px; float: left; border: 0px solid black;'title=['.'] src='dataset_birds\\valid\\BAIKAL TEAL\\4.jpg'/></div><div class=\"zoom\"><img style='width: 100px; height: 100px; margin: 1px; float: left; border: 0px solid black;'title=['.'] src='dataset_birds\\valid\\BAIKAL TEAL\\5.jpg'/></div>"
      ],
      "text/plain": [
       "<IPython.core.display.HTML object>"
      ]
     },
     "metadata": {},
     "output_type": "display_data"
    },
    {
     "name": "stdout",
     "output_type": "stream",
     "text": [
      "Drawing .\n"
     ]
    },
    {
     "data": {
      "text/html": [
       "<div class=\"zoom\"><img style='width: 100px; height: 100px; margin: 1px; float: left; border: 0px solid black;'title=['.'] src='dataset_birds\\valid\\BALD EAGLE\\1.jpg'/></div><div class=\"zoom\"><img style='width: 100px; height: 100px; margin: 1px; float: left; border: 0px solid black;'title=['.'] src='dataset_birds\\valid\\BALD EAGLE\\2.jpg'/></div><div class=\"zoom\"><img style='width: 100px; height: 100px; margin: 1px; float: left; border: 0px solid black;'title=['.'] src='dataset_birds\\valid\\BALD EAGLE\\3.jpg'/></div><div class=\"zoom\"><img style='width: 100px; height: 100px; margin: 1px; float: left; border: 0px solid black;'title=['.'] src='dataset_birds\\valid\\BALD EAGLE\\4.jpg'/></div><div class=\"zoom\"><img style='width: 100px; height: 100px; margin: 1px; float: left; border: 0px solid black;'title=['.'] src='dataset_birds\\valid\\BALD EAGLE\\5.jpg'/></div>"
      ],
      "text/plain": [
       "<IPython.core.display.HTML object>"
      ]
     },
     "metadata": {},
     "output_type": "display_data"
    },
    {
     "name": "stdout",
     "output_type": "stream",
     "text": [
      "Drawing .\n"
     ]
    },
    {
     "data": {
      "text/html": [
       "<div class=\"zoom\"><img style='width: 100px; height: 100px; margin: 1px; float: left; border: 0px solid black;'title=['.'] src='dataset_birds\\valid\\BALD IBIS\\1.jpg'/></div><div class=\"zoom\"><img style='width: 100px; height: 100px; margin: 1px; float: left; border: 0px solid black;'title=['.'] src='dataset_birds\\valid\\BALD IBIS\\2.jpg'/></div><div class=\"zoom\"><img style='width: 100px; height: 100px; margin: 1px; float: left; border: 0px solid black;'title=['.'] src='dataset_birds\\valid\\BALD IBIS\\3.jpg'/></div><div class=\"zoom\"><img style='width: 100px; height: 100px; margin: 1px; float: left; border: 0px solid black;'title=['.'] src='dataset_birds\\valid\\BALD IBIS\\4.jpg'/></div><div class=\"zoom\"><img style='width: 100px; height: 100px; margin: 1px; float: left; border: 0px solid black;'title=['.'] src='dataset_birds\\valid\\BALD IBIS\\5.jpg'/></div>"
      ],
      "text/plain": [
       "<IPython.core.display.HTML object>"
      ]
     },
     "metadata": {},
     "output_type": "display_data"
    },
    {
     "name": "stdout",
     "output_type": "stream",
     "text": [
      "Drawing .\n"
     ]
    },
    {
     "data": {
      "text/html": [
       "<div class=\"zoom\"><img style='width: 100px; height: 100px; margin: 1px; float: left; border: 0px solid black;'title=['.'] src='dataset_birds\\valid\\BALI STARLING\\1.jpg'/></div><div class=\"zoom\"><img style='width: 100px; height: 100px; margin: 1px; float: left; border: 0px solid black;'title=['.'] src='dataset_birds\\valid\\BALI STARLING\\2.jpg'/></div><div class=\"zoom\"><img style='width: 100px; height: 100px; margin: 1px; float: left; border: 0px solid black;'title=['.'] src='dataset_birds\\valid\\BALI STARLING\\3.jpg'/></div><div class=\"zoom\"><img style='width: 100px; height: 100px; margin: 1px; float: left; border: 0px solid black;'title=['.'] src='dataset_birds\\valid\\BALI STARLING\\4.jpg'/></div><div class=\"zoom\"><img style='width: 100px; height: 100px; margin: 1px; float: left; border: 0px solid black;'title=['.'] src='dataset_birds\\valid\\BALI STARLING\\5.jpg'/></div>"
      ],
      "text/plain": [
       "<IPython.core.display.HTML object>"
      ]
     },
     "metadata": {},
     "output_type": "display_data"
    },
    {
     "name": "stdout",
     "output_type": "stream",
     "text": [
      "Drawing .\n"
     ]
    },
    {
     "data": {
      "text/html": [
       "<div class=\"zoom\"><img style='width: 100px; height: 100px; margin: 1px; float: left; border: 0px solid black;'title=['.'] src='dataset_birds\\valid\\BALTIMORE ORIOLE\\1.jpg'/></div><div class=\"zoom\"><img style='width: 100px; height: 100px; margin: 1px; float: left; border: 0px solid black;'title=['.'] src='dataset_birds\\valid\\BALTIMORE ORIOLE\\2.jpg'/></div><div class=\"zoom\"><img style='width: 100px; height: 100px; margin: 1px; float: left; border: 0px solid black;'title=['.'] src='dataset_birds\\valid\\BALTIMORE ORIOLE\\3.jpg'/></div><div class=\"zoom\"><img style='width: 100px; height: 100px; margin: 1px; float: left; border: 0px solid black;'title=['.'] src='dataset_birds\\valid\\BALTIMORE ORIOLE\\4.jpg'/></div><div class=\"zoom\"><img style='width: 100px; height: 100px; margin: 1px; float: left; border: 0px solid black;'title=['.'] src='dataset_birds\\valid\\BALTIMORE ORIOLE\\5.jpg'/></div>"
      ],
      "text/plain": [
       "<IPython.core.display.HTML object>"
      ]
     },
     "metadata": {},
     "output_type": "display_data"
    },
    {
     "name": "stdout",
     "output_type": "stream",
     "text": [
      "Drawing .\n"
     ]
    },
    {
     "data": {
      "text/html": [
       "<div class=\"zoom\"><img style='width: 100px; height: 100px; margin: 1px; float: left; border: 0px solid black;'title=['.'] src='dataset_birds\\valid\\BANANAQUIT\\1.jpg'/></div><div class=\"zoom\"><img style='width: 100px; height: 100px; margin: 1px; float: left; border: 0px solid black;'title=['.'] src='dataset_birds\\valid\\BANANAQUIT\\2.jpg'/></div><div class=\"zoom\"><img style='width: 100px; height: 100px; margin: 1px; float: left; border: 0px solid black;'title=['.'] src='dataset_birds\\valid\\BANANAQUIT\\3.jpg'/></div><div class=\"zoom\"><img style='width: 100px; height: 100px; margin: 1px; float: left; border: 0px solid black;'title=['.'] src='dataset_birds\\valid\\BANANAQUIT\\4.jpg'/></div><div class=\"zoom\"><img style='width: 100px; height: 100px; margin: 1px; float: left; border: 0px solid black;'title=['.'] src='dataset_birds\\valid\\BANANAQUIT\\5.jpg'/></div>"
      ],
      "text/plain": [
       "<IPython.core.display.HTML object>"
      ]
     },
     "metadata": {},
     "output_type": "display_data"
    },
    {
     "name": "stdout",
     "output_type": "stream",
     "text": [
      "Drawing .\n"
     ]
    },
    {
     "data": {
      "text/html": [
       "<div class=\"zoom\"><img style='width: 100px; height: 100px; margin: 1px; float: left; border: 0px solid black;'title=['.'] src='dataset_birds\\valid\\BAND TAILED GUAN\\1.jpg'/></div><div class=\"zoom\"><img style='width: 100px; height: 100px; margin: 1px; float: left; border: 0px solid black;'title=['.'] src='dataset_birds\\valid\\BAND TAILED GUAN\\2.jpg'/></div><div class=\"zoom\"><img style='width: 100px; height: 100px; margin: 1px; float: left; border: 0px solid black;'title=['.'] src='dataset_birds\\valid\\BAND TAILED GUAN\\3.jpg'/></div><div class=\"zoom\"><img style='width: 100px; height: 100px; margin: 1px; float: left; border: 0px solid black;'title=['.'] src='dataset_birds\\valid\\BAND TAILED GUAN\\4.jpg'/></div><div class=\"zoom\"><img style='width: 100px; height: 100px; margin: 1px; float: left; border: 0px solid black;'title=['.'] src='dataset_birds\\valid\\BAND TAILED GUAN\\5.jpg'/></div>"
      ],
      "text/plain": [
       "<IPython.core.display.HTML object>"
      ]
     },
     "metadata": {},
     "output_type": "display_data"
    },
    {
     "name": "stdout",
     "output_type": "stream",
     "text": [
      "Drawing .\n"
     ]
    },
    {
     "data": {
      "text/html": [
       "<div class=\"zoom\"><img style='width: 100px; height: 100px; margin: 1px; float: left; border: 0px solid black;'title=['.'] src='dataset_birds\\valid\\BANDED BROADBILL\\1.jpg'/></div><div class=\"zoom\"><img style='width: 100px; height: 100px; margin: 1px; float: left; border: 0px solid black;'title=['.'] src='dataset_birds\\valid\\BANDED BROADBILL\\2.jpg'/></div><div class=\"zoom\"><img style='width: 100px; height: 100px; margin: 1px; float: left; border: 0px solid black;'title=['.'] src='dataset_birds\\valid\\BANDED BROADBILL\\3.jpg'/></div><div class=\"zoom\"><img style='width: 100px; height: 100px; margin: 1px; float: left; border: 0px solid black;'title=['.'] src='dataset_birds\\valid\\BANDED BROADBILL\\4.jpg'/></div><div class=\"zoom\"><img style='width: 100px; height: 100px; margin: 1px; float: left; border: 0px solid black;'title=['.'] src='dataset_birds\\valid\\BANDED BROADBILL\\5.jpg'/></div>"
      ],
      "text/plain": [
       "<IPython.core.display.HTML object>"
      ]
     },
     "metadata": {},
     "output_type": "display_data"
    },
    {
     "name": "stdout",
     "output_type": "stream",
     "text": [
      "Drawing .\n"
     ]
    },
    {
     "data": {
      "text/html": [
       "<div class=\"zoom\"><img style='width: 100px; height: 100px; margin: 1px; float: left; border: 0px solid black;'title=['.'] src='dataset_birds\\valid\\BANDED PITA\\1.jpg'/></div><div class=\"zoom\"><img style='width: 100px; height: 100px; margin: 1px; float: left; border: 0px solid black;'title=['.'] src='dataset_birds\\valid\\BANDED PITA\\2.jpg'/></div><div class=\"zoom\"><img style='width: 100px; height: 100px; margin: 1px; float: left; border: 0px solid black;'title=['.'] src='dataset_birds\\valid\\BANDED PITA\\3.jpg'/></div><div class=\"zoom\"><img style='width: 100px; height: 100px; margin: 1px; float: left; border: 0px solid black;'title=['.'] src='dataset_birds\\valid\\BANDED PITA\\4.jpg'/></div><div class=\"zoom\"><img style='width: 100px; height: 100px; margin: 1px; float: left; border: 0px solid black;'title=['.'] src='dataset_birds\\valid\\BANDED PITA\\5.jpg'/></div>"
      ],
      "text/plain": [
       "<IPython.core.display.HTML object>"
      ]
     },
     "metadata": {},
     "output_type": "display_data"
    },
    {
     "name": "stdout",
     "output_type": "stream",
     "text": [
      "Drawing .\n"
     ]
    },
    {
     "data": {
      "text/html": [
       "<div class=\"zoom\"><img style='width: 100px; height: 100px; margin: 1px; float: left; border: 0px solid black;'title=['.'] src='dataset_birds\\valid\\BANDED STILT\\1.jpg'/></div><div class=\"zoom\"><img style='width: 100px; height: 100px; margin: 1px; float: left; border: 0px solid black;'title=['.'] src='dataset_birds\\valid\\BANDED STILT\\2.jpg'/></div><div class=\"zoom\"><img style='width: 100px; height: 100px; margin: 1px; float: left; border: 0px solid black;'title=['.'] src='dataset_birds\\valid\\BANDED STILT\\3.jpg'/></div><div class=\"zoom\"><img style='width: 100px; height: 100px; margin: 1px; float: left; border: 0px solid black;'title=['.'] src='dataset_birds\\valid\\BANDED STILT\\4.jpg'/></div><div class=\"zoom\"><img style='width: 100px; height: 100px; margin: 1px; float: left; border: 0px solid black;'title=['.'] src='dataset_birds\\valid\\BANDED STILT\\5.jpg'/></div>"
      ],
      "text/plain": [
       "<IPython.core.display.HTML object>"
      ]
     },
     "metadata": {},
     "output_type": "display_data"
    },
    {
     "name": "stdout",
     "output_type": "stream",
     "text": [
      "Drawing .\n"
     ]
    },
    {
     "data": {
      "text/html": [
       "<div class=\"zoom\"><img style='width: 100px; height: 100px; margin: 1px; float: left; border: 0px solid black;'title=['.'] src='dataset_birds\\valid\\BAR-TAILED GODWIT\\1.jpg'/></div><div class=\"zoom\"><img style='width: 100px; height: 100px; margin: 1px; float: left; border: 0px solid black;'title=['.'] src='dataset_birds\\valid\\BAR-TAILED GODWIT\\2.jpg'/></div><div class=\"zoom\"><img style='width: 100px; height: 100px; margin: 1px; float: left; border: 0px solid black;'title=['.'] src='dataset_birds\\valid\\BAR-TAILED GODWIT\\3.jpg'/></div><div class=\"zoom\"><img style='width: 100px; height: 100px; margin: 1px; float: left; border: 0px solid black;'title=['.'] src='dataset_birds\\valid\\BAR-TAILED GODWIT\\4.jpg'/></div><div class=\"zoom\"><img style='width: 100px; height: 100px; margin: 1px; float: left; border: 0px solid black;'title=['.'] src='dataset_birds\\valid\\BAR-TAILED GODWIT\\5.jpg'/></div>"
      ],
      "text/plain": [
       "<IPython.core.display.HTML object>"
      ]
     },
     "metadata": {},
     "output_type": "display_data"
    },
    {
     "name": "stdout",
     "output_type": "stream",
     "text": [
      "Drawing .\n"
     ]
    },
    {
     "data": {
      "text/html": [
       "<div class=\"zoom\"><img style='width: 100px; height: 100px; margin: 1px; float: left; border: 0px solid black;'title=['.'] src='dataset_birds\\valid\\BARN OWL\\1.jpg'/></div><div class=\"zoom\"><img style='width: 100px; height: 100px; margin: 1px; float: left; border: 0px solid black;'title=['.'] src='dataset_birds\\valid\\BARN OWL\\2.jpg'/></div><div class=\"zoom\"><img style='width: 100px; height: 100px; margin: 1px; float: left; border: 0px solid black;'title=['.'] src='dataset_birds\\valid\\BARN OWL\\3.jpg'/></div><div class=\"zoom\"><img style='width: 100px; height: 100px; margin: 1px; float: left; border: 0px solid black;'title=['.'] src='dataset_birds\\valid\\BARN OWL\\4.jpg'/></div><div class=\"zoom\"><img style='width: 100px; height: 100px; margin: 1px; float: left; border: 0px solid black;'title=['.'] src='dataset_birds\\valid\\BARN OWL\\5.jpg'/></div>"
      ],
      "text/plain": [
       "<IPython.core.display.HTML object>"
      ]
     },
     "metadata": {},
     "output_type": "display_data"
    },
    {
     "name": "stdout",
     "output_type": "stream",
     "text": [
      "Drawing .\n"
     ]
    },
    {
     "data": {
      "text/html": [
       "<div class=\"zoom\"><img style='width: 100px; height: 100px; margin: 1px; float: left; border: 0px solid black;'title=['.'] src='dataset_birds\\valid\\BARN SWALLOW\\1.jpg'/></div><div class=\"zoom\"><img style='width: 100px; height: 100px; margin: 1px; float: left; border: 0px solid black;'title=['.'] src='dataset_birds\\valid\\BARN SWALLOW\\2.jpg'/></div><div class=\"zoom\"><img style='width: 100px; height: 100px; margin: 1px; float: left; border: 0px solid black;'title=['.'] src='dataset_birds\\valid\\BARN SWALLOW\\3.jpg'/></div><div class=\"zoom\"><img style='width: 100px; height: 100px; margin: 1px; float: left; border: 0px solid black;'title=['.'] src='dataset_birds\\valid\\BARN SWALLOW\\4.jpg'/></div><div class=\"zoom\"><img style='width: 100px; height: 100px; margin: 1px; float: left; border: 0px solid black;'title=['.'] src='dataset_birds\\valid\\BARN SWALLOW\\5.jpg'/></div>"
      ],
      "text/plain": [
       "<IPython.core.display.HTML object>"
      ]
     },
     "metadata": {},
     "output_type": "display_data"
    },
    {
     "name": "stdout",
     "output_type": "stream",
     "text": [
      "Drawing .\n"
     ]
    },
    {
     "data": {
      "text/html": [
       "<div class=\"zoom\"><img style='width: 100px; height: 100px; margin: 1px; float: left; border: 0px solid black;'title=['.'] src='dataset_birds\\valid\\BARRED PUFFBIRD\\1.jpg'/></div><div class=\"zoom\"><img style='width: 100px; height: 100px; margin: 1px; float: left; border: 0px solid black;'title=['.'] src='dataset_birds\\valid\\BARRED PUFFBIRD\\2.jpg'/></div><div class=\"zoom\"><img style='width: 100px; height: 100px; margin: 1px; float: left; border: 0px solid black;'title=['.'] src='dataset_birds\\valid\\BARRED PUFFBIRD\\3.jpg'/></div><div class=\"zoom\"><img style='width: 100px; height: 100px; margin: 1px; float: left; border: 0px solid black;'title=['.'] src='dataset_birds\\valid\\BARRED PUFFBIRD\\4.jpg'/></div><div class=\"zoom\"><img style='width: 100px; height: 100px; margin: 1px; float: left; border: 0px solid black;'title=['.'] src='dataset_birds\\valid\\BARRED PUFFBIRD\\5.jpg'/></div>"
      ],
      "text/plain": [
       "<IPython.core.display.HTML object>"
      ]
     },
     "metadata": {},
     "output_type": "display_data"
    },
    {
     "name": "stdout",
     "output_type": "stream",
     "text": [
      "Drawing .\n"
     ]
    },
    {
     "data": {
      "text/html": [
       "<div class=\"zoom\"><img style='width: 100px; height: 100px; margin: 1px; float: left; border: 0px solid black;'title=['.'] src='dataset_birds\\valid\\BARROWS GOLDENEYE\\1.jpg'/></div><div class=\"zoom\"><img style='width: 100px; height: 100px; margin: 1px; float: left; border: 0px solid black;'title=['.'] src='dataset_birds\\valid\\BARROWS GOLDENEYE\\2.jpg'/></div><div class=\"zoom\"><img style='width: 100px; height: 100px; margin: 1px; float: left; border: 0px solid black;'title=['.'] src='dataset_birds\\valid\\BARROWS GOLDENEYE\\3.jpg'/></div><div class=\"zoom\"><img style='width: 100px; height: 100px; margin: 1px; float: left; border: 0px solid black;'title=['.'] src='dataset_birds\\valid\\BARROWS GOLDENEYE\\4.jpg'/></div><div class=\"zoom\"><img style='width: 100px; height: 100px; margin: 1px; float: left; border: 0px solid black;'title=['.'] src='dataset_birds\\valid\\BARROWS GOLDENEYE\\5.jpg'/></div>"
      ],
      "text/plain": [
       "<IPython.core.display.HTML object>"
      ]
     },
     "metadata": {},
     "output_type": "display_data"
    },
    {
     "name": "stdout",
     "output_type": "stream",
     "text": [
      "Drawing .\n"
     ]
    },
    {
     "data": {
      "text/html": [
       "<div class=\"zoom\"><img style='width: 100px; height: 100px; margin: 1px; float: left; border: 0px solid black;'title=['.'] src='dataset_birds\\valid\\BAY-BREASTED WARBLER\\1.jpg'/></div><div class=\"zoom\"><img style='width: 100px; height: 100px; margin: 1px; float: left; border: 0px solid black;'title=['.'] src='dataset_birds\\valid\\BAY-BREASTED WARBLER\\2.jpg'/></div><div class=\"zoom\"><img style='width: 100px; height: 100px; margin: 1px; float: left; border: 0px solid black;'title=['.'] src='dataset_birds\\valid\\BAY-BREASTED WARBLER\\3.jpg'/></div><div class=\"zoom\"><img style='width: 100px; height: 100px; margin: 1px; float: left; border: 0px solid black;'title=['.'] src='dataset_birds\\valid\\BAY-BREASTED WARBLER\\4.jpg'/></div><div class=\"zoom\"><img style='width: 100px; height: 100px; margin: 1px; float: left; border: 0px solid black;'title=['.'] src='dataset_birds\\valid\\BAY-BREASTED WARBLER\\5.jpg'/></div>"
      ],
      "text/plain": [
       "<IPython.core.display.HTML object>"
      ]
     },
     "metadata": {},
     "output_type": "display_data"
    },
    {
     "name": "stdout",
     "output_type": "stream",
     "text": [
      "Drawing .\n"
     ]
    },
    {
     "data": {
      "text/html": [
       "<div class=\"zoom\"><img style='width: 100px; height: 100px; margin: 1px; float: left; border: 0px solid black;'title=['.'] src='dataset_birds\\valid\\BEARDED BARBET\\1.jpg'/></div><div class=\"zoom\"><img style='width: 100px; height: 100px; margin: 1px; float: left; border: 0px solid black;'title=['.'] src='dataset_birds\\valid\\BEARDED BARBET\\2.jpg'/></div><div class=\"zoom\"><img style='width: 100px; height: 100px; margin: 1px; float: left; border: 0px solid black;'title=['.'] src='dataset_birds\\valid\\BEARDED BARBET\\3.jpg'/></div><div class=\"zoom\"><img style='width: 100px; height: 100px; margin: 1px; float: left; border: 0px solid black;'title=['.'] src='dataset_birds\\valid\\BEARDED BARBET\\4.jpg'/></div><div class=\"zoom\"><img style='width: 100px; height: 100px; margin: 1px; float: left; border: 0px solid black;'title=['.'] src='dataset_birds\\valid\\BEARDED BARBET\\5.jpg'/></div>"
      ],
      "text/plain": [
       "<IPython.core.display.HTML object>"
      ]
     },
     "metadata": {},
     "output_type": "display_data"
    },
    {
     "name": "stdout",
     "output_type": "stream",
     "text": [
      "Drawing .\n"
     ]
    },
    {
     "data": {
      "text/html": [
       "<div class=\"zoom\"><img style='width: 100px; height: 100px; margin: 1px; float: left; border: 0px solid black;'title=['.'] src='dataset_birds\\valid\\BEARDED BELLBIRD\\1.jpg'/></div><div class=\"zoom\"><img style='width: 100px; height: 100px; margin: 1px; float: left; border: 0px solid black;'title=['.'] src='dataset_birds\\valid\\BEARDED BELLBIRD\\2.jpg'/></div><div class=\"zoom\"><img style='width: 100px; height: 100px; margin: 1px; float: left; border: 0px solid black;'title=['.'] src='dataset_birds\\valid\\BEARDED BELLBIRD\\3.jpg'/></div><div class=\"zoom\"><img style='width: 100px; height: 100px; margin: 1px; float: left; border: 0px solid black;'title=['.'] src='dataset_birds\\valid\\BEARDED BELLBIRD\\4.jpg'/></div><div class=\"zoom\"><img style='width: 100px; height: 100px; margin: 1px; float: left; border: 0px solid black;'title=['.'] src='dataset_birds\\valid\\BEARDED BELLBIRD\\5.jpg'/></div>"
      ],
      "text/plain": [
       "<IPython.core.display.HTML object>"
      ]
     },
     "metadata": {},
     "output_type": "display_data"
    },
    {
     "name": "stdout",
     "output_type": "stream",
     "text": [
      "Drawing .\n"
     ]
    },
    {
     "data": {
      "text/html": [
       "<div class=\"zoom\"><img style='width: 100px; height: 100px; margin: 1px; float: left; border: 0px solid black;'title=['.'] src='dataset_birds\\valid\\BEARDED REEDLING\\1.jpg'/></div><div class=\"zoom\"><img style='width: 100px; height: 100px; margin: 1px; float: left; border: 0px solid black;'title=['.'] src='dataset_birds\\valid\\BEARDED REEDLING\\2.jpg'/></div><div class=\"zoom\"><img style='width: 100px; height: 100px; margin: 1px; float: left; border: 0px solid black;'title=['.'] src='dataset_birds\\valid\\BEARDED REEDLING\\3.jpg'/></div><div class=\"zoom\"><img style='width: 100px; height: 100px; margin: 1px; float: left; border: 0px solid black;'title=['.'] src='dataset_birds\\valid\\BEARDED REEDLING\\4.jpg'/></div><div class=\"zoom\"><img style='width: 100px; height: 100px; margin: 1px; float: left; border: 0px solid black;'title=['.'] src='dataset_birds\\valid\\BEARDED REEDLING\\5.jpg'/></div>"
      ],
      "text/plain": [
       "<IPython.core.display.HTML object>"
      ]
     },
     "metadata": {},
     "output_type": "display_data"
    },
    {
     "name": "stdout",
     "output_type": "stream",
     "text": [
      "Drawing .\n"
     ]
    },
    {
     "data": {
      "text/html": [
       "<div class=\"zoom\"><img style='width: 100px; height: 100px; margin: 1px; float: left; border: 0px solid black;'title=['.'] src='dataset_birds\\valid\\BELTED KINGFISHER\\1.jpg'/></div><div class=\"zoom\"><img style='width: 100px; height: 100px; margin: 1px; float: left; border: 0px solid black;'title=['.'] src='dataset_birds\\valid\\BELTED KINGFISHER\\2.jpg'/></div><div class=\"zoom\"><img style='width: 100px; height: 100px; margin: 1px; float: left; border: 0px solid black;'title=['.'] src='dataset_birds\\valid\\BELTED KINGFISHER\\3.jpg'/></div><div class=\"zoom\"><img style='width: 100px; height: 100px; margin: 1px; float: left; border: 0px solid black;'title=['.'] src='dataset_birds\\valid\\BELTED KINGFISHER\\4.jpg'/></div><div class=\"zoom\"><img style='width: 100px; height: 100px; margin: 1px; float: left; border: 0px solid black;'title=['.'] src='dataset_birds\\valid\\BELTED KINGFISHER\\5.jpg'/></div>"
      ],
      "text/plain": [
       "<IPython.core.display.HTML object>"
      ]
     },
     "metadata": {},
     "output_type": "display_data"
    },
    {
     "name": "stdout",
     "output_type": "stream",
     "text": [
      "Drawing .\n"
     ]
    },
    {
     "data": {
      "text/html": [
       "<div class=\"zoom\"><img style='width: 100px; height: 100px; margin: 1px; float: left; border: 0px solid black;'title=['.'] src='dataset_birds\\valid\\BIRD OF PARADISE\\1.jpg'/></div><div class=\"zoom\"><img style='width: 100px; height: 100px; margin: 1px; float: left; border: 0px solid black;'title=['.'] src='dataset_birds\\valid\\BIRD OF PARADISE\\2.jpg'/></div><div class=\"zoom\"><img style='width: 100px; height: 100px; margin: 1px; float: left; border: 0px solid black;'title=['.'] src='dataset_birds\\valid\\BIRD OF PARADISE\\3.jpg'/></div><div class=\"zoom\"><img style='width: 100px; height: 100px; margin: 1px; float: left; border: 0px solid black;'title=['.'] src='dataset_birds\\valid\\BIRD OF PARADISE\\4.jpg'/></div><div class=\"zoom\"><img style='width: 100px; height: 100px; margin: 1px; float: left; border: 0px solid black;'title=['.'] src='dataset_birds\\valid\\BIRD OF PARADISE\\5.jpg'/></div>"
      ],
      "text/plain": [
       "<IPython.core.display.HTML object>"
      ]
     },
     "metadata": {},
     "output_type": "display_data"
    },
    {
     "name": "stdout",
     "output_type": "stream",
     "text": [
      "Drawing .\n"
     ]
    },
    {
     "data": {
      "text/html": [
       "<div class=\"zoom\"><img style='width: 100px; height: 100px; margin: 1px; float: left; border: 0px solid black;'title=['.'] src='dataset_birds\\valid\\BLACK AND YELLOW BROADBILL\\1.jpg'/></div><div class=\"zoom\"><img style='width: 100px; height: 100px; margin: 1px; float: left; border: 0px solid black;'title=['.'] src='dataset_birds\\valid\\BLACK AND YELLOW BROADBILL\\2.jpg'/></div><div class=\"zoom\"><img style='width: 100px; height: 100px; margin: 1px; float: left; border: 0px solid black;'title=['.'] src='dataset_birds\\valid\\BLACK AND YELLOW BROADBILL\\3.jpg'/></div><div class=\"zoom\"><img style='width: 100px; height: 100px; margin: 1px; float: left; border: 0px solid black;'title=['.'] src='dataset_birds\\valid\\BLACK AND YELLOW BROADBILL\\4.jpg'/></div><div class=\"zoom\"><img style='width: 100px; height: 100px; margin: 1px; float: left; border: 0px solid black;'title=['.'] src='dataset_birds\\valid\\BLACK AND YELLOW BROADBILL\\5.jpg'/></div>"
      ],
      "text/plain": [
       "<IPython.core.display.HTML object>"
      ]
     },
     "metadata": {},
     "output_type": "display_data"
    },
    {
     "name": "stdout",
     "output_type": "stream",
     "text": [
      "Drawing .\n"
     ]
    },
    {
     "data": {
      "text/html": [
       "<div class=\"zoom\"><img style='width: 100px; height: 100px; margin: 1px; float: left; border: 0px solid black;'title=['.'] src='dataset_birds\\valid\\BLACK BAZA\\1.jpg'/></div><div class=\"zoom\"><img style='width: 100px; height: 100px; margin: 1px; float: left; border: 0px solid black;'title=['.'] src='dataset_birds\\valid\\BLACK BAZA\\2.jpg'/></div><div class=\"zoom\"><img style='width: 100px; height: 100px; margin: 1px; float: left; border: 0px solid black;'title=['.'] src='dataset_birds\\valid\\BLACK BAZA\\3.jpg'/></div><div class=\"zoom\"><img style='width: 100px; height: 100px; margin: 1px; float: left; border: 0px solid black;'title=['.'] src='dataset_birds\\valid\\BLACK BAZA\\4.jpg'/></div><div class=\"zoom\"><img style='width: 100px; height: 100px; margin: 1px; float: left; border: 0px solid black;'title=['.'] src='dataset_birds\\valid\\BLACK BAZA\\5.jpg'/></div>"
      ],
      "text/plain": [
       "<IPython.core.display.HTML object>"
      ]
     },
     "metadata": {},
     "output_type": "display_data"
    },
    {
     "name": "stdout",
     "output_type": "stream",
     "text": [
      "Drawing .\n"
     ]
    },
    {
     "data": {
      "text/html": [
       "<div class=\"zoom\"><img style='width: 100px; height: 100px; margin: 1px; float: left; border: 0px solid black;'title=['.'] src='dataset_birds\\valid\\BLACK BREASTED PUFFBIRD\\1.jpg'/></div><div class=\"zoom\"><img style='width: 100px; height: 100px; margin: 1px; float: left; border: 0px solid black;'title=['.'] src='dataset_birds\\valid\\BLACK BREASTED PUFFBIRD\\2.jpg'/></div><div class=\"zoom\"><img style='width: 100px; height: 100px; margin: 1px; float: left; border: 0px solid black;'title=['.'] src='dataset_birds\\valid\\BLACK BREASTED PUFFBIRD\\3.jpg'/></div><div class=\"zoom\"><img style='width: 100px; height: 100px; margin: 1px; float: left; border: 0px solid black;'title=['.'] src='dataset_birds\\valid\\BLACK BREASTED PUFFBIRD\\4.jpg'/></div><div class=\"zoom\"><img style='width: 100px; height: 100px; margin: 1px; float: left; border: 0px solid black;'title=['.'] src='dataset_birds\\valid\\BLACK BREASTED PUFFBIRD\\5.jpg'/></div>"
      ],
      "text/plain": [
       "<IPython.core.display.HTML object>"
      ]
     },
     "metadata": {},
     "output_type": "display_data"
    },
    {
     "name": "stdout",
     "output_type": "stream",
     "text": [
      "Drawing .\n"
     ]
    },
    {
     "data": {
      "text/html": [
       "<div class=\"zoom\"><img style='width: 100px; height: 100px; margin: 1px; float: left; border: 0px solid black;'title=['.'] src='dataset_birds\\valid\\BLACK COCKATO\\1.jpg'/></div><div class=\"zoom\"><img style='width: 100px; height: 100px; margin: 1px; float: left; border: 0px solid black;'title=['.'] src='dataset_birds\\valid\\BLACK COCKATO\\2.jpg'/></div><div class=\"zoom\"><img style='width: 100px; height: 100px; margin: 1px; float: left; border: 0px solid black;'title=['.'] src='dataset_birds\\valid\\BLACK COCKATO\\3.jpg'/></div><div class=\"zoom\"><img style='width: 100px; height: 100px; margin: 1px; float: left; border: 0px solid black;'title=['.'] src='dataset_birds\\valid\\BLACK COCKATO\\4.jpg'/></div><div class=\"zoom\"><img style='width: 100px; height: 100px; margin: 1px; float: left; border: 0px solid black;'title=['.'] src='dataset_birds\\valid\\BLACK COCKATO\\5.jpg'/></div>"
      ],
      "text/plain": [
       "<IPython.core.display.HTML object>"
      ]
     },
     "metadata": {},
     "output_type": "display_data"
    },
    {
     "name": "stdout",
     "output_type": "stream",
     "text": [
      "Drawing .\n"
     ]
    },
    {
     "data": {
      "text/html": [
       "<div class=\"zoom\"><img style='width: 100px; height: 100px; margin: 1px; float: left; border: 0px solid black;'title=['.'] src='dataset_birds\\valid\\BLACK FACED SPOONBILL\\1.jpg'/></div><div class=\"zoom\"><img style='width: 100px; height: 100px; margin: 1px; float: left; border: 0px solid black;'title=['.'] src='dataset_birds\\valid\\BLACK FACED SPOONBILL\\2.jpg'/></div><div class=\"zoom\"><img style='width: 100px; height: 100px; margin: 1px; float: left; border: 0px solid black;'title=['.'] src='dataset_birds\\valid\\BLACK FACED SPOONBILL\\3.jpg'/></div><div class=\"zoom\"><img style='width: 100px; height: 100px; margin: 1px; float: left; border: 0px solid black;'title=['.'] src='dataset_birds\\valid\\BLACK FACED SPOONBILL\\4.jpg'/></div><div class=\"zoom\"><img style='width: 100px; height: 100px; margin: 1px; float: left; border: 0px solid black;'title=['.'] src='dataset_birds\\valid\\BLACK FACED SPOONBILL\\5.jpg'/></div>"
      ],
      "text/plain": [
       "<IPython.core.display.HTML object>"
      ]
     },
     "metadata": {},
     "output_type": "display_data"
    },
    {
     "name": "stdout",
     "output_type": "stream",
     "text": [
      "Drawing .\n"
     ]
    },
    {
     "data": {
      "text/html": [
       "<div class=\"zoom\"><img style='width: 100px; height: 100px; margin: 1px; float: left; border: 0px solid black;'title=['.'] src='dataset_birds\\valid\\BLACK FRANCOLIN\\1.jpg'/></div><div class=\"zoom\"><img style='width: 100px; height: 100px; margin: 1px; float: left; border: 0px solid black;'title=['.'] src='dataset_birds\\valid\\BLACK FRANCOLIN\\2.jpg'/></div><div class=\"zoom\"><img style='width: 100px; height: 100px; margin: 1px; float: left; border: 0px solid black;'title=['.'] src='dataset_birds\\valid\\BLACK FRANCOLIN\\3.jpg'/></div><div class=\"zoom\"><img style='width: 100px; height: 100px; margin: 1px; float: left; border: 0px solid black;'title=['.'] src='dataset_birds\\valid\\BLACK FRANCOLIN\\4.jpg'/></div><div class=\"zoom\"><img style='width: 100px; height: 100px; margin: 1px; float: left; border: 0px solid black;'title=['.'] src='dataset_birds\\valid\\BLACK FRANCOLIN\\5.jpg'/></div>"
      ],
      "text/plain": [
       "<IPython.core.display.HTML object>"
      ]
     },
     "metadata": {},
     "output_type": "display_data"
    },
    {
     "name": "stdout",
     "output_type": "stream",
     "text": [
      "Drawing .\n"
     ]
    },
    {
     "data": {
      "text/html": [
       "<div class=\"zoom\"><img style='width: 100px; height: 100px; margin: 1px; float: left; border: 0px solid black;'title=['.'] src='dataset_birds\\valid\\BLACK HEADED CAIQUE\\1.jpg'/></div><div class=\"zoom\"><img style='width: 100px; height: 100px; margin: 1px; float: left; border: 0px solid black;'title=['.'] src='dataset_birds\\valid\\BLACK HEADED CAIQUE\\2.jpg'/></div><div class=\"zoom\"><img style='width: 100px; height: 100px; margin: 1px; float: left; border: 0px solid black;'title=['.'] src='dataset_birds\\valid\\BLACK HEADED CAIQUE\\3.jpg'/></div><div class=\"zoom\"><img style='width: 100px; height: 100px; margin: 1px; float: left; border: 0px solid black;'title=['.'] src='dataset_birds\\valid\\BLACK HEADED CAIQUE\\4.jpg'/></div><div class=\"zoom\"><img style='width: 100px; height: 100px; margin: 1px; float: left; border: 0px solid black;'title=['.'] src='dataset_birds\\valid\\BLACK HEADED CAIQUE\\5.jpg'/></div>"
      ],
      "text/plain": [
       "<IPython.core.display.HTML object>"
      ]
     },
     "metadata": {},
     "output_type": "display_data"
    },
    {
     "name": "stdout",
     "output_type": "stream",
     "text": [
      "Drawing .\n"
     ]
    },
    {
     "data": {
      "text/html": [
       "<div class=\"zoom\"><img style='width: 100px; height: 100px; margin: 1px; float: left; border: 0px solid black;'title=['.'] src='dataset_birds\\valid\\BLACK NECKED STILT\\1.jpg'/></div><div class=\"zoom\"><img style='width: 100px; height: 100px; margin: 1px; float: left; border: 0px solid black;'title=['.'] src='dataset_birds\\valid\\BLACK NECKED STILT\\2.jpg'/></div><div class=\"zoom\"><img style='width: 100px; height: 100px; margin: 1px; float: left; border: 0px solid black;'title=['.'] src='dataset_birds\\valid\\BLACK NECKED STILT\\3.jpg'/></div><div class=\"zoom\"><img style='width: 100px; height: 100px; margin: 1px; float: left; border: 0px solid black;'title=['.'] src='dataset_birds\\valid\\BLACK NECKED STILT\\4.jpg'/></div><div class=\"zoom\"><img style='width: 100px; height: 100px; margin: 1px; float: left; border: 0px solid black;'title=['.'] src='dataset_birds\\valid\\BLACK NECKED STILT\\5.jpg'/></div>"
      ],
      "text/plain": [
       "<IPython.core.display.HTML object>"
      ]
     },
     "metadata": {},
     "output_type": "display_data"
    },
    {
     "name": "stdout",
     "output_type": "stream",
     "text": [
      "Drawing .\n"
     ]
    },
    {
     "data": {
      "text/html": [
       "<div class=\"zoom\"><img style='width: 100px; height: 100px; margin: 1px; float: left; border: 0px solid black;'title=['.'] src='dataset_birds\\valid\\BLACK SKIMMER\\1.jpg'/></div><div class=\"zoom\"><img style='width: 100px; height: 100px; margin: 1px; float: left; border: 0px solid black;'title=['.'] src='dataset_birds\\valid\\BLACK SKIMMER\\2.jpg'/></div><div class=\"zoom\"><img style='width: 100px; height: 100px; margin: 1px; float: left; border: 0px solid black;'title=['.'] src='dataset_birds\\valid\\BLACK SKIMMER\\3.jpg'/></div><div class=\"zoom\"><img style='width: 100px; height: 100px; margin: 1px; float: left; border: 0px solid black;'title=['.'] src='dataset_birds\\valid\\BLACK SKIMMER\\4.jpg'/></div><div class=\"zoom\"><img style='width: 100px; height: 100px; margin: 1px; float: left; border: 0px solid black;'title=['.'] src='dataset_birds\\valid\\BLACK SKIMMER\\5.jpg'/></div>"
      ],
      "text/plain": [
       "<IPython.core.display.HTML object>"
      ]
     },
     "metadata": {},
     "output_type": "display_data"
    },
    {
     "name": "stdout",
     "output_type": "stream",
     "text": [
      "Drawing .\n"
     ]
    },
    {
     "data": {
      "text/html": [
       "<div class=\"zoom\"><img style='width: 100px; height: 100px; margin: 1px; float: left; border: 0px solid black;'title=['.'] src='dataset_birds\\valid\\BLACK SWAN\\1.jpg'/></div><div class=\"zoom\"><img style='width: 100px; height: 100px; margin: 1px; float: left; border: 0px solid black;'title=['.'] src='dataset_birds\\valid\\BLACK SWAN\\2.jpg'/></div><div class=\"zoom\"><img style='width: 100px; height: 100px; margin: 1px; float: left; border: 0px solid black;'title=['.'] src='dataset_birds\\valid\\BLACK SWAN\\3.jpg'/></div><div class=\"zoom\"><img style='width: 100px; height: 100px; margin: 1px; float: left; border: 0px solid black;'title=['.'] src='dataset_birds\\valid\\BLACK SWAN\\4.jpg'/></div><div class=\"zoom\"><img style='width: 100px; height: 100px; margin: 1px; float: left; border: 0px solid black;'title=['.'] src='dataset_birds\\valid\\BLACK SWAN\\5.jpg'/></div>"
      ],
      "text/plain": [
       "<IPython.core.display.HTML object>"
      ]
     },
     "metadata": {},
     "output_type": "display_data"
    },
    {
     "name": "stdout",
     "output_type": "stream",
     "text": [
      "Drawing .\n"
     ]
    },
    {
     "data": {
      "text/html": [
       "<div class=\"zoom\"><img style='width: 100px; height: 100px; margin: 1px; float: left; border: 0px solid black;'title=['.'] src='dataset_birds\\valid\\BLACK TAIL CRAKE\\1.jpg'/></div><div class=\"zoom\"><img style='width: 100px; height: 100px; margin: 1px; float: left; border: 0px solid black;'title=['.'] src='dataset_birds\\valid\\BLACK TAIL CRAKE\\2.jpg'/></div><div class=\"zoom\"><img style='width: 100px; height: 100px; margin: 1px; float: left; border: 0px solid black;'title=['.'] src='dataset_birds\\valid\\BLACK TAIL CRAKE\\3.jpg'/></div><div class=\"zoom\"><img style='width: 100px; height: 100px; margin: 1px; float: left; border: 0px solid black;'title=['.'] src='dataset_birds\\valid\\BLACK TAIL CRAKE\\4.jpg'/></div><div class=\"zoom\"><img style='width: 100px; height: 100px; margin: 1px; float: left; border: 0px solid black;'title=['.'] src='dataset_birds\\valid\\BLACK TAIL CRAKE\\5.jpg'/></div>"
      ],
      "text/plain": [
       "<IPython.core.display.HTML object>"
      ]
     },
     "metadata": {},
     "output_type": "display_data"
    },
    {
     "name": "stdout",
     "output_type": "stream",
     "text": [
      "Drawing .\n"
     ]
    },
    {
     "data": {
      "text/html": [
       "<div class=\"zoom\"><img style='width: 100px; height: 100px; margin: 1px; float: left; border: 0px solid black;'title=['.'] src='dataset_birds\\valid\\BLACK THROATED BUSHTIT\\1.jpg'/></div><div class=\"zoom\"><img style='width: 100px; height: 100px; margin: 1px; float: left; border: 0px solid black;'title=['.'] src='dataset_birds\\valid\\BLACK THROATED BUSHTIT\\2.jpg'/></div><div class=\"zoom\"><img style='width: 100px; height: 100px; margin: 1px; float: left; border: 0px solid black;'title=['.'] src='dataset_birds\\valid\\BLACK THROATED BUSHTIT\\3.jpg'/></div><div class=\"zoom\"><img style='width: 100px; height: 100px; margin: 1px; float: left; border: 0px solid black;'title=['.'] src='dataset_birds\\valid\\BLACK THROATED BUSHTIT\\4.jpg'/></div><div class=\"zoom\"><img style='width: 100px; height: 100px; margin: 1px; float: left; border: 0px solid black;'title=['.'] src='dataset_birds\\valid\\BLACK THROATED BUSHTIT\\5.jpg'/></div>"
      ],
      "text/plain": [
       "<IPython.core.display.HTML object>"
      ]
     },
     "metadata": {},
     "output_type": "display_data"
    },
    {
     "name": "stdout",
     "output_type": "stream",
     "text": [
      "Drawing .\n"
     ]
    },
    {
     "data": {
      "text/html": [
       "<div class=\"zoom\"><img style='width: 100px; height: 100px; margin: 1px; float: left; border: 0px solid black;'title=['.'] src='dataset_birds\\valid\\BLACK THROATED HUET\\1.jpg'/></div><div class=\"zoom\"><img style='width: 100px; height: 100px; margin: 1px; float: left; border: 0px solid black;'title=['.'] src='dataset_birds\\valid\\BLACK THROATED HUET\\2.jpg'/></div><div class=\"zoom\"><img style='width: 100px; height: 100px; margin: 1px; float: left; border: 0px solid black;'title=['.'] src='dataset_birds\\valid\\BLACK THROATED HUET\\3.jpg'/></div><div class=\"zoom\"><img style='width: 100px; height: 100px; margin: 1px; float: left; border: 0px solid black;'title=['.'] src='dataset_birds\\valid\\BLACK THROATED HUET\\4.jpg'/></div><div class=\"zoom\"><img style='width: 100px; height: 100px; margin: 1px; float: left; border: 0px solid black;'title=['.'] src='dataset_birds\\valid\\BLACK THROATED HUET\\5.jpg'/></div>"
      ],
      "text/plain": [
       "<IPython.core.display.HTML object>"
      ]
     },
     "metadata": {},
     "output_type": "display_data"
    },
    {
     "name": "stdout",
     "output_type": "stream",
     "text": [
      "Drawing .\n"
     ]
    },
    {
     "data": {
      "text/html": [
       "<div class=\"zoom\"><img style='width: 100px; height: 100px; margin: 1px; float: left; border: 0px solid black;'title=['.'] src='dataset_birds\\valid\\BLACK THROATED WARBLER\\1.jpg'/></div><div class=\"zoom\"><img style='width: 100px; height: 100px; margin: 1px; float: left; border: 0px solid black;'title=['.'] src='dataset_birds\\valid\\BLACK THROATED WARBLER\\2.jpg'/></div><div class=\"zoom\"><img style='width: 100px; height: 100px; margin: 1px; float: left; border: 0px solid black;'title=['.'] src='dataset_birds\\valid\\BLACK THROATED WARBLER\\3.jpg'/></div><div class=\"zoom\"><img style='width: 100px; height: 100px; margin: 1px; float: left; border: 0px solid black;'title=['.'] src='dataset_birds\\valid\\BLACK THROATED WARBLER\\4.jpg'/></div><div class=\"zoom\"><img style='width: 100px; height: 100px; margin: 1px; float: left; border: 0px solid black;'title=['.'] src='dataset_birds\\valid\\BLACK THROATED WARBLER\\5.jpg'/></div>"
      ],
      "text/plain": [
       "<IPython.core.display.HTML object>"
      ]
     },
     "metadata": {},
     "output_type": "display_data"
    },
    {
     "name": "stdout",
     "output_type": "stream",
     "text": [
      "Drawing .\n"
     ]
    },
    {
     "data": {
      "text/html": [
       "<div class=\"zoom\"><img style='width: 100px; height: 100px; margin: 1px; float: left; border: 0px solid black;'title=['.'] src='dataset_birds\\valid\\BLACK VENTED SHEARWATER\\1.jpg'/></div><div class=\"zoom\"><img style='width: 100px; height: 100px; margin: 1px; float: left; border: 0px solid black;'title=['.'] src='dataset_birds\\valid\\BLACK VENTED SHEARWATER\\2.jpg'/></div><div class=\"zoom\"><img style='width: 100px; height: 100px; margin: 1px; float: left; border: 0px solid black;'title=['.'] src='dataset_birds\\valid\\BLACK VENTED SHEARWATER\\3.jpg'/></div><div class=\"zoom\"><img style='width: 100px; height: 100px; margin: 1px; float: left; border: 0px solid black;'title=['.'] src='dataset_birds\\valid\\BLACK VENTED SHEARWATER\\4.jpg'/></div><div class=\"zoom\"><img style='width: 100px; height: 100px; margin: 1px; float: left; border: 0px solid black;'title=['.'] src='dataset_birds\\valid\\BLACK VENTED SHEARWATER\\5.jpg'/></div>"
      ],
      "text/plain": [
       "<IPython.core.display.HTML object>"
      ]
     },
     "metadata": {},
     "output_type": "display_data"
    },
    {
     "name": "stdout",
     "output_type": "stream",
     "text": [
      "Drawing .\n"
     ]
    },
    {
     "data": {
      "text/html": [
       "<div class=\"zoom\"><img style='width: 100px; height: 100px; margin: 1px; float: left; border: 0px solid black;'title=['.'] src='dataset_birds\\valid\\BLACK VULTURE\\1.jpg'/></div><div class=\"zoom\"><img style='width: 100px; height: 100px; margin: 1px; float: left; border: 0px solid black;'title=['.'] src='dataset_birds\\valid\\BLACK VULTURE\\2.jpg'/></div><div class=\"zoom\"><img style='width: 100px; height: 100px; margin: 1px; float: left; border: 0px solid black;'title=['.'] src='dataset_birds\\valid\\BLACK VULTURE\\3.jpg'/></div><div class=\"zoom\"><img style='width: 100px; height: 100px; margin: 1px; float: left; border: 0px solid black;'title=['.'] src='dataset_birds\\valid\\BLACK VULTURE\\4.jpg'/></div><div class=\"zoom\"><img style='width: 100px; height: 100px; margin: 1px; float: left; border: 0px solid black;'title=['.'] src='dataset_birds\\valid\\BLACK VULTURE\\5.jpg'/></div>"
      ],
      "text/plain": [
       "<IPython.core.display.HTML object>"
      ]
     },
     "metadata": {},
     "output_type": "display_data"
    },
    {
     "name": "stdout",
     "output_type": "stream",
     "text": [
      "Drawing .\n"
     ]
    },
    {
     "data": {
      "text/html": [
       "<div class=\"zoom\"><img style='width: 100px; height: 100px; margin: 1px; float: left; border: 0px solid black;'title=['.'] src='dataset_birds\\valid\\BLACK-CAPPED CHICKADEE\\1.jpg'/></div><div class=\"zoom\"><img style='width: 100px; height: 100px; margin: 1px; float: left; border: 0px solid black;'title=['.'] src='dataset_birds\\valid\\BLACK-CAPPED CHICKADEE\\2.jpg'/></div><div class=\"zoom\"><img style='width: 100px; height: 100px; margin: 1px; float: left; border: 0px solid black;'title=['.'] src='dataset_birds\\valid\\BLACK-CAPPED CHICKADEE\\3.jpg'/></div><div class=\"zoom\"><img style='width: 100px; height: 100px; margin: 1px; float: left; border: 0px solid black;'title=['.'] src='dataset_birds\\valid\\BLACK-CAPPED CHICKADEE\\4.jpg'/></div><div class=\"zoom\"><img style='width: 100px; height: 100px; margin: 1px; float: left; border: 0px solid black;'title=['.'] src='dataset_birds\\valid\\BLACK-CAPPED CHICKADEE\\5.jpg'/></div>"
      ],
      "text/plain": [
       "<IPython.core.display.HTML object>"
      ]
     },
     "metadata": {},
     "output_type": "display_data"
    },
    {
     "name": "stdout",
     "output_type": "stream",
     "text": [
      "Drawing .\n"
     ]
    },
    {
     "data": {
      "text/html": [
       "<div class=\"zoom\"><img style='width: 100px; height: 100px; margin: 1px; float: left; border: 0px solid black;'title=['.'] src='dataset_birds\\valid\\BLACK-NECKED GREBE\\1.jpg'/></div><div class=\"zoom\"><img style='width: 100px; height: 100px; margin: 1px; float: left; border: 0px solid black;'title=['.'] src='dataset_birds\\valid\\BLACK-NECKED GREBE\\2.jpg'/></div><div class=\"zoom\"><img style='width: 100px; height: 100px; margin: 1px; float: left; border: 0px solid black;'title=['.'] src='dataset_birds\\valid\\BLACK-NECKED GREBE\\3.jpg'/></div><div class=\"zoom\"><img style='width: 100px; height: 100px; margin: 1px; float: left; border: 0px solid black;'title=['.'] src='dataset_birds\\valid\\BLACK-NECKED GREBE\\4.jpg'/></div><div class=\"zoom\"><img style='width: 100px; height: 100px; margin: 1px; float: left; border: 0px solid black;'title=['.'] src='dataset_birds\\valid\\BLACK-NECKED GREBE\\5.jpg'/></div>"
      ],
      "text/plain": [
       "<IPython.core.display.HTML object>"
      ]
     },
     "metadata": {},
     "output_type": "display_data"
    },
    {
     "name": "stdout",
     "output_type": "stream",
     "text": [
      "Drawing .\n"
     ]
    },
    {
     "data": {
      "text/html": [
       "<div class=\"zoom\"><img style='width: 100px; height: 100px; margin: 1px; float: left; border: 0px solid black;'title=['.'] src='dataset_birds\\valid\\BLACK-THROATED SPARROW\\1.jpg'/></div><div class=\"zoom\"><img style='width: 100px; height: 100px; margin: 1px; float: left; border: 0px solid black;'title=['.'] src='dataset_birds\\valid\\BLACK-THROATED SPARROW\\2.jpg'/></div><div class=\"zoom\"><img style='width: 100px; height: 100px; margin: 1px; float: left; border: 0px solid black;'title=['.'] src='dataset_birds\\valid\\BLACK-THROATED SPARROW\\3.jpg'/></div><div class=\"zoom\"><img style='width: 100px; height: 100px; margin: 1px; float: left; border: 0px solid black;'title=['.'] src='dataset_birds\\valid\\BLACK-THROATED SPARROW\\4.jpg'/></div><div class=\"zoom\"><img style='width: 100px; height: 100px; margin: 1px; float: left; border: 0px solid black;'title=['.'] src='dataset_birds\\valid\\BLACK-THROATED SPARROW\\5.jpg'/></div>"
      ],
      "text/plain": [
       "<IPython.core.display.HTML object>"
      ]
     },
     "metadata": {},
     "output_type": "display_data"
    },
    {
     "name": "stdout",
     "output_type": "stream",
     "text": [
      "Drawing .\n"
     ]
    },
    {
     "data": {
      "text/html": [
       "<div class=\"zoom\"><img style='width: 100px; height: 100px; margin: 1px; float: left; border: 0px solid black;'title=['.'] src='dataset_birds\\valid\\BLACKBURNIAM WARBLER\\1.jpg'/></div><div class=\"zoom\"><img style='width: 100px; height: 100px; margin: 1px; float: left; border: 0px solid black;'title=['.'] src='dataset_birds\\valid\\BLACKBURNIAM WARBLER\\2.jpg'/></div><div class=\"zoom\"><img style='width: 100px; height: 100px; margin: 1px; float: left; border: 0px solid black;'title=['.'] src='dataset_birds\\valid\\BLACKBURNIAM WARBLER\\3.jpg'/></div><div class=\"zoom\"><img style='width: 100px; height: 100px; margin: 1px; float: left; border: 0px solid black;'title=['.'] src='dataset_birds\\valid\\BLACKBURNIAM WARBLER\\4.jpg'/></div><div class=\"zoom\"><img style='width: 100px; height: 100px; margin: 1px; float: left; border: 0px solid black;'title=['.'] src='dataset_birds\\valid\\BLACKBURNIAM WARBLER\\5.jpg'/></div>"
      ],
      "text/plain": [
       "<IPython.core.display.HTML object>"
      ]
     },
     "metadata": {},
     "output_type": "display_data"
    },
    {
     "name": "stdout",
     "output_type": "stream",
     "text": [
      "Drawing .\n"
     ]
    },
    {
     "data": {
      "text/html": [
       "<div class=\"zoom\"><img style='width: 100px; height: 100px; margin: 1px; float: left; border: 0px solid black;'title=['.'] src='dataset_birds\\valid\\BLONDE CRESTED WOODPECKER\\1.jpg'/></div><div class=\"zoom\"><img style='width: 100px; height: 100px; margin: 1px; float: left; border: 0px solid black;'title=['.'] src='dataset_birds\\valid\\BLONDE CRESTED WOODPECKER\\2.jpg'/></div><div class=\"zoom\"><img style='width: 100px; height: 100px; margin: 1px; float: left; border: 0px solid black;'title=['.'] src='dataset_birds\\valid\\BLONDE CRESTED WOODPECKER\\3.jpg'/></div><div class=\"zoom\"><img style='width: 100px; height: 100px; margin: 1px; float: left; border: 0px solid black;'title=['.'] src='dataset_birds\\valid\\BLONDE CRESTED WOODPECKER\\4.jpg'/></div><div class=\"zoom\"><img style='width: 100px; height: 100px; margin: 1px; float: left; border: 0px solid black;'title=['.'] src='dataset_birds\\valid\\BLONDE CRESTED WOODPECKER\\5.jpg'/></div>"
      ],
      "text/plain": [
       "<IPython.core.display.HTML object>"
      ]
     },
     "metadata": {},
     "output_type": "display_data"
    },
    {
     "name": "stdout",
     "output_type": "stream",
     "text": [
      "Drawing .\n"
     ]
    },
    {
     "data": {
      "text/html": [
       "<div class=\"zoom\"><img style='width: 100px; height: 100px; margin: 1px; float: left; border: 0px solid black;'title=['.'] src='dataset_birds\\valid\\BLOOD PHEASANT\\1.jpg'/></div><div class=\"zoom\"><img style='width: 100px; height: 100px; margin: 1px; float: left; border: 0px solid black;'title=['.'] src='dataset_birds\\valid\\BLOOD PHEASANT\\2.jpg'/></div><div class=\"zoom\"><img style='width: 100px; height: 100px; margin: 1px; float: left; border: 0px solid black;'title=['.'] src='dataset_birds\\valid\\BLOOD PHEASANT\\3.jpg'/></div><div class=\"zoom\"><img style='width: 100px; height: 100px; margin: 1px; float: left; border: 0px solid black;'title=['.'] src='dataset_birds\\valid\\BLOOD PHEASANT\\4.jpg'/></div><div class=\"zoom\"><img style='width: 100px; height: 100px; margin: 1px; float: left; border: 0px solid black;'title=['.'] src='dataset_birds\\valid\\BLOOD PHEASANT\\5.jpg'/></div>"
      ],
      "text/plain": [
       "<IPython.core.display.HTML object>"
      ]
     },
     "metadata": {},
     "output_type": "display_data"
    },
    {
     "name": "stdout",
     "output_type": "stream",
     "text": [
      "Drawing .\n"
     ]
    },
    {
     "data": {
      "text/html": [
       "<div class=\"zoom\"><img style='width: 100px; height: 100px; margin: 1px; float: left; border: 0px solid black;'title=['.'] src='dataset_birds\\valid\\BLUE COAU\\1.jpg'/></div><div class=\"zoom\"><img style='width: 100px; height: 100px; margin: 1px; float: left; border: 0px solid black;'title=['.'] src='dataset_birds\\valid\\BLUE COAU\\2.jpg'/></div><div class=\"zoom\"><img style='width: 100px; height: 100px; margin: 1px; float: left; border: 0px solid black;'title=['.'] src='dataset_birds\\valid\\BLUE COAU\\3.jpg'/></div><div class=\"zoom\"><img style='width: 100px; height: 100px; margin: 1px; float: left; border: 0px solid black;'title=['.'] src='dataset_birds\\valid\\BLUE COAU\\4.jpg'/></div><div class=\"zoom\"><img style='width: 100px; height: 100px; margin: 1px; float: left; border: 0px solid black;'title=['.'] src='dataset_birds\\valid\\BLUE COAU\\5.jpg'/></div>"
      ],
      "text/plain": [
       "<IPython.core.display.HTML object>"
      ]
     },
     "metadata": {},
     "output_type": "display_data"
    },
    {
     "name": "stdout",
     "output_type": "stream",
     "text": [
      "Drawing .\n"
     ]
    },
    {
     "data": {
      "text/html": [
       "<div class=\"zoom\"><img style='width: 100px; height: 100px; margin: 1px; float: left; border: 0px solid black;'title=['.'] src='dataset_birds\\valid\\BLUE DACNIS\\1.jpg'/></div><div class=\"zoom\"><img style='width: 100px; height: 100px; margin: 1px; float: left; border: 0px solid black;'title=['.'] src='dataset_birds\\valid\\BLUE DACNIS\\2.jpg'/></div><div class=\"zoom\"><img style='width: 100px; height: 100px; margin: 1px; float: left; border: 0px solid black;'title=['.'] src='dataset_birds\\valid\\BLUE DACNIS\\3.jpg'/></div><div class=\"zoom\"><img style='width: 100px; height: 100px; margin: 1px; float: left; border: 0px solid black;'title=['.'] src='dataset_birds\\valid\\BLUE DACNIS\\4.jpg'/></div><div class=\"zoom\"><img style='width: 100px; height: 100px; margin: 1px; float: left; border: 0px solid black;'title=['.'] src='dataset_birds\\valid\\BLUE DACNIS\\5.jpg'/></div>"
      ],
      "text/plain": [
       "<IPython.core.display.HTML object>"
      ]
     },
     "metadata": {},
     "output_type": "display_data"
    },
    {
     "name": "stdout",
     "output_type": "stream",
     "text": [
      "Drawing .\n"
     ]
    },
    {
     "data": {
      "text/html": [
       "<div class=\"zoom\"><img style='width: 100px; height: 100px; margin: 1px; float: left; border: 0px solid black;'title=['.'] src='dataset_birds\\valid\\BLUE GRAY GNATCATCHER\\1.jpg'/></div><div class=\"zoom\"><img style='width: 100px; height: 100px; margin: 1px; float: left; border: 0px solid black;'title=['.'] src='dataset_birds\\valid\\BLUE GRAY GNATCATCHER\\2.jpg'/></div><div class=\"zoom\"><img style='width: 100px; height: 100px; margin: 1px; float: left; border: 0px solid black;'title=['.'] src='dataset_birds\\valid\\BLUE GRAY GNATCATCHER\\3.jpg'/></div><div class=\"zoom\"><img style='width: 100px; height: 100px; margin: 1px; float: left; border: 0px solid black;'title=['.'] src='dataset_birds\\valid\\BLUE GRAY GNATCATCHER\\4.jpg'/></div><div class=\"zoom\"><img style='width: 100px; height: 100px; margin: 1px; float: left; border: 0px solid black;'title=['.'] src='dataset_birds\\valid\\BLUE GRAY GNATCATCHER\\5.jpg'/></div>"
      ],
      "text/plain": [
       "<IPython.core.display.HTML object>"
      ]
     },
     "metadata": {},
     "output_type": "display_data"
    },
    {
     "name": "stdout",
     "output_type": "stream",
     "text": [
      "Drawing .\n"
     ]
    },
    {
     "data": {
      "text/html": [
       "<div class=\"zoom\"><img style='width: 100px; height: 100px; margin: 1px; float: left; border: 0px solid black;'title=['.'] src='dataset_birds\\valid\\BLUE GROSBEAK\\1.jpg'/></div><div class=\"zoom\"><img style='width: 100px; height: 100px; margin: 1px; float: left; border: 0px solid black;'title=['.'] src='dataset_birds\\valid\\BLUE GROSBEAK\\2.jpg'/></div><div class=\"zoom\"><img style='width: 100px; height: 100px; margin: 1px; float: left; border: 0px solid black;'title=['.'] src='dataset_birds\\valid\\BLUE GROSBEAK\\3.jpg'/></div><div class=\"zoom\"><img style='width: 100px; height: 100px; margin: 1px; float: left; border: 0px solid black;'title=['.'] src='dataset_birds\\valid\\BLUE GROSBEAK\\4.jpg'/></div><div class=\"zoom\"><img style='width: 100px; height: 100px; margin: 1px; float: left; border: 0px solid black;'title=['.'] src='dataset_birds\\valid\\BLUE GROSBEAK\\5.jpg'/></div>"
      ],
      "text/plain": [
       "<IPython.core.display.HTML object>"
      ]
     },
     "metadata": {},
     "output_type": "display_data"
    },
    {
     "name": "stdout",
     "output_type": "stream",
     "text": [
      "Drawing .\n"
     ]
    },
    {
     "data": {
      "text/html": [
       "<div class=\"zoom\"><img style='width: 100px; height: 100px; margin: 1px; float: left; border: 0px solid black;'title=['.'] src='dataset_birds\\valid\\BLUE GROUSE\\1.jpg'/></div><div class=\"zoom\"><img style='width: 100px; height: 100px; margin: 1px; float: left; border: 0px solid black;'title=['.'] src='dataset_birds\\valid\\BLUE GROUSE\\2.jpg'/></div><div class=\"zoom\"><img style='width: 100px; height: 100px; margin: 1px; float: left; border: 0px solid black;'title=['.'] src='dataset_birds\\valid\\BLUE GROUSE\\3.jpg'/></div><div class=\"zoom\"><img style='width: 100px; height: 100px; margin: 1px; float: left; border: 0px solid black;'title=['.'] src='dataset_birds\\valid\\BLUE GROUSE\\4.jpg'/></div><div class=\"zoom\"><img style='width: 100px; height: 100px; margin: 1px; float: left; border: 0px solid black;'title=['.'] src='dataset_birds\\valid\\BLUE GROUSE\\5.jpg'/></div>"
      ],
      "text/plain": [
       "<IPython.core.display.HTML object>"
      ]
     },
     "metadata": {},
     "output_type": "display_data"
    },
    {
     "name": "stdout",
     "output_type": "stream",
     "text": [
      "Drawing .\n"
     ]
    },
    {
     "data": {
      "text/html": [
       "<div class=\"zoom\"><img style='width: 100px; height: 100px; margin: 1px; float: left; border: 0px solid black;'title=['.'] src='dataset_birds\\valid\\BLUE HERON\\1.jpg'/></div><div class=\"zoom\"><img style='width: 100px; height: 100px; margin: 1px; float: left; border: 0px solid black;'title=['.'] src='dataset_birds\\valid\\BLUE HERON\\2.jpg'/></div><div class=\"zoom\"><img style='width: 100px; height: 100px; margin: 1px; float: left; border: 0px solid black;'title=['.'] src='dataset_birds\\valid\\BLUE HERON\\3.jpg'/></div><div class=\"zoom\"><img style='width: 100px; height: 100px; margin: 1px; float: left; border: 0px solid black;'title=['.'] src='dataset_birds\\valid\\BLUE HERON\\4.jpg'/></div><div class=\"zoom\"><img style='width: 100px; height: 100px; margin: 1px; float: left; border: 0px solid black;'title=['.'] src='dataset_birds\\valid\\BLUE HERON\\5.jpg'/></div>"
      ],
      "text/plain": [
       "<IPython.core.display.HTML object>"
      ]
     },
     "metadata": {},
     "output_type": "display_data"
    },
    {
     "name": "stdout",
     "output_type": "stream",
     "text": [
      "Drawing .\n"
     ]
    },
    {
     "data": {
      "text/html": [
       "<div class=\"zoom\"><img style='width: 100px; height: 100px; margin: 1px; float: left; border: 0px solid black;'title=['.'] src='dataset_birds\\valid\\BLUE MALKOHA\\1.jpg'/></div><div class=\"zoom\"><img style='width: 100px; height: 100px; margin: 1px; float: left; border: 0px solid black;'title=['.'] src='dataset_birds\\valid\\BLUE MALKOHA\\2.jpg'/></div><div class=\"zoom\"><img style='width: 100px; height: 100px; margin: 1px; float: left; border: 0px solid black;'title=['.'] src='dataset_birds\\valid\\BLUE MALKOHA\\3.jpg'/></div><div class=\"zoom\"><img style='width: 100px; height: 100px; margin: 1px; float: left; border: 0px solid black;'title=['.'] src='dataset_birds\\valid\\BLUE MALKOHA\\4.jpg'/></div><div class=\"zoom\"><img style='width: 100px; height: 100px; margin: 1px; float: left; border: 0px solid black;'title=['.'] src='dataset_birds\\valid\\BLUE MALKOHA\\5.jpg'/></div>"
      ],
      "text/plain": [
       "<IPython.core.display.HTML object>"
      ]
     },
     "metadata": {},
     "output_type": "display_data"
    },
    {
     "name": "stdout",
     "output_type": "stream",
     "text": [
      "Drawing .\n"
     ]
    },
    {
     "data": {
      "text/html": [
       "<div class=\"zoom\"><img style='width: 100px; height: 100px; margin: 1px; float: left; border: 0px solid black;'title=['.'] src='dataset_birds\\valid\\BLUE THROATED PIPING GUAN\\1.jpg'/></div><div class=\"zoom\"><img style='width: 100px; height: 100px; margin: 1px; float: left; border: 0px solid black;'title=['.'] src='dataset_birds\\valid\\BLUE THROATED PIPING GUAN\\2.jpg'/></div><div class=\"zoom\"><img style='width: 100px; height: 100px; margin: 1px; float: left; border: 0px solid black;'title=['.'] src='dataset_birds\\valid\\BLUE THROATED PIPING GUAN\\3.jpg'/></div><div class=\"zoom\"><img style='width: 100px; height: 100px; margin: 1px; float: left; border: 0px solid black;'title=['.'] src='dataset_birds\\valid\\BLUE THROATED PIPING GUAN\\4.jpg'/></div><div class=\"zoom\"><img style='width: 100px; height: 100px; margin: 1px; float: left; border: 0px solid black;'title=['.'] src='dataset_birds\\valid\\BLUE THROATED PIPING GUAN\\5.jpg'/></div>"
      ],
      "text/plain": [
       "<IPython.core.display.HTML object>"
      ]
     },
     "metadata": {},
     "output_type": "display_data"
    },
    {
     "name": "stdout",
     "output_type": "stream",
     "text": [
      "Drawing .\n"
     ]
    },
    {
     "data": {
      "text/html": [
       "<div class=\"zoom\"><img style='width: 100px; height: 100px; margin: 1px; float: left; border: 0px solid black;'title=['.'] src='dataset_birds\\valid\\BLUE THROATED TOUCANET\\1.jpg'/></div><div class=\"zoom\"><img style='width: 100px; height: 100px; margin: 1px; float: left; border: 0px solid black;'title=['.'] src='dataset_birds\\valid\\BLUE THROATED TOUCANET\\2.jpg'/></div><div class=\"zoom\"><img style='width: 100px; height: 100px; margin: 1px; float: left; border: 0px solid black;'title=['.'] src='dataset_birds\\valid\\BLUE THROATED TOUCANET\\3.jpg'/></div><div class=\"zoom\"><img style='width: 100px; height: 100px; margin: 1px; float: left; border: 0px solid black;'title=['.'] src='dataset_birds\\valid\\BLUE THROATED TOUCANET\\4.jpg'/></div><div class=\"zoom\"><img style='width: 100px; height: 100px; margin: 1px; float: left; border: 0px solid black;'title=['.'] src='dataset_birds\\valid\\BLUE THROATED TOUCANET\\5.jpg'/></div>"
      ],
      "text/plain": [
       "<IPython.core.display.HTML object>"
      ]
     },
     "metadata": {},
     "output_type": "display_data"
    },
    {
     "name": "stdout",
     "output_type": "stream",
     "text": [
      "Drawing .\n"
     ]
    },
    {
     "data": {
      "text/html": [
       "<div class=\"zoom\"><img style='width: 100px; height: 100px; margin: 1px; float: left; border: 0px solid black;'title=['.'] src='dataset_birds\\valid\\BOBOLINK\\1.jpg'/></div><div class=\"zoom\"><img style='width: 100px; height: 100px; margin: 1px; float: left; border: 0px solid black;'title=['.'] src='dataset_birds\\valid\\BOBOLINK\\2.jpg'/></div><div class=\"zoom\"><img style='width: 100px; height: 100px; margin: 1px; float: left; border: 0px solid black;'title=['.'] src='dataset_birds\\valid\\BOBOLINK\\3.jpg'/></div><div class=\"zoom\"><img style='width: 100px; height: 100px; margin: 1px; float: left; border: 0px solid black;'title=['.'] src='dataset_birds\\valid\\BOBOLINK\\4.jpg'/></div><div class=\"zoom\"><img style='width: 100px; height: 100px; margin: 1px; float: left; border: 0px solid black;'title=['.'] src='dataset_birds\\valid\\BOBOLINK\\5.jpg'/></div>"
      ],
      "text/plain": [
       "<IPython.core.display.HTML object>"
      ]
     },
     "metadata": {},
     "output_type": "display_data"
    },
    {
     "name": "stdout",
     "output_type": "stream",
     "text": [
      "Drawing .\n"
     ]
    },
    {
     "data": {
      "text/html": [
       "<div class=\"zoom\"><img style='width: 100px; height: 100px; margin: 1px; float: left; border: 0px solid black;'title=['.'] src='dataset_birds\\valid\\BORNEAN BRISTLEHEAD\\1.jpg'/></div><div class=\"zoom\"><img style='width: 100px; height: 100px; margin: 1px; float: left; border: 0px solid black;'title=['.'] src='dataset_birds\\valid\\BORNEAN BRISTLEHEAD\\2.jpg'/></div><div class=\"zoom\"><img style='width: 100px; height: 100px; margin: 1px; float: left; border: 0px solid black;'title=['.'] src='dataset_birds\\valid\\BORNEAN BRISTLEHEAD\\3.jpg'/></div><div class=\"zoom\"><img style='width: 100px; height: 100px; margin: 1px; float: left; border: 0px solid black;'title=['.'] src='dataset_birds\\valid\\BORNEAN BRISTLEHEAD\\4.jpg'/></div><div class=\"zoom\"><img style='width: 100px; height: 100px; margin: 1px; float: left; border: 0px solid black;'title=['.'] src='dataset_birds\\valid\\BORNEAN BRISTLEHEAD\\5.jpg'/></div>"
      ],
      "text/plain": [
       "<IPython.core.display.HTML object>"
      ]
     },
     "metadata": {},
     "output_type": "display_data"
    },
    {
     "name": "stdout",
     "output_type": "stream",
     "text": [
      "Drawing .\n"
     ]
    },
    {
     "data": {
      "text/html": [
       "<div class=\"zoom\"><img style='width: 100px; height: 100px; margin: 1px; float: left; border: 0px solid black;'title=['.'] src='dataset_birds\\valid\\BORNEAN LEAFBIRD\\1.jpg'/></div><div class=\"zoom\"><img style='width: 100px; height: 100px; margin: 1px; float: left; border: 0px solid black;'title=['.'] src='dataset_birds\\valid\\BORNEAN LEAFBIRD\\2.jpg'/></div><div class=\"zoom\"><img style='width: 100px; height: 100px; margin: 1px; float: left; border: 0px solid black;'title=['.'] src='dataset_birds\\valid\\BORNEAN LEAFBIRD\\3.jpg'/></div><div class=\"zoom\"><img style='width: 100px; height: 100px; margin: 1px; float: left; border: 0px solid black;'title=['.'] src='dataset_birds\\valid\\BORNEAN LEAFBIRD\\4.jpg'/></div><div class=\"zoom\"><img style='width: 100px; height: 100px; margin: 1px; float: left; border: 0px solid black;'title=['.'] src='dataset_birds\\valid\\BORNEAN LEAFBIRD\\5.jpg'/></div>"
      ],
      "text/plain": [
       "<IPython.core.display.HTML object>"
      ]
     },
     "metadata": {},
     "output_type": "display_data"
    },
    {
     "name": "stdout",
     "output_type": "stream",
     "text": [
      "Drawing .\n"
     ]
    },
    {
     "data": {
      "text/html": [
       "<div class=\"zoom\"><img style='width: 100px; height: 100px; margin: 1px; float: left; border: 0px solid black;'title=['.'] src='dataset_birds\\valid\\BORNEAN PHEASANT\\1.jpg'/></div><div class=\"zoom\"><img style='width: 100px; height: 100px; margin: 1px; float: left; border: 0px solid black;'title=['.'] src='dataset_birds\\valid\\BORNEAN PHEASANT\\2.jpg'/></div><div class=\"zoom\"><img style='width: 100px; height: 100px; margin: 1px; float: left; border: 0px solid black;'title=['.'] src='dataset_birds\\valid\\BORNEAN PHEASANT\\3.jpg'/></div><div class=\"zoom\"><img style='width: 100px; height: 100px; margin: 1px; float: left; border: 0px solid black;'title=['.'] src='dataset_birds\\valid\\BORNEAN PHEASANT\\4.jpg'/></div><div class=\"zoom\"><img style='width: 100px; height: 100px; margin: 1px; float: left; border: 0px solid black;'title=['.'] src='dataset_birds\\valid\\BORNEAN PHEASANT\\5.jpg'/></div>"
      ],
      "text/plain": [
       "<IPython.core.display.HTML object>"
      ]
     },
     "metadata": {},
     "output_type": "display_data"
    },
    {
     "name": "stdout",
     "output_type": "stream",
     "text": [
      "Drawing .\n"
     ]
    },
    {
     "data": {
      "text/html": [
       "<div class=\"zoom\"><img style='width: 100px; height: 100px; margin: 1px; float: left; border: 0px solid black;'title=['.'] src='dataset_birds\\valid\\BRANDT CORMARANT\\1.jpg'/></div><div class=\"zoom\"><img style='width: 100px; height: 100px; margin: 1px; float: left; border: 0px solid black;'title=['.'] src='dataset_birds\\valid\\BRANDT CORMARANT\\2.jpg'/></div><div class=\"zoom\"><img style='width: 100px; height: 100px; margin: 1px; float: left; border: 0px solid black;'title=['.'] src='dataset_birds\\valid\\BRANDT CORMARANT\\3.jpg'/></div><div class=\"zoom\"><img style='width: 100px; height: 100px; margin: 1px; float: left; border: 0px solid black;'title=['.'] src='dataset_birds\\valid\\BRANDT CORMARANT\\4.jpg'/></div><div class=\"zoom\"><img style='width: 100px; height: 100px; margin: 1px; float: left; border: 0px solid black;'title=['.'] src='dataset_birds\\valid\\BRANDT CORMARANT\\5.jpg'/></div>"
      ],
      "text/plain": [
       "<IPython.core.display.HTML object>"
      ]
     },
     "metadata": {},
     "output_type": "display_data"
    },
    {
     "name": "stdout",
     "output_type": "stream",
     "text": [
      "Drawing .\n"
     ]
    },
    {
     "data": {
      "text/html": [
       "<div class=\"zoom\"><img style='width: 100px; height: 100px; margin: 1px; float: left; border: 0px solid black;'title=['.'] src='dataset_birds\\valid\\BREWERS BLACKBIRD\\1.jpg'/></div><div class=\"zoom\"><img style='width: 100px; height: 100px; margin: 1px; float: left; border: 0px solid black;'title=['.'] src='dataset_birds\\valid\\BREWERS BLACKBIRD\\2.jpg'/></div><div class=\"zoom\"><img style='width: 100px; height: 100px; margin: 1px; float: left; border: 0px solid black;'title=['.'] src='dataset_birds\\valid\\BREWERS BLACKBIRD\\3.jpg'/></div><div class=\"zoom\"><img style='width: 100px; height: 100px; margin: 1px; float: left; border: 0px solid black;'title=['.'] src='dataset_birds\\valid\\BREWERS BLACKBIRD\\4.jpg'/></div><div class=\"zoom\"><img style='width: 100px; height: 100px; margin: 1px; float: left; border: 0px solid black;'title=['.'] src='dataset_birds\\valid\\BREWERS BLACKBIRD\\5.jpg'/></div>"
      ],
      "text/plain": [
       "<IPython.core.display.HTML object>"
      ]
     },
     "metadata": {},
     "output_type": "display_data"
    },
    {
     "name": "stdout",
     "output_type": "stream",
     "text": [
      "Drawing .\n"
     ]
    },
    {
     "data": {
      "text/html": [
       "<div class=\"zoom\"><img style='width: 100px; height: 100px; margin: 1px; float: left; border: 0px solid black;'title=['.'] src='dataset_birds\\valid\\BROWN CREPPER\\1.jpg'/></div><div class=\"zoom\"><img style='width: 100px; height: 100px; margin: 1px; float: left; border: 0px solid black;'title=['.'] src='dataset_birds\\valid\\BROWN CREPPER\\2.jpg'/></div><div class=\"zoom\"><img style='width: 100px; height: 100px; margin: 1px; float: left; border: 0px solid black;'title=['.'] src='dataset_birds\\valid\\BROWN CREPPER\\3.jpg'/></div><div class=\"zoom\"><img style='width: 100px; height: 100px; margin: 1px; float: left; border: 0px solid black;'title=['.'] src='dataset_birds\\valid\\BROWN CREPPER\\4.jpg'/></div><div class=\"zoom\"><img style='width: 100px; height: 100px; margin: 1px; float: left; border: 0px solid black;'title=['.'] src='dataset_birds\\valid\\BROWN CREPPER\\5.jpg'/></div>"
      ],
      "text/plain": [
       "<IPython.core.display.HTML object>"
      ]
     },
     "metadata": {},
     "output_type": "display_data"
    },
    {
     "name": "stdout",
     "output_type": "stream",
     "text": [
      "Drawing .\n"
     ]
    },
    {
     "data": {
      "text/html": [
       "<div class=\"zoom\"><img style='width: 100px; height: 100px; margin: 1px; float: left; border: 0px solid black;'title=['.'] src='dataset_birds\\valid\\BROWN HEADED COWBIRD\\1.jpg'/></div><div class=\"zoom\"><img style='width: 100px; height: 100px; margin: 1px; float: left; border: 0px solid black;'title=['.'] src='dataset_birds\\valid\\BROWN HEADED COWBIRD\\2.jpg'/></div><div class=\"zoom\"><img style='width: 100px; height: 100px; margin: 1px; float: left; border: 0px solid black;'title=['.'] src='dataset_birds\\valid\\BROWN HEADED COWBIRD\\3.jpg'/></div><div class=\"zoom\"><img style='width: 100px; height: 100px; margin: 1px; float: left; border: 0px solid black;'title=['.'] src='dataset_birds\\valid\\BROWN HEADED COWBIRD\\4.jpg'/></div><div class=\"zoom\"><img style='width: 100px; height: 100px; margin: 1px; float: left; border: 0px solid black;'title=['.'] src='dataset_birds\\valid\\BROWN HEADED COWBIRD\\5.jpg'/></div>"
      ],
      "text/plain": [
       "<IPython.core.display.HTML object>"
      ]
     },
     "metadata": {},
     "output_type": "display_data"
    },
    {
     "name": "stdout",
     "output_type": "stream",
     "text": [
      "Drawing .\n"
     ]
    },
    {
     "data": {
      "text/html": [
       "<div class=\"zoom\"><img style='width: 100px; height: 100px; margin: 1px; float: left; border: 0px solid black;'title=['.'] src='dataset_birds\\valid\\BROWN NOODY\\1.jpg'/></div><div class=\"zoom\"><img style='width: 100px; height: 100px; margin: 1px; float: left; border: 0px solid black;'title=['.'] src='dataset_birds\\valid\\BROWN NOODY\\2.jpg'/></div><div class=\"zoom\"><img style='width: 100px; height: 100px; margin: 1px; float: left; border: 0px solid black;'title=['.'] src='dataset_birds\\valid\\BROWN NOODY\\3.jpg'/></div><div class=\"zoom\"><img style='width: 100px; height: 100px; margin: 1px; float: left; border: 0px solid black;'title=['.'] src='dataset_birds\\valid\\BROWN NOODY\\4.jpg'/></div><div class=\"zoom\"><img style='width: 100px; height: 100px; margin: 1px; float: left; border: 0px solid black;'title=['.'] src='dataset_birds\\valid\\BROWN NOODY\\5.jpg'/></div>"
      ],
      "text/plain": [
       "<IPython.core.display.HTML object>"
      ]
     },
     "metadata": {},
     "output_type": "display_data"
    },
    {
     "name": "stdout",
     "output_type": "stream",
     "text": [
      "Drawing .\n"
     ]
    },
    {
     "data": {
      "text/html": [
       "<div class=\"zoom\"><img style='width: 100px; height: 100px; margin: 1px; float: left; border: 0px solid black;'title=['.'] src='dataset_birds\\valid\\BROWN THRASHER\\1.jpg'/></div><div class=\"zoom\"><img style='width: 100px; height: 100px; margin: 1px; float: left; border: 0px solid black;'title=['.'] src='dataset_birds\\valid\\BROWN THRASHER\\2.jpg'/></div><div class=\"zoom\"><img style='width: 100px; height: 100px; margin: 1px; float: left; border: 0px solid black;'title=['.'] src='dataset_birds\\valid\\BROWN THRASHER\\3.jpg'/></div><div class=\"zoom\"><img style='width: 100px; height: 100px; margin: 1px; float: left; border: 0px solid black;'title=['.'] src='dataset_birds\\valid\\BROWN THRASHER\\4.jpg'/></div><div class=\"zoom\"><img style='width: 100px; height: 100px; margin: 1px; float: left; border: 0px solid black;'title=['.'] src='dataset_birds\\valid\\BROWN THRASHER\\5.jpg'/></div>"
      ],
      "text/plain": [
       "<IPython.core.display.HTML object>"
      ]
     },
     "metadata": {},
     "output_type": "display_data"
    },
    {
     "name": "stdout",
     "output_type": "stream",
     "text": [
      "Drawing .\n"
     ]
    },
    {
     "data": {
      "text/html": [
       "<div class=\"zoom\"><img style='width: 100px; height: 100px; margin: 1px; float: left; border: 0px solid black;'title=['.'] src='dataset_birds\\valid\\BUFFLEHEAD\\1.jpg'/></div><div class=\"zoom\"><img style='width: 100px; height: 100px; margin: 1px; float: left; border: 0px solid black;'title=['.'] src='dataset_birds\\valid\\BUFFLEHEAD\\2.jpg'/></div><div class=\"zoom\"><img style='width: 100px; height: 100px; margin: 1px; float: left; border: 0px solid black;'title=['.'] src='dataset_birds\\valid\\BUFFLEHEAD\\3.jpg'/></div><div class=\"zoom\"><img style='width: 100px; height: 100px; margin: 1px; float: left; border: 0px solid black;'title=['.'] src='dataset_birds\\valid\\BUFFLEHEAD\\4.jpg'/></div><div class=\"zoom\"><img style='width: 100px; height: 100px; margin: 1px; float: left; border: 0px solid black;'title=['.'] src='dataset_birds\\valid\\BUFFLEHEAD\\5.jpg'/></div>"
      ],
      "text/plain": [
       "<IPython.core.display.HTML object>"
      ]
     },
     "metadata": {},
     "output_type": "display_data"
    },
    {
     "name": "stdout",
     "output_type": "stream",
     "text": [
      "Drawing .\n"
     ]
    },
    {
     "data": {
      "text/html": [
       "<div class=\"zoom\"><img style='width: 100px; height: 100px; margin: 1px; float: left; border: 0px solid black;'title=['.'] src='dataset_birds\\valid\\BULWERS PHEASANT\\1.jpg'/></div><div class=\"zoom\"><img style='width: 100px; height: 100px; margin: 1px; float: left; border: 0px solid black;'title=['.'] src='dataset_birds\\valid\\BULWERS PHEASANT\\2.jpg'/></div><div class=\"zoom\"><img style='width: 100px; height: 100px; margin: 1px; float: left; border: 0px solid black;'title=['.'] src='dataset_birds\\valid\\BULWERS PHEASANT\\3.jpg'/></div><div class=\"zoom\"><img style='width: 100px; height: 100px; margin: 1px; float: left; border: 0px solid black;'title=['.'] src='dataset_birds\\valid\\BULWERS PHEASANT\\4.jpg'/></div><div class=\"zoom\"><img style='width: 100px; height: 100px; margin: 1px; float: left; border: 0px solid black;'title=['.'] src='dataset_birds\\valid\\BULWERS PHEASANT\\5.jpg'/></div>"
      ],
      "text/plain": [
       "<IPython.core.display.HTML object>"
      ]
     },
     "metadata": {},
     "output_type": "display_data"
    },
    {
     "name": "stdout",
     "output_type": "stream",
     "text": [
      "Drawing .\n"
     ]
    },
    {
     "data": {
      "text/html": [
       "<div class=\"zoom\"><img style='width: 100px; height: 100px; margin: 1px; float: left; border: 0px solid black;'title=['.'] src='dataset_birds\\valid\\BURCHELLS COURSER\\1.jpg'/></div><div class=\"zoom\"><img style='width: 100px; height: 100px; margin: 1px; float: left; border: 0px solid black;'title=['.'] src='dataset_birds\\valid\\BURCHELLS COURSER\\2.jpg'/></div><div class=\"zoom\"><img style='width: 100px; height: 100px; margin: 1px; float: left; border: 0px solid black;'title=['.'] src='dataset_birds\\valid\\BURCHELLS COURSER\\3.jpg'/></div><div class=\"zoom\"><img style='width: 100px; height: 100px; margin: 1px; float: left; border: 0px solid black;'title=['.'] src='dataset_birds\\valid\\BURCHELLS COURSER\\4.jpg'/></div><div class=\"zoom\"><img style='width: 100px; height: 100px; margin: 1px; float: left; border: 0px solid black;'title=['.'] src='dataset_birds\\valid\\BURCHELLS COURSER\\5.jpg'/></div>"
      ],
      "text/plain": [
       "<IPython.core.display.HTML object>"
      ]
     },
     "metadata": {},
     "output_type": "display_data"
    },
    {
     "name": "stdout",
     "output_type": "stream",
     "text": [
      "Drawing .\n"
     ]
    },
    {
     "data": {
      "text/html": [
       "<div class=\"zoom\"><img style='width: 100px; height: 100px; margin: 1px; float: left; border: 0px solid black;'title=['.'] src='dataset_birds\\valid\\BUSH TURKEY\\1.jpg'/></div><div class=\"zoom\"><img style='width: 100px; height: 100px; margin: 1px; float: left; border: 0px solid black;'title=['.'] src='dataset_birds\\valid\\BUSH TURKEY\\2.jpg'/></div><div class=\"zoom\"><img style='width: 100px; height: 100px; margin: 1px; float: left; border: 0px solid black;'title=['.'] src='dataset_birds\\valid\\BUSH TURKEY\\3.jpg'/></div><div class=\"zoom\"><img style='width: 100px; height: 100px; margin: 1px; float: left; border: 0px solid black;'title=['.'] src='dataset_birds\\valid\\BUSH TURKEY\\4.jpg'/></div><div class=\"zoom\"><img style='width: 100px; height: 100px; margin: 1px; float: left; border: 0px solid black;'title=['.'] src='dataset_birds\\valid\\BUSH TURKEY\\5.jpg'/></div>"
      ],
      "text/plain": [
       "<IPython.core.display.HTML object>"
      ]
     },
     "metadata": {},
     "output_type": "display_data"
    },
    {
     "name": "stdout",
     "output_type": "stream",
     "text": [
      "Drawing .\n"
     ]
    },
    {
     "data": {
      "text/html": [
       "<div class=\"zoom\"><img style='width: 100px; height: 100px; margin: 1px; float: left; border: 0px solid black;'title=['.'] src='dataset_birds\\valid\\CAATINGA CACHOLOTE\\1.jpg'/></div><div class=\"zoom\"><img style='width: 100px; height: 100px; margin: 1px; float: left; border: 0px solid black;'title=['.'] src='dataset_birds\\valid\\CAATINGA CACHOLOTE\\2.jpg'/></div><div class=\"zoom\"><img style='width: 100px; height: 100px; margin: 1px; float: left; border: 0px solid black;'title=['.'] src='dataset_birds\\valid\\CAATINGA CACHOLOTE\\3.jpg'/></div><div class=\"zoom\"><img style='width: 100px; height: 100px; margin: 1px; float: left; border: 0px solid black;'title=['.'] src='dataset_birds\\valid\\CAATINGA CACHOLOTE\\4.jpg'/></div><div class=\"zoom\"><img style='width: 100px; height: 100px; margin: 1px; float: left; border: 0px solid black;'title=['.'] src='dataset_birds\\valid\\CAATINGA CACHOLOTE\\5.jpg'/></div>"
      ],
      "text/plain": [
       "<IPython.core.display.HTML object>"
      ]
     },
     "metadata": {},
     "output_type": "display_data"
    },
    {
     "name": "stdout",
     "output_type": "stream",
     "text": [
      "Drawing .\n"
     ]
    },
    {
     "data": {
      "text/html": [
       "<div class=\"zoom\"><img style='width: 100px; height: 100px; margin: 1px; float: left; border: 0px solid black;'title=['.'] src='dataset_birds\\valid\\CABOTS TRAGOPAN\\1.jpg'/></div><div class=\"zoom\"><img style='width: 100px; height: 100px; margin: 1px; float: left; border: 0px solid black;'title=['.'] src='dataset_birds\\valid\\CABOTS TRAGOPAN\\2.jpg'/></div><div class=\"zoom\"><img style='width: 100px; height: 100px; margin: 1px; float: left; border: 0px solid black;'title=['.'] src='dataset_birds\\valid\\CABOTS TRAGOPAN\\3.jpg'/></div><div class=\"zoom\"><img style='width: 100px; height: 100px; margin: 1px; float: left; border: 0px solid black;'title=['.'] src='dataset_birds\\valid\\CABOTS TRAGOPAN\\4.jpg'/></div><div class=\"zoom\"><img style='width: 100px; height: 100px; margin: 1px; float: left; border: 0px solid black;'title=['.'] src='dataset_birds\\valid\\CABOTS TRAGOPAN\\5.jpg'/></div>"
      ],
      "text/plain": [
       "<IPython.core.display.HTML object>"
      ]
     },
     "metadata": {},
     "output_type": "display_data"
    },
    {
     "name": "stdout",
     "output_type": "stream",
     "text": [
      "Drawing .\n"
     ]
    },
    {
     "data": {
      "text/html": [
       "<div class=\"zoom\"><img style='width: 100px; height: 100px; margin: 1px; float: left; border: 0px solid black;'title=['.'] src='dataset_birds\\valid\\CACTUS WREN\\1.jpg'/></div><div class=\"zoom\"><img style='width: 100px; height: 100px; margin: 1px; float: left; border: 0px solid black;'title=['.'] src='dataset_birds\\valid\\CACTUS WREN\\2.jpg'/></div><div class=\"zoom\"><img style='width: 100px; height: 100px; margin: 1px; float: left; border: 0px solid black;'title=['.'] src='dataset_birds\\valid\\CACTUS WREN\\3.jpg'/></div><div class=\"zoom\"><img style='width: 100px; height: 100px; margin: 1px; float: left; border: 0px solid black;'title=['.'] src='dataset_birds\\valid\\CACTUS WREN\\4.jpg'/></div><div class=\"zoom\"><img style='width: 100px; height: 100px; margin: 1px; float: left; border: 0px solid black;'title=['.'] src='dataset_birds\\valid\\CACTUS WREN\\5.jpg'/></div>"
      ],
      "text/plain": [
       "<IPython.core.display.HTML object>"
      ]
     },
     "metadata": {},
     "output_type": "display_data"
    },
    {
     "name": "stdout",
     "output_type": "stream",
     "text": [
      "Drawing .\n"
     ]
    },
    {
     "data": {
      "text/html": [
       "<div class=\"zoom\"><img style='width: 100px; height: 100px; margin: 1px; float: left; border: 0px solid black;'title=['.'] src='dataset_birds\\valid\\CALIFORNIA CONDOR\\1.jpg'/></div><div class=\"zoom\"><img style='width: 100px; height: 100px; margin: 1px; float: left; border: 0px solid black;'title=['.'] src='dataset_birds\\valid\\CALIFORNIA CONDOR\\2.jpg'/></div><div class=\"zoom\"><img style='width: 100px; height: 100px; margin: 1px; float: left; border: 0px solid black;'title=['.'] src='dataset_birds\\valid\\CALIFORNIA CONDOR\\3.jpg'/></div><div class=\"zoom\"><img style='width: 100px; height: 100px; margin: 1px; float: left; border: 0px solid black;'title=['.'] src='dataset_birds\\valid\\CALIFORNIA CONDOR\\4.jpg'/></div><div class=\"zoom\"><img style='width: 100px; height: 100px; margin: 1px; float: left; border: 0px solid black;'title=['.'] src='dataset_birds\\valid\\CALIFORNIA CONDOR\\5.jpg'/></div>"
      ],
      "text/plain": [
       "<IPython.core.display.HTML object>"
      ]
     },
     "metadata": {},
     "output_type": "display_data"
    },
    {
     "name": "stdout",
     "output_type": "stream",
     "text": [
      "Drawing .\n"
     ]
    },
    {
     "data": {
      "text/html": [
       "<div class=\"zoom\"><img style='width: 100px; height: 100px; margin: 1px; float: left; border: 0px solid black;'title=['.'] src='dataset_birds\\valid\\CALIFORNIA GULL\\1.jpg'/></div><div class=\"zoom\"><img style='width: 100px; height: 100px; margin: 1px; float: left; border: 0px solid black;'title=['.'] src='dataset_birds\\valid\\CALIFORNIA GULL\\2.jpg'/></div><div class=\"zoom\"><img style='width: 100px; height: 100px; margin: 1px; float: left; border: 0px solid black;'title=['.'] src='dataset_birds\\valid\\CALIFORNIA GULL\\3.jpg'/></div><div class=\"zoom\"><img style='width: 100px; height: 100px; margin: 1px; float: left; border: 0px solid black;'title=['.'] src='dataset_birds\\valid\\CALIFORNIA GULL\\4.jpg'/></div><div class=\"zoom\"><img style='width: 100px; height: 100px; margin: 1px; float: left; border: 0px solid black;'title=['.'] src='dataset_birds\\valid\\CALIFORNIA GULL\\5.jpg'/></div>"
      ],
      "text/plain": [
       "<IPython.core.display.HTML object>"
      ]
     },
     "metadata": {},
     "output_type": "display_data"
    },
    {
     "name": "stdout",
     "output_type": "stream",
     "text": [
      "Drawing .\n"
     ]
    },
    {
     "data": {
      "text/html": [
       "<div class=\"zoom\"><img style='width: 100px; height: 100px; margin: 1px; float: left; border: 0px solid black;'title=['.'] src='dataset_birds\\valid\\CALIFORNIA QUAIL\\1.jpg'/></div><div class=\"zoom\"><img style='width: 100px; height: 100px; margin: 1px; float: left; border: 0px solid black;'title=['.'] src='dataset_birds\\valid\\CALIFORNIA QUAIL\\2.jpg'/></div><div class=\"zoom\"><img style='width: 100px; height: 100px; margin: 1px; float: left; border: 0px solid black;'title=['.'] src='dataset_birds\\valid\\CALIFORNIA QUAIL\\3.jpg'/></div><div class=\"zoom\"><img style='width: 100px; height: 100px; margin: 1px; float: left; border: 0px solid black;'title=['.'] src='dataset_birds\\valid\\CALIFORNIA QUAIL\\4.jpg'/></div><div class=\"zoom\"><img style='width: 100px; height: 100px; margin: 1px; float: left; border: 0px solid black;'title=['.'] src='dataset_birds\\valid\\CALIFORNIA QUAIL\\5.jpg'/></div>"
      ],
      "text/plain": [
       "<IPython.core.display.HTML object>"
      ]
     },
     "metadata": {},
     "output_type": "display_data"
    },
    {
     "name": "stdout",
     "output_type": "stream",
     "text": [
      "Drawing .\n"
     ]
    },
    {
     "data": {
      "text/html": [
       "<div class=\"zoom\"><img style='width: 100px; height: 100px; margin: 1px; float: left; border: 0px solid black;'title=['.'] src='dataset_birds\\valid\\CAMPO FLICKER\\1.jpg'/></div><div class=\"zoom\"><img style='width: 100px; height: 100px; margin: 1px; float: left; border: 0px solid black;'title=['.'] src='dataset_birds\\valid\\CAMPO FLICKER\\2.jpg'/></div><div class=\"zoom\"><img style='width: 100px; height: 100px; margin: 1px; float: left; border: 0px solid black;'title=['.'] src='dataset_birds\\valid\\CAMPO FLICKER\\3.jpg'/></div><div class=\"zoom\"><img style='width: 100px; height: 100px; margin: 1px; float: left; border: 0px solid black;'title=['.'] src='dataset_birds\\valid\\CAMPO FLICKER\\4.jpg'/></div><div class=\"zoom\"><img style='width: 100px; height: 100px; margin: 1px; float: left; border: 0px solid black;'title=['.'] src='dataset_birds\\valid\\CAMPO FLICKER\\5.jpg'/></div>"
      ],
      "text/plain": [
       "<IPython.core.display.HTML object>"
      ]
     },
     "metadata": {},
     "output_type": "display_data"
    },
    {
     "name": "stdout",
     "output_type": "stream",
     "text": [
      "Drawing .\n"
     ]
    },
    {
     "data": {
      "text/html": [
       "<div class=\"zoom\"><img style='width: 100px; height: 100px; margin: 1px; float: left; border: 0px solid black;'title=['.'] src='dataset_birds\\valid\\CANARY\\1.jpg'/></div><div class=\"zoom\"><img style='width: 100px; height: 100px; margin: 1px; float: left; border: 0px solid black;'title=['.'] src='dataset_birds\\valid\\CANARY\\2.jpg'/></div><div class=\"zoom\"><img style='width: 100px; height: 100px; margin: 1px; float: left; border: 0px solid black;'title=['.'] src='dataset_birds\\valid\\CANARY\\3.jpg'/></div><div class=\"zoom\"><img style='width: 100px; height: 100px; margin: 1px; float: left; border: 0px solid black;'title=['.'] src='dataset_birds\\valid\\CANARY\\4.jpg'/></div><div class=\"zoom\"><img style='width: 100px; height: 100px; margin: 1px; float: left; border: 0px solid black;'title=['.'] src='dataset_birds\\valid\\CANARY\\5.jpg'/></div>"
      ],
      "text/plain": [
       "<IPython.core.display.HTML object>"
      ]
     },
     "metadata": {},
     "output_type": "display_data"
    },
    {
     "name": "stdout",
     "output_type": "stream",
     "text": [
      "Drawing .\n"
     ]
    },
    {
     "data": {
      "text/html": [
       "<div class=\"zoom\"><img style='width: 100px; height: 100px; margin: 1px; float: left; border: 0px solid black;'title=['.'] src='dataset_birds\\valid\\CANVASBACK\\1.jpg'/></div><div class=\"zoom\"><img style='width: 100px; height: 100px; margin: 1px; float: left; border: 0px solid black;'title=['.'] src='dataset_birds\\valid\\CANVASBACK\\2.jpg'/></div><div class=\"zoom\"><img style='width: 100px; height: 100px; margin: 1px; float: left; border: 0px solid black;'title=['.'] src='dataset_birds\\valid\\CANVASBACK\\3.jpg'/></div><div class=\"zoom\"><img style='width: 100px; height: 100px; margin: 1px; float: left; border: 0px solid black;'title=['.'] src='dataset_birds\\valid\\CANVASBACK\\4.jpg'/></div><div class=\"zoom\"><img style='width: 100px; height: 100px; margin: 1px; float: left; border: 0px solid black;'title=['.'] src='dataset_birds\\valid\\CANVASBACK\\5.jpg'/></div>"
      ],
      "text/plain": [
       "<IPython.core.display.HTML object>"
      ]
     },
     "metadata": {},
     "output_type": "display_data"
    },
    {
     "name": "stdout",
     "output_type": "stream",
     "text": [
      "Drawing .\n"
     ]
    },
    {
     "data": {
      "text/html": [
       "<div class=\"zoom\"><img style='width: 100px; height: 100px; margin: 1px; float: left; border: 0px solid black;'title=['.'] src='dataset_birds\\valid\\CAPE GLOSSY STARLING\\1.jpg'/></div><div class=\"zoom\"><img style='width: 100px; height: 100px; margin: 1px; float: left; border: 0px solid black;'title=['.'] src='dataset_birds\\valid\\CAPE GLOSSY STARLING\\2.jpg'/></div><div class=\"zoom\"><img style='width: 100px; height: 100px; margin: 1px; float: left; border: 0px solid black;'title=['.'] src='dataset_birds\\valid\\CAPE GLOSSY STARLING\\3.jpg'/></div><div class=\"zoom\"><img style='width: 100px; height: 100px; margin: 1px; float: left; border: 0px solid black;'title=['.'] src='dataset_birds\\valid\\CAPE GLOSSY STARLING\\4.jpg'/></div><div class=\"zoom\"><img style='width: 100px; height: 100px; margin: 1px; float: left; border: 0px solid black;'title=['.'] src='dataset_birds\\valid\\CAPE GLOSSY STARLING\\5.jpg'/></div>"
      ],
      "text/plain": [
       "<IPython.core.display.HTML object>"
      ]
     },
     "metadata": {},
     "output_type": "display_data"
    },
    {
     "name": "stdout",
     "output_type": "stream",
     "text": [
      "Drawing .\n"
     ]
    },
    {
     "data": {
      "text/html": [
       "<div class=\"zoom\"><img style='width: 100px; height: 100px; margin: 1px; float: left; border: 0px solid black;'title=['.'] src='dataset_birds\\valid\\CAPE LONGCLAW\\1.jpg'/></div><div class=\"zoom\"><img style='width: 100px; height: 100px; margin: 1px; float: left; border: 0px solid black;'title=['.'] src='dataset_birds\\valid\\CAPE LONGCLAW\\2.jpg'/></div><div class=\"zoom\"><img style='width: 100px; height: 100px; margin: 1px; float: left; border: 0px solid black;'title=['.'] src='dataset_birds\\valid\\CAPE LONGCLAW\\3.jpg'/></div><div class=\"zoom\"><img style='width: 100px; height: 100px; margin: 1px; float: left; border: 0px solid black;'title=['.'] src='dataset_birds\\valid\\CAPE LONGCLAW\\4.jpg'/></div><div class=\"zoom\"><img style='width: 100px; height: 100px; margin: 1px; float: left; border: 0px solid black;'title=['.'] src='dataset_birds\\valid\\CAPE LONGCLAW\\5.jpg'/></div>"
      ],
      "text/plain": [
       "<IPython.core.display.HTML object>"
      ]
     },
     "metadata": {},
     "output_type": "display_data"
    },
    {
     "name": "stdout",
     "output_type": "stream",
     "text": [
      "Drawing .\n"
     ]
    },
    {
     "data": {
      "text/html": [
       "<div class=\"zoom\"><img style='width: 100px; height: 100px; margin: 1px; float: left; border: 0px solid black;'title=['.'] src='dataset_birds\\valid\\CAPE MAY WARBLER\\1.jpg'/></div><div class=\"zoom\"><img style='width: 100px; height: 100px; margin: 1px; float: left; border: 0px solid black;'title=['.'] src='dataset_birds\\valid\\CAPE MAY WARBLER\\2.jpg'/></div><div class=\"zoom\"><img style='width: 100px; height: 100px; margin: 1px; float: left; border: 0px solid black;'title=['.'] src='dataset_birds\\valid\\CAPE MAY WARBLER\\3.jpg'/></div><div class=\"zoom\"><img style='width: 100px; height: 100px; margin: 1px; float: left; border: 0px solid black;'title=['.'] src='dataset_birds\\valid\\CAPE MAY WARBLER\\4.jpg'/></div><div class=\"zoom\"><img style='width: 100px; height: 100px; margin: 1px; float: left; border: 0px solid black;'title=['.'] src='dataset_birds\\valid\\CAPE MAY WARBLER\\5.jpg'/></div>"
      ],
      "text/plain": [
       "<IPython.core.display.HTML object>"
      ]
     },
     "metadata": {},
     "output_type": "display_data"
    },
    {
     "name": "stdout",
     "output_type": "stream",
     "text": [
      "Drawing .\n"
     ]
    },
    {
     "data": {
      "text/html": [
       "<div class=\"zoom\"><img style='width: 100px; height: 100px; margin: 1px; float: left; border: 0px solid black;'title=['.'] src='dataset_birds\\valid\\CAPE ROCK THRUSH\\1.jpg'/></div><div class=\"zoom\"><img style='width: 100px; height: 100px; margin: 1px; float: left; border: 0px solid black;'title=['.'] src='dataset_birds\\valid\\CAPE ROCK THRUSH\\2.jpg'/></div><div class=\"zoom\"><img style='width: 100px; height: 100px; margin: 1px; float: left; border: 0px solid black;'title=['.'] src='dataset_birds\\valid\\CAPE ROCK THRUSH\\3.jpg'/></div><div class=\"zoom\"><img style='width: 100px; height: 100px; margin: 1px; float: left; border: 0px solid black;'title=['.'] src='dataset_birds\\valid\\CAPE ROCK THRUSH\\4.jpg'/></div><div class=\"zoom\"><img style='width: 100px; height: 100px; margin: 1px; float: left; border: 0px solid black;'title=['.'] src='dataset_birds\\valid\\CAPE ROCK THRUSH\\5.jpg'/></div>"
      ],
      "text/plain": [
       "<IPython.core.display.HTML object>"
      ]
     },
     "metadata": {},
     "output_type": "display_data"
    },
    {
     "name": "stdout",
     "output_type": "stream",
     "text": [
      "Drawing .\n"
     ]
    },
    {
     "data": {
      "text/html": [
       "<div class=\"zoom\"><img style='width: 100px; height: 100px; margin: 1px; float: left; border: 0px solid black;'title=['.'] src='dataset_birds\\valid\\CAPPED HERON\\1.jpg'/></div><div class=\"zoom\"><img style='width: 100px; height: 100px; margin: 1px; float: left; border: 0px solid black;'title=['.'] src='dataset_birds\\valid\\CAPPED HERON\\2.jpg'/></div><div class=\"zoom\"><img style='width: 100px; height: 100px; margin: 1px; float: left; border: 0px solid black;'title=['.'] src='dataset_birds\\valid\\CAPPED HERON\\3.jpg'/></div><div class=\"zoom\"><img style='width: 100px; height: 100px; margin: 1px; float: left; border: 0px solid black;'title=['.'] src='dataset_birds\\valid\\CAPPED HERON\\4.jpg'/></div><div class=\"zoom\"><img style='width: 100px; height: 100px; margin: 1px; float: left; border: 0px solid black;'title=['.'] src='dataset_birds\\valid\\CAPPED HERON\\5.jpg'/></div>"
      ],
      "text/plain": [
       "<IPython.core.display.HTML object>"
      ]
     },
     "metadata": {},
     "output_type": "display_data"
    },
    {
     "name": "stdout",
     "output_type": "stream",
     "text": [
      "Drawing .\n"
     ]
    },
    {
     "data": {
      "text/html": [
       "<div class=\"zoom\"><img style='width: 100px; height: 100px; margin: 1px; float: left; border: 0px solid black;'title=['.'] src='dataset_birds\\valid\\CAPUCHINBIRD\\1.jpg'/></div><div class=\"zoom\"><img style='width: 100px; height: 100px; margin: 1px; float: left; border: 0px solid black;'title=['.'] src='dataset_birds\\valid\\CAPUCHINBIRD\\2.jpg'/></div><div class=\"zoom\"><img style='width: 100px; height: 100px; margin: 1px; float: left; border: 0px solid black;'title=['.'] src='dataset_birds\\valid\\CAPUCHINBIRD\\3.jpg'/></div><div class=\"zoom\"><img style='width: 100px; height: 100px; margin: 1px; float: left; border: 0px solid black;'title=['.'] src='dataset_birds\\valid\\CAPUCHINBIRD\\4.jpg'/></div><div class=\"zoom\"><img style='width: 100px; height: 100px; margin: 1px; float: left; border: 0px solid black;'title=['.'] src='dataset_birds\\valid\\CAPUCHINBIRD\\5.jpg'/></div>"
      ],
      "text/plain": [
       "<IPython.core.display.HTML object>"
      ]
     },
     "metadata": {},
     "output_type": "display_data"
    },
    {
     "name": "stdout",
     "output_type": "stream",
     "text": [
      "Drawing .\n"
     ]
    },
    {
     "data": {
      "text/html": [
       "<div class=\"zoom\"><img style='width: 100px; height: 100px; margin: 1px; float: left; border: 0px solid black;'title=['.'] src='dataset_birds\\valid\\CARMINE BEE-EATER\\1.jpg'/></div><div class=\"zoom\"><img style='width: 100px; height: 100px; margin: 1px; float: left; border: 0px solid black;'title=['.'] src='dataset_birds\\valid\\CARMINE BEE-EATER\\2.jpg'/></div><div class=\"zoom\"><img style='width: 100px; height: 100px; margin: 1px; float: left; border: 0px solid black;'title=['.'] src='dataset_birds\\valid\\CARMINE BEE-EATER\\3.jpg'/></div><div class=\"zoom\"><img style='width: 100px; height: 100px; margin: 1px; float: left; border: 0px solid black;'title=['.'] src='dataset_birds\\valid\\CARMINE BEE-EATER\\4.jpg'/></div><div class=\"zoom\"><img style='width: 100px; height: 100px; margin: 1px; float: left; border: 0px solid black;'title=['.'] src='dataset_birds\\valid\\CARMINE BEE-EATER\\5.jpg'/></div>"
      ],
      "text/plain": [
       "<IPython.core.display.HTML object>"
      ]
     },
     "metadata": {},
     "output_type": "display_data"
    },
    {
     "name": "stdout",
     "output_type": "stream",
     "text": [
      "Drawing .\n"
     ]
    },
    {
     "data": {
      "text/html": [
       "<div class=\"zoom\"><img style='width: 100px; height: 100px; margin: 1px; float: left; border: 0px solid black;'title=['.'] src='dataset_birds\\valid\\CASPIAN TERN\\1.jpg'/></div><div class=\"zoom\"><img style='width: 100px; height: 100px; margin: 1px; float: left; border: 0px solid black;'title=['.'] src='dataset_birds\\valid\\CASPIAN TERN\\2.jpg'/></div><div class=\"zoom\"><img style='width: 100px; height: 100px; margin: 1px; float: left; border: 0px solid black;'title=['.'] src='dataset_birds\\valid\\CASPIAN TERN\\3.jpg'/></div><div class=\"zoom\"><img style='width: 100px; height: 100px; margin: 1px; float: left; border: 0px solid black;'title=['.'] src='dataset_birds\\valid\\CASPIAN TERN\\4.jpg'/></div><div class=\"zoom\"><img style='width: 100px; height: 100px; margin: 1px; float: left; border: 0px solid black;'title=['.'] src='dataset_birds\\valid\\CASPIAN TERN\\5.jpg'/></div>"
      ],
      "text/plain": [
       "<IPython.core.display.HTML object>"
      ]
     },
     "metadata": {},
     "output_type": "display_data"
    },
    {
     "name": "stdout",
     "output_type": "stream",
     "text": [
      "Drawing .\n"
     ]
    },
    {
     "data": {
      "text/html": [
       "<div class=\"zoom\"><img style='width: 100px; height: 100px; margin: 1px; float: left; border: 0px solid black;'title=['.'] src='dataset_birds\\valid\\CASSOWARY\\1.jpg'/></div><div class=\"zoom\"><img style='width: 100px; height: 100px; margin: 1px; float: left; border: 0px solid black;'title=['.'] src='dataset_birds\\valid\\CASSOWARY\\2.jpg'/></div><div class=\"zoom\"><img style='width: 100px; height: 100px; margin: 1px; float: left; border: 0px solid black;'title=['.'] src='dataset_birds\\valid\\CASSOWARY\\3.jpg'/></div><div class=\"zoom\"><img style='width: 100px; height: 100px; margin: 1px; float: left; border: 0px solid black;'title=['.'] src='dataset_birds\\valid\\CASSOWARY\\4.jpg'/></div><div class=\"zoom\"><img style='width: 100px; height: 100px; margin: 1px; float: left; border: 0px solid black;'title=['.'] src='dataset_birds\\valid\\CASSOWARY\\5.jpg'/></div>"
      ],
      "text/plain": [
       "<IPython.core.display.HTML object>"
      ]
     },
     "metadata": {},
     "output_type": "display_data"
    },
    {
     "name": "stdout",
     "output_type": "stream",
     "text": [
      "Drawing .\n"
     ]
    },
    {
     "data": {
      "text/html": [
       "<div class=\"zoom\"><img style='width: 100px; height: 100px; margin: 1px; float: left; border: 0px solid black;'title=['.'] src='dataset_birds\\valid\\CEDAR WAXWING\\1.jpg'/></div><div class=\"zoom\"><img style='width: 100px; height: 100px; margin: 1px; float: left; border: 0px solid black;'title=['.'] src='dataset_birds\\valid\\CEDAR WAXWING\\2.jpg'/></div><div class=\"zoom\"><img style='width: 100px; height: 100px; margin: 1px; float: left; border: 0px solid black;'title=['.'] src='dataset_birds\\valid\\CEDAR WAXWING\\3.jpg'/></div><div class=\"zoom\"><img style='width: 100px; height: 100px; margin: 1px; float: left; border: 0px solid black;'title=['.'] src='dataset_birds\\valid\\CEDAR WAXWING\\4.jpg'/></div><div class=\"zoom\"><img style='width: 100px; height: 100px; margin: 1px; float: left; border: 0px solid black;'title=['.'] src='dataset_birds\\valid\\CEDAR WAXWING\\5.jpg'/></div>"
      ],
      "text/plain": [
       "<IPython.core.display.HTML object>"
      ]
     },
     "metadata": {},
     "output_type": "display_data"
    },
    {
     "name": "stdout",
     "output_type": "stream",
     "text": [
      "Drawing .\n"
     ]
    },
    {
     "data": {
      "text/html": [
       "<div class=\"zoom\"><img style='width: 100px; height: 100px; margin: 1px; float: left; border: 0px solid black;'title=['.'] src='dataset_birds\\valid\\CERULEAN WARBLER\\1.jpg'/></div><div class=\"zoom\"><img style='width: 100px; height: 100px; margin: 1px; float: left; border: 0px solid black;'title=['.'] src='dataset_birds\\valid\\CERULEAN WARBLER\\2.jpg'/></div><div class=\"zoom\"><img style='width: 100px; height: 100px; margin: 1px; float: left; border: 0px solid black;'title=['.'] src='dataset_birds\\valid\\CERULEAN WARBLER\\3.jpg'/></div><div class=\"zoom\"><img style='width: 100px; height: 100px; margin: 1px; float: left; border: 0px solid black;'title=['.'] src='dataset_birds\\valid\\CERULEAN WARBLER\\4.jpg'/></div><div class=\"zoom\"><img style='width: 100px; height: 100px; margin: 1px; float: left; border: 0px solid black;'title=['.'] src='dataset_birds\\valid\\CERULEAN WARBLER\\5.jpg'/></div>"
      ],
      "text/plain": [
       "<IPython.core.display.HTML object>"
      ]
     },
     "metadata": {},
     "output_type": "display_data"
    },
    {
     "name": "stdout",
     "output_type": "stream",
     "text": [
      "Drawing .\n"
     ]
    },
    {
     "data": {
      "text/html": [
       "<div class=\"zoom\"><img style='width: 100px; height: 100px; margin: 1px; float: left; border: 0px solid black;'title=['.'] src='dataset_birds\\valid\\CHARA DE COLLAR\\1.jpg'/></div><div class=\"zoom\"><img style='width: 100px; height: 100px; margin: 1px; float: left; border: 0px solid black;'title=['.'] src='dataset_birds\\valid\\CHARA DE COLLAR\\2.jpg'/></div><div class=\"zoom\"><img style='width: 100px; height: 100px; margin: 1px; float: left; border: 0px solid black;'title=['.'] src='dataset_birds\\valid\\CHARA DE COLLAR\\3.jpg'/></div><div class=\"zoom\"><img style='width: 100px; height: 100px; margin: 1px; float: left; border: 0px solid black;'title=['.'] src='dataset_birds\\valid\\CHARA DE COLLAR\\4.jpg'/></div><div class=\"zoom\"><img style='width: 100px; height: 100px; margin: 1px; float: left; border: 0px solid black;'title=['.'] src='dataset_birds\\valid\\CHARA DE COLLAR\\5.jpg'/></div>"
      ],
      "text/plain": [
       "<IPython.core.display.HTML object>"
      ]
     },
     "metadata": {},
     "output_type": "display_data"
    },
    {
     "name": "stdout",
     "output_type": "stream",
     "text": [
      "Drawing .\n"
     ]
    },
    {
     "data": {
      "text/html": [
       "<div class=\"zoom\"><img style='width: 100px; height: 100px; margin: 1px; float: left; border: 0px solid black;'title=['.'] src='dataset_birds\\valid\\CHATTERING LORY\\1.jpg'/></div><div class=\"zoom\"><img style='width: 100px; height: 100px; margin: 1px; float: left; border: 0px solid black;'title=['.'] src='dataset_birds\\valid\\CHATTERING LORY\\2.jpg'/></div><div class=\"zoom\"><img style='width: 100px; height: 100px; margin: 1px; float: left; border: 0px solid black;'title=['.'] src='dataset_birds\\valid\\CHATTERING LORY\\3.jpg'/></div><div class=\"zoom\"><img style='width: 100px; height: 100px; margin: 1px; float: left; border: 0px solid black;'title=['.'] src='dataset_birds\\valid\\CHATTERING LORY\\4.jpg'/></div><div class=\"zoom\"><img style='width: 100px; height: 100px; margin: 1px; float: left; border: 0px solid black;'title=['.'] src='dataset_birds\\valid\\CHATTERING LORY\\5.jpg'/></div>"
      ],
      "text/plain": [
       "<IPython.core.display.HTML object>"
      ]
     },
     "metadata": {},
     "output_type": "display_data"
    },
    {
     "name": "stdout",
     "output_type": "stream",
     "text": [
      "Drawing .\n"
     ]
    },
    {
     "data": {
      "text/html": [
       "<div class=\"zoom\"><img style='width: 100px; height: 100px; margin: 1px; float: left; border: 0px solid black;'title=['.'] src='dataset_birds\\valid\\CHESTNET BELLIED EUPHONIA\\1.jpg'/></div><div class=\"zoom\"><img style='width: 100px; height: 100px; margin: 1px; float: left; border: 0px solid black;'title=['.'] src='dataset_birds\\valid\\CHESTNET BELLIED EUPHONIA\\2.jpg'/></div><div class=\"zoom\"><img style='width: 100px; height: 100px; margin: 1px; float: left; border: 0px solid black;'title=['.'] src='dataset_birds\\valid\\CHESTNET BELLIED EUPHONIA\\3.jpg'/></div><div class=\"zoom\"><img style='width: 100px; height: 100px; margin: 1px; float: left; border: 0px solid black;'title=['.'] src='dataset_birds\\valid\\CHESTNET BELLIED EUPHONIA\\4.jpg'/></div><div class=\"zoom\"><img style='width: 100px; height: 100px; margin: 1px; float: left; border: 0px solid black;'title=['.'] src='dataset_birds\\valid\\CHESTNET BELLIED EUPHONIA\\5.jpg'/></div>"
      ],
      "text/plain": [
       "<IPython.core.display.HTML object>"
      ]
     },
     "metadata": {},
     "output_type": "display_data"
    },
    {
     "name": "stdout",
     "output_type": "stream",
     "text": [
      "Drawing .\n"
     ]
    },
    {
     "data": {
      "text/html": [
       "<div class=\"zoom\"><img style='width: 100px; height: 100px; margin: 1px; float: left; border: 0px solid black;'title=['.'] src='dataset_birds\\valid\\CHESTNUT WINGED CUCKOO\\1.jpg'/></div><div class=\"zoom\"><img style='width: 100px; height: 100px; margin: 1px; float: left; border: 0px solid black;'title=['.'] src='dataset_birds\\valid\\CHESTNUT WINGED CUCKOO\\2.jpg'/></div><div class=\"zoom\"><img style='width: 100px; height: 100px; margin: 1px; float: left; border: 0px solid black;'title=['.'] src='dataset_birds\\valid\\CHESTNUT WINGED CUCKOO\\3.jpg'/></div><div class=\"zoom\"><img style='width: 100px; height: 100px; margin: 1px; float: left; border: 0px solid black;'title=['.'] src='dataset_birds\\valid\\CHESTNUT WINGED CUCKOO\\4.jpg'/></div><div class=\"zoom\"><img style='width: 100px; height: 100px; margin: 1px; float: left; border: 0px solid black;'title=['.'] src='dataset_birds\\valid\\CHESTNUT WINGED CUCKOO\\5.jpg'/></div>"
      ],
      "text/plain": [
       "<IPython.core.display.HTML object>"
      ]
     },
     "metadata": {},
     "output_type": "display_data"
    },
    {
     "name": "stdout",
     "output_type": "stream",
     "text": [
      "Drawing .\n"
     ]
    },
    {
     "data": {
      "text/html": [
       "<div class=\"zoom\"><img style='width: 100px; height: 100px; margin: 1px; float: left; border: 0px solid black;'title=['.'] src='dataset_birds\\valid\\CHINESE BAMBOO PARTRIDGE\\1.jpg'/></div><div class=\"zoom\"><img style='width: 100px; height: 100px; margin: 1px; float: left; border: 0px solid black;'title=['.'] src='dataset_birds\\valid\\CHINESE BAMBOO PARTRIDGE\\2.jpg'/></div><div class=\"zoom\"><img style='width: 100px; height: 100px; margin: 1px; float: left; border: 0px solid black;'title=['.'] src='dataset_birds\\valid\\CHINESE BAMBOO PARTRIDGE\\3.jpg'/></div><div class=\"zoom\"><img style='width: 100px; height: 100px; margin: 1px; float: left; border: 0px solid black;'title=['.'] src='dataset_birds\\valid\\CHINESE BAMBOO PARTRIDGE\\4.jpg'/></div><div class=\"zoom\"><img style='width: 100px; height: 100px; margin: 1px; float: left; border: 0px solid black;'title=['.'] src='dataset_birds\\valid\\CHINESE BAMBOO PARTRIDGE\\5.jpg'/></div>"
      ],
      "text/plain": [
       "<IPython.core.display.HTML object>"
      ]
     },
     "metadata": {},
     "output_type": "display_data"
    },
    {
     "name": "stdout",
     "output_type": "stream",
     "text": [
      "Drawing .\n"
     ]
    },
    {
     "data": {
      "text/html": [
       "<div class=\"zoom\"><img style='width: 100px; height: 100px; margin: 1px; float: left; border: 0px solid black;'title=['.'] src='dataset_birds\\valid\\CHINESE POND HERON\\1.jpg'/></div><div class=\"zoom\"><img style='width: 100px; height: 100px; margin: 1px; float: left; border: 0px solid black;'title=['.'] src='dataset_birds\\valid\\CHINESE POND HERON\\2.jpg'/></div><div class=\"zoom\"><img style='width: 100px; height: 100px; margin: 1px; float: left; border: 0px solid black;'title=['.'] src='dataset_birds\\valid\\CHINESE POND HERON\\3.jpg'/></div><div class=\"zoom\"><img style='width: 100px; height: 100px; margin: 1px; float: left; border: 0px solid black;'title=['.'] src='dataset_birds\\valid\\CHINESE POND HERON\\4.jpg'/></div><div class=\"zoom\"><img style='width: 100px; height: 100px; margin: 1px; float: left; border: 0px solid black;'title=['.'] src='dataset_birds\\valid\\CHINESE POND HERON\\5.jpg'/></div>"
      ],
      "text/plain": [
       "<IPython.core.display.HTML object>"
      ]
     },
     "metadata": {},
     "output_type": "display_data"
    },
    {
     "name": "stdout",
     "output_type": "stream",
     "text": [
      "Drawing .\n"
     ]
    },
    {
     "data": {
      "text/html": [
       "<div class=\"zoom\"><img style='width: 100px; height: 100px; margin: 1px; float: left; border: 0px solid black;'title=['.'] src='dataset_birds\\valid\\CHIPPING SPARROW\\1.jpg'/></div><div class=\"zoom\"><img style='width: 100px; height: 100px; margin: 1px; float: left; border: 0px solid black;'title=['.'] src='dataset_birds\\valid\\CHIPPING SPARROW\\2.jpg'/></div><div class=\"zoom\"><img style='width: 100px; height: 100px; margin: 1px; float: left; border: 0px solid black;'title=['.'] src='dataset_birds\\valid\\CHIPPING SPARROW\\3.jpg'/></div><div class=\"zoom\"><img style='width: 100px; height: 100px; margin: 1px; float: left; border: 0px solid black;'title=['.'] src='dataset_birds\\valid\\CHIPPING SPARROW\\4.jpg'/></div><div class=\"zoom\"><img style='width: 100px; height: 100px; margin: 1px; float: left; border: 0px solid black;'title=['.'] src='dataset_birds\\valid\\CHIPPING SPARROW\\5.jpg'/></div>"
      ],
      "text/plain": [
       "<IPython.core.display.HTML object>"
      ]
     },
     "metadata": {},
     "output_type": "display_data"
    },
    {
     "name": "stdout",
     "output_type": "stream",
     "text": [
      "Drawing .\n"
     ]
    },
    {
     "data": {
      "text/html": [
       "<div class=\"zoom\"><img style='width: 100px; height: 100px; margin: 1px; float: left; border: 0px solid black;'title=['.'] src='dataset_birds\\valid\\CHUCAO TAPACULO\\1.jpg'/></div><div class=\"zoom\"><img style='width: 100px; height: 100px; margin: 1px; float: left; border: 0px solid black;'title=['.'] src='dataset_birds\\valid\\CHUCAO TAPACULO\\2.jpg'/></div><div class=\"zoom\"><img style='width: 100px; height: 100px; margin: 1px; float: left; border: 0px solid black;'title=['.'] src='dataset_birds\\valid\\CHUCAO TAPACULO\\3.jpg'/></div><div class=\"zoom\"><img style='width: 100px; height: 100px; margin: 1px; float: left; border: 0px solid black;'title=['.'] src='dataset_birds\\valid\\CHUCAO TAPACULO\\4.jpg'/></div><div class=\"zoom\"><img style='width: 100px; height: 100px; margin: 1px; float: left; border: 0px solid black;'title=['.'] src='dataset_birds\\valid\\CHUCAO TAPACULO\\5.jpg'/></div>"
      ],
      "text/plain": [
       "<IPython.core.display.HTML object>"
      ]
     },
     "metadata": {},
     "output_type": "display_data"
    },
    {
     "name": "stdout",
     "output_type": "stream",
     "text": [
      "Drawing .\n"
     ]
    },
    {
     "data": {
      "text/html": [
       "<div class=\"zoom\"><img style='width: 100px; height: 100px; margin: 1px; float: left; border: 0px solid black;'title=['.'] src='dataset_birds\\valid\\CHUKAR PARTRIDGE\\1.jpg'/></div><div class=\"zoom\"><img style='width: 100px; height: 100px; margin: 1px; float: left; border: 0px solid black;'title=['.'] src='dataset_birds\\valid\\CHUKAR PARTRIDGE\\2.jpg'/></div><div class=\"zoom\"><img style='width: 100px; height: 100px; margin: 1px; float: left; border: 0px solid black;'title=['.'] src='dataset_birds\\valid\\CHUKAR PARTRIDGE\\3.jpg'/></div><div class=\"zoom\"><img style='width: 100px; height: 100px; margin: 1px; float: left; border: 0px solid black;'title=['.'] src='dataset_birds\\valid\\CHUKAR PARTRIDGE\\4.jpg'/></div><div class=\"zoom\"><img style='width: 100px; height: 100px; margin: 1px; float: left; border: 0px solid black;'title=['.'] src='dataset_birds\\valid\\CHUKAR PARTRIDGE\\5.jpg'/></div>"
      ],
      "text/plain": [
       "<IPython.core.display.HTML object>"
      ]
     },
     "metadata": {},
     "output_type": "display_data"
    },
    {
     "name": "stdout",
     "output_type": "stream",
     "text": [
      "Drawing .\n"
     ]
    },
    {
     "data": {
      "text/html": [
       "<div class=\"zoom\"><img style='width: 100px; height: 100px; margin: 1px; float: left; border: 0px solid black;'title=['.'] src='dataset_birds\\valid\\CINNAMON ATTILA\\1.jpg'/></div><div class=\"zoom\"><img style='width: 100px; height: 100px; margin: 1px; float: left; border: 0px solid black;'title=['.'] src='dataset_birds\\valid\\CINNAMON ATTILA\\2.jpg'/></div><div class=\"zoom\"><img style='width: 100px; height: 100px; margin: 1px; float: left; border: 0px solid black;'title=['.'] src='dataset_birds\\valid\\CINNAMON ATTILA\\3.jpg'/></div><div class=\"zoom\"><img style='width: 100px; height: 100px; margin: 1px; float: left; border: 0px solid black;'title=['.'] src='dataset_birds\\valid\\CINNAMON ATTILA\\4.jpg'/></div><div class=\"zoom\"><img style='width: 100px; height: 100px; margin: 1px; float: left; border: 0px solid black;'title=['.'] src='dataset_birds\\valid\\CINNAMON ATTILA\\5.jpg'/></div>"
      ],
      "text/plain": [
       "<IPython.core.display.HTML object>"
      ]
     },
     "metadata": {},
     "output_type": "display_data"
    },
    {
     "name": "stdout",
     "output_type": "stream",
     "text": [
      "Drawing .\n"
     ]
    },
    {
     "data": {
      "text/html": [
       "<div class=\"zoom\"><img style='width: 100px; height: 100px; margin: 1px; float: left; border: 0px solid black;'title=['.'] src='dataset_birds\\valid\\CINNAMON FLYCATCHER\\1.jpg'/></div><div class=\"zoom\"><img style='width: 100px; height: 100px; margin: 1px; float: left; border: 0px solid black;'title=['.'] src='dataset_birds\\valid\\CINNAMON FLYCATCHER\\2.jpg'/></div><div class=\"zoom\"><img style='width: 100px; height: 100px; margin: 1px; float: left; border: 0px solid black;'title=['.'] src='dataset_birds\\valid\\CINNAMON FLYCATCHER\\3.jpg'/></div><div class=\"zoom\"><img style='width: 100px; height: 100px; margin: 1px; float: left; border: 0px solid black;'title=['.'] src='dataset_birds\\valid\\CINNAMON FLYCATCHER\\4.jpg'/></div><div class=\"zoom\"><img style='width: 100px; height: 100px; margin: 1px; float: left; border: 0px solid black;'title=['.'] src='dataset_birds\\valid\\CINNAMON FLYCATCHER\\5.jpg'/></div>"
      ],
      "text/plain": [
       "<IPython.core.display.HTML object>"
      ]
     },
     "metadata": {},
     "output_type": "display_data"
    },
    {
     "name": "stdout",
     "output_type": "stream",
     "text": [
      "Drawing .\n"
     ]
    },
    {
     "data": {
      "text/html": [
       "<div class=\"zoom\"><img style='width: 100px; height: 100px; margin: 1px; float: left; border: 0px solid black;'title=['.'] src='dataset_birds\\valid\\CINNAMON TEAL\\1.jpg'/></div><div class=\"zoom\"><img style='width: 100px; height: 100px; margin: 1px; float: left; border: 0px solid black;'title=['.'] src='dataset_birds\\valid\\CINNAMON TEAL\\2.jpg'/></div><div class=\"zoom\"><img style='width: 100px; height: 100px; margin: 1px; float: left; border: 0px solid black;'title=['.'] src='dataset_birds\\valid\\CINNAMON TEAL\\3.jpg'/></div><div class=\"zoom\"><img style='width: 100px; height: 100px; margin: 1px; float: left; border: 0px solid black;'title=['.'] src='dataset_birds\\valid\\CINNAMON TEAL\\4.jpg'/></div><div class=\"zoom\"><img style='width: 100px; height: 100px; margin: 1px; float: left; border: 0px solid black;'title=['.'] src='dataset_birds\\valid\\CINNAMON TEAL\\5.jpg'/></div>"
      ],
      "text/plain": [
       "<IPython.core.display.HTML object>"
      ]
     },
     "metadata": {},
     "output_type": "display_data"
    },
    {
     "name": "stdout",
     "output_type": "stream",
     "text": [
      "Drawing .\n"
     ]
    },
    {
     "data": {
      "text/html": [
       "<div class=\"zoom\"><img style='width: 100px; height: 100px; margin: 1px; float: left; border: 0px solid black;'title=['.'] src='dataset_birds\\valid\\CLARKS GREBE\\1.jpg'/></div><div class=\"zoom\"><img style='width: 100px; height: 100px; margin: 1px; float: left; border: 0px solid black;'title=['.'] src='dataset_birds\\valid\\CLARKS GREBE\\2.jpg'/></div><div class=\"zoom\"><img style='width: 100px; height: 100px; margin: 1px; float: left; border: 0px solid black;'title=['.'] src='dataset_birds\\valid\\CLARKS GREBE\\3.jpg'/></div><div class=\"zoom\"><img style='width: 100px; height: 100px; margin: 1px; float: left; border: 0px solid black;'title=['.'] src='dataset_birds\\valid\\CLARKS GREBE\\4.jpg'/></div><div class=\"zoom\"><img style='width: 100px; height: 100px; margin: 1px; float: left; border: 0px solid black;'title=['.'] src='dataset_birds\\valid\\CLARKS GREBE\\5.jpg'/></div>"
      ],
      "text/plain": [
       "<IPython.core.display.HTML object>"
      ]
     },
     "metadata": {},
     "output_type": "display_data"
    },
    {
     "name": "stdout",
     "output_type": "stream",
     "text": [
      "Drawing .\n"
     ]
    },
    {
     "data": {
      "text/html": [
       "<div class=\"zoom\"><img style='width: 100px; height: 100px; margin: 1px; float: left; border: 0px solid black;'title=['.'] src='dataset_birds\\valid\\CLARKS NUTCRACKER\\1.jpg'/></div><div class=\"zoom\"><img style='width: 100px; height: 100px; margin: 1px; float: left; border: 0px solid black;'title=['.'] src='dataset_birds\\valid\\CLARKS NUTCRACKER\\2.jpg'/></div><div class=\"zoom\"><img style='width: 100px; height: 100px; margin: 1px; float: left; border: 0px solid black;'title=['.'] src='dataset_birds\\valid\\CLARKS NUTCRACKER\\3.jpg'/></div><div class=\"zoom\"><img style='width: 100px; height: 100px; margin: 1px; float: left; border: 0px solid black;'title=['.'] src='dataset_birds\\valid\\CLARKS NUTCRACKER\\4.jpg'/></div><div class=\"zoom\"><img style='width: 100px; height: 100px; margin: 1px; float: left; border: 0px solid black;'title=['.'] src='dataset_birds\\valid\\CLARKS NUTCRACKER\\5.jpg'/></div>"
      ],
      "text/plain": [
       "<IPython.core.display.HTML object>"
      ]
     },
     "metadata": {},
     "output_type": "display_data"
    },
    {
     "name": "stdout",
     "output_type": "stream",
     "text": [
      "Drawing .\n"
     ]
    },
    {
     "data": {
      "text/html": [
       "<div class=\"zoom\"><img style='width: 100px; height: 100px; margin: 1px; float: left; border: 0px solid black;'title=['.'] src='dataset_birds\\valid\\COCK OF THE  ROCK\\1.jpg'/></div><div class=\"zoom\"><img style='width: 100px; height: 100px; margin: 1px; float: left; border: 0px solid black;'title=['.'] src='dataset_birds\\valid\\COCK OF THE  ROCK\\2.jpg'/></div><div class=\"zoom\"><img style='width: 100px; height: 100px; margin: 1px; float: left; border: 0px solid black;'title=['.'] src='dataset_birds\\valid\\COCK OF THE  ROCK\\3.jpg'/></div><div class=\"zoom\"><img style='width: 100px; height: 100px; margin: 1px; float: left; border: 0px solid black;'title=['.'] src='dataset_birds\\valid\\COCK OF THE  ROCK\\4.jpg'/></div><div class=\"zoom\"><img style='width: 100px; height: 100px; margin: 1px; float: left; border: 0px solid black;'title=['.'] src='dataset_birds\\valid\\COCK OF THE  ROCK\\5.jpg'/></div>"
      ],
      "text/plain": [
       "<IPython.core.display.HTML object>"
      ]
     },
     "metadata": {},
     "output_type": "display_data"
    },
    {
     "name": "stdout",
     "output_type": "stream",
     "text": [
      "Drawing .\n"
     ]
    },
    {
     "data": {
      "text/html": [
       "<div class=\"zoom\"><img style='width: 100px; height: 100px; margin: 1px; float: left; border: 0px solid black;'title=['.'] src='dataset_birds\\valid\\COCKATOO\\1.jpg'/></div><div class=\"zoom\"><img style='width: 100px; height: 100px; margin: 1px; float: left; border: 0px solid black;'title=['.'] src='dataset_birds\\valid\\COCKATOO\\2.jpg'/></div><div class=\"zoom\"><img style='width: 100px; height: 100px; margin: 1px; float: left; border: 0px solid black;'title=['.'] src='dataset_birds\\valid\\COCKATOO\\3.jpg'/></div><div class=\"zoom\"><img style='width: 100px; height: 100px; margin: 1px; float: left; border: 0px solid black;'title=['.'] src='dataset_birds\\valid\\COCKATOO\\4.jpg'/></div><div class=\"zoom\"><img style='width: 100px; height: 100px; margin: 1px; float: left; border: 0px solid black;'title=['.'] src='dataset_birds\\valid\\COCKATOO\\5.jpg'/></div>"
      ],
      "text/plain": [
       "<IPython.core.display.HTML object>"
      ]
     },
     "metadata": {},
     "output_type": "display_data"
    },
    {
     "name": "stdout",
     "output_type": "stream",
     "text": [
      "Drawing .\n"
     ]
    },
    {
     "data": {
      "text/html": [
       "<div class=\"zoom\"><img style='width: 100px; height: 100px; margin: 1px; float: left; border: 0px solid black;'title=['.'] src='dataset_birds\\valid\\COLLARED ARACARI\\1.jpg'/></div><div class=\"zoom\"><img style='width: 100px; height: 100px; margin: 1px; float: left; border: 0px solid black;'title=['.'] src='dataset_birds\\valid\\COLLARED ARACARI\\2.jpg'/></div><div class=\"zoom\"><img style='width: 100px; height: 100px; margin: 1px; float: left; border: 0px solid black;'title=['.'] src='dataset_birds\\valid\\COLLARED ARACARI\\3.jpg'/></div><div class=\"zoom\"><img style='width: 100px; height: 100px; margin: 1px; float: left; border: 0px solid black;'title=['.'] src='dataset_birds\\valid\\COLLARED ARACARI\\4.jpg'/></div><div class=\"zoom\"><img style='width: 100px; height: 100px; margin: 1px; float: left; border: 0px solid black;'title=['.'] src='dataset_birds\\valid\\COLLARED ARACARI\\5.jpg'/></div>"
      ],
      "text/plain": [
       "<IPython.core.display.HTML object>"
      ]
     },
     "metadata": {},
     "output_type": "display_data"
    },
    {
     "name": "stdout",
     "output_type": "stream",
     "text": [
      "Drawing .\n"
     ]
    },
    {
     "data": {
      "text/html": [
       "<div class=\"zoom\"><img style='width: 100px; height: 100px; margin: 1px; float: left; border: 0px solid black;'title=['.'] src='dataset_birds\\valid\\COLLARED CRESCENTCHEST\\1.jpg'/></div><div class=\"zoom\"><img style='width: 100px; height: 100px; margin: 1px; float: left; border: 0px solid black;'title=['.'] src='dataset_birds\\valid\\COLLARED CRESCENTCHEST\\2.jpg'/></div><div class=\"zoom\"><img style='width: 100px; height: 100px; margin: 1px; float: left; border: 0px solid black;'title=['.'] src='dataset_birds\\valid\\COLLARED CRESCENTCHEST\\3.jpg'/></div><div class=\"zoom\"><img style='width: 100px; height: 100px; margin: 1px; float: left; border: 0px solid black;'title=['.'] src='dataset_birds\\valid\\COLLARED CRESCENTCHEST\\4.jpg'/></div><div class=\"zoom\"><img style='width: 100px; height: 100px; margin: 1px; float: left; border: 0px solid black;'title=['.'] src='dataset_birds\\valid\\COLLARED CRESCENTCHEST\\5.jpg'/></div>"
      ],
      "text/plain": [
       "<IPython.core.display.HTML object>"
      ]
     },
     "metadata": {},
     "output_type": "display_data"
    },
    {
     "name": "stdout",
     "output_type": "stream",
     "text": [
      "Drawing .\n"
     ]
    },
    {
     "data": {
      "text/html": [
       "<div class=\"zoom\"><img style='width: 100px; height: 100px; margin: 1px; float: left; border: 0px solid black;'title=['.'] src='dataset_birds\\valid\\COMMON FIRECREST\\1.jpg'/></div><div class=\"zoom\"><img style='width: 100px; height: 100px; margin: 1px; float: left; border: 0px solid black;'title=['.'] src='dataset_birds\\valid\\COMMON FIRECREST\\2.jpg'/></div><div class=\"zoom\"><img style='width: 100px; height: 100px; margin: 1px; float: left; border: 0px solid black;'title=['.'] src='dataset_birds\\valid\\COMMON FIRECREST\\3.jpg'/></div><div class=\"zoom\"><img style='width: 100px; height: 100px; margin: 1px; float: left; border: 0px solid black;'title=['.'] src='dataset_birds\\valid\\COMMON FIRECREST\\4.jpg'/></div><div class=\"zoom\"><img style='width: 100px; height: 100px; margin: 1px; float: left; border: 0px solid black;'title=['.'] src='dataset_birds\\valid\\COMMON FIRECREST\\5.jpg'/></div>"
      ],
      "text/plain": [
       "<IPython.core.display.HTML object>"
      ]
     },
     "metadata": {},
     "output_type": "display_data"
    },
    {
     "name": "stdout",
     "output_type": "stream",
     "text": [
      "Drawing .\n"
     ]
    },
    {
     "data": {
      "text/html": [
       "<div class=\"zoom\"><img style='width: 100px; height: 100px; margin: 1px; float: left; border: 0px solid black;'title=['.'] src='dataset_birds\\valid\\COMMON GRACKLE\\1.jpg'/></div><div class=\"zoom\"><img style='width: 100px; height: 100px; margin: 1px; float: left; border: 0px solid black;'title=['.'] src='dataset_birds\\valid\\COMMON GRACKLE\\2.jpg'/></div><div class=\"zoom\"><img style='width: 100px; height: 100px; margin: 1px; float: left; border: 0px solid black;'title=['.'] src='dataset_birds\\valid\\COMMON GRACKLE\\3.jpg'/></div><div class=\"zoom\"><img style='width: 100px; height: 100px; margin: 1px; float: left; border: 0px solid black;'title=['.'] src='dataset_birds\\valid\\COMMON GRACKLE\\4.jpg'/></div><div class=\"zoom\"><img style='width: 100px; height: 100px; margin: 1px; float: left; border: 0px solid black;'title=['.'] src='dataset_birds\\valid\\COMMON GRACKLE\\5.jpg'/></div>"
      ],
      "text/plain": [
       "<IPython.core.display.HTML object>"
      ]
     },
     "metadata": {},
     "output_type": "display_data"
    },
    {
     "name": "stdout",
     "output_type": "stream",
     "text": [
      "Drawing .\n"
     ]
    },
    {
     "data": {
      "text/html": [
       "<div class=\"zoom\"><img style='width: 100px; height: 100px; margin: 1px; float: left; border: 0px solid black;'title=['.'] src='dataset_birds\\valid\\COMMON HOUSE MARTIN\\1.jpg'/></div><div class=\"zoom\"><img style='width: 100px; height: 100px; margin: 1px; float: left; border: 0px solid black;'title=['.'] src='dataset_birds\\valid\\COMMON HOUSE MARTIN\\2.jpg'/></div><div class=\"zoom\"><img style='width: 100px; height: 100px; margin: 1px; float: left; border: 0px solid black;'title=['.'] src='dataset_birds\\valid\\COMMON HOUSE MARTIN\\3.jpg'/></div><div class=\"zoom\"><img style='width: 100px; height: 100px; margin: 1px; float: left; border: 0px solid black;'title=['.'] src='dataset_birds\\valid\\COMMON HOUSE MARTIN\\4.jpg'/></div><div class=\"zoom\"><img style='width: 100px; height: 100px; margin: 1px; float: left; border: 0px solid black;'title=['.'] src='dataset_birds\\valid\\COMMON HOUSE MARTIN\\5.jpg'/></div>"
      ],
      "text/plain": [
       "<IPython.core.display.HTML object>"
      ]
     },
     "metadata": {},
     "output_type": "display_data"
    },
    {
     "name": "stdout",
     "output_type": "stream",
     "text": [
      "Drawing .\n"
     ]
    },
    {
     "data": {
      "text/html": [
       "<div class=\"zoom\"><img style='width: 100px; height: 100px; margin: 1px; float: left; border: 0px solid black;'title=['.'] src='dataset_birds\\valid\\COMMON IORA\\1.jpg'/></div><div class=\"zoom\"><img style='width: 100px; height: 100px; margin: 1px; float: left; border: 0px solid black;'title=['.'] src='dataset_birds\\valid\\COMMON IORA\\2.jpg'/></div><div class=\"zoom\"><img style='width: 100px; height: 100px; margin: 1px; float: left; border: 0px solid black;'title=['.'] src='dataset_birds\\valid\\COMMON IORA\\3.jpg'/></div><div class=\"zoom\"><img style='width: 100px; height: 100px; margin: 1px; float: left; border: 0px solid black;'title=['.'] src='dataset_birds\\valid\\COMMON IORA\\4.jpg'/></div><div class=\"zoom\"><img style='width: 100px; height: 100px; margin: 1px; float: left; border: 0px solid black;'title=['.'] src='dataset_birds\\valid\\COMMON IORA\\5.jpg'/></div>"
      ],
      "text/plain": [
       "<IPython.core.display.HTML object>"
      ]
     },
     "metadata": {},
     "output_type": "display_data"
    },
    {
     "name": "stdout",
     "output_type": "stream",
     "text": [
      "Drawing .\n"
     ]
    },
    {
     "data": {
      "text/html": [
       "<div class=\"zoom\"><img style='width: 100px; height: 100px; margin: 1px; float: left; border: 0px solid black;'title=['.'] src='dataset_birds\\valid\\COMMON LOON\\1.jpg'/></div><div class=\"zoom\"><img style='width: 100px; height: 100px; margin: 1px; float: left; border: 0px solid black;'title=['.'] src='dataset_birds\\valid\\COMMON LOON\\2.jpg'/></div><div class=\"zoom\"><img style='width: 100px; height: 100px; margin: 1px; float: left; border: 0px solid black;'title=['.'] src='dataset_birds\\valid\\COMMON LOON\\3.jpg'/></div><div class=\"zoom\"><img style='width: 100px; height: 100px; margin: 1px; float: left; border: 0px solid black;'title=['.'] src='dataset_birds\\valid\\COMMON LOON\\4.jpg'/></div><div class=\"zoom\"><img style='width: 100px; height: 100px; margin: 1px; float: left; border: 0px solid black;'title=['.'] src='dataset_birds\\valid\\COMMON LOON\\5.jpg'/></div>"
      ],
      "text/plain": [
       "<IPython.core.display.HTML object>"
      ]
     },
     "metadata": {},
     "output_type": "display_data"
    },
    {
     "name": "stdout",
     "output_type": "stream",
     "text": [
      "Drawing .\n"
     ]
    },
    {
     "data": {
      "text/html": [
       "<div class=\"zoom\"><img style='width: 100px; height: 100px; margin: 1px; float: left; border: 0px solid black;'title=['.'] src='dataset_birds\\valid\\COMMON POORWILL\\1.jpg'/></div><div class=\"zoom\"><img style='width: 100px; height: 100px; margin: 1px; float: left; border: 0px solid black;'title=['.'] src='dataset_birds\\valid\\COMMON POORWILL\\2.jpg'/></div><div class=\"zoom\"><img style='width: 100px; height: 100px; margin: 1px; float: left; border: 0px solid black;'title=['.'] src='dataset_birds\\valid\\COMMON POORWILL\\3.jpg'/></div><div class=\"zoom\"><img style='width: 100px; height: 100px; margin: 1px; float: left; border: 0px solid black;'title=['.'] src='dataset_birds\\valid\\COMMON POORWILL\\4.jpg'/></div><div class=\"zoom\"><img style='width: 100px; height: 100px; margin: 1px; float: left; border: 0px solid black;'title=['.'] src='dataset_birds\\valid\\COMMON POORWILL\\5.jpg'/></div>"
      ],
      "text/plain": [
       "<IPython.core.display.HTML object>"
      ]
     },
     "metadata": {},
     "output_type": "display_data"
    },
    {
     "name": "stdout",
     "output_type": "stream",
     "text": [
      "Drawing .\n"
     ]
    },
    {
     "data": {
      "text/html": [
       "<div class=\"zoom\"><img style='width: 100px; height: 100px; margin: 1px; float: left; border: 0px solid black;'title=['.'] src='dataset_birds\\valid\\COMMON STARLING\\1.jpg'/></div><div class=\"zoom\"><img style='width: 100px; height: 100px; margin: 1px; float: left; border: 0px solid black;'title=['.'] src='dataset_birds\\valid\\COMMON STARLING\\2.jpg'/></div><div class=\"zoom\"><img style='width: 100px; height: 100px; margin: 1px; float: left; border: 0px solid black;'title=['.'] src='dataset_birds\\valid\\COMMON STARLING\\3.jpg'/></div><div class=\"zoom\"><img style='width: 100px; height: 100px; margin: 1px; float: left; border: 0px solid black;'title=['.'] src='dataset_birds\\valid\\COMMON STARLING\\4.jpg'/></div><div class=\"zoom\"><img style='width: 100px; height: 100px; margin: 1px; float: left; border: 0px solid black;'title=['.'] src='dataset_birds\\valid\\COMMON STARLING\\5.jpg'/></div>"
      ],
      "text/plain": [
       "<IPython.core.display.HTML object>"
      ]
     },
     "metadata": {},
     "output_type": "display_data"
    },
    {
     "name": "stdout",
     "output_type": "stream",
     "text": [
      "Drawing .\n"
     ]
    },
    {
     "data": {
      "text/html": [
       "<div class=\"zoom\"><img style='width: 100px; height: 100px; margin: 1px; float: left; border: 0px solid black;'title=['.'] src='dataset_birds\\valid\\COPPERSMITH BARBET\\1.jpg'/></div><div class=\"zoom\"><img style='width: 100px; height: 100px; margin: 1px; float: left; border: 0px solid black;'title=['.'] src='dataset_birds\\valid\\COPPERSMITH BARBET\\2.jpg'/></div><div class=\"zoom\"><img style='width: 100px; height: 100px; margin: 1px; float: left; border: 0px solid black;'title=['.'] src='dataset_birds\\valid\\COPPERSMITH BARBET\\3.jpg'/></div><div class=\"zoom\"><img style='width: 100px; height: 100px; margin: 1px; float: left; border: 0px solid black;'title=['.'] src='dataset_birds\\valid\\COPPERSMITH BARBET\\4.jpg'/></div><div class=\"zoom\"><img style='width: 100px; height: 100px; margin: 1px; float: left; border: 0px solid black;'title=['.'] src='dataset_birds\\valid\\COPPERSMITH BARBET\\5.jpg'/></div>"
      ],
      "text/plain": [
       "<IPython.core.display.HTML object>"
      ]
     },
     "metadata": {},
     "output_type": "display_data"
    },
    {
     "name": "stdout",
     "output_type": "stream",
     "text": [
      "Drawing .\n"
     ]
    },
    {
     "data": {
      "text/html": [
       "<div class=\"zoom\"><img style='width: 100px; height: 100px; margin: 1px; float: left; border: 0px solid black;'title=['.'] src='dataset_birds\\valid\\COPPERY TAILED COUCAL\\1.jpg'/></div><div class=\"zoom\"><img style='width: 100px; height: 100px; margin: 1px; float: left; border: 0px solid black;'title=['.'] src='dataset_birds\\valid\\COPPERY TAILED COUCAL\\2.jpg'/></div><div class=\"zoom\"><img style='width: 100px; height: 100px; margin: 1px; float: left; border: 0px solid black;'title=['.'] src='dataset_birds\\valid\\COPPERY TAILED COUCAL\\3.jpg'/></div><div class=\"zoom\"><img style='width: 100px; height: 100px; margin: 1px; float: left; border: 0px solid black;'title=['.'] src='dataset_birds\\valid\\COPPERY TAILED COUCAL\\4.jpg'/></div><div class=\"zoom\"><img style='width: 100px; height: 100px; margin: 1px; float: left; border: 0px solid black;'title=['.'] src='dataset_birds\\valid\\COPPERY TAILED COUCAL\\5.jpg'/></div>"
      ],
      "text/plain": [
       "<IPython.core.display.HTML object>"
      ]
     },
     "metadata": {},
     "output_type": "display_data"
    },
    {
     "name": "stdout",
     "output_type": "stream",
     "text": [
      "Drawing .\n"
     ]
    },
    {
     "data": {
      "text/html": [
       "<div class=\"zoom\"><img style='width: 100px; height: 100px; margin: 1px; float: left; border: 0px solid black;'title=['.'] src='dataset_birds\\valid\\CRAB PLOVER\\1.jpg'/></div><div class=\"zoom\"><img style='width: 100px; height: 100px; margin: 1px; float: left; border: 0px solid black;'title=['.'] src='dataset_birds\\valid\\CRAB PLOVER\\2.jpg'/></div><div class=\"zoom\"><img style='width: 100px; height: 100px; margin: 1px; float: left; border: 0px solid black;'title=['.'] src='dataset_birds\\valid\\CRAB PLOVER\\3.jpg'/></div><div class=\"zoom\"><img style='width: 100px; height: 100px; margin: 1px; float: left; border: 0px solid black;'title=['.'] src='dataset_birds\\valid\\CRAB PLOVER\\4.jpg'/></div><div class=\"zoom\"><img style='width: 100px; height: 100px; margin: 1px; float: left; border: 0px solid black;'title=['.'] src='dataset_birds\\valid\\CRAB PLOVER\\5.jpg'/></div>"
      ],
      "text/plain": [
       "<IPython.core.display.HTML object>"
      ]
     },
     "metadata": {},
     "output_type": "display_data"
    },
    {
     "name": "stdout",
     "output_type": "stream",
     "text": [
      "Drawing .\n"
     ]
    },
    {
     "data": {
      "text/html": [
       "<div class=\"zoom\"><img style='width: 100px; height: 100px; margin: 1px; float: left; border: 0px solid black;'title=['.'] src='dataset_birds\\valid\\CRANE HAWK\\1.jpg'/></div><div class=\"zoom\"><img style='width: 100px; height: 100px; margin: 1px; float: left; border: 0px solid black;'title=['.'] src='dataset_birds\\valid\\CRANE HAWK\\2.jpg'/></div><div class=\"zoom\"><img style='width: 100px; height: 100px; margin: 1px; float: left; border: 0px solid black;'title=['.'] src='dataset_birds\\valid\\CRANE HAWK\\3.jpg'/></div><div class=\"zoom\"><img style='width: 100px; height: 100px; margin: 1px; float: left; border: 0px solid black;'title=['.'] src='dataset_birds\\valid\\CRANE HAWK\\4.jpg'/></div><div class=\"zoom\"><img style='width: 100px; height: 100px; margin: 1px; float: left; border: 0px solid black;'title=['.'] src='dataset_birds\\valid\\CRANE HAWK\\5.jpg'/></div>"
      ],
      "text/plain": [
       "<IPython.core.display.HTML object>"
      ]
     },
     "metadata": {},
     "output_type": "display_data"
    },
    {
     "name": "stdout",
     "output_type": "stream",
     "text": [
      "Drawing .\n"
     ]
    },
    {
     "data": {
      "text/html": [
       "<div class=\"zoom\"><img style='width: 100px; height: 100px; margin: 1px; float: left; border: 0px solid black;'title=['.'] src='dataset_birds\\valid\\CREAM COLORED WOODPECKER\\1.jpg'/></div><div class=\"zoom\"><img style='width: 100px; height: 100px; margin: 1px; float: left; border: 0px solid black;'title=['.'] src='dataset_birds\\valid\\CREAM COLORED WOODPECKER\\2.jpg'/></div><div class=\"zoom\"><img style='width: 100px; height: 100px; margin: 1px; float: left; border: 0px solid black;'title=['.'] src='dataset_birds\\valid\\CREAM COLORED WOODPECKER\\3.jpg'/></div><div class=\"zoom\"><img style='width: 100px; height: 100px; margin: 1px; float: left; border: 0px solid black;'title=['.'] src='dataset_birds\\valid\\CREAM COLORED WOODPECKER\\4.jpg'/></div><div class=\"zoom\"><img style='width: 100px; height: 100px; margin: 1px; float: left; border: 0px solid black;'title=['.'] src='dataset_birds\\valid\\CREAM COLORED WOODPECKER\\5.jpg'/></div>"
      ],
      "text/plain": [
       "<IPython.core.display.HTML object>"
      ]
     },
     "metadata": {},
     "output_type": "display_data"
    },
    {
     "name": "stdout",
     "output_type": "stream",
     "text": [
      "Drawing .\n"
     ]
    },
    {
     "data": {
      "text/html": [
       "<div class=\"zoom\"><img style='width: 100px; height: 100px; margin: 1px; float: left; border: 0px solid black;'title=['.'] src='dataset_birds\\valid\\CRESTED AUKLET\\1.jpg'/></div><div class=\"zoom\"><img style='width: 100px; height: 100px; margin: 1px; float: left; border: 0px solid black;'title=['.'] src='dataset_birds\\valid\\CRESTED AUKLET\\2.jpg'/></div><div class=\"zoom\"><img style='width: 100px; height: 100px; margin: 1px; float: left; border: 0px solid black;'title=['.'] src='dataset_birds\\valid\\CRESTED AUKLET\\3.jpg'/></div><div class=\"zoom\"><img style='width: 100px; height: 100px; margin: 1px; float: left; border: 0px solid black;'title=['.'] src='dataset_birds\\valid\\CRESTED AUKLET\\4.jpg'/></div><div class=\"zoom\"><img style='width: 100px; height: 100px; margin: 1px; float: left; border: 0px solid black;'title=['.'] src='dataset_birds\\valid\\CRESTED AUKLET\\5.jpg'/></div>"
      ],
      "text/plain": [
       "<IPython.core.display.HTML object>"
      ]
     },
     "metadata": {},
     "output_type": "display_data"
    },
    {
     "name": "stdout",
     "output_type": "stream",
     "text": [
      "Drawing .\n"
     ]
    },
    {
     "data": {
      "text/html": [
       "<div class=\"zoom\"><img style='width: 100px; height: 100px; margin: 1px; float: left; border: 0px solid black;'title=['.'] src='dataset_birds\\valid\\CRESTED CARACARA\\1.jpg'/></div><div class=\"zoom\"><img style='width: 100px; height: 100px; margin: 1px; float: left; border: 0px solid black;'title=['.'] src='dataset_birds\\valid\\CRESTED CARACARA\\2.jpg'/></div><div class=\"zoom\"><img style='width: 100px; height: 100px; margin: 1px; float: left; border: 0px solid black;'title=['.'] src='dataset_birds\\valid\\CRESTED CARACARA\\3.jpg'/></div><div class=\"zoom\"><img style='width: 100px; height: 100px; margin: 1px; float: left; border: 0px solid black;'title=['.'] src='dataset_birds\\valid\\CRESTED CARACARA\\4.jpg'/></div><div class=\"zoom\"><img style='width: 100px; height: 100px; margin: 1px; float: left; border: 0px solid black;'title=['.'] src='dataset_birds\\valid\\CRESTED CARACARA\\5.jpg'/></div>"
      ],
      "text/plain": [
       "<IPython.core.display.HTML object>"
      ]
     },
     "metadata": {},
     "output_type": "display_data"
    },
    {
     "name": "stdout",
     "output_type": "stream",
     "text": [
      "Drawing .\n"
     ]
    },
    {
     "data": {
      "text/html": [
       "<div class=\"zoom\"><img style='width: 100px; height: 100px; margin: 1px; float: left; border: 0px solid black;'title=['.'] src='dataset_birds\\valid\\CRESTED COUA\\1.jpg'/></div><div class=\"zoom\"><img style='width: 100px; height: 100px; margin: 1px; float: left; border: 0px solid black;'title=['.'] src='dataset_birds\\valid\\CRESTED COUA\\2.jpg'/></div><div class=\"zoom\"><img style='width: 100px; height: 100px; margin: 1px; float: left; border: 0px solid black;'title=['.'] src='dataset_birds\\valid\\CRESTED COUA\\3.jpg'/></div><div class=\"zoom\"><img style='width: 100px; height: 100px; margin: 1px; float: left; border: 0px solid black;'title=['.'] src='dataset_birds\\valid\\CRESTED COUA\\4.jpg'/></div><div class=\"zoom\"><img style='width: 100px; height: 100px; margin: 1px; float: left; border: 0px solid black;'title=['.'] src='dataset_birds\\valid\\CRESTED COUA\\5.jpg'/></div>"
      ],
      "text/plain": [
       "<IPython.core.display.HTML object>"
      ]
     },
     "metadata": {},
     "output_type": "display_data"
    },
    {
     "name": "stdout",
     "output_type": "stream",
     "text": [
      "Drawing .\n"
     ]
    },
    {
     "data": {
      "text/html": [
       "<div class=\"zoom\"><img style='width: 100px; height: 100px; margin: 1px; float: left; border: 0px solid black;'title=['.'] src='dataset_birds\\valid\\CRESTED FIREBACK\\1.jpg'/></div><div class=\"zoom\"><img style='width: 100px; height: 100px; margin: 1px; float: left; border: 0px solid black;'title=['.'] src='dataset_birds\\valid\\CRESTED FIREBACK\\2.jpg'/></div><div class=\"zoom\"><img style='width: 100px; height: 100px; margin: 1px; float: left; border: 0px solid black;'title=['.'] src='dataset_birds\\valid\\CRESTED FIREBACK\\3.jpg'/></div><div class=\"zoom\"><img style='width: 100px; height: 100px; margin: 1px; float: left; border: 0px solid black;'title=['.'] src='dataset_birds\\valid\\CRESTED FIREBACK\\4.jpg'/></div><div class=\"zoom\"><img style='width: 100px; height: 100px; margin: 1px; float: left; border: 0px solid black;'title=['.'] src='dataset_birds\\valid\\CRESTED FIREBACK\\5.jpg'/></div>"
      ],
      "text/plain": [
       "<IPython.core.display.HTML object>"
      ]
     },
     "metadata": {},
     "output_type": "display_data"
    },
    {
     "name": "stdout",
     "output_type": "stream",
     "text": [
      "Drawing .\n"
     ]
    },
    {
     "data": {
      "text/html": [
       "<div class=\"zoom\"><img style='width: 100px; height: 100px; margin: 1px; float: left; border: 0px solid black;'title=['.'] src='dataset_birds\\valid\\CRESTED KINGFISHER\\1.jpg'/></div><div class=\"zoom\"><img style='width: 100px; height: 100px; margin: 1px; float: left; border: 0px solid black;'title=['.'] src='dataset_birds\\valid\\CRESTED KINGFISHER\\2.jpg'/></div><div class=\"zoom\"><img style='width: 100px; height: 100px; margin: 1px; float: left; border: 0px solid black;'title=['.'] src='dataset_birds\\valid\\CRESTED KINGFISHER\\3.jpg'/></div><div class=\"zoom\"><img style='width: 100px; height: 100px; margin: 1px; float: left; border: 0px solid black;'title=['.'] src='dataset_birds\\valid\\CRESTED KINGFISHER\\4.jpg'/></div><div class=\"zoom\"><img style='width: 100px; height: 100px; margin: 1px; float: left; border: 0px solid black;'title=['.'] src='dataset_birds\\valid\\CRESTED KINGFISHER\\5.jpg'/></div>"
      ],
      "text/plain": [
       "<IPython.core.display.HTML object>"
      ]
     },
     "metadata": {},
     "output_type": "display_data"
    },
    {
     "name": "stdout",
     "output_type": "stream",
     "text": [
      "Drawing .\n"
     ]
    },
    {
     "data": {
      "text/html": [
       "<div class=\"zoom\"><img style='width: 100px; height: 100px; margin: 1px; float: left; border: 0px solid black;'title=['.'] src='dataset_birds\\valid\\CRESTED NUTHATCH\\1.jpg'/></div><div class=\"zoom\"><img style='width: 100px; height: 100px; margin: 1px; float: left; border: 0px solid black;'title=['.'] src='dataset_birds\\valid\\CRESTED NUTHATCH\\2.jpg'/></div><div class=\"zoom\"><img style='width: 100px; height: 100px; margin: 1px; float: left; border: 0px solid black;'title=['.'] src='dataset_birds\\valid\\CRESTED NUTHATCH\\3.jpg'/></div><div class=\"zoom\"><img style='width: 100px; height: 100px; margin: 1px; float: left; border: 0px solid black;'title=['.'] src='dataset_birds\\valid\\CRESTED NUTHATCH\\4.jpg'/></div><div class=\"zoom\"><img style='width: 100px; height: 100px; margin: 1px; float: left; border: 0px solid black;'title=['.'] src='dataset_birds\\valid\\CRESTED NUTHATCH\\5.jpg'/></div>"
      ],
      "text/plain": [
       "<IPython.core.display.HTML object>"
      ]
     },
     "metadata": {},
     "output_type": "display_data"
    },
    {
     "name": "stdout",
     "output_type": "stream",
     "text": [
      "Drawing .\n"
     ]
    },
    {
     "data": {
      "text/html": [
       "<div class=\"zoom\"><img style='width: 100px; height: 100px; margin: 1px; float: left; border: 0px solid black;'title=['.'] src='dataset_birds\\valid\\CRESTED OROPENDOLA\\1.jpg'/></div><div class=\"zoom\"><img style='width: 100px; height: 100px; margin: 1px; float: left; border: 0px solid black;'title=['.'] src='dataset_birds\\valid\\CRESTED OROPENDOLA\\2.jpg'/></div><div class=\"zoom\"><img style='width: 100px; height: 100px; margin: 1px; float: left; border: 0px solid black;'title=['.'] src='dataset_birds\\valid\\CRESTED OROPENDOLA\\3.jpg'/></div><div class=\"zoom\"><img style='width: 100px; height: 100px; margin: 1px; float: left; border: 0px solid black;'title=['.'] src='dataset_birds\\valid\\CRESTED OROPENDOLA\\4.jpg'/></div><div class=\"zoom\"><img style='width: 100px; height: 100px; margin: 1px; float: left; border: 0px solid black;'title=['.'] src='dataset_birds\\valid\\CRESTED OROPENDOLA\\5.jpg'/></div>"
      ],
      "text/plain": [
       "<IPython.core.display.HTML object>"
      ]
     },
     "metadata": {},
     "output_type": "display_data"
    },
    {
     "name": "stdout",
     "output_type": "stream",
     "text": [
      "Drawing .\n"
     ]
    },
    {
     "data": {
      "text/html": [
       "<div class=\"zoom\"><img style='width: 100px; height: 100px; margin: 1px; float: left; border: 0px solid black;'title=['.'] src='dataset_birds\\valid\\CRESTED SERPENT EAGLE\\1.jpg'/></div><div class=\"zoom\"><img style='width: 100px; height: 100px; margin: 1px; float: left; border: 0px solid black;'title=['.'] src='dataset_birds\\valid\\CRESTED SERPENT EAGLE\\2.jpg'/></div><div class=\"zoom\"><img style='width: 100px; height: 100px; margin: 1px; float: left; border: 0px solid black;'title=['.'] src='dataset_birds\\valid\\CRESTED SERPENT EAGLE\\3.jpg'/></div><div class=\"zoom\"><img style='width: 100px; height: 100px; margin: 1px; float: left; border: 0px solid black;'title=['.'] src='dataset_birds\\valid\\CRESTED SERPENT EAGLE\\4.jpg'/></div><div class=\"zoom\"><img style='width: 100px; height: 100px; margin: 1px; float: left; border: 0px solid black;'title=['.'] src='dataset_birds\\valid\\CRESTED SERPENT EAGLE\\5.jpg'/></div>"
      ],
      "text/plain": [
       "<IPython.core.display.HTML object>"
      ]
     },
     "metadata": {},
     "output_type": "display_data"
    },
    {
     "name": "stdout",
     "output_type": "stream",
     "text": [
      "Drawing .\n"
     ]
    },
    {
     "data": {
      "text/html": [
       "<div class=\"zoom\"><img style='width: 100px; height: 100px; margin: 1px; float: left; border: 0px solid black;'title=['.'] src='dataset_birds\\valid\\CRESTED SHRIKETIT\\1.jpg'/></div><div class=\"zoom\"><img style='width: 100px; height: 100px; margin: 1px; float: left; border: 0px solid black;'title=['.'] src='dataset_birds\\valid\\CRESTED SHRIKETIT\\2.jpg'/></div><div class=\"zoom\"><img style='width: 100px; height: 100px; margin: 1px; float: left; border: 0px solid black;'title=['.'] src='dataset_birds\\valid\\CRESTED SHRIKETIT\\3.jpg'/></div><div class=\"zoom\"><img style='width: 100px; height: 100px; margin: 1px; float: left; border: 0px solid black;'title=['.'] src='dataset_birds\\valid\\CRESTED SHRIKETIT\\4.jpg'/></div><div class=\"zoom\"><img style='width: 100px; height: 100px; margin: 1px; float: left; border: 0px solid black;'title=['.'] src='dataset_birds\\valid\\CRESTED SHRIKETIT\\5.jpg'/></div>"
      ],
      "text/plain": [
       "<IPython.core.display.HTML object>"
      ]
     },
     "metadata": {},
     "output_type": "display_data"
    },
    {
     "name": "stdout",
     "output_type": "stream",
     "text": [
      "Drawing .\n"
     ]
    },
    {
     "data": {
      "text/html": [
       "<div class=\"zoom\"><img style='width: 100px; height: 100px; margin: 1px; float: left; border: 0px solid black;'title=['.'] src='dataset_birds\\valid\\CRESTED WOOD PARTRIDGE\\1.jpg'/></div><div class=\"zoom\"><img style='width: 100px; height: 100px; margin: 1px; float: left; border: 0px solid black;'title=['.'] src='dataset_birds\\valid\\CRESTED WOOD PARTRIDGE\\2.jpg'/></div><div class=\"zoom\"><img style='width: 100px; height: 100px; margin: 1px; float: left; border: 0px solid black;'title=['.'] src='dataset_birds\\valid\\CRESTED WOOD PARTRIDGE\\3.jpg'/></div><div class=\"zoom\"><img style='width: 100px; height: 100px; margin: 1px; float: left; border: 0px solid black;'title=['.'] src='dataset_birds\\valid\\CRESTED WOOD PARTRIDGE\\4.jpg'/></div><div class=\"zoom\"><img style='width: 100px; height: 100px; margin: 1px; float: left; border: 0px solid black;'title=['.'] src='dataset_birds\\valid\\CRESTED WOOD PARTRIDGE\\5.jpg'/></div>"
      ],
      "text/plain": [
       "<IPython.core.display.HTML object>"
      ]
     },
     "metadata": {},
     "output_type": "display_data"
    },
    {
     "name": "stdout",
     "output_type": "stream",
     "text": [
      "Drawing .\n"
     ]
    },
    {
     "data": {
      "text/html": [
       "<div class=\"zoom\"><img style='width: 100px; height: 100px; margin: 1px; float: left; border: 0px solid black;'title=['.'] src='dataset_birds\\valid\\CRIMSON CHAT\\1.jpg'/></div><div class=\"zoom\"><img style='width: 100px; height: 100px; margin: 1px; float: left; border: 0px solid black;'title=['.'] src='dataset_birds\\valid\\CRIMSON CHAT\\2.jpg'/></div><div class=\"zoom\"><img style='width: 100px; height: 100px; margin: 1px; float: left; border: 0px solid black;'title=['.'] src='dataset_birds\\valid\\CRIMSON CHAT\\3.jpg'/></div><div class=\"zoom\"><img style='width: 100px; height: 100px; margin: 1px; float: left; border: 0px solid black;'title=['.'] src='dataset_birds\\valid\\CRIMSON CHAT\\4.jpg'/></div><div class=\"zoom\"><img style='width: 100px; height: 100px; margin: 1px; float: left; border: 0px solid black;'title=['.'] src='dataset_birds\\valid\\CRIMSON CHAT\\5.jpg'/></div>"
      ],
      "text/plain": [
       "<IPython.core.display.HTML object>"
      ]
     },
     "metadata": {},
     "output_type": "display_data"
    },
    {
     "name": "stdout",
     "output_type": "stream",
     "text": [
      "Drawing .\n"
     ]
    },
    {
     "data": {
      "text/html": [
       "<div class=\"zoom\"><img style='width: 100px; height: 100px; margin: 1px; float: left; border: 0px solid black;'title=['.'] src='dataset_birds\\valid\\CRIMSON SUNBIRD\\1.jpg'/></div><div class=\"zoom\"><img style='width: 100px; height: 100px; margin: 1px; float: left; border: 0px solid black;'title=['.'] src='dataset_birds\\valid\\CRIMSON SUNBIRD\\2.jpg'/></div><div class=\"zoom\"><img style='width: 100px; height: 100px; margin: 1px; float: left; border: 0px solid black;'title=['.'] src='dataset_birds\\valid\\CRIMSON SUNBIRD\\3.jpg'/></div><div class=\"zoom\"><img style='width: 100px; height: 100px; margin: 1px; float: left; border: 0px solid black;'title=['.'] src='dataset_birds\\valid\\CRIMSON SUNBIRD\\4.jpg'/></div><div class=\"zoom\"><img style='width: 100px; height: 100px; margin: 1px; float: left; border: 0px solid black;'title=['.'] src='dataset_birds\\valid\\CRIMSON SUNBIRD\\5.jpg'/></div>"
      ],
      "text/plain": [
       "<IPython.core.display.HTML object>"
      ]
     },
     "metadata": {},
     "output_type": "display_data"
    },
    {
     "name": "stdout",
     "output_type": "stream",
     "text": [
      "Drawing .\n"
     ]
    },
    {
     "data": {
      "text/html": [
       "<div class=\"zoom\"><img style='width: 100px; height: 100px; margin: 1px; float: left; border: 0px solid black;'title=['.'] src='dataset_birds\\valid\\CROW\\1.jpg'/></div><div class=\"zoom\"><img style='width: 100px; height: 100px; margin: 1px; float: left; border: 0px solid black;'title=['.'] src='dataset_birds\\valid\\CROW\\2.jpg'/></div><div class=\"zoom\"><img style='width: 100px; height: 100px; margin: 1px; float: left; border: 0px solid black;'title=['.'] src='dataset_birds\\valid\\CROW\\3.jpg'/></div><div class=\"zoom\"><img style='width: 100px; height: 100px; margin: 1px; float: left; border: 0px solid black;'title=['.'] src='dataset_birds\\valid\\CROW\\4.jpg'/></div><div class=\"zoom\"><img style='width: 100px; height: 100px; margin: 1px; float: left; border: 0px solid black;'title=['.'] src='dataset_birds\\valid\\CROW\\5.jpg'/></div>"
      ],
      "text/plain": [
       "<IPython.core.display.HTML object>"
      ]
     },
     "metadata": {},
     "output_type": "display_data"
    },
    {
     "name": "stdout",
     "output_type": "stream",
     "text": [
      "Drawing .\n"
     ]
    },
    {
     "data": {
      "text/html": [
       "<div class=\"zoom\"><img style='width: 100px; height: 100px; margin: 1px; float: left; border: 0px solid black;'title=['.'] src='dataset_birds\\valid\\CUBAN TODY\\1.jpg'/></div><div class=\"zoom\"><img style='width: 100px; height: 100px; margin: 1px; float: left; border: 0px solid black;'title=['.'] src='dataset_birds\\valid\\CUBAN TODY\\2.jpg'/></div><div class=\"zoom\"><img style='width: 100px; height: 100px; margin: 1px; float: left; border: 0px solid black;'title=['.'] src='dataset_birds\\valid\\CUBAN TODY\\3.jpg'/></div><div class=\"zoom\"><img style='width: 100px; height: 100px; margin: 1px; float: left; border: 0px solid black;'title=['.'] src='dataset_birds\\valid\\CUBAN TODY\\4.jpg'/></div><div class=\"zoom\"><img style='width: 100px; height: 100px; margin: 1px; float: left; border: 0px solid black;'title=['.'] src='dataset_birds\\valid\\CUBAN TODY\\5.jpg'/></div>"
      ],
      "text/plain": [
       "<IPython.core.display.HTML object>"
      ]
     },
     "metadata": {},
     "output_type": "display_data"
    },
    {
     "name": "stdout",
     "output_type": "stream",
     "text": [
      "Drawing .\n"
     ]
    },
    {
     "data": {
      "text/html": [
       "<div class=\"zoom\"><img style='width: 100px; height: 100px; margin: 1px; float: left; border: 0px solid black;'title=['.'] src='dataset_birds\\valid\\CUBAN TROGON\\1.jpg'/></div><div class=\"zoom\"><img style='width: 100px; height: 100px; margin: 1px; float: left; border: 0px solid black;'title=['.'] src='dataset_birds\\valid\\CUBAN TROGON\\2.jpg'/></div><div class=\"zoom\"><img style='width: 100px; height: 100px; margin: 1px; float: left; border: 0px solid black;'title=['.'] src='dataset_birds\\valid\\CUBAN TROGON\\3.jpg'/></div><div class=\"zoom\"><img style='width: 100px; height: 100px; margin: 1px; float: left; border: 0px solid black;'title=['.'] src='dataset_birds\\valid\\CUBAN TROGON\\4.jpg'/></div><div class=\"zoom\"><img style='width: 100px; height: 100px; margin: 1px; float: left; border: 0px solid black;'title=['.'] src='dataset_birds\\valid\\CUBAN TROGON\\5.jpg'/></div>"
      ],
      "text/plain": [
       "<IPython.core.display.HTML object>"
      ]
     },
     "metadata": {},
     "output_type": "display_data"
    },
    {
     "name": "stdout",
     "output_type": "stream",
     "text": [
      "Drawing .\n"
     ]
    },
    {
     "data": {
      "text/html": [
       "<div class=\"zoom\"><img style='width: 100px; height: 100px; margin: 1px; float: left; border: 0px solid black;'title=['.'] src='dataset_birds\\valid\\CURL CRESTED ARACURI\\1.jpg'/></div><div class=\"zoom\"><img style='width: 100px; height: 100px; margin: 1px; float: left; border: 0px solid black;'title=['.'] src='dataset_birds\\valid\\CURL CRESTED ARACURI\\2.jpg'/></div><div class=\"zoom\"><img style='width: 100px; height: 100px; margin: 1px; float: left; border: 0px solid black;'title=['.'] src='dataset_birds\\valid\\CURL CRESTED ARACURI\\3.jpg'/></div><div class=\"zoom\"><img style='width: 100px; height: 100px; margin: 1px; float: left; border: 0px solid black;'title=['.'] src='dataset_birds\\valid\\CURL CRESTED ARACURI\\4.jpg'/></div><div class=\"zoom\"><img style='width: 100px; height: 100px; margin: 1px; float: left; border: 0px solid black;'title=['.'] src='dataset_birds\\valid\\CURL CRESTED ARACURI\\5.jpg'/></div>"
      ],
      "text/plain": [
       "<IPython.core.display.HTML object>"
      ]
     },
     "metadata": {},
     "output_type": "display_data"
    },
    {
     "name": "stdout",
     "output_type": "stream",
     "text": [
      "Drawing .\n"
     ]
    },
    {
     "data": {
      "text/html": [
       "<div class=\"zoom\"><img style='width: 100px; height: 100px; margin: 1px; float: left; border: 0px solid black;'title=['.'] src='dataset_birds\\valid\\D-ARNAUDS BARBET\\1.jpg'/></div><div class=\"zoom\"><img style='width: 100px; height: 100px; margin: 1px; float: left; border: 0px solid black;'title=['.'] src='dataset_birds\\valid\\D-ARNAUDS BARBET\\2.jpg'/></div><div class=\"zoom\"><img style='width: 100px; height: 100px; margin: 1px; float: left; border: 0px solid black;'title=['.'] src='dataset_birds\\valid\\D-ARNAUDS BARBET\\3.jpg'/></div><div class=\"zoom\"><img style='width: 100px; height: 100px; margin: 1px; float: left; border: 0px solid black;'title=['.'] src='dataset_birds\\valid\\D-ARNAUDS BARBET\\4.jpg'/></div><div class=\"zoom\"><img style='width: 100px; height: 100px; margin: 1px; float: left; border: 0px solid black;'title=['.'] src='dataset_birds\\valid\\D-ARNAUDS BARBET\\5.jpg'/></div>"
      ],
      "text/plain": [
       "<IPython.core.display.HTML object>"
      ]
     },
     "metadata": {},
     "output_type": "display_data"
    },
    {
     "name": "stdout",
     "output_type": "stream",
     "text": [
      "Drawing .\n"
     ]
    },
    {
     "data": {
      "text/html": [
       "<div class=\"zoom\"><img style='width: 100px; height: 100px; margin: 1px; float: left; border: 0px solid black;'title=['.'] src='dataset_birds\\valid\\DALMATIAN PELICAN\\1.jpg'/></div><div class=\"zoom\"><img style='width: 100px; height: 100px; margin: 1px; float: left; border: 0px solid black;'title=['.'] src='dataset_birds\\valid\\DALMATIAN PELICAN\\2.jpg'/></div><div class=\"zoom\"><img style='width: 100px; height: 100px; margin: 1px; float: left; border: 0px solid black;'title=['.'] src='dataset_birds\\valid\\DALMATIAN PELICAN\\3.jpg'/></div><div class=\"zoom\"><img style='width: 100px; height: 100px; margin: 1px; float: left; border: 0px solid black;'title=['.'] src='dataset_birds\\valid\\DALMATIAN PELICAN\\4.jpg'/></div><div class=\"zoom\"><img style='width: 100px; height: 100px; margin: 1px; float: left; border: 0px solid black;'title=['.'] src='dataset_birds\\valid\\DALMATIAN PELICAN\\5.jpg'/></div>"
      ],
      "text/plain": [
       "<IPython.core.display.HTML object>"
      ]
     },
     "metadata": {},
     "output_type": "display_data"
    },
    {
     "name": "stdout",
     "output_type": "stream",
     "text": [
      "Drawing .\n"
     ]
    },
    {
     "data": {
      "text/html": [
       "<div class=\"zoom\"><img style='width: 100px; height: 100px; margin: 1px; float: left; border: 0px solid black;'title=['.'] src='dataset_birds\\valid\\DARJEELING WOODPECKER\\1.jpg'/></div><div class=\"zoom\"><img style='width: 100px; height: 100px; margin: 1px; float: left; border: 0px solid black;'title=['.'] src='dataset_birds\\valid\\DARJEELING WOODPECKER\\2.jpg'/></div><div class=\"zoom\"><img style='width: 100px; height: 100px; margin: 1px; float: left; border: 0px solid black;'title=['.'] src='dataset_birds\\valid\\DARJEELING WOODPECKER\\3.jpg'/></div><div class=\"zoom\"><img style='width: 100px; height: 100px; margin: 1px; float: left; border: 0px solid black;'title=['.'] src='dataset_birds\\valid\\DARJEELING WOODPECKER\\4.jpg'/></div><div class=\"zoom\"><img style='width: 100px; height: 100px; margin: 1px; float: left; border: 0px solid black;'title=['.'] src='dataset_birds\\valid\\DARJEELING WOODPECKER\\5.jpg'/></div>"
      ],
      "text/plain": [
       "<IPython.core.display.HTML object>"
      ]
     },
     "metadata": {},
     "output_type": "display_data"
    },
    {
     "name": "stdout",
     "output_type": "stream",
     "text": [
      "Drawing .\n"
     ]
    },
    {
     "data": {
      "text/html": [
       "<div class=\"zoom\"><img style='width: 100px; height: 100px; margin: 1px; float: left; border: 0px solid black;'title=['.'] src='dataset_birds\\valid\\DARK EYED JUNCO\\1.jpg'/></div><div class=\"zoom\"><img style='width: 100px; height: 100px; margin: 1px; float: left; border: 0px solid black;'title=['.'] src='dataset_birds\\valid\\DARK EYED JUNCO\\2.jpg'/></div><div class=\"zoom\"><img style='width: 100px; height: 100px; margin: 1px; float: left; border: 0px solid black;'title=['.'] src='dataset_birds\\valid\\DARK EYED JUNCO\\3.jpg'/></div><div class=\"zoom\"><img style='width: 100px; height: 100px; margin: 1px; float: left; border: 0px solid black;'title=['.'] src='dataset_birds\\valid\\DARK EYED JUNCO\\4.jpg'/></div><div class=\"zoom\"><img style='width: 100px; height: 100px; margin: 1px; float: left; border: 0px solid black;'title=['.'] src='dataset_birds\\valid\\DARK EYED JUNCO\\5.jpg'/></div>"
      ],
      "text/plain": [
       "<IPython.core.display.HTML object>"
      ]
     },
     "metadata": {},
     "output_type": "display_data"
    },
    {
     "name": "stdout",
     "output_type": "stream",
     "text": [
      "Drawing .\n"
     ]
    },
    {
     "data": {
      "text/html": [
       "<div class=\"zoom\"><img style='width: 100px; height: 100px; margin: 1px; float: left; border: 0px solid black;'title=['.'] src='dataset_birds\\valid\\DAURIAN REDSTART\\1.jpg'/></div><div class=\"zoom\"><img style='width: 100px; height: 100px; margin: 1px; float: left; border: 0px solid black;'title=['.'] src='dataset_birds\\valid\\DAURIAN REDSTART\\2.jpg'/></div><div class=\"zoom\"><img style='width: 100px; height: 100px; margin: 1px; float: left; border: 0px solid black;'title=['.'] src='dataset_birds\\valid\\DAURIAN REDSTART\\3.jpg'/></div><div class=\"zoom\"><img style='width: 100px; height: 100px; margin: 1px; float: left; border: 0px solid black;'title=['.'] src='dataset_birds\\valid\\DAURIAN REDSTART\\4.jpg'/></div><div class=\"zoom\"><img style='width: 100px; height: 100px; margin: 1px; float: left; border: 0px solid black;'title=['.'] src='dataset_birds\\valid\\DAURIAN REDSTART\\5.jpg'/></div>"
      ],
      "text/plain": [
       "<IPython.core.display.HTML object>"
      ]
     },
     "metadata": {},
     "output_type": "display_data"
    },
    {
     "name": "stdout",
     "output_type": "stream",
     "text": [
      "Drawing .\n"
     ]
    },
    {
     "data": {
      "text/html": [
       "<div class=\"zoom\"><img style='width: 100px; height: 100px; margin: 1px; float: left; border: 0px solid black;'title=['.'] src='dataset_birds\\valid\\DEMOISELLE CRANE\\1.jpg'/></div><div class=\"zoom\"><img style='width: 100px; height: 100px; margin: 1px; float: left; border: 0px solid black;'title=['.'] src='dataset_birds\\valid\\DEMOISELLE CRANE\\2.jpg'/></div><div class=\"zoom\"><img style='width: 100px; height: 100px; margin: 1px; float: left; border: 0px solid black;'title=['.'] src='dataset_birds\\valid\\DEMOISELLE CRANE\\3.jpg'/></div><div class=\"zoom\"><img style='width: 100px; height: 100px; margin: 1px; float: left; border: 0px solid black;'title=['.'] src='dataset_birds\\valid\\DEMOISELLE CRANE\\4.jpg'/></div><div class=\"zoom\"><img style='width: 100px; height: 100px; margin: 1px; float: left; border: 0px solid black;'title=['.'] src='dataset_birds\\valid\\DEMOISELLE CRANE\\5.jpg'/></div>"
      ],
      "text/plain": [
       "<IPython.core.display.HTML object>"
      ]
     },
     "metadata": {},
     "output_type": "display_data"
    },
    {
     "name": "stdout",
     "output_type": "stream",
     "text": [
      "Drawing .\n"
     ]
    },
    {
     "data": {
      "text/html": [
       "<div class=\"zoom\"><img style='width: 100px; height: 100px; margin: 1px; float: left; border: 0px solid black;'title=['.'] src='dataset_birds\\valid\\DOUBLE BARRED FINCH\\1.jpg'/></div><div class=\"zoom\"><img style='width: 100px; height: 100px; margin: 1px; float: left; border: 0px solid black;'title=['.'] src='dataset_birds\\valid\\DOUBLE BARRED FINCH\\2.jpg'/></div><div class=\"zoom\"><img style='width: 100px; height: 100px; margin: 1px; float: left; border: 0px solid black;'title=['.'] src='dataset_birds\\valid\\DOUBLE BARRED FINCH\\3.jpg'/></div><div class=\"zoom\"><img style='width: 100px; height: 100px; margin: 1px; float: left; border: 0px solid black;'title=['.'] src='dataset_birds\\valid\\DOUBLE BARRED FINCH\\4.jpg'/></div><div class=\"zoom\"><img style='width: 100px; height: 100px; margin: 1px; float: left; border: 0px solid black;'title=['.'] src='dataset_birds\\valid\\DOUBLE BARRED FINCH\\5.jpg'/></div>"
      ],
      "text/plain": [
       "<IPython.core.display.HTML object>"
      ]
     },
     "metadata": {},
     "output_type": "display_data"
    },
    {
     "name": "stdout",
     "output_type": "stream",
     "text": [
      "Drawing .\n"
     ]
    },
    {
     "data": {
      "text/html": [
       "<div class=\"zoom\"><img style='width: 100px; height: 100px; margin: 1px; float: left; border: 0px solid black;'title=['.'] src='dataset_birds\\valid\\DOUBLE BRESTED CORMARANT\\1.jpg'/></div><div class=\"zoom\"><img style='width: 100px; height: 100px; margin: 1px; float: left; border: 0px solid black;'title=['.'] src='dataset_birds\\valid\\DOUBLE BRESTED CORMARANT\\2.jpg'/></div><div class=\"zoom\"><img style='width: 100px; height: 100px; margin: 1px; float: left; border: 0px solid black;'title=['.'] src='dataset_birds\\valid\\DOUBLE BRESTED CORMARANT\\3.jpg'/></div><div class=\"zoom\"><img style='width: 100px; height: 100px; margin: 1px; float: left; border: 0px solid black;'title=['.'] src='dataset_birds\\valid\\DOUBLE BRESTED CORMARANT\\4.jpg'/></div><div class=\"zoom\"><img style='width: 100px; height: 100px; margin: 1px; float: left; border: 0px solid black;'title=['.'] src='dataset_birds\\valid\\DOUBLE BRESTED CORMARANT\\5.jpg'/></div>"
      ],
      "text/plain": [
       "<IPython.core.display.HTML object>"
      ]
     },
     "metadata": {},
     "output_type": "display_data"
    },
    {
     "name": "stdout",
     "output_type": "stream",
     "text": [
      "Drawing .\n"
     ]
    },
    {
     "data": {
      "text/html": [
       "<div class=\"zoom\"><img style='width: 100px; height: 100px; margin: 1px; float: left; border: 0px solid black;'title=['.'] src='dataset_birds\\valid\\DOUBLE EYED FIG PARROT\\1.jpg'/></div><div class=\"zoom\"><img style='width: 100px; height: 100px; margin: 1px; float: left; border: 0px solid black;'title=['.'] src='dataset_birds\\valid\\DOUBLE EYED FIG PARROT\\2.jpg'/></div><div class=\"zoom\"><img style='width: 100px; height: 100px; margin: 1px; float: left; border: 0px solid black;'title=['.'] src='dataset_birds\\valid\\DOUBLE EYED FIG PARROT\\3.jpg'/></div><div class=\"zoom\"><img style='width: 100px; height: 100px; margin: 1px; float: left; border: 0px solid black;'title=['.'] src='dataset_birds\\valid\\DOUBLE EYED FIG PARROT\\4.jpg'/></div><div class=\"zoom\"><img style='width: 100px; height: 100px; margin: 1px; float: left; border: 0px solid black;'title=['.'] src='dataset_birds\\valid\\DOUBLE EYED FIG PARROT\\5.jpg'/></div>"
      ],
      "text/plain": [
       "<IPython.core.display.HTML object>"
      ]
     },
     "metadata": {},
     "output_type": "display_data"
    },
    {
     "name": "stdout",
     "output_type": "stream",
     "text": [
      "Drawing .\n"
     ]
    },
    {
     "data": {
      "text/html": [
       "<div class=\"zoom\"><img style='width: 100px; height: 100px; margin: 1px; float: left; border: 0px solid black;'title=['.'] src='dataset_birds\\valid\\DOWNY WOODPECKER\\1.jpg'/></div><div class=\"zoom\"><img style='width: 100px; height: 100px; margin: 1px; float: left; border: 0px solid black;'title=['.'] src='dataset_birds\\valid\\DOWNY WOODPECKER\\2.jpg'/></div><div class=\"zoom\"><img style='width: 100px; height: 100px; margin: 1px; float: left; border: 0px solid black;'title=['.'] src='dataset_birds\\valid\\DOWNY WOODPECKER\\3.jpg'/></div><div class=\"zoom\"><img style='width: 100px; height: 100px; margin: 1px; float: left; border: 0px solid black;'title=['.'] src='dataset_birds\\valid\\DOWNY WOODPECKER\\4.jpg'/></div><div class=\"zoom\"><img style='width: 100px; height: 100px; margin: 1px; float: left; border: 0px solid black;'title=['.'] src='dataset_birds\\valid\\DOWNY WOODPECKER\\5.jpg'/></div>"
      ],
      "text/plain": [
       "<IPython.core.display.HTML object>"
      ]
     },
     "metadata": {},
     "output_type": "display_data"
    },
    {
     "name": "stdout",
     "output_type": "stream",
     "text": [
      "Drawing .\n"
     ]
    },
    {
     "data": {
      "text/html": [
       "<div class=\"zoom\"><img style='width: 100px; height: 100px; margin: 1px; float: left; border: 0px solid black;'title=['.'] src='dataset_birds\\valid\\DUNLIN\\1.jpg'/></div><div class=\"zoom\"><img style='width: 100px; height: 100px; margin: 1px; float: left; border: 0px solid black;'title=['.'] src='dataset_birds\\valid\\DUNLIN\\2.jpg'/></div><div class=\"zoom\"><img style='width: 100px; height: 100px; margin: 1px; float: left; border: 0px solid black;'title=['.'] src='dataset_birds\\valid\\DUNLIN\\3.jpg'/></div><div class=\"zoom\"><img style='width: 100px; height: 100px; margin: 1px; float: left; border: 0px solid black;'title=['.'] src='dataset_birds\\valid\\DUNLIN\\4.jpg'/></div><div class=\"zoom\"><img style='width: 100px; height: 100px; margin: 1px; float: left; border: 0px solid black;'title=['.'] src='dataset_birds\\valid\\DUNLIN\\5.jpg'/></div>"
      ],
      "text/plain": [
       "<IPython.core.display.HTML object>"
      ]
     },
     "metadata": {},
     "output_type": "display_data"
    },
    {
     "name": "stdout",
     "output_type": "stream",
     "text": [
      "Drawing .\n"
     ]
    },
    {
     "data": {
      "text/html": [
       "<div class=\"zoom\"><img style='width: 100px; height: 100px; margin: 1px; float: left; border: 0px solid black;'title=['.'] src='dataset_birds\\valid\\DUSKY LORY\\1.jpg'/></div><div class=\"zoom\"><img style='width: 100px; height: 100px; margin: 1px; float: left; border: 0px solid black;'title=['.'] src='dataset_birds\\valid\\DUSKY LORY\\2.jpg'/></div><div class=\"zoom\"><img style='width: 100px; height: 100px; margin: 1px; float: left; border: 0px solid black;'title=['.'] src='dataset_birds\\valid\\DUSKY LORY\\3.jpg'/></div><div class=\"zoom\"><img style='width: 100px; height: 100px; margin: 1px; float: left; border: 0px solid black;'title=['.'] src='dataset_birds\\valid\\DUSKY LORY\\4.jpg'/></div><div class=\"zoom\"><img style='width: 100px; height: 100px; margin: 1px; float: left; border: 0px solid black;'title=['.'] src='dataset_birds\\valid\\DUSKY LORY\\5.jpg'/></div>"
      ],
      "text/plain": [
       "<IPython.core.display.HTML object>"
      ]
     },
     "metadata": {},
     "output_type": "display_data"
    },
    {
     "name": "stdout",
     "output_type": "stream",
     "text": [
      "Drawing .\n"
     ]
    },
    {
     "data": {
      "text/html": [
       "<div class=\"zoom\"><img style='width: 100px; height: 100px; margin: 1px; float: left; border: 0px solid black;'title=['.'] src='dataset_birds\\valid\\DUSKY ROBIN\\1.jpg'/></div><div class=\"zoom\"><img style='width: 100px; height: 100px; margin: 1px; float: left; border: 0px solid black;'title=['.'] src='dataset_birds\\valid\\DUSKY ROBIN\\2.jpg'/></div><div class=\"zoom\"><img style='width: 100px; height: 100px; margin: 1px; float: left; border: 0px solid black;'title=['.'] src='dataset_birds\\valid\\DUSKY ROBIN\\3.jpg'/></div><div class=\"zoom\"><img style='width: 100px; height: 100px; margin: 1px; float: left; border: 0px solid black;'title=['.'] src='dataset_birds\\valid\\DUSKY ROBIN\\4.jpg'/></div><div class=\"zoom\"><img style='width: 100px; height: 100px; margin: 1px; float: left; border: 0px solid black;'title=['.'] src='dataset_birds\\valid\\DUSKY ROBIN\\5.jpg'/></div>"
      ],
      "text/plain": [
       "<IPython.core.display.HTML object>"
      ]
     },
     "metadata": {},
     "output_type": "display_data"
    },
    {
     "name": "stdout",
     "output_type": "stream",
     "text": [
      "Drawing .\n"
     ]
    },
    {
     "data": {
      "text/html": [
       "<div class=\"zoom\"><img style='width: 100px; height: 100px; margin: 1px; float: left; border: 0px solid black;'title=['.'] src='dataset_birds\\valid\\EARED PITA\\1.jpg'/></div><div class=\"zoom\"><img style='width: 100px; height: 100px; margin: 1px; float: left; border: 0px solid black;'title=['.'] src='dataset_birds\\valid\\EARED PITA\\2.jpg'/></div><div class=\"zoom\"><img style='width: 100px; height: 100px; margin: 1px; float: left; border: 0px solid black;'title=['.'] src='dataset_birds\\valid\\EARED PITA\\3.jpg'/></div><div class=\"zoom\"><img style='width: 100px; height: 100px; margin: 1px; float: left; border: 0px solid black;'title=['.'] src='dataset_birds\\valid\\EARED PITA\\4.jpg'/></div><div class=\"zoom\"><img style='width: 100px; height: 100px; margin: 1px; float: left; border: 0px solid black;'title=['.'] src='dataset_birds\\valid\\EARED PITA\\5.jpg'/></div>"
      ],
      "text/plain": [
       "<IPython.core.display.HTML object>"
      ]
     },
     "metadata": {},
     "output_type": "display_data"
    },
    {
     "name": "stdout",
     "output_type": "stream",
     "text": [
      "Drawing .\n"
     ]
    },
    {
     "data": {
      "text/html": [
       "<div class=\"zoom\"><img style='width: 100px; height: 100px; margin: 1px; float: left; border: 0px solid black;'title=['.'] src='dataset_birds\\valid\\EASTERN BLUEBIRD\\1.jpg'/></div><div class=\"zoom\"><img style='width: 100px; height: 100px; margin: 1px; float: left; border: 0px solid black;'title=['.'] src='dataset_birds\\valid\\EASTERN BLUEBIRD\\2.jpg'/></div><div class=\"zoom\"><img style='width: 100px; height: 100px; margin: 1px; float: left; border: 0px solid black;'title=['.'] src='dataset_birds\\valid\\EASTERN BLUEBIRD\\3.jpg'/></div><div class=\"zoom\"><img style='width: 100px; height: 100px; margin: 1px; float: left; border: 0px solid black;'title=['.'] src='dataset_birds\\valid\\EASTERN BLUEBIRD\\4.jpg'/></div><div class=\"zoom\"><img style='width: 100px; height: 100px; margin: 1px; float: left; border: 0px solid black;'title=['.'] src='dataset_birds\\valid\\EASTERN BLUEBIRD\\5.jpg'/></div>"
      ],
      "text/plain": [
       "<IPython.core.display.HTML object>"
      ]
     },
     "metadata": {},
     "output_type": "display_data"
    },
    {
     "name": "stdout",
     "output_type": "stream",
     "text": [
      "Drawing .\n"
     ]
    },
    {
     "data": {
      "text/html": [
       "<div class=\"zoom\"><img style='width: 100px; height: 100px; margin: 1px; float: left; border: 0px solid black;'title=['.'] src='dataset_birds\\valid\\EASTERN BLUEBONNET\\1.jpg'/></div><div class=\"zoom\"><img style='width: 100px; height: 100px; margin: 1px; float: left; border: 0px solid black;'title=['.'] src='dataset_birds\\valid\\EASTERN BLUEBONNET\\2.jpg'/></div><div class=\"zoom\"><img style='width: 100px; height: 100px; margin: 1px; float: left; border: 0px solid black;'title=['.'] src='dataset_birds\\valid\\EASTERN BLUEBONNET\\3.jpg'/></div><div class=\"zoom\"><img style='width: 100px; height: 100px; margin: 1px; float: left; border: 0px solid black;'title=['.'] src='dataset_birds\\valid\\EASTERN BLUEBONNET\\4.jpg'/></div><div class=\"zoom\"><img style='width: 100px; height: 100px; margin: 1px; float: left; border: 0px solid black;'title=['.'] src='dataset_birds\\valid\\EASTERN BLUEBONNET\\5.jpg'/></div>"
      ],
      "text/plain": [
       "<IPython.core.display.HTML object>"
      ]
     },
     "metadata": {},
     "output_type": "display_data"
    },
    {
     "name": "stdout",
     "output_type": "stream",
     "text": [
      "Drawing .\n"
     ]
    },
    {
     "data": {
      "text/html": [
       "<div class=\"zoom\"><img style='width: 100px; height: 100px; margin: 1px; float: left; border: 0px solid black;'title=['.'] src='dataset_birds\\valid\\EASTERN GOLDEN WEAVER\\1.jpg'/></div><div class=\"zoom\"><img style='width: 100px; height: 100px; margin: 1px; float: left; border: 0px solid black;'title=['.'] src='dataset_birds\\valid\\EASTERN GOLDEN WEAVER\\2.jpg'/></div><div class=\"zoom\"><img style='width: 100px; height: 100px; margin: 1px; float: left; border: 0px solid black;'title=['.'] src='dataset_birds\\valid\\EASTERN GOLDEN WEAVER\\3.jpg'/></div><div class=\"zoom\"><img style='width: 100px; height: 100px; margin: 1px; float: left; border: 0px solid black;'title=['.'] src='dataset_birds\\valid\\EASTERN GOLDEN WEAVER\\4.jpg'/></div><div class=\"zoom\"><img style='width: 100px; height: 100px; margin: 1px; float: left; border: 0px solid black;'title=['.'] src='dataset_birds\\valid\\EASTERN GOLDEN WEAVER\\5.jpg'/></div>"
      ],
      "text/plain": [
       "<IPython.core.display.HTML object>"
      ]
     },
     "metadata": {},
     "output_type": "display_data"
    },
    {
     "name": "stdout",
     "output_type": "stream",
     "text": [
      "Drawing .\n"
     ]
    },
    {
     "data": {
      "text/html": [
       "<div class=\"zoom\"><img style='width: 100px; height: 100px; margin: 1px; float: left; border: 0px solid black;'title=['.'] src='dataset_birds\\valid\\EASTERN MEADOWLARK\\1.jpg'/></div><div class=\"zoom\"><img style='width: 100px; height: 100px; margin: 1px; float: left; border: 0px solid black;'title=['.'] src='dataset_birds\\valid\\EASTERN MEADOWLARK\\2.jpg'/></div><div class=\"zoom\"><img style='width: 100px; height: 100px; margin: 1px; float: left; border: 0px solid black;'title=['.'] src='dataset_birds\\valid\\EASTERN MEADOWLARK\\3.jpg'/></div><div class=\"zoom\"><img style='width: 100px; height: 100px; margin: 1px; float: left; border: 0px solid black;'title=['.'] src='dataset_birds\\valid\\EASTERN MEADOWLARK\\4.jpg'/></div><div class=\"zoom\"><img style='width: 100px; height: 100px; margin: 1px; float: left; border: 0px solid black;'title=['.'] src='dataset_birds\\valid\\EASTERN MEADOWLARK\\5.jpg'/></div>"
      ],
      "text/plain": [
       "<IPython.core.display.HTML object>"
      ]
     },
     "metadata": {},
     "output_type": "display_data"
    },
    {
     "name": "stdout",
     "output_type": "stream",
     "text": [
      "Drawing .\n"
     ]
    },
    {
     "data": {
      "text/html": [
       "<div class=\"zoom\"><img style='width: 100px; height: 100px; margin: 1px; float: left; border: 0px solid black;'title=['.'] src='dataset_birds\\valid\\EASTERN ROSELLA\\1.jpg'/></div><div class=\"zoom\"><img style='width: 100px; height: 100px; margin: 1px; float: left; border: 0px solid black;'title=['.'] src='dataset_birds\\valid\\EASTERN ROSELLA\\2.jpg'/></div><div class=\"zoom\"><img style='width: 100px; height: 100px; margin: 1px; float: left; border: 0px solid black;'title=['.'] src='dataset_birds\\valid\\EASTERN ROSELLA\\3.jpg'/></div><div class=\"zoom\"><img style='width: 100px; height: 100px; margin: 1px; float: left; border: 0px solid black;'title=['.'] src='dataset_birds\\valid\\EASTERN ROSELLA\\4.jpg'/></div><div class=\"zoom\"><img style='width: 100px; height: 100px; margin: 1px; float: left; border: 0px solid black;'title=['.'] src='dataset_birds\\valid\\EASTERN ROSELLA\\5.jpg'/></div>"
      ],
      "text/plain": [
       "<IPython.core.display.HTML object>"
      ]
     },
     "metadata": {},
     "output_type": "display_data"
    },
    {
     "name": "stdout",
     "output_type": "stream",
     "text": [
      "Drawing .\n"
     ]
    },
    {
     "data": {
      "text/html": [
       "<div class=\"zoom\"><img style='width: 100px; height: 100px; margin: 1px; float: left; border: 0px solid black;'title=['.'] src='dataset_birds\\valid\\EASTERN TOWEE\\1.jpg'/></div><div class=\"zoom\"><img style='width: 100px; height: 100px; margin: 1px; float: left; border: 0px solid black;'title=['.'] src='dataset_birds\\valid\\EASTERN TOWEE\\2.jpg'/></div><div class=\"zoom\"><img style='width: 100px; height: 100px; margin: 1px; float: left; border: 0px solid black;'title=['.'] src='dataset_birds\\valid\\EASTERN TOWEE\\3.jpg'/></div><div class=\"zoom\"><img style='width: 100px; height: 100px; margin: 1px; float: left; border: 0px solid black;'title=['.'] src='dataset_birds\\valid\\EASTERN TOWEE\\4.jpg'/></div><div class=\"zoom\"><img style='width: 100px; height: 100px; margin: 1px; float: left; border: 0px solid black;'title=['.'] src='dataset_birds\\valid\\EASTERN TOWEE\\5.jpg'/></div>"
      ],
      "text/plain": [
       "<IPython.core.display.HTML object>"
      ]
     },
     "metadata": {},
     "output_type": "display_data"
    },
    {
     "name": "stdout",
     "output_type": "stream",
     "text": [
      "Drawing .\n"
     ]
    },
    {
     "data": {
      "text/html": [
       "<div class=\"zoom\"><img style='width: 100px; height: 100px; margin: 1px; float: left; border: 0px solid black;'title=['.'] src='dataset_birds\\valid\\EASTERN WIP POOR WILL\\1.jpg'/></div><div class=\"zoom\"><img style='width: 100px; height: 100px; margin: 1px; float: left; border: 0px solid black;'title=['.'] src='dataset_birds\\valid\\EASTERN WIP POOR WILL\\2.jpg'/></div><div class=\"zoom\"><img style='width: 100px; height: 100px; margin: 1px; float: left; border: 0px solid black;'title=['.'] src='dataset_birds\\valid\\EASTERN WIP POOR WILL\\3.jpg'/></div><div class=\"zoom\"><img style='width: 100px; height: 100px; margin: 1px; float: left; border: 0px solid black;'title=['.'] src='dataset_birds\\valid\\EASTERN WIP POOR WILL\\4.jpg'/></div><div class=\"zoom\"><img style='width: 100px; height: 100px; margin: 1px; float: left; border: 0px solid black;'title=['.'] src='dataset_birds\\valid\\EASTERN WIP POOR WILL\\5.jpg'/></div>"
      ],
      "text/plain": [
       "<IPython.core.display.HTML object>"
      ]
     },
     "metadata": {},
     "output_type": "display_data"
    },
    {
     "name": "stdout",
     "output_type": "stream",
     "text": [
      "Drawing .\n"
     ]
    },
    {
     "data": {
      "text/html": [
       "<div class=\"zoom\"><img style='width: 100px; height: 100px; margin: 1px; float: left; border: 0px solid black;'title=['.'] src='dataset_birds\\valid\\EASTERN YELLOW ROBIN\\1.jpg'/></div><div class=\"zoom\"><img style='width: 100px; height: 100px; margin: 1px; float: left; border: 0px solid black;'title=['.'] src='dataset_birds\\valid\\EASTERN YELLOW ROBIN\\2.jpg'/></div><div class=\"zoom\"><img style='width: 100px; height: 100px; margin: 1px; float: left; border: 0px solid black;'title=['.'] src='dataset_birds\\valid\\EASTERN YELLOW ROBIN\\3.jpg'/></div><div class=\"zoom\"><img style='width: 100px; height: 100px; margin: 1px; float: left; border: 0px solid black;'title=['.'] src='dataset_birds\\valid\\EASTERN YELLOW ROBIN\\4.jpg'/></div><div class=\"zoom\"><img style='width: 100px; height: 100px; margin: 1px; float: left; border: 0px solid black;'title=['.'] src='dataset_birds\\valid\\EASTERN YELLOW ROBIN\\5.jpg'/></div>"
      ],
      "text/plain": [
       "<IPython.core.display.HTML object>"
      ]
     },
     "metadata": {},
     "output_type": "display_data"
    },
    {
     "name": "stdout",
     "output_type": "stream",
     "text": [
      "Drawing .\n"
     ]
    },
    {
     "data": {
      "text/html": [
       "<div class=\"zoom\"><img style='width: 100px; height: 100px; margin: 1px; float: left; border: 0px solid black;'title=['.'] src='dataset_birds\\valid\\ECUADORIAN HILLSTAR\\1.jpg'/></div><div class=\"zoom\"><img style='width: 100px; height: 100px; margin: 1px; float: left; border: 0px solid black;'title=['.'] src='dataset_birds\\valid\\ECUADORIAN HILLSTAR\\2.jpg'/></div><div class=\"zoom\"><img style='width: 100px; height: 100px; margin: 1px; float: left; border: 0px solid black;'title=['.'] src='dataset_birds\\valid\\ECUADORIAN HILLSTAR\\3.jpg'/></div><div class=\"zoom\"><img style='width: 100px; height: 100px; margin: 1px; float: left; border: 0px solid black;'title=['.'] src='dataset_birds\\valid\\ECUADORIAN HILLSTAR\\4.jpg'/></div><div class=\"zoom\"><img style='width: 100px; height: 100px; margin: 1px; float: left; border: 0px solid black;'title=['.'] src='dataset_birds\\valid\\ECUADORIAN HILLSTAR\\5.jpg'/></div>"
      ],
      "text/plain": [
       "<IPython.core.display.HTML object>"
      ]
     },
     "metadata": {},
     "output_type": "display_data"
    },
    {
     "name": "stdout",
     "output_type": "stream",
     "text": [
      "Drawing .\n"
     ]
    },
    {
     "data": {
      "text/html": [
       "<div class=\"zoom\"><img style='width: 100px; height: 100px; margin: 1px; float: left; border: 0px solid black;'title=['.'] src='dataset_birds\\valid\\EGYPTIAN GOOSE\\1.jpg'/></div><div class=\"zoom\"><img style='width: 100px; height: 100px; margin: 1px; float: left; border: 0px solid black;'title=['.'] src='dataset_birds\\valid\\EGYPTIAN GOOSE\\2.jpg'/></div><div class=\"zoom\"><img style='width: 100px; height: 100px; margin: 1px; float: left; border: 0px solid black;'title=['.'] src='dataset_birds\\valid\\EGYPTIAN GOOSE\\3.jpg'/></div><div class=\"zoom\"><img style='width: 100px; height: 100px; margin: 1px; float: left; border: 0px solid black;'title=['.'] src='dataset_birds\\valid\\EGYPTIAN GOOSE\\4.jpg'/></div><div class=\"zoom\"><img style='width: 100px; height: 100px; margin: 1px; float: left; border: 0px solid black;'title=['.'] src='dataset_birds\\valid\\EGYPTIAN GOOSE\\5.jpg'/></div>"
      ],
      "text/plain": [
       "<IPython.core.display.HTML object>"
      ]
     },
     "metadata": {},
     "output_type": "display_data"
    },
    {
     "name": "stdout",
     "output_type": "stream",
     "text": [
      "Drawing .\n"
     ]
    },
    {
     "data": {
      "text/html": [
       "<div class=\"zoom\"><img style='width: 100px; height: 100px; margin: 1px; float: left; border: 0px solid black;'title=['.'] src='dataset_birds\\valid\\ELEGANT TROGON\\1.jpg'/></div><div class=\"zoom\"><img style='width: 100px; height: 100px; margin: 1px; float: left; border: 0px solid black;'title=['.'] src='dataset_birds\\valid\\ELEGANT TROGON\\2.jpg'/></div><div class=\"zoom\"><img style='width: 100px; height: 100px; margin: 1px; float: left; border: 0px solid black;'title=['.'] src='dataset_birds\\valid\\ELEGANT TROGON\\3.jpg'/></div><div class=\"zoom\"><img style='width: 100px; height: 100px; margin: 1px; float: left; border: 0px solid black;'title=['.'] src='dataset_birds\\valid\\ELEGANT TROGON\\4.jpg'/></div><div class=\"zoom\"><img style='width: 100px; height: 100px; margin: 1px; float: left; border: 0px solid black;'title=['.'] src='dataset_birds\\valid\\ELEGANT TROGON\\5.jpg'/></div>"
      ],
      "text/plain": [
       "<IPython.core.display.HTML object>"
      ]
     },
     "metadata": {},
     "output_type": "display_data"
    },
    {
     "name": "stdout",
     "output_type": "stream",
     "text": [
      "Drawing .\n"
     ]
    },
    {
     "data": {
      "text/html": [
       "<div class=\"zoom\"><img style='width: 100px; height: 100px; margin: 1px; float: left; border: 0px solid black;'title=['.'] src='dataset_birds\\valid\\ELLIOTS  PHEASANT\\1.jpg'/></div><div class=\"zoom\"><img style='width: 100px; height: 100px; margin: 1px; float: left; border: 0px solid black;'title=['.'] src='dataset_birds\\valid\\ELLIOTS  PHEASANT\\2.jpg'/></div><div class=\"zoom\"><img style='width: 100px; height: 100px; margin: 1px; float: left; border: 0px solid black;'title=['.'] src='dataset_birds\\valid\\ELLIOTS  PHEASANT\\3.jpg'/></div><div class=\"zoom\"><img style='width: 100px; height: 100px; margin: 1px; float: left; border: 0px solid black;'title=['.'] src='dataset_birds\\valid\\ELLIOTS  PHEASANT\\4.jpg'/></div><div class=\"zoom\"><img style='width: 100px; height: 100px; margin: 1px; float: left; border: 0px solid black;'title=['.'] src='dataset_birds\\valid\\ELLIOTS  PHEASANT\\5.jpg'/></div>"
      ],
      "text/plain": [
       "<IPython.core.display.HTML object>"
      ]
     },
     "metadata": {},
     "output_type": "display_data"
    },
    {
     "name": "stdout",
     "output_type": "stream",
     "text": [
      "Drawing .\n"
     ]
    },
    {
     "data": {
      "text/html": [
       "<div class=\"zoom\"><img style='width: 100px; height: 100px; margin: 1px; float: left; border: 0px solid black;'title=['.'] src='dataset_birds\\valid\\EMERALD TANAGER\\1.jpg'/></div><div class=\"zoom\"><img style='width: 100px; height: 100px; margin: 1px; float: left; border: 0px solid black;'title=['.'] src='dataset_birds\\valid\\EMERALD TANAGER\\2.jpg'/></div><div class=\"zoom\"><img style='width: 100px; height: 100px; margin: 1px; float: left; border: 0px solid black;'title=['.'] src='dataset_birds\\valid\\EMERALD TANAGER\\3.jpg'/></div><div class=\"zoom\"><img style='width: 100px; height: 100px; margin: 1px; float: left; border: 0px solid black;'title=['.'] src='dataset_birds\\valid\\EMERALD TANAGER\\4.jpg'/></div><div class=\"zoom\"><img style='width: 100px; height: 100px; margin: 1px; float: left; border: 0px solid black;'title=['.'] src='dataset_birds\\valid\\EMERALD TANAGER\\5.jpg'/></div>"
      ],
      "text/plain": [
       "<IPython.core.display.HTML object>"
      ]
     },
     "metadata": {},
     "output_type": "display_data"
    },
    {
     "name": "stdout",
     "output_type": "stream",
     "text": [
      "Drawing .\n"
     ]
    },
    {
     "data": {
      "text/html": [
       "<div class=\"zoom\"><img style='width: 100px; height: 100px; margin: 1px; float: left; border: 0px solid black;'title=['.'] src='dataset_birds\\valid\\EMPEROR PENGUIN\\1.jpg'/></div><div class=\"zoom\"><img style='width: 100px; height: 100px; margin: 1px; float: left; border: 0px solid black;'title=['.'] src='dataset_birds\\valid\\EMPEROR PENGUIN\\2.jpg'/></div><div class=\"zoom\"><img style='width: 100px; height: 100px; margin: 1px; float: left; border: 0px solid black;'title=['.'] src='dataset_birds\\valid\\EMPEROR PENGUIN\\3.jpg'/></div><div class=\"zoom\"><img style='width: 100px; height: 100px; margin: 1px; float: left; border: 0px solid black;'title=['.'] src='dataset_birds\\valid\\EMPEROR PENGUIN\\4.jpg'/></div><div class=\"zoom\"><img style='width: 100px; height: 100px; margin: 1px; float: left; border: 0px solid black;'title=['.'] src='dataset_birds\\valid\\EMPEROR PENGUIN\\5.jpg'/></div>"
      ],
      "text/plain": [
       "<IPython.core.display.HTML object>"
      ]
     },
     "metadata": {},
     "output_type": "display_data"
    },
    {
     "name": "stdout",
     "output_type": "stream",
     "text": [
      "Drawing .\n"
     ]
    },
    {
     "data": {
      "text/html": [
       "<div class=\"zoom\"><img style='width: 100px; height: 100px; margin: 1px; float: left; border: 0px solid black;'title=['.'] src='dataset_birds\\valid\\EMU\\1.jpg'/></div><div class=\"zoom\"><img style='width: 100px; height: 100px; margin: 1px; float: left; border: 0px solid black;'title=['.'] src='dataset_birds\\valid\\EMU\\2.jpg'/></div><div class=\"zoom\"><img style='width: 100px; height: 100px; margin: 1px; float: left; border: 0px solid black;'title=['.'] src='dataset_birds\\valid\\EMU\\3.jpg'/></div><div class=\"zoom\"><img style='width: 100px; height: 100px; margin: 1px; float: left; border: 0px solid black;'title=['.'] src='dataset_birds\\valid\\EMU\\4.jpg'/></div><div class=\"zoom\"><img style='width: 100px; height: 100px; margin: 1px; float: left; border: 0px solid black;'title=['.'] src='dataset_birds\\valid\\EMU\\5.jpg'/></div>"
      ],
      "text/plain": [
       "<IPython.core.display.HTML object>"
      ]
     },
     "metadata": {},
     "output_type": "display_data"
    },
    {
     "name": "stdout",
     "output_type": "stream",
     "text": [
      "Drawing .\n"
     ]
    },
    {
     "data": {
      "text/html": [
       "<div class=\"zoom\"><img style='width: 100px; height: 100px; margin: 1px; float: left; border: 0px solid black;'title=['.'] src='dataset_birds\\valid\\ENGGANO MYNA\\1.jpg'/></div><div class=\"zoom\"><img style='width: 100px; height: 100px; margin: 1px; float: left; border: 0px solid black;'title=['.'] src='dataset_birds\\valid\\ENGGANO MYNA\\2.jpg'/></div><div class=\"zoom\"><img style='width: 100px; height: 100px; margin: 1px; float: left; border: 0px solid black;'title=['.'] src='dataset_birds\\valid\\ENGGANO MYNA\\3.jpg'/></div><div class=\"zoom\"><img style='width: 100px; height: 100px; margin: 1px; float: left; border: 0px solid black;'title=['.'] src='dataset_birds\\valid\\ENGGANO MYNA\\4.jpg'/></div><div class=\"zoom\"><img style='width: 100px; height: 100px; margin: 1px; float: left; border: 0px solid black;'title=['.'] src='dataset_birds\\valid\\ENGGANO MYNA\\5.jpg'/></div>"
      ],
      "text/plain": [
       "<IPython.core.display.HTML object>"
      ]
     },
     "metadata": {},
     "output_type": "display_data"
    },
    {
     "name": "stdout",
     "output_type": "stream",
     "text": [
      "Drawing .\n"
     ]
    },
    {
     "data": {
      "text/html": [
       "<div class=\"zoom\"><img style='width: 100px; height: 100px; margin: 1px; float: left; border: 0px solid black;'title=['.'] src='dataset_birds\\valid\\EURASIAN BULLFINCH\\1.jpg'/></div><div class=\"zoom\"><img style='width: 100px; height: 100px; margin: 1px; float: left; border: 0px solid black;'title=['.'] src='dataset_birds\\valid\\EURASIAN BULLFINCH\\2.jpg'/></div><div class=\"zoom\"><img style='width: 100px; height: 100px; margin: 1px; float: left; border: 0px solid black;'title=['.'] src='dataset_birds\\valid\\EURASIAN BULLFINCH\\3.jpg'/></div><div class=\"zoom\"><img style='width: 100px; height: 100px; margin: 1px; float: left; border: 0px solid black;'title=['.'] src='dataset_birds\\valid\\EURASIAN BULLFINCH\\4.jpg'/></div><div class=\"zoom\"><img style='width: 100px; height: 100px; margin: 1px; float: left; border: 0px solid black;'title=['.'] src='dataset_birds\\valid\\EURASIAN BULLFINCH\\5.jpg'/></div>"
      ],
      "text/plain": [
       "<IPython.core.display.HTML object>"
      ]
     },
     "metadata": {},
     "output_type": "display_data"
    },
    {
     "name": "stdout",
     "output_type": "stream",
     "text": [
      "Drawing .\n"
     ]
    },
    {
     "data": {
      "text/html": [
       "<div class=\"zoom\"><img style='width: 100px; height: 100px; margin: 1px; float: left; border: 0px solid black;'title=['.'] src='dataset_birds\\valid\\EURASIAN GOLDEN ORIOLE\\1.jpg'/></div><div class=\"zoom\"><img style='width: 100px; height: 100px; margin: 1px; float: left; border: 0px solid black;'title=['.'] src='dataset_birds\\valid\\EURASIAN GOLDEN ORIOLE\\2.jpg'/></div><div class=\"zoom\"><img style='width: 100px; height: 100px; margin: 1px; float: left; border: 0px solid black;'title=['.'] src='dataset_birds\\valid\\EURASIAN GOLDEN ORIOLE\\3.jpg'/></div><div class=\"zoom\"><img style='width: 100px; height: 100px; margin: 1px; float: left; border: 0px solid black;'title=['.'] src='dataset_birds\\valid\\EURASIAN GOLDEN ORIOLE\\4.jpg'/></div><div class=\"zoom\"><img style='width: 100px; height: 100px; margin: 1px; float: left; border: 0px solid black;'title=['.'] src='dataset_birds\\valid\\EURASIAN GOLDEN ORIOLE\\5.jpg'/></div>"
      ],
      "text/plain": [
       "<IPython.core.display.HTML object>"
      ]
     },
     "metadata": {},
     "output_type": "display_data"
    },
    {
     "name": "stdout",
     "output_type": "stream",
     "text": [
      "Drawing .\n"
     ]
    },
    {
     "data": {
      "text/html": [
       "<div class=\"zoom\"><img style='width: 100px; height: 100px; margin: 1px; float: left; border: 0px solid black;'title=['.'] src='dataset_birds\\valid\\EURASIAN MAGPIE\\1.jpg'/></div><div class=\"zoom\"><img style='width: 100px; height: 100px; margin: 1px; float: left; border: 0px solid black;'title=['.'] src='dataset_birds\\valid\\EURASIAN MAGPIE\\2.jpg'/></div><div class=\"zoom\"><img style='width: 100px; height: 100px; margin: 1px; float: left; border: 0px solid black;'title=['.'] src='dataset_birds\\valid\\EURASIAN MAGPIE\\3.jpg'/></div><div class=\"zoom\"><img style='width: 100px; height: 100px; margin: 1px; float: left; border: 0px solid black;'title=['.'] src='dataset_birds\\valid\\EURASIAN MAGPIE\\4.jpg'/></div><div class=\"zoom\"><img style='width: 100px; height: 100px; margin: 1px; float: left; border: 0px solid black;'title=['.'] src='dataset_birds\\valid\\EURASIAN MAGPIE\\5.jpg'/></div>"
      ],
      "text/plain": [
       "<IPython.core.display.HTML object>"
      ]
     },
     "metadata": {},
     "output_type": "display_data"
    },
    {
     "name": "stdout",
     "output_type": "stream",
     "text": [
      "Drawing .\n"
     ]
    },
    {
     "data": {
      "text/html": [
       "<div class=\"zoom\"><img style='width: 100px; height: 100px; margin: 1px; float: left; border: 0px solid black;'title=['.'] src='dataset_birds\\valid\\EUROPEAN GOLDFINCH\\1.jpg'/></div><div class=\"zoom\"><img style='width: 100px; height: 100px; margin: 1px; float: left; border: 0px solid black;'title=['.'] src='dataset_birds\\valid\\EUROPEAN GOLDFINCH\\2.jpg'/></div><div class=\"zoom\"><img style='width: 100px; height: 100px; margin: 1px; float: left; border: 0px solid black;'title=['.'] src='dataset_birds\\valid\\EUROPEAN GOLDFINCH\\3.jpg'/></div><div class=\"zoom\"><img style='width: 100px; height: 100px; margin: 1px; float: left; border: 0px solid black;'title=['.'] src='dataset_birds\\valid\\EUROPEAN GOLDFINCH\\4.jpg'/></div><div class=\"zoom\"><img style='width: 100px; height: 100px; margin: 1px; float: left; border: 0px solid black;'title=['.'] src='dataset_birds\\valid\\EUROPEAN GOLDFINCH\\5.jpg'/></div>"
      ],
      "text/plain": [
       "<IPython.core.display.HTML object>"
      ]
     },
     "metadata": {},
     "output_type": "display_data"
    },
    {
     "name": "stdout",
     "output_type": "stream",
     "text": [
      "Drawing .\n"
     ]
    },
    {
     "data": {
      "text/html": [
       "<div class=\"zoom\"><img style='width: 100px; height: 100px; margin: 1px; float: left; border: 0px solid black;'title=['.'] src='dataset_birds\\valid\\EUROPEAN TURTLE DOVE\\1.jpg'/></div><div class=\"zoom\"><img style='width: 100px; height: 100px; margin: 1px; float: left; border: 0px solid black;'title=['.'] src='dataset_birds\\valid\\EUROPEAN TURTLE DOVE\\2.jpg'/></div><div class=\"zoom\"><img style='width: 100px; height: 100px; margin: 1px; float: left; border: 0px solid black;'title=['.'] src='dataset_birds\\valid\\EUROPEAN TURTLE DOVE\\3.jpg'/></div><div class=\"zoom\"><img style='width: 100px; height: 100px; margin: 1px; float: left; border: 0px solid black;'title=['.'] src='dataset_birds\\valid\\EUROPEAN TURTLE DOVE\\4.jpg'/></div><div class=\"zoom\"><img style='width: 100px; height: 100px; margin: 1px; float: left; border: 0px solid black;'title=['.'] src='dataset_birds\\valid\\EUROPEAN TURTLE DOVE\\5.jpg'/></div>"
      ],
      "text/plain": [
       "<IPython.core.display.HTML object>"
      ]
     },
     "metadata": {},
     "output_type": "display_data"
    },
    {
     "name": "stdout",
     "output_type": "stream",
     "text": [
      "Drawing .\n"
     ]
    },
    {
     "data": {
      "text/html": [
       "<div class=\"zoom\"><img style='width: 100px; height: 100px; margin: 1px; float: left; border: 0px solid black;'title=['.'] src='dataset_birds\\valid\\EVENING GROSBEAK\\1.jpg'/></div><div class=\"zoom\"><img style='width: 100px; height: 100px; margin: 1px; float: left; border: 0px solid black;'title=['.'] src='dataset_birds\\valid\\EVENING GROSBEAK\\2.jpg'/></div><div class=\"zoom\"><img style='width: 100px; height: 100px; margin: 1px; float: left; border: 0px solid black;'title=['.'] src='dataset_birds\\valid\\EVENING GROSBEAK\\3.jpg'/></div><div class=\"zoom\"><img style='width: 100px; height: 100px; margin: 1px; float: left; border: 0px solid black;'title=['.'] src='dataset_birds\\valid\\EVENING GROSBEAK\\4.jpg'/></div><div class=\"zoom\"><img style='width: 100px; height: 100px; margin: 1px; float: left; border: 0px solid black;'title=['.'] src='dataset_birds\\valid\\EVENING GROSBEAK\\5.jpg'/></div>"
      ],
      "text/plain": [
       "<IPython.core.display.HTML object>"
      ]
     },
     "metadata": {},
     "output_type": "display_data"
    },
    {
     "name": "stdout",
     "output_type": "stream",
     "text": [
      "Drawing .\n"
     ]
    },
    {
     "data": {
      "text/html": [
       "<div class=\"zoom\"><img style='width: 100px; height: 100px; margin: 1px; float: left; border: 0px solid black;'title=['.'] src='dataset_birds\\valid\\FAIRY BLUEBIRD\\1.jpg'/></div><div class=\"zoom\"><img style='width: 100px; height: 100px; margin: 1px; float: left; border: 0px solid black;'title=['.'] src='dataset_birds\\valid\\FAIRY BLUEBIRD\\2.jpg'/></div><div class=\"zoom\"><img style='width: 100px; height: 100px; margin: 1px; float: left; border: 0px solid black;'title=['.'] src='dataset_birds\\valid\\FAIRY BLUEBIRD\\3.jpg'/></div><div class=\"zoom\"><img style='width: 100px; height: 100px; margin: 1px; float: left; border: 0px solid black;'title=['.'] src='dataset_birds\\valid\\FAIRY BLUEBIRD\\4.jpg'/></div><div class=\"zoom\"><img style='width: 100px; height: 100px; margin: 1px; float: left; border: 0px solid black;'title=['.'] src='dataset_birds\\valid\\FAIRY BLUEBIRD\\5.jpg'/></div>"
      ],
      "text/plain": [
       "<IPython.core.display.HTML object>"
      ]
     },
     "metadata": {},
     "output_type": "display_data"
    },
    {
     "name": "stdout",
     "output_type": "stream",
     "text": [
      "Drawing .\n"
     ]
    },
    {
     "data": {
      "text/html": [
       "<div class=\"zoom\"><img style='width: 100px; height: 100px; margin: 1px; float: left; border: 0px solid black;'title=['.'] src='dataset_birds\\valid\\FAIRY PENGUIN\\1.jpg'/></div><div class=\"zoom\"><img style='width: 100px; height: 100px; margin: 1px; float: left; border: 0px solid black;'title=['.'] src='dataset_birds\\valid\\FAIRY PENGUIN\\2.jpg'/></div><div class=\"zoom\"><img style='width: 100px; height: 100px; margin: 1px; float: left; border: 0px solid black;'title=['.'] src='dataset_birds\\valid\\FAIRY PENGUIN\\3.jpg'/></div><div class=\"zoom\"><img style='width: 100px; height: 100px; margin: 1px; float: left; border: 0px solid black;'title=['.'] src='dataset_birds\\valid\\FAIRY PENGUIN\\4.jpg'/></div><div class=\"zoom\"><img style='width: 100px; height: 100px; margin: 1px; float: left; border: 0px solid black;'title=['.'] src='dataset_birds\\valid\\FAIRY PENGUIN\\5.jpg'/></div>"
      ],
      "text/plain": [
       "<IPython.core.display.HTML object>"
      ]
     },
     "metadata": {},
     "output_type": "display_data"
    },
    {
     "name": "stdout",
     "output_type": "stream",
     "text": [
      "Drawing .\n"
     ]
    },
    {
     "data": {
      "text/html": [
       "<div class=\"zoom\"><img style='width: 100px; height: 100px; margin: 1px; float: left; border: 0px solid black;'title=['.'] src='dataset_birds\\valid\\FAIRY TERN\\1.jpg'/></div><div class=\"zoom\"><img style='width: 100px; height: 100px; margin: 1px; float: left; border: 0px solid black;'title=['.'] src='dataset_birds\\valid\\FAIRY TERN\\2.jpg'/></div><div class=\"zoom\"><img style='width: 100px; height: 100px; margin: 1px; float: left; border: 0px solid black;'title=['.'] src='dataset_birds\\valid\\FAIRY TERN\\3.jpg'/></div><div class=\"zoom\"><img style='width: 100px; height: 100px; margin: 1px; float: left; border: 0px solid black;'title=['.'] src='dataset_birds\\valid\\FAIRY TERN\\4.jpg'/></div><div class=\"zoom\"><img style='width: 100px; height: 100px; margin: 1px; float: left; border: 0px solid black;'title=['.'] src='dataset_birds\\valid\\FAIRY TERN\\5.jpg'/></div>"
      ],
      "text/plain": [
       "<IPython.core.display.HTML object>"
      ]
     },
     "metadata": {},
     "output_type": "display_data"
    },
    {
     "name": "stdout",
     "output_type": "stream",
     "text": [
      "Drawing .\n"
     ]
    },
    {
     "data": {
      "text/html": [
       "<div class=\"zoom\"><img style='width: 100px; height: 100px; margin: 1px; float: left; border: 0px solid black;'title=['.'] src='dataset_birds\\valid\\FAN TAILED WIDOW\\1.jpg'/></div><div class=\"zoom\"><img style='width: 100px; height: 100px; margin: 1px; float: left; border: 0px solid black;'title=['.'] src='dataset_birds\\valid\\FAN TAILED WIDOW\\2.jpg'/></div><div class=\"zoom\"><img style='width: 100px; height: 100px; margin: 1px; float: left; border: 0px solid black;'title=['.'] src='dataset_birds\\valid\\FAN TAILED WIDOW\\3.jpg'/></div><div class=\"zoom\"><img style='width: 100px; height: 100px; margin: 1px; float: left; border: 0px solid black;'title=['.'] src='dataset_birds\\valid\\FAN TAILED WIDOW\\4.jpg'/></div><div class=\"zoom\"><img style='width: 100px; height: 100px; margin: 1px; float: left; border: 0px solid black;'title=['.'] src='dataset_birds\\valid\\FAN TAILED WIDOW\\5.jpg'/></div>"
      ],
      "text/plain": [
       "<IPython.core.display.HTML object>"
      ]
     },
     "metadata": {},
     "output_type": "display_data"
    },
    {
     "name": "stdout",
     "output_type": "stream",
     "text": [
      "Drawing .\n"
     ]
    },
    {
     "data": {
      "text/html": [
       "<div class=\"zoom\"><img style='width: 100px; height: 100px; margin: 1px; float: left; border: 0px solid black;'title=['.'] src='dataset_birds\\valid\\FASCIATED WREN\\1.jpg'/></div><div class=\"zoom\"><img style='width: 100px; height: 100px; margin: 1px; float: left; border: 0px solid black;'title=['.'] src='dataset_birds\\valid\\FASCIATED WREN\\2.jpg'/></div><div class=\"zoom\"><img style='width: 100px; height: 100px; margin: 1px; float: left; border: 0px solid black;'title=['.'] src='dataset_birds\\valid\\FASCIATED WREN\\3.jpg'/></div><div class=\"zoom\"><img style='width: 100px; height: 100px; margin: 1px; float: left; border: 0px solid black;'title=['.'] src='dataset_birds\\valid\\FASCIATED WREN\\4.jpg'/></div><div class=\"zoom\"><img style='width: 100px; height: 100px; margin: 1px; float: left; border: 0px solid black;'title=['.'] src='dataset_birds\\valid\\FASCIATED WREN\\5.jpg'/></div>"
      ],
      "text/plain": [
       "<IPython.core.display.HTML object>"
      ]
     },
     "metadata": {},
     "output_type": "display_data"
    },
    {
     "name": "stdout",
     "output_type": "stream",
     "text": [
      "Drawing .\n"
     ]
    },
    {
     "data": {
      "text/html": [
       "<div class=\"zoom\"><img style='width: 100px; height: 100px; margin: 1px; float: left; border: 0px solid black;'title=['.'] src='dataset_birds\\valid\\FIERY MINIVET\\1.jpg'/></div><div class=\"zoom\"><img style='width: 100px; height: 100px; margin: 1px; float: left; border: 0px solid black;'title=['.'] src='dataset_birds\\valid\\FIERY MINIVET\\2.jpg'/></div><div class=\"zoom\"><img style='width: 100px; height: 100px; margin: 1px; float: left; border: 0px solid black;'title=['.'] src='dataset_birds\\valid\\FIERY MINIVET\\3.jpg'/></div><div class=\"zoom\"><img style='width: 100px; height: 100px; margin: 1px; float: left; border: 0px solid black;'title=['.'] src='dataset_birds\\valid\\FIERY MINIVET\\4.jpg'/></div><div class=\"zoom\"><img style='width: 100px; height: 100px; margin: 1px; float: left; border: 0px solid black;'title=['.'] src='dataset_birds\\valid\\FIERY MINIVET\\5.jpg'/></div>"
      ],
      "text/plain": [
       "<IPython.core.display.HTML object>"
      ]
     },
     "metadata": {},
     "output_type": "display_data"
    },
    {
     "name": "stdout",
     "output_type": "stream",
     "text": [
      "Drawing .\n"
     ]
    },
    {
     "data": {
      "text/html": [
       "<div class=\"zoom\"><img style='width: 100px; height: 100px; margin: 1px; float: left; border: 0px solid black;'title=['.'] src='dataset_birds\\valid\\FIORDLAND PENGUIN\\1.jpg'/></div><div class=\"zoom\"><img style='width: 100px; height: 100px; margin: 1px; float: left; border: 0px solid black;'title=['.'] src='dataset_birds\\valid\\FIORDLAND PENGUIN\\2.jpg'/></div><div class=\"zoom\"><img style='width: 100px; height: 100px; margin: 1px; float: left; border: 0px solid black;'title=['.'] src='dataset_birds\\valid\\FIORDLAND PENGUIN\\3.jpg'/></div><div class=\"zoom\"><img style='width: 100px; height: 100px; margin: 1px; float: left; border: 0px solid black;'title=['.'] src='dataset_birds\\valid\\FIORDLAND PENGUIN\\4.jpg'/></div><div class=\"zoom\"><img style='width: 100px; height: 100px; margin: 1px; float: left; border: 0px solid black;'title=['.'] src='dataset_birds\\valid\\FIORDLAND PENGUIN\\5.jpg'/></div>"
      ],
      "text/plain": [
       "<IPython.core.display.HTML object>"
      ]
     },
     "metadata": {},
     "output_type": "display_data"
    },
    {
     "name": "stdout",
     "output_type": "stream",
     "text": [
      "Drawing .\n"
     ]
    },
    {
     "data": {
      "text/html": [
       "<div class=\"zoom\"><img style='width: 100px; height: 100px; margin: 1px; float: left; border: 0px solid black;'title=['.'] src='dataset_birds\\valid\\FIRE TAILLED MYZORNIS\\1.jpg'/></div><div class=\"zoom\"><img style='width: 100px; height: 100px; margin: 1px; float: left; border: 0px solid black;'title=['.'] src='dataset_birds\\valid\\FIRE TAILLED MYZORNIS\\2.jpg'/></div><div class=\"zoom\"><img style='width: 100px; height: 100px; margin: 1px; float: left; border: 0px solid black;'title=['.'] src='dataset_birds\\valid\\FIRE TAILLED MYZORNIS\\3.jpg'/></div><div class=\"zoom\"><img style='width: 100px; height: 100px; margin: 1px; float: left; border: 0px solid black;'title=['.'] src='dataset_birds\\valid\\FIRE TAILLED MYZORNIS\\4.jpg'/></div><div class=\"zoom\"><img style='width: 100px; height: 100px; margin: 1px; float: left; border: 0px solid black;'title=['.'] src='dataset_birds\\valid\\FIRE TAILLED MYZORNIS\\5.jpg'/></div>"
      ],
      "text/plain": [
       "<IPython.core.display.HTML object>"
      ]
     },
     "metadata": {},
     "output_type": "display_data"
    },
    {
     "name": "stdout",
     "output_type": "stream",
     "text": [
      "Drawing .\n"
     ]
    },
    {
     "data": {
      "text/html": [
       "<div class=\"zoom\"><img style='width: 100px; height: 100px; margin: 1px; float: left; border: 0px solid black;'title=['.'] src='dataset_birds\\valid\\FLAME BOWERBIRD\\1.jpg'/></div><div class=\"zoom\"><img style='width: 100px; height: 100px; margin: 1px; float: left; border: 0px solid black;'title=['.'] src='dataset_birds\\valid\\FLAME BOWERBIRD\\2.jpg'/></div><div class=\"zoom\"><img style='width: 100px; height: 100px; margin: 1px; float: left; border: 0px solid black;'title=['.'] src='dataset_birds\\valid\\FLAME BOWERBIRD\\3.jpg'/></div><div class=\"zoom\"><img style='width: 100px; height: 100px; margin: 1px; float: left; border: 0px solid black;'title=['.'] src='dataset_birds\\valid\\FLAME BOWERBIRD\\4.jpg'/></div><div class=\"zoom\"><img style='width: 100px; height: 100px; margin: 1px; float: left; border: 0px solid black;'title=['.'] src='dataset_birds\\valid\\FLAME BOWERBIRD\\5.jpg'/></div>"
      ],
      "text/plain": [
       "<IPython.core.display.HTML object>"
      ]
     },
     "metadata": {},
     "output_type": "display_data"
    },
    {
     "name": "stdout",
     "output_type": "stream",
     "text": [
      "Drawing .\n"
     ]
    },
    {
     "data": {
      "text/html": [
       "<div class=\"zoom\"><img style='width: 100px; height: 100px; margin: 1px; float: left; border: 0px solid black;'title=['.'] src='dataset_birds\\valid\\FLAME TANAGER\\1.jpg'/></div><div class=\"zoom\"><img style='width: 100px; height: 100px; margin: 1px; float: left; border: 0px solid black;'title=['.'] src='dataset_birds\\valid\\FLAME TANAGER\\2.jpg'/></div><div class=\"zoom\"><img style='width: 100px; height: 100px; margin: 1px; float: left; border: 0px solid black;'title=['.'] src='dataset_birds\\valid\\FLAME TANAGER\\3.jpg'/></div><div class=\"zoom\"><img style='width: 100px; height: 100px; margin: 1px; float: left; border: 0px solid black;'title=['.'] src='dataset_birds\\valid\\FLAME TANAGER\\4.jpg'/></div><div class=\"zoom\"><img style='width: 100px; height: 100px; margin: 1px; float: left; border: 0px solid black;'title=['.'] src='dataset_birds\\valid\\FLAME TANAGER\\5.jpg'/></div>"
      ],
      "text/plain": [
       "<IPython.core.display.HTML object>"
      ]
     },
     "metadata": {},
     "output_type": "display_data"
    },
    {
     "name": "stdout",
     "output_type": "stream",
     "text": [
      "Drawing .\n"
     ]
    },
    {
     "data": {
      "text/html": [
       "<div class=\"zoom\"><img style='width: 100px; height: 100px; margin: 1px; float: left; border: 0px solid black;'title=['.'] src='dataset_birds\\valid\\FOREST WAGTAIL\\1.jpg'/></div><div class=\"zoom\"><img style='width: 100px; height: 100px; margin: 1px; float: left; border: 0px solid black;'title=['.'] src='dataset_birds\\valid\\FOREST WAGTAIL\\2.jpg'/></div><div class=\"zoom\"><img style='width: 100px; height: 100px; margin: 1px; float: left; border: 0px solid black;'title=['.'] src='dataset_birds\\valid\\FOREST WAGTAIL\\3.jpg'/></div><div class=\"zoom\"><img style='width: 100px; height: 100px; margin: 1px; float: left; border: 0px solid black;'title=['.'] src='dataset_birds\\valid\\FOREST WAGTAIL\\4.jpg'/></div><div class=\"zoom\"><img style='width: 100px; height: 100px; margin: 1px; float: left; border: 0px solid black;'title=['.'] src='dataset_birds\\valid\\FOREST WAGTAIL\\5.jpg'/></div>"
      ],
      "text/plain": [
       "<IPython.core.display.HTML object>"
      ]
     },
     "metadata": {},
     "output_type": "display_data"
    },
    {
     "name": "stdout",
     "output_type": "stream",
     "text": [
      "Drawing .\n"
     ]
    },
    {
     "data": {
      "text/html": [
       "<div class=\"zoom\"><img style='width: 100px; height: 100px; margin: 1px; float: left; border: 0px solid black;'title=['.'] src='dataset_birds\\valid\\FRIGATE\\1.jpg'/></div><div class=\"zoom\"><img style='width: 100px; height: 100px; margin: 1px; float: left; border: 0px solid black;'title=['.'] src='dataset_birds\\valid\\FRIGATE\\2.jpg'/></div><div class=\"zoom\"><img style='width: 100px; height: 100px; margin: 1px; float: left; border: 0px solid black;'title=['.'] src='dataset_birds\\valid\\FRIGATE\\3.jpg'/></div><div class=\"zoom\"><img style='width: 100px; height: 100px; margin: 1px; float: left; border: 0px solid black;'title=['.'] src='dataset_birds\\valid\\FRIGATE\\4.jpg'/></div><div class=\"zoom\"><img style='width: 100px; height: 100px; margin: 1px; float: left; border: 0px solid black;'title=['.'] src='dataset_birds\\valid\\FRIGATE\\5.jpg'/></div>"
      ],
      "text/plain": [
       "<IPython.core.display.HTML object>"
      ]
     },
     "metadata": {},
     "output_type": "display_data"
    },
    {
     "name": "stdout",
     "output_type": "stream",
     "text": [
      "Drawing .\n"
     ]
    },
    {
     "data": {
      "text/html": [
       "<div class=\"zoom\"><img style='width: 100px; height: 100px; margin: 1px; float: left; border: 0px solid black;'title=['.'] src='dataset_birds\\valid\\FRILL BACK PIGEON\\1.jpg'/></div><div class=\"zoom\"><img style='width: 100px; height: 100px; margin: 1px; float: left; border: 0px solid black;'title=['.'] src='dataset_birds\\valid\\FRILL BACK PIGEON\\2.jpg'/></div><div class=\"zoom\"><img style='width: 100px; height: 100px; margin: 1px; float: left; border: 0px solid black;'title=['.'] src='dataset_birds\\valid\\FRILL BACK PIGEON\\3.jpg'/></div><div class=\"zoom\"><img style='width: 100px; height: 100px; margin: 1px; float: left; border: 0px solid black;'title=['.'] src='dataset_birds\\valid\\FRILL BACK PIGEON\\4.jpg'/></div><div class=\"zoom\"><img style='width: 100px; height: 100px; margin: 1px; float: left; border: 0px solid black;'title=['.'] src='dataset_birds\\valid\\FRILL BACK PIGEON\\5.jpg'/></div>"
      ],
      "text/plain": [
       "<IPython.core.display.HTML object>"
      ]
     },
     "metadata": {},
     "output_type": "display_data"
    },
    {
     "name": "stdout",
     "output_type": "stream",
     "text": [
      "Drawing .\n"
     ]
    },
    {
     "data": {
      "text/html": [
       "<div class=\"zoom\"><img style='width: 100px; height: 100px; margin: 1px; float: left; border: 0px solid black;'title=['.'] src='dataset_birds\\valid\\GAMBELS QUAIL\\1.jpg'/></div><div class=\"zoom\"><img style='width: 100px; height: 100px; margin: 1px; float: left; border: 0px solid black;'title=['.'] src='dataset_birds\\valid\\GAMBELS QUAIL\\2.jpg'/></div><div class=\"zoom\"><img style='width: 100px; height: 100px; margin: 1px; float: left; border: 0px solid black;'title=['.'] src='dataset_birds\\valid\\GAMBELS QUAIL\\3.jpg'/></div><div class=\"zoom\"><img style='width: 100px; height: 100px; margin: 1px; float: left; border: 0px solid black;'title=['.'] src='dataset_birds\\valid\\GAMBELS QUAIL\\4.jpg'/></div><div class=\"zoom\"><img style='width: 100px; height: 100px; margin: 1px; float: left; border: 0px solid black;'title=['.'] src='dataset_birds\\valid\\GAMBELS QUAIL\\5.jpg'/></div>"
      ],
      "text/plain": [
       "<IPython.core.display.HTML object>"
      ]
     },
     "metadata": {},
     "output_type": "display_data"
    },
    {
     "name": "stdout",
     "output_type": "stream",
     "text": [
      "Drawing .\n"
     ]
    },
    {
     "data": {
      "text/html": [
       "<div class=\"zoom\"><img style='width: 100px; height: 100px; margin: 1px; float: left; border: 0px solid black;'title=['.'] src='dataset_birds\\valid\\GANG GANG COCKATOO\\1.jpg'/></div><div class=\"zoom\"><img style='width: 100px; height: 100px; margin: 1px; float: left; border: 0px solid black;'title=['.'] src='dataset_birds\\valid\\GANG GANG COCKATOO\\2.jpg'/></div><div class=\"zoom\"><img style='width: 100px; height: 100px; margin: 1px; float: left; border: 0px solid black;'title=['.'] src='dataset_birds\\valid\\GANG GANG COCKATOO\\3.jpg'/></div><div class=\"zoom\"><img style='width: 100px; height: 100px; margin: 1px; float: left; border: 0px solid black;'title=['.'] src='dataset_birds\\valid\\GANG GANG COCKATOO\\4.jpg'/></div><div class=\"zoom\"><img style='width: 100px; height: 100px; margin: 1px; float: left; border: 0px solid black;'title=['.'] src='dataset_birds\\valid\\GANG GANG COCKATOO\\5.jpg'/></div>"
      ],
      "text/plain": [
       "<IPython.core.display.HTML object>"
      ]
     },
     "metadata": {},
     "output_type": "display_data"
    },
    {
     "name": "stdout",
     "output_type": "stream",
     "text": [
      "Drawing .\n"
     ]
    },
    {
     "data": {
      "text/html": [
       "<div class=\"zoom\"><img style='width: 100px; height: 100px; margin: 1px; float: left; border: 0px solid black;'title=['.'] src='dataset_birds\\valid\\GILA WOODPECKER\\1.jpg'/></div><div class=\"zoom\"><img style='width: 100px; height: 100px; margin: 1px; float: left; border: 0px solid black;'title=['.'] src='dataset_birds\\valid\\GILA WOODPECKER\\2.jpg'/></div><div class=\"zoom\"><img style='width: 100px; height: 100px; margin: 1px; float: left; border: 0px solid black;'title=['.'] src='dataset_birds\\valid\\GILA WOODPECKER\\3.jpg'/></div><div class=\"zoom\"><img style='width: 100px; height: 100px; margin: 1px; float: left; border: 0px solid black;'title=['.'] src='dataset_birds\\valid\\GILA WOODPECKER\\4.jpg'/></div><div class=\"zoom\"><img style='width: 100px; height: 100px; margin: 1px; float: left; border: 0px solid black;'title=['.'] src='dataset_birds\\valid\\GILA WOODPECKER\\5.jpg'/></div>"
      ],
      "text/plain": [
       "<IPython.core.display.HTML object>"
      ]
     },
     "metadata": {},
     "output_type": "display_data"
    },
    {
     "name": "stdout",
     "output_type": "stream",
     "text": [
      "Drawing .\n"
     ]
    },
    {
     "data": {
      "text/html": [
       "<div class=\"zoom\"><img style='width: 100px; height: 100px; margin: 1px; float: left; border: 0px solid black;'title=['.'] src='dataset_birds\\valid\\GILDED FLICKER\\1.jpg'/></div><div class=\"zoom\"><img style='width: 100px; height: 100px; margin: 1px; float: left; border: 0px solid black;'title=['.'] src='dataset_birds\\valid\\GILDED FLICKER\\2.jpg'/></div><div class=\"zoom\"><img style='width: 100px; height: 100px; margin: 1px; float: left; border: 0px solid black;'title=['.'] src='dataset_birds\\valid\\GILDED FLICKER\\3.jpg'/></div><div class=\"zoom\"><img style='width: 100px; height: 100px; margin: 1px; float: left; border: 0px solid black;'title=['.'] src='dataset_birds\\valid\\GILDED FLICKER\\4.jpg'/></div><div class=\"zoom\"><img style='width: 100px; height: 100px; margin: 1px; float: left; border: 0px solid black;'title=['.'] src='dataset_birds\\valid\\GILDED FLICKER\\5.jpg'/></div>"
      ],
      "text/plain": [
       "<IPython.core.display.HTML object>"
      ]
     },
     "metadata": {},
     "output_type": "display_data"
    },
    {
     "name": "stdout",
     "output_type": "stream",
     "text": [
      "Drawing .\n"
     ]
    },
    {
     "data": {
      "text/html": [
       "<div class=\"zoom\"><img style='width: 100px; height: 100px; margin: 1px; float: left; border: 0px solid black;'title=['.'] src='dataset_birds\\valid\\GLOSSY IBIS\\1.jpg'/></div><div class=\"zoom\"><img style='width: 100px; height: 100px; margin: 1px; float: left; border: 0px solid black;'title=['.'] src='dataset_birds\\valid\\GLOSSY IBIS\\2.jpg'/></div><div class=\"zoom\"><img style='width: 100px; height: 100px; margin: 1px; float: left; border: 0px solid black;'title=['.'] src='dataset_birds\\valid\\GLOSSY IBIS\\3.jpg'/></div><div class=\"zoom\"><img style='width: 100px; height: 100px; margin: 1px; float: left; border: 0px solid black;'title=['.'] src='dataset_birds\\valid\\GLOSSY IBIS\\4.jpg'/></div><div class=\"zoom\"><img style='width: 100px; height: 100px; margin: 1px; float: left; border: 0px solid black;'title=['.'] src='dataset_birds\\valid\\GLOSSY IBIS\\5.jpg'/></div>"
      ],
      "text/plain": [
       "<IPython.core.display.HTML object>"
      ]
     },
     "metadata": {},
     "output_type": "display_data"
    },
    {
     "name": "stdout",
     "output_type": "stream",
     "text": [
      "Drawing .\n"
     ]
    },
    {
     "data": {
      "text/html": [
       "<div class=\"zoom\"><img style='width: 100px; height: 100px; margin: 1px; float: left; border: 0px solid black;'title=['.'] src='dataset_birds\\valid\\GO AWAY BIRD\\1.jpg'/></div><div class=\"zoom\"><img style='width: 100px; height: 100px; margin: 1px; float: left; border: 0px solid black;'title=['.'] src='dataset_birds\\valid\\GO AWAY BIRD\\2.jpg'/></div><div class=\"zoom\"><img style='width: 100px; height: 100px; margin: 1px; float: left; border: 0px solid black;'title=['.'] src='dataset_birds\\valid\\GO AWAY BIRD\\3.jpg'/></div><div class=\"zoom\"><img style='width: 100px; height: 100px; margin: 1px; float: left; border: 0px solid black;'title=['.'] src='dataset_birds\\valid\\GO AWAY BIRD\\4.jpg'/></div><div class=\"zoom\"><img style='width: 100px; height: 100px; margin: 1px; float: left; border: 0px solid black;'title=['.'] src='dataset_birds\\valid\\GO AWAY BIRD\\5.jpg'/></div>"
      ],
      "text/plain": [
       "<IPython.core.display.HTML object>"
      ]
     },
     "metadata": {},
     "output_type": "display_data"
    },
    {
     "name": "stdout",
     "output_type": "stream",
     "text": [
      "Drawing .\n"
     ]
    },
    {
     "data": {
      "text/html": [
       "<div class=\"zoom\"><img style='width: 100px; height: 100px; margin: 1px; float: left; border: 0px solid black;'title=['.'] src='dataset_birds\\valid\\GOLD WING WARBLER\\1.jpg'/></div><div class=\"zoom\"><img style='width: 100px; height: 100px; margin: 1px; float: left; border: 0px solid black;'title=['.'] src='dataset_birds\\valid\\GOLD WING WARBLER\\2.jpg'/></div><div class=\"zoom\"><img style='width: 100px; height: 100px; margin: 1px; float: left; border: 0px solid black;'title=['.'] src='dataset_birds\\valid\\GOLD WING WARBLER\\3.jpg'/></div><div class=\"zoom\"><img style='width: 100px; height: 100px; margin: 1px; float: left; border: 0px solid black;'title=['.'] src='dataset_birds\\valid\\GOLD WING WARBLER\\4.jpg'/></div><div class=\"zoom\"><img style='width: 100px; height: 100px; margin: 1px; float: left; border: 0px solid black;'title=['.'] src='dataset_birds\\valid\\GOLD WING WARBLER\\5.jpg'/></div>"
      ],
      "text/plain": [
       "<IPython.core.display.HTML object>"
      ]
     },
     "metadata": {},
     "output_type": "display_data"
    },
    {
     "name": "stdout",
     "output_type": "stream",
     "text": [
      "Drawing .\n"
     ]
    },
    {
     "data": {
      "text/html": [
       "<div class=\"zoom\"><img style='width: 100px; height: 100px; margin: 1px; float: left; border: 0px solid black;'title=['.'] src='dataset_birds\\valid\\GOLDEN BOWER BIRD\\1.jpg'/></div><div class=\"zoom\"><img style='width: 100px; height: 100px; margin: 1px; float: left; border: 0px solid black;'title=['.'] src='dataset_birds\\valid\\GOLDEN BOWER BIRD\\2.jpg'/></div><div class=\"zoom\"><img style='width: 100px; height: 100px; margin: 1px; float: left; border: 0px solid black;'title=['.'] src='dataset_birds\\valid\\GOLDEN BOWER BIRD\\3.jpg'/></div><div class=\"zoom\"><img style='width: 100px; height: 100px; margin: 1px; float: left; border: 0px solid black;'title=['.'] src='dataset_birds\\valid\\GOLDEN BOWER BIRD\\4.jpg'/></div><div class=\"zoom\"><img style='width: 100px; height: 100px; margin: 1px; float: left; border: 0px solid black;'title=['.'] src='dataset_birds\\valid\\GOLDEN BOWER BIRD\\5.jpg'/></div>"
      ],
      "text/plain": [
       "<IPython.core.display.HTML object>"
      ]
     },
     "metadata": {},
     "output_type": "display_data"
    },
    {
     "name": "stdout",
     "output_type": "stream",
     "text": [
      "Drawing .\n"
     ]
    },
    {
     "data": {
      "text/html": [
       "<div class=\"zoom\"><img style='width: 100px; height: 100px; margin: 1px; float: left; border: 0px solid black;'title=['.'] src='dataset_birds\\valid\\GOLDEN CHEEKED WARBLER\\1.jpg'/></div><div class=\"zoom\"><img style='width: 100px; height: 100px; margin: 1px; float: left; border: 0px solid black;'title=['.'] src='dataset_birds\\valid\\GOLDEN CHEEKED WARBLER\\2.jpg'/></div><div class=\"zoom\"><img style='width: 100px; height: 100px; margin: 1px; float: left; border: 0px solid black;'title=['.'] src='dataset_birds\\valid\\GOLDEN CHEEKED WARBLER\\3.jpg'/></div><div class=\"zoom\"><img style='width: 100px; height: 100px; margin: 1px; float: left; border: 0px solid black;'title=['.'] src='dataset_birds\\valid\\GOLDEN CHEEKED WARBLER\\4.jpg'/></div><div class=\"zoom\"><img style='width: 100px; height: 100px; margin: 1px; float: left; border: 0px solid black;'title=['.'] src='dataset_birds\\valid\\GOLDEN CHEEKED WARBLER\\5.jpg'/></div>"
      ],
      "text/plain": [
       "<IPython.core.display.HTML object>"
      ]
     },
     "metadata": {},
     "output_type": "display_data"
    },
    {
     "name": "stdout",
     "output_type": "stream",
     "text": [
      "Drawing .\n"
     ]
    },
    {
     "data": {
      "text/html": [
       "<div class=\"zoom\"><img style='width: 100px; height: 100px; margin: 1px; float: left; border: 0px solid black;'title=['.'] src='dataset_birds\\valid\\GOLDEN CHLOROPHONIA\\1.jpg'/></div><div class=\"zoom\"><img style='width: 100px; height: 100px; margin: 1px; float: left; border: 0px solid black;'title=['.'] src='dataset_birds\\valid\\GOLDEN CHLOROPHONIA\\2.jpg'/></div><div class=\"zoom\"><img style='width: 100px; height: 100px; margin: 1px; float: left; border: 0px solid black;'title=['.'] src='dataset_birds\\valid\\GOLDEN CHLOROPHONIA\\3.jpg'/></div><div class=\"zoom\"><img style='width: 100px; height: 100px; margin: 1px; float: left; border: 0px solid black;'title=['.'] src='dataset_birds\\valid\\GOLDEN CHLOROPHONIA\\4.jpg'/></div><div class=\"zoom\"><img style='width: 100px; height: 100px; margin: 1px; float: left; border: 0px solid black;'title=['.'] src='dataset_birds\\valid\\GOLDEN CHLOROPHONIA\\5.jpg'/></div>"
      ],
      "text/plain": [
       "<IPython.core.display.HTML object>"
      ]
     },
     "metadata": {},
     "output_type": "display_data"
    },
    {
     "name": "stdout",
     "output_type": "stream",
     "text": [
      "Drawing .\n"
     ]
    },
    {
     "data": {
      "text/html": [
       "<div class=\"zoom\"><img style='width: 100px; height: 100px; margin: 1px; float: left; border: 0px solid black;'title=['.'] src='dataset_birds\\valid\\GOLDEN EAGLE\\1.jpg'/></div><div class=\"zoom\"><img style='width: 100px; height: 100px; margin: 1px; float: left; border: 0px solid black;'title=['.'] src='dataset_birds\\valid\\GOLDEN EAGLE\\2.jpg'/></div><div class=\"zoom\"><img style='width: 100px; height: 100px; margin: 1px; float: left; border: 0px solid black;'title=['.'] src='dataset_birds\\valid\\GOLDEN EAGLE\\3.jpg'/></div><div class=\"zoom\"><img style='width: 100px; height: 100px; margin: 1px; float: left; border: 0px solid black;'title=['.'] src='dataset_birds\\valid\\GOLDEN EAGLE\\4.jpg'/></div><div class=\"zoom\"><img style='width: 100px; height: 100px; margin: 1px; float: left; border: 0px solid black;'title=['.'] src='dataset_birds\\valid\\GOLDEN EAGLE\\5.jpg'/></div>"
      ],
      "text/plain": [
       "<IPython.core.display.HTML object>"
      ]
     },
     "metadata": {},
     "output_type": "display_data"
    },
    {
     "name": "stdout",
     "output_type": "stream",
     "text": [
      "Drawing .\n"
     ]
    },
    {
     "data": {
      "text/html": [
       "<div class=\"zoom\"><img style='width: 100px; height: 100px; margin: 1px; float: left; border: 0px solid black;'title=['.'] src='dataset_birds\\valid\\GOLDEN PARAKEET\\1.jpg'/></div><div class=\"zoom\"><img style='width: 100px; height: 100px; margin: 1px; float: left; border: 0px solid black;'title=['.'] src='dataset_birds\\valid\\GOLDEN PARAKEET\\2.jpg'/></div><div class=\"zoom\"><img style='width: 100px; height: 100px; margin: 1px; float: left; border: 0px solid black;'title=['.'] src='dataset_birds\\valid\\GOLDEN PARAKEET\\3.jpg'/></div><div class=\"zoom\"><img style='width: 100px; height: 100px; margin: 1px; float: left; border: 0px solid black;'title=['.'] src='dataset_birds\\valid\\GOLDEN PARAKEET\\4.jpg'/></div><div class=\"zoom\"><img style='width: 100px; height: 100px; margin: 1px; float: left; border: 0px solid black;'title=['.'] src='dataset_birds\\valid\\GOLDEN PARAKEET\\5.jpg'/></div>"
      ],
      "text/plain": [
       "<IPython.core.display.HTML object>"
      ]
     },
     "metadata": {},
     "output_type": "display_data"
    },
    {
     "name": "stdout",
     "output_type": "stream",
     "text": [
      "Drawing .\n"
     ]
    },
    {
     "data": {
      "text/html": [
       "<div class=\"zoom\"><img style='width: 100px; height: 100px; margin: 1px; float: left; border: 0px solid black;'title=['.'] src='dataset_birds\\valid\\GOLDEN PHEASANT\\1.jpg'/></div><div class=\"zoom\"><img style='width: 100px; height: 100px; margin: 1px; float: left; border: 0px solid black;'title=['.'] src='dataset_birds\\valid\\GOLDEN PHEASANT\\2.jpg'/></div><div class=\"zoom\"><img style='width: 100px; height: 100px; margin: 1px; float: left; border: 0px solid black;'title=['.'] src='dataset_birds\\valid\\GOLDEN PHEASANT\\3.jpg'/></div><div class=\"zoom\"><img style='width: 100px; height: 100px; margin: 1px; float: left; border: 0px solid black;'title=['.'] src='dataset_birds\\valid\\GOLDEN PHEASANT\\4.jpg'/></div><div class=\"zoom\"><img style='width: 100px; height: 100px; margin: 1px; float: left; border: 0px solid black;'title=['.'] src='dataset_birds\\valid\\GOLDEN PHEASANT\\5.jpg'/></div>"
      ],
      "text/plain": [
       "<IPython.core.display.HTML object>"
      ]
     },
     "metadata": {},
     "output_type": "display_data"
    },
    {
     "name": "stdout",
     "output_type": "stream",
     "text": [
      "Drawing .\n"
     ]
    },
    {
     "data": {
      "text/html": [
       "<div class=\"zoom\"><img style='width: 100px; height: 100px; margin: 1px; float: left; border: 0px solid black;'title=['.'] src='dataset_birds\\valid\\GOLDEN PIPIT\\1.jpg'/></div><div class=\"zoom\"><img style='width: 100px; height: 100px; margin: 1px; float: left; border: 0px solid black;'title=['.'] src='dataset_birds\\valid\\GOLDEN PIPIT\\2.jpg'/></div><div class=\"zoom\"><img style='width: 100px; height: 100px; margin: 1px; float: left; border: 0px solid black;'title=['.'] src='dataset_birds\\valid\\GOLDEN PIPIT\\3.jpg'/></div><div class=\"zoom\"><img style='width: 100px; height: 100px; margin: 1px; float: left; border: 0px solid black;'title=['.'] src='dataset_birds\\valid\\GOLDEN PIPIT\\4.jpg'/></div><div class=\"zoom\"><img style='width: 100px; height: 100px; margin: 1px; float: left; border: 0px solid black;'title=['.'] src='dataset_birds\\valid\\GOLDEN PIPIT\\5.jpg'/></div>"
      ],
      "text/plain": [
       "<IPython.core.display.HTML object>"
      ]
     },
     "metadata": {},
     "output_type": "display_data"
    },
    {
     "name": "stdout",
     "output_type": "stream",
     "text": [
      "Drawing .\n"
     ]
    },
    {
     "data": {
      "text/html": [
       "<div class=\"zoom\"><img style='width: 100px; height: 100px; margin: 1px; float: left; border: 0px solid black;'title=['.'] src='dataset_birds\\valid\\GOULDIAN FINCH\\1.jpg'/></div><div class=\"zoom\"><img style='width: 100px; height: 100px; margin: 1px; float: left; border: 0px solid black;'title=['.'] src='dataset_birds\\valid\\GOULDIAN FINCH\\2.jpg'/></div><div class=\"zoom\"><img style='width: 100px; height: 100px; margin: 1px; float: left; border: 0px solid black;'title=['.'] src='dataset_birds\\valid\\GOULDIAN FINCH\\3.jpg'/></div><div class=\"zoom\"><img style='width: 100px; height: 100px; margin: 1px; float: left; border: 0px solid black;'title=['.'] src='dataset_birds\\valid\\GOULDIAN FINCH\\4.jpg'/></div><div class=\"zoom\"><img style='width: 100px; height: 100px; margin: 1px; float: left; border: 0px solid black;'title=['.'] src='dataset_birds\\valid\\GOULDIAN FINCH\\5.jpg'/></div>"
      ],
      "text/plain": [
       "<IPython.core.display.HTML object>"
      ]
     },
     "metadata": {},
     "output_type": "display_data"
    },
    {
     "name": "stdout",
     "output_type": "stream",
     "text": [
      "Drawing .\n"
     ]
    },
    {
     "data": {
      "text/html": [
       "<div class=\"zoom\"><img style='width: 100px; height: 100px; margin: 1px; float: left; border: 0px solid black;'title=['.'] src='dataset_birds\\valid\\GRANDALA\\1.jpg'/></div><div class=\"zoom\"><img style='width: 100px; height: 100px; margin: 1px; float: left; border: 0px solid black;'title=['.'] src='dataset_birds\\valid\\GRANDALA\\2.jpg'/></div><div class=\"zoom\"><img style='width: 100px; height: 100px; margin: 1px; float: left; border: 0px solid black;'title=['.'] src='dataset_birds\\valid\\GRANDALA\\3.jpg'/></div><div class=\"zoom\"><img style='width: 100px; height: 100px; margin: 1px; float: left; border: 0px solid black;'title=['.'] src='dataset_birds\\valid\\GRANDALA\\4.jpg'/></div><div class=\"zoom\"><img style='width: 100px; height: 100px; margin: 1px; float: left; border: 0px solid black;'title=['.'] src='dataset_birds\\valid\\GRANDALA\\5.jpg'/></div>"
      ],
      "text/plain": [
       "<IPython.core.display.HTML object>"
      ]
     },
     "metadata": {},
     "output_type": "display_data"
    },
    {
     "name": "stdout",
     "output_type": "stream",
     "text": [
      "Drawing .\n"
     ]
    },
    {
     "data": {
      "text/html": [
       "<div class=\"zoom\"><img style='width: 100px; height: 100px; margin: 1px; float: left; border: 0px solid black;'title=['.'] src='dataset_birds\\valid\\GRAY CATBIRD\\1.jpg'/></div><div class=\"zoom\"><img style='width: 100px; height: 100px; margin: 1px; float: left; border: 0px solid black;'title=['.'] src='dataset_birds\\valid\\GRAY CATBIRD\\2.jpg'/></div><div class=\"zoom\"><img style='width: 100px; height: 100px; margin: 1px; float: left; border: 0px solid black;'title=['.'] src='dataset_birds\\valid\\GRAY CATBIRD\\3.jpg'/></div><div class=\"zoom\"><img style='width: 100px; height: 100px; margin: 1px; float: left; border: 0px solid black;'title=['.'] src='dataset_birds\\valid\\GRAY CATBIRD\\4.jpg'/></div><div class=\"zoom\"><img style='width: 100px; height: 100px; margin: 1px; float: left; border: 0px solid black;'title=['.'] src='dataset_birds\\valid\\GRAY CATBIRD\\5.jpg'/></div>"
      ],
      "text/plain": [
       "<IPython.core.display.HTML object>"
      ]
     },
     "metadata": {},
     "output_type": "display_data"
    },
    {
     "name": "stdout",
     "output_type": "stream",
     "text": [
      "Drawing .\n"
     ]
    },
    {
     "data": {
      "text/html": [
       "<div class=\"zoom\"><img style='width: 100px; height: 100px; margin: 1px; float: left; border: 0px solid black;'title=['.'] src='dataset_birds\\valid\\GRAY KINGBIRD\\1.jpg'/></div><div class=\"zoom\"><img style='width: 100px; height: 100px; margin: 1px; float: left; border: 0px solid black;'title=['.'] src='dataset_birds\\valid\\GRAY KINGBIRD\\2.jpg'/></div><div class=\"zoom\"><img style='width: 100px; height: 100px; margin: 1px; float: left; border: 0px solid black;'title=['.'] src='dataset_birds\\valid\\GRAY KINGBIRD\\3.jpg'/></div><div class=\"zoom\"><img style='width: 100px; height: 100px; margin: 1px; float: left; border: 0px solid black;'title=['.'] src='dataset_birds\\valid\\GRAY KINGBIRD\\4.jpg'/></div><div class=\"zoom\"><img style='width: 100px; height: 100px; margin: 1px; float: left; border: 0px solid black;'title=['.'] src='dataset_birds\\valid\\GRAY KINGBIRD\\5.jpg'/></div>"
      ],
      "text/plain": [
       "<IPython.core.display.HTML object>"
      ]
     },
     "metadata": {},
     "output_type": "display_data"
    },
    {
     "name": "stdout",
     "output_type": "stream",
     "text": [
      "Drawing .\n"
     ]
    },
    {
     "data": {
      "text/html": [
       "<div class=\"zoom\"><img style='width: 100px; height: 100px; margin: 1px; float: left; border: 0px solid black;'title=['.'] src='dataset_birds\\valid\\GRAY PARTRIDGE\\1.jpg'/></div><div class=\"zoom\"><img style='width: 100px; height: 100px; margin: 1px; float: left; border: 0px solid black;'title=['.'] src='dataset_birds\\valid\\GRAY PARTRIDGE\\2.jpg'/></div><div class=\"zoom\"><img style='width: 100px; height: 100px; margin: 1px; float: left; border: 0px solid black;'title=['.'] src='dataset_birds\\valid\\GRAY PARTRIDGE\\3.jpg'/></div><div class=\"zoom\"><img style='width: 100px; height: 100px; margin: 1px; float: left; border: 0px solid black;'title=['.'] src='dataset_birds\\valid\\GRAY PARTRIDGE\\4.jpg'/></div><div class=\"zoom\"><img style='width: 100px; height: 100px; margin: 1px; float: left; border: 0px solid black;'title=['.'] src='dataset_birds\\valid\\GRAY PARTRIDGE\\5.jpg'/></div>"
      ],
      "text/plain": [
       "<IPython.core.display.HTML object>"
      ]
     },
     "metadata": {},
     "output_type": "display_data"
    },
    {
     "name": "stdout",
     "output_type": "stream",
     "text": [
      "Drawing .\n"
     ]
    },
    {
     "data": {
      "text/html": [
       "<div class=\"zoom\"><img style='width: 100px; height: 100px; margin: 1px; float: left; border: 0px solid black;'title=['.'] src='dataset_birds\\valid\\GREAT ARGUS\\1.jpg'/></div><div class=\"zoom\"><img style='width: 100px; height: 100px; margin: 1px; float: left; border: 0px solid black;'title=['.'] src='dataset_birds\\valid\\GREAT ARGUS\\2.jpg'/></div><div class=\"zoom\"><img style='width: 100px; height: 100px; margin: 1px; float: left; border: 0px solid black;'title=['.'] src='dataset_birds\\valid\\GREAT ARGUS\\3.jpg'/></div><div class=\"zoom\"><img style='width: 100px; height: 100px; margin: 1px; float: left; border: 0px solid black;'title=['.'] src='dataset_birds\\valid\\GREAT ARGUS\\4.jpg'/></div><div class=\"zoom\"><img style='width: 100px; height: 100px; margin: 1px; float: left; border: 0px solid black;'title=['.'] src='dataset_birds\\valid\\GREAT ARGUS\\5.jpg'/></div>"
      ],
      "text/plain": [
       "<IPython.core.display.HTML object>"
      ]
     },
     "metadata": {},
     "output_type": "display_data"
    },
    {
     "name": "stdout",
     "output_type": "stream",
     "text": [
      "Drawing .\n"
     ]
    },
    {
     "data": {
      "text/html": [
       "<div class=\"zoom\"><img style='width: 100px; height: 100px; margin: 1px; float: left; border: 0px solid black;'title=['.'] src='dataset_birds\\valid\\GREAT GRAY OWL\\1.jpg'/></div><div class=\"zoom\"><img style='width: 100px; height: 100px; margin: 1px; float: left; border: 0px solid black;'title=['.'] src='dataset_birds\\valid\\GREAT GRAY OWL\\2.jpg'/></div><div class=\"zoom\"><img style='width: 100px; height: 100px; margin: 1px; float: left; border: 0px solid black;'title=['.'] src='dataset_birds\\valid\\GREAT GRAY OWL\\3.jpg'/></div><div class=\"zoom\"><img style='width: 100px; height: 100px; margin: 1px; float: left; border: 0px solid black;'title=['.'] src='dataset_birds\\valid\\GREAT GRAY OWL\\4.jpg'/></div><div class=\"zoom\"><img style='width: 100px; height: 100px; margin: 1px; float: left; border: 0px solid black;'title=['.'] src='dataset_birds\\valid\\GREAT GRAY OWL\\5.jpg'/></div>"
      ],
      "text/plain": [
       "<IPython.core.display.HTML object>"
      ]
     },
     "metadata": {},
     "output_type": "display_data"
    },
    {
     "name": "stdout",
     "output_type": "stream",
     "text": [
      "Drawing .\n"
     ]
    },
    {
     "data": {
      "text/html": [
       "<div class=\"zoom\"><img style='width: 100px; height: 100px; margin: 1px; float: left; border: 0px solid black;'title=['.'] src='dataset_birds\\valid\\GREAT JACAMAR\\1.jpg'/></div><div class=\"zoom\"><img style='width: 100px; height: 100px; margin: 1px; float: left; border: 0px solid black;'title=['.'] src='dataset_birds\\valid\\GREAT JACAMAR\\2.jpg'/></div><div class=\"zoom\"><img style='width: 100px; height: 100px; margin: 1px; float: left; border: 0px solid black;'title=['.'] src='dataset_birds\\valid\\GREAT JACAMAR\\3.jpg'/></div><div class=\"zoom\"><img style='width: 100px; height: 100px; margin: 1px; float: left; border: 0px solid black;'title=['.'] src='dataset_birds\\valid\\GREAT JACAMAR\\4.jpg'/></div><div class=\"zoom\"><img style='width: 100px; height: 100px; margin: 1px; float: left; border: 0px solid black;'title=['.'] src='dataset_birds\\valid\\GREAT JACAMAR\\5.jpg'/></div>"
      ],
      "text/plain": [
       "<IPython.core.display.HTML object>"
      ]
     },
     "metadata": {},
     "output_type": "display_data"
    },
    {
     "name": "stdout",
     "output_type": "stream",
     "text": [
      "Drawing .\n"
     ]
    },
    {
     "data": {
      "text/html": [
       "<div class=\"zoom\"><img style='width: 100px; height: 100px; margin: 1px; float: left; border: 0px solid black;'title=['.'] src='dataset_birds\\valid\\GREAT KISKADEE\\1.jpg'/></div><div class=\"zoom\"><img style='width: 100px; height: 100px; margin: 1px; float: left; border: 0px solid black;'title=['.'] src='dataset_birds\\valid\\GREAT KISKADEE\\2.jpg'/></div><div class=\"zoom\"><img style='width: 100px; height: 100px; margin: 1px; float: left; border: 0px solid black;'title=['.'] src='dataset_birds\\valid\\GREAT KISKADEE\\3.jpg'/></div><div class=\"zoom\"><img style='width: 100px; height: 100px; margin: 1px; float: left; border: 0px solid black;'title=['.'] src='dataset_birds\\valid\\GREAT KISKADEE\\4.jpg'/></div><div class=\"zoom\"><img style='width: 100px; height: 100px; margin: 1px; float: left; border: 0px solid black;'title=['.'] src='dataset_birds\\valid\\GREAT KISKADEE\\5.jpg'/></div>"
      ],
      "text/plain": [
       "<IPython.core.display.HTML object>"
      ]
     },
     "metadata": {},
     "output_type": "display_data"
    },
    {
     "name": "stdout",
     "output_type": "stream",
     "text": [
      "Drawing .\n"
     ]
    },
    {
     "data": {
      "text/html": [
       "<div class=\"zoom\"><img style='width: 100px; height: 100px; margin: 1px; float: left; border: 0px solid black;'title=['.'] src='dataset_birds\\valid\\GREAT POTOO\\1.jpg'/></div><div class=\"zoom\"><img style='width: 100px; height: 100px; margin: 1px; float: left; border: 0px solid black;'title=['.'] src='dataset_birds\\valid\\GREAT POTOO\\2.jpg'/></div><div class=\"zoom\"><img style='width: 100px; height: 100px; margin: 1px; float: left; border: 0px solid black;'title=['.'] src='dataset_birds\\valid\\GREAT POTOO\\3.jpg'/></div><div class=\"zoom\"><img style='width: 100px; height: 100px; margin: 1px; float: left; border: 0px solid black;'title=['.'] src='dataset_birds\\valid\\GREAT POTOO\\4.jpg'/></div><div class=\"zoom\"><img style='width: 100px; height: 100px; margin: 1px; float: left; border: 0px solid black;'title=['.'] src='dataset_birds\\valid\\GREAT POTOO\\5.jpg'/></div>"
      ],
      "text/plain": [
       "<IPython.core.display.HTML object>"
      ]
     },
     "metadata": {},
     "output_type": "display_data"
    },
    {
     "name": "stdout",
     "output_type": "stream",
     "text": [
      "Drawing .\n"
     ]
    },
    {
     "data": {
      "text/html": [
       "<div class=\"zoom\"><img style='width: 100px; height: 100px; margin: 1px; float: left; border: 0px solid black;'title=['.'] src='dataset_birds\\valid\\GREAT TINAMOU\\1.jpg'/></div><div class=\"zoom\"><img style='width: 100px; height: 100px; margin: 1px; float: left; border: 0px solid black;'title=['.'] src='dataset_birds\\valid\\GREAT TINAMOU\\2.jpg'/></div><div class=\"zoom\"><img style='width: 100px; height: 100px; margin: 1px; float: left; border: 0px solid black;'title=['.'] src='dataset_birds\\valid\\GREAT TINAMOU\\3.jpg'/></div><div class=\"zoom\"><img style='width: 100px; height: 100px; margin: 1px; float: left; border: 0px solid black;'title=['.'] src='dataset_birds\\valid\\GREAT TINAMOU\\4.jpg'/></div><div class=\"zoom\"><img style='width: 100px; height: 100px; margin: 1px; float: left; border: 0px solid black;'title=['.'] src='dataset_birds\\valid\\GREAT TINAMOU\\5.jpg'/></div>"
      ],
      "text/plain": [
       "<IPython.core.display.HTML object>"
      ]
     },
     "metadata": {},
     "output_type": "display_data"
    },
    {
     "name": "stdout",
     "output_type": "stream",
     "text": [
      "Drawing .\n"
     ]
    },
    {
     "data": {
      "text/html": [
       "<div class=\"zoom\"><img style='width: 100px; height: 100px; margin: 1px; float: left; border: 0px solid black;'title=['.'] src='dataset_birds\\valid\\GREAT XENOPS\\1.jpg'/></div><div class=\"zoom\"><img style='width: 100px; height: 100px; margin: 1px; float: left; border: 0px solid black;'title=['.'] src='dataset_birds\\valid\\GREAT XENOPS\\2.jpg'/></div><div class=\"zoom\"><img style='width: 100px; height: 100px; margin: 1px; float: left; border: 0px solid black;'title=['.'] src='dataset_birds\\valid\\GREAT XENOPS\\3.jpg'/></div><div class=\"zoom\"><img style='width: 100px; height: 100px; margin: 1px; float: left; border: 0px solid black;'title=['.'] src='dataset_birds\\valid\\GREAT XENOPS\\4.jpg'/></div><div class=\"zoom\"><img style='width: 100px; height: 100px; margin: 1px; float: left; border: 0px solid black;'title=['.'] src='dataset_birds\\valid\\GREAT XENOPS\\5.jpg'/></div>"
      ],
      "text/plain": [
       "<IPython.core.display.HTML object>"
      ]
     },
     "metadata": {},
     "output_type": "display_data"
    },
    {
     "name": "stdout",
     "output_type": "stream",
     "text": [
      "Drawing .\n"
     ]
    },
    {
     "data": {
      "text/html": [
       "<div class=\"zoom\"><img style='width: 100px; height: 100px; margin: 1px; float: left; border: 0px solid black;'title=['.'] src='dataset_birds\\valid\\GREATER PEWEE\\1.jpg'/></div><div class=\"zoom\"><img style='width: 100px; height: 100px; margin: 1px; float: left; border: 0px solid black;'title=['.'] src='dataset_birds\\valid\\GREATER PEWEE\\2.jpg'/></div><div class=\"zoom\"><img style='width: 100px; height: 100px; margin: 1px; float: left; border: 0px solid black;'title=['.'] src='dataset_birds\\valid\\GREATER PEWEE\\3.jpg'/></div><div class=\"zoom\"><img style='width: 100px; height: 100px; margin: 1px; float: left; border: 0px solid black;'title=['.'] src='dataset_birds\\valid\\GREATER PEWEE\\4.jpg'/></div><div class=\"zoom\"><img style='width: 100px; height: 100px; margin: 1px; float: left; border: 0px solid black;'title=['.'] src='dataset_birds\\valid\\GREATER PEWEE\\5.jpg'/></div>"
      ],
      "text/plain": [
       "<IPython.core.display.HTML object>"
      ]
     },
     "metadata": {},
     "output_type": "display_data"
    },
    {
     "name": "stdout",
     "output_type": "stream",
     "text": [
      "Drawing .\n"
     ]
    },
    {
     "data": {
      "text/html": [
       "<div class=\"zoom\"><img style='width: 100px; height: 100px; margin: 1px; float: left; border: 0px solid black;'title=['.'] src='dataset_birds\\valid\\GREATER PRAIRIE CHICKEN\\1.jpg'/></div><div class=\"zoom\"><img style='width: 100px; height: 100px; margin: 1px; float: left; border: 0px solid black;'title=['.'] src='dataset_birds\\valid\\GREATER PRAIRIE CHICKEN\\2.jpg'/></div><div class=\"zoom\"><img style='width: 100px; height: 100px; margin: 1px; float: left; border: 0px solid black;'title=['.'] src='dataset_birds\\valid\\GREATER PRAIRIE CHICKEN\\3.jpg'/></div><div class=\"zoom\"><img style='width: 100px; height: 100px; margin: 1px; float: left; border: 0px solid black;'title=['.'] src='dataset_birds\\valid\\GREATER PRAIRIE CHICKEN\\4.jpg'/></div><div class=\"zoom\"><img style='width: 100px; height: 100px; margin: 1px; float: left; border: 0px solid black;'title=['.'] src='dataset_birds\\valid\\GREATER PRAIRIE CHICKEN\\5.jpg'/></div>"
      ],
      "text/plain": [
       "<IPython.core.display.HTML object>"
      ]
     },
     "metadata": {},
     "output_type": "display_data"
    },
    {
     "name": "stdout",
     "output_type": "stream",
     "text": [
      "Drawing .\n"
     ]
    },
    {
     "data": {
      "text/html": [
       "<div class=\"zoom\"><img style='width: 100px; height: 100px; margin: 1px; float: left; border: 0px solid black;'title=['.'] src='dataset_birds\\valid\\GREATOR SAGE GROUSE\\1.jpg'/></div><div class=\"zoom\"><img style='width: 100px; height: 100px; margin: 1px; float: left; border: 0px solid black;'title=['.'] src='dataset_birds\\valid\\GREATOR SAGE GROUSE\\2.jpg'/></div><div class=\"zoom\"><img style='width: 100px; height: 100px; margin: 1px; float: left; border: 0px solid black;'title=['.'] src='dataset_birds\\valid\\GREATOR SAGE GROUSE\\3.jpg'/></div><div class=\"zoom\"><img style='width: 100px; height: 100px; margin: 1px; float: left; border: 0px solid black;'title=['.'] src='dataset_birds\\valid\\GREATOR SAGE GROUSE\\4.jpg'/></div><div class=\"zoom\"><img style='width: 100px; height: 100px; margin: 1px; float: left; border: 0px solid black;'title=['.'] src='dataset_birds\\valid\\GREATOR SAGE GROUSE\\5.jpg'/></div>"
      ],
      "text/plain": [
       "<IPython.core.display.HTML object>"
      ]
     },
     "metadata": {},
     "output_type": "display_data"
    },
    {
     "name": "stdout",
     "output_type": "stream",
     "text": [
      "Drawing .\n"
     ]
    },
    {
     "data": {
      "text/html": [
       "<div class=\"zoom\"><img style='width: 100px; height: 100px; margin: 1px; float: left; border: 0px solid black;'title=['.'] src='dataset_birds\\valid\\GREEN BROADBILL\\1.jpg'/></div><div class=\"zoom\"><img style='width: 100px; height: 100px; margin: 1px; float: left; border: 0px solid black;'title=['.'] src='dataset_birds\\valid\\GREEN BROADBILL\\2.jpg'/></div><div class=\"zoom\"><img style='width: 100px; height: 100px; margin: 1px; float: left; border: 0px solid black;'title=['.'] src='dataset_birds\\valid\\GREEN BROADBILL\\3.jpg'/></div><div class=\"zoom\"><img style='width: 100px; height: 100px; margin: 1px; float: left; border: 0px solid black;'title=['.'] src='dataset_birds\\valid\\GREEN BROADBILL\\4.jpg'/></div><div class=\"zoom\"><img style='width: 100px; height: 100px; margin: 1px; float: left; border: 0px solid black;'title=['.'] src='dataset_birds\\valid\\GREEN BROADBILL\\5.jpg'/></div>"
      ],
      "text/plain": [
       "<IPython.core.display.HTML object>"
      ]
     },
     "metadata": {},
     "output_type": "display_data"
    },
    {
     "name": "stdout",
     "output_type": "stream",
     "text": [
      "Drawing .\n"
     ]
    },
    {
     "data": {
      "text/html": [
       "<div class=\"zoom\"><img style='width: 100px; height: 100px; margin: 1px; float: left; border: 0px solid black;'title=['.'] src='dataset_birds\\valid\\GREEN JAY\\1.jpg'/></div><div class=\"zoom\"><img style='width: 100px; height: 100px; margin: 1px; float: left; border: 0px solid black;'title=['.'] src='dataset_birds\\valid\\GREEN JAY\\2.jpg'/></div><div class=\"zoom\"><img style='width: 100px; height: 100px; margin: 1px; float: left; border: 0px solid black;'title=['.'] src='dataset_birds\\valid\\GREEN JAY\\3.jpg'/></div><div class=\"zoom\"><img style='width: 100px; height: 100px; margin: 1px; float: left; border: 0px solid black;'title=['.'] src='dataset_birds\\valid\\GREEN JAY\\4.jpg'/></div><div class=\"zoom\"><img style='width: 100px; height: 100px; margin: 1px; float: left; border: 0px solid black;'title=['.'] src='dataset_birds\\valid\\GREEN JAY\\5.jpg'/></div>"
      ],
      "text/plain": [
       "<IPython.core.display.HTML object>"
      ]
     },
     "metadata": {},
     "output_type": "display_data"
    },
    {
     "name": "stdout",
     "output_type": "stream",
     "text": [
      "Drawing .\n"
     ]
    },
    {
     "data": {
      "text/html": [
       "<div class=\"zoom\"><img style='width: 100px; height: 100px; margin: 1px; float: left; border: 0px solid black;'title=['.'] src='dataset_birds\\valid\\GREEN MAGPIE\\1.jpg'/></div><div class=\"zoom\"><img style='width: 100px; height: 100px; margin: 1px; float: left; border: 0px solid black;'title=['.'] src='dataset_birds\\valid\\GREEN MAGPIE\\2.jpg'/></div><div class=\"zoom\"><img style='width: 100px; height: 100px; margin: 1px; float: left; border: 0px solid black;'title=['.'] src='dataset_birds\\valid\\GREEN MAGPIE\\3.jpg'/></div><div class=\"zoom\"><img style='width: 100px; height: 100px; margin: 1px; float: left; border: 0px solid black;'title=['.'] src='dataset_birds\\valid\\GREEN MAGPIE\\4.jpg'/></div><div class=\"zoom\"><img style='width: 100px; height: 100px; margin: 1px; float: left; border: 0px solid black;'title=['.'] src='dataset_birds\\valid\\GREEN MAGPIE\\5.jpg'/></div>"
      ],
      "text/plain": [
       "<IPython.core.display.HTML object>"
      ]
     },
     "metadata": {},
     "output_type": "display_data"
    },
    {
     "name": "stdout",
     "output_type": "stream",
     "text": [
      "Drawing .\n"
     ]
    },
    {
     "data": {
      "text/html": [
       "<div class=\"zoom\"><img style='width: 100px; height: 100px; margin: 1px; float: left; border: 0px solid black;'title=['.'] src='dataset_birds\\valid\\GREEN WINGED DOVE\\1.jpg'/></div><div class=\"zoom\"><img style='width: 100px; height: 100px; margin: 1px; float: left; border: 0px solid black;'title=['.'] src='dataset_birds\\valid\\GREEN WINGED DOVE\\2.jpg'/></div><div class=\"zoom\"><img style='width: 100px; height: 100px; margin: 1px; float: left; border: 0px solid black;'title=['.'] src='dataset_birds\\valid\\GREEN WINGED DOVE\\3.jpg'/></div><div class=\"zoom\"><img style='width: 100px; height: 100px; margin: 1px; float: left; border: 0px solid black;'title=['.'] src='dataset_birds\\valid\\GREEN WINGED DOVE\\4.jpg'/></div><div class=\"zoom\"><img style='width: 100px; height: 100px; margin: 1px; float: left; border: 0px solid black;'title=['.'] src='dataset_birds\\valid\\GREEN WINGED DOVE\\5.jpg'/></div>"
      ],
      "text/plain": [
       "<IPython.core.display.HTML object>"
      ]
     },
     "metadata": {},
     "output_type": "display_data"
    },
    {
     "name": "stdout",
     "output_type": "stream",
     "text": [
      "Drawing .\n"
     ]
    },
    {
     "data": {
      "text/html": [
       "<div class=\"zoom\"><img style='width: 100px; height: 100px; margin: 1px; float: left; border: 0px solid black;'title=['.'] src='dataset_birds\\valid\\GREY CUCKOOSHRIKE\\1.jpg'/></div><div class=\"zoom\"><img style='width: 100px; height: 100px; margin: 1px; float: left; border: 0px solid black;'title=['.'] src='dataset_birds\\valid\\GREY CUCKOOSHRIKE\\2.jpg'/></div><div class=\"zoom\"><img style='width: 100px; height: 100px; margin: 1px; float: left; border: 0px solid black;'title=['.'] src='dataset_birds\\valid\\GREY CUCKOOSHRIKE\\3.jpg'/></div><div class=\"zoom\"><img style='width: 100px; height: 100px; margin: 1px; float: left; border: 0px solid black;'title=['.'] src='dataset_birds\\valid\\GREY CUCKOOSHRIKE\\4.jpg'/></div><div class=\"zoom\"><img style='width: 100px; height: 100px; margin: 1px; float: left; border: 0px solid black;'title=['.'] src='dataset_birds\\valid\\GREY CUCKOOSHRIKE\\5.jpg'/></div>"
      ],
      "text/plain": [
       "<IPython.core.display.HTML object>"
      ]
     },
     "metadata": {},
     "output_type": "display_data"
    },
    {
     "name": "stdout",
     "output_type": "stream",
     "text": [
      "Drawing .\n"
     ]
    },
    {
     "data": {
      "text/html": [
       "<div class=\"zoom\"><img style='width: 100px; height: 100px; margin: 1px; float: left; border: 0px solid black;'title=['.'] src='dataset_birds\\valid\\GREY HEADED CHACHALACA\\1.jpg'/></div><div class=\"zoom\"><img style='width: 100px; height: 100px; margin: 1px; float: left; border: 0px solid black;'title=['.'] src='dataset_birds\\valid\\GREY HEADED CHACHALACA\\2.jpg'/></div><div class=\"zoom\"><img style='width: 100px; height: 100px; margin: 1px; float: left; border: 0px solid black;'title=['.'] src='dataset_birds\\valid\\GREY HEADED CHACHALACA\\3.jpg'/></div><div class=\"zoom\"><img style='width: 100px; height: 100px; margin: 1px; float: left; border: 0px solid black;'title=['.'] src='dataset_birds\\valid\\GREY HEADED CHACHALACA\\4.jpg'/></div><div class=\"zoom\"><img style='width: 100px; height: 100px; margin: 1px; float: left; border: 0px solid black;'title=['.'] src='dataset_birds\\valid\\GREY HEADED CHACHALACA\\5.jpg'/></div>"
      ],
      "text/plain": [
       "<IPython.core.display.HTML object>"
      ]
     },
     "metadata": {},
     "output_type": "display_data"
    },
    {
     "name": "stdout",
     "output_type": "stream",
     "text": [
      "Drawing .\n"
     ]
    },
    {
     "data": {
      "text/html": [
       "<div class=\"zoom\"><img style='width: 100px; height: 100px; margin: 1px; float: left; border: 0px solid black;'title=['.'] src='dataset_birds\\valid\\GREY HEADED FISH EAGLE\\1.jpg'/></div><div class=\"zoom\"><img style='width: 100px; height: 100px; margin: 1px; float: left; border: 0px solid black;'title=['.'] src='dataset_birds\\valid\\GREY HEADED FISH EAGLE\\2.jpg'/></div><div class=\"zoom\"><img style='width: 100px; height: 100px; margin: 1px; float: left; border: 0px solid black;'title=['.'] src='dataset_birds\\valid\\GREY HEADED FISH EAGLE\\3.jpg'/></div><div class=\"zoom\"><img style='width: 100px; height: 100px; margin: 1px; float: left; border: 0px solid black;'title=['.'] src='dataset_birds\\valid\\GREY HEADED FISH EAGLE\\4.jpg'/></div><div class=\"zoom\"><img style='width: 100px; height: 100px; margin: 1px; float: left; border: 0px solid black;'title=['.'] src='dataset_birds\\valid\\GREY HEADED FISH EAGLE\\5.jpg'/></div>"
      ],
      "text/plain": [
       "<IPython.core.display.HTML object>"
      ]
     },
     "metadata": {},
     "output_type": "display_data"
    },
    {
     "name": "stdout",
     "output_type": "stream",
     "text": [
      "Drawing .\n"
     ]
    },
    {
     "data": {
      "text/html": [
       "<div class=\"zoom\"><img style='width: 100px; height: 100px; margin: 1px; float: left; border: 0px solid black;'title=['.'] src='dataset_birds\\valid\\GREY PLOVER\\1.jpg'/></div><div class=\"zoom\"><img style='width: 100px; height: 100px; margin: 1px; float: left; border: 0px solid black;'title=['.'] src='dataset_birds\\valid\\GREY PLOVER\\2.jpg'/></div><div class=\"zoom\"><img style='width: 100px; height: 100px; margin: 1px; float: left; border: 0px solid black;'title=['.'] src='dataset_birds\\valid\\GREY PLOVER\\3.jpg'/></div><div class=\"zoom\"><img style='width: 100px; height: 100px; margin: 1px; float: left; border: 0px solid black;'title=['.'] src='dataset_birds\\valid\\GREY PLOVER\\4.jpg'/></div><div class=\"zoom\"><img style='width: 100px; height: 100px; margin: 1px; float: left; border: 0px solid black;'title=['.'] src='dataset_birds\\valid\\GREY PLOVER\\5.jpg'/></div>"
      ],
      "text/plain": [
       "<IPython.core.display.HTML object>"
      ]
     },
     "metadata": {},
     "output_type": "display_data"
    },
    {
     "name": "stdout",
     "output_type": "stream",
     "text": [
      "Drawing .\n"
     ]
    },
    {
     "data": {
      "text/html": [
       "<div class=\"zoom\"><img style='width: 100px; height: 100px; margin: 1px; float: left; border: 0px solid black;'title=['.'] src='dataset_birds\\valid\\GROVED BILLED ANI\\1.jpg'/></div><div class=\"zoom\"><img style='width: 100px; height: 100px; margin: 1px; float: left; border: 0px solid black;'title=['.'] src='dataset_birds\\valid\\GROVED BILLED ANI\\2.jpg'/></div><div class=\"zoom\"><img style='width: 100px; height: 100px; margin: 1px; float: left; border: 0px solid black;'title=['.'] src='dataset_birds\\valid\\GROVED BILLED ANI\\3.jpg'/></div><div class=\"zoom\"><img style='width: 100px; height: 100px; margin: 1px; float: left; border: 0px solid black;'title=['.'] src='dataset_birds\\valid\\GROVED BILLED ANI\\4.jpg'/></div><div class=\"zoom\"><img style='width: 100px; height: 100px; margin: 1px; float: left; border: 0px solid black;'title=['.'] src='dataset_birds\\valid\\GROVED BILLED ANI\\5.jpg'/></div>"
      ],
      "text/plain": [
       "<IPython.core.display.HTML object>"
      ]
     },
     "metadata": {},
     "output_type": "display_data"
    },
    {
     "name": "stdout",
     "output_type": "stream",
     "text": [
      "Drawing .\n"
     ]
    },
    {
     "data": {
      "text/html": [
       "<div class=\"zoom\"><img style='width: 100px; height: 100px; margin: 1px; float: left; border: 0px solid black;'title=['.'] src='dataset_birds\\valid\\GUINEA TURACO\\1.jpg'/></div><div class=\"zoom\"><img style='width: 100px; height: 100px; margin: 1px; float: left; border: 0px solid black;'title=['.'] src='dataset_birds\\valid\\GUINEA TURACO\\2.jpg'/></div><div class=\"zoom\"><img style='width: 100px; height: 100px; margin: 1px; float: left; border: 0px solid black;'title=['.'] src='dataset_birds\\valid\\GUINEA TURACO\\3.jpg'/></div><div class=\"zoom\"><img style='width: 100px; height: 100px; margin: 1px; float: left; border: 0px solid black;'title=['.'] src='dataset_birds\\valid\\GUINEA TURACO\\4.jpg'/></div><div class=\"zoom\"><img style='width: 100px; height: 100px; margin: 1px; float: left; border: 0px solid black;'title=['.'] src='dataset_birds\\valid\\GUINEA TURACO\\5.jpg'/></div>"
      ],
      "text/plain": [
       "<IPython.core.display.HTML object>"
      ]
     },
     "metadata": {},
     "output_type": "display_data"
    },
    {
     "name": "stdout",
     "output_type": "stream",
     "text": [
      "Drawing .\n"
     ]
    },
    {
     "data": {
      "text/html": [
       "<div class=\"zoom\"><img style='width: 100px; height: 100px; margin: 1px; float: left; border: 0px solid black;'title=['.'] src='dataset_birds\\valid\\GUINEAFOWL\\1.jpg'/></div><div class=\"zoom\"><img style='width: 100px; height: 100px; margin: 1px; float: left; border: 0px solid black;'title=['.'] src='dataset_birds\\valid\\GUINEAFOWL\\2.jpg'/></div><div class=\"zoom\"><img style='width: 100px; height: 100px; margin: 1px; float: left; border: 0px solid black;'title=['.'] src='dataset_birds\\valid\\GUINEAFOWL\\3.jpg'/></div><div class=\"zoom\"><img style='width: 100px; height: 100px; margin: 1px; float: left; border: 0px solid black;'title=['.'] src='dataset_birds\\valid\\GUINEAFOWL\\4.jpg'/></div><div class=\"zoom\"><img style='width: 100px; height: 100px; margin: 1px; float: left; border: 0px solid black;'title=['.'] src='dataset_birds\\valid\\GUINEAFOWL\\5.jpg'/></div>"
      ],
      "text/plain": [
       "<IPython.core.display.HTML object>"
      ]
     },
     "metadata": {},
     "output_type": "display_data"
    },
    {
     "name": "stdout",
     "output_type": "stream",
     "text": [
      "Drawing .\n"
     ]
    },
    {
     "data": {
      "text/html": [
       "<div class=\"zoom\"><img style='width: 100px; height: 100px; margin: 1px; float: left; border: 0px solid black;'title=['.'] src='dataset_birds\\valid\\GURNEYS PITTA\\1.jpg'/></div><div class=\"zoom\"><img style='width: 100px; height: 100px; margin: 1px; float: left; border: 0px solid black;'title=['.'] src='dataset_birds\\valid\\GURNEYS PITTA\\2.jpg'/></div><div class=\"zoom\"><img style='width: 100px; height: 100px; margin: 1px; float: left; border: 0px solid black;'title=['.'] src='dataset_birds\\valid\\GURNEYS PITTA\\3.jpg'/></div><div class=\"zoom\"><img style='width: 100px; height: 100px; margin: 1px; float: left; border: 0px solid black;'title=['.'] src='dataset_birds\\valid\\GURNEYS PITTA\\4.jpg'/></div><div class=\"zoom\"><img style='width: 100px; height: 100px; margin: 1px; float: left; border: 0px solid black;'title=['.'] src='dataset_birds\\valid\\GURNEYS PITTA\\5.jpg'/></div>"
      ],
      "text/plain": [
       "<IPython.core.display.HTML object>"
      ]
     },
     "metadata": {},
     "output_type": "display_data"
    },
    {
     "name": "stdout",
     "output_type": "stream",
     "text": [
      "Drawing .\n"
     ]
    },
    {
     "data": {
      "text/html": [
       "<div class=\"zoom\"><img style='width: 100px; height: 100px; margin: 1px; float: left; border: 0px solid black;'title=['.'] src='dataset_birds\\valid\\GYRFALCON\\1.jpg'/></div><div class=\"zoom\"><img style='width: 100px; height: 100px; margin: 1px; float: left; border: 0px solid black;'title=['.'] src='dataset_birds\\valid\\GYRFALCON\\2.jpg'/></div><div class=\"zoom\"><img style='width: 100px; height: 100px; margin: 1px; float: left; border: 0px solid black;'title=['.'] src='dataset_birds\\valid\\GYRFALCON\\3.jpg'/></div><div class=\"zoom\"><img style='width: 100px; height: 100px; margin: 1px; float: left; border: 0px solid black;'title=['.'] src='dataset_birds\\valid\\GYRFALCON\\4.jpg'/></div><div class=\"zoom\"><img style='width: 100px; height: 100px; margin: 1px; float: left; border: 0px solid black;'title=['.'] src='dataset_birds\\valid\\GYRFALCON\\5.jpg'/></div>"
      ],
      "text/plain": [
       "<IPython.core.display.HTML object>"
      ]
     },
     "metadata": {},
     "output_type": "display_data"
    },
    {
     "name": "stdout",
     "output_type": "stream",
     "text": [
      "Drawing .\n"
     ]
    },
    {
     "data": {
      "text/html": [
       "<div class=\"zoom\"><img style='width: 100px; height: 100px; margin: 1px; float: left; border: 0px solid black;'title=['.'] src='dataset_birds\\valid\\HAMERKOP\\1.jpg'/></div><div class=\"zoom\"><img style='width: 100px; height: 100px; margin: 1px; float: left; border: 0px solid black;'title=['.'] src='dataset_birds\\valid\\HAMERKOP\\2.jpg'/></div><div class=\"zoom\"><img style='width: 100px; height: 100px; margin: 1px; float: left; border: 0px solid black;'title=['.'] src='dataset_birds\\valid\\HAMERKOP\\3.jpg'/></div><div class=\"zoom\"><img style='width: 100px; height: 100px; margin: 1px; float: left; border: 0px solid black;'title=['.'] src='dataset_birds\\valid\\HAMERKOP\\4.jpg'/></div><div class=\"zoom\"><img style='width: 100px; height: 100px; margin: 1px; float: left; border: 0px solid black;'title=['.'] src='dataset_birds\\valid\\HAMERKOP\\5.jpg'/></div>"
      ],
      "text/plain": [
       "<IPython.core.display.HTML object>"
      ]
     },
     "metadata": {},
     "output_type": "display_data"
    },
    {
     "name": "stdout",
     "output_type": "stream",
     "text": [
      "Drawing .\n"
     ]
    },
    {
     "data": {
      "text/html": [
       "<div class=\"zoom\"><img style='width: 100px; height: 100px; margin: 1px; float: left; border: 0px solid black;'title=['.'] src='dataset_birds\\valid\\HARLEQUIN DUCK\\1.jpg'/></div><div class=\"zoom\"><img style='width: 100px; height: 100px; margin: 1px; float: left; border: 0px solid black;'title=['.'] src='dataset_birds\\valid\\HARLEQUIN DUCK\\2.jpg'/></div><div class=\"zoom\"><img style='width: 100px; height: 100px; margin: 1px; float: left; border: 0px solid black;'title=['.'] src='dataset_birds\\valid\\HARLEQUIN DUCK\\3.jpg'/></div><div class=\"zoom\"><img style='width: 100px; height: 100px; margin: 1px; float: left; border: 0px solid black;'title=['.'] src='dataset_birds\\valid\\HARLEQUIN DUCK\\4.jpg'/></div><div class=\"zoom\"><img style='width: 100px; height: 100px; margin: 1px; float: left; border: 0px solid black;'title=['.'] src='dataset_birds\\valid\\HARLEQUIN DUCK\\5.jpg'/></div>"
      ],
      "text/plain": [
       "<IPython.core.display.HTML object>"
      ]
     },
     "metadata": {},
     "output_type": "display_data"
    },
    {
     "name": "stdout",
     "output_type": "stream",
     "text": [
      "Drawing .\n"
     ]
    },
    {
     "data": {
      "text/html": [
       "<div class=\"zoom\"><img style='width: 100px; height: 100px; margin: 1px; float: left; border: 0px solid black;'title=['.'] src='dataset_birds\\valid\\HARLEQUIN QUAIL\\1.jpg'/></div><div class=\"zoom\"><img style='width: 100px; height: 100px; margin: 1px; float: left; border: 0px solid black;'title=['.'] src='dataset_birds\\valid\\HARLEQUIN QUAIL\\2.jpg'/></div><div class=\"zoom\"><img style='width: 100px; height: 100px; margin: 1px; float: left; border: 0px solid black;'title=['.'] src='dataset_birds\\valid\\HARLEQUIN QUAIL\\3.jpg'/></div><div class=\"zoom\"><img style='width: 100px; height: 100px; margin: 1px; float: left; border: 0px solid black;'title=['.'] src='dataset_birds\\valid\\HARLEQUIN QUAIL\\4.jpg'/></div><div class=\"zoom\"><img style='width: 100px; height: 100px; margin: 1px; float: left; border: 0px solid black;'title=['.'] src='dataset_birds\\valid\\HARLEQUIN QUAIL\\5.jpg'/></div>"
      ],
      "text/plain": [
       "<IPython.core.display.HTML object>"
      ]
     },
     "metadata": {},
     "output_type": "display_data"
    },
    {
     "name": "stdout",
     "output_type": "stream",
     "text": [
      "Drawing .\n"
     ]
    },
    {
     "data": {
      "text/html": [
       "<div class=\"zoom\"><img style='width: 100px; height: 100px; margin: 1px; float: left; border: 0px solid black;'title=['.'] src='dataset_birds\\valid\\HARPY EAGLE\\1.jpg'/></div><div class=\"zoom\"><img style='width: 100px; height: 100px; margin: 1px; float: left; border: 0px solid black;'title=['.'] src='dataset_birds\\valid\\HARPY EAGLE\\2.jpg'/></div><div class=\"zoom\"><img style='width: 100px; height: 100px; margin: 1px; float: left; border: 0px solid black;'title=['.'] src='dataset_birds\\valid\\HARPY EAGLE\\3.jpg'/></div><div class=\"zoom\"><img style='width: 100px; height: 100px; margin: 1px; float: left; border: 0px solid black;'title=['.'] src='dataset_birds\\valid\\HARPY EAGLE\\4.jpg'/></div><div class=\"zoom\"><img style='width: 100px; height: 100px; margin: 1px; float: left; border: 0px solid black;'title=['.'] src='dataset_birds\\valid\\HARPY EAGLE\\5.jpg'/></div>"
      ],
      "text/plain": [
       "<IPython.core.display.HTML object>"
      ]
     },
     "metadata": {},
     "output_type": "display_data"
    },
    {
     "name": "stdout",
     "output_type": "stream",
     "text": [
      "Drawing .\n"
     ]
    },
    {
     "data": {
      "text/html": [
       "<div class=\"zoom\"><img style='width: 100px; height: 100px; margin: 1px; float: left; border: 0px solid black;'title=['.'] src='dataset_birds\\valid\\HAWAIIAN GOOSE\\1.jpg'/></div><div class=\"zoom\"><img style='width: 100px; height: 100px; margin: 1px; float: left; border: 0px solid black;'title=['.'] src='dataset_birds\\valid\\HAWAIIAN GOOSE\\2.jpg'/></div><div class=\"zoom\"><img style='width: 100px; height: 100px; margin: 1px; float: left; border: 0px solid black;'title=['.'] src='dataset_birds\\valid\\HAWAIIAN GOOSE\\3.jpg'/></div><div class=\"zoom\"><img style='width: 100px; height: 100px; margin: 1px; float: left; border: 0px solid black;'title=['.'] src='dataset_birds\\valid\\HAWAIIAN GOOSE\\4.jpg'/></div><div class=\"zoom\"><img style='width: 100px; height: 100px; margin: 1px; float: left; border: 0px solid black;'title=['.'] src='dataset_birds\\valid\\HAWAIIAN GOOSE\\5.jpg'/></div>"
      ],
      "text/plain": [
       "<IPython.core.display.HTML object>"
      ]
     },
     "metadata": {},
     "output_type": "display_data"
    },
    {
     "name": "stdout",
     "output_type": "stream",
     "text": [
      "Drawing .\n"
     ]
    },
    {
     "data": {
      "text/html": [
       "<div class=\"zoom\"><img style='width: 100px; height: 100px; margin: 1px; float: left; border: 0px solid black;'title=['.'] src='dataset_birds\\valid\\HAWFINCH\\1.jpg'/></div><div class=\"zoom\"><img style='width: 100px; height: 100px; margin: 1px; float: left; border: 0px solid black;'title=['.'] src='dataset_birds\\valid\\HAWFINCH\\2.jpg'/></div><div class=\"zoom\"><img style='width: 100px; height: 100px; margin: 1px; float: left; border: 0px solid black;'title=['.'] src='dataset_birds\\valid\\HAWFINCH\\3.jpg'/></div><div class=\"zoom\"><img style='width: 100px; height: 100px; margin: 1px; float: left; border: 0px solid black;'title=['.'] src='dataset_birds\\valid\\HAWFINCH\\4.jpg'/></div><div class=\"zoom\"><img style='width: 100px; height: 100px; margin: 1px; float: left; border: 0px solid black;'title=['.'] src='dataset_birds\\valid\\HAWFINCH\\5.jpg'/></div>"
      ],
      "text/plain": [
       "<IPython.core.display.HTML object>"
      ]
     },
     "metadata": {},
     "output_type": "display_data"
    },
    {
     "name": "stdout",
     "output_type": "stream",
     "text": [
      "Drawing .\n"
     ]
    },
    {
     "data": {
      "text/html": [
       "<div class=\"zoom\"><img style='width: 100px; height: 100px; margin: 1px; float: left; border: 0px solid black;'title=['.'] src='dataset_birds\\valid\\HELMET VANGA\\1.jpg'/></div><div class=\"zoom\"><img style='width: 100px; height: 100px; margin: 1px; float: left; border: 0px solid black;'title=['.'] src='dataset_birds\\valid\\HELMET VANGA\\2.jpg'/></div><div class=\"zoom\"><img style='width: 100px; height: 100px; margin: 1px; float: left; border: 0px solid black;'title=['.'] src='dataset_birds\\valid\\HELMET VANGA\\3.jpg'/></div><div class=\"zoom\"><img style='width: 100px; height: 100px; margin: 1px; float: left; border: 0px solid black;'title=['.'] src='dataset_birds\\valid\\HELMET VANGA\\4.jpg'/></div><div class=\"zoom\"><img style='width: 100px; height: 100px; margin: 1px; float: left; border: 0px solid black;'title=['.'] src='dataset_birds\\valid\\HELMET VANGA\\5.jpg'/></div>"
      ],
      "text/plain": [
       "<IPython.core.display.HTML object>"
      ]
     },
     "metadata": {},
     "output_type": "display_data"
    },
    {
     "name": "stdout",
     "output_type": "stream",
     "text": [
      "Drawing .\n"
     ]
    },
    {
     "data": {
      "text/html": [
       "<div class=\"zoom\"><img style='width: 100px; height: 100px; margin: 1px; float: left; border: 0px solid black;'title=['.'] src='dataset_birds\\valid\\HEPATIC TANAGER\\1.jpg'/></div><div class=\"zoom\"><img style='width: 100px; height: 100px; margin: 1px; float: left; border: 0px solid black;'title=['.'] src='dataset_birds\\valid\\HEPATIC TANAGER\\2.jpg'/></div><div class=\"zoom\"><img style='width: 100px; height: 100px; margin: 1px; float: left; border: 0px solid black;'title=['.'] src='dataset_birds\\valid\\HEPATIC TANAGER\\3.jpg'/></div><div class=\"zoom\"><img style='width: 100px; height: 100px; margin: 1px; float: left; border: 0px solid black;'title=['.'] src='dataset_birds\\valid\\HEPATIC TANAGER\\4.jpg'/></div><div class=\"zoom\"><img style='width: 100px; height: 100px; margin: 1px; float: left; border: 0px solid black;'title=['.'] src='dataset_birds\\valid\\HEPATIC TANAGER\\5.jpg'/></div>"
      ],
      "text/plain": [
       "<IPython.core.display.HTML object>"
      ]
     },
     "metadata": {},
     "output_type": "display_data"
    },
    {
     "name": "stdout",
     "output_type": "stream",
     "text": [
      "Drawing .\n"
     ]
    },
    {
     "data": {
      "text/html": [
       "<div class=\"zoom\"><img style='width: 100px; height: 100px; margin: 1px; float: left; border: 0px solid black;'title=['.'] src='dataset_birds\\valid\\HIMALAYAN BLUETAIL\\1.jpg'/></div><div class=\"zoom\"><img style='width: 100px; height: 100px; margin: 1px; float: left; border: 0px solid black;'title=['.'] src='dataset_birds\\valid\\HIMALAYAN BLUETAIL\\2.jpg'/></div><div class=\"zoom\"><img style='width: 100px; height: 100px; margin: 1px; float: left; border: 0px solid black;'title=['.'] src='dataset_birds\\valid\\HIMALAYAN BLUETAIL\\3.jpg'/></div><div class=\"zoom\"><img style='width: 100px; height: 100px; margin: 1px; float: left; border: 0px solid black;'title=['.'] src='dataset_birds\\valid\\HIMALAYAN BLUETAIL\\4.jpg'/></div><div class=\"zoom\"><img style='width: 100px; height: 100px; margin: 1px; float: left; border: 0px solid black;'title=['.'] src='dataset_birds\\valid\\HIMALAYAN BLUETAIL\\5.jpg'/></div>"
      ],
      "text/plain": [
       "<IPython.core.display.HTML object>"
      ]
     },
     "metadata": {},
     "output_type": "display_data"
    },
    {
     "name": "stdout",
     "output_type": "stream",
     "text": [
      "Drawing .\n"
     ]
    },
    {
     "data": {
      "text/html": [
       "<div class=\"zoom\"><img style='width: 100px; height: 100px; margin: 1px; float: left; border: 0px solid black;'title=['.'] src='dataset_birds\\valid\\HIMALAYAN MONAL\\1.jpg'/></div><div class=\"zoom\"><img style='width: 100px; height: 100px; margin: 1px; float: left; border: 0px solid black;'title=['.'] src='dataset_birds\\valid\\HIMALAYAN MONAL\\2.jpg'/></div><div class=\"zoom\"><img style='width: 100px; height: 100px; margin: 1px; float: left; border: 0px solid black;'title=['.'] src='dataset_birds\\valid\\HIMALAYAN MONAL\\3.jpg'/></div><div class=\"zoom\"><img style='width: 100px; height: 100px; margin: 1px; float: left; border: 0px solid black;'title=['.'] src='dataset_birds\\valid\\HIMALAYAN MONAL\\4.jpg'/></div><div class=\"zoom\"><img style='width: 100px; height: 100px; margin: 1px; float: left; border: 0px solid black;'title=['.'] src='dataset_birds\\valid\\HIMALAYAN MONAL\\5.jpg'/></div>"
      ],
      "text/plain": [
       "<IPython.core.display.HTML object>"
      ]
     },
     "metadata": {},
     "output_type": "display_data"
    },
    {
     "name": "stdout",
     "output_type": "stream",
     "text": [
      "Drawing .\n"
     ]
    },
    {
     "data": {
      "text/html": [
       "<div class=\"zoom\"><img style='width: 100px; height: 100px; margin: 1px; float: left; border: 0px solid black;'title=['.'] src='dataset_birds\\valid\\HOATZIN\\1.jpg'/></div><div class=\"zoom\"><img style='width: 100px; height: 100px; margin: 1px; float: left; border: 0px solid black;'title=['.'] src='dataset_birds\\valid\\HOATZIN\\2.jpg'/></div><div class=\"zoom\"><img style='width: 100px; height: 100px; margin: 1px; float: left; border: 0px solid black;'title=['.'] src='dataset_birds\\valid\\HOATZIN\\3.jpg'/></div><div class=\"zoom\"><img style='width: 100px; height: 100px; margin: 1px; float: left; border: 0px solid black;'title=['.'] src='dataset_birds\\valid\\HOATZIN\\4.jpg'/></div><div class=\"zoom\"><img style='width: 100px; height: 100px; margin: 1px; float: left; border: 0px solid black;'title=['.'] src='dataset_birds\\valid\\HOATZIN\\5.jpg'/></div>"
      ],
      "text/plain": [
       "<IPython.core.display.HTML object>"
      ]
     },
     "metadata": {},
     "output_type": "display_data"
    },
    {
     "name": "stdout",
     "output_type": "stream",
     "text": [
      "Drawing .\n"
     ]
    },
    {
     "data": {
      "text/html": [
       "<div class=\"zoom\"><img style='width: 100px; height: 100px; margin: 1px; float: left; border: 0px solid black;'title=['.'] src='dataset_birds\\valid\\HOODED MERGANSER\\1.jpg'/></div><div class=\"zoom\"><img style='width: 100px; height: 100px; margin: 1px; float: left; border: 0px solid black;'title=['.'] src='dataset_birds\\valid\\HOODED MERGANSER\\2.jpg'/></div><div class=\"zoom\"><img style='width: 100px; height: 100px; margin: 1px; float: left; border: 0px solid black;'title=['.'] src='dataset_birds\\valid\\HOODED MERGANSER\\3.jpg'/></div><div class=\"zoom\"><img style='width: 100px; height: 100px; margin: 1px; float: left; border: 0px solid black;'title=['.'] src='dataset_birds\\valid\\HOODED MERGANSER\\4.jpg'/></div><div class=\"zoom\"><img style='width: 100px; height: 100px; margin: 1px; float: left; border: 0px solid black;'title=['.'] src='dataset_birds\\valid\\HOODED MERGANSER\\5.jpg'/></div>"
      ],
      "text/plain": [
       "<IPython.core.display.HTML object>"
      ]
     },
     "metadata": {},
     "output_type": "display_data"
    },
    {
     "name": "stdout",
     "output_type": "stream",
     "text": [
      "Drawing .\n"
     ]
    },
    {
     "data": {
      "text/html": [
       "<div class=\"zoom\"><img style='width: 100px; height: 100px; margin: 1px; float: left; border: 0px solid black;'title=['.'] src='dataset_birds\\valid\\HOOPOES\\1.jpg'/></div><div class=\"zoom\"><img style='width: 100px; height: 100px; margin: 1px; float: left; border: 0px solid black;'title=['.'] src='dataset_birds\\valid\\HOOPOES\\2.jpg'/></div><div class=\"zoom\"><img style='width: 100px; height: 100px; margin: 1px; float: left; border: 0px solid black;'title=['.'] src='dataset_birds\\valid\\HOOPOES\\3.jpg'/></div><div class=\"zoom\"><img style='width: 100px; height: 100px; margin: 1px; float: left; border: 0px solid black;'title=['.'] src='dataset_birds\\valid\\HOOPOES\\4.jpg'/></div><div class=\"zoom\"><img style='width: 100px; height: 100px; margin: 1px; float: left; border: 0px solid black;'title=['.'] src='dataset_birds\\valid\\HOOPOES\\5.jpg'/></div>"
      ],
      "text/plain": [
       "<IPython.core.display.HTML object>"
      ]
     },
     "metadata": {},
     "output_type": "display_data"
    },
    {
     "name": "stdout",
     "output_type": "stream",
     "text": [
      "Drawing .\n"
     ]
    },
    {
     "data": {
      "text/html": [
       "<div class=\"zoom\"><img style='width: 100px; height: 100px; margin: 1px; float: left; border: 0px solid black;'title=['.'] src='dataset_birds\\valid\\HORNED GUAN\\1.jpg'/></div><div class=\"zoom\"><img style='width: 100px; height: 100px; margin: 1px; float: left; border: 0px solid black;'title=['.'] src='dataset_birds\\valid\\HORNED GUAN\\2.jpg'/></div><div class=\"zoom\"><img style='width: 100px; height: 100px; margin: 1px; float: left; border: 0px solid black;'title=['.'] src='dataset_birds\\valid\\HORNED GUAN\\3.jpg'/></div><div class=\"zoom\"><img style='width: 100px; height: 100px; margin: 1px; float: left; border: 0px solid black;'title=['.'] src='dataset_birds\\valid\\HORNED GUAN\\4.jpg'/></div><div class=\"zoom\"><img style='width: 100px; height: 100px; margin: 1px; float: left; border: 0px solid black;'title=['.'] src='dataset_birds\\valid\\HORNED GUAN\\5.jpg'/></div>"
      ],
      "text/plain": [
       "<IPython.core.display.HTML object>"
      ]
     },
     "metadata": {},
     "output_type": "display_data"
    },
    {
     "name": "stdout",
     "output_type": "stream",
     "text": [
      "Drawing .\n"
     ]
    },
    {
     "data": {
      "text/html": [
       "<div class=\"zoom\"><img style='width: 100px; height: 100px; margin: 1px; float: left; border: 0px solid black;'title=['.'] src='dataset_birds\\valid\\HORNED LARK\\1.jpg'/></div><div class=\"zoom\"><img style='width: 100px; height: 100px; margin: 1px; float: left; border: 0px solid black;'title=['.'] src='dataset_birds\\valid\\HORNED LARK\\2.jpg'/></div><div class=\"zoom\"><img style='width: 100px; height: 100px; margin: 1px; float: left; border: 0px solid black;'title=['.'] src='dataset_birds\\valid\\HORNED LARK\\3.jpg'/></div><div class=\"zoom\"><img style='width: 100px; height: 100px; margin: 1px; float: left; border: 0px solid black;'title=['.'] src='dataset_birds\\valid\\HORNED LARK\\4.jpg'/></div><div class=\"zoom\"><img style='width: 100px; height: 100px; margin: 1px; float: left; border: 0px solid black;'title=['.'] src='dataset_birds\\valid\\HORNED LARK\\5.jpg'/></div>"
      ],
      "text/plain": [
       "<IPython.core.display.HTML object>"
      ]
     },
     "metadata": {},
     "output_type": "display_data"
    },
    {
     "name": "stdout",
     "output_type": "stream",
     "text": [
      "Drawing .\n"
     ]
    },
    {
     "data": {
      "text/html": [
       "<div class=\"zoom\"><img style='width: 100px; height: 100px; margin: 1px; float: left; border: 0px solid black;'title=['.'] src='dataset_birds\\valid\\HORNED SUNGEM\\1.jpg'/></div><div class=\"zoom\"><img style='width: 100px; height: 100px; margin: 1px; float: left; border: 0px solid black;'title=['.'] src='dataset_birds\\valid\\HORNED SUNGEM\\2.jpg'/></div><div class=\"zoom\"><img style='width: 100px; height: 100px; margin: 1px; float: left; border: 0px solid black;'title=['.'] src='dataset_birds\\valid\\HORNED SUNGEM\\3.jpg'/></div><div class=\"zoom\"><img style='width: 100px; height: 100px; margin: 1px; float: left; border: 0px solid black;'title=['.'] src='dataset_birds\\valid\\HORNED SUNGEM\\4.jpg'/></div><div class=\"zoom\"><img style='width: 100px; height: 100px; margin: 1px; float: left; border: 0px solid black;'title=['.'] src='dataset_birds\\valid\\HORNED SUNGEM\\5.jpg'/></div>"
      ],
      "text/plain": [
       "<IPython.core.display.HTML object>"
      ]
     },
     "metadata": {},
     "output_type": "display_data"
    },
    {
     "name": "stdout",
     "output_type": "stream",
     "text": [
      "Drawing .\n"
     ]
    },
    {
     "data": {
      "text/html": [
       "<div class=\"zoom\"><img style='width: 100px; height: 100px; margin: 1px; float: left; border: 0px solid black;'title=['.'] src='dataset_birds\\valid\\HOUSE FINCH\\1.jpg'/></div><div class=\"zoom\"><img style='width: 100px; height: 100px; margin: 1px; float: left; border: 0px solid black;'title=['.'] src='dataset_birds\\valid\\HOUSE FINCH\\2.jpg'/></div><div class=\"zoom\"><img style='width: 100px; height: 100px; margin: 1px; float: left; border: 0px solid black;'title=['.'] src='dataset_birds\\valid\\HOUSE FINCH\\3.jpg'/></div><div class=\"zoom\"><img style='width: 100px; height: 100px; margin: 1px; float: left; border: 0px solid black;'title=['.'] src='dataset_birds\\valid\\HOUSE FINCH\\4.jpg'/></div><div class=\"zoom\"><img style='width: 100px; height: 100px; margin: 1px; float: left; border: 0px solid black;'title=['.'] src='dataset_birds\\valid\\HOUSE FINCH\\5.jpg'/></div>"
      ],
      "text/plain": [
       "<IPython.core.display.HTML object>"
      ]
     },
     "metadata": {},
     "output_type": "display_data"
    },
    {
     "name": "stdout",
     "output_type": "stream",
     "text": [
      "Drawing .\n"
     ]
    },
    {
     "data": {
      "text/html": [
       "<div class=\"zoom\"><img style='width: 100px; height: 100px; margin: 1px; float: left; border: 0px solid black;'title=['.'] src='dataset_birds\\valid\\HOUSE SPARROW\\1.jpg'/></div><div class=\"zoom\"><img style='width: 100px; height: 100px; margin: 1px; float: left; border: 0px solid black;'title=['.'] src='dataset_birds\\valid\\HOUSE SPARROW\\2.jpg'/></div><div class=\"zoom\"><img style='width: 100px; height: 100px; margin: 1px; float: left; border: 0px solid black;'title=['.'] src='dataset_birds\\valid\\HOUSE SPARROW\\3.jpg'/></div><div class=\"zoom\"><img style='width: 100px; height: 100px; margin: 1px; float: left; border: 0px solid black;'title=['.'] src='dataset_birds\\valid\\HOUSE SPARROW\\4.jpg'/></div><div class=\"zoom\"><img style='width: 100px; height: 100px; margin: 1px; float: left; border: 0px solid black;'title=['.'] src='dataset_birds\\valid\\HOUSE SPARROW\\5.jpg'/></div>"
      ],
      "text/plain": [
       "<IPython.core.display.HTML object>"
      ]
     },
     "metadata": {},
     "output_type": "display_data"
    },
    {
     "name": "stdout",
     "output_type": "stream",
     "text": [
      "Drawing .\n"
     ]
    },
    {
     "data": {
      "text/html": [
       "<div class=\"zoom\"><img style='width: 100px; height: 100px; margin: 1px; float: left; border: 0px solid black;'title=['.'] src='dataset_birds\\valid\\HYACINTH MACAW\\1.jpg'/></div><div class=\"zoom\"><img style='width: 100px; height: 100px; margin: 1px; float: left; border: 0px solid black;'title=['.'] src='dataset_birds\\valid\\HYACINTH MACAW\\2.jpg'/></div><div class=\"zoom\"><img style='width: 100px; height: 100px; margin: 1px; float: left; border: 0px solid black;'title=['.'] src='dataset_birds\\valid\\HYACINTH MACAW\\3.jpg'/></div><div class=\"zoom\"><img style='width: 100px; height: 100px; margin: 1px; float: left; border: 0px solid black;'title=['.'] src='dataset_birds\\valid\\HYACINTH MACAW\\4.jpg'/></div><div class=\"zoom\"><img style='width: 100px; height: 100px; margin: 1px; float: left; border: 0px solid black;'title=['.'] src='dataset_birds\\valid\\HYACINTH MACAW\\5.jpg'/></div>"
      ],
      "text/plain": [
       "<IPython.core.display.HTML object>"
      ]
     },
     "metadata": {},
     "output_type": "display_data"
    },
    {
     "name": "stdout",
     "output_type": "stream",
     "text": [
      "Drawing .\n"
     ]
    },
    {
     "data": {
      "text/html": [
       "<div class=\"zoom\"><img style='width: 100px; height: 100px; margin: 1px; float: left; border: 0px solid black;'title=['.'] src='dataset_birds\\valid\\IBERIAN MAGPIE\\1.jpg'/></div><div class=\"zoom\"><img style='width: 100px; height: 100px; margin: 1px; float: left; border: 0px solid black;'title=['.'] src='dataset_birds\\valid\\IBERIAN MAGPIE\\2.jpg'/></div><div class=\"zoom\"><img style='width: 100px; height: 100px; margin: 1px; float: left; border: 0px solid black;'title=['.'] src='dataset_birds\\valid\\IBERIAN MAGPIE\\3.jpg'/></div><div class=\"zoom\"><img style='width: 100px; height: 100px; margin: 1px; float: left; border: 0px solid black;'title=['.'] src='dataset_birds\\valid\\IBERIAN MAGPIE\\4.jpg'/></div><div class=\"zoom\"><img style='width: 100px; height: 100px; margin: 1px; float: left; border: 0px solid black;'title=['.'] src='dataset_birds\\valid\\IBERIAN MAGPIE\\5.jpg'/></div>"
      ],
      "text/plain": [
       "<IPython.core.display.HTML object>"
      ]
     },
     "metadata": {},
     "output_type": "display_data"
    },
    {
     "name": "stdout",
     "output_type": "stream",
     "text": [
      "Drawing .\n"
     ]
    },
    {
     "data": {
      "text/html": [
       "<div class=\"zoom\"><img style='width: 100px; height: 100px; margin: 1px; float: left; border: 0px solid black;'title=['.'] src='dataset_birds\\valid\\IBISBILL\\1.jpg'/></div><div class=\"zoom\"><img style='width: 100px; height: 100px; margin: 1px; float: left; border: 0px solid black;'title=['.'] src='dataset_birds\\valid\\IBISBILL\\2.jpg'/></div><div class=\"zoom\"><img style='width: 100px; height: 100px; margin: 1px; float: left; border: 0px solid black;'title=['.'] src='dataset_birds\\valid\\IBISBILL\\3.jpg'/></div><div class=\"zoom\"><img style='width: 100px; height: 100px; margin: 1px; float: left; border: 0px solid black;'title=['.'] src='dataset_birds\\valid\\IBISBILL\\4.jpg'/></div><div class=\"zoom\"><img style='width: 100px; height: 100px; margin: 1px; float: left; border: 0px solid black;'title=['.'] src='dataset_birds\\valid\\IBISBILL\\5.jpg'/></div>"
      ],
      "text/plain": [
       "<IPython.core.display.HTML object>"
      ]
     },
     "metadata": {},
     "output_type": "display_data"
    },
    {
     "name": "stdout",
     "output_type": "stream",
     "text": [
      "Drawing .\n"
     ]
    },
    {
     "data": {
      "text/html": [
       "<div class=\"zoom\"><img style='width: 100px; height: 100px; margin: 1px; float: left; border: 0px solid black;'title=['.'] src='dataset_birds\\valid\\IMPERIAL SHAQ\\1.jpg'/></div><div class=\"zoom\"><img style='width: 100px; height: 100px; margin: 1px; float: left; border: 0px solid black;'title=['.'] src='dataset_birds\\valid\\IMPERIAL SHAQ\\2.jpg'/></div><div class=\"zoom\"><img style='width: 100px; height: 100px; margin: 1px; float: left; border: 0px solid black;'title=['.'] src='dataset_birds\\valid\\IMPERIAL SHAQ\\3.jpg'/></div><div class=\"zoom\"><img style='width: 100px; height: 100px; margin: 1px; float: left; border: 0px solid black;'title=['.'] src='dataset_birds\\valid\\IMPERIAL SHAQ\\4.jpg'/></div><div class=\"zoom\"><img style='width: 100px; height: 100px; margin: 1px; float: left; border: 0px solid black;'title=['.'] src='dataset_birds\\valid\\IMPERIAL SHAQ\\5.jpg'/></div>"
      ],
      "text/plain": [
       "<IPython.core.display.HTML object>"
      ]
     },
     "metadata": {},
     "output_type": "display_data"
    },
    {
     "name": "stdout",
     "output_type": "stream",
     "text": [
      "Drawing .\n"
     ]
    },
    {
     "data": {
      "text/html": [
       "<div class=\"zoom\"><img style='width: 100px; height: 100px; margin: 1px; float: left; border: 0px solid black;'title=['.'] src='dataset_birds\\valid\\INCA TERN\\1.jpg'/></div><div class=\"zoom\"><img style='width: 100px; height: 100px; margin: 1px; float: left; border: 0px solid black;'title=['.'] src='dataset_birds\\valid\\INCA TERN\\2.jpg'/></div><div class=\"zoom\"><img style='width: 100px; height: 100px; margin: 1px; float: left; border: 0px solid black;'title=['.'] src='dataset_birds\\valid\\INCA TERN\\3.jpg'/></div><div class=\"zoom\"><img style='width: 100px; height: 100px; margin: 1px; float: left; border: 0px solid black;'title=['.'] src='dataset_birds\\valid\\INCA TERN\\4.jpg'/></div><div class=\"zoom\"><img style='width: 100px; height: 100px; margin: 1px; float: left; border: 0px solid black;'title=['.'] src='dataset_birds\\valid\\INCA TERN\\5.jpg'/></div>"
      ],
      "text/plain": [
       "<IPython.core.display.HTML object>"
      ]
     },
     "metadata": {},
     "output_type": "display_data"
    },
    {
     "name": "stdout",
     "output_type": "stream",
     "text": [
      "Drawing .\n"
     ]
    },
    {
     "data": {
      "text/html": [
       "<div class=\"zoom\"><img style='width: 100px; height: 100px; margin: 1px; float: left; border: 0px solid black;'title=['.'] src='dataset_birds\\valid\\INDIAN BUSTARD\\1.jpg'/></div><div class=\"zoom\"><img style='width: 100px; height: 100px; margin: 1px; float: left; border: 0px solid black;'title=['.'] src='dataset_birds\\valid\\INDIAN BUSTARD\\2.jpg'/></div><div class=\"zoom\"><img style='width: 100px; height: 100px; margin: 1px; float: left; border: 0px solid black;'title=['.'] src='dataset_birds\\valid\\INDIAN BUSTARD\\3.jpg'/></div><div class=\"zoom\"><img style='width: 100px; height: 100px; margin: 1px; float: left; border: 0px solid black;'title=['.'] src='dataset_birds\\valid\\INDIAN BUSTARD\\4.jpg'/></div><div class=\"zoom\"><img style='width: 100px; height: 100px; margin: 1px; float: left; border: 0px solid black;'title=['.'] src='dataset_birds\\valid\\INDIAN BUSTARD\\5.jpg'/></div>"
      ],
      "text/plain": [
       "<IPython.core.display.HTML object>"
      ]
     },
     "metadata": {},
     "output_type": "display_data"
    },
    {
     "name": "stdout",
     "output_type": "stream",
     "text": [
      "Drawing .\n"
     ]
    },
    {
     "data": {
      "text/html": [
       "<div class=\"zoom\"><img style='width: 100px; height: 100px; margin: 1px; float: left; border: 0px solid black;'title=['.'] src='dataset_birds\\valid\\INDIAN PITTA\\1.jpg'/></div><div class=\"zoom\"><img style='width: 100px; height: 100px; margin: 1px; float: left; border: 0px solid black;'title=['.'] src='dataset_birds\\valid\\INDIAN PITTA\\2.jpg'/></div><div class=\"zoom\"><img style='width: 100px; height: 100px; margin: 1px; float: left; border: 0px solid black;'title=['.'] src='dataset_birds\\valid\\INDIAN PITTA\\3.jpg'/></div><div class=\"zoom\"><img style='width: 100px; height: 100px; margin: 1px; float: left; border: 0px solid black;'title=['.'] src='dataset_birds\\valid\\INDIAN PITTA\\4.jpg'/></div><div class=\"zoom\"><img style='width: 100px; height: 100px; margin: 1px; float: left; border: 0px solid black;'title=['.'] src='dataset_birds\\valid\\INDIAN PITTA\\5.jpg'/></div>"
      ],
      "text/plain": [
       "<IPython.core.display.HTML object>"
      ]
     },
     "metadata": {},
     "output_type": "display_data"
    },
    {
     "name": "stdout",
     "output_type": "stream",
     "text": [
      "Drawing .\n"
     ]
    },
    {
     "data": {
      "text/html": [
       "<div class=\"zoom\"><img style='width: 100px; height: 100px; margin: 1px; float: left; border: 0px solid black;'title=['.'] src='dataset_birds\\valid\\INDIAN ROLLER\\1.jpg'/></div><div class=\"zoom\"><img style='width: 100px; height: 100px; margin: 1px; float: left; border: 0px solid black;'title=['.'] src='dataset_birds\\valid\\INDIAN ROLLER\\2.jpg'/></div><div class=\"zoom\"><img style='width: 100px; height: 100px; margin: 1px; float: left; border: 0px solid black;'title=['.'] src='dataset_birds\\valid\\INDIAN ROLLER\\3.jpg'/></div><div class=\"zoom\"><img style='width: 100px; height: 100px; margin: 1px; float: left; border: 0px solid black;'title=['.'] src='dataset_birds\\valid\\INDIAN ROLLER\\4.jpg'/></div><div class=\"zoom\"><img style='width: 100px; height: 100px; margin: 1px; float: left; border: 0px solid black;'title=['.'] src='dataset_birds\\valid\\INDIAN ROLLER\\5.jpg'/></div>"
      ],
      "text/plain": [
       "<IPython.core.display.HTML object>"
      ]
     },
     "metadata": {},
     "output_type": "display_data"
    },
    {
     "name": "stdout",
     "output_type": "stream",
     "text": [
      "Drawing .\n"
     ]
    },
    {
     "data": {
      "text/html": [
       "<div class=\"zoom\"><img style='width: 100px; height: 100px; margin: 1px; float: left; border: 0px solid black;'title=['.'] src='dataset_birds\\valid\\INDIAN VULTURE\\1.jpg'/></div><div class=\"zoom\"><img style='width: 100px; height: 100px; margin: 1px; float: left; border: 0px solid black;'title=['.'] src='dataset_birds\\valid\\INDIAN VULTURE\\2.jpg'/></div><div class=\"zoom\"><img style='width: 100px; height: 100px; margin: 1px; float: left; border: 0px solid black;'title=['.'] src='dataset_birds\\valid\\INDIAN VULTURE\\3.jpg'/></div><div class=\"zoom\"><img style='width: 100px; height: 100px; margin: 1px; float: left; border: 0px solid black;'title=['.'] src='dataset_birds\\valid\\INDIAN VULTURE\\4.jpg'/></div><div class=\"zoom\"><img style='width: 100px; height: 100px; margin: 1px; float: left; border: 0px solid black;'title=['.'] src='dataset_birds\\valid\\INDIAN VULTURE\\5.jpg'/></div>"
      ],
      "text/plain": [
       "<IPython.core.display.HTML object>"
      ]
     },
     "metadata": {},
     "output_type": "display_data"
    },
    {
     "name": "stdout",
     "output_type": "stream",
     "text": [
      "Drawing .\n"
     ]
    },
    {
     "data": {
      "text/html": [
       "<div class=\"zoom\"><img style='width: 100px; height: 100px; margin: 1px; float: left; border: 0px solid black;'title=['.'] src='dataset_birds\\valid\\INDIGO BUNTING\\1.jpg'/></div><div class=\"zoom\"><img style='width: 100px; height: 100px; margin: 1px; float: left; border: 0px solid black;'title=['.'] src='dataset_birds\\valid\\INDIGO BUNTING\\2.jpg'/></div><div class=\"zoom\"><img style='width: 100px; height: 100px; margin: 1px; float: left; border: 0px solid black;'title=['.'] src='dataset_birds\\valid\\INDIGO BUNTING\\3.jpg'/></div><div class=\"zoom\"><img style='width: 100px; height: 100px; margin: 1px; float: left; border: 0px solid black;'title=['.'] src='dataset_birds\\valid\\INDIGO BUNTING\\4.jpg'/></div><div class=\"zoom\"><img style='width: 100px; height: 100px; margin: 1px; float: left; border: 0px solid black;'title=['.'] src='dataset_birds\\valid\\INDIGO BUNTING\\5.jpg'/></div>"
      ],
      "text/plain": [
       "<IPython.core.display.HTML object>"
      ]
     },
     "metadata": {},
     "output_type": "display_data"
    },
    {
     "name": "stdout",
     "output_type": "stream",
     "text": [
      "Drawing .\n"
     ]
    },
    {
     "data": {
      "text/html": [
       "<div class=\"zoom\"><img style='width: 100px; height: 100px; margin: 1px; float: left; border: 0px solid black;'title=['.'] src='dataset_birds\\valid\\INDIGO FLYCATCHER\\1.jpg'/></div><div class=\"zoom\"><img style='width: 100px; height: 100px; margin: 1px; float: left; border: 0px solid black;'title=['.'] src='dataset_birds\\valid\\INDIGO FLYCATCHER\\2.jpg'/></div><div class=\"zoom\"><img style='width: 100px; height: 100px; margin: 1px; float: left; border: 0px solid black;'title=['.'] src='dataset_birds\\valid\\INDIGO FLYCATCHER\\3.jpg'/></div><div class=\"zoom\"><img style='width: 100px; height: 100px; margin: 1px; float: left; border: 0px solid black;'title=['.'] src='dataset_birds\\valid\\INDIGO FLYCATCHER\\4.jpg'/></div><div class=\"zoom\"><img style='width: 100px; height: 100px; margin: 1px; float: left; border: 0px solid black;'title=['.'] src='dataset_birds\\valid\\INDIGO FLYCATCHER\\5.jpg'/></div>"
      ],
      "text/plain": [
       "<IPython.core.display.HTML object>"
      ]
     },
     "metadata": {},
     "output_type": "display_data"
    },
    {
     "name": "stdout",
     "output_type": "stream",
     "text": [
      "Drawing .\n"
     ]
    },
    {
     "data": {
      "text/html": [
       "<div class=\"zoom\"><img style='width: 100px; height: 100px; margin: 1px; float: left; border: 0px solid black;'title=['.'] src='dataset_birds\\valid\\INLAND DOTTEREL\\1.jpg'/></div><div class=\"zoom\"><img style='width: 100px; height: 100px; margin: 1px; float: left; border: 0px solid black;'title=['.'] src='dataset_birds\\valid\\INLAND DOTTEREL\\2.jpg'/></div><div class=\"zoom\"><img style='width: 100px; height: 100px; margin: 1px; float: left; border: 0px solid black;'title=['.'] src='dataset_birds\\valid\\INLAND DOTTEREL\\3.jpg'/></div><div class=\"zoom\"><img style='width: 100px; height: 100px; margin: 1px; float: left; border: 0px solid black;'title=['.'] src='dataset_birds\\valid\\INLAND DOTTEREL\\4.jpg'/></div><div class=\"zoom\"><img style='width: 100px; height: 100px; margin: 1px; float: left; border: 0px solid black;'title=['.'] src='dataset_birds\\valid\\INLAND DOTTEREL\\5.jpg'/></div>"
      ],
      "text/plain": [
       "<IPython.core.display.HTML object>"
      ]
     },
     "metadata": {},
     "output_type": "display_data"
    },
    {
     "name": "stdout",
     "output_type": "stream",
     "text": [
      "Drawing .\n"
     ]
    },
    {
     "data": {
      "text/html": [
       "<div class=\"zoom\"><img style='width: 100px; height: 100px; margin: 1px; float: left; border: 0px solid black;'title=['.'] src='dataset_birds\\valid\\IVORY BILLED ARACARI\\1.jpg'/></div><div class=\"zoom\"><img style='width: 100px; height: 100px; margin: 1px; float: left; border: 0px solid black;'title=['.'] src='dataset_birds\\valid\\IVORY BILLED ARACARI\\2.jpg'/></div><div class=\"zoom\"><img style='width: 100px; height: 100px; margin: 1px; float: left; border: 0px solid black;'title=['.'] src='dataset_birds\\valid\\IVORY BILLED ARACARI\\3.jpg'/></div><div class=\"zoom\"><img style='width: 100px; height: 100px; margin: 1px; float: left; border: 0px solid black;'title=['.'] src='dataset_birds\\valid\\IVORY BILLED ARACARI\\4.jpg'/></div><div class=\"zoom\"><img style='width: 100px; height: 100px; margin: 1px; float: left; border: 0px solid black;'title=['.'] src='dataset_birds\\valid\\IVORY BILLED ARACARI\\5.jpg'/></div>"
      ],
      "text/plain": [
       "<IPython.core.display.HTML object>"
      ]
     },
     "metadata": {},
     "output_type": "display_data"
    },
    {
     "name": "stdout",
     "output_type": "stream",
     "text": [
      "Drawing .\n"
     ]
    },
    {
     "data": {
      "text/html": [
       "<div class=\"zoom\"><img style='width: 100px; height: 100px; margin: 1px; float: left; border: 0px solid black;'title=['.'] src='dataset_birds\\valid\\IVORY GULL\\1.jpg'/></div><div class=\"zoom\"><img style='width: 100px; height: 100px; margin: 1px; float: left; border: 0px solid black;'title=['.'] src='dataset_birds\\valid\\IVORY GULL\\2.jpg'/></div><div class=\"zoom\"><img style='width: 100px; height: 100px; margin: 1px; float: left; border: 0px solid black;'title=['.'] src='dataset_birds\\valid\\IVORY GULL\\3.jpg'/></div><div class=\"zoom\"><img style='width: 100px; height: 100px; margin: 1px; float: left; border: 0px solid black;'title=['.'] src='dataset_birds\\valid\\IVORY GULL\\4.jpg'/></div><div class=\"zoom\"><img style='width: 100px; height: 100px; margin: 1px; float: left; border: 0px solid black;'title=['.'] src='dataset_birds\\valid\\IVORY GULL\\5.jpg'/></div>"
      ],
      "text/plain": [
       "<IPython.core.display.HTML object>"
      ]
     },
     "metadata": {},
     "output_type": "display_data"
    },
    {
     "name": "stdout",
     "output_type": "stream",
     "text": [
      "Drawing .\n"
     ]
    },
    {
     "data": {
      "text/html": [
       "<div class=\"zoom\"><img style='width: 100px; height: 100px; margin: 1px; float: left; border: 0px solid black;'title=['.'] src='dataset_birds\\valid\\IWI\\1.jpg'/></div><div class=\"zoom\"><img style='width: 100px; height: 100px; margin: 1px; float: left; border: 0px solid black;'title=['.'] src='dataset_birds\\valid\\IWI\\2.jpg'/></div><div class=\"zoom\"><img style='width: 100px; height: 100px; margin: 1px; float: left; border: 0px solid black;'title=['.'] src='dataset_birds\\valid\\IWI\\3.jpg'/></div><div class=\"zoom\"><img style='width: 100px; height: 100px; margin: 1px; float: left; border: 0px solid black;'title=['.'] src='dataset_birds\\valid\\IWI\\4.jpg'/></div><div class=\"zoom\"><img style='width: 100px; height: 100px; margin: 1px; float: left; border: 0px solid black;'title=['.'] src='dataset_birds\\valid\\IWI\\5.jpg'/></div>"
      ],
      "text/plain": [
       "<IPython.core.display.HTML object>"
      ]
     },
     "metadata": {},
     "output_type": "display_data"
    },
    {
     "name": "stdout",
     "output_type": "stream",
     "text": [
      "Drawing .\n"
     ]
    },
    {
     "data": {
      "text/html": [
       "<div class=\"zoom\"><img style='width: 100px; height: 100px; margin: 1px; float: left; border: 0px solid black;'title=['.'] src='dataset_birds\\valid\\JABIRU\\1.jpg'/></div><div class=\"zoom\"><img style='width: 100px; height: 100px; margin: 1px; float: left; border: 0px solid black;'title=['.'] src='dataset_birds\\valid\\JABIRU\\2.jpg'/></div><div class=\"zoom\"><img style='width: 100px; height: 100px; margin: 1px; float: left; border: 0px solid black;'title=['.'] src='dataset_birds\\valid\\JABIRU\\3.jpg'/></div><div class=\"zoom\"><img style='width: 100px; height: 100px; margin: 1px; float: left; border: 0px solid black;'title=['.'] src='dataset_birds\\valid\\JABIRU\\4.jpg'/></div><div class=\"zoom\"><img style='width: 100px; height: 100px; margin: 1px; float: left; border: 0px solid black;'title=['.'] src='dataset_birds\\valid\\JABIRU\\5.jpg'/></div>"
      ],
      "text/plain": [
       "<IPython.core.display.HTML object>"
      ]
     },
     "metadata": {},
     "output_type": "display_data"
    },
    {
     "name": "stdout",
     "output_type": "stream",
     "text": [
      "Drawing .\n"
     ]
    },
    {
     "data": {
      "text/html": [
       "<div class=\"zoom\"><img style='width: 100px; height: 100px; margin: 1px; float: left; border: 0px solid black;'title=['.'] src='dataset_birds\\valid\\JACK SNIPE\\1.jpg'/></div><div class=\"zoom\"><img style='width: 100px; height: 100px; margin: 1px; float: left; border: 0px solid black;'title=['.'] src='dataset_birds\\valid\\JACK SNIPE\\2.jpg'/></div><div class=\"zoom\"><img style='width: 100px; height: 100px; margin: 1px; float: left; border: 0px solid black;'title=['.'] src='dataset_birds\\valid\\JACK SNIPE\\3.jpg'/></div><div class=\"zoom\"><img style='width: 100px; height: 100px; margin: 1px; float: left; border: 0px solid black;'title=['.'] src='dataset_birds\\valid\\JACK SNIPE\\4.jpg'/></div><div class=\"zoom\"><img style='width: 100px; height: 100px; margin: 1px; float: left; border: 0px solid black;'title=['.'] src='dataset_birds\\valid\\JACK SNIPE\\5.jpg'/></div>"
      ],
      "text/plain": [
       "<IPython.core.display.HTML object>"
      ]
     },
     "metadata": {},
     "output_type": "display_data"
    },
    {
     "name": "stdout",
     "output_type": "stream",
     "text": [
      "Drawing .\n"
     ]
    },
    {
     "data": {
      "text/html": [
       "<div class=\"zoom\"><img style='width: 100px; height: 100px; margin: 1px; float: left; border: 0px solid black;'title=['.'] src='dataset_birds\\valid\\JACOBIN PIGEON\\1.jpg'/></div><div class=\"zoom\"><img style='width: 100px; height: 100px; margin: 1px; float: left; border: 0px solid black;'title=['.'] src='dataset_birds\\valid\\JACOBIN PIGEON\\2.jpg'/></div><div class=\"zoom\"><img style='width: 100px; height: 100px; margin: 1px; float: left; border: 0px solid black;'title=['.'] src='dataset_birds\\valid\\JACOBIN PIGEON\\3.jpg'/></div><div class=\"zoom\"><img style='width: 100px; height: 100px; margin: 1px; float: left; border: 0px solid black;'title=['.'] src='dataset_birds\\valid\\JACOBIN PIGEON\\4.jpg'/></div><div class=\"zoom\"><img style='width: 100px; height: 100px; margin: 1px; float: left; border: 0px solid black;'title=['.'] src='dataset_birds\\valid\\JACOBIN PIGEON\\5.jpg'/></div>"
      ],
      "text/plain": [
       "<IPython.core.display.HTML object>"
      ]
     },
     "metadata": {},
     "output_type": "display_data"
    },
    {
     "name": "stdout",
     "output_type": "stream",
     "text": [
      "Drawing .\n"
     ]
    },
    {
     "data": {
      "text/html": [
       "<div class=\"zoom\"><img style='width: 100px; height: 100px; margin: 1px; float: left; border: 0px solid black;'title=['.'] src='dataset_birds\\valid\\JANDAYA PARAKEET\\1.jpg'/></div><div class=\"zoom\"><img style='width: 100px; height: 100px; margin: 1px; float: left; border: 0px solid black;'title=['.'] src='dataset_birds\\valid\\JANDAYA PARAKEET\\2.jpg'/></div><div class=\"zoom\"><img style='width: 100px; height: 100px; margin: 1px; float: left; border: 0px solid black;'title=['.'] src='dataset_birds\\valid\\JANDAYA PARAKEET\\3.jpg'/></div><div class=\"zoom\"><img style='width: 100px; height: 100px; margin: 1px; float: left; border: 0px solid black;'title=['.'] src='dataset_birds\\valid\\JANDAYA PARAKEET\\4.jpg'/></div><div class=\"zoom\"><img style='width: 100px; height: 100px; margin: 1px; float: left; border: 0px solid black;'title=['.'] src='dataset_birds\\valid\\JANDAYA PARAKEET\\5.jpg'/></div>"
      ],
      "text/plain": [
       "<IPython.core.display.HTML object>"
      ]
     },
     "metadata": {},
     "output_type": "display_data"
    },
    {
     "name": "stdout",
     "output_type": "stream",
     "text": [
      "Drawing .\n"
     ]
    },
    {
     "data": {
      "text/html": [
       "<div class=\"zoom\"><img style='width: 100px; height: 100px; margin: 1px; float: left; border: 0px solid black;'title=['.'] src='dataset_birds\\valid\\JAPANESE ROBIN\\1.jpg'/></div><div class=\"zoom\"><img style='width: 100px; height: 100px; margin: 1px; float: left; border: 0px solid black;'title=['.'] src='dataset_birds\\valid\\JAPANESE ROBIN\\2.jpg'/></div><div class=\"zoom\"><img style='width: 100px; height: 100px; margin: 1px; float: left; border: 0px solid black;'title=['.'] src='dataset_birds\\valid\\JAPANESE ROBIN\\3.jpg'/></div><div class=\"zoom\"><img style='width: 100px; height: 100px; margin: 1px; float: left; border: 0px solid black;'title=['.'] src='dataset_birds\\valid\\JAPANESE ROBIN\\4.jpg'/></div><div class=\"zoom\"><img style='width: 100px; height: 100px; margin: 1px; float: left; border: 0px solid black;'title=['.'] src='dataset_birds\\valid\\JAPANESE ROBIN\\5.jpg'/></div>"
      ],
      "text/plain": [
       "<IPython.core.display.HTML object>"
      ]
     },
     "metadata": {},
     "output_type": "display_data"
    },
    {
     "name": "stdout",
     "output_type": "stream",
     "text": [
      "Drawing .\n"
     ]
    },
    {
     "data": {
      "text/html": [
       "<div class=\"zoom\"><img style='width: 100px; height: 100px; margin: 1px; float: left; border: 0px solid black;'title=['.'] src='dataset_birds\\valid\\JAVA SPARROW\\1.jpg'/></div><div class=\"zoom\"><img style='width: 100px; height: 100px; margin: 1px; float: left; border: 0px solid black;'title=['.'] src='dataset_birds\\valid\\JAVA SPARROW\\2.jpg'/></div><div class=\"zoom\"><img style='width: 100px; height: 100px; margin: 1px; float: left; border: 0px solid black;'title=['.'] src='dataset_birds\\valid\\JAVA SPARROW\\3.jpg'/></div><div class=\"zoom\"><img style='width: 100px; height: 100px; margin: 1px; float: left; border: 0px solid black;'title=['.'] src='dataset_birds\\valid\\JAVA SPARROW\\4.jpg'/></div><div class=\"zoom\"><img style='width: 100px; height: 100px; margin: 1px; float: left; border: 0px solid black;'title=['.'] src='dataset_birds\\valid\\JAVA SPARROW\\5.jpg'/></div>"
      ],
      "text/plain": [
       "<IPython.core.display.HTML object>"
      ]
     },
     "metadata": {},
     "output_type": "display_data"
    },
    {
     "name": "stdout",
     "output_type": "stream",
     "text": [
      "Drawing .\n"
     ]
    },
    {
     "data": {
      "text/html": [
       "<div class=\"zoom\"><img style='width: 100px; height: 100px; margin: 1px; float: left; border: 0px solid black;'title=['.'] src='dataset_birds\\valid\\JOCOTOCO ANTPITTA\\1.jpg'/></div><div class=\"zoom\"><img style='width: 100px; height: 100px; margin: 1px; float: left; border: 0px solid black;'title=['.'] src='dataset_birds\\valid\\JOCOTOCO ANTPITTA\\2.jpg'/></div><div class=\"zoom\"><img style='width: 100px; height: 100px; margin: 1px; float: left; border: 0px solid black;'title=['.'] src='dataset_birds\\valid\\JOCOTOCO ANTPITTA\\3.jpg'/></div><div class=\"zoom\"><img style='width: 100px; height: 100px; margin: 1px; float: left; border: 0px solid black;'title=['.'] src='dataset_birds\\valid\\JOCOTOCO ANTPITTA\\4.jpg'/></div><div class=\"zoom\"><img style='width: 100px; height: 100px; margin: 1px; float: left; border: 0px solid black;'title=['.'] src='dataset_birds\\valid\\JOCOTOCO ANTPITTA\\5.jpg'/></div>"
      ],
      "text/plain": [
       "<IPython.core.display.HTML object>"
      ]
     },
     "metadata": {},
     "output_type": "display_data"
    },
    {
     "name": "stdout",
     "output_type": "stream",
     "text": [
      "Drawing .\n"
     ]
    },
    {
     "data": {
      "text/html": [
       "<div class=\"zoom\"><img style='width: 100px; height: 100px; margin: 1px; float: left; border: 0px solid black;'title=['.'] src='dataset_birds\\valid\\KAGU\\1.jpg'/></div><div class=\"zoom\"><img style='width: 100px; height: 100px; margin: 1px; float: left; border: 0px solid black;'title=['.'] src='dataset_birds\\valid\\KAGU\\2.jpg'/></div><div class=\"zoom\"><img style='width: 100px; height: 100px; margin: 1px; float: left; border: 0px solid black;'title=['.'] src='dataset_birds\\valid\\KAGU\\3.jpg'/></div><div class=\"zoom\"><img style='width: 100px; height: 100px; margin: 1px; float: left; border: 0px solid black;'title=['.'] src='dataset_birds\\valid\\KAGU\\4.jpg'/></div><div class=\"zoom\"><img style='width: 100px; height: 100px; margin: 1px; float: left; border: 0px solid black;'title=['.'] src='dataset_birds\\valid\\KAGU\\5.jpg'/></div>"
      ],
      "text/plain": [
       "<IPython.core.display.HTML object>"
      ]
     },
     "metadata": {},
     "output_type": "display_data"
    },
    {
     "name": "stdout",
     "output_type": "stream",
     "text": [
      "Drawing .\n"
     ]
    },
    {
     "data": {
      "text/html": [
       "<div class=\"zoom\"><img style='width: 100px; height: 100px; margin: 1px; float: left; border: 0px solid black;'title=['.'] src='dataset_birds\\valid\\KAKAPO\\1.jpg'/></div><div class=\"zoom\"><img style='width: 100px; height: 100px; margin: 1px; float: left; border: 0px solid black;'title=['.'] src='dataset_birds\\valid\\KAKAPO\\2.jpg'/></div><div class=\"zoom\"><img style='width: 100px; height: 100px; margin: 1px; float: left; border: 0px solid black;'title=['.'] src='dataset_birds\\valid\\KAKAPO\\3.jpg'/></div><div class=\"zoom\"><img style='width: 100px; height: 100px; margin: 1px; float: left; border: 0px solid black;'title=['.'] src='dataset_birds\\valid\\KAKAPO\\4.jpg'/></div><div class=\"zoom\"><img style='width: 100px; height: 100px; margin: 1px; float: left; border: 0px solid black;'title=['.'] src='dataset_birds\\valid\\KAKAPO\\5.jpg'/></div>"
      ],
      "text/plain": [
       "<IPython.core.display.HTML object>"
      ]
     },
     "metadata": {},
     "output_type": "display_data"
    },
    {
     "name": "stdout",
     "output_type": "stream",
     "text": [
      "Drawing .\n"
     ]
    },
    {
     "data": {
      "text/html": [
       "<div class=\"zoom\"><img style='width: 100px; height: 100px; margin: 1px; float: left; border: 0px solid black;'title=['.'] src='dataset_birds\\valid\\KILLDEAR\\1.jpg'/></div><div class=\"zoom\"><img style='width: 100px; height: 100px; margin: 1px; float: left; border: 0px solid black;'title=['.'] src='dataset_birds\\valid\\KILLDEAR\\2.jpg'/></div><div class=\"zoom\"><img style='width: 100px; height: 100px; margin: 1px; float: left; border: 0px solid black;'title=['.'] src='dataset_birds\\valid\\KILLDEAR\\3.jpg'/></div><div class=\"zoom\"><img style='width: 100px; height: 100px; margin: 1px; float: left; border: 0px solid black;'title=['.'] src='dataset_birds\\valid\\KILLDEAR\\4.jpg'/></div><div class=\"zoom\"><img style='width: 100px; height: 100px; margin: 1px; float: left; border: 0px solid black;'title=['.'] src='dataset_birds\\valid\\KILLDEAR\\5.jpg'/></div>"
      ],
      "text/plain": [
       "<IPython.core.display.HTML object>"
      ]
     },
     "metadata": {},
     "output_type": "display_data"
    },
    {
     "name": "stdout",
     "output_type": "stream",
     "text": [
      "Drawing .\n"
     ]
    },
    {
     "data": {
      "text/html": [
       "<div class=\"zoom\"><img style='width: 100px; height: 100px; margin: 1px; float: left; border: 0px solid black;'title=['.'] src='dataset_birds\\valid\\KING EIDER\\1.jpg'/></div><div class=\"zoom\"><img style='width: 100px; height: 100px; margin: 1px; float: left; border: 0px solid black;'title=['.'] src='dataset_birds\\valid\\KING EIDER\\2.jpg'/></div><div class=\"zoom\"><img style='width: 100px; height: 100px; margin: 1px; float: left; border: 0px solid black;'title=['.'] src='dataset_birds\\valid\\KING EIDER\\3.jpg'/></div><div class=\"zoom\"><img style='width: 100px; height: 100px; margin: 1px; float: left; border: 0px solid black;'title=['.'] src='dataset_birds\\valid\\KING EIDER\\4.jpg'/></div><div class=\"zoom\"><img style='width: 100px; height: 100px; margin: 1px; float: left; border: 0px solid black;'title=['.'] src='dataset_birds\\valid\\KING EIDER\\5.jpg'/></div>"
      ],
      "text/plain": [
       "<IPython.core.display.HTML object>"
      ]
     },
     "metadata": {},
     "output_type": "display_data"
    },
    {
     "name": "stdout",
     "output_type": "stream",
     "text": [
      "Drawing .\n"
     ]
    },
    {
     "data": {
      "text/html": [
       "<div class=\"zoom\"><img style='width: 100px; height: 100px; margin: 1px; float: left; border: 0px solid black;'title=['.'] src='dataset_birds\\valid\\KING VULTURE\\1.jpg'/></div><div class=\"zoom\"><img style='width: 100px; height: 100px; margin: 1px; float: left; border: 0px solid black;'title=['.'] src='dataset_birds\\valid\\KING VULTURE\\2.jpg'/></div><div class=\"zoom\"><img style='width: 100px; height: 100px; margin: 1px; float: left; border: 0px solid black;'title=['.'] src='dataset_birds\\valid\\KING VULTURE\\3.jpg'/></div><div class=\"zoom\"><img style='width: 100px; height: 100px; margin: 1px; float: left; border: 0px solid black;'title=['.'] src='dataset_birds\\valid\\KING VULTURE\\4.jpg'/></div><div class=\"zoom\"><img style='width: 100px; height: 100px; margin: 1px; float: left; border: 0px solid black;'title=['.'] src='dataset_birds\\valid\\KING VULTURE\\5.jpg'/></div>"
      ],
      "text/plain": [
       "<IPython.core.display.HTML object>"
      ]
     },
     "metadata": {},
     "output_type": "display_data"
    },
    {
     "name": "stdout",
     "output_type": "stream",
     "text": [
      "Drawing .\n"
     ]
    },
    {
     "data": {
      "text/html": [
       "<div class=\"zoom\"><img style='width: 100px; height: 100px; margin: 1px; float: left; border: 0px solid black;'title=['.'] src='dataset_birds\\valid\\KIWI\\1.jpg'/></div><div class=\"zoom\"><img style='width: 100px; height: 100px; margin: 1px; float: left; border: 0px solid black;'title=['.'] src='dataset_birds\\valid\\KIWI\\2.jpg'/></div><div class=\"zoom\"><img style='width: 100px; height: 100px; margin: 1px; float: left; border: 0px solid black;'title=['.'] src='dataset_birds\\valid\\KIWI\\3.jpg'/></div><div class=\"zoom\"><img style='width: 100px; height: 100px; margin: 1px; float: left; border: 0px solid black;'title=['.'] src='dataset_birds\\valid\\KIWI\\4.jpg'/></div><div class=\"zoom\"><img style='width: 100px; height: 100px; margin: 1px; float: left; border: 0px solid black;'title=['.'] src='dataset_birds\\valid\\KIWI\\5.jpg'/></div>"
      ],
      "text/plain": [
       "<IPython.core.display.HTML object>"
      ]
     },
     "metadata": {},
     "output_type": "display_data"
    },
    {
     "name": "stdout",
     "output_type": "stream",
     "text": [
      "Drawing .\n"
     ]
    },
    {
     "data": {
      "text/html": [
       "<div class=\"zoom\"><img style='width: 100px; height: 100px; margin: 1px; float: left; border: 0px solid black;'title=['.'] src='dataset_birds\\valid\\KNOB BILLED DUCK\\1.jpg'/></div><div class=\"zoom\"><img style='width: 100px; height: 100px; margin: 1px; float: left; border: 0px solid black;'title=['.'] src='dataset_birds\\valid\\KNOB BILLED DUCK\\2.jpg'/></div><div class=\"zoom\"><img style='width: 100px; height: 100px; margin: 1px; float: left; border: 0px solid black;'title=['.'] src='dataset_birds\\valid\\KNOB BILLED DUCK\\3.jpg'/></div><div class=\"zoom\"><img style='width: 100px; height: 100px; margin: 1px; float: left; border: 0px solid black;'title=['.'] src='dataset_birds\\valid\\KNOB BILLED DUCK\\4.jpg'/></div><div class=\"zoom\"><img style='width: 100px; height: 100px; margin: 1px; float: left; border: 0px solid black;'title=['.'] src='dataset_birds\\valid\\KNOB BILLED DUCK\\5.jpg'/></div>"
      ],
      "text/plain": [
       "<IPython.core.display.HTML object>"
      ]
     },
     "metadata": {},
     "output_type": "display_data"
    },
    {
     "name": "stdout",
     "output_type": "stream",
     "text": [
      "Drawing .\n"
     ]
    },
    {
     "data": {
      "text/html": [
       "<div class=\"zoom\"><img style='width: 100px; height: 100px; margin: 1px; float: left; border: 0px solid black;'title=['.'] src='dataset_birds\\valid\\KOOKABURRA\\1.jpg'/></div><div class=\"zoom\"><img style='width: 100px; height: 100px; margin: 1px; float: left; border: 0px solid black;'title=['.'] src='dataset_birds\\valid\\KOOKABURRA\\2.jpg'/></div><div class=\"zoom\"><img style='width: 100px; height: 100px; margin: 1px; float: left; border: 0px solid black;'title=['.'] src='dataset_birds\\valid\\KOOKABURRA\\3.jpg'/></div><div class=\"zoom\"><img style='width: 100px; height: 100px; margin: 1px; float: left; border: 0px solid black;'title=['.'] src='dataset_birds\\valid\\KOOKABURRA\\4.jpg'/></div><div class=\"zoom\"><img style='width: 100px; height: 100px; margin: 1px; float: left; border: 0px solid black;'title=['.'] src='dataset_birds\\valid\\KOOKABURRA\\5.jpg'/></div>"
      ],
      "text/plain": [
       "<IPython.core.display.HTML object>"
      ]
     },
     "metadata": {},
     "output_type": "display_data"
    },
    {
     "name": "stdout",
     "output_type": "stream",
     "text": [
      "Drawing .\n"
     ]
    },
    {
     "data": {
      "text/html": [
       "<div class=\"zoom\"><img style='width: 100px; height: 100px; margin: 1px; float: left; border: 0px solid black;'title=['.'] src='dataset_birds\\valid\\LARK BUNTING\\1.jpg'/></div><div class=\"zoom\"><img style='width: 100px; height: 100px; margin: 1px; float: left; border: 0px solid black;'title=['.'] src='dataset_birds\\valid\\LARK BUNTING\\2.jpg'/></div><div class=\"zoom\"><img style='width: 100px; height: 100px; margin: 1px; float: left; border: 0px solid black;'title=['.'] src='dataset_birds\\valid\\LARK BUNTING\\3.jpg'/></div><div class=\"zoom\"><img style='width: 100px; height: 100px; margin: 1px; float: left; border: 0px solid black;'title=['.'] src='dataset_birds\\valid\\LARK BUNTING\\4.jpg'/></div><div class=\"zoom\"><img style='width: 100px; height: 100px; margin: 1px; float: left; border: 0px solid black;'title=['.'] src='dataset_birds\\valid\\LARK BUNTING\\5.jpg'/></div>"
      ],
      "text/plain": [
       "<IPython.core.display.HTML object>"
      ]
     },
     "metadata": {},
     "output_type": "display_data"
    },
    {
     "name": "stdout",
     "output_type": "stream",
     "text": [
      "Drawing .\n"
     ]
    },
    {
     "data": {
      "text/html": [
       "<div class=\"zoom\"><img style='width: 100px; height: 100px; margin: 1px; float: left; border: 0px solid black;'title=['.'] src='dataset_birds\\valid\\LAUGHING GULL\\1.jpg'/></div><div class=\"zoom\"><img style='width: 100px; height: 100px; margin: 1px; float: left; border: 0px solid black;'title=['.'] src='dataset_birds\\valid\\LAUGHING GULL\\2.jpg'/></div><div class=\"zoom\"><img style='width: 100px; height: 100px; margin: 1px; float: left; border: 0px solid black;'title=['.'] src='dataset_birds\\valid\\LAUGHING GULL\\3.jpg'/></div><div class=\"zoom\"><img style='width: 100px; height: 100px; margin: 1px; float: left; border: 0px solid black;'title=['.'] src='dataset_birds\\valid\\LAUGHING GULL\\4.jpg'/></div><div class=\"zoom\"><img style='width: 100px; height: 100px; margin: 1px; float: left; border: 0px solid black;'title=['.'] src='dataset_birds\\valid\\LAUGHING GULL\\5.jpg'/></div>"
      ],
      "text/plain": [
       "<IPython.core.display.HTML object>"
      ]
     },
     "metadata": {},
     "output_type": "display_data"
    },
    {
     "name": "stdout",
     "output_type": "stream",
     "text": [
      "Drawing .\n"
     ]
    },
    {
     "data": {
      "text/html": [
       "<div class=\"zoom\"><img style='width: 100px; height: 100px; margin: 1px; float: left; border: 0px solid black;'title=['.'] src='dataset_birds\\valid\\LAZULI BUNTING\\1.jpg'/></div><div class=\"zoom\"><img style='width: 100px; height: 100px; margin: 1px; float: left; border: 0px solid black;'title=['.'] src='dataset_birds\\valid\\LAZULI BUNTING\\2.jpg'/></div><div class=\"zoom\"><img style='width: 100px; height: 100px; margin: 1px; float: left; border: 0px solid black;'title=['.'] src='dataset_birds\\valid\\LAZULI BUNTING\\3.jpg'/></div><div class=\"zoom\"><img style='width: 100px; height: 100px; margin: 1px; float: left; border: 0px solid black;'title=['.'] src='dataset_birds\\valid\\LAZULI BUNTING\\4.jpg'/></div><div class=\"zoom\"><img style='width: 100px; height: 100px; margin: 1px; float: left; border: 0px solid black;'title=['.'] src='dataset_birds\\valid\\LAZULI BUNTING\\5.jpg'/></div>"
      ],
      "text/plain": [
       "<IPython.core.display.HTML object>"
      ]
     },
     "metadata": {},
     "output_type": "display_data"
    },
    {
     "name": "stdout",
     "output_type": "stream",
     "text": [
      "Drawing .\n"
     ]
    },
    {
     "data": {
      "text/html": [
       "<div class=\"zoom\"><img style='width: 100px; height: 100px; margin: 1px; float: left; border: 0px solid black;'title=['.'] src='dataset_birds\\valid\\LESSER ADJUTANT\\1.jpg'/></div><div class=\"zoom\"><img style='width: 100px; height: 100px; margin: 1px; float: left; border: 0px solid black;'title=['.'] src='dataset_birds\\valid\\LESSER ADJUTANT\\2.jpg'/></div><div class=\"zoom\"><img style='width: 100px; height: 100px; margin: 1px; float: left; border: 0px solid black;'title=['.'] src='dataset_birds\\valid\\LESSER ADJUTANT\\3.jpg'/></div><div class=\"zoom\"><img style='width: 100px; height: 100px; margin: 1px; float: left; border: 0px solid black;'title=['.'] src='dataset_birds\\valid\\LESSER ADJUTANT\\4.jpg'/></div><div class=\"zoom\"><img style='width: 100px; height: 100px; margin: 1px; float: left; border: 0px solid black;'title=['.'] src='dataset_birds\\valid\\LESSER ADJUTANT\\5.jpg'/></div>"
      ],
      "text/plain": [
       "<IPython.core.display.HTML object>"
      ]
     },
     "metadata": {},
     "output_type": "display_data"
    },
    {
     "name": "stdout",
     "output_type": "stream",
     "text": [
      "Drawing .\n"
     ]
    },
    {
     "data": {
      "text/html": [
       "<div class=\"zoom\"><img style='width: 100px; height: 100px; margin: 1px; float: left; border: 0px solid black;'title=['.'] src='dataset_birds\\valid\\LILAC ROLLER\\1.jpg'/></div><div class=\"zoom\"><img style='width: 100px; height: 100px; margin: 1px; float: left; border: 0px solid black;'title=['.'] src='dataset_birds\\valid\\LILAC ROLLER\\2.jpg'/></div><div class=\"zoom\"><img style='width: 100px; height: 100px; margin: 1px; float: left; border: 0px solid black;'title=['.'] src='dataset_birds\\valid\\LILAC ROLLER\\3.jpg'/></div><div class=\"zoom\"><img style='width: 100px; height: 100px; margin: 1px; float: left; border: 0px solid black;'title=['.'] src='dataset_birds\\valid\\LILAC ROLLER\\4.jpg'/></div><div class=\"zoom\"><img style='width: 100px; height: 100px; margin: 1px; float: left; border: 0px solid black;'title=['.'] src='dataset_birds\\valid\\LILAC ROLLER\\5.jpg'/></div>"
      ],
      "text/plain": [
       "<IPython.core.display.HTML object>"
      ]
     },
     "metadata": {},
     "output_type": "display_data"
    },
    {
     "name": "stdout",
     "output_type": "stream",
     "text": [
      "Drawing .\n"
     ]
    },
    {
     "data": {
      "text/html": [
       "<div class=\"zoom\"><img style='width: 100px; height: 100px; margin: 1px; float: left; border: 0px solid black;'title=['.'] src='dataset_birds\\valid\\LIMPKIN\\1.jpg'/></div><div class=\"zoom\"><img style='width: 100px; height: 100px; margin: 1px; float: left; border: 0px solid black;'title=['.'] src='dataset_birds\\valid\\LIMPKIN\\2.jpg'/></div><div class=\"zoom\"><img style='width: 100px; height: 100px; margin: 1px; float: left; border: 0px solid black;'title=['.'] src='dataset_birds\\valid\\LIMPKIN\\3.jpg'/></div><div class=\"zoom\"><img style='width: 100px; height: 100px; margin: 1px; float: left; border: 0px solid black;'title=['.'] src='dataset_birds\\valid\\LIMPKIN\\4.jpg'/></div><div class=\"zoom\"><img style='width: 100px; height: 100px; margin: 1px; float: left; border: 0px solid black;'title=['.'] src='dataset_birds\\valid\\LIMPKIN\\5.jpg'/></div>"
      ],
      "text/plain": [
       "<IPython.core.display.HTML object>"
      ]
     },
     "metadata": {},
     "output_type": "display_data"
    },
    {
     "name": "stdout",
     "output_type": "stream",
     "text": [
      "Drawing .\n"
     ]
    },
    {
     "data": {
      "text/html": [
       "<div class=\"zoom\"><img style='width: 100px; height: 100px; margin: 1px; float: left; border: 0px solid black;'title=['.'] src='dataset_birds\\valid\\LITTLE AUK\\1.jpg'/></div><div class=\"zoom\"><img style='width: 100px; height: 100px; margin: 1px; float: left; border: 0px solid black;'title=['.'] src='dataset_birds\\valid\\LITTLE AUK\\2.jpg'/></div><div class=\"zoom\"><img style='width: 100px; height: 100px; margin: 1px; float: left; border: 0px solid black;'title=['.'] src='dataset_birds\\valid\\LITTLE AUK\\3.jpg'/></div><div class=\"zoom\"><img style='width: 100px; height: 100px; margin: 1px; float: left; border: 0px solid black;'title=['.'] src='dataset_birds\\valid\\LITTLE AUK\\4.jpg'/></div><div class=\"zoom\"><img style='width: 100px; height: 100px; margin: 1px; float: left; border: 0px solid black;'title=['.'] src='dataset_birds\\valid\\LITTLE AUK\\5.jpg'/></div>"
      ],
      "text/plain": [
       "<IPython.core.display.HTML object>"
      ]
     },
     "metadata": {},
     "output_type": "display_data"
    },
    {
     "name": "stdout",
     "output_type": "stream",
     "text": [
      "Drawing .\n"
     ]
    },
    {
     "data": {
      "text/html": [
       "<div class=\"zoom\"><img style='width: 100px; height: 100px; margin: 1px; float: left; border: 0px solid black;'title=['.'] src='dataset_birds\\valid\\LOGGERHEAD SHRIKE\\1.jpg'/></div><div class=\"zoom\"><img style='width: 100px; height: 100px; margin: 1px; float: left; border: 0px solid black;'title=['.'] src='dataset_birds\\valid\\LOGGERHEAD SHRIKE\\2.jpg'/></div><div class=\"zoom\"><img style='width: 100px; height: 100px; margin: 1px; float: left; border: 0px solid black;'title=['.'] src='dataset_birds\\valid\\LOGGERHEAD SHRIKE\\3.jpg'/></div><div class=\"zoom\"><img style='width: 100px; height: 100px; margin: 1px; float: left; border: 0px solid black;'title=['.'] src='dataset_birds\\valid\\LOGGERHEAD SHRIKE\\4.jpg'/></div><div class=\"zoom\"><img style='width: 100px; height: 100px; margin: 1px; float: left; border: 0px solid black;'title=['.'] src='dataset_birds\\valid\\LOGGERHEAD SHRIKE\\5.jpg'/></div>"
      ],
      "text/plain": [
       "<IPython.core.display.HTML object>"
      ]
     },
     "metadata": {},
     "output_type": "display_data"
    },
    {
     "name": "stdout",
     "output_type": "stream",
     "text": [
      "Drawing .\n"
     ]
    },
    {
     "data": {
      "text/html": [
       "<div class=\"zoom\"><img style='width: 100px; height: 100px; margin: 1px; float: left; border: 0px solid black;'title=['.'] src='dataset_birds\\valid\\LONG-EARED OWL\\1.jpg'/></div><div class=\"zoom\"><img style='width: 100px; height: 100px; margin: 1px; float: left; border: 0px solid black;'title=['.'] src='dataset_birds\\valid\\LONG-EARED OWL\\2.jpg'/></div><div class=\"zoom\"><img style='width: 100px; height: 100px; margin: 1px; float: left; border: 0px solid black;'title=['.'] src='dataset_birds\\valid\\LONG-EARED OWL\\3.jpg'/></div><div class=\"zoom\"><img style='width: 100px; height: 100px; margin: 1px; float: left; border: 0px solid black;'title=['.'] src='dataset_birds\\valid\\LONG-EARED OWL\\4.jpg'/></div><div class=\"zoom\"><img style='width: 100px; height: 100px; margin: 1px; float: left; border: 0px solid black;'title=['.'] src='dataset_birds\\valid\\LONG-EARED OWL\\5.jpg'/></div>"
      ],
      "text/plain": [
       "<IPython.core.display.HTML object>"
      ]
     },
     "metadata": {},
     "output_type": "display_data"
    },
    {
     "name": "stdout",
     "output_type": "stream",
     "text": [
      "Drawing .\n"
     ]
    },
    {
     "data": {
      "text/html": [
       "<div class=\"zoom\"><img style='width: 100px; height: 100px; margin: 1px; float: left; border: 0px solid black;'title=['.'] src='dataset_birds\\valid\\LOONEY BIRDS\\1.jpg'/></div><div class=\"zoom\"><img style='width: 100px; height: 100px; margin: 1px; float: left; border: 0px solid black;'title=['.'] src='dataset_birds\\valid\\LOONEY BIRDS\\2.jpg'/></div><div class=\"zoom\"><img style='width: 100px; height: 100px; margin: 1px; float: left; border: 0px solid black;'title=['.'] src='dataset_birds\\valid\\LOONEY BIRDS\\3.jpg'/></div><div class=\"zoom\"><img style='width: 100px; height: 100px; margin: 1px; float: left; border: 0px solid black;'title=['.'] src='dataset_birds\\valid\\LOONEY BIRDS\\4.jpg'/></div><div class=\"zoom\"><img style='width: 100px; height: 100px; margin: 1px; float: left; border: 0px solid black;'title=['.'] src='dataset_birds\\valid\\LOONEY BIRDS\\5.jpg'/></div>"
      ],
      "text/plain": [
       "<IPython.core.display.HTML object>"
      ]
     },
     "metadata": {},
     "output_type": "display_data"
    },
    {
     "name": "stdout",
     "output_type": "stream",
     "text": [
      "Drawing .\n"
     ]
    },
    {
     "data": {
      "text/html": [
       "<div class=\"zoom\"><img style='width: 100px; height: 100px; margin: 1px; float: left; border: 0px solid black;'title=['.'] src='dataset_birds\\valid\\LUCIFER HUMMINGBIRD\\1.jpg'/></div><div class=\"zoom\"><img style='width: 100px; height: 100px; margin: 1px; float: left; border: 0px solid black;'title=['.'] src='dataset_birds\\valid\\LUCIFER HUMMINGBIRD\\2.jpg'/></div><div class=\"zoom\"><img style='width: 100px; height: 100px; margin: 1px; float: left; border: 0px solid black;'title=['.'] src='dataset_birds\\valid\\LUCIFER HUMMINGBIRD\\3.jpg'/></div><div class=\"zoom\"><img style='width: 100px; height: 100px; margin: 1px; float: left; border: 0px solid black;'title=['.'] src='dataset_birds\\valid\\LUCIFER HUMMINGBIRD\\4.jpg'/></div><div class=\"zoom\"><img style='width: 100px; height: 100px; margin: 1px; float: left; border: 0px solid black;'title=['.'] src='dataset_birds\\valid\\LUCIFER HUMMINGBIRD\\5.jpg'/></div>"
      ],
      "text/plain": [
       "<IPython.core.display.HTML object>"
      ]
     },
     "metadata": {},
     "output_type": "display_data"
    },
    {
     "name": "stdout",
     "output_type": "stream",
     "text": [
      "Drawing .\n"
     ]
    },
    {
     "data": {
      "text/html": [
       "<div class=\"zoom\"><img style='width: 100px; height: 100px; margin: 1px; float: left; border: 0px solid black;'title=['.'] src='dataset_birds\\valid\\MAGPIE GOOSE\\1.jpg'/></div><div class=\"zoom\"><img style='width: 100px; height: 100px; margin: 1px; float: left; border: 0px solid black;'title=['.'] src='dataset_birds\\valid\\MAGPIE GOOSE\\2.jpg'/></div><div class=\"zoom\"><img style='width: 100px; height: 100px; margin: 1px; float: left; border: 0px solid black;'title=['.'] src='dataset_birds\\valid\\MAGPIE GOOSE\\3.jpg'/></div><div class=\"zoom\"><img style='width: 100px; height: 100px; margin: 1px; float: left; border: 0px solid black;'title=['.'] src='dataset_birds\\valid\\MAGPIE GOOSE\\4.jpg'/></div><div class=\"zoom\"><img style='width: 100px; height: 100px; margin: 1px; float: left; border: 0px solid black;'title=['.'] src='dataset_birds\\valid\\MAGPIE GOOSE\\5.jpg'/></div>"
      ],
      "text/plain": [
       "<IPython.core.display.HTML object>"
      ]
     },
     "metadata": {},
     "output_type": "display_data"
    },
    {
     "name": "stdout",
     "output_type": "stream",
     "text": [
      "Drawing .\n"
     ]
    },
    {
     "data": {
      "text/html": [
       "<div class=\"zoom\"><img style='width: 100px; height: 100px; margin: 1px; float: left; border: 0px solid black;'title=['.'] src='dataset_birds\\valid\\MALABAR HORNBILL\\1.jpg'/></div><div class=\"zoom\"><img style='width: 100px; height: 100px; margin: 1px; float: left; border: 0px solid black;'title=['.'] src='dataset_birds\\valid\\MALABAR HORNBILL\\2.jpg'/></div><div class=\"zoom\"><img style='width: 100px; height: 100px; margin: 1px; float: left; border: 0px solid black;'title=['.'] src='dataset_birds\\valid\\MALABAR HORNBILL\\3.jpg'/></div><div class=\"zoom\"><img style='width: 100px; height: 100px; margin: 1px; float: left; border: 0px solid black;'title=['.'] src='dataset_birds\\valid\\MALABAR HORNBILL\\4.jpg'/></div><div class=\"zoom\"><img style='width: 100px; height: 100px; margin: 1px; float: left; border: 0px solid black;'title=['.'] src='dataset_birds\\valid\\MALABAR HORNBILL\\5.jpg'/></div>"
      ],
      "text/plain": [
       "<IPython.core.display.HTML object>"
      ]
     },
     "metadata": {},
     "output_type": "display_data"
    },
    {
     "name": "stdout",
     "output_type": "stream",
     "text": [
      "Drawing .\n"
     ]
    },
    {
     "data": {
      "text/html": [
       "<div class=\"zoom\"><img style='width: 100px; height: 100px; margin: 1px; float: left; border: 0px solid black;'title=['.'] src='dataset_birds\\valid\\MALACHITE KINGFISHER\\1.jpg'/></div><div class=\"zoom\"><img style='width: 100px; height: 100px; margin: 1px; float: left; border: 0px solid black;'title=['.'] src='dataset_birds\\valid\\MALACHITE KINGFISHER\\2.jpg'/></div><div class=\"zoom\"><img style='width: 100px; height: 100px; margin: 1px; float: left; border: 0px solid black;'title=['.'] src='dataset_birds\\valid\\MALACHITE KINGFISHER\\3.jpg'/></div><div class=\"zoom\"><img style='width: 100px; height: 100px; margin: 1px; float: left; border: 0px solid black;'title=['.'] src='dataset_birds\\valid\\MALACHITE KINGFISHER\\4.jpg'/></div><div class=\"zoom\"><img style='width: 100px; height: 100px; margin: 1px; float: left; border: 0px solid black;'title=['.'] src='dataset_birds\\valid\\MALACHITE KINGFISHER\\5.jpg'/></div>"
      ],
      "text/plain": [
       "<IPython.core.display.HTML object>"
      ]
     },
     "metadata": {},
     "output_type": "display_data"
    },
    {
     "name": "stdout",
     "output_type": "stream",
     "text": [
      "Drawing .\n"
     ]
    },
    {
     "data": {
      "text/html": [
       "<div class=\"zoom\"><img style='width: 100px; height: 100px; margin: 1px; float: left; border: 0px solid black;'title=['.'] src='dataset_birds\\valid\\MALAGASY WHITE EYE\\1.jpg'/></div><div class=\"zoom\"><img style='width: 100px; height: 100px; margin: 1px; float: left; border: 0px solid black;'title=['.'] src='dataset_birds\\valid\\MALAGASY WHITE EYE\\2.jpg'/></div><div class=\"zoom\"><img style='width: 100px; height: 100px; margin: 1px; float: left; border: 0px solid black;'title=['.'] src='dataset_birds\\valid\\MALAGASY WHITE EYE\\3.jpg'/></div><div class=\"zoom\"><img style='width: 100px; height: 100px; margin: 1px; float: left; border: 0px solid black;'title=['.'] src='dataset_birds\\valid\\MALAGASY WHITE EYE\\4.jpg'/></div><div class=\"zoom\"><img style='width: 100px; height: 100px; margin: 1px; float: left; border: 0px solid black;'title=['.'] src='dataset_birds\\valid\\MALAGASY WHITE EYE\\5.jpg'/></div>"
      ],
      "text/plain": [
       "<IPython.core.display.HTML object>"
      ]
     },
     "metadata": {},
     "output_type": "display_data"
    },
    {
     "name": "stdout",
     "output_type": "stream",
     "text": [
      "Drawing .\n"
     ]
    },
    {
     "data": {
      "text/html": [
       "<div class=\"zoom\"><img style='width: 100px; height: 100px; margin: 1px; float: left; border: 0px solid black;'title=['.'] src='dataset_birds\\valid\\MALEO\\1.jpg'/></div><div class=\"zoom\"><img style='width: 100px; height: 100px; margin: 1px; float: left; border: 0px solid black;'title=['.'] src='dataset_birds\\valid\\MALEO\\2.jpg'/></div><div class=\"zoom\"><img style='width: 100px; height: 100px; margin: 1px; float: left; border: 0px solid black;'title=['.'] src='dataset_birds\\valid\\MALEO\\3.jpg'/></div><div class=\"zoom\"><img style='width: 100px; height: 100px; margin: 1px; float: left; border: 0px solid black;'title=['.'] src='dataset_birds\\valid\\MALEO\\4.jpg'/></div><div class=\"zoom\"><img style='width: 100px; height: 100px; margin: 1px; float: left; border: 0px solid black;'title=['.'] src='dataset_birds\\valid\\MALEO\\5.jpg'/></div>"
      ],
      "text/plain": [
       "<IPython.core.display.HTML object>"
      ]
     },
     "metadata": {},
     "output_type": "display_data"
    },
    {
     "name": "stdout",
     "output_type": "stream",
     "text": [
      "Drawing .\n"
     ]
    },
    {
     "data": {
      "text/html": [
       "<div class=\"zoom\"><img style='width: 100px; height: 100px; margin: 1px; float: left; border: 0px solid black;'title=['.'] src='dataset_birds\\valid\\MALLARD DUCK\\1.jpg'/></div><div class=\"zoom\"><img style='width: 100px; height: 100px; margin: 1px; float: left; border: 0px solid black;'title=['.'] src='dataset_birds\\valid\\MALLARD DUCK\\2.jpg'/></div><div class=\"zoom\"><img style='width: 100px; height: 100px; margin: 1px; float: left; border: 0px solid black;'title=['.'] src='dataset_birds\\valid\\MALLARD DUCK\\3.jpg'/></div><div class=\"zoom\"><img style='width: 100px; height: 100px; margin: 1px; float: left; border: 0px solid black;'title=['.'] src='dataset_birds\\valid\\MALLARD DUCK\\4.jpg'/></div><div class=\"zoom\"><img style='width: 100px; height: 100px; margin: 1px; float: left; border: 0px solid black;'title=['.'] src='dataset_birds\\valid\\MALLARD DUCK\\5.jpg'/></div>"
      ],
      "text/plain": [
       "<IPython.core.display.HTML object>"
      ]
     },
     "metadata": {},
     "output_type": "display_data"
    },
    {
     "name": "stdout",
     "output_type": "stream",
     "text": [
      "Drawing .\n"
     ]
    },
    {
     "data": {
      "text/html": [
       "<div class=\"zoom\"><img style='width: 100px; height: 100px; margin: 1px; float: left; border: 0px solid black;'title=['.'] src='dataset_birds\\valid\\MANDRIN DUCK\\1.jpg'/></div><div class=\"zoom\"><img style='width: 100px; height: 100px; margin: 1px; float: left; border: 0px solid black;'title=['.'] src='dataset_birds\\valid\\MANDRIN DUCK\\2.jpg'/></div><div class=\"zoom\"><img style='width: 100px; height: 100px; margin: 1px; float: left; border: 0px solid black;'title=['.'] src='dataset_birds\\valid\\MANDRIN DUCK\\3.jpg'/></div><div class=\"zoom\"><img style='width: 100px; height: 100px; margin: 1px; float: left; border: 0px solid black;'title=['.'] src='dataset_birds\\valid\\MANDRIN DUCK\\4.jpg'/></div><div class=\"zoom\"><img style='width: 100px; height: 100px; margin: 1px; float: left; border: 0px solid black;'title=['.'] src='dataset_birds\\valid\\MANDRIN DUCK\\5.jpg'/></div>"
      ],
      "text/plain": [
       "<IPython.core.display.HTML object>"
      ]
     },
     "metadata": {},
     "output_type": "display_data"
    },
    {
     "name": "stdout",
     "output_type": "stream",
     "text": [
      "Drawing .\n"
     ]
    },
    {
     "data": {
      "text/html": [
       "<div class=\"zoom\"><img style='width: 100px; height: 100px; margin: 1px; float: left; border: 0px solid black;'title=['.'] src='dataset_birds\\valid\\MANGROVE CUCKOO\\1.jpg'/></div><div class=\"zoom\"><img style='width: 100px; height: 100px; margin: 1px; float: left; border: 0px solid black;'title=['.'] src='dataset_birds\\valid\\MANGROVE CUCKOO\\2.jpg'/></div><div class=\"zoom\"><img style='width: 100px; height: 100px; margin: 1px; float: left; border: 0px solid black;'title=['.'] src='dataset_birds\\valid\\MANGROVE CUCKOO\\3.jpg'/></div><div class=\"zoom\"><img style='width: 100px; height: 100px; margin: 1px; float: left; border: 0px solid black;'title=['.'] src='dataset_birds\\valid\\MANGROVE CUCKOO\\4.jpg'/></div><div class=\"zoom\"><img style='width: 100px; height: 100px; margin: 1px; float: left; border: 0px solid black;'title=['.'] src='dataset_birds\\valid\\MANGROVE CUCKOO\\5.jpg'/></div>"
      ],
      "text/plain": [
       "<IPython.core.display.HTML object>"
      ]
     },
     "metadata": {},
     "output_type": "display_data"
    },
    {
     "name": "stdout",
     "output_type": "stream",
     "text": [
      "Drawing .\n"
     ]
    },
    {
     "data": {
      "text/html": [
       "<div class=\"zoom\"><img style='width: 100px; height: 100px; margin: 1px; float: left; border: 0px solid black;'title=['.'] src='dataset_birds\\valid\\MARABOU STORK\\1.jpg'/></div><div class=\"zoom\"><img style='width: 100px; height: 100px; margin: 1px; float: left; border: 0px solid black;'title=['.'] src='dataset_birds\\valid\\MARABOU STORK\\2.jpg'/></div><div class=\"zoom\"><img style='width: 100px; height: 100px; margin: 1px; float: left; border: 0px solid black;'title=['.'] src='dataset_birds\\valid\\MARABOU STORK\\3.jpg'/></div><div class=\"zoom\"><img style='width: 100px; height: 100px; margin: 1px; float: left; border: 0px solid black;'title=['.'] src='dataset_birds\\valid\\MARABOU STORK\\4.jpg'/></div><div class=\"zoom\"><img style='width: 100px; height: 100px; margin: 1px; float: left; border: 0px solid black;'title=['.'] src='dataset_birds\\valid\\MARABOU STORK\\5.jpg'/></div>"
      ],
      "text/plain": [
       "<IPython.core.display.HTML object>"
      ]
     },
     "metadata": {},
     "output_type": "display_data"
    },
    {
     "name": "stdout",
     "output_type": "stream",
     "text": [
      "Drawing .\n"
     ]
    },
    {
     "data": {
      "text/html": [
       "<div class=\"zoom\"><img style='width: 100px; height: 100px; margin: 1px; float: left; border: 0px solid black;'title=['.'] src='dataset_birds\\valid\\MASKED BOBWHITE\\1.jpg'/></div><div class=\"zoom\"><img style='width: 100px; height: 100px; margin: 1px; float: left; border: 0px solid black;'title=['.'] src='dataset_birds\\valid\\MASKED BOBWHITE\\2.jpg'/></div><div class=\"zoom\"><img style='width: 100px; height: 100px; margin: 1px; float: left; border: 0px solid black;'title=['.'] src='dataset_birds\\valid\\MASKED BOBWHITE\\3.jpg'/></div><div class=\"zoom\"><img style='width: 100px; height: 100px; margin: 1px; float: left; border: 0px solid black;'title=['.'] src='dataset_birds\\valid\\MASKED BOBWHITE\\4.jpg'/></div><div class=\"zoom\"><img style='width: 100px; height: 100px; margin: 1px; float: left; border: 0px solid black;'title=['.'] src='dataset_birds\\valid\\MASKED BOBWHITE\\5.jpg'/></div>"
      ],
      "text/plain": [
       "<IPython.core.display.HTML object>"
      ]
     },
     "metadata": {},
     "output_type": "display_data"
    },
    {
     "name": "stdout",
     "output_type": "stream",
     "text": [
      "Drawing .\n"
     ]
    },
    {
     "data": {
      "text/html": [
       "<div class=\"zoom\"><img style='width: 100px; height: 100px; margin: 1px; float: left; border: 0px solid black;'title=['.'] src='dataset_birds\\valid\\MASKED BOOBY\\1.jpg'/></div><div class=\"zoom\"><img style='width: 100px; height: 100px; margin: 1px; float: left; border: 0px solid black;'title=['.'] src='dataset_birds\\valid\\MASKED BOOBY\\2.jpg'/></div><div class=\"zoom\"><img style='width: 100px; height: 100px; margin: 1px; float: left; border: 0px solid black;'title=['.'] src='dataset_birds\\valid\\MASKED BOOBY\\3.jpg'/></div><div class=\"zoom\"><img style='width: 100px; height: 100px; margin: 1px; float: left; border: 0px solid black;'title=['.'] src='dataset_birds\\valid\\MASKED BOOBY\\4.jpg'/></div><div class=\"zoom\"><img style='width: 100px; height: 100px; margin: 1px; float: left; border: 0px solid black;'title=['.'] src='dataset_birds\\valid\\MASKED BOOBY\\5.jpg'/></div>"
      ],
      "text/plain": [
       "<IPython.core.display.HTML object>"
      ]
     },
     "metadata": {},
     "output_type": "display_data"
    },
    {
     "name": "stdout",
     "output_type": "stream",
     "text": [
      "Drawing .\n"
     ]
    },
    {
     "data": {
      "text/html": [
       "<div class=\"zoom\"><img style='width: 100px; height: 100px; margin: 1px; float: left; border: 0px solid black;'title=['.'] src='dataset_birds\\valid\\MASKED LAPWING\\1.jpg'/></div><div class=\"zoom\"><img style='width: 100px; height: 100px; margin: 1px; float: left; border: 0px solid black;'title=['.'] src='dataset_birds\\valid\\MASKED LAPWING\\2.jpg'/></div><div class=\"zoom\"><img style='width: 100px; height: 100px; margin: 1px; float: left; border: 0px solid black;'title=['.'] src='dataset_birds\\valid\\MASKED LAPWING\\3.jpg'/></div><div class=\"zoom\"><img style='width: 100px; height: 100px; margin: 1px; float: left; border: 0px solid black;'title=['.'] src='dataset_birds\\valid\\MASKED LAPWING\\4.jpg'/></div><div class=\"zoom\"><img style='width: 100px; height: 100px; margin: 1px; float: left; border: 0px solid black;'title=['.'] src='dataset_birds\\valid\\MASKED LAPWING\\5.jpg'/></div>"
      ],
      "text/plain": [
       "<IPython.core.display.HTML object>"
      ]
     },
     "metadata": {},
     "output_type": "display_data"
    },
    {
     "name": "stdout",
     "output_type": "stream",
     "text": [
      "Drawing .\n"
     ]
    },
    {
     "data": {
      "text/html": [
       "<div class=\"zoom\"><img style='width: 100px; height: 100px; margin: 1px; float: left; border: 0px solid black;'title=['.'] src='dataset_birds\\valid\\MCKAYS BUNTING\\1.jpg'/></div><div class=\"zoom\"><img style='width: 100px; height: 100px; margin: 1px; float: left; border: 0px solid black;'title=['.'] src='dataset_birds\\valid\\MCKAYS BUNTING\\2.jpg'/></div><div class=\"zoom\"><img style='width: 100px; height: 100px; margin: 1px; float: left; border: 0px solid black;'title=['.'] src='dataset_birds\\valid\\MCKAYS BUNTING\\3.jpg'/></div><div class=\"zoom\"><img style='width: 100px; height: 100px; margin: 1px; float: left; border: 0px solid black;'title=['.'] src='dataset_birds\\valid\\MCKAYS BUNTING\\4.jpg'/></div><div class=\"zoom\"><img style='width: 100px; height: 100px; margin: 1px; float: left; border: 0px solid black;'title=['.'] src='dataset_birds\\valid\\MCKAYS BUNTING\\5.jpg'/></div>"
      ],
      "text/plain": [
       "<IPython.core.display.HTML object>"
      ]
     },
     "metadata": {},
     "output_type": "display_data"
    },
    {
     "name": "stdout",
     "output_type": "stream",
     "text": [
      "Drawing .\n"
     ]
    },
    {
     "data": {
      "text/html": [
       "<div class=\"zoom\"><img style='width: 100px; height: 100px; margin: 1px; float: left; border: 0px solid black;'title=['.'] src='dataset_birds\\valid\\MERLIN\\1.jpg'/></div><div class=\"zoom\"><img style='width: 100px; height: 100px; margin: 1px; float: left; border: 0px solid black;'title=['.'] src='dataset_birds\\valid\\MERLIN\\2.jpg'/></div><div class=\"zoom\"><img style='width: 100px; height: 100px; margin: 1px; float: left; border: 0px solid black;'title=['.'] src='dataset_birds\\valid\\MERLIN\\3.jpg'/></div><div class=\"zoom\"><img style='width: 100px; height: 100px; margin: 1px; float: left; border: 0px solid black;'title=['.'] src='dataset_birds\\valid\\MERLIN\\4.jpg'/></div><div class=\"zoom\"><img style='width: 100px; height: 100px; margin: 1px; float: left; border: 0px solid black;'title=['.'] src='dataset_birds\\valid\\MERLIN\\5.jpg'/></div>"
      ],
      "text/plain": [
       "<IPython.core.display.HTML object>"
      ]
     },
     "metadata": {},
     "output_type": "display_data"
    },
    {
     "name": "stdout",
     "output_type": "stream",
     "text": [
      "Drawing .\n"
     ]
    },
    {
     "data": {
      "text/html": [
       "<div class=\"zoom\"><img style='width: 100px; height: 100px; margin: 1px; float: left; border: 0px solid black;'title=['.'] src='dataset_birds\\valid\\MIKADO  PHEASANT\\1.jpg'/></div><div class=\"zoom\"><img style='width: 100px; height: 100px; margin: 1px; float: left; border: 0px solid black;'title=['.'] src='dataset_birds\\valid\\MIKADO  PHEASANT\\2.jpg'/></div><div class=\"zoom\"><img style='width: 100px; height: 100px; margin: 1px; float: left; border: 0px solid black;'title=['.'] src='dataset_birds\\valid\\MIKADO  PHEASANT\\3.jpg'/></div><div class=\"zoom\"><img style='width: 100px; height: 100px; margin: 1px; float: left; border: 0px solid black;'title=['.'] src='dataset_birds\\valid\\MIKADO  PHEASANT\\4.jpg'/></div><div class=\"zoom\"><img style='width: 100px; height: 100px; margin: 1px; float: left; border: 0px solid black;'title=['.'] src='dataset_birds\\valid\\MIKADO  PHEASANT\\5.jpg'/></div>"
      ],
      "text/plain": [
       "<IPython.core.display.HTML object>"
      ]
     },
     "metadata": {},
     "output_type": "display_data"
    },
    {
     "name": "stdout",
     "output_type": "stream",
     "text": [
      "Drawing .\n"
     ]
    },
    {
     "data": {
      "text/html": [
       "<div class=\"zoom\"><img style='width: 100px; height: 100px; margin: 1px; float: left; border: 0px solid black;'title=['.'] src='dataset_birds\\valid\\MILITARY MACAW\\1.jpg'/></div><div class=\"zoom\"><img style='width: 100px; height: 100px; margin: 1px; float: left; border: 0px solid black;'title=['.'] src='dataset_birds\\valid\\MILITARY MACAW\\2.jpg'/></div><div class=\"zoom\"><img style='width: 100px; height: 100px; margin: 1px; float: left; border: 0px solid black;'title=['.'] src='dataset_birds\\valid\\MILITARY MACAW\\3.jpg'/></div><div class=\"zoom\"><img style='width: 100px; height: 100px; margin: 1px; float: left; border: 0px solid black;'title=['.'] src='dataset_birds\\valid\\MILITARY MACAW\\4.jpg'/></div><div class=\"zoom\"><img style='width: 100px; height: 100px; margin: 1px; float: left; border: 0px solid black;'title=['.'] src='dataset_birds\\valid\\MILITARY MACAW\\5.jpg'/></div>"
      ],
      "text/plain": [
       "<IPython.core.display.HTML object>"
      ]
     },
     "metadata": {},
     "output_type": "display_data"
    },
    {
     "name": "stdout",
     "output_type": "stream",
     "text": [
      "Drawing .\n"
     ]
    },
    {
     "data": {
      "text/html": [
       "<div class=\"zoom\"><img style='width: 100px; height: 100px; margin: 1px; float: left; border: 0px solid black;'title=['.'] src='dataset_birds\\valid\\MOURNING DOVE\\1.jpg'/></div><div class=\"zoom\"><img style='width: 100px; height: 100px; margin: 1px; float: left; border: 0px solid black;'title=['.'] src='dataset_birds\\valid\\MOURNING DOVE\\2.jpg'/></div><div class=\"zoom\"><img style='width: 100px; height: 100px; margin: 1px; float: left; border: 0px solid black;'title=['.'] src='dataset_birds\\valid\\MOURNING DOVE\\3.jpg'/></div><div class=\"zoom\"><img style='width: 100px; height: 100px; margin: 1px; float: left; border: 0px solid black;'title=['.'] src='dataset_birds\\valid\\MOURNING DOVE\\4.jpg'/></div><div class=\"zoom\"><img style='width: 100px; height: 100px; margin: 1px; float: left; border: 0px solid black;'title=['.'] src='dataset_birds\\valid\\MOURNING DOVE\\5.jpg'/></div>"
      ],
      "text/plain": [
       "<IPython.core.display.HTML object>"
      ]
     },
     "metadata": {},
     "output_type": "display_data"
    },
    {
     "name": "stdout",
     "output_type": "stream",
     "text": [
      "Drawing .\n"
     ]
    },
    {
     "data": {
      "text/html": [
       "<div class=\"zoom\"><img style='width: 100px; height: 100px; margin: 1px; float: left; border: 0px solid black;'title=['.'] src='dataset_birds\\valid\\MYNA\\1.jpg'/></div><div class=\"zoom\"><img style='width: 100px; height: 100px; margin: 1px; float: left; border: 0px solid black;'title=['.'] src='dataset_birds\\valid\\MYNA\\2.jpg'/></div><div class=\"zoom\"><img style='width: 100px; height: 100px; margin: 1px; float: left; border: 0px solid black;'title=['.'] src='dataset_birds\\valid\\MYNA\\3.jpg'/></div><div class=\"zoom\"><img style='width: 100px; height: 100px; margin: 1px; float: left; border: 0px solid black;'title=['.'] src='dataset_birds\\valid\\MYNA\\4.jpg'/></div><div class=\"zoom\"><img style='width: 100px; height: 100px; margin: 1px; float: left; border: 0px solid black;'title=['.'] src='dataset_birds\\valid\\MYNA\\5.jpg'/></div>"
      ],
      "text/plain": [
       "<IPython.core.display.HTML object>"
      ]
     },
     "metadata": {},
     "output_type": "display_data"
    },
    {
     "name": "stdout",
     "output_type": "stream",
     "text": [
      "Drawing .\n"
     ]
    },
    {
     "data": {
      "text/html": [
       "<div class=\"zoom\"><img style='width: 100px; height: 100px; margin: 1px; float: left; border: 0px solid black;'title=['.'] src='dataset_birds\\valid\\NICOBAR PIGEON\\1.jpg'/></div><div class=\"zoom\"><img style='width: 100px; height: 100px; margin: 1px; float: left; border: 0px solid black;'title=['.'] src='dataset_birds\\valid\\NICOBAR PIGEON\\2.jpg'/></div><div class=\"zoom\"><img style='width: 100px; height: 100px; margin: 1px; float: left; border: 0px solid black;'title=['.'] src='dataset_birds\\valid\\NICOBAR PIGEON\\3.jpg'/></div><div class=\"zoom\"><img style='width: 100px; height: 100px; margin: 1px; float: left; border: 0px solid black;'title=['.'] src='dataset_birds\\valid\\NICOBAR PIGEON\\4.jpg'/></div><div class=\"zoom\"><img style='width: 100px; height: 100px; margin: 1px; float: left; border: 0px solid black;'title=['.'] src='dataset_birds\\valid\\NICOBAR PIGEON\\5.jpg'/></div>"
      ],
      "text/plain": [
       "<IPython.core.display.HTML object>"
      ]
     },
     "metadata": {},
     "output_type": "display_data"
    },
    {
     "name": "stdout",
     "output_type": "stream",
     "text": [
      "Drawing .\n"
     ]
    },
    {
     "data": {
      "text/html": [
       "<div class=\"zoom\"><img style='width: 100px; height: 100px; margin: 1px; float: left; border: 0px solid black;'title=['.'] src='dataset_birds\\valid\\NOISY FRIARBIRD\\1.jpg'/></div><div class=\"zoom\"><img style='width: 100px; height: 100px; margin: 1px; float: left; border: 0px solid black;'title=['.'] src='dataset_birds\\valid\\NOISY FRIARBIRD\\2.jpg'/></div><div class=\"zoom\"><img style='width: 100px; height: 100px; margin: 1px; float: left; border: 0px solid black;'title=['.'] src='dataset_birds\\valid\\NOISY FRIARBIRD\\3.jpg'/></div><div class=\"zoom\"><img style='width: 100px; height: 100px; margin: 1px; float: left; border: 0px solid black;'title=['.'] src='dataset_birds\\valid\\NOISY FRIARBIRD\\4.jpg'/></div><div class=\"zoom\"><img style='width: 100px; height: 100px; margin: 1px; float: left; border: 0px solid black;'title=['.'] src='dataset_birds\\valid\\NOISY FRIARBIRD\\5.jpg'/></div>"
      ],
      "text/plain": [
       "<IPython.core.display.HTML object>"
      ]
     },
     "metadata": {},
     "output_type": "display_data"
    },
    {
     "name": "stdout",
     "output_type": "stream",
     "text": [
      "Drawing .\n"
     ]
    },
    {
     "data": {
      "text/html": [
       "<div class=\"zoom\"><img style='width: 100px; height: 100px; margin: 1px; float: left; border: 0px solid black;'title=['.'] src='dataset_birds\\valid\\NORTHERN BEARDLESS TYRANNULET\\1.jpg'/></div><div class=\"zoom\"><img style='width: 100px; height: 100px; margin: 1px; float: left; border: 0px solid black;'title=['.'] src='dataset_birds\\valid\\NORTHERN BEARDLESS TYRANNULET\\2.jpg'/></div><div class=\"zoom\"><img style='width: 100px; height: 100px; margin: 1px; float: left; border: 0px solid black;'title=['.'] src='dataset_birds\\valid\\NORTHERN BEARDLESS TYRANNULET\\3.jpg'/></div><div class=\"zoom\"><img style='width: 100px; height: 100px; margin: 1px; float: left; border: 0px solid black;'title=['.'] src='dataset_birds\\valid\\NORTHERN BEARDLESS TYRANNULET\\4.jpg'/></div><div class=\"zoom\"><img style='width: 100px; height: 100px; margin: 1px; float: left; border: 0px solid black;'title=['.'] src='dataset_birds\\valid\\NORTHERN BEARDLESS TYRANNULET\\5.jpg'/></div>"
      ],
      "text/plain": [
       "<IPython.core.display.HTML object>"
      ]
     },
     "metadata": {},
     "output_type": "display_data"
    },
    {
     "name": "stdout",
     "output_type": "stream",
     "text": [
      "Drawing .\n"
     ]
    },
    {
     "data": {
      "text/html": [
       "<div class=\"zoom\"><img style='width: 100px; height: 100px; margin: 1px; float: left; border: 0px solid black;'title=['.'] src='dataset_birds\\valid\\NORTHERN CARDINAL\\1.jpg'/></div><div class=\"zoom\"><img style='width: 100px; height: 100px; margin: 1px; float: left; border: 0px solid black;'title=['.'] src='dataset_birds\\valid\\NORTHERN CARDINAL\\2.jpg'/></div><div class=\"zoom\"><img style='width: 100px; height: 100px; margin: 1px; float: left; border: 0px solid black;'title=['.'] src='dataset_birds\\valid\\NORTHERN CARDINAL\\3.jpg'/></div><div class=\"zoom\"><img style='width: 100px; height: 100px; margin: 1px; float: left; border: 0px solid black;'title=['.'] src='dataset_birds\\valid\\NORTHERN CARDINAL\\4.jpg'/></div><div class=\"zoom\"><img style='width: 100px; height: 100px; margin: 1px; float: left; border: 0px solid black;'title=['.'] src='dataset_birds\\valid\\NORTHERN CARDINAL\\5.jpg'/></div>"
      ],
      "text/plain": [
       "<IPython.core.display.HTML object>"
      ]
     },
     "metadata": {},
     "output_type": "display_data"
    },
    {
     "name": "stdout",
     "output_type": "stream",
     "text": [
      "Drawing .\n"
     ]
    },
    {
     "data": {
      "text/html": [
       "<div class=\"zoom\"><img style='width: 100px; height: 100px; margin: 1px; float: left; border: 0px solid black;'title=['.'] src='dataset_birds\\valid\\NORTHERN FLICKER\\1.jpg'/></div><div class=\"zoom\"><img style='width: 100px; height: 100px; margin: 1px; float: left; border: 0px solid black;'title=['.'] src='dataset_birds\\valid\\NORTHERN FLICKER\\2.jpg'/></div><div class=\"zoom\"><img style='width: 100px; height: 100px; margin: 1px; float: left; border: 0px solid black;'title=['.'] src='dataset_birds\\valid\\NORTHERN FLICKER\\3.jpg'/></div><div class=\"zoom\"><img style='width: 100px; height: 100px; margin: 1px; float: left; border: 0px solid black;'title=['.'] src='dataset_birds\\valid\\NORTHERN FLICKER\\4.jpg'/></div><div class=\"zoom\"><img style='width: 100px; height: 100px; margin: 1px; float: left; border: 0px solid black;'title=['.'] src='dataset_birds\\valid\\NORTHERN FLICKER\\5.jpg'/></div>"
      ],
      "text/plain": [
       "<IPython.core.display.HTML object>"
      ]
     },
     "metadata": {},
     "output_type": "display_data"
    },
    {
     "name": "stdout",
     "output_type": "stream",
     "text": [
      "Drawing .\n"
     ]
    },
    {
     "data": {
      "text/html": [
       "<div class=\"zoom\"><img style='width: 100px; height: 100px; margin: 1px; float: left; border: 0px solid black;'title=['.'] src='dataset_birds\\valid\\NORTHERN FULMAR\\1.jpg'/></div><div class=\"zoom\"><img style='width: 100px; height: 100px; margin: 1px; float: left; border: 0px solid black;'title=['.'] src='dataset_birds\\valid\\NORTHERN FULMAR\\2.jpg'/></div><div class=\"zoom\"><img style='width: 100px; height: 100px; margin: 1px; float: left; border: 0px solid black;'title=['.'] src='dataset_birds\\valid\\NORTHERN FULMAR\\3.jpg'/></div><div class=\"zoom\"><img style='width: 100px; height: 100px; margin: 1px; float: left; border: 0px solid black;'title=['.'] src='dataset_birds\\valid\\NORTHERN FULMAR\\4.jpg'/></div><div class=\"zoom\"><img style='width: 100px; height: 100px; margin: 1px; float: left; border: 0px solid black;'title=['.'] src='dataset_birds\\valid\\NORTHERN FULMAR\\5.jpg'/></div>"
      ],
      "text/plain": [
       "<IPython.core.display.HTML object>"
      ]
     },
     "metadata": {},
     "output_type": "display_data"
    },
    {
     "name": "stdout",
     "output_type": "stream",
     "text": [
      "Drawing .\n"
     ]
    },
    {
     "data": {
      "text/html": [
       "<div class=\"zoom\"><img style='width: 100px; height: 100px; margin: 1px; float: left; border: 0px solid black;'title=['.'] src='dataset_birds\\valid\\NORTHERN GANNET\\1.jpg'/></div><div class=\"zoom\"><img style='width: 100px; height: 100px; margin: 1px; float: left; border: 0px solid black;'title=['.'] src='dataset_birds\\valid\\NORTHERN GANNET\\2.jpg'/></div><div class=\"zoom\"><img style='width: 100px; height: 100px; margin: 1px; float: left; border: 0px solid black;'title=['.'] src='dataset_birds\\valid\\NORTHERN GANNET\\3.jpg'/></div><div class=\"zoom\"><img style='width: 100px; height: 100px; margin: 1px; float: left; border: 0px solid black;'title=['.'] src='dataset_birds\\valid\\NORTHERN GANNET\\4.jpg'/></div><div class=\"zoom\"><img style='width: 100px; height: 100px; margin: 1px; float: left; border: 0px solid black;'title=['.'] src='dataset_birds\\valid\\NORTHERN GANNET\\5.jpg'/></div>"
      ],
      "text/plain": [
       "<IPython.core.display.HTML object>"
      ]
     },
     "metadata": {},
     "output_type": "display_data"
    },
    {
     "name": "stdout",
     "output_type": "stream",
     "text": [
      "Drawing .\n"
     ]
    },
    {
     "data": {
      "text/html": [
       "<div class=\"zoom\"><img style='width: 100px; height: 100px; margin: 1px; float: left; border: 0px solid black;'title=['.'] src='dataset_birds\\valid\\NORTHERN GOSHAWK\\1.jpg'/></div><div class=\"zoom\"><img style='width: 100px; height: 100px; margin: 1px; float: left; border: 0px solid black;'title=['.'] src='dataset_birds\\valid\\NORTHERN GOSHAWK\\2.jpg'/></div><div class=\"zoom\"><img style='width: 100px; height: 100px; margin: 1px; float: left; border: 0px solid black;'title=['.'] src='dataset_birds\\valid\\NORTHERN GOSHAWK\\3.jpg'/></div><div class=\"zoom\"><img style='width: 100px; height: 100px; margin: 1px; float: left; border: 0px solid black;'title=['.'] src='dataset_birds\\valid\\NORTHERN GOSHAWK\\4.jpg'/></div><div class=\"zoom\"><img style='width: 100px; height: 100px; margin: 1px; float: left; border: 0px solid black;'title=['.'] src='dataset_birds\\valid\\NORTHERN GOSHAWK\\5.jpg'/></div>"
      ],
      "text/plain": [
       "<IPython.core.display.HTML object>"
      ]
     },
     "metadata": {},
     "output_type": "display_data"
    },
    {
     "name": "stdout",
     "output_type": "stream",
     "text": [
      "Drawing .\n"
     ]
    },
    {
     "data": {
      "text/html": [
       "<div class=\"zoom\"><img style='width: 100px; height: 100px; margin: 1px; float: left; border: 0px solid black;'title=['.'] src='dataset_birds\\valid\\NORTHERN JACANA\\1.jpg'/></div><div class=\"zoom\"><img style='width: 100px; height: 100px; margin: 1px; float: left; border: 0px solid black;'title=['.'] src='dataset_birds\\valid\\NORTHERN JACANA\\2.jpg'/></div><div class=\"zoom\"><img style='width: 100px; height: 100px; margin: 1px; float: left; border: 0px solid black;'title=['.'] src='dataset_birds\\valid\\NORTHERN JACANA\\3.jpg'/></div><div class=\"zoom\"><img style='width: 100px; height: 100px; margin: 1px; float: left; border: 0px solid black;'title=['.'] src='dataset_birds\\valid\\NORTHERN JACANA\\4.jpg'/></div><div class=\"zoom\"><img style='width: 100px; height: 100px; margin: 1px; float: left; border: 0px solid black;'title=['.'] src='dataset_birds\\valid\\NORTHERN JACANA\\5.jpg'/></div>"
      ],
      "text/plain": [
       "<IPython.core.display.HTML object>"
      ]
     },
     "metadata": {},
     "output_type": "display_data"
    },
    {
     "name": "stdout",
     "output_type": "stream",
     "text": [
      "Drawing .\n"
     ]
    },
    {
     "data": {
      "text/html": [
       "<div class=\"zoom\"><img style='width: 100px; height: 100px; margin: 1px; float: left; border: 0px solid black;'title=['.'] src='dataset_birds\\valid\\NORTHERN MOCKINGBIRD\\1.jpg'/></div><div class=\"zoom\"><img style='width: 100px; height: 100px; margin: 1px; float: left; border: 0px solid black;'title=['.'] src='dataset_birds\\valid\\NORTHERN MOCKINGBIRD\\2.jpg'/></div><div class=\"zoom\"><img style='width: 100px; height: 100px; margin: 1px; float: left; border: 0px solid black;'title=['.'] src='dataset_birds\\valid\\NORTHERN MOCKINGBIRD\\3.jpg'/></div><div class=\"zoom\"><img style='width: 100px; height: 100px; margin: 1px; float: left; border: 0px solid black;'title=['.'] src='dataset_birds\\valid\\NORTHERN MOCKINGBIRD\\4.jpg'/></div><div class=\"zoom\"><img style='width: 100px; height: 100px; margin: 1px; float: left; border: 0px solid black;'title=['.'] src='dataset_birds\\valid\\NORTHERN MOCKINGBIRD\\5.jpg'/></div>"
      ],
      "text/plain": [
       "<IPython.core.display.HTML object>"
      ]
     },
     "metadata": {},
     "output_type": "display_data"
    },
    {
     "name": "stdout",
     "output_type": "stream",
     "text": [
      "Drawing .\n"
     ]
    },
    {
     "data": {
      "text/html": [
       "<div class=\"zoom\"><img style='width: 100px; height: 100px; margin: 1px; float: left; border: 0px solid black;'title=['.'] src='dataset_birds\\valid\\NORTHERN PARULA\\1.jpg'/></div><div class=\"zoom\"><img style='width: 100px; height: 100px; margin: 1px; float: left; border: 0px solid black;'title=['.'] src='dataset_birds\\valid\\NORTHERN PARULA\\2.jpg'/></div><div class=\"zoom\"><img style='width: 100px; height: 100px; margin: 1px; float: left; border: 0px solid black;'title=['.'] src='dataset_birds\\valid\\NORTHERN PARULA\\3.jpg'/></div><div class=\"zoom\"><img style='width: 100px; height: 100px; margin: 1px; float: left; border: 0px solid black;'title=['.'] src='dataset_birds\\valid\\NORTHERN PARULA\\4.jpg'/></div><div class=\"zoom\"><img style='width: 100px; height: 100px; margin: 1px; float: left; border: 0px solid black;'title=['.'] src='dataset_birds\\valid\\NORTHERN PARULA\\5.jpg'/></div>"
      ],
      "text/plain": [
       "<IPython.core.display.HTML object>"
      ]
     },
     "metadata": {},
     "output_type": "display_data"
    },
    {
     "name": "stdout",
     "output_type": "stream",
     "text": [
      "Drawing .\n"
     ]
    },
    {
     "data": {
      "text/html": [
       "<div class=\"zoom\"><img style='width: 100px; height: 100px; margin: 1px; float: left; border: 0px solid black;'title=['.'] src='dataset_birds\\valid\\NORTHERN RED BISHOP\\1.jpg'/></div><div class=\"zoom\"><img style='width: 100px; height: 100px; margin: 1px; float: left; border: 0px solid black;'title=['.'] src='dataset_birds\\valid\\NORTHERN RED BISHOP\\2.jpg'/></div><div class=\"zoom\"><img style='width: 100px; height: 100px; margin: 1px; float: left; border: 0px solid black;'title=['.'] src='dataset_birds\\valid\\NORTHERN RED BISHOP\\3.jpg'/></div><div class=\"zoom\"><img style='width: 100px; height: 100px; margin: 1px; float: left; border: 0px solid black;'title=['.'] src='dataset_birds\\valid\\NORTHERN RED BISHOP\\4.jpg'/></div><div class=\"zoom\"><img style='width: 100px; height: 100px; margin: 1px; float: left; border: 0px solid black;'title=['.'] src='dataset_birds\\valid\\NORTHERN RED BISHOP\\5.jpg'/></div>"
      ],
      "text/plain": [
       "<IPython.core.display.HTML object>"
      ]
     },
     "metadata": {},
     "output_type": "display_data"
    },
    {
     "name": "stdout",
     "output_type": "stream",
     "text": [
      "Drawing .\n"
     ]
    },
    {
     "data": {
      "text/html": [
       "<div class=\"zoom\"><img style='width: 100px; height: 100px; margin: 1px; float: left; border: 0px solid black;'title=['.'] src='dataset_birds\\valid\\NORTHERN SHOVELER\\1.jpg'/></div><div class=\"zoom\"><img style='width: 100px; height: 100px; margin: 1px; float: left; border: 0px solid black;'title=['.'] src='dataset_birds\\valid\\NORTHERN SHOVELER\\2.jpg'/></div><div class=\"zoom\"><img style='width: 100px; height: 100px; margin: 1px; float: left; border: 0px solid black;'title=['.'] src='dataset_birds\\valid\\NORTHERN SHOVELER\\3.jpg'/></div><div class=\"zoom\"><img style='width: 100px; height: 100px; margin: 1px; float: left; border: 0px solid black;'title=['.'] src='dataset_birds\\valid\\NORTHERN SHOVELER\\4.jpg'/></div><div class=\"zoom\"><img style='width: 100px; height: 100px; margin: 1px; float: left; border: 0px solid black;'title=['.'] src='dataset_birds\\valid\\NORTHERN SHOVELER\\5.jpg'/></div>"
      ],
      "text/plain": [
       "<IPython.core.display.HTML object>"
      ]
     },
     "metadata": {},
     "output_type": "display_data"
    },
    {
     "name": "stdout",
     "output_type": "stream",
     "text": [
      "Drawing .\n"
     ]
    },
    {
     "data": {
      "text/html": [
       "<div class=\"zoom\"><img style='width: 100px; height: 100px; margin: 1px; float: left; border: 0px solid black;'title=['.'] src='dataset_birds\\valid\\OCELLATED TURKEY\\1.jpg'/></div><div class=\"zoom\"><img style='width: 100px; height: 100px; margin: 1px; float: left; border: 0px solid black;'title=['.'] src='dataset_birds\\valid\\OCELLATED TURKEY\\2.jpg'/></div><div class=\"zoom\"><img style='width: 100px; height: 100px; margin: 1px; float: left; border: 0px solid black;'title=['.'] src='dataset_birds\\valid\\OCELLATED TURKEY\\3.jpg'/></div><div class=\"zoom\"><img style='width: 100px; height: 100px; margin: 1px; float: left; border: 0px solid black;'title=['.'] src='dataset_birds\\valid\\OCELLATED TURKEY\\4.jpg'/></div><div class=\"zoom\"><img style='width: 100px; height: 100px; margin: 1px; float: left; border: 0px solid black;'title=['.'] src='dataset_birds\\valid\\OCELLATED TURKEY\\5.jpg'/></div>"
      ],
      "text/plain": [
       "<IPython.core.display.HTML object>"
      ]
     },
     "metadata": {},
     "output_type": "display_data"
    },
    {
     "name": "stdout",
     "output_type": "stream",
     "text": [
      "Drawing .\n"
     ]
    },
    {
     "data": {
      "text/html": [
       "<div class=\"zoom\"><img style='width: 100px; height: 100px; margin: 1px; float: left; border: 0px solid black;'title=['.'] src='dataset_birds\\valid\\OILBIRD\\1.jpg'/></div><div class=\"zoom\"><img style='width: 100px; height: 100px; margin: 1px; float: left; border: 0px solid black;'title=['.'] src='dataset_birds\\valid\\OILBIRD\\2.jpg'/></div><div class=\"zoom\"><img style='width: 100px; height: 100px; margin: 1px; float: left; border: 0px solid black;'title=['.'] src='dataset_birds\\valid\\OILBIRD\\3.jpg'/></div><div class=\"zoom\"><img style='width: 100px; height: 100px; margin: 1px; float: left; border: 0px solid black;'title=['.'] src='dataset_birds\\valid\\OILBIRD\\4.jpg'/></div><div class=\"zoom\"><img style='width: 100px; height: 100px; margin: 1px; float: left; border: 0px solid black;'title=['.'] src='dataset_birds\\valid\\OILBIRD\\5.jpg'/></div>"
      ],
      "text/plain": [
       "<IPython.core.display.HTML object>"
      ]
     },
     "metadata": {},
     "output_type": "display_data"
    },
    {
     "name": "stdout",
     "output_type": "stream",
     "text": [
      "Drawing .\n"
     ]
    },
    {
     "data": {
      "text/html": [
       "<div class=\"zoom\"><img style='width: 100px; height: 100px; margin: 1px; float: left; border: 0px solid black;'title=['.'] src='dataset_birds\\valid\\OKINAWA RAIL\\1.jpg'/></div><div class=\"zoom\"><img style='width: 100px; height: 100px; margin: 1px; float: left; border: 0px solid black;'title=['.'] src='dataset_birds\\valid\\OKINAWA RAIL\\2.jpg'/></div><div class=\"zoom\"><img style='width: 100px; height: 100px; margin: 1px; float: left; border: 0px solid black;'title=['.'] src='dataset_birds\\valid\\OKINAWA RAIL\\3.jpg'/></div><div class=\"zoom\"><img style='width: 100px; height: 100px; margin: 1px; float: left; border: 0px solid black;'title=['.'] src='dataset_birds\\valid\\OKINAWA RAIL\\4.jpg'/></div><div class=\"zoom\"><img style='width: 100px; height: 100px; margin: 1px; float: left; border: 0px solid black;'title=['.'] src='dataset_birds\\valid\\OKINAWA RAIL\\5.jpg'/></div>"
      ],
      "text/plain": [
       "<IPython.core.display.HTML object>"
      ]
     },
     "metadata": {},
     "output_type": "display_data"
    },
    {
     "name": "stdout",
     "output_type": "stream",
     "text": [
      "Drawing .\n"
     ]
    },
    {
     "data": {
      "text/html": [
       "<div class=\"zoom\"><img style='width: 100px; height: 100px; margin: 1px; float: left; border: 0px solid black;'title=['.'] src='dataset_birds\\valid\\ORANGE BREASTED TROGON\\1.jpg'/></div><div class=\"zoom\"><img style='width: 100px; height: 100px; margin: 1px; float: left; border: 0px solid black;'title=['.'] src='dataset_birds\\valid\\ORANGE BREASTED TROGON\\2.jpg'/></div><div class=\"zoom\"><img style='width: 100px; height: 100px; margin: 1px; float: left; border: 0px solid black;'title=['.'] src='dataset_birds\\valid\\ORANGE BREASTED TROGON\\3.jpg'/></div><div class=\"zoom\"><img style='width: 100px; height: 100px; margin: 1px; float: left; border: 0px solid black;'title=['.'] src='dataset_birds\\valid\\ORANGE BREASTED TROGON\\4.jpg'/></div><div class=\"zoom\"><img style='width: 100px; height: 100px; margin: 1px; float: left; border: 0px solid black;'title=['.'] src='dataset_birds\\valid\\ORANGE BREASTED TROGON\\5.jpg'/></div>"
      ],
      "text/plain": [
       "<IPython.core.display.HTML object>"
      ]
     },
     "metadata": {},
     "output_type": "display_data"
    },
    {
     "name": "stdout",
     "output_type": "stream",
     "text": [
      "Drawing .\n"
     ]
    },
    {
     "data": {
      "text/html": [
       "<div class=\"zoom\"><img style='width: 100px; height: 100px; margin: 1px; float: left; border: 0px solid black;'title=['.'] src='dataset_birds\\valid\\ORANGE BRESTED BUNTING\\1.jpg'/></div><div class=\"zoom\"><img style='width: 100px; height: 100px; margin: 1px; float: left; border: 0px solid black;'title=['.'] src='dataset_birds\\valid\\ORANGE BRESTED BUNTING\\2.jpg'/></div><div class=\"zoom\"><img style='width: 100px; height: 100px; margin: 1px; float: left; border: 0px solid black;'title=['.'] src='dataset_birds\\valid\\ORANGE BRESTED BUNTING\\3.jpg'/></div><div class=\"zoom\"><img style='width: 100px; height: 100px; margin: 1px; float: left; border: 0px solid black;'title=['.'] src='dataset_birds\\valid\\ORANGE BRESTED BUNTING\\4.jpg'/></div><div class=\"zoom\"><img style='width: 100px; height: 100px; margin: 1px; float: left; border: 0px solid black;'title=['.'] src='dataset_birds\\valid\\ORANGE BRESTED BUNTING\\5.jpg'/></div>"
      ],
      "text/plain": [
       "<IPython.core.display.HTML object>"
      ]
     },
     "metadata": {},
     "output_type": "display_data"
    },
    {
     "name": "stdout",
     "output_type": "stream",
     "text": [
      "Drawing .\n"
     ]
    },
    {
     "data": {
      "text/html": [
       "<div class=\"zoom\"><img style='width: 100px; height: 100px; margin: 1px; float: left; border: 0px solid black;'title=['.'] src='dataset_birds\\valid\\ORIENTAL BAY OWL\\1.jpg'/></div><div class=\"zoom\"><img style='width: 100px; height: 100px; margin: 1px; float: left; border: 0px solid black;'title=['.'] src='dataset_birds\\valid\\ORIENTAL BAY OWL\\2.jpg'/></div><div class=\"zoom\"><img style='width: 100px; height: 100px; margin: 1px; float: left; border: 0px solid black;'title=['.'] src='dataset_birds\\valid\\ORIENTAL BAY OWL\\3.jpg'/></div><div class=\"zoom\"><img style='width: 100px; height: 100px; margin: 1px; float: left; border: 0px solid black;'title=['.'] src='dataset_birds\\valid\\ORIENTAL BAY OWL\\4.jpg'/></div><div class=\"zoom\"><img style='width: 100px; height: 100px; margin: 1px; float: left; border: 0px solid black;'title=['.'] src='dataset_birds\\valid\\ORIENTAL BAY OWL\\5.jpg'/></div>"
      ],
      "text/plain": [
       "<IPython.core.display.HTML object>"
      ]
     },
     "metadata": {},
     "output_type": "display_data"
    },
    {
     "name": "stdout",
     "output_type": "stream",
     "text": [
      "Drawing .\n"
     ]
    },
    {
     "data": {
      "text/html": [
       "<div class=\"zoom\"><img style='width: 100px; height: 100px; margin: 1px; float: left; border: 0px solid black;'title=['.'] src='dataset_birds\\valid\\ORNATE HAWK EAGLE\\1.jpg'/></div><div class=\"zoom\"><img style='width: 100px; height: 100px; margin: 1px; float: left; border: 0px solid black;'title=['.'] src='dataset_birds\\valid\\ORNATE HAWK EAGLE\\2.jpg'/></div><div class=\"zoom\"><img style='width: 100px; height: 100px; margin: 1px; float: left; border: 0px solid black;'title=['.'] src='dataset_birds\\valid\\ORNATE HAWK EAGLE\\3.jpg'/></div><div class=\"zoom\"><img style='width: 100px; height: 100px; margin: 1px; float: left; border: 0px solid black;'title=['.'] src='dataset_birds\\valid\\ORNATE HAWK EAGLE\\4.jpg'/></div><div class=\"zoom\"><img style='width: 100px; height: 100px; margin: 1px; float: left; border: 0px solid black;'title=['.'] src='dataset_birds\\valid\\ORNATE HAWK EAGLE\\5.jpg'/></div>"
      ],
      "text/plain": [
       "<IPython.core.display.HTML object>"
      ]
     },
     "metadata": {},
     "output_type": "display_data"
    },
    {
     "name": "stdout",
     "output_type": "stream",
     "text": [
      "Drawing .\n"
     ]
    },
    {
     "data": {
      "text/html": [
       "<div class=\"zoom\"><img style='width: 100px; height: 100px; margin: 1px; float: left; border: 0px solid black;'title=['.'] src='dataset_birds\\valid\\OSPREY\\1.jpg'/></div><div class=\"zoom\"><img style='width: 100px; height: 100px; margin: 1px; float: left; border: 0px solid black;'title=['.'] src='dataset_birds\\valid\\OSPREY\\2.jpg'/></div><div class=\"zoom\"><img style='width: 100px; height: 100px; margin: 1px; float: left; border: 0px solid black;'title=['.'] src='dataset_birds\\valid\\OSPREY\\3.jpg'/></div><div class=\"zoom\"><img style='width: 100px; height: 100px; margin: 1px; float: left; border: 0px solid black;'title=['.'] src='dataset_birds\\valid\\OSPREY\\4.jpg'/></div><div class=\"zoom\"><img style='width: 100px; height: 100px; margin: 1px; float: left; border: 0px solid black;'title=['.'] src='dataset_birds\\valid\\OSPREY\\5.jpg'/></div>"
      ],
      "text/plain": [
       "<IPython.core.display.HTML object>"
      ]
     },
     "metadata": {},
     "output_type": "display_data"
    },
    {
     "name": "stdout",
     "output_type": "stream",
     "text": [
      "Drawing .\n"
     ]
    },
    {
     "data": {
      "text/html": [
       "<div class=\"zoom\"><img style='width: 100px; height: 100px; margin: 1px; float: left; border: 0px solid black;'title=['.'] src='dataset_birds\\valid\\OSTRICH\\1.jpg'/></div><div class=\"zoom\"><img style='width: 100px; height: 100px; margin: 1px; float: left; border: 0px solid black;'title=['.'] src='dataset_birds\\valid\\OSTRICH\\2.jpg'/></div><div class=\"zoom\"><img style='width: 100px; height: 100px; margin: 1px; float: left; border: 0px solid black;'title=['.'] src='dataset_birds\\valid\\OSTRICH\\3.jpg'/></div><div class=\"zoom\"><img style='width: 100px; height: 100px; margin: 1px; float: left; border: 0px solid black;'title=['.'] src='dataset_birds\\valid\\OSTRICH\\4.jpg'/></div><div class=\"zoom\"><img style='width: 100px; height: 100px; margin: 1px; float: left; border: 0px solid black;'title=['.'] src='dataset_birds\\valid\\OSTRICH\\5.jpg'/></div>"
      ],
      "text/plain": [
       "<IPython.core.display.HTML object>"
      ]
     },
     "metadata": {},
     "output_type": "display_data"
    },
    {
     "name": "stdout",
     "output_type": "stream",
     "text": [
      "Drawing .\n"
     ]
    },
    {
     "data": {
      "text/html": [
       "<div class=\"zoom\"><img style='width: 100px; height: 100px; margin: 1px; float: left; border: 0px solid black;'title=['.'] src='dataset_birds\\valid\\OVENBIRD\\1.jpg'/></div><div class=\"zoom\"><img style='width: 100px; height: 100px; margin: 1px; float: left; border: 0px solid black;'title=['.'] src='dataset_birds\\valid\\OVENBIRD\\2.jpg'/></div><div class=\"zoom\"><img style='width: 100px; height: 100px; margin: 1px; float: left; border: 0px solid black;'title=['.'] src='dataset_birds\\valid\\OVENBIRD\\3.jpg'/></div><div class=\"zoom\"><img style='width: 100px; height: 100px; margin: 1px; float: left; border: 0px solid black;'title=['.'] src='dataset_birds\\valid\\OVENBIRD\\4.jpg'/></div><div class=\"zoom\"><img style='width: 100px; height: 100px; margin: 1px; float: left; border: 0px solid black;'title=['.'] src='dataset_birds\\valid\\OVENBIRD\\5.jpg'/></div>"
      ],
      "text/plain": [
       "<IPython.core.display.HTML object>"
      ]
     },
     "metadata": {},
     "output_type": "display_data"
    },
    {
     "name": "stdout",
     "output_type": "stream",
     "text": [
      "Drawing .\n"
     ]
    },
    {
     "data": {
      "text/html": [
       "<div class=\"zoom\"><img style='width: 100px; height: 100px; margin: 1px; float: left; border: 0px solid black;'title=['.'] src='dataset_birds\\valid\\OYSTER CATCHER\\1.jpg'/></div><div class=\"zoom\"><img style='width: 100px; height: 100px; margin: 1px; float: left; border: 0px solid black;'title=['.'] src='dataset_birds\\valid\\OYSTER CATCHER\\2.jpg'/></div><div class=\"zoom\"><img style='width: 100px; height: 100px; margin: 1px; float: left; border: 0px solid black;'title=['.'] src='dataset_birds\\valid\\OYSTER CATCHER\\3.jpg'/></div><div class=\"zoom\"><img style='width: 100px; height: 100px; margin: 1px; float: left; border: 0px solid black;'title=['.'] src='dataset_birds\\valid\\OYSTER CATCHER\\4.jpg'/></div><div class=\"zoom\"><img style='width: 100px; height: 100px; margin: 1px; float: left; border: 0px solid black;'title=['.'] src='dataset_birds\\valid\\OYSTER CATCHER\\5.jpg'/></div>"
      ],
      "text/plain": [
       "<IPython.core.display.HTML object>"
      ]
     },
     "metadata": {},
     "output_type": "display_data"
    },
    {
     "name": "stdout",
     "output_type": "stream",
     "text": [
      "Drawing .\n"
     ]
    },
    {
     "data": {
      "text/html": [
       "<div class=\"zoom\"><img style='width: 100px; height: 100px; margin: 1px; float: left; border: 0px solid black;'title=['.'] src='dataset_birds\\valid\\PAINTED BUNTING\\1.jpg'/></div><div class=\"zoom\"><img style='width: 100px; height: 100px; margin: 1px; float: left; border: 0px solid black;'title=['.'] src='dataset_birds\\valid\\PAINTED BUNTING\\2.jpg'/></div><div class=\"zoom\"><img style='width: 100px; height: 100px; margin: 1px; float: left; border: 0px solid black;'title=['.'] src='dataset_birds\\valid\\PAINTED BUNTING\\3.jpg'/></div><div class=\"zoom\"><img style='width: 100px; height: 100px; margin: 1px; float: left; border: 0px solid black;'title=['.'] src='dataset_birds\\valid\\PAINTED BUNTING\\4.jpg'/></div><div class=\"zoom\"><img style='width: 100px; height: 100px; margin: 1px; float: left; border: 0px solid black;'title=['.'] src='dataset_birds\\valid\\PAINTED BUNTING\\5.jpg'/></div>"
      ],
      "text/plain": [
       "<IPython.core.display.HTML object>"
      ]
     },
     "metadata": {},
     "output_type": "display_data"
    },
    {
     "name": "stdout",
     "output_type": "stream",
     "text": [
      "Drawing .\n"
     ]
    },
    {
     "data": {
      "text/html": [
       "<div class=\"zoom\"><img style='width: 100px; height: 100px; margin: 1px; float: left; border: 0px solid black;'title=['.'] src='dataset_birds\\valid\\PALILA\\1.jpg'/></div><div class=\"zoom\"><img style='width: 100px; height: 100px; margin: 1px; float: left; border: 0px solid black;'title=['.'] src='dataset_birds\\valid\\PALILA\\2.jpg'/></div><div class=\"zoom\"><img style='width: 100px; height: 100px; margin: 1px; float: left; border: 0px solid black;'title=['.'] src='dataset_birds\\valid\\PALILA\\3.jpg'/></div><div class=\"zoom\"><img style='width: 100px; height: 100px; margin: 1px; float: left; border: 0px solid black;'title=['.'] src='dataset_birds\\valid\\PALILA\\4.jpg'/></div><div class=\"zoom\"><img style='width: 100px; height: 100px; margin: 1px; float: left; border: 0px solid black;'title=['.'] src='dataset_birds\\valid\\PALILA\\5.jpg'/></div>"
      ],
      "text/plain": [
       "<IPython.core.display.HTML object>"
      ]
     },
     "metadata": {},
     "output_type": "display_data"
    },
    {
     "name": "stdout",
     "output_type": "stream",
     "text": [
      "Drawing .\n"
     ]
    },
    {
     "data": {
      "text/html": [
       "<div class=\"zoom\"><img style='width: 100px; height: 100px; margin: 1px; float: left; border: 0px solid black;'title=['.'] src='dataset_birds\\valid\\PALM NUT VULTURE\\1.jpg'/></div><div class=\"zoom\"><img style='width: 100px; height: 100px; margin: 1px; float: left; border: 0px solid black;'title=['.'] src='dataset_birds\\valid\\PALM NUT VULTURE\\2.jpg'/></div><div class=\"zoom\"><img style='width: 100px; height: 100px; margin: 1px; float: left; border: 0px solid black;'title=['.'] src='dataset_birds\\valid\\PALM NUT VULTURE\\3.jpg'/></div><div class=\"zoom\"><img style='width: 100px; height: 100px; margin: 1px; float: left; border: 0px solid black;'title=['.'] src='dataset_birds\\valid\\PALM NUT VULTURE\\4.jpg'/></div><div class=\"zoom\"><img style='width: 100px; height: 100px; margin: 1px; float: left; border: 0px solid black;'title=['.'] src='dataset_birds\\valid\\PALM NUT VULTURE\\5.jpg'/></div>"
      ],
      "text/plain": [
       "<IPython.core.display.HTML object>"
      ]
     },
     "metadata": {},
     "output_type": "display_data"
    },
    {
     "name": "stdout",
     "output_type": "stream",
     "text": [
      "Drawing .\n"
     ]
    },
    {
     "data": {
      "text/html": [
       "<div class=\"zoom\"><img style='width: 100px; height: 100px; margin: 1px; float: left; border: 0px solid black;'title=['.'] src='dataset_birds\\valid\\PARADISE TANAGER\\1.jpg'/></div><div class=\"zoom\"><img style='width: 100px; height: 100px; margin: 1px; float: left; border: 0px solid black;'title=['.'] src='dataset_birds\\valid\\PARADISE TANAGER\\2.jpg'/></div><div class=\"zoom\"><img style='width: 100px; height: 100px; margin: 1px; float: left; border: 0px solid black;'title=['.'] src='dataset_birds\\valid\\PARADISE TANAGER\\3.jpg'/></div><div class=\"zoom\"><img style='width: 100px; height: 100px; margin: 1px; float: left; border: 0px solid black;'title=['.'] src='dataset_birds\\valid\\PARADISE TANAGER\\4.jpg'/></div><div class=\"zoom\"><img style='width: 100px; height: 100px; margin: 1px; float: left; border: 0px solid black;'title=['.'] src='dataset_birds\\valid\\PARADISE TANAGER\\5.jpg'/></div>"
      ],
      "text/plain": [
       "<IPython.core.display.HTML object>"
      ]
     },
     "metadata": {},
     "output_type": "display_data"
    },
    {
     "data": {
      "text/html": [],
      "text/plain": [
       "<IPython.core.display.HTML object>"
      ]
     },
     "metadata": {},
     "output_type": "display_data"
    },
    {
     "name": "stdout",
     "output_type": "stream",
     "text": [
      "Drawing .\n"
     ]
    },
    {
     "data": {
      "text/html": [
       "<div class=\"zoom\"><img style='width: 100px; height: 100px; margin: 1px; float: left; border: 0px solid black;'title=['.'] src='dataset_birds\\valid\\PARUS MAJOR\\1.jpg'/></div><div class=\"zoom\"><img style='width: 100px; height: 100px; margin: 1px; float: left; border: 0px solid black;'title=['.'] src='dataset_birds\\valid\\PARUS MAJOR\\2.jpg'/></div><div class=\"zoom\"><img style='width: 100px; height: 100px; margin: 1px; float: left; border: 0px solid black;'title=['.'] src='dataset_birds\\valid\\PARUS MAJOR\\3.jpg'/></div><div class=\"zoom\"><img style='width: 100px; height: 100px; margin: 1px; float: left; border: 0px solid black;'title=['.'] src='dataset_birds\\valid\\PARUS MAJOR\\4.jpg'/></div><div class=\"zoom\"><img style='width: 100px; height: 100px; margin: 1px; float: left; border: 0px solid black;'title=['.'] src='dataset_birds\\valid\\PARUS MAJOR\\5.jpg'/></div>"
      ],
      "text/plain": [
       "<IPython.core.display.HTML object>"
      ]
     },
     "metadata": {},
     "output_type": "display_data"
    },
    {
     "name": "stdout",
     "output_type": "stream",
     "text": [
      "Drawing .\n"
     ]
    },
    {
     "data": {
      "text/html": [
       "<div class=\"zoom\"><img style='width: 100px; height: 100px; margin: 1px; float: left; border: 0px solid black;'title=['.'] src='dataset_birds\\valid\\PATAGONIAN SIERRA FINCH\\1.jpg'/></div><div class=\"zoom\"><img style='width: 100px; height: 100px; margin: 1px; float: left; border: 0px solid black;'title=['.'] src='dataset_birds\\valid\\PATAGONIAN SIERRA FINCH\\2.jpg'/></div><div class=\"zoom\"><img style='width: 100px; height: 100px; margin: 1px; float: left; border: 0px solid black;'title=['.'] src='dataset_birds\\valid\\PATAGONIAN SIERRA FINCH\\3.jpg'/></div><div class=\"zoom\"><img style='width: 100px; height: 100px; margin: 1px; float: left; border: 0px solid black;'title=['.'] src='dataset_birds\\valid\\PATAGONIAN SIERRA FINCH\\4.jpg'/></div><div class=\"zoom\"><img style='width: 100px; height: 100px; margin: 1px; float: left; border: 0px solid black;'title=['.'] src='dataset_birds\\valid\\PATAGONIAN SIERRA FINCH\\5.jpg'/></div>"
      ],
      "text/plain": [
       "<IPython.core.display.HTML object>"
      ]
     },
     "metadata": {},
     "output_type": "display_data"
    },
    {
     "name": "stdout",
     "output_type": "stream",
     "text": [
      "Drawing .\n"
     ]
    },
    {
     "data": {
      "text/html": [
       "<div class=\"zoom\"><img style='width: 100px; height: 100px; margin: 1px; float: left; border: 0px solid black;'title=['.'] src='dataset_birds\\valid\\PEACOCK\\1.jpg'/></div><div class=\"zoom\"><img style='width: 100px; height: 100px; margin: 1px; float: left; border: 0px solid black;'title=['.'] src='dataset_birds\\valid\\PEACOCK\\2.jpg'/></div><div class=\"zoom\"><img style='width: 100px; height: 100px; margin: 1px; float: left; border: 0px solid black;'title=['.'] src='dataset_birds\\valid\\PEACOCK\\3.jpg'/></div><div class=\"zoom\"><img style='width: 100px; height: 100px; margin: 1px; float: left; border: 0px solid black;'title=['.'] src='dataset_birds\\valid\\PEACOCK\\4.jpg'/></div><div class=\"zoom\"><img style='width: 100px; height: 100px; margin: 1px; float: left; border: 0px solid black;'title=['.'] src='dataset_birds\\valid\\PEACOCK\\5.jpg'/></div>"
      ],
      "text/plain": [
       "<IPython.core.display.HTML object>"
      ]
     },
     "metadata": {},
     "output_type": "display_data"
    },
    {
     "name": "stdout",
     "output_type": "stream",
     "text": [
      "Drawing .\n"
     ]
    },
    {
     "data": {
      "text/html": [
       "<div class=\"zoom\"><img style='width: 100px; height: 100px; margin: 1px; float: left; border: 0px solid black;'title=['.'] src='dataset_birds\\valid\\PEREGRINE FALCON\\1.jpg'/></div><div class=\"zoom\"><img style='width: 100px; height: 100px; margin: 1px; float: left; border: 0px solid black;'title=['.'] src='dataset_birds\\valid\\PEREGRINE FALCON\\2.jpg'/></div><div class=\"zoom\"><img style='width: 100px; height: 100px; margin: 1px; float: left; border: 0px solid black;'title=['.'] src='dataset_birds\\valid\\PEREGRINE FALCON\\3.jpg'/></div><div class=\"zoom\"><img style='width: 100px; height: 100px; margin: 1px; float: left; border: 0px solid black;'title=['.'] src='dataset_birds\\valid\\PEREGRINE FALCON\\4.jpg'/></div><div class=\"zoom\"><img style='width: 100px; height: 100px; margin: 1px; float: left; border: 0px solid black;'title=['.'] src='dataset_birds\\valid\\PEREGRINE FALCON\\5.jpg'/></div>"
      ],
      "text/plain": [
       "<IPython.core.display.HTML object>"
      ]
     },
     "metadata": {},
     "output_type": "display_data"
    },
    {
     "name": "stdout",
     "output_type": "stream",
     "text": [
      "Drawing .\n"
     ]
    },
    {
     "data": {
      "text/html": [
       "<div class=\"zoom\"><img style='width: 100px; height: 100px; margin: 1px; float: left; border: 0px solid black;'title=['.'] src='dataset_birds\\valid\\PHAINOPEPLA\\1.jpg'/></div><div class=\"zoom\"><img style='width: 100px; height: 100px; margin: 1px; float: left; border: 0px solid black;'title=['.'] src='dataset_birds\\valid\\PHAINOPEPLA\\2.jpg'/></div><div class=\"zoom\"><img style='width: 100px; height: 100px; margin: 1px; float: left; border: 0px solid black;'title=['.'] src='dataset_birds\\valid\\PHAINOPEPLA\\3.jpg'/></div><div class=\"zoom\"><img style='width: 100px; height: 100px; margin: 1px; float: left; border: 0px solid black;'title=['.'] src='dataset_birds\\valid\\PHAINOPEPLA\\4.jpg'/></div><div class=\"zoom\"><img style='width: 100px; height: 100px; margin: 1px; float: left; border: 0px solid black;'title=['.'] src='dataset_birds\\valid\\PHAINOPEPLA\\5.jpg'/></div>"
      ],
      "text/plain": [
       "<IPython.core.display.HTML object>"
      ]
     },
     "metadata": {},
     "output_type": "display_data"
    },
    {
     "name": "stdout",
     "output_type": "stream",
     "text": [
      "Drawing .\n"
     ]
    },
    {
     "data": {
      "text/html": [
       "<div class=\"zoom\"><img style='width: 100px; height: 100px; margin: 1px; float: left; border: 0px solid black;'title=['.'] src='dataset_birds\\valid\\PHILIPPINE EAGLE\\1.jpg'/></div><div class=\"zoom\"><img style='width: 100px; height: 100px; margin: 1px; float: left; border: 0px solid black;'title=['.'] src='dataset_birds\\valid\\PHILIPPINE EAGLE\\2.jpg'/></div><div class=\"zoom\"><img style='width: 100px; height: 100px; margin: 1px; float: left; border: 0px solid black;'title=['.'] src='dataset_birds\\valid\\PHILIPPINE EAGLE\\3.jpg'/></div><div class=\"zoom\"><img style='width: 100px; height: 100px; margin: 1px; float: left; border: 0px solid black;'title=['.'] src='dataset_birds\\valid\\PHILIPPINE EAGLE\\4.jpg'/></div><div class=\"zoom\"><img style='width: 100px; height: 100px; margin: 1px; float: left; border: 0px solid black;'title=['.'] src='dataset_birds\\valid\\PHILIPPINE EAGLE\\5.jpg'/></div>"
      ],
      "text/plain": [
       "<IPython.core.display.HTML object>"
      ]
     },
     "metadata": {},
     "output_type": "display_data"
    },
    {
     "name": "stdout",
     "output_type": "stream",
     "text": [
      "Drawing .\n"
     ]
    },
    {
     "data": {
      "text/html": [
       "<div class=\"zoom\"><img style='width: 100px; height: 100px; margin: 1px; float: left; border: 0px solid black;'title=['.'] src='dataset_birds\\valid\\PINK ROBIN\\1.jpg'/></div><div class=\"zoom\"><img style='width: 100px; height: 100px; margin: 1px; float: left; border: 0px solid black;'title=['.'] src='dataset_birds\\valid\\PINK ROBIN\\2.jpg'/></div><div class=\"zoom\"><img style='width: 100px; height: 100px; margin: 1px; float: left; border: 0px solid black;'title=['.'] src='dataset_birds\\valid\\PINK ROBIN\\3.jpg'/></div><div class=\"zoom\"><img style='width: 100px; height: 100px; margin: 1px; float: left; border: 0px solid black;'title=['.'] src='dataset_birds\\valid\\PINK ROBIN\\4.jpg'/></div><div class=\"zoom\"><img style='width: 100px; height: 100px; margin: 1px; float: left; border: 0px solid black;'title=['.'] src='dataset_birds\\valid\\PINK ROBIN\\5.jpg'/></div>"
      ],
      "text/plain": [
       "<IPython.core.display.HTML object>"
      ]
     },
     "metadata": {},
     "output_type": "display_data"
    },
    {
     "name": "stdout",
     "output_type": "stream",
     "text": [
      "Drawing .\n"
     ]
    },
    {
     "data": {
      "text/html": [
       "<div class=\"zoom\"><img style='width: 100px; height: 100px; margin: 1px; float: left; border: 0px solid black;'title=['.'] src='dataset_birds\\valid\\PLUSH CRESTED JAY\\1.jpg'/></div><div class=\"zoom\"><img style='width: 100px; height: 100px; margin: 1px; float: left; border: 0px solid black;'title=['.'] src='dataset_birds\\valid\\PLUSH CRESTED JAY\\2.jpg'/></div><div class=\"zoom\"><img style='width: 100px; height: 100px; margin: 1px; float: left; border: 0px solid black;'title=['.'] src='dataset_birds\\valid\\PLUSH CRESTED JAY\\3.jpg'/></div><div class=\"zoom\"><img style='width: 100px; height: 100px; margin: 1px; float: left; border: 0px solid black;'title=['.'] src='dataset_birds\\valid\\PLUSH CRESTED JAY\\4.jpg'/></div><div class=\"zoom\"><img style='width: 100px; height: 100px; margin: 1px; float: left; border: 0px solid black;'title=['.'] src='dataset_birds\\valid\\PLUSH CRESTED JAY\\5.jpg'/></div>"
      ],
      "text/plain": [
       "<IPython.core.display.HTML object>"
      ]
     },
     "metadata": {},
     "output_type": "display_data"
    },
    {
     "name": "stdout",
     "output_type": "stream",
     "text": [
      "Drawing .\n"
     ]
    },
    {
     "data": {
      "text/html": [
       "<div class=\"zoom\"><img style='width: 100px; height: 100px; margin: 1px; float: left; border: 0px solid black;'title=['.'] src='dataset_birds\\valid\\POMARINE JAEGER\\1.jpg'/></div><div class=\"zoom\"><img style='width: 100px; height: 100px; margin: 1px; float: left; border: 0px solid black;'title=['.'] src='dataset_birds\\valid\\POMARINE JAEGER\\2.jpg'/></div><div class=\"zoom\"><img style='width: 100px; height: 100px; margin: 1px; float: left; border: 0px solid black;'title=['.'] src='dataset_birds\\valid\\POMARINE JAEGER\\3.jpg'/></div><div class=\"zoom\"><img style='width: 100px; height: 100px; margin: 1px; float: left; border: 0px solid black;'title=['.'] src='dataset_birds\\valid\\POMARINE JAEGER\\4.jpg'/></div><div class=\"zoom\"><img style='width: 100px; height: 100px; margin: 1px; float: left; border: 0px solid black;'title=['.'] src='dataset_birds\\valid\\POMARINE JAEGER\\5.jpg'/></div>"
      ],
      "text/plain": [
       "<IPython.core.display.HTML object>"
      ]
     },
     "metadata": {},
     "output_type": "display_data"
    },
    {
     "name": "stdout",
     "output_type": "stream",
     "text": [
      "Drawing .\n"
     ]
    },
    {
     "data": {
      "text/html": [
       "<div class=\"zoom\"><img style='width: 100px; height: 100px; margin: 1px; float: left; border: 0px solid black;'title=['.'] src='dataset_birds\\valid\\PUFFIN\\1.jpg'/></div><div class=\"zoom\"><img style='width: 100px; height: 100px; margin: 1px; float: left; border: 0px solid black;'title=['.'] src='dataset_birds\\valid\\PUFFIN\\2.jpg'/></div><div class=\"zoom\"><img style='width: 100px; height: 100px; margin: 1px; float: left; border: 0px solid black;'title=['.'] src='dataset_birds\\valid\\PUFFIN\\3.jpg'/></div><div class=\"zoom\"><img style='width: 100px; height: 100px; margin: 1px; float: left; border: 0px solid black;'title=['.'] src='dataset_birds\\valid\\PUFFIN\\4.jpg'/></div><div class=\"zoom\"><img style='width: 100px; height: 100px; margin: 1px; float: left; border: 0px solid black;'title=['.'] src='dataset_birds\\valid\\PUFFIN\\5.jpg'/></div>"
      ],
      "text/plain": [
       "<IPython.core.display.HTML object>"
      ]
     },
     "metadata": {},
     "output_type": "display_data"
    },
    {
     "name": "stdout",
     "output_type": "stream",
     "text": [
      "Drawing .\n"
     ]
    },
    {
     "data": {
      "text/html": [
       "<div class=\"zoom\"><img style='width: 100px; height: 100px; margin: 1px; float: left; border: 0px solid black;'title=['.'] src='dataset_birds\\valid\\PUNA TEAL\\1.jpg'/></div><div class=\"zoom\"><img style='width: 100px; height: 100px; margin: 1px; float: left; border: 0px solid black;'title=['.'] src='dataset_birds\\valid\\PUNA TEAL\\2.jpg'/></div><div class=\"zoom\"><img style='width: 100px; height: 100px; margin: 1px; float: left; border: 0px solid black;'title=['.'] src='dataset_birds\\valid\\PUNA TEAL\\3.jpg'/></div><div class=\"zoom\"><img style='width: 100px; height: 100px; margin: 1px; float: left; border: 0px solid black;'title=['.'] src='dataset_birds\\valid\\PUNA TEAL\\4.jpg'/></div><div class=\"zoom\"><img style='width: 100px; height: 100px; margin: 1px; float: left; border: 0px solid black;'title=['.'] src='dataset_birds\\valid\\PUNA TEAL\\5.jpg'/></div>"
      ],
      "text/plain": [
       "<IPython.core.display.HTML object>"
      ]
     },
     "metadata": {},
     "output_type": "display_data"
    },
    {
     "name": "stdout",
     "output_type": "stream",
     "text": [
      "Drawing .\n"
     ]
    },
    {
     "data": {
      "text/html": [
       "<div class=\"zoom\"><img style='width: 100px; height: 100px; margin: 1px; float: left; border: 0px solid black;'title=['.'] src='dataset_birds\\valid\\PURPLE FINCH\\1.jpg'/></div><div class=\"zoom\"><img style='width: 100px; height: 100px; margin: 1px; float: left; border: 0px solid black;'title=['.'] src='dataset_birds\\valid\\PURPLE FINCH\\2.jpg'/></div><div class=\"zoom\"><img style='width: 100px; height: 100px; margin: 1px; float: left; border: 0px solid black;'title=['.'] src='dataset_birds\\valid\\PURPLE FINCH\\3.jpg'/></div><div class=\"zoom\"><img style='width: 100px; height: 100px; margin: 1px; float: left; border: 0px solid black;'title=['.'] src='dataset_birds\\valid\\PURPLE FINCH\\4.jpg'/></div><div class=\"zoom\"><img style='width: 100px; height: 100px; margin: 1px; float: left; border: 0px solid black;'title=['.'] src='dataset_birds\\valid\\PURPLE FINCH\\5.jpg'/></div>"
      ],
      "text/plain": [
       "<IPython.core.display.HTML object>"
      ]
     },
     "metadata": {},
     "output_type": "display_data"
    },
    {
     "name": "stdout",
     "output_type": "stream",
     "text": [
      "Drawing .\n"
     ]
    },
    {
     "data": {
      "text/html": [
       "<div class=\"zoom\"><img style='width: 100px; height: 100px; margin: 1px; float: left; border: 0px solid black;'title=['.'] src='dataset_birds\\valid\\PURPLE GALLINULE\\1.jpg'/></div><div class=\"zoom\"><img style='width: 100px; height: 100px; margin: 1px; float: left; border: 0px solid black;'title=['.'] src='dataset_birds\\valid\\PURPLE GALLINULE\\2.jpg'/></div><div class=\"zoom\"><img style='width: 100px; height: 100px; margin: 1px; float: left; border: 0px solid black;'title=['.'] src='dataset_birds\\valid\\PURPLE GALLINULE\\3.jpg'/></div><div class=\"zoom\"><img style='width: 100px; height: 100px; margin: 1px; float: left; border: 0px solid black;'title=['.'] src='dataset_birds\\valid\\PURPLE GALLINULE\\4.jpg'/></div><div class=\"zoom\"><img style='width: 100px; height: 100px; margin: 1px; float: left; border: 0px solid black;'title=['.'] src='dataset_birds\\valid\\PURPLE GALLINULE\\5.jpg'/></div>"
      ],
      "text/plain": [
       "<IPython.core.display.HTML object>"
      ]
     },
     "metadata": {},
     "output_type": "display_data"
    },
    {
     "name": "stdout",
     "output_type": "stream",
     "text": [
      "Drawing .\n"
     ]
    },
    {
     "data": {
      "text/html": [
       "<div class=\"zoom\"><img style='width: 100px; height: 100px; margin: 1px; float: left; border: 0px solid black;'title=['.'] src='dataset_birds\\valid\\PURPLE MARTIN\\1.jpg'/></div><div class=\"zoom\"><img style='width: 100px; height: 100px; margin: 1px; float: left; border: 0px solid black;'title=['.'] src='dataset_birds\\valid\\PURPLE MARTIN\\2.jpg'/></div><div class=\"zoom\"><img style='width: 100px; height: 100px; margin: 1px; float: left; border: 0px solid black;'title=['.'] src='dataset_birds\\valid\\PURPLE MARTIN\\3.jpg'/></div><div class=\"zoom\"><img style='width: 100px; height: 100px; margin: 1px; float: left; border: 0px solid black;'title=['.'] src='dataset_birds\\valid\\PURPLE MARTIN\\4.jpg'/></div><div class=\"zoom\"><img style='width: 100px; height: 100px; margin: 1px; float: left; border: 0px solid black;'title=['.'] src='dataset_birds\\valid\\PURPLE MARTIN\\5.jpg'/></div>"
      ],
      "text/plain": [
       "<IPython.core.display.HTML object>"
      ]
     },
     "metadata": {},
     "output_type": "display_data"
    },
    {
     "name": "stdout",
     "output_type": "stream",
     "text": [
      "Drawing .\n"
     ]
    },
    {
     "data": {
      "text/html": [
       "<div class=\"zoom\"><img style='width: 100px; height: 100px; margin: 1px; float: left; border: 0px solid black;'title=['.'] src='dataset_birds\\valid\\PURPLE SWAMPHEN\\1.jpg'/></div><div class=\"zoom\"><img style='width: 100px; height: 100px; margin: 1px; float: left; border: 0px solid black;'title=['.'] src='dataset_birds\\valid\\PURPLE SWAMPHEN\\2.jpg'/></div><div class=\"zoom\"><img style='width: 100px; height: 100px; margin: 1px; float: left; border: 0px solid black;'title=['.'] src='dataset_birds\\valid\\PURPLE SWAMPHEN\\3.jpg'/></div><div class=\"zoom\"><img style='width: 100px; height: 100px; margin: 1px; float: left; border: 0px solid black;'title=['.'] src='dataset_birds\\valid\\PURPLE SWAMPHEN\\4.jpg'/></div><div class=\"zoom\"><img style='width: 100px; height: 100px; margin: 1px; float: left; border: 0px solid black;'title=['.'] src='dataset_birds\\valid\\PURPLE SWAMPHEN\\5.jpg'/></div>"
      ],
      "text/plain": [
       "<IPython.core.display.HTML object>"
      ]
     },
     "metadata": {},
     "output_type": "display_data"
    },
    {
     "name": "stdout",
     "output_type": "stream",
     "text": [
      "Drawing .\n"
     ]
    },
    {
     "data": {
      "text/html": [
       "<div class=\"zoom\"><img style='width: 100px; height: 100px; margin: 1px; float: left; border: 0px solid black;'title=['.'] src='dataset_birds\\valid\\PYGMY KINGFISHER\\1.jpg'/></div><div class=\"zoom\"><img style='width: 100px; height: 100px; margin: 1px; float: left; border: 0px solid black;'title=['.'] src='dataset_birds\\valid\\PYGMY KINGFISHER\\2.jpg'/></div><div class=\"zoom\"><img style='width: 100px; height: 100px; margin: 1px; float: left; border: 0px solid black;'title=['.'] src='dataset_birds\\valid\\PYGMY KINGFISHER\\3.jpg'/></div><div class=\"zoom\"><img style='width: 100px; height: 100px; margin: 1px; float: left; border: 0px solid black;'title=['.'] src='dataset_birds\\valid\\PYGMY KINGFISHER\\4.jpg'/></div><div class=\"zoom\"><img style='width: 100px; height: 100px; margin: 1px; float: left; border: 0px solid black;'title=['.'] src='dataset_birds\\valid\\PYGMY KINGFISHER\\5.jpg'/></div>"
      ],
      "text/plain": [
       "<IPython.core.display.HTML object>"
      ]
     },
     "metadata": {},
     "output_type": "display_data"
    },
    {
     "name": "stdout",
     "output_type": "stream",
     "text": [
      "Drawing .\n"
     ]
    },
    {
     "data": {
      "text/html": [
       "<div class=\"zoom\"><img style='width: 100px; height: 100px; margin: 1px; float: left; border: 0px solid black;'title=['.'] src='dataset_birds\\valid\\PYRRHULOXIA\\1.jpg'/></div><div class=\"zoom\"><img style='width: 100px; height: 100px; margin: 1px; float: left; border: 0px solid black;'title=['.'] src='dataset_birds\\valid\\PYRRHULOXIA\\2.jpg'/></div><div class=\"zoom\"><img style='width: 100px; height: 100px; margin: 1px; float: left; border: 0px solid black;'title=['.'] src='dataset_birds\\valid\\PYRRHULOXIA\\3.jpg'/></div><div class=\"zoom\"><img style='width: 100px; height: 100px; margin: 1px; float: left; border: 0px solid black;'title=['.'] src='dataset_birds\\valid\\PYRRHULOXIA\\4.jpg'/></div><div class=\"zoom\"><img style='width: 100px; height: 100px; margin: 1px; float: left; border: 0px solid black;'title=['.'] src='dataset_birds\\valid\\PYRRHULOXIA\\5.jpg'/></div>"
      ],
      "text/plain": [
       "<IPython.core.display.HTML object>"
      ]
     },
     "metadata": {},
     "output_type": "display_data"
    },
    {
     "name": "stdout",
     "output_type": "stream",
     "text": [
      "Drawing .\n"
     ]
    },
    {
     "data": {
      "text/html": [
       "<div class=\"zoom\"><img style='width: 100px; height: 100px; margin: 1px; float: left; border: 0px solid black;'title=['.'] src='dataset_birds\\valid\\QUETZAL\\1.jpg'/></div><div class=\"zoom\"><img style='width: 100px; height: 100px; margin: 1px; float: left; border: 0px solid black;'title=['.'] src='dataset_birds\\valid\\QUETZAL\\2.jpg'/></div><div class=\"zoom\"><img style='width: 100px; height: 100px; margin: 1px; float: left; border: 0px solid black;'title=['.'] src='dataset_birds\\valid\\QUETZAL\\3.jpg'/></div><div class=\"zoom\"><img style='width: 100px; height: 100px; margin: 1px; float: left; border: 0px solid black;'title=['.'] src='dataset_birds\\valid\\QUETZAL\\4.jpg'/></div><div class=\"zoom\"><img style='width: 100px; height: 100px; margin: 1px; float: left; border: 0px solid black;'title=['.'] src='dataset_birds\\valid\\QUETZAL\\5.jpg'/></div>"
      ],
      "text/plain": [
       "<IPython.core.display.HTML object>"
      ]
     },
     "metadata": {},
     "output_type": "display_data"
    },
    {
     "name": "stdout",
     "output_type": "stream",
     "text": [
      "Drawing .\n"
     ]
    },
    {
     "data": {
      "text/html": [
       "<div class=\"zoom\"><img style='width: 100px; height: 100px; margin: 1px; float: left; border: 0px solid black;'title=['.'] src='dataset_birds\\valid\\RAINBOW LORIKEET\\1.jpg'/></div><div class=\"zoom\"><img style='width: 100px; height: 100px; margin: 1px; float: left; border: 0px solid black;'title=['.'] src='dataset_birds\\valid\\RAINBOW LORIKEET\\2.jpg'/></div><div class=\"zoom\"><img style='width: 100px; height: 100px; margin: 1px; float: left; border: 0px solid black;'title=['.'] src='dataset_birds\\valid\\RAINBOW LORIKEET\\3.jpg'/></div><div class=\"zoom\"><img style='width: 100px; height: 100px; margin: 1px; float: left; border: 0px solid black;'title=['.'] src='dataset_birds\\valid\\RAINBOW LORIKEET\\4.jpg'/></div><div class=\"zoom\"><img style='width: 100px; height: 100px; margin: 1px; float: left; border: 0px solid black;'title=['.'] src='dataset_birds\\valid\\RAINBOW LORIKEET\\5.jpg'/></div>"
      ],
      "text/plain": [
       "<IPython.core.display.HTML object>"
      ]
     },
     "metadata": {},
     "output_type": "display_data"
    },
    {
     "name": "stdout",
     "output_type": "stream",
     "text": [
      "Drawing .\n"
     ]
    },
    {
     "data": {
      "text/html": [
       "<div class=\"zoom\"><img style='width: 100px; height: 100px; margin: 1px; float: left; border: 0px solid black;'title=['.'] src='dataset_birds\\valid\\RAZORBILL\\1.jpg'/></div><div class=\"zoom\"><img style='width: 100px; height: 100px; margin: 1px; float: left; border: 0px solid black;'title=['.'] src='dataset_birds\\valid\\RAZORBILL\\2.jpg'/></div><div class=\"zoom\"><img style='width: 100px; height: 100px; margin: 1px; float: left; border: 0px solid black;'title=['.'] src='dataset_birds\\valid\\RAZORBILL\\3.jpg'/></div><div class=\"zoom\"><img style='width: 100px; height: 100px; margin: 1px; float: left; border: 0px solid black;'title=['.'] src='dataset_birds\\valid\\RAZORBILL\\4.jpg'/></div><div class=\"zoom\"><img style='width: 100px; height: 100px; margin: 1px; float: left; border: 0px solid black;'title=['.'] src='dataset_birds\\valid\\RAZORBILL\\5.jpg'/></div>"
      ],
      "text/plain": [
       "<IPython.core.display.HTML object>"
      ]
     },
     "metadata": {},
     "output_type": "display_data"
    },
    {
     "name": "stdout",
     "output_type": "stream",
     "text": [
      "Drawing .\n"
     ]
    },
    {
     "data": {
      "text/html": [
       "<div class=\"zoom\"><img style='width: 100px; height: 100px; margin: 1px; float: left; border: 0px solid black;'title=['.'] src='dataset_birds\\valid\\RED BEARDED BEE EATER\\1.jpg'/></div><div class=\"zoom\"><img style='width: 100px; height: 100px; margin: 1px; float: left; border: 0px solid black;'title=['.'] src='dataset_birds\\valid\\RED BEARDED BEE EATER\\2.jpg'/></div><div class=\"zoom\"><img style='width: 100px; height: 100px; margin: 1px; float: left; border: 0px solid black;'title=['.'] src='dataset_birds\\valid\\RED BEARDED BEE EATER\\3.jpg'/></div><div class=\"zoom\"><img style='width: 100px; height: 100px; margin: 1px; float: left; border: 0px solid black;'title=['.'] src='dataset_birds\\valid\\RED BEARDED BEE EATER\\4.jpg'/></div><div class=\"zoom\"><img style='width: 100px; height: 100px; margin: 1px; float: left; border: 0px solid black;'title=['.'] src='dataset_birds\\valid\\RED BEARDED BEE EATER\\5.jpg'/></div>"
      ],
      "text/plain": [
       "<IPython.core.display.HTML object>"
      ]
     },
     "metadata": {},
     "output_type": "display_data"
    },
    {
     "name": "stdout",
     "output_type": "stream",
     "text": [
      "Drawing .\n"
     ]
    },
    {
     "data": {
      "text/html": [
       "<div class=\"zoom\"><img style='width: 100px; height: 100px; margin: 1px; float: left; border: 0px solid black;'title=['.'] src='dataset_birds\\valid\\RED BELLIED PITTA\\1.jpg'/></div><div class=\"zoom\"><img style='width: 100px; height: 100px; margin: 1px; float: left; border: 0px solid black;'title=['.'] src='dataset_birds\\valid\\RED BELLIED PITTA\\2.jpg'/></div><div class=\"zoom\"><img style='width: 100px; height: 100px; margin: 1px; float: left; border: 0px solid black;'title=['.'] src='dataset_birds\\valid\\RED BELLIED PITTA\\3.jpg'/></div><div class=\"zoom\"><img style='width: 100px; height: 100px; margin: 1px; float: left; border: 0px solid black;'title=['.'] src='dataset_birds\\valid\\RED BELLIED PITTA\\4.jpg'/></div><div class=\"zoom\"><img style='width: 100px; height: 100px; margin: 1px; float: left; border: 0px solid black;'title=['.'] src='dataset_birds\\valid\\RED BELLIED PITTA\\5.jpg'/></div>"
      ],
      "text/plain": [
       "<IPython.core.display.HTML object>"
      ]
     },
     "metadata": {},
     "output_type": "display_data"
    },
    {
     "name": "stdout",
     "output_type": "stream",
     "text": [
      "Drawing .\n"
     ]
    },
    {
     "data": {
      "text/html": [
       "<div class=\"zoom\"><img style='width: 100px; height: 100px; margin: 1px; float: left; border: 0px solid black;'title=['.'] src='dataset_birds\\valid\\RED BILLED TROPICBIRD\\1.jpg'/></div><div class=\"zoom\"><img style='width: 100px; height: 100px; margin: 1px; float: left; border: 0px solid black;'title=['.'] src='dataset_birds\\valid\\RED BILLED TROPICBIRD\\2.jpg'/></div><div class=\"zoom\"><img style='width: 100px; height: 100px; margin: 1px; float: left; border: 0px solid black;'title=['.'] src='dataset_birds\\valid\\RED BILLED TROPICBIRD\\3.jpg'/></div><div class=\"zoom\"><img style='width: 100px; height: 100px; margin: 1px; float: left; border: 0px solid black;'title=['.'] src='dataset_birds\\valid\\RED BILLED TROPICBIRD\\4.jpg'/></div><div class=\"zoom\"><img style='width: 100px; height: 100px; margin: 1px; float: left; border: 0px solid black;'title=['.'] src='dataset_birds\\valid\\RED BILLED TROPICBIRD\\5.jpg'/></div>"
      ],
      "text/plain": [
       "<IPython.core.display.HTML object>"
      ]
     },
     "metadata": {},
     "output_type": "display_data"
    },
    {
     "name": "stdout",
     "output_type": "stream",
     "text": [
      "Drawing .\n"
     ]
    },
    {
     "data": {
      "text/html": [
       "<div class=\"zoom\"><img style='width: 100px; height: 100px; margin: 1px; float: left; border: 0px solid black;'title=['.'] src='dataset_birds\\valid\\RED BROWED FINCH\\1.jpg'/></div><div class=\"zoom\"><img style='width: 100px; height: 100px; margin: 1px; float: left; border: 0px solid black;'title=['.'] src='dataset_birds\\valid\\RED BROWED FINCH\\2.jpg'/></div><div class=\"zoom\"><img style='width: 100px; height: 100px; margin: 1px; float: left; border: 0px solid black;'title=['.'] src='dataset_birds\\valid\\RED BROWED FINCH\\3.jpg'/></div><div class=\"zoom\"><img style='width: 100px; height: 100px; margin: 1px; float: left; border: 0px solid black;'title=['.'] src='dataset_birds\\valid\\RED BROWED FINCH\\4.jpg'/></div><div class=\"zoom\"><img style='width: 100px; height: 100px; margin: 1px; float: left; border: 0px solid black;'title=['.'] src='dataset_birds\\valid\\RED BROWED FINCH\\5.jpg'/></div>"
      ],
      "text/plain": [
       "<IPython.core.display.HTML object>"
      ]
     },
     "metadata": {},
     "output_type": "display_data"
    },
    {
     "name": "stdout",
     "output_type": "stream",
     "text": [
      "Drawing .\n"
     ]
    },
    {
     "data": {
      "text/html": [
       "<div class=\"zoom\"><img style='width: 100px; height: 100px; margin: 1px; float: left; border: 0px solid black;'title=['.'] src='dataset_birds\\valid\\RED CROSSBILL\\1.jpg'/></div><div class=\"zoom\"><img style='width: 100px; height: 100px; margin: 1px; float: left; border: 0px solid black;'title=['.'] src='dataset_birds\\valid\\RED CROSSBILL\\2.jpg'/></div><div class=\"zoom\"><img style='width: 100px; height: 100px; margin: 1px; float: left; border: 0px solid black;'title=['.'] src='dataset_birds\\valid\\RED CROSSBILL\\3.jpg'/></div><div class=\"zoom\"><img style='width: 100px; height: 100px; margin: 1px; float: left; border: 0px solid black;'title=['.'] src='dataset_birds\\valid\\RED CROSSBILL\\4.jpg'/></div><div class=\"zoom\"><img style='width: 100px; height: 100px; margin: 1px; float: left; border: 0px solid black;'title=['.'] src='dataset_birds\\valid\\RED CROSSBILL\\5.jpg'/></div>"
      ],
      "text/plain": [
       "<IPython.core.display.HTML object>"
      ]
     },
     "metadata": {},
     "output_type": "display_data"
    },
    {
     "name": "stdout",
     "output_type": "stream",
     "text": [
      "Drawing .\n"
     ]
    },
    {
     "data": {
      "text/html": [
       "<div class=\"zoom\"><img style='width: 100px; height: 100px; margin: 1px; float: left; border: 0px solid black;'title=['.'] src='dataset_birds\\valid\\RED FACED CORMORANT\\1.jpg'/></div><div class=\"zoom\"><img style='width: 100px; height: 100px; margin: 1px; float: left; border: 0px solid black;'title=['.'] src='dataset_birds\\valid\\RED FACED CORMORANT\\2.jpg'/></div><div class=\"zoom\"><img style='width: 100px; height: 100px; margin: 1px; float: left; border: 0px solid black;'title=['.'] src='dataset_birds\\valid\\RED FACED CORMORANT\\3.jpg'/></div><div class=\"zoom\"><img style='width: 100px; height: 100px; margin: 1px; float: left; border: 0px solid black;'title=['.'] src='dataset_birds\\valid\\RED FACED CORMORANT\\4.jpg'/></div><div class=\"zoom\"><img style='width: 100px; height: 100px; margin: 1px; float: left; border: 0px solid black;'title=['.'] src='dataset_birds\\valid\\RED FACED CORMORANT\\5.jpg'/></div>"
      ],
      "text/plain": [
       "<IPython.core.display.HTML object>"
      ]
     },
     "metadata": {},
     "output_type": "display_data"
    },
    {
     "name": "stdout",
     "output_type": "stream",
     "text": [
      "Drawing .\n"
     ]
    },
    {
     "data": {
      "text/html": [
       "<div class=\"zoom\"><img style='width: 100px; height: 100px; margin: 1px; float: left; border: 0px solid black;'title=['.'] src='dataset_birds\\valid\\RED FACED WARBLER\\1.jpg'/></div><div class=\"zoom\"><img style='width: 100px; height: 100px; margin: 1px; float: left; border: 0px solid black;'title=['.'] src='dataset_birds\\valid\\RED FACED WARBLER\\2.jpg'/></div><div class=\"zoom\"><img style='width: 100px; height: 100px; margin: 1px; float: left; border: 0px solid black;'title=['.'] src='dataset_birds\\valid\\RED FACED WARBLER\\3.jpg'/></div><div class=\"zoom\"><img style='width: 100px; height: 100px; margin: 1px; float: left; border: 0px solid black;'title=['.'] src='dataset_birds\\valid\\RED FACED WARBLER\\4.jpg'/></div><div class=\"zoom\"><img style='width: 100px; height: 100px; margin: 1px; float: left; border: 0px solid black;'title=['.'] src='dataset_birds\\valid\\RED FACED WARBLER\\5.jpg'/></div>"
      ],
      "text/plain": [
       "<IPython.core.display.HTML object>"
      ]
     },
     "metadata": {},
     "output_type": "display_data"
    },
    {
     "name": "stdout",
     "output_type": "stream",
     "text": [
      "Drawing .\n"
     ]
    },
    {
     "data": {
      "text/html": [
       "<div class=\"zoom\"><img style='width: 100px; height: 100px; margin: 1px; float: left; border: 0px solid black;'title=['.'] src='dataset_birds\\valid\\RED FODY\\1.jpg'/></div><div class=\"zoom\"><img style='width: 100px; height: 100px; margin: 1px; float: left; border: 0px solid black;'title=['.'] src='dataset_birds\\valid\\RED FODY\\2.jpg'/></div><div class=\"zoom\"><img style='width: 100px; height: 100px; margin: 1px; float: left; border: 0px solid black;'title=['.'] src='dataset_birds\\valid\\RED FODY\\3.jpg'/></div><div class=\"zoom\"><img style='width: 100px; height: 100px; margin: 1px; float: left; border: 0px solid black;'title=['.'] src='dataset_birds\\valid\\RED FODY\\4.jpg'/></div><div class=\"zoom\"><img style='width: 100px; height: 100px; margin: 1px; float: left; border: 0px solid black;'title=['.'] src='dataset_birds\\valid\\RED FODY\\5.jpg'/></div>"
      ],
      "text/plain": [
       "<IPython.core.display.HTML object>"
      ]
     },
     "metadata": {},
     "output_type": "display_data"
    },
    {
     "name": "stdout",
     "output_type": "stream",
     "text": [
      "Drawing .\n"
     ]
    },
    {
     "data": {
      "text/html": [
       "<div class=\"zoom\"><img style='width: 100px; height: 100px; margin: 1px; float: left; border: 0px solid black;'title=['.'] src='dataset_birds\\valid\\RED HEADED DUCK\\1.jpg'/></div><div class=\"zoom\"><img style='width: 100px; height: 100px; margin: 1px; float: left; border: 0px solid black;'title=['.'] src='dataset_birds\\valid\\RED HEADED DUCK\\2.jpg'/></div><div class=\"zoom\"><img style='width: 100px; height: 100px; margin: 1px; float: left; border: 0px solid black;'title=['.'] src='dataset_birds\\valid\\RED HEADED DUCK\\3.jpg'/></div><div class=\"zoom\"><img style='width: 100px; height: 100px; margin: 1px; float: left; border: 0px solid black;'title=['.'] src='dataset_birds\\valid\\RED HEADED DUCK\\4.jpg'/></div><div class=\"zoom\"><img style='width: 100px; height: 100px; margin: 1px; float: left; border: 0px solid black;'title=['.'] src='dataset_birds\\valid\\RED HEADED DUCK\\5.jpg'/></div>"
      ],
      "text/plain": [
       "<IPython.core.display.HTML object>"
      ]
     },
     "metadata": {},
     "output_type": "display_data"
    },
    {
     "name": "stdout",
     "output_type": "stream",
     "text": [
      "Drawing .\n"
     ]
    },
    {
     "data": {
      "text/html": [
       "<div class=\"zoom\"><img style='width: 100px; height: 100px; margin: 1px; float: left; border: 0px solid black;'title=['.'] src='dataset_birds\\valid\\RED HEADED WOODPECKER\\1.jpg'/></div><div class=\"zoom\"><img style='width: 100px; height: 100px; margin: 1px; float: left; border: 0px solid black;'title=['.'] src='dataset_birds\\valid\\RED HEADED WOODPECKER\\2.jpg'/></div><div class=\"zoom\"><img style='width: 100px; height: 100px; margin: 1px; float: left; border: 0px solid black;'title=['.'] src='dataset_birds\\valid\\RED HEADED WOODPECKER\\3.jpg'/></div><div class=\"zoom\"><img style='width: 100px; height: 100px; margin: 1px; float: left; border: 0px solid black;'title=['.'] src='dataset_birds\\valid\\RED HEADED WOODPECKER\\4.jpg'/></div><div class=\"zoom\"><img style='width: 100px; height: 100px; margin: 1px; float: left; border: 0px solid black;'title=['.'] src='dataset_birds\\valid\\RED HEADED WOODPECKER\\5.jpg'/></div>"
      ],
      "text/plain": [
       "<IPython.core.display.HTML object>"
      ]
     },
     "metadata": {},
     "output_type": "display_data"
    },
    {
     "name": "stdout",
     "output_type": "stream",
     "text": [
      "Drawing .\n"
     ]
    },
    {
     "data": {
      "text/html": [
       "<div class=\"zoom\"><img style='width: 100px; height: 100px; margin: 1px; float: left; border: 0px solid black;'title=['.'] src='dataset_birds\\valid\\RED KNOT\\1.jpg'/></div><div class=\"zoom\"><img style='width: 100px; height: 100px; margin: 1px; float: left; border: 0px solid black;'title=['.'] src='dataset_birds\\valid\\RED KNOT\\2.jpg'/></div><div class=\"zoom\"><img style='width: 100px; height: 100px; margin: 1px; float: left; border: 0px solid black;'title=['.'] src='dataset_birds\\valid\\RED KNOT\\3.jpg'/></div><div class=\"zoom\"><img style='width: 100px; height: 100px; margin: 1px; float: left; border: 0px solid black;'title=['.'] src='dataset_birds\\valid\\RED KNOT\\4.jpg'/></div><div class=\"zoom\"><img style='width: 100px; height: 100px; margin: 1px; float: left; border: 0px solid black;'title=['.'] src='dataset_birds\\valid\\RED KNOT\\5.jpg'/></div>"
      ],
      "text/plain": [
       "<IPython.core.display.HTML object>"
      ]
     },
     "metadata": {},
     "output_type": "display_data"
    },
    {
     "name": "stdout",
     "output_type": "stream",
     "text": [
      "Drawing .\n"
     ]
    },
    {
     "data": {
      "text/html": [
       "<div class=\"zoom\"><img style='width: 100px; height: 100px; margin: 1px; float: left; border: 0px solid black;'title=['.'] src='dataset_birds\\valid\\RED LEGGED HONEYCREEPER\\1.jpg'/></div><div class=\"zoom\"><img style='width: 100px; height: 100px; margin: 1px; float: left; border: 0px solid black;'title=['.'] src='dataset_birds\\valid\\RED LEGGED HONEYCREEPER\\2.jpg'/></div><div class=\"zoom\"><img style='width: 100px; height: 100px; margin: 1px; float: left; border: 0px solid black;'title=['.'] src='dataset_birds\\valid\\RED LEGGED HONEYCREEPER\\3.jpg'/></div><div class=\"zoom\"><img style='width: 100px; height: 100px; margin: 1px; float: left; border: 0px solid black;'title=['.'] src='dataset_birds\\valid\\RED LEGGED HONEYCREEPER\\4.jpg'/></div><div class=\"zoom\"><img style='width: 100px; height: 100px; margin: 1px; float: left; border: 0px solid black;'title=['.'] src='dataset_birds\\valid\\RED LEGGED HONEYCREEPER\\5.jpg'/></div>"
      ],
      "text/plain": [
       "<IPython.core.display.HTML object>"
      ]
     },
     "metadata": {},
     "output_type": "display_data"
    },
    {
     "name": "stdout",
     "output_type": "stream",
     "text": [
      "Drawing .\n"
     ]
    },
    {
     "data": {
      "text/html": [
       "<div class=\"zoom\"><img style='width: 100px; height: 100px; margin: 1px; float: left; border: 0px solid black;'title=['.'] src='dataset_birds\\valid\\RED NAPED TROGON\\1.jpg'/></div><div class=\"zoom\"><img style='width: 100px; height: 100px; margin: 1px; float: left; border: 0px solid black;'title=['.'] src='dataset_birds\\valid\\RED NAPED TROGON\\2.jpg'/></div><div class=\"zoom\"><img style='width: 100px; height: 100px; margin: 1px; float: left; border: 0px solid black;'title=['.'] src='dataset_birds\\valid\\RED NAPED TROGON\\3.jpg'/></div><div class=\"zoom\"><img style='width: 100px; height: 100px; margin: 1px; float: left; border: 0px solid black;'title=['.'] src='dataset_birds\\valid\\RED NAPED TROGON\\4.jpg'/></div><div class=\"zoom\"><img style='width: 100px; height: 100px; margin: 1px; float: left; border: 0px solid black;'title=['.'] src='dataset_birds\\valid\\RED NAPED TROGON\\5.jpg'/></div>"
      ],
      "text/plain": [
       "<IPython.core.display.HTML object>"
      ]
     },
     "metadata": {},
     "output_type": "display_data"
    },
    {
     "name": "stdout",
     "output_type": "stream",
     "text": [
      "Drawing .\n"
     ]
    },
    {
     "data": {
      "text/html": [
       "<div class=\"zoom\"><img style='width: 100px; height: 100px; margin: 1px; float: left; border: 0px solid black;'title=['.'] src='dataset_birds\\valid\\RED SHOULDERED HAWK\\1.jpg'/></div><div class=\"zoom\"><img style='width: 100px; height: 100px; margin: 1px; float: left; border: 0px solid black;'title=['.'] src='dataset_birds\\valid\\RED SHOULDERED HAWK\\2.jpg'/></div><div class=\"zoom\"><img style='width: 100px; height: 100px; margin: 1px; float: left; border: 0px solid black;'title=['.'] src='dataset_birds\\valid\\RED SHOULDERED HAWK\\3.jpg'/></div><div class=\"zoom\"><img style='width: 100px; height: 100px; margin: 1px; float: left; border: 0px solid black;'title=['.'] src='dataset_birds\\valid\\RED SHOULDERED HAWK\\4.jpg'/></div><div class=\"zoom\"><img style='width: 100px; height: 100px; margin: 1px; float: left; border: 0px solid black;'title=['.'] src='dataset_birds\\valid\\RED SHOULDERED HAWK\\5.jpg'/></div>"
      ],
      "text/plain": [
       "<IPython.core.display.HTML object>"
      ]
     },
     "metadata": {},
     "output_type": "display_data"
    },
    {
     "name": "stdout",
     "output_type": "stream",
     "text": [
      "Drawing .\n"
     ]
    },
    {
     "data": {
      "text/html": [
       "<div class=\"zoom\"><img style='width: 100px; height: 100px; margin: 1px; float: left; border: 0px solid black;'title=['.'] src='dataset_birds\\valid\\RED TAILED HAWK\\1.jpg'/></div><div class=\"zoom\"><img style='width: 100px; height: 100px; margin: 1px; float: left; border: 0px solid black;'title=['.'] src='dataset_birds\\valid\\RED TAILED HAWK\\2.jpg'/></div><div class=\"zoom\"><img style='width: 100px; height: 100px; margin: 1px; float: left; border: 0px solid black;'title=['.'] src='dataset_birds\\valid\\RED TAILED HAWK\\3.jpg'/></div><div class=\"zoom\"><img style='width: 100px; height: 100px; margin: 1px; float: left; border: 0px solid black;'title=['.'] src='dataset_birds\\valid\\RED TAILED HAWK\\4.jpg'/></div><div class=\"zoom\"><img style='width: 100px; height: 100px; margin: 1px; float: left; border: 0px solid black;'title=['.'] src='dataset_birds\\valid\\RED TAILED HAWK\\5.jpg'/></div>"
      ],
      "text/plain": [
       "<IPython.core.display.HTML object>"
      ]
     },
     "metadata": {},
     "output_type": "display_data"
    },
    {
     "name": "stdout",
     "output_type": "stream",
     "text": [
      "Drawing .\n"
     ]
    },
    {
     "data": {
      "text/html": [
       "<div class=\"zoom\"><img style='width: 100px; height: 100px; margin: 1px; float: left; border: 0px solid black;'title=['.'] src='dataset_birds\\valid\\RED TAILED THRUSH\\1.jpg'/></div><div class=\"zoom\"><img style='width: 100px; height: 100px; margin: 1px; float: left; border: 0px solid black;'title=['.'] src='dataset_birds\\valid\\RED TAILED THRUSH\\2.jpg'/></div><div class=\"zoom\"><img style='width: 100px; height: 100px; margin: 1px; float: left; border: 0px solid black;'title=['.'] src='dataset_birds\\valid\\RED TAILED THRUSH\\3.jpg'/></div><div class=\"zoom\"><img style='width: 100px; height: 100px; margin: 1px; float: left; border: 0px solid black;'title=['.'] src='dataset_birds\\valid\\RED TAILED THRUSH\\4.jpg'/></div><div class=\"zoom\"><img style='width: 100px; height: 100px; margin: 1px; float: left; border: 0px solid black;'title=['.'] src='dataset_birds\\valid\\RED TAILED THRUSH\\5.jpg'/></div>"
      ],
      "text/plain": [
       "<IPython.core.display.HTML object>"
      ]
     },
     "metadata": {},
     "output_type": "display_data"
    },
    {
     "name": "stdout",
     "output_type": "stream",
     "text": [
      "Drawing .\n"
     ]
    },
    {
     "data": {
      "text/html": [
       "<div class=\"zoom\"><img style='width: 100px; height: 100px; margin: 1px; float: left; border: 0px solid black;'title=['.'] src='dataset_birds\\valid\\RED WINGED BLACKBIRD\\1.jpg'/></div><div class=\"zoom\"><img style='width: 100px; height: 100px; margin: 1px; float: left; border: 0px solid black;'title=['.'] src='dataset_birds\\valid\\RED WINGED BLACKBIRD\\2.jpg'/></div><div class=\"zoom\"><img style='width: 100px; height: 100px; margin: 1px; float: left; border: 0px solid black;'title=['.'] src='dataset_birds\\valid\\RED WINGED BLACKBIRD\\3.jpg'/></div><div class=\"zoom\"><img style='width: 100px; height: 100px; margin: 1px; float: left; border: 0px solid black;'title=['.'] src='dataset_birds\\valid\\RED WINGED BLACKBIRD\\4.jpg'/></div><div class=\"zoom\"><img style='width: 100px; height: 100px; margin: 1px; float: left; border: 0px solid black;'title=['.'] src='dataset_birds\\valid\\RED WINGED BLACKBIRD\\5.jpg'/></div>"
      ],
      "text/plain": [
       "<IPython.core.display.HTML object>"
      ]
     },
     "metadata": {},
     "output_type": "display_data"
    },
    {
     "name": "stdout",
     "output_type": "stream",
     "text": [
      "Drawing .\n"
     ]
    },
    {
     "data": {
      "text/html": [
       "<div class=\"zoom\"><img style='width: 100px; height: 100px; margin: 1px; float: left; border: 0px solid black;'title=['.'] src='dataset_birds\\valid\\RED WISKERED BULBUL\\1.jpg'/></div><div class=\"zoom\"><img style='width: 100px; height: 100px; margin: 1px; float: left; border: 0px solid black;'title=['.'] src='dataset_birds\\valid\\RED WISKERED BULBUL\\2.jpg'/></div><div class=\"zoom\"><img style='width: 100px; height: 100px; margin: 1px; float: left; border: 0px solid black;'title=['.'] src='dataset_birds\\valid\\RED WISKERED BULBUL\\3.jpg'/></div><div class=\"zoom\"><img style='width: 100px; height: 100px; margin: 1px; float: left; border: 0px solid black;'title=['.'] src='dataset_birds\\valid\\RED WISKERED BULBUL\\4.jpg'/></div><div class=\"zoom\"><img style='width: 100px; height: 100px; margin: 1px; float: left; border: 0px solid black;'title=['.'] src='dataset_birds\\valid\\RED WISKERED BULBUL\\5.jpg'/></div>"
      ],
      "text/plain": [
       "<IPython.core.display.HTML object>"
      ]
     },
     "metadata": {},
     "output_type": "display_data"
    },
    {
     "name": "stdout",
     "output_type": "stream",
     "text": [
      "Drawing .\n"
     ]
    },
    {
     "data": {
      "text/html": [
       "<div class=\"zoom\"><img style='width: 100px; height: 100px; margin: 1px; float: left; border: 0px solid black;'title=['.'] src='dataset_birds\\valid\\REGENT BOWERBIRD\\1.jpg'/></div><div class=\"zoom\"><img style='width: 100px; height: 100px; margin: 1px; float: left; border: 0px solid black;'title=['.'] src='dataset_birds\\valid\\REGENT BOWERBIRD\\2.jpg'/></div><div class=\"zoom\"><img style='width: 100px; height: 100px; margin: 1px; float: left; border: 0px solid black;'title=['.'] src='dataset_birds\\valid\\REGENT BOWERBIRD\\3.jpg'/></div><div class=\"zoom\"><img style='width: 100px; height: 100px; margin: 1px; float: left; border: 0px solid black;'title=['.'] src='dataset_birds\\valid\\REGENT BOWERBIRD\\4.jpg'/></div><div class=\"zoom\"><img style='width: 100px; height: 100px; margin: 1px; float: left; border: 0px solid black;'title=['.'] src='dataset_birds\\valid\\REGENT BOWERBIRD\\5.jpg'/></div>"
      ],
      "text/plain": [
       "<IPython.core.display.HTML object>"
      ]
     },
     "metadata": {},
     "output_type": "display_data"
    },
    {
     "name": "stdout",
     "output_type": "stream",
     "text": [
      "Drawing .\n"
     ]
    },
    {
     "data": {
      "text/html": [
       "<div class=\"zoom\"><img style='width: 100px; height: 100px; margin: 1px; float: left; border: 0px solid black;'title=['.'] src='dataset_birds\\valid\\RING-NECKED PHEASANT\\1.jpg'/></div><div class=\"zoom\"><img style='width: 100px; height: 100px; margin: 1px; float: left; border: 0px solid black;'title=['.'] src='dataset_birds\\valid\\RING-NECKED PHEASANT\\2.jpg'/></div><div class=\"zoom\"><img style='width: 100px; height: 100px; margin: 1px; float: left; border: 0px solid black;'title=['.'] src='dataset_birds\\valid\\RING-NECKED PHEASANT\\3.jpg'/></div><div class=\"zoom\"><img style='width: 100px; height: 100px; margin: 1px; float: left; border: 0px solid black;'title=['.'] src='dataset_birds\\valid\\RING-NECKED PHEASANT\\4.jpg'/></div><div class=\"zoom\"><img style='width: 100px; height: 100px; margin: 1px; float: left; border: 0px solid black;'title=['.'] src='dataset_birds\\valid\\RING-NECKED PHEASANT\\5.jpg'/></div>"
      ],
      "text/plain": [
       "<IPython.core.display.HTML object>"
      ]
     },
     "metadata": {},
     "output_type": "display_data"
    },
    {
     "name": "stdout",
     "output_type": "stream",
     "text": [
      "Drawing .\n"
     ]
    },
    {
     "data": {
      "text/html": [
       "<div class=\"zoom\"><img style='width: 100px; height: 100px; margin: 1px; float: left; border: 0px solid black;'title=['.'] src='dataset_birds\\valid\\ROADRUNNER\\1.jpg'/></div><div class=\"zoom\"><img style='width: 100px; height: 100px; margin: 1px; float: left; border: 0px solid black;'title=['.'] src='dataset_birds\\valid\\ROADRUNNER\\2.jpg'/></div><div class=\"zoom\"><img style='width: 100px; height: 100px; margin: 1px; float: left; border: 0px solid black;'title=['.'] src='dataset_birds\\valid\\ROADRUNNER\\3.jpg'/></div><div class=\"zoom\"><img style='width: 100px; height: 100px; margin: 1px; float: left; border: 0px solid black;'title=['.'] src='dataset_birds\\valid\\ROADRUNNER\\4.jpg'/></div><div class=\"zoom\"><img style='width: 100px; height: 100px; margin: 1px; float: left; border: 0px solid black;'title=['.'] src='dataset_birds\\valid\\ROADRUNNER\\5.jpg'/></div>"
      ],
      "text/plain": [
       "<IPython.core.display.HTML object>"
      ]
     },
     "metadata": {},
     "output_type": "display_data"
    },
    {
     "name": "stdout",
     "output_type": "stream",
     "text": [
      "Drawing .\n"
     ]
    },
    {
     "data": {
      "text/html": [
       "<div class=\"zoom\"><img style='width: 100px; height: 100px; margin: 1px; float: left; border: 0px solid black;'title=['.'] src='dataset_birds\\valid\\ROCK DOVE\\1.jpg'/></div><div class=\"zoom\"><img style='width: 100px; height: 100px; margin: 1px; float: left; border: 0px solid black;'title=['.'] src='dataset_birds\\valid\\ROCK DOVE\\2.jpg'/></div><div class=\"zoom\"><img style='width: 100px; height: 100px; margin: 1px; float: left; border: 0px solid black;'title=['.'] src='dataset_birds\\valid\\ROCK DOVE\\3.jpg'/></div><div class=\"zoom\"><img style='width: 100px; height: 100px; margin: 1px; float: left; border: 0px solid black;'title=['.'] src='dataset_birds\\valid\\ROCK DOVE\\4.jpg'/></div><div class=\"zoom\"><img style='width: 100px; height: 100px; margin: 1px; float: left; border: 0px solid black;'title=['.'] src='dataset_birds\\valid\\ROCK DOVE\\5.jpg'/></div>"
      ],
      "text/plain": [
       "<IPython.core.display.HTML object>"
      ]
     },
     "metadata": {},
     "output_type": "display_data"
    },
    {
     "name": "stdout",
     "output_type": "stream",
     "text": [
      "Drawing .\n"
     ]
    },
    {
     "data": {
      "text/html": [
       "<div class=\"zoom\"><img style='width: 100px; height: 100px; margin: 1px; float: left; border: 0px solid black;'title=['.'] src='dataset_birds\\valid\\ROSE BREASTED COCKATOO\\1.jpg'/></div><div class=\"zoom\"><img style='width: 100px; height: 100px; margin: 1px; float: left; border: 0px solid black;'title=['.'] src='dataset_birds\\valid\\ROSE BREASTED COCKATOO\\2.jpg'/></div><div class=\"zoom\"><img style='width: 100px; height: 100px; margin: 1px; float: left; border: 0px solid black;'title=['.'] src='dataset_birds\\valid\\ROSE BREASTED COCKATOO\\3.jpg'/></div><div class=\"zoom\"><img style='width: 100px; height: 100px; margin: 1px; float: left; border: 0px solid black;'title=['.'] src='dataset_birds\\valid\\ROSE BREASTED COCKATOO\\4.jpg'/></div><div class=\"zoom\"><img style='width: 100px; height: 100px; margin: 1px; float: left; border: 0px solid black;'title=['.'] src='dataset_birds\\valid\\ROSE BREASTED COCKATOO\\5.jpg'/></div>"
      ],
      "text/plain": [
       "<IPython.core.display.HTML object>"
      ]
     },
     "metadata": {},
     "output_type": "display_data"
    },
    {
     "name": "stdout",
     "output_type": "stream",
     "text": [
      "Drawing .\n"
     ]
    },
    {
     "data": {
      "text/html": [
       "<div class=\"zoom\"><img style='width: 100px; height: 100px; margin: 1px; float: left; border: 0px solid black;'title=['.'] src='dataset_birds\\valid\\ROSE BREASTED GROSBEAK\\1.jpg'/></div><div class=\"zoom\"><img style='width: 100px; height: 100px; margin: 1px; float: left; border: 0px solid black;'title=['.'] src='dataset_birds\\valid\\ROSE BREASTED GROSBEAK\\2.jpg'/></div><div class=\"zoom\"><img style='width: 100px; height: 100px; margin: 1px; float: left; border: 0px solid black;'title=['.'] src='dataset_birds\\valid\\ROSE BREASTED GROSBEAK\\3.jpg'/></div><div class=\"zoom\"><img style='width: 100px; height: 100px; margin: 1px; float: left; border: 0px solid black;'title=['.'] src='dataset_birds\\valid\\ROSE BREASTED GROSBEAK\\4.jpg'/></div><div class=\"zoom\"><img style='width: 100px; height: 100px; margin: 1px; float: left; border: 0px solid black;'title=['.'] src='dataset_birds\\valid\\ROSE BREASTED GROSBEAK\\5.jpg'/></div>"
      ],
      "text/plain": [
       "<IPython.core.display.HTML object>"
      ]
     },
     "metadata": {},
     "output_type": "display_data"
    },
    {
     "name": "stdout",
     "output_type": "stream",
     "text": [
      "Drawing .\n"
     ]
    },
    {
     "data": {
      "text/html": [
       "<div class=\"zoom\"><img style='width: 100px; height: 100px; margin: 1px; float: left; border: 0px solid black;'title=['.'] src='dataset_birds\\valid\\ROSEATE SPOONBILL\\1.jpg'/></div><div class=\"zoom\"><img style='width: 100px; height: 100px; margin: 1px; float: left; border: 0px solid black;'title=['.'] src='dataset_birds\\valid\\ROSEATE SPOONBILL\\2.jpg'/></div><div class=\"zoom\"><img style='width: 100px; height: 100px; margin: 1px; float: left; border: 0px solid black;'title=['.'] src='dataset_birds\\valid\\ROSEATE SPOONBILL\\3.jpg'/></div><div class=\"zoom\"><img style='width: 100px; height: 100px; margin: 1px; float: left; border: 0px solid black;'title=['.'] src='dataset_birds\\valid\\ROSEATE SPOONBILL\\4.jpg'/></div><div class=\"zoom\"><img style='width: 100px; height: 100px; margin: 1px; float: left; border: 0px solid black;'title=['.'] src='dataset_birds\\valid\\ROSEATE SPOONBILL\\5.jpg'/></div>"
      ],
      "text/plain": [
       "<IPython.core.display.HTML object>"
      ]
     },
     "metadata": {},
     "output_type": "display_data"
    },
    {
     "name": "stdout",
     "output_type": "stream",
     "text": [
      "Drawing .\n"
     ]
    },
    {
     "data": {
      "text/html": [
       "<div class=\"zoom\"><img style='width: 100px; height: 100px; margin: 1px; float: left; border: 0px solid black;'title=['.'] src='dataset_birds\\valid\\ROSY FACED LOVEBIRD\\1.jpg'/></div><div class=\"zoom\"><img style='width: 100px; height: 100px; margin: 1px; float: left; border: 0px solid black;'title=['.'] src='dataset_birds\\valid\\ROSY FACED LOVEBIRD\\2.jpg'/></div><div class=\"zoom\"><img style='width: 100px; height: 100px; margin: 1px; float: left; border: 0px solid black;'title=['.'] src='dataset_birds\\valid\\ROSY FACED LOVEBIRD\\3.jpg'/></div><div class=\"zoom\"><img style='width: 100px; height: 100px; margin: 1px; float: left; border: 0px solid black;'title=['.'] src='dataset_birds\\valid\\ROSY FACED LOVEBIRD\\4.jpg'/></div><div class=\"zoom\"><img style='width: 100px; height: 100px; margin: 1px; float: left; border: 0px solid black;'title=['.'] src='dataset_birds\\valid\\ROSY FACED LOVEBIRD\\5.jpg'/></div>"
      ],
      "text/plain": [
       "<IPython.core.display.HTML object>"
      ]
     },
     "metadata": {},
     "output_type": "display_data"
    },
    {
     "name": "stdout",
     "output_type": "stream",
     "text": [
      "Drawing .\n"
     ]
    },
    {
     "data": {
      "text/html": [
       "<div class=\"zoom\"><img style='width: 100px; height: 100px; margin: 1px; float: left; border: 0px solid black;'title=['.'] src='dataset_birds\\valid\\ROUGH LEG BUZZARD\\1.jpg'/></div><div class=\"zoom\"><img style='width: 100px; height: 100px; margin: 1px; float: left; border: 0px solid black;'title=['.'] src='dataset_birds\\valid\\ROUGH LEG BUZZARD\\2.jpg'/></div><div class=\"zoom\"><img style='width: 100px; height: 100px; margin: 1px; float: left; border: 0px solid black;'title=['.'] src='dataset_birds\\valid\\ROUGH LEG BUZZARD\\3.jpg'/></div><div class=\"zoom\"><img style='width: 100px; height: 100px; margin: 1px; float: left; border: 0px solid black;'title=['.'] src='dataset_birds\\valid\\ROUGH LEG BUZZARD\\4.jpg'/></div><div class=\"zoom\"><img style='width: 100px; height: 100px; margin: 1px; float: left; border: 0px solid black;'title=['.'] src='dataset_birds\\valid\\ROUGH LEG BUZZARD\\5.jpg'/></div>"
      ],
      "text/plain": [
       "<IPython.core.display.HTML object>"
      ]
     },
     "metadata": {},
     "output_type": "display_data"
    },
    {
     "name": "stdout",
     "output_type": "stream",
     "text": [
      "Drawing .\n"
     ]
    },
    {
     "data": {
      "text/html": [
       "<div class=\"zoom\"><img style='width: 100px; height: 100px; margin: 1px; float: left; border: 0px solid black;'title=['.'] src='dataset_birds\\valid\\ROYAL FLYCATCHER\\1.jpg'/></div><div class=\"zoom\"><img style='width: 100px; height: 100px; margin: 1px; float: left; border: 0px solid black;'title=['.'] src='dataset_birds\\valid\\ROYAL FLYCATCHER\\2.jpg'/></div><div class=\"zoom\"><img style='width: 100px; height: 100px; margin: 1px; float: left; border: 0px solid black;'title=['.'] src='dataset_birds\\valid\\ROYAL FLYCATCHER\\3.jpg'/></div><div class=\"zoom\"><img style='width: 100px; height: 100px; margin: 1px; float: left; border: 0px solid black;'title=['.'] src='dataset_birds\\valid\\ROYAL FLYCATCHER\\4.jpg'/></div><div class=\"zoom\"><img style='width: 100px; height: 100px; margin: 1px; float: left; border: 0px solid black;'title=['.'] src='dataset_birds\\valid\\ROYAL FLYCATCHER\\5.jpg'/></div>"
      ],
      "text/plain": [
       "<IPython.core.display.HTML object>"
      ]
     },
     "metadata": {},
     "output_type": "display_data"
    },
    {
     "name": "stdout",
     "output_type": "stream",
     "text": [
      "Drawing .\n"
     ]
    },
    {
     "data": {
      "text/html": [
       "<div class=\"zoom\"><img style='width: 100px; height: 100px; margin: 1px; float: left; border: 0px solid black;'title=['.'] src='dataset_birds\\valid\\RUBY CROWNED KINGLET\\1.jpg'/></div><div class=\"zoom\"><img style='width: 100px; height: 100px; margin: 1px; float: left; border: 0px solid black;'title=['.'] src='dataset_birds\\valid\\RUBY CROWNED KINGLET\\2.jpg'/></div><div class=\"zoom\"><img style='width: 100px; height: 100px; margin: 1px; float: left; border: 0px solid black;'title=['.'] src='dataset_birds\\valid\\RUBY CROWNED KINGLET\\3.jpg'/></div><div class=\"zoom\"><img style='width: 100px; height: 100px; margin: 1px; float: left; border: 0px solid black;'title=['.'] src='dataset_birds\\valid\\RUBY CROWNED KINGLET\\4.jpg'/></div><div class=\"zoom\"><img style='width: 100px; height: 100px; margin: 1px; float: left; border: 0px solid black;'title=['.'] src='dataset_birds\\valid\\RUBY CROWNED KINGLET\\5.jpg'/></div>"
      ],
      "text/plain": [
       "<IPython.core.display.HTML object>"
      ]
     },
     "metadata": {},
     "output_type": "display_data"
    },
    {
     "name": "stdout",
     "output_type": "stream",
     "text": [
      "Drawing .\n"
     ]
    },
    {
     "data": {
      "text/html": [
       "<div class=\"zoom\"><img style='width: 100px; height: 100px; margin: 1px; float: left; border: 0px solid black;'title=['.'] src='dataset_birds\\valid\\RUBY THROATED HUMMINGBIRD\\1.jpg'/></div><div class=\"zoom\"><img style='width: 100px; height: 100px; margin: 1px; float: left; border: 0px solid black;'title=['.'] src='dataset_birds\\valid\\RUBY THROATED HUMMINGBIRD\\2.jpg'/></div><div class=\"zoom\"><img style='width: 100px; height: 100px; margin: 1px; float: left; border: 0px solid black;'title=['.'] src='dataset_birds\\valid\\RUBY THROATED HUMMINGBIRD\\3.jpg'/></div><div class=\"zoom\"><img style='width: 100px; height: 100px; margin: 1px; float: left; border: 0px solid black;'title=['.'] src='dataset_birds\\valid\\RUBY THROATED HUMMINGBIRD\\4.jpg'/></div><div class=\"zoom\"><img style='width: 100px; height: 100px; margin: 1px; float: left; border: 0px solid black;'title=['.'] src='dataset_birds\\valid\\RUBY THROATED HUMMINGBIRD\\5.jpg'/></div>"
      ],
      "text/plain": [
       "<IPython.core.display.HTML object>"
      ]
     },
     "metadata": {},
     "output_type": "display_data"
    },
    {
     "name": "stdout",
     "output_type": "stream",
     "text": [
      "Drawing .\n"
     ]
    },
    {
     "data": {
      "text/html": [
       "<div class=\"zoom\"><img style='width: 100px; height: 100px; margin: 1px; float: left; border: 0px solid black;'title=['.'] src='dataset_birds\\valid\\RUDDY SHELDUCK\\1.jpg'/></div><div class=\"zoom\"><img style='width: 100px; height: 100px; margin: 1px; float: left; border: 0px solid black;'title=['.'] src='dataset_birds\\valid\\RUDDY SHELDUCK\\2.jpg'/></div><div class=\"zoom\"><img style='width: 100px; height: 100px; margin: 1px; float: left; border: 0px solid black;'title=['.'] src='dataset_birds\\valid\\RUDDY SHELDUCK\\3.jpg'/></div><div class=\"zoom\"><img style='width: 100px; height: 100px; margin: 1px; float: left; border: 0px solid black;'title=['.'] src='dataset_birds\\valid\\RUDDY SHELDUCK\\4.jpg'/></div><div class=\"zoom\"><img style='width: 100px; height: 100px; margin: 1px; float: left; border: 0px solid black;'title=['.'] src='dataset_birds\\valid\\RUDDY SHELDUCK\\5.jpg'/></div>"
      ],
      "text/plain": [
       "<IPython.core.display.HTML object>"
      ]
     },
     "metadata": {},
     "output_type": "display_data"
    },
    {
     "name": "stdout",
     "output_type": "stream",
     "text": [
      "Drawing .\n"
     ]
    },
    {
     "data": {
      "text/html": [
       "<div class=\"zoom\"><img style='width: 100px; height: 100px; margin: 1px; float: left; border: 0px solid black;'title=['.'] src='dataset_birds\\valid\\RUDY KINGFISHER\\1.jpg'/></div><div class=\"zoom\"><img style='width: 100px; height: 100px; margin: 1px; float: left; border: 0px solid black;'title=['.'] src='dataset_birds\\valid\\RUDY KINGFISHER\\2.jpg'/></div><div class=\"zoom\"><img style='width: 100px; height: 100px; margin: 1px; float: left; border: 0px solid black;'title=['.'] src='dataset_birds\\valid\\RUDY KINGFISHER\\3.jpg'/></div><div class=\"zoom\"><img style='width: 100px; height: 100px; margin: 1px; float: left; border: 0px solid black;'title=['.'] src='dataset_birds\\valid\\RUDY KINGFISHER\\4.jpg'/></div><div class=\"zoom\"><img style='width: 100px; height: 100px; margin: 1px; float: left; border: 0px solid black;'title=['.'] src='dataset_birds\\valid\\RUDY KINGFISHER\\5.jpg'/></div>"
      ],
      "text/plain": [
       "<IPython.core.display.HTML object>"
      ]
     },
     "metadata": {},
     "output_type": "display_data"
    },
    {
     "name": "stdout",
     "output_type": "stream",
     "text": [
      "Drawing .\n"
     ]
    },
    {
     "data": {
      "text/html": [
       "<div class=\"zoom\"><img style='width: 100px; height: 100px; margin: 1px; float: left; border: 0px solid black;'title=['.'] src='dataset_birds\\valid\\RUFOUS KINGFISHER\\1.jpg'/></div><div class=\"zoom\"><img style='width: 100px; height: 100px; margin: 1px; float: left; border: 0px solid black;'title=['.'] src='dataset_birds\\valid\\RUFOUS KINGFISHER\\2.jpg'/></div><div class=\"zoom\"><img style='width: 100px; height: 100px; margin: 1px; float: left; border: 0px solid black;'title=['.'] src='dataset_birds\\valid\\RUFOUS KINGFISHER\\3.jpg'/></div><div class=\"zoom\"><img style='width: 100px; height: 100px; margin: 1px; float: left; border: 0px solid black;'title=['.'] src='dataset_birds\\valid\\RUFOUS KINGFISHER\\4.jpg'/></div><div class=\"zoom\"><img style='width: 100px; height: 100px; margin: 1px; float: left; border: 0px solid black;'title=['.'] src='dataset_birds\\valid\\RUFOUS KINGFISHER\\5.jpg'/></div>"
      ],
      "text/plain": [
       "<IPython.core.display.HTML object>"
      ]
     },
     "metadata": {},
     "output_type": "display_data"
    },
    {
     "name": "stdout",
     "output_type": "stream",
     "text": [
      "Drawing .\n"
     ]
    },
    {
     "data": {
      "text/html": [
       "<div class=\"zoom\"><img style='width: 100px; height: 100px; margin: 1px; float: left; border: 0px solid black;'title=['.'] src='dataset_birds\\valid\\RUFOUS TREPE\\1.jpg'/></div><div class=\"zoom\"><img style='width: 100px; height: 100px; margin: 1px; float: left; border: 0px solid black;'title=['.'] src='dataset_birds\\valid\\RUFOUS TREPE\\2.jpg'/></div><div class=\"zoom\"><img style='width: 100px; height: 100px; margin: 1px; float: left; border: 0px solid black;'title=['.'] src='dataset_birds\\valid\\RUFOUS TREPE\\3.jpg'/></div><div class=\"zoom\"><img style='width: 100px; height: 100px; margin: 1px; float: left; border: 0px solid black;'title=['.'] src='dataset_birds\\valid\\RUFOUS TREPE\\4.jpg'/></div><div class=\"zoom\"><img style='width: 100px; height: 100px; margin: 1px; float: left; border: 0px solid black;'title=['.'] src='dataset_birds\\valid\\RUFOUS TREPE\\5.jpg'/></div>"
      ],
      "text/plain": [
       "<IPython.core.display.HTML object>"
      ]
     },
     "metadata": {},
     "output_type": "display_data"
    },
    {
     "name": "stdout",
     "output_type": "stream",
     "text": [
      "Drawing .\n"
     ]
    },
    {
     "data": {
      "text/html": [
       "<div class=\"zoom\"><img style='width: 100px; height: 100px; margin: 1px; float: left; border: 0px solid black;'title=['.'] src='dataset_birds\\valid\\RUFUOS MOTMOT\\1.jpg'/></div><div class=\"zoom\"><img style='width: 100px; height: 100px; margin: 1px; float: left; border: 0px solid black;'title=['.'] src='dataset_birds\\valid\\RUFUOS MOTMOT\\2.jpg'/></div><div class=\"zoom\"><img style='width: 100px; height: 100px; margin: 1px; float: left; border: 0px solid black;'title=['.'] src='dataset_birds\\valid\\RUFUOS MOTMOT\\3.jpg'/></div><div class=\"zoom\"><img style='width: 100px; height: 100px; margin: 1px; float: left; border: 0px solid black;'title=['.'] src='dataset_birds\\valid\\RUFUOS MOTMOT\\4.jpg'/></div><div class=\"zoom\"><img style='width: 100px; height: 100px; margin: 1px; float: left; border: 0px solid black;'title=['.'] src='dataset_birds\\valid\\RUFUOS MOTMOT\\5.jpg'/></div>"
      ],
      "text/plain": [
       "<IPython.core.display.HTML object>"
      ]
     },
     "metadata": {},
     "output_type": "display_data"
    },
    {
     "name": "stdout",
     "output_type": "stream",
     "text": [
      "Drawing .\n"
     ]
    },
    {
     "data": {
      "text/html": [
       "<div class=\"zoom\"><img style='width: 100px; height: 100px; margin: 1px; float: left; border: 0px solid black;'title=['.'] src='dataset_birds\\valid\\SAMATRAN THRUSH\\1.jpg'/></div><div class=\"zoom\"><img style='width: 100px; height: 100px; margin: 1px; float: left; border: 0px solid black;'title=['.'] src='dataset_birds\\valid\\SAMATRAN THRUSH\\2.jpg'/></div><div class=\"zoom\"><img style='width: 100px; height: 100px; margin: 1px; float: left; border: 0px solid black;'title=['.'] src='dataset_birds\\valid\\SAMATRAN THRUSH\\3.jpg'/></div><div class=\"zoom\"><img style='width: 100px; height: 100px; margin: 1px; float: left; border: 0px solid black;'title=['.'] src='dataset_birds\\valid\\SAMATRAN THRUSH\\4.jpg'/></div><div class=\"zoom\"><img style='width: 100px; height: 100px; margin: 1px; float: left; border: 0px solid black;'title=['.'] src='dataset_birds\\valid\\SAMATRAN THRUSH\\5.jpg'/></div>"
      ],
      "text/plain": [
       "<IPython.core.display.HTML object>"
      ]
     },
     "metadata": {},
     "output_type": "display_data"
    },
    {
     "name": "stdout",
     "output_type": "stream",
     "text": [
      "Drawing .\n"
     ]
    },
    {
     "data": {
      "text/html": [
       "<div class=\"zoom\"><img style='width: 100px; height: 100px; margin: 1px; float: left; border: 0px solid black;'title=['.'] src='dataset_birds\\valid\\SAND MARTIN\\1.jpg'/></div><div class=\"zoom\"><img style='width: 100px; height: 100px; margin: 1px; float: left; border: 0px solid black;'title=['.'] src='dataset_birds\\valid\\SAND MARTIN\\2.jpg'/></div><div class=\"zoom\"><img style='width: 100px; height: 100px; margin: 1px; float: left; border: 0px solid black;'title=['.'] src='dataset_birds\\valid\\SAND MARTIN\\3.jpg'/></div><div class=\"zoom\"><img style='width: 100px; height: 100px; margin: 1px; float: left; border: 0px solid black;'title=['.'] src='dataset_birds\\valid\\SAND MARTIN\\4.jpg'/></div><div class=\"zoom\"><img style='width: 100px; height: 100px; margin: 1px; float: left; border: 0px solid black;'title=['.'] src='dataset_birds\\valid\\SAND MARTIN\\5.jpg'/></div>"
      ],
      "text/plain": [
       "<IPython.core.display.HTML object>"
      ]
     },
     "metadata": {},
     "output_type": "display_data"
    },
    {
     "name": "stdout",
     "output_type": "stream",
     "text": [
      "Drawing .\n"
     ]
    },
    {
     "data": {
      "text/html": [
       "<div class=\"zoom\"><img style='width: 100px; height: 100px; margin: 1px; float: left; border: 0px solid black;'title=['.'] src='dataset_birds\\valid\\SANDHILL CRANE\\1.jpg'/></div><div class=\"zoom\"><img style='width: 100px; height: 100px; margin: 1px; float: left; border: 0px solid black;'title=['.'] src='dataset_birds\\valid\\SANDHILL CRANE\\2.jpg'/></div><div class=\"zoom\"><img style='width: 100px; height: 100px; margin: 1px; float: left; border: 0px solid black;'title=['.'] src='dataset_birds\\valid\\SANDHILL CRANE\\3.jpg'/></div><div class=\"zoom\"><img style='width: 100px; height: 100px; margin: 1px; float: left; border: 0px solid black;'title=['.'] src='dataset_birds\\valid\\SANDHILL CRANE\\4.jpg'/></div><div class=\"zoom\"><img style='width: 100px; height: 100px; margin: 1px; float: left; border: 0px solid black;'title=['.'] src='dataset_birds\\valid\\SANDHILL CRANE\\5.jpg'/></div>"
      ],
      "text/plain": [
       "<IPython.core.display.HTML object>"
      ]
     },
     "metadata": {},
     "output_type": "display_data"
    },
    {
     "name": "stdout",
     "output_type": "stream",
     "text": [
      "Drawing .\n"
     ]
    },
    {
     "data": {
      "text/html": [
       "<div class=\"zoom\"><img style='width: 100px; height: 100px; margin: 1px; float: left; border: 0px solid black;'title=['.'] src='dataset_birds\\valid\\SATYR TRAGOPAN\\1.jpg'/></div><div class=\"zoom\"><img style='width: 100px; height: 100px; margin: 1px; float: left; border: 0px solid black;'title=['.'] src='dataset_birds\\valid\\SATYR TRAGOPAN\\2.jpg'/></div><div class=\"zoom\"><img style='width: 100px; height: 100px; margin: 1px; float: left; border: 0px solid black;'title=['.'] src='dataset_birds\\valid\\SATYR TRAGOPAN\\3.jpg'/></div><div class=\"zoom\"><img style='width: 100px; height: 100px; margin: 1px; float: left; border: 0px solid black;'title=['.'] src='dataset_birds\\valid\\SATYR TRAGOPAN\\4.jpg'/></div><div class=\"zoom\"><img style='width: 100px; height: 100px; margin: 1px; float: left; border: 0px solid black;'title=['.'] src='dataset_birds\\valid\\SATYR TRAGOPAN\\5.jpg'/></div>"
      ],
      "text/plain": [
       "<IPython.core.display.HTML object>"
      ]
     },
     "metadata": {},
     "output_type": "display_data"
    },
    {
     "name": "stdout",
     "output_type": "stream",
     "text": [
      "Drawing .\n"
     ]
    },
    {
     "data": {
      "text/html": [
       "<div class=\"zoom\"><img style='width: 100px; height: 100px; margin: 1px; float: left; border: 0px solid black;'title=['.'] src='dataset_birds\\valid\\SAYS PHOEBE\\1.jpg'/></div><div class=\"zoom\"><img style='width: 100px; height: 100px; margin: 1px; float: left; border: 0px solid black;'title=['.'] src='dataset_birds\\valid\\SAYS PHOEBE\\2.jpg'/></div><div class=\"zoom\"><img style='width: 100px; height: 100px; margin: 1px; float: left; border: 0px solid black;'title=['.'] src='dataset_birds\\valid\\SAYS PHOEBE\\3.jpg'/></div><div class=\"zoom\"><img style='width: 100px; height: 100px; margin: 1px; float: left; border: 0px solid black;'title=['.'] src='dataset_birds\\valid\\SAYS PHOEBE\\4.jpg'/></div><div class=\"zoom\"><img style='width: 100px; height: 100px; margin: 1px; float: left; border: 0px solid black;'title=['.'] src='dataset_birds\\valid\\SAYS PHOEBE\\5.jpg'/></div>"
      ],
      "text/plain": [
       "<IPython.core.display.HTML object>"
      ]
     },
     "metadata": {},
     "output_type": "display_data"
    },
    {
     "name": "stdout",
     "output_type": "stream",
     "text": [
      "Drawing .\n"
     ]
    },
    {
     "data": {
      "text/html": [
       "<div class=\"zoom\"><img style='width: 100px; height: 100px; margin: 1px; float: left; border: 0px solid black;'title=['.'] src='dataset_birds\\valid\\SCARLET CROWNED FRUIT DOVE\\1.jpg'/></div><div class=\"zoom\"><img style='width: 100px; height: 100px; margin: 1px; float: left; border: 0px solid black;'title=['.'] src='dataset_birds\\valid\\SCARLET CROWNED FRUIT DOVE\\2.jpg'/></div><div class=\"zoom\"><img style='width: 100px; height: 100px; margin: 1px; float: left; border: 0px solid black;'title=['.'] src='dataset_birds\\valid\\SCARLET CROWNED FRUIT DOVE\\3.jpg'/></div><div class=\"zoom\"><img style='width: 100px; height: 100px; margin: 1px; float: left; border: 0px solid black;'title=['.'] src='dataset_birds\\valid\\SCARLET CROWNED FRUIT DOVE\\4.jpg'/></div><div class=\"zoom\"><img style='width: 100px; height: 100px; margin: 1px; float: left; border: 0px solid black;'title=['.'] src='dataset_birds\\valid\\SCARLET CROWNED FRUIT DOVE\\5.jpg'/></div>"
      ],
      "text/plain": [
       "<IPython.core.display.HTML object>"
      ]
     },
     "metadata": {},
     "output_type": "display_data"
    },
    {
     "name": "stdout",
     "output_type": "stream",
     "text": [
      "Drawing .\n"
     ]
    },
    {
     "data": {
      "text/html": [
       "<div class=\"zoom\"><img style='width: 100px; height: 100px; margin: 1px; float: left; border: 0px solid black;'title=['.'] src='dataset_birds\\valid\\SCARLET FACED LIOCICHLA\\1.jpg'/></div><div class=\"zoom\"><img style='width: 100px; height: 100px; margin: 1px; float: left; border: 0px solid black;'title=['.'] src='dataset_birds\\valid\\SCARLET FACED LIOCICHLA\\2.jpg'/></div><div class=\"zoom\"><img style='width: 100px; height: 100px; margin: 1px; float: left; border: 0px solid black;'title=['.'] src='dataset_birds\\valid\\SCARLET FACED LIOCICHLA\\3.jpg'/></div><div class=\"zoom\"><img style='width: 100px; height: 100px; margin: 1px; float: left; border: 0px solid black;'title=['.'] src='dataset_birds\\valid\\SCARLET FACED LIOCICHLA\\4.jpg'/></div><div class=\"zoom\"><img style='width: 100px; height: 100px; margin: 1px; float: left; border: 0px solid black;'title=['.'] src='dataset_birds\\valid\\SCARLET FACED LIOCICHLA\\5.jpg'/></div>"
      ],
      "text/plain": [
       "<IPython.core.display.HTML object>"
      ]
     },
     "metadata": {},
     "output_type": "display_data"
    },
    {
     "name": "stdout",
     "output_type": "stream",
     "text": [
      "Drawing .\n"
     ]
    },
    {
     "data": {
      "text/html": [
       "<div class=\"zoom\"><img style='width: 100px; height: 100px; margin: 1px; float: left; border: 0px solid black;'title=['.'] src='dataset_birds\\valid\\SCARLET IBIS\\1.jpg'/></div><div class=\"zoom\"><img style='width: 100px; height: 100px; margin: 1px; float: left; border: 0px solid black;'title=['.'] src='dataset_birds\\valid\\SCARLET IBIS\\2.jpg'/></div><div class=\"zoom\"><img style='width: 100px; height: 100px; margin: 1px; float: left; border: 0px solid black;'title=['.'] src='dataset_birds\\valid\\SCARLET IBIS\\3.jpg'/></div><div class=\"zoom\"><img style='width: 100px; height: 100px; margin: 1px; float: left; border: 0px solid black;'title=['.'] src='dataset_birds\\valid\\SCARLET IBIS\\4.jpg'/></div><div class=\"zoom\"><img style='width: 100px; height: 100px; margin: 1px; float: left; border: 0px solid black;'title=['.'] src='dataset_birds\\valid\\SCARLET IBIS\\5.jpg'/></div>"
      ],
      "text/plain": [
       "<IPython.core.display.HTML object>"
      ]
     },
     "metadata": {},
     "output_type": "display_data"
    },
    {
     "name": "stdout",
     "output_type": "stream",
     "text": [
      "Drawing .\n"
     ]
    },
    {
     "data": {
      "text/html": [
       "<div class=\"zoom\"><img style='width: 100px; height: 100px; margin: 1px; float: left; border: 0px solid black;'title=['.'] src='dataset_birds\\valid\\SCARLET MACAW\\1.jpg'/></div><div class=\"zoom\"><img style='width: 100px; height: 100px; margin: 1px; float: left; border: 0px solid black;'title=['.'] src='dataset_birds\\valid\\SCARLET MACAW\\2.jpg'/></div><div class=\"zoom\"><img style='width: 100px; height: 100px; margin: 1px; float: left; border: 0px solid black;'title=['.'] src='dataset_birds\\valid\\SCARLET MACAW\\3.jpg'/></div><div class=\"zoom\"><img style='width: 100px; height: 100px; margin: 1px; float: left; border: 0px solid black;'title=['.'] src='dataset_birds\\valid\\SCARLET MACAW\\4.jpg'/></div><div class=\"zoom\"><img style='width: 100px; height: 100px; margin: 1px; float: left; border: 0px solid black;'title=['.'] src='dataset_birds\\valid\\SCARLET MACAW\\5.jpg'/></div>"
      ],
      "text/plain": [
       "<IPython.core.display.HTML object>"
      ]
     },
     "metadata": {},
     "output_type": "display_data"
    },
    {
     "name": "stdout",
     "output_type": "stream",
     "text": [
      "Drawing .\n"
     ]
    },
    {
     "data": {
      "text/html": [
       "<div class=\"zoom\"><img style='width: 100px; height: 100px; margin: 1px; float: left; border: 0px solid black;'title=['.'] src='dataset_birds\\valid\\SCARLET TANAGER\\1.jpg'/></div><div class=\"zoom\"><img style='width: 100px; height: 100px; margin: 1px; float: left; border: 0px solid black;'title=['.'] src='dataset_birds\\valid\\SCARLET TANAGER\\2.jpg'/></div><div class=\"zoom\"><img style='width: 100px; height: 100px; margin: 1px; float: left; border: 0px solid black;'title=['.'] src='dataset_birds\\valid\\SCARLET TANAGER\\3.jpg'/></div><div class=\"zoom\"><img style='width: 100px; height: 100px; margin: 1px; float: left; border: 0px solid black;'title=['.'] src='dataset_birds\\valid\\SCARLET TANAGER\\4.jpg'/></div><div class=\"zoom\"><img style='width: 100px; height: 100px; margin: 1px; float: left; border: 0px solid black;'title=['.'] src='dataset_birds\\valid\\SCARLET TANAGER\\5.jpg'/></div>"
      ],
      "text/plain": [
       "<IPython.core.display.HTML object>"
      ]
     },
     "metadata": {},
     "output_type": "display_data"
    },
    {
     "name": "stdout",
     "output_type": "stream",
     "text": [
      "Drawing .\n"
     ]
    },
    {
     "data": {
      "text/html": [
       "<div class=\"zoom\"><img style='width: 100px; height: 100px; margin: 1px; float: left; border: 0px solid black;'title=['.'] src='dataset_birds\\valid\\SHOEBILL\\1.jpg'/></div><div class=\"zoom\"><img style='width: 100px; height: 100px; margin: 1px; float: left; border: 0px solid black;'title=['.'] src='dataset_birds\\valid\\SHOEBILL\\2.jpg'/></div><div class=\"zoom\"><img style='width: 100px; height: 100px; margin: 1px; float: left; border: 0px solid black;'title=['.'] src='dataset_birds\\valid\\SHOEBILL\\3.jpg'/></div><div class=\"zoom\"><img style='width: 100px; height: 100px; margin: 1px; float: left; border: 0px solid black;'title=['.'] src='dataset_birds\\valid\\SHOEBILL\\4.jpg'/></div><div class=\"zoom\"><img style='width: 100px; height: 100px; margin: 1px; float: left; border: 0px solid black;'title=['.'] src='dataset_birds\\valid\\SHOEBILL\\5.jpg'/></div>"
      ],
      "text/plain": [
       "<IPython.core.display.HTML object>"
      ]
     },
     "metadata": {},
     "output_type": "display_data"
    },
    {
     "name": "stdout",
     "output_type": "stream",
     "text": [
      "Drawing .\n"
     ]
    },
    {
     "data": {
      "text/html": [
       "<div class=\"zoom\"><img style='width: 100px; height: 100px; margin: 1px; float: left; border: 0px solid black;'title=['.'] src='dataset_birds\\valid\\SHORT BILLED DOWITCHER\\1.jpg'/></div><div class=\"zoom\"><img style='width: 100px; height: 100px; margin: 1px; float: left; border: 0px solid black;'title=['.'] src='dataset_birds\\valid\\SHORT BILLED DOWITCHER\\2.jpg'/></div><div class=\"zoom\"><img style='width: 100px; height: 100px; margin: 1px; float: left; border: 0px solid black;'title=['.'] src='dataset_birds\\valid\\SHORT BILLED DOWITCHER\\3.jpg'/></div><div class=\"zoom\"><img style='width: 100px; height: 100px; margin: 1px; float: left; border: 0px solid black;'title=['.'] src='dataset_birds\\valid\\SHORT BILLED DOWITCHER\\4.jpg'/></div><div class=\"zoom\"><img style='width: 100px; height: 100px; margin: 1px; float: left; border: 0px solid black;'title=['.'] src='dataset_birds\\valid\\SHORT BILLED DOWITCHER\\5.jpg'/></div>"
      ],
      "text/plain": [
       "<IPython.core.display.HTML object>"
      ]
     },
     "metadata": {},
     "output_type": "display_data"
    },
    {
     "name": "stdout",
     "output_type": "stream",
     "text": [
      "Drawing .\n"
     ]
    },
    {
     "data": {
      "text/html": [
       "<div class=\"zoom\"><img style='width: 100px; height: 100px; margin: 1px; float: left; border: 0px solid black;'title=['.'] src='dataset_birds\\valid\\SMITHS LONGSPUR\\1.jpg'/></div><div class=\"zoom\"><img style='width: 100px; height: 100px; margin: 1px; float: left; border: 0px solid black;'title=['.'] src='dataset_birds\\valid\\SMITHS LONGSPUR\\2.jpg'/></div><div class=\"zoom\"><img style='width: 100px; height: 100px; margin: 1px; float: left; border: 0px solid black;'title=['.'] src='dataset_birds\\valid\\SMITHS LONGSPUR\\3.jpg'/></div><div class=\"zoom\"><img style='width: 100px; height: 100px; margin: 1px; float: left; border: 0px solid black;'title=['.'] src='dataset_birds\\valid\\SMITHS LONGSPUR\\4.jpg'/></div><div class=\"zoom\"><img style='width: 100px; height: 100px; margin: 1px; float: left; border: 0px solid black;'title=['.'] src='dataset_birds\\valid\\SMITHS LONGSPUR\\5.jpg'/></div>"
      ],
      "text/plain": [
       "<IPython.core.display.HTML object>"
      ]
     },
     "metadata": {},
     "output_type": "display_data"
    },
    {
     "name": "stdout",
     "output_type": "stream",
     "text": [
      "Drawing .\n"
     ]
    },
    {
     "data": {
      "text/html": [
       "<div class=\"zoom\"><img style='width: 100px; height: 100px; margin: 1px; float: left; border: 0px solid black;'title=['.'] src='dataset_birds\\valid\\SNOW GOOSE\\1.jpg'/></div><div class=\"zoom\"><img style='width: 100px; height: 100px; margin: 1px; float: left; border: 0px solid black;'title=['.'] src='dataset_birds\\valid\\SNOW GOOSE\\2.jpg'/></div><div class=\"zoom\"><img style='width: 100px; height: 100px; margin: 1px; float: left; border: 0px solid black;'title=['.'] src='dataset_birds\\valid\\SNOW GOOSE\\3.jpg'/></div><div class=\"zoom\"><img style='width: 100px; height: 100px; margin: 1px; float: left; border: 0px solid black;'title=['.'] src='dataset_birds\\valid\\SNOW GOOSE\\4.jpg'/></div><div class=\"zoom\"><img style='width: 100px; height: 100px; margin: 1px; float: left; border: 0px solid black;'title=['.'] src='dataset_birds\\valid\\SNOW GOOSE\\5.jpg'/></div>"
      ],
      "text/plain": [
       "<IPython.core.display.HTML object>"
      ]
     },
     "metadata": {},
     "output_type": "display_data"
    },
    {
     "name": "stdout",
     "output_type": "stream",
     "text": [
      "Drawing .\n"
     ]
    },
    {
     "data": {
      "text/html": [
       "<div class=\"zoom\"><img style='width: 100px; height: 100px; margin: 1px; float: left; border: 0px solid black;'title=['.'] src='dataset_birds\\valid\\SNOW PARTRIDGE\\1.jpg'/></div><div class=\"zoom\"><img style='width: 100px; height: 100px; margin: 1px; float: left; border: 0px solid black;'title=['.'] src='dataset_birds\\valid\\SNOW PARTRIDGE\\2.jpg'/></div><div class=\"zoom\"><img style='width: 100px; height: 100px; margin: 1px; float: left; border: 0px solid black;'title=['.'] src='dataset_birds\\valid\\SNOW PARTRIDGE\\3.jpg'/></div><div class=\"zoom\"><img style='width: 100px; height: 100px; margin: 1px; float: left; border: 0px solid black;'title=['.'] src='dataset_birds\\valid\\SNOW PARTRIDGE\\4.jpg'/></div><div class=\"zoom\"><img style='width: 100px; height: 100px; margin: 1px; float: left; border: 0px solid black;'title=['.'] src='dataset_birds\\valid\\SNOW PARTRIDGE\\5.jpg'/></div>"
      ],
      "text/plain": [
       "<IPython.core.display.HTML object>"
      ]
     },
     "metadata": {},
     "output_type": "display_data"
    },
    {
     "name": "stdout",
     "output_type": "stream",
     "text": [
      "Drawing .\n"
     ]
    },
    {
     "data": {
      "text/html": [
       "<div class=\"zoom\"><img style='width: 100px; height: 100px; margin: 1px; float: left; border: 0px solid black;'title=['.'] src='dataset_birds\\valid\\SNOWY EGRET\\1.jpg'/></div><div class=\"zoom\"><img style='width: 100px; height: 100px; margin: 1px; float: left; border: 0px solid black;'title=['.'] src='dataset_birds\\valid\\SNOWY EGRET\\2.jpg'/></div><div class=\"zoom\"><img style='width: 100px; height: 100px; margin: 1px; float: left; border: 0px solid black;'title=['.'] src='dataset_birds\\valid\\SNOWY EGRET\\3.jpg'/></div><div class=\"zoom\"><img style='width: 100px; height: 100px; margin: 1px; float: left; border: 0px solid black;'title=['.'] src='dataset_birds\\valid\\SNOWY EGRET\\4.jpg'/></div><div class=\"zoom\"><img style='width: 100px; height: 100px; margin: 1px; float: left; border: 0px solid black;'title=['.'] src='dataset_birds\\valid\\SNOWY EGRET\\5.jpg'/></div>"
      ],
      "text/plain": [
       "<IPython.core.display.HTML object>"
      ]
     },
     "metadata": {},
     "output_type": "display_data"
    },
    {
     "name": "stdout",
     "output_type": "stream",
     "text": [
      "Drawing .\n"
     ]
    },
    {
     "data": {
      "text/html": [
       "<div class=\"zoom\"><img style='width: 100px; height: 100px; margin: 1px; float: left; border: 0px solid black;'title=['.'] src='dataset_birds\\valid\\SNOWY OWL\\1.jpg'/></div><div class=\"zoom\"><img style='width: 100px; height: 100px; margin: 1px; float: left; border: 0px solid black;'title=['.'] src='dataset_birds\\valid\\SNOWY OWL\\2.jpg'/></div><div class=\"zoom\"><img style='width: 100px; height: 100px; margin: 1px; float: left; border: 0px solid black;'title=['.'] src='dataset_birds\\valid\\SNOWY OWL\\3.jpg'/></div><div class=\"zoom\"><img style='width: 100px; height: 100px; margin: 1px; float: left; border: 0px solid black;'title=['.'] src='dataset_birds\\valid\\SNOWY OWL\\4.jpg'/></div><div class=\"zoom\"><img style='width: 100px; height: 100px; margin: 1px; float: left; border: 0px solid black;'title=['.'] src='dataset_birds\\valid\\SNOWY OWL\\5.jpg'/></div>"
      ],
      "text/plain": [
       "<IPython.core.display.HTML object>"
      ]
     },
     "metadata": {},
     "output_type": "display_data"
    },
    {
     "name": "stdout",
     "output_type": "stream",
     "text": [
      "Drawing .\n"
     ]
    },
    {
     "data": {
      "text/html": [
       "<div class=\"zoom\"><img style='width: 100px; height: 100px; margin: 1px; float: left; border: 0px solid black;'title=['.'] src='dataset_birds\\valid\\SNOWY PLOVER\\1.jpg'/></div><div class=\"zoom\"><img style='width: 100px; height: 100px; margin: 1px; float: left; border: 0px solid black;'title=['.'] src='dataset_birds\\valid\\SNOWY PLOVER\\2.jpg'/></div><div class=\"zoom\"><img style='width: 100px; height: 100px; margin: 1px; float: left; border: 0px solid black;'title=['.'] src='dataset_birds\\valid\\SNOWY PLOVER\\3.jpg'/></div><div class=\"zoom\"><img style='width: 100px; height: 100px; margin: 1px; float: left; border: 0px solid black;'title=['.'] src='dataset_birds\\valid\\SNOWY PLOVER\\4.jpg'/></div><div class=\"zoom\"><img style='width: 100px; height: 100px; margin: 1px; float: left; border: 0px solid black;'title=['.'] src='dataset_birds\\valid\\SNOWY PLOVER\\5.jpg'/></div>"
      ],
      "text/plain": [
       "<IPython.core.display.HTML object>"
      ]
     },
     "metadata": {},
     "output_type": "display_data"
    },
    {
     "name": "stdout",
     "output_type": "stream",
     "text": [
      "Drawing .\n"
     ]
    },
    {
     "data": {
      "text/html": [
       "<div class=\"zoom\"><img style='width: 100px; height: 100px; margin: 1px; float: left; border: 0px solid black;'title=['.'] src='dataset_birds\\valid\\SNOWY SHEATHBILL\\1.jpg'/></div><div class=\"zoom\"><img style='width: 100px; height: 100px; margin: 1px; float: left; border: 0px solid black;'title=['.'] src='dataset_birds\\valid\\SNOWY SHEATHBILL\\2.jpg'/></div><div class=\"zoom\"><img style='width: 100px; height: 100px; margin: 1px; float: left; border: 0px solid black;'title=['.'] src='dataset_birds\\valid\\SNOWY SHEATHBILL\\3.jpg'/></div><div class=\"zoom\"><img style='width: 100px; height: 100px; margin: 1px; float: left; border: 0px solid black;'title=['.'] src='dataset_birds\\valid\\SNOWY SHEATHBILL\\4.jpg'/></div><div class=\"zoom\"><img style='width: 100px; height: 100px; margin: 1px; float: left; border: 0px solid black;'title=['.'] src='dataset_birds\\valid\\SNOWY SHEATHBILL\\5.jpg'/></div>"
      ],
      "text/plain": [
       "<IPython.core.display.HTML object>"
      ]
     },
     "metadata": {},
     "output_type": "display_data"
    },
    {
     "name": "stdout",
     "output_type": "stream",
     "text": [
      "Drawing .\n"
     ]
    },
    {
     "data": {
      "text/html": [
       "<div class=\"zoom\"><img style='width: 100px; height: 100px; margin: 1px; float: left; border: 0px solid black;'title=['.'] src='dataset_birds\\valid\\SORA\\1.jpg'/></div><div class=\"zoom\"><img style='width: 100px; height: 100px; margin: 1px; float: left; border: 0px solid black;'title=['.'] src='dataset_birds\\valid\\SORA\\2.jpg'/></div><div class=\"zoom\"><img style='width: 100px; height: 100px; margin: 1px; float: left; border: 0px solid black;'title=['.'] src='dataset_birds\\valid\\SORA\\3.jpg'/></div><div class=\"zoom\"><img style='width: 100px; height: 100px; margin: 1px; float: left; border: 0px solid black;'title=['.'] src='dataset_birds\\valid\\SORA\\4.jpg'/></div><div class=\"zoom\"><img style='width: 100px; height: 100px; margin: 1px; float: left; border: 0px solid black;'title=['.'] src='dataset_birds\\valid\\SORA\\5.jpg'/></div>"
      ],
      "text/plain": [
       "<IPython.core.display.HTML object>"
      ]
     },
     "metadata": {},
     "output_type": "display_data"
    },
    {
     "name": "stdout",
     "output_type": "stream",
     "text": [
      "Drawing .\n"
     ]
    },
    {
     "data": {
      "text/html": [
       "<div class=\"zoom\"><img style='width: 100px; height: 100px; margin: 1px; float: left; border: 0px solid black;'title=['.'] src='dataset_birds\\valid\\SPANGLED COTINGA\\1.jpg'/></div><div class=\"zoom\"><img style='width: 100px; height: 100px; margin: 1px; float: left; border: 0px solid black;'title=['.'] src='dataset_birds\\valid\\SPANGLED COTINGA\\2.jpg'/></div><div class=\"zoom\"><img style='width: 100px; height: 100px; margin: 1px; float: left; border: 0px solid black;'title=['.'] src='dataset_birds\\valid\\SPANGLED COTINGA\\3.jpg'/></div><div class=\"zoom\"><img style='width: 100px; height: 100px; margin: 1px; float: left; border: 0px solid black;'title=['.'] src='dataset_birds\\valid\\SPANGLED COTINGA\\4.jpg'/></div><div class=\"zoom\"><img style='width: 100px; height: 100px; margin: 1px; float: left; border: 0px solid black;'title=['.'] src='dataset_birds\\valid\\SPANGLED COTINGA\\5.jpg'/></div>"
      ],
      "text/plain": [
       "<IPython.core.display.HTML object>"
      ]
     },
     "metadata": {},
     "output_type": "display_data"
    },
    {
     "name": "stdout",
     "output_type": "stream",
     "text": [
      "Drawing .\n"
     ]
    },
    {
     "data": {
      "text/html": [
       "<div class=\"zoom\"><img style='width: 100px; height: 100px; margin: 1px; float: left; border: 0px solid black;'title=['.'] src='dataset_birds\\valid\\SPLENDID WREN\\1.jpg'/></div><div class=\"zoom\"><img style='width: 100px; height: 100px; margin: 1px; float: left; border: 0px solid black;'title=['.'] src='dataset_birds\\valid\\SPLENDID WREN\\2.jpg'/></div><div class=\"zoom\"><img style='width: 100px; height: 100px; margin: 1px; float: left; border: 0px solid black;'title=['.'] src='dataset_birds\\valid\\SPLENDID WREN\\3.jpg'/></div><div class=\"zoom\"><img style='width: 100px; height: 100px; margin: 1px; float: left; border: 0px solid black;'title=['.'] src='dataset_birds\\valid\\SPLENDID WREN\\4.jpg'/></div><div class=\"zoom\"><img style='width: 100px; height: 100px; margin: 1px; float: left; border: 0px solid black;'title=['.'] src='dataset_birds\\valid\\SPLENDID WREN\\5.jpg'/></div>"
      ],
      "text/plain": [
       "<IPython.core.display.HTML object>"
      ]
     },
     "metadata": {},
     "output_type": "display_data"
    },
    {
     "name": "stdout",
     "output_type": "stream",
     "text": [
      "Drawing .\n"
     ]
    },
    {
     "data": {
      "text/html": [
       "<div class=\"zoom\"><img style='width: 100px; height: 100px; margin: 1px; float: left; border: 0px solid black;'title=['.'] src='dataset_birds\\valid\\SPOON BILED SANDPIPER\\1.jpg'/></div><div class=\"zoom\"><img style='width: 100px; height: 100px; margin: 1px; float: left; border: 0px solid black;'title=['.'] src='dataset_birds\\valid\\SPOON BILED SANDPIPER\\2.jpg'/></div><div class=\"zoom\"><img style='width: 100px; height: 100px; margin: 1px; float: left; border: 0px solid black;'title=['.'] src='dataset_birds\\valid\\SPOON BILED SANDPIPER\\3.jpg'/></div><div class=\"zoom\"><img style='width: 100px; height: 100px; margin: 1px; float: left; border: 0px solid black;'title=['.'] src='dataset_birds\\valid\\SPOON BILED SANDPIPER\\4.jpg'/></div><div class=\"zoom\"><img style='width: 100px; height: 100px; margin: 1px; float: left; border: 0px solid black;'title=['.'] src='dataset_birds\\valid\\SPOON BILED SANDPIPER\\5.jpg'/></div>"
      ],
      "text/plain": [
       "<IPython.core.display.HTML object>"
      ]
     },
     "metadata": {},
     "output_type": "display_data"
    },
    {
     "name": "stdout",
     "output_type": "stream",
     "text": [
      "Drawing .\n"
     ]
    },
    {
     "data": {
      "text/html": [
       "<div class=\"zoom\"><img style='width: 100px; height: 100px; margin: 1px; float: left; border: 0px solid black;'title=['.'] src='dataset_birds\\valid\\SPOTTED CATBIRD\\1.jpg'/></div><div class=\"zoom\"><img style='width: 100px; height: 100px; margin: 1px; float: left; border: 0px solid black;'title=['.'] src='dataset_birds\\valid\\SPOTTED CATBIRD\\2.jpg'/></div><div class=\"zoom\"><img style='width: 100px; height: 100px; margin: 1px; float: left; border: 0px solid black;'title=['.'] src='dataset_birds\\valid\\SPOTTED CATBIRD\\3.jpg'/></div><div class=\"zoom\"><img style='width: 100px; height: 100px; margin: 1px; float: left; border: 0px solid black;'title=['.'] src='dataset_birds\\valid\\SPOTTED CATBIRD\\4.jpg'/></div><div class=\"zoom\"><img style='width: 100px; height: 100px; margin: 1px; float: left; border: 0px solid black;'title=['.'] src='dataset_birds\\valid\\SPOTTED CATBIRD\\5.jpg'/></div>"
      ],
      "text/plain": [
       "<IPython.core.display.HTML object>"
      ]
     },
     "metadata": {},
     "output_type": "display_data"
    },
    {
     "name": "stdout",
     "output_type": "stream",
     "text": [
      "Drawing .\n"
     ]
    },
    {
     "data": {
      "text/html": [
       "<div class=\"zoom\"><img style='width: 100px; height: 100px; margin: 1px; float: left; border: 0px solid black;'title=['.'] src='dataset_birds\\valid\\SPOTTED WHISTLING DUCK\\1.jpg'/></div><div class=\"zoom\"><img style='width: 100px; height: 100px; margin: 1px; float: left; border: 0px solid black;'title=['.'] src='dataset_birds\\valid\\SPOTTED WHISTLING DUCK\\2.jpg'/></div><div class=\"zoom\"><img style='width: 100px; height: 100px; margin: 1px; float: left; border: 0px solid black;'title=['.'] src='dataset_birds\\valid\\SPOTTED WHISTLING DUCK\\3.jpg'/></div><div class=\"zoom\"><img style='width: 100px; height: 100px; margin: 1px; float: left; border: 0px solid black;'title=['.'] src='dataset_birds\\valid\\SPOTTED WHISTLING DUCK\\4.jpg'/></div><div class=\"zoom\"><img style='width: 100px; height: 100px; margin: 1px; float: left; border: 0px solid black;'title=['.'] src='dataset_birds\\valid\\SPOTTED WHISTLING DUCK\\5.jpg'/></div>"
      ],
      "text/plain": [
       "<IPython.core.display.HTML object>"
      ]
     },
     "metadata": {},
     "output_type": "display_data"
    },
    {
     "name": "stdout",
     "output_type": "stream",
     "text": [
      "Drawing .\n"
     ]
    },
    {
     "data": {
      "text/html": [
       "<div class=\"zoom\"><img style='width: 100px; height: 100px; margin: 1px; float: left; border: 0px solid black;'title=['.'] src='dataset_birds\\valid\\SQUACCO HERON\\1.jpg'/></div><div class=\"zoom\"><img style='width: 100px; height: 100px; margin: 1px; float: left; border: 0px solid black;'title=['.'] src='dataset_birds\\valid\\SQUACCO HERON\\2.jpg'/></div><div class=\"zoom\"><img style='width: 100px; height: 100px; margin: 1px; float: left; border: 0px solid black;'title=['.'] src='dataset_birds\\valid\\SQUACCO HERON\\3.jpg'/></div><div class=\"zoom\"><img style='width: 100px; height: 100px; margin: 1px; float: left; border: 0px solid black;'title=['.'] src='dataset_birds\\valid\\SQUACCO HERON\\4.jpg'/></div><div class=\"zoom\"><img style='width: 100px; height: 100px; margin: 1px; float: left; border: 0px solid black;'title=['.'] src='dataset_birds\\valid\\SQUACCO HERON\\5.jpg'/></div>"
      ],
      "text/plain": [
       "<IPython.core.display.HTML object>"
      ]
     },
     "metadata": {},
     "output_type": "display_data"
    },
    {
     "name": "stdout",
     "output_type": "stream",
     "text": [
      "Drawing .\n"
     ]
    },
    {
     "data": {
      "text/html": [
       "<div class=\"zoom\"><img style='width: 100px; height: 100px; margin: 1px; float: left; border: 0px solid black;'title=['.'] src='dataset_birds\\valid\\SRI LANKA BLUE MAGPIE\\1.jpg'/></div><div class=\"zoom\"><img style='width: 100px; height: 100px; margin: 1px; float: left; border: 0px solid black;'title=['.'] src='dataset_birds\\valid\\SRI LANKA BLUE MAGPIE\\2.jpg'/></div><div class=\"zoom\"><img style='width: 100px; height: 100px; margin: 1px; float: left; border: 0px solid black;'title=['.'] src='dataset_birds\\valid\\SRI LANKA BLUE MAGPIE\\3.jpg'/></div><div class=\"zoom\"><img style='width: 100px; height: 100px; margin: 1px; float: left; border: 0px solid black;'title=['.'] src='dataset_birds\\valid\\SRI LANKA BLUE MAGPIE\\4.jpg'/></div><div class=\"zoom\"><img style='width: 100px; height: 100px; margin: 1px; float: left; border: 0px solid black;'title=['.'] src='dataset_birds\\valid\\SRI LANKA BLUE MAGPIE\\5.jpg'/></div>"
      ],
      "text/plain": [
       "<IPython.core.display.HTML object>"
      ]
     },
     "metadata": {},
     "output_type": "display_data"
    },
    {
     "name": "stdout",
     "output_type": "stream",
     "text": [
      "Drawing .\n"
     ]
    },
    {
     "data": {
      "text/html": [
       "<div class=\"zoom\"><img style='width: 100px; height: 100px; margin: 1px; float: left; border: 0px solid black;'title=['.'] src='dataset_birds\\valid\\STEAMER DUCK\\1.jpg'/></div><div class=\"zoom\"><img style='width: 100px; height: 100px; margin: 1px; float: left; border: 0px solid black;'title=['.'] src='dataset_birds\\valid\\STEAMER DUCK\\2.jpg'/></div><div class=\"zoom\"><img style='width: 100px; height: 100px; margin: 1px; float: left; border: 0px solid black;'title=['.'] src='dataset_birds\\valid\\STEAMER DUCK\\3.jpg'/></div><div class=\"zoom\"><img style='width: 100px; height: 100px; margin: 1px; float: left; border: 0px solid black;'title=['.'] src='dataset_birds\\valid\\STEAMER DUCK\\4.jpg'/></div><div class=\"zoom\"><img style='width: 100px; height: 100px; margin: 1px; float: left; border: 0px solid black;'title=['.'] src='dataset_birds\\valid\\STEAMER DUCK\\5.jpg'/></div>"
      ],
      "text/plain": [
       "<IPython.core.display.HTML object>"
      ]
     },
     "metadata": {},
     "output_type": "display_data"
    },
    {
     "name": "stdout",
     "output_type": "stream",
     "text": [
      "Drawing .\n"
     ]
    },
    {
     "data": {
      "text/html": [
       "<div class=\"zoom\"><img style='width: 100px; height: 100px; margin: 1px; float: left; border: 0px solid black;'title=['.'] src='dataset_birds\\valid\\STORK BILLED KINGFISHER\\1.jpg'/></div><div class=\"zoom\"><img style='width: 100px; height: 100px; margin: 1px; float: left; border: 0px solid black;'title=['.'] src='dataset_birds\\valid\\STORK BILLED KINGFISHER\\2.jpg'/></div><div class=\"zoom\"><img style='width: 100px; height: 100px; margin: 1px; float: left; border: 0px solid black;'title=['.'] src='dataset_birds\\valid\\STORK BILLED KINGFISHER\\3.jpg'/></div><div class=\"zoom\"><img style='width: 100px; height: 100px; margin: 1px; float: left; border: 0px solid black;'title=['.'] src='dataset_birds\\valid\\STORK BILLED KINGFISHER\\4.jpg'/></div><div class=\"zoom\"><img style='width: 100px; height: 100px; margin: 1px; float: left; border: 0px solid black;'title=['.'] src='dataset_birds\\valid\\STORK BILLED KINGFISHER\\5.jpg'/></div>"
      ],
      "text/plain": [
       "<IPython.core.display.HTML object>"
      ]
     },
     "metadata": {},
     "output_type": "display_data"
    },
    {
     "name": "stdout",
     "output_type": "stream",
     "text": [
      "Drawing .\n"
     ]
    },
    {
     "data": {
      "text/html": [
       "<div class=\"zoom\"><img style='width: 100px; height: 100px; margin: 1px; float: left; border: 0px solid black;'title=['.'] src='dataset_birds\\valid\\STRIATED CARACARA\\1.jpg'/></div><div class=\"zoom\"><img style='width: 100px; height: 100px; margin: 1px; float: left; border: 0px solid black;'title=['.'] src='dataset_birds\\valid\\STRIATED CARACARA\\2.jpg'/></div><div class=\"zoom\"><img style='width: 100px; height: 100px; margin: 1px; float: left; border: 0px solid black;'title=['.'] src='dataset_birds\\valid\\STRIATED CARACARA\\3.jpg'/></div><div class=\"zoom\"><img style='width: 100px; height: 100px; margin: 1px; float: left; border: 0px solid black;'title=['.'] src='dataset_birds\\valid\\STRIATED CARACARA\\4.jpg'/></div><div class=\"zoom\"><img style='width: 100px; height: 100px; margin: 1px; float: left; border: 0px solid black;'title=['.'] src='dataset_birds\\valid\\STRIATED CARACARA\\5.jpg'/></div>"
      ],
      "text/plain": [
       "<IPython.core.display.HTML object>"
      ]
     },
     "metadata": {},
     "output_type": "display_data"
    },
    {
     "name": "stdout",
     "output_type": "stream",
     "text": [
      "Drawing .\n"
     ]
    },
    {
     "data": {
      "text/html": [
       "<div class=\"zoom\"><img style='width: 100px; height: 100px; margin: 1px; float: left; border: 0px solid black;'title=['.'] src='dataset_birds\\valid\\STRIPED OWL\\1.jpg'/></div><div class=\"zoom\"><img style='width: 100px; height: 100px; margin: 1px; float: left; border: 0px solid black;'title=['.'] src='dataset_birds\\valid\\STRIPED OWL\\2.jpg'/></div><div class=\"zoom\"><img style='width: 100px; height: 100px; margin: 1px; float: left; border: 0px solid black;'title=['.'] src='dataset_birds\\valid\\STRIPED OWL\\3.jpg'/></div><div class=\"zoom\"><img style='width: 100px; height: 100px; margin: 1px; float: left; border: 0px solid black;'title=['.'] src='dataset_birds\\valid\\STRIPED OWL\\4.jpg'/></div><div class=\"zoom\"><img style='width: 100px; height: 100px; margin: 1px; float: left; border: 0px solid black;'title=['.'] src='dataset_birds\\valid\\STRIPED OWL\\5.jpg'/></div>"
      ],
      "text/plain": [
       "<IPython.core.display.HTML object>"
      ]
     },
     "metadata": {},
     "output_type": "display_data"
    },
    {
     "name": "stdout",
     "output_type": "stream",
     "text": [
      "Drawing .\n"
     ]
    },
    {
     "data": {
      "text/html": [
       "<div class=\"zoom\"><img style='width: 100px; height: 100px; margin: 1px; float: left; border: 0px solid black;'title=['.'] src='dataset_birds\\valid\\STRIPPED MANAKIN\\1.jpg'/></div><div class=\"zoom\"><img style='width: 100px; height: 100px; margin: 1px; float: left; border: 0px solid black;'title=['.'] src='dataset_birds\\valid\\STRIPPED MANAKIN\\2.jpg'/></div><div class=\"zoom\"><img style='width: 100px; height: 100px; margin: 1px; float: left; border: 0px solid black;'title=['.'] src='dataset_birds\\valid\\STRIPPED MANAKIN\\3.jpg'/></div><div class=\"zoom\"><img style='width: 100px; height: 100px; margin: 1px; float: left; border: 0px solid black;'title=['.'] src='dataset_birds\\valid\\STRIPPED MANAKIN\\4.jpg'/></div><div class=\"zoom\"><img style='width: 100px; height: 100px; margin: 1px; float: left; border: 0px solid black;'title=['.'] src='dataset_birds\\valid\\STRIPPED MANAKIN\\5.jpg'/></div>"
      ],
      "text/plain": [
       "<IPython.core.display.HTML object>"
      ]
     },
     "metadata": {},
     "output_type": "display_data"
    },
    {
     "name": "stdout",
     "output_type": "stream",
     "text": [
      "Drawing .\n"
     ]
    },
    {
     "data": {
      "text/html": [
       "<div class=\"zoom\"><img style='width: 100px; height: 100px; margin: 1px; float: left; border: 0px solid black;'title=['.'] src='dataset_birds\\valid\\STRIPPED SWALLOW\\1.jpg'/></div><div class=\"zoom\"><img style='width: 100px; height: 100px; margin: 1px; float: left; border: 0px solid black;'title=['.'] src='dataset_birds\\valid\\STRIPPED SWALLOW\\2.jpg'/></div><div class=\"zoom\"><img style='width: 100px; height: 100px; margin: 1px; float: left; border: 0px solid black;'title=['.'] src='dataset_birds\\valid\\STRIPPED SWALLOW\\3.jpg'/></div><div class=\"zoom\"><img style='width: 100px; height: 100px; margin: 1px; float: left; border: 0px solid black;'title=['.'] src='dataset_birds\\valid\\STRIPPED SWALLOW\\4.jpg'/></div><div class=\"zoom\"><img style='width: 100px; height: 100px; margin: 1px; float: left; border: 0px solid black;'title=['.'] src='dataset_birds\\valid\\STRIPPED SWALLOW\\5.jpg'/></div>"
      ],
      "text/plain": [
       "<IPython.core.display.HTML object>"
      ]
     },
     "metadata": {},
     "output_type": "display_data"
    },
    {
     "name": "stdout",
     "output_type": "stream",
     "text": [
      "Drawing .\n"
     ]
    },
    {
     "data": {
      "text/html": [
       "<div class=\"zoom\"><img style='width: 100px; height: 100px; margin: 1px; float: left; border: 0px solid black;'title=['.'] src='dataset_birds\\valid\\SUNBITTERN\\1.jpg'/></div><div class=\"zoom\"><img style='width: 100px; height: 100px; margin: 1px; float: left; border: 0px solid black;'title=['.'] src='dataset_birds\\valid\\SUNBITTERN\\2.jpg'/></div><div class=\"zoom\"><img style='width: 100px; height: 100px; margin: 1px; float: left; border: 0px solid black;'title=['.'] src='dataset_birds\\valid\\SUNBITTERN\\3.jpg'/></div><div class=\"zoom\"><img style='width: 100px; height: 100px; margin: 1px; float: left; border: 0px solid black;'title=['.'] src='dataset_birds\\valid\\SUNBITTERN\\4.jpg'/></div><div class=\"zoom\"><img style='width: 100px; height: 100px; margin: 1px; float: left; border: 0px solid black;'title=['.'] src='dataset_birds\\valid\\SUNBITTERN\\5.jpg'/></div>"
      ],
      "text/plain": [
       "<IPython.core.display.HTML object>"
      ]
     },
     "metadata": {},
     "output_type": "display_data"
    },
    {
     "name": "stdout",
     "output_type": "stream",
     "text": [
      "Drawing .\n"
     ]
    },
    {
     "data": {
      "text/html": [
       "<div class=\"zoom\"><img style='width: 100px; height: 100px; margin: 1px; float: left; border: 0px solid black;'title=['.'] src='dataset_birds\\valid\\SUPERB STARLING\\1.jpg'/></div><div class=\"zoom\"><img style='width: 100px; height: 100px; margin: 1px; float: left; border: 0px solid black;'title=['.'] src='dataset_birds\\valid\\SUPERB STARLING\\2.jpg'/></div><div class=\"zoom\"><img style='width: 100px; height: 100px; margin: 1px; float: left; border: 0px solid black;'title=['.'] src='dataset_birds\\valid\\SUPERB STARLING\\3.jpg'/></div><div class=\"zoom\"><img style='width: 100px; height: 100px; margin: 1px; float: left; border: 0px solid black;'title=['.'] src='dataset_birds\\valid\\SUPERB STARLING\\4.jpg'/></div><div class=\"zoom\"><img style='width: 100px; height: 100px; margin: 1px; float: left; border: 0px solid black;'title=['.'] src='dataset_birds\\valid\\SUPERB STARLING\\5.jpg'/></div>"
      ],
      "text/plain": [
       "<IPython.core.display.HTML object>"
      ]
     },
     "metadata": {},
     "output_type": "display_data"
    },
    {
     "name": "stdout",
     "output_type": "stream",
     "text": [
      "Drawing .\n"
     ]
    },
    {
     "data": {
      "text/html": [
       "<div class=\"zoom\"><img style='width: 100px; height: 100px; margin: 1px; float: left; border: 0px solid black;'title=['.'] src='dataset_birds\\valid\\SURF SCOTER\\1.jpg'/></div><div class=\"zoom\"><img style='width: 100px; height: 100px; margin: 1px; float: left; border: 0px solid black;'title=['.'] src='dataset_birds\\valid\\SURF SCOTER\\2.jpg'/></div><div class=\"zoom\"><img style='width: 100px; height: 100px; margin: 1px; float: left; border: 0px solid black;'title=['.'] src='dataset_birds\\valid\\SURF SCOTER\\3.jpg'/></div><div class=\"zoom\"><img style='width: 100px; height: 100px; margin: 1px; float: left; border: 0px solid black;'title=['.'] src='dataset_birds\\valid\\SURF SCOTER\\4.jpg'/></div><div class=\"zoom\"><img style='width: 100px; height: 100px; margin: 1px; float: left; border: 0px solid black;'title=['.'] src='dataset_birds\\valid\\SURF SCOTER\\5.jpg'/></div>"
      ],
      "text/plain": [
       "<IPython.core.display.HTML object>"
      ]
     },
     "metadata": {},
     "output_type": "display_data"
    },
    {
     "name": "stdout",
     "output_type": "stream",
     "text": [
      "Drawing .\n"
     ]
    },
    {
     "data": {
      "text/html": [
       "<div class=\"zoom\"><img style='width: 100px; height: 100px; margin: 1px; float: left; border: 0px solid black;'title=['.'] src='dataset_birds\\valid\\SWINHOES PHEASANT\\1.jpg'/></div><div class=\"zoom\"><img style='width: 100px; height: 100px; margin: 1px; float: left; border: 0px solid black;'title=['.'] src='dataset_birds\\valid\\SWINHOES PHEASANT\\2.jpg'/></div><div class=\"zoom\"><img style='width: 100px; height: 100px; margin: 1px; float: left; border: 0px solid black;'title=['.'] src='dataset_birds\\valid\\SWINHOES PHEASANT\\3.jpg'/></div><div class=\"zoom\"><img style='width: 100px; height: 100px; margin: 1px; float: left; border: 0px solid black;'title=['.'] src='dataset_birds\\valid\\SWINHOES PHEASANT\\4.jpg'/></div><div class=\"zoom\"><img style='width: 100px; height: 100px; margin: 1px; float: left; border: 0px solid black;'title=['.'] src='dataset_birds\\valid\\SWINHOES PHEASANT\\5.jpg'/></div>"
      ],
      "text/plain": [
       "<IPython.core.display.HTML object>"
      ]
     },
     "metadata": {},
     "output_type": "display_data"
    },
    {
     "name": "stdout",
     "output_type": "stream",
     "text": [
      "Drawing .\n"
     ]
    },
    {
     "data": {
      "text/html": [
       "<div class=\"zoom\"><img style='width: 100px; height: 100px; margin: 1px; float: left; border: 0px solid black;'title=['.'] src='dataset_birds\\valid\\TAILORBIRD\\1.jpg'/></div><div class=\"zoom\"><img style='width: 100px; height: 100px; margin: 1px; float: left; border: 0px solid black;'title=['.'] src='dataset_birds\\valid\\TAILORBIRD\\2.jpg'/></div><div class=\"zoom\"><img style='width: 100px; height: 100px; margin: 1px; float: left; border: 0px solid black;'title=['.'] src='dataset_birds\\valid\\TAILORBIRD\\3.jpg'/></div><div class=\"zoom\"><img style='width: 100px; height: 100px; margin: 1px; float: left; border: 0px solid black;'title=['.'] src='dataset_birds\\valid\\TAILORBIRD\\4.jpg'/></div><div class=\"zoom\"><img style='width: 100px; height: 100px; margin: 1px; float: left; border: 0px solid black;'title=['.'] src='dataset_birds\\valid\\TAILORBIRD\\5.jpg'/></div>"
      ],
      "text/plain": [
       "<IPython.core.display.HTML object>"
      ]
     },
     "metadata": {},
     "output_type": "display_data"
    },
    {
     "name": "stdout",
     "output_type": "stream",
     "text": [
      "Drawing .\n"
     ]
    },
    {
     "data": {
      "text/html": [
       "<div class=\"zoom\"><img style='width: 100px; height: 100px; margin: 1px; float: left; border: 0px solid black;'title=['.'] src='dataset_birds\\valid\\TAIWAN MAGPIE\\1.jpg'/></div><div class=\"zoom\"><img style='width: 100px; height: 100px; margin: 1px; float: left; border: 0px solid black;'title=['.'] src='dataset_birds\\valid\\TAIWAN MAGPIE\\2.jpg'/></div><div class=\"zoom\"><img style='width: 100px; height: 100px; margin: 1px; float: left; border: 0px solid black;'title=['.'] src='dataset_birds\\valid\\TAIWAN MAGPIE\\3.jpg'/></div><div class=\"zoom\"><img style='width: 100px; height: 100px; margin: 1px; float: left; border: 0px solid black;'title=['.'] src='dataset_birds\\valid\\TAIWAN MAGPIE\\4.jpg'/></div><div class=\"zoom\"><img style='width: 100px; height: 100px; margin: 1px; float: left; border: 0px solid black;'title=['.'] src='dataset_birds\\valid\\TAIWAN MAGPIE\\5.jpg'/></div>"
      ],
      "text/plain": [
       "<IPython.core.display.HTML object>"
      ]
     },
     "metadata": {},
     "output_type": "display_data"
    },
    {
     "name": "stdout",
     "output_type": "stream",
     "text": [
      "Drawing .\n"
     ]
    },
    {
     "data": {
      "text/html": [
       "<div class=\"zoom\"><img style='width: 100px; height: 100px; margin: 1px; float: left; border: 0px solid black;'title=['.'] src='dataset_birds\\valid\\TAKAHE\\1.jpg'/></div><div class=\"zoom\"><img style='width: 100px; height: 100px; margin: 1px; float: left; border: 0px solid black;'title=['.'] src='dataset_birds\\valid\\TAKAHE\\2.jpg'/></div><div class=\"zoom\"><img style='width: 100px; height: 100px; margin: 1px; float: left; border: 0px solid black;'title=['.'] src='dataset_birds\\valid\\TAKAHE\\3.jpg'/></div><div class=\"zoom\"><img style='width: 100px; height: 100px; margin: 1px; float: left; border: 0px solid black;'title=['.'] src='dataset_birds\\valid\\TAKAHE\\4.jpg'/></div><div class=\"zoom\"><img style='width: 100px; height: 100px; margin: 1px; float: left; border: 0px solid black;'title=['.'] src='dataset_birds\\valid\\TAKAHE\\5.jpg'/></div>"
      ],
      "text/plain": [
       "<IPython.core.display.HTML object>"
      ]
     },
     "metadata": {},
     "output_type": "display_data"
    },
    {
     "name": "stdout",
     "output_type": "stream",
     "text": [
      "Drawing .\n"
     ]
    },
    {
     "data": {
      "text/html": [
       "<div class=\"zoom\"><img style='width: 100px; height: 100px; margin: 1px; float: left; border: 0px solid black;'title=['.'] src='dataset_birds\\valid\\TASMANIAN HEN\\1.jpg'/></div><div class=\"zoom\"><img style='width: 100px; height: 100px; margin: 1px; float: left; border: 0px solid black;'title=['.'] src='dataset_birds\\valid\\TASMANIAN HEN\\2.jpg'/></div><div class=\"zoom\"><img style='width: 100px; height: 100px; margin: 1px; float: left; border: 0px solid black;'title=['.'] src='dataset_birds\\valid\\TASMANIAN HEN\\3.jpg'/></div><div class=\"zoom\"><img style='width: 100px; height: 100px; margin: 1px; float: left; border: 0px solid black;'title=['.'] src='dataset_birds\\valid\\TASMANIAN HEN\\4.jpg'/></div><div class=\"zoom\"><img style='width: 100px; height: 100px; margin: 1px; float: left; border: 0px solid black;'title=['.'] src='dataset_birds\\valid\\TASMANIAN HEN\\5.jpg'/></div>"
      ],
      "text/plain": [
       "<IPython.core.display.HTML object>"
      ]
     },
     "metadata": {},
     "output_type": "display_data"
    },
    {
     "name": "stdout",
     "output_type": "stream",
     "text": [
      "Drawing .\n"
     ]
    },
    {
     "data": {
      "text/html": [
       "<div class=\"zoom\"><img style='width: 100px; height: 100px; margin: 1px; float: left; border: 0px solid black;'title=['.'] src='dataset_birds\\valid\\TAWNY FROGMOUTH\\1.jpg'/></div><div class=\"zoom\"><img style='width: 100px; height: 100px; margin: 1px; float: left; border: 0px solid black;'title=['.'] src='dataset_birds\\valid\\TAWNY FROGMOUTH\\2.jpg'/></div><div class=\"zoom\"><img style='width: 100px; height: 100px; margin: 1px; float: left; border: 0px solid black;'title=['.'] src='dataset_birds\\valid\\TAWNY FROGMOUTH\\3.jpg'/></div><div class=\"zoom\"><img style='width: 100px; height: 100px; margin: 1px; float: left; border: 0px solid black;'title=['.'] src='dataset_birds\\valid\\TAWNY FROGMOUTH\\4.jpg'/></div><div class=\"zoom\"><img style='width: 100px; height: 100px; margin: 1px; float: left; border: 0px solid black;'title=['.'] src='dataset_birds\\valid\\TAWNY FROGMOUTH\\5.jpg'/></div>"
      ],
      "text/plain": [
       "<IPython.core.display.HTML object>"
      ]
     },
     "metadata": {},
     "output_type": "display_data"
    },
    {
     "name": "stdout",
     "output_type": "stream",
     "text": [
      "Drawing .\n"
     ]
    },
    {
     "data": {
      "text/html": [
       "<div class=\"zoom\"><img style='width: 100px; height: 100px; margin: 1px; float: left; border: 0px solid black;'title=['.'] src='dataset_birds\\valid\\TEAL DUCK\\1.jpg'/></div><div class=\"zoom\"><img style='width: 100px; height: 100px; margin: 1px; float: left; border: 0px solid black;'title=['.'] src='dataset_birds\\valid\\TEAL DUCK\\2.jpg'/></div><div class=\"zoom\"><img style='width: 100px; height: 100px; margin: 1px; float: left; border: 0px solid black;'title=['.'] src='dataset_birds\\valid\\TEAL DUCK\\3.jpg'/></div><div class=\"zoom\"><img style='width: 100px; height: 100px; margin: 1px; float: left; border: 0px solid black;'title=['.'] src='dataset_birds\\valid\\TEAL DUCK\\4.jpg'/></div><div class=\"zoom\"><img style='width: 100px; height: 100px; margin: 1px; float: left; border: 0px solid black;'title=['.'] src='dataset_birds\\valid\\TEAL DUCK\\5.jpg'/></div>"
      ],
      "text/plain": [
       "<IPython.core.display.HTML object>"
      ]
     },
     "metadata": {},
     "output_type": "display_data"
    },
    {
     "name": "stdout",
     "output_type": "stream",
     "text": [
      "Drawing .\n"
     ]
    },
    {
     "data": {
      "text/html": [
       "<div class=\"zoom\"><img style='width: 100px; height: 100px; margin: 1px; float: left; border: 0px solid black;'title=['.'] src='dataset_birds\\valid\\TIT MOUSE\\1.jpg'/></div><div class=\"zoom\"><img style='width: 100px; height: 100px; margin: 1px; float: left; border: 0px solid black;'title=['.'] src='dataset_birds\\valid\\TIT MOUSE\\2.jpg'/></div><div class=\"zoom\"><img style='width: 100px; height: 100px; margin: 1px; float: left; border: 0px solid black;'title=['.'] src='dataset_birds\\valid\\TIT MOUSE\\3.jpg'/></div><div class=\"zoom\"><img style='width: 100px; height: 100px; margin: 1px; float: left; border: 0px solid black;'title=['.'] src='dataset_birds\\valid\\TIT MOUSE\\4.jpg'/></div><div class=\"zoom\"><img style='width: 100px; height: 100px; margin: 1px; float: left; border: 0px solid black;'title=['.'] src='dataset_birds\\valid\\TIT MOUSE\\5.jpg'/></div>"
      ],
      "text/plain": [
       "<IPython.core.display.HTML object>"
      ]
     },
     "metadata": {},
     "output_type": "display_data"
    },
    {
     "name": "stdout",
     "output_type": "stream",
     "text": [
      "Drawing .\n"
     ]
    },
    {
     "data": {
      "text/html": [
       "<div class=\"zoom\"><img style='width: 100px; height: 100px; margin: 1px; float: left; border: 0px solid black;'title=['.'] src='dataset_birds\\valid\\TOUCHAN\\1.jpg'/></div><div class=\"zoom\"><img style='width: 100px; height: 100px; margin: 1px; float: left; border: 0px solid black;'title=['.'] src='dataset_birds\\valid\\TOUCHAN\\2.jpg'/></div><div class=\"zoom\"><img style='width: 100px; height: 100px; margin: 1px; float: left; border: 0px solid black;'title=['.'] src='dataset_birds\\valid\\TOUCHAN\\3.jpg'/></div><div class=\"zoom\"><img style='width: 100px; height: 100px; margin: 1px; float: left; border: 0px solid black;'title=['.'] src='dataset_birds\\valid\\TOUCHAN\\4.jpg'/></div><div class=\"zoom\"><img style='width: 100px; height: 100px; margin: 1px; float: left; border: 0px solid black;'title=['.'] src='dataset_birds\\valid\\TOUCHAN\\5.jpg'/></div>"
      ],
      "text/plain": [
       "<IPython.core.display.HTML object>"
      ]
     },
     "metadata": {},
     "output_type": "display_data"
    },
    {
     "name": "stdout",
     "output_type": "stream",
     "text": [
      "Drawing .\n"
     ]
    },
    {
     "data": {
      "text/html": [
       "<div class=\"zoom\"><img style='width: 100px; height: 100px; margin: 1px; float: left; border: 0px solid black;'title=['.'] src='dataset_birds\\valid\\TOWNSENDS WARBLER\\1.jpg'/></div><div class=\"zoom\"><img style='width: 100px; height: 100px; margin: 1px; float: left; border: 0px solid black;'title=['.'] src='dataset_birds\\valid\\TOWNSENDS WARBLER\\2.jpg'/></div><div class=\"zoom\"><img style='width: 100px; height: 100px; margin: 1px; float: left; border: 0px solid black;'title=['.'] src='dataset_birds\\valid\\TOWNSENDS WARBLER\\3.jpg'/></div><div class=\"zoom\"><img style='width: 100px; height: 100px; margin: 1px; float: left; border: 0px solid black;'title=['.'] src='dataset_birds\\valid\\TOWNSENDS WARBLER\\4.jpg'/></div><div class=\"zoom\"><img style='width: 100px; height: 100px; margin: 1px; float: left; border: 0px solid black;'title=['.'] src='dataset_birds\\valid\\TOWNSENDS WARBLER\\5.jpg'/></div>"
      ],
      "text/plain": [
       "<IPython.core.display.HTML object>"
      ]
     },
     "metadata": {},
     "output_type": "display_data"
    },
    {
     "name": "stdout",
     "output_type": "stream",
     "text": [
      "Drawing .\n"
     ]
    },
    {
     "data": {
      "text/html": [
       "<div class=\"zoom\"><img style='width: 100px; height: 100px; margin: 1px; float: left; border: 0px solid black;'title=['.'] src='dataset_birds\\valid\\TREE SWALLOW\\1.jpg'/></div><div class=\"zoom\"><img style='width: 100px; height: 100px; margin: 1px; float: left; border: 0px solid black;'title=['.'] src='dataset_birds\\valid\\TREE SWALLOW\\2.jpg'/></div><div class=\"zoom\"><img style='width: 100px; height: 100px; margin: 1px; float: left; border: 0px solid black;'title=['.'] src='dataset_birds\\valid\\TREE SWALLOW\\3.jpg'/></div><div class=\"zoom\"><img style='width: 100px; height: 100px; margin: 1px; float: left; border: 0px solid black;'title=['.'] src='dataset_birds\\valid\\TREE SWALLOW\\4.jpg'/></div><div class=\"zoom\"><img style='width: 100px; height: 100px; margin: 1px; float: left; border: 0px solid black;'title=['.'] src='dataset_birds\\valid\\TREE SWALLOW\\5.jpg'/></div>"
      ],
      "text/plain": [
       "<IPython.core.display.HTML object>"
      ]
     },
     "metadata": {},
     "output_type": "display_data"
    },
    {
     "name": "stdout",
     "output_type": "stream",
     "text": [
      "Drawing .\n"
     ]
    },
    {
     "data": {
      "text/html": [
       "<div class=\"zoom\"><img style='width: 100px; height: 100px; margin: 1px; float: left; border: 0px solid black;'title=['.'] src='dataset_birds\\valid\\TRICOLORED BLACKBIRD\\1.jpg'/></div><div class=\"zoom\"><img style='width: 100px; height: 100px; margin: 1px; float: left; border: 0px solid black;'title=['.'] src='dataset_birds\\valid\\TRICOLORED BLACKBIRD\\2.jpg'/></div><div class=\"zoom\"><img style='width: 100px; height: 100px; margin: 1px; float: left; border: 0px solid black;'title=['.'] src='dataset_birds\\valid\\TRICOLORED BLACKBIRD\\3.jpg'/></div><div class=\"zoom\"><img style='width: 100px; height: 100px; margin: 1px; float: left; border: 0px solid black;'title=['.'] src='dataset_birds\\valid\\TRICOLORED BLACKBIRD\\4.jpg'/></div><div class=\"zoom\"><img style='width: 100px; height: 100px; margin: 1px; float: left; border: 0px solid black;'title=['.'] src='dataset_birds\\valid\\TRICOLORED BLACKBIRD\\5.jpg'/></div>"
      ],
      "text/plain": [
       "<IPython.core.display.HTML object>"
      ]
     },
     "metadata": {},
     "output_type": "display_data"
    },
    {
     "name": "stdout",
     "output_type": "stream",
     "text": [
      "Drawing .\n"
     ]
    },
    {
     "data": {
      "text/html": [
       "<div class=\"zoom\"><img style='width: 100px; height: 100px; margin: 1px; float: left; border: 0px solid black;'title=['.'] src='dataset_birds\\valid\\TROPICAL KINGBIRD\\1.jpg'/></div><div class=\"zoom\"><img style='width: 100px; height: 100px; margin: 1px; float: left; border: 0px solid black;'title=['.'] src='dataset_birds\\valid\\TROPICAL KINGBIRD\\2.jpg'/></div><div class=\"zoom\"><img style='width: 100px; height: 100px; margin: 1px; float: left; border: 0px solid black;'title=['.'] src='dataset_birds\\valid\\TROPICAL KINGBIRD\\3.jpg'/></div><div class=\"zoom\"><img style='width: 100px; height: 100px; margin: 1px; float: left; border: 0px solid black;'title=['.'] src='dataset_birds\\valid\\TROPICAL KINGBIRD\\4.jpg'/></div><div class=\"zoom\"><img style='width: 100px; height: 100px; margin: 1px; float: left; border: 0px solid black;'title=['.'] src='dataset_birds\\valid\\TROPICAL KINGBIRD\\5.jpg'/></div>"
      ],
      "text/plain": [
       "<IPython.core.display.HTML object>"
      ]
     },
     "metadata": {},
     "output_type": "display_data"
    },
    {
     "name": "stdout",
     "output_type": "stream",
     "text": [
      "Drawing .\n"
     ]
    },
    {
     "data": {
      "text/html": [
       "<div class=\"zoom\"><img style='width: 100px; height: 100px; margin: 1px; float: left; border: 0px solid black;'title=['.'] src='dataset_birds\\valid\\TRUMPTER SWAN\\1.jpg'/></div><div class=\"zoom\"><img style='width: 100px; height: 100px; margin: 1px; float: left; border: 0px solid black;'title=['.'] src='dataset_birds\\valid\\TRUMPTER SWAN\\2.jpg'/></div><div class=\"zoom\"><img style='width: 100px; height: 100px; margin: 1px; float: left; border: 0px solid black;'title=['.'] src='dataset_birds\\valid\\TRUMPTER SWAN\\3.jpg'/></div><div class=\"zoom\"><img style='width: 100px; height: 100px; margin: 1px; float: left; border: 0px solid black;'title=['.'] src='dataset_birds\\valid\\TRUMPTER SWAN\\4.jpg'/></div><div class=\"zoom\"><img style='width: 100px; height: 100px; margin: 1px; float: left; border: 0px solid black;'title=['.'] src='dataset_birds\\valid\\TRUMPTER SWAN\\5.jpg'/></div>"
      ],
      "text/plain": [
       "<IPython.core.display.HTML object>"
      ]
     },
     "metadata": {},
     "output_type": "display_data"
    },
    {
     "name": "stdout",
     "output_type": "stream",
     "text": [
      "Drawing .\n"
     ]
    },
    {
     "data": {
      "text/html": [
       "<div class=\"zoom\"><img style='width: 100px; height: 100px; margin: 1px; float: left; border: 0px solid black;'title=['.'] src='dataset_birds\\valid\\TURKEY VULTURE\\1.jpg'/></div><div class=\"zoom\"><img style='width: 100px; height: 100px; margin: 1px; float: left; border: 0px solid black;'title=['.'] src='dataset_birds\\valid\\TURKEY VULTURE\\2.jpg'/></div><div class=\"zoom\"><img style='width: 100px; height: 100px; margin: 1px; float: left; border: 0px solid black;'title=['.'] src='dataset_birds\\valid\\TURKEY VULTURE\\3.jpg'/></div><div class=\"zoom\"><img style='width: 100px; height: 100px; margin: 1px; float: left; border: 0px solid black;'title=['.'] src='dataset_birds\\valid\\TURKEY VULTURE\\4.jpg'/></div><div class=\"zoom\"><img style='width: 100px; height: 100px; margin: 1px; float: left; border: 0px solid black;'title=['.'] src='dataset_birds\\valid\\TURKEY VULTURE\\5.jpg'/></div>"
      ],
      "text/plain": [
       "<IPython.core.display.HTML object>"
      ]
     },
     "metadata": {},
     "output_type": "display_data"
    },
    {
     "name": "stdout",
     "output_type": "stream",
     "text": [
      "Drawing .\n"
     ]
    },
    {
     "data": {
      "text/html": [
       "<div class=\"zoom\"><img style='width: 100px; height: 100px; margin: 1px; float: left; border: 0px solid black;'title=['.'] src='dataset_birds\\valid\\TURQUOISE MOTMOT\\1.jpg'/></div><div class=\"zoom\"><img style='width: 100px; height: 100px; margin: 1px; float: left; border: 0px solid black;'title=['.'] src='dataset_birds\\valid\\TURQUOISE MOTMOT\\2.jpg'/></div><div class=\"zoom\"><img style='width: 100px; height: 100px; margin: 1px; float: left; border: 0px solid black;'title=['.'] src='dataset_birds\\valid\\TURQUOISE MOTMOT\\3.jpg'/></div><div class=\"zoom\"><img style='width: 100px; height: 100px; margin: 1px; float: left; border: 0px solid black;'title=['.'] src='dataset_birds\\valid\\TURQUOISE MOTMOT\\4.jpg'/></div><div class=\"zoom\"><img style='width: 100px; height: 100px; margin: 1px; float: left; border: 0px solid black;'title=['.'] src='dataset_birds\\valid\\TURQUOISE MOTMOT\\5.jpg'/></div>"
      ],
      "text/plain": [
       "<IPython.core.display.HTML object>"
      ]
     },
     "metadata": {},
     "output_type": "display_data"
    },
    {
     "name": "stdout",
     "output_type": "stream",
     "text": [
      "Drawing .\n"
     ]
    },
    {
     "data": {
      "text/html": [
       "<div class=\"zoom\"><img style='width: 100px; height: 100px; margin: 1px; float: left; border: 0px solid black;'title=['.'] src='dataset_birds\\valid\\UMBRELLA BIRD\\1.jpg'/></div><div class=\"zoom\"><img style='width: 100px; height: 100px; margin: 1px; float: left; border: 0px solid black;'title=['.'] src='dataset_birds\\valid\\UMBRELLA BIRD\\2.jpg'/></div><div class=\"zoom\"><img style='width: 100px; height: 100px; margin: 1px; float: left; border: 0px solid black;'title=['.'] src='dataset_birds\\valid\\UMBRELLA BIRD\\3.jpg'/></div><div class=\"zoom\"><img style='width: 100px; height: 100px; margin: 1px; float: left; border: 0px solid black;'title=['.'] src='dataset_birds\\valid\\UMBRELLA BIRD\\4.jpg'/></div><div class=\"zoom\"><img style='width: 100px; height: 100px; margin: 1px; float: left; border: 0px solid black;'title=['.'] src='dataset_birds\\valid\\UMBRELLA BIRD\\5.jpg'/></div>"
      ],
      "text/plain": [
       "<IPython.core.display.HTML object>"
      ]
     },
     "metadata": {},
     "output_type": "display_data"
    },
    {
     "name": "stdout",
     "output_type": "stream",
     "text": [
      "Drawing .\n"
     ]
    },
    {
     "data": {
      "text/html": [
       "<div class=\"zoom\"><img style='width: 100px; height: 100px; margin: 1px; float: left; border: 0px solid black;'title=['.'] src='dataset_birds\\valid\\VARIED THRUSH\\1.jpg'/></div><div class=\"zoom\"><img style='width: 100px; height: 100px; margin: 1px; float: left; border: 0px solid black;'title=['.'] src='dataset_birds\\valid\\VARIED THRUSH\\2.jpg'/></div><div class=\"zoom\"><img style='width: 100px; height: 100px; margin: 1px; float: left; border: 0px solid black;'title=['.'] src='dataset_birds\\valid\\VARIED THRUSH\\3.jpg'/></div><div class=\"zoom\"><img style='width: 100px; height: 100px; margin: 1px; float: left; border: 0px solid black;'title=['.'] src='dataset_birds\\valid\\VARIED THRUSH\\4.jpg'/></div><div class=\"zoom\"><img style='width: 100px; height: 100px; margin: 1px; float: left; border: 0px solid black;'title=['.'] src='dataset_birds\\valid\\VARIED THRUSH\\5.jpg'/></div>"
      ],
      "text/plain": [
       "<IPython.core.display.HTML object>"
      ]
     },
     "metadata": {},
     "output_type": "display_data"
    },
    {
     "name": "stdout",
     "output_type": "stream",
     "text": [
      "Drawing .\n"
     ]
    },
    {
     "data": {
      "text/html": [
       "<div class=\"zoom\"><img style='width: 100px; height: 100px; margin: 1px; float: left; border: 0px solid black;'title=['.'] src='dataset_birds\\valid\\VEERY\\1.jpg'/></div><div class=\"zoom\"><img style='width: 100px; height: 100px; margin: 1px; float: left; border: 0px solid black;'title=['.'] src='dataset_birds\\valid\\VEERY\\2.jpg'/></div><div class=\"zoom\"><img style='width: 100px; height: 100px; margin: 1px; float: left; border: 0px solid black;'title=['.'] src='dataset_birds\\valid\\VEERY\\3.jpg'/></div><div class=\"zoom\"><img style='width: 100px; height: 100px; margin: 1px; float: left; border: 0px solid black;'title=['.'] src='dataset_birds\\valid\\VEERY\\4.jpg'/></div><div class=\"zoom\"><img style='width: 100px; height: 100px; margin: 1px; float: left; border: 0px solid black;'title=['.'] src='dataset_birds\\valid\\VEERY\\5.jpg'/></div>"
      ],
      "text/plain": [
       "<IPython.core.display.HTML object>"
      ]
     },
     "metadata": {},
     "output_type": "display_data"
    },
    {
     "name": "stdout",
     "output_type": "stream",
     "text": [
      "Drawing .\n"
     ]
    },
    {
     "data": {
      "text/html": [
       "<div class=\"zoom\"><img style='width: 100px; height: 100px; margin: 1px; float: left; border: 0px solid black;'title=['.'] src='dataset_birds\\valid\\VENEZUELIAN TROUPIAL\\1.jpg'/></div><div class=\"zoom\"><img style='width: 100px; height: 100px; margin: 1px; float: left; border: 0px solid black;'title=['.'] src='dataset_birds\\valid\\VENEZUELIAN TROUPIAL\\2.jpg'/></div><div class=\"zoom\"><img style='width: 100px; height: 100px; margin: 1px; float: left; border: 0px solid black;'title=['.'] src='dataset_birds\\valid\\VENEZUELIAN TROUPIAL\\3.jpg'/></div><div class=\"zoom\"><img style='width: 100px; height: 100px; margin: 1px; float: left; border: 0px solid black;'title=['.'] src='dataset_birds\\valid\\VENEZUELIAN TROUPIAL\\4.jpg'/></div><div class=\"zoom\"><img style='width: 100px; height: 100px; margin: 1px; float: left; border: 0px solid black;'title=['.'] src='dataset_birds\\valid\\VENEZUELIAN TROUPIAL\\5.jpg'/></div>"
      ],
      "text/plain": [
       "<IPython.core.display.HTML object>"
      ]
     },
     "metadata": {},
     "output_type": "display_data"
    },
    {
     "name": "stdout",
     "output_type": "stream",
     "text": [
      "Drawing .\n"
     ]
    },
    {
     "data": {
      "text/html": [
       "<div class=\"zoom\"><img style='width: 100px; height: 100px; margin: 1px; float: left; border: 0px solid black;'title=['.'] src='dataset_birds\\valid\\VERDIN\\1.jpg'/></div><div class=\"zoom\"><img style='width: 100px; height: 100px; margin: 1px; float: left; border: 0px solid black;'title=['.'] src='dataset_birds\\valid\\VERDIN\\2.jpg'/></div><div class=\"zoom\"><img style='width: 100px; height: 100px; margin: 1px; float: left; border: 0px solid black;'title=['.'] src='dataset_birds\\valid\\VERDIN\\3.jpg'/></div><div class=\"zoom\"><img style='width: 100px; height: 100px; margin: 1px; float: left; border: 0px solid black;'title=['.'] src='dataset_birds\\valid\\VERDIN\\4.jpg'/></div><div class=\"zoom\"><img style='width: 100px; height: 100px; margin: 1px; float: left; border: 0px solid black;'title=['.'] src='dataset_birds\\valid\\VERDIN\\5.jpg'/></div>"
      ],
      "text/plain": [
       "<IPython.core.display.HTML object>"
      ]
     },
     "metadata": {},
     "output_type": "display_data"
    },
    {
     "name": "stdout",
     "output_type": "stream",
     "text": [
      "Drawing .\n"
     ]
    },
    {
     "data": {
      "text/html": [
       "<div class=\"zoom\"><img style='width: 100px; height: 100px; margin: 1px; float: left; border: 0px solid black;'title=['.'] src='dataset_birds\\valid\\VERMILION FLYCATHER\\1.jpg'/></div><div class=\"zoom\"><img style='width: 100px; height: 100px; margin: 1px; float: left; border: 0px solid black;'title=['.'] src='dataset_birds\\valid\\VERMILION FLYCATHER\\2.jpg'/></div><div class=\"zoom\"><img style='width: 100px; height: 100px; margin: 1px; float: left; border: 0px solid black;'title=['.'] src='dataset_birds\\valid\\VERMILION FLYCATHER\\3.jpg'/></div><div class=\"zoom\"><img style='width: 100px; height: 100px; margin: 1px; float: left; border: 0px solid black;'title=['.'] src='dataset_birds\\valid\\VERMILION FLYCATHER\\4.jpg'/></div><div class=\"zoom\"><img style='width: 100px; height: 100px; margin: 1px; float: left; border: 0px solid black;'title=['.'] src='dataset_birds\\valid\\VERMILION FLYCATHER\\5.jpg'/></div>"
      ],
      "text/plain": [
       "<IPython.core.display.HTML object>"
      ]
     },
     "metadata": {},
     "output_type": "display_data"
    },
    {
     "name": "stdout",
     "output_type": "stream",
     "text": [
      "Drawing .\n"
     ]
    },
    {
     "data": {
      "text/html": [
       "<div class=\"zoom\"><img style='width: 100px; height: 100px; margin: 1px; float: left; border: 0px solid black;'title=['.'] src='dataset_birds\\valid\\VICTORIA CROWNED PIGEON\\1.jpg'/></div><div class=\"zoom\"><img style='width: 100px; height: 100px; margin: 1px; float: left; border: 0px solid black;'title=['.'] src='dataset_birds\\valid\\VICTORIA CROWNED PIGEON\\2.jpg'/></div><div class=\"zoom\"><img style='width: 100px; height: 100px; margin: 1px; float: left; border: 0px solid black;'title=['.'] src='dataset_birds\\valid\\VICTORIA CROWNED PIGEON\\3.jpg'/></div><div class=\"zoom\"><img style='width: 100px; height: 100px; margin: 1px; float: left; border: 0px solid black;'title=['.'] src='dataset_birds\\valid\\VICTORIA CROWNED PIGEON\\4.jpg'/></div><div class=\"zoom\"><img style='width: 100px; height: 100px; margin: 1px; float: left; border: 0px solid black;'title=['.'] src='dataset_birds\\valid\\VICTORIA CROWNED PIGEON\\5.jpg'/></div>"
      ],
      "text/plain": [
       "<IPython.core.display.HTML object>"
      ]
     },
     "metadata": {},
     "output_type": "display_data"
    },
    {
     "name": "stdout",
     "output_type": "stream",
     "text": [
      "Drawing .\n"
     ]
    },
    {
     "data": {
      "text/html": [
       "<div class=\"zoom\"><img style='width: 100px; height: 100px; margin: 1px; float: left; border: 0px solid black;'title=['.'] src='dataset_birds\\valid\\VIOLET BACKED STARLING\\1.jpg'/></div><div class=\"zoom\"><img style='width: 100px; height: 100px; margin: 1px; float: left; border: 0px solid black;'title=['.'] src='dataset_birds\\valid\\VIOLET BACKED STARLING\\2.jpg'/></div><div class=\"zoom\"><img style='width: 100px; height: 100px; margin: 1px; float: left; border: 0px solid black;'title=['.'] src='dataset_birds\\valid\\VIOLET BACKED STARLING\\3.jpg'/></div><div class=\"zoom\"><img style='width: 100px; height: 100px; margin: 1px; float: left; border: 0px solid black;'title=['.'] src='dataset_birds\\valid\\VIOLET BACKED STARLING\\4.jpg'/></div><div class=\"zoom\"><img style='width: 100px; height: 100px; margin: 1px; float: left; border: 0px solid black;'title=['.'] src='dataset_birds\\valid\\VIOLET BACKED STARLING\\5.jpg'/></div>"
      ],
      "text/plain": [
       "<IPython.core.display.HTML object>"
      ]
     },
     "metadata": {},
     "output_type": "display_data"
    },
    {
     "name": "stdout",
     "output_type": "stream",
     "text": [
      "Drawing .\n"
     ]
    },
    {
     "data": {
      "text/html": [
       "<div class=\"zoom\"><img style='width: 100px; height: 100px; margin: 1px; float: left; border: 0px solid black;'title=['.'] src='dataset_birds\\valid\\VIOLET CUCKOO\\1.jpg'/></div><div class=\"zoom\"><img style='width: 100px; height: 100px; margin: 1px; float: left; border: 0px solid black;'title=['.'] src='dataset_birds\\valid\\VIOLET CUCKOO\\2.jpg'/></div><div class=\"zoom\"><img style='width: 100px; height: 100px; margin: 1px; float: left; border: 0px solid black;'title=['.'] src='dataset_birds\\valid\\VIOLET CUCKOO\\3.jpg'/></div><div class=\"zoom\"><img style='width: 100px; height: 100px; margin: 1px; float: left; border: 0px solid black;'title=['.'] src='dataset_birds\\valid\\VIOLET CUCKOO\\4.jpg'/></div><div class=\"zoom\"><img style='width: 100px; height: 100px; margin: 1px; float: left; border: 0px solid black;'title=['.'] src='dataset_birds\\valid\\VIOLET CUCKOO\\5.jpg'/></div>"
      ],
      "text/plain": [
       "<IPython.core.display.HTML object>"
      ]
     },
     "metadata": {},
     "output_type": "display_data"
    },
    {
     "name": "stdout",
     "output_type": "stream",
     "text": [
      "Drawing .\n"
     ]
    },
    {
     "data": {
      "text/html": [
       "<div class=\"zoom\"><img style='width: 100px; height: 100px; margin: 1px; float: left; border: 0px solid black;'title=['.'] src='dataset_birds\\valid\\VIOLET GREEN SWALLOW\\1.jpg'/></div><div class=\"zoom\"><img style='width: 100px; height: 100px; margin: 1px; float: left; border: 0px solid black;'title=['.'] src='dataset_birds\\valid\\VIOLET GREEN SWALLOW\\2.jpg'/></div><div class=\"zoom\"><img style='width: 100px; height: 100px; margin: 1px; float: left; border: 0px solid black;'title=['.'] src='dataset_birds\\valid\\VIOLET GREEN SWALLOW\\3.jpg'/></div><div class=\"zoom\"><img style='width: 100px; height: 100px; margin: 1px; float: left; border: 0px solid black;'title=['.'] src='dataset_birds\\valid\\VIOLET GREEN SWALLOW\\4.jpg'/></div><div class=\"zoom\"><img style='width: 100px; height: 100px; margin: 1px; float: left; border: 0px solid black;'title=['.'] src='dataset_birds\\valid\\VIOLET GREEN SWALLOW\\5.jpg'/></div>"
      ],
      "text/plain": [
       "<IPython.core.display.HTML object>"
      ]
     },
     "metadata": {},
     "output_type": "display_data"
    },
    {
     "name": "stdout",
     "output_type": "stream",
     "text": [
      "Drawing .\n"
     ]
    },
    {
     "data": {
      "text/html": [
       "<div class=\"zoom\"><img style='width: 100px; height: 100px; margin: 1px; float: left; border: 0px solid black;'title=['.'] src='dataset_birds\\valid\\VIOLET TURACO\\1.jpg'/></div><div class=\"zoom\"><img style='width: 100px; height: 100px; margin: 1px; float: left; border: 0px solid black;'title=['.'] src='dataset_birds\\valid\\VIOLET TURACO\\2.jpg'/></div><div class=\"zoom\"><img style='width: 100px; height: 100px; margin: 1px; float: left; border: 0px solid black;'title=['.'] src='dataset_birds\\valid\\VIOLET TURACO\\3.jpg'/></div><div class=\"zoom\"><img style='width: 100px; height: 100px; margin: 1px; float: left; border: 0px solid black;'title=['.'] src='dataset_birds\\valid\\VIOLET TURACO\\4.jpg'/></div><div class=\"zoom\"><img style='width: 100px; height: 100px; margin: 1px; float: left; border: 0px solid black;'title=['.'] src='dataset_birds\\valid\\VIOLET TURACO\\5.jpg'/></div>"
      ],
      "text/plain": [
       "<IPython.core.display.HTML object>"
      ]
     },
     "metadata": {},
     "output_type": "display_data"
    },
    {
     "name": "stdout",
     "output_type": "stream",
     "text": [
      "Drawing .\n"
     ]
    },
    {
     "data": {
      "text/html": [
       "<div class=\"zoom\"><img style='width: 100px; height: 100px; margin: 1px; float: left; border: 0px solid black;'title=['.'] src='dataset_birds\\valid\\VISAYAN HORNBILL\\1.jpg'/></div><div class=\"zoom\"><img style='width: 100px; height: 100px; margin: 1px; float: left; border: 0px solid black;'title=['.'] src='dataset_birds\\valid\\VISAYAN HORNBILL\\2.jpg'/></div><div class=\"zoom\"><img style='width: 100px; height: 100px; margin: 1px; float: left; border: 0px solid black;'title=['.'] src='dataset_birds\\valid\\VISAYAN HORNBILL\\3.jpg'/></div><div class=\"zoom\"><img style='width: 100px; height: 100px; margin: 1px; float: left; border: 0px solid black;'title=['.'] src='dataset_birds\\valid\\VISAYAN HORNBILL\\4.jpg'/></div><div class=\"zoom\"><img style='width: 100px; height: 100px; margin: 1px; float: left; border: 0px solid black;'title=['.'] src='dataset_birds\\valid\\VISAYAN HORNBILL\\5.jpg'/></div>"
      ],
      "text/plain": [
       "<IPython.core.display.HTML object>"
      ]
     },
     "metadata": {},
     "output_type": "display_data"
    },
    {
     "name": "stdout",
     "output_type": "stream",
     "text": [
      "Drawing .\n"
     ]
    },
    {
     "data": {
      "text/html": [
       "<div class=\"zoom\"><img style='width: 100px; height: 100px; margin: 1px; float: left; border: 0px solid black;'title=['.'] src='dataset_birds\\valid\\VULTURINE GUINEAFOWL\\1.jpg'/></div><div class=\"zoom\"><img style='width: 100px; height: 100px; margin: 1px; float: left; border: 0px solid black;'title=['.'] src='dataset_birds\\valid\\VULTURINE GUINEAFOWL\\2.jpg'/></div><div class=\"zoom\"><img style='width: 100px; height: 100px; margin: 1px; float: left; border: 0px solid black;'title=['.'] src='dataset_birds\\valid\\VULTURINE GUINEAFOWL\\3.jpg'/></div><div class=\"zoom\"><img style='width: 100px; height: 100px; margin: 1px; float: left; border: 0px solid black;'title=['.'] src='dataset_birds\\valid\\VULTURINE GUINEAFOWL\\4.jpg'/></div><div class=\"zoom\"><img style='width: 100px; height: 100px; margin: 1px; float: left; border: 0px solid black;'title=['.'] src='dataset_birds\\valid\\VULTURINE GUINEAFOWL\\5.jpg'/></div>"
      ],
      "text/plain": [
       "<IPython.core.display.HTML object>"
      ]
     },
     "metadata": {},
     "output_type": "display_data"
    },
    {
     "name": "stdout",
     "output_type": "stream",
     "text": [
      "Drawing .\n"
     ]
    },
    {
     "data": {
      "text/html": [
       "<div class=\"zoom\"><img style='width: 100px; height: 100px; margin: 1px; float: left; border: 0px solid black;'title=['.'] src='dataset_birds\\valid\\WALL CREAPER\\1.jpg'/></div><div class=\"zoom\"><img style='width: 100px; height: 100px; margin: 1px; float: left; border: 0px solid black;'title=['.'] src='dataset_birds\\valid\\WALL CREAPER\\2.jpg'/></div><div class=\"zoom\"><img style='width: 100px; height: 100px; margin: 1px; float: left; border: 0px solid black;'title=['.'] src='dataset_birds\\valid\\WALL CREAPER\\3.jpg'/></div><div class=\"zoom\"><img style='width: 100px; height: 100px; margin: 1px; float: left; border: 0px solid black;'title=['.'] src='dataset_birds\\valid\\WALL CREAPER\\4.jpg'/></div><div class=\"zoom\"><img style='width: 100px; height: 100px; margin: 1px; float: left; border: 0px solid black;'title=['.'] src='dataset_birds\\valid\\WALL CREAPER\\5.jpg'/></div>"
      ],
      "text/plain": [
       "<IPython.core.display.HTML object>"
      ]
     },
     "metadata": {},
     "output_type": "display_data"
    },
    {
     "name": "stdout",
     "output_type": "stream",
     "text": [
      "Drawing .\n"
     ]
    },
    {
     "data": {
      "text/html": [
       "<div class=\"zoom\"><img style='width: 100px; height: 100px; margin: 1px; float: left; border: 0px solid black;'title=['.'] src='dataset_birds\\valid\\WATTLED CURASSOW\\1.jpg'/></div><div class=\"zoom\"><img style='width: 100px; height: 100px; margin: 1px; float: left; border: 0px solid black;'title=['.'] src='dataset_birds\\valid\\WATTLED CURASSOW\\2.jpg'/></div><div class=\"zoom\"><img style='width: 100px; height: 100px; margin: 1px; float: left; border: 0px solid black;'title=['.'] src='dataset_birds\\valid\\WATTLED CURASSOW\\3.jpg'/></div><div class=\"zoom\"><img style='width: 100px; height: 100px; margin: 1px; float: left; border: 0px solid black;'title=['.'] src='dataset_birds\\valid\\WATTLED CURASSOW\\4.jpg'/></div><div class=\"zoom\"><img style='width: 100px; height: 100px; margin: 1px; float: left; border: 0px solid black;'title=['.'] src='dataset_birds\\valid\\WATTLED CURASSOW\\5.jpg'/></div>"
      ],
      "text/plain": [
       "<IPython.core.display.HTML object>"
      ]
     },
     "metadata": {},
     "output_type": "display_data"
    },
    {
     "name": "stdout",
     "output_type": "stream",
     "text": [
      "Drawing .\n"
     ]
    },
    {
     "data": {
      "text/html": [
       "<div class=\"zoom\"><img style='width: 100px; height: 100px; margin: 1px; float: left; border: 0px solid black;'title=['.'] src='dataset_birds\\valid\\WATTLED LAPWING\\1.jpg'/></div><div class=\"zoom\"><img style='width: 100px; height: 100px; margin: 1px; float: left; border: 0px solid black;'title=['.'] src='dataset_birds\\valid\\WATTLED LAPWING\\2.jpg'/></div><div class=\"zoom\"><img style='width: 100px; height: 100px; margin: 1px; float: left; border: 0px solid black;'title=['.'] src='dataset_birds\\valid\\WATTLED LAPWING\\3.jpg'/></div><div class=\"zoom\"><img style='width: 100px; height: 100px; margin: 1px; float: left; border: 0px solid black;'title=['.'] src='dataset_birds\\valid\\WATTLED LAPWING\\4.jpg'/></div><div class=\"zoom\"><img style='width: 100px; height: 100px; margin: 1px; float: left; border: 0px solid black;'title=['.'] src='dataset_birds\\valid\\WATTLED LAPWING\\5.jpg'/></div>"
      ],
      "text/plain": [
       "<IPython.core.display.HTML object>"
      ]
     },
     "metadata": {},
     "output_type": "display_data"
    },
    {
     "name": "stdout",
     "output_type": "stream",
     "text": [
      "Drawing .\n"
     ]
    },
    {
     "data": {
      "text/html": [
       "<div class=\"zoom\"><img style='width: 100px; height: 100px; margin: 1px; float: left; border: 0px solid black;'title=['.'] src='dataset_birds\\valid\\WHIMBREL\\1.jpg'/></div><div class=\"zoom\"><img style='width: 100px; height: 100px; margin: 1px; float: left; border: 0px solid black;'title=['.'] src='dataset_birds\\valid\\WHIMBREL\\2.jpg'/></div><div class=\"zoom\"><img style='width: 100px; height: 100px; margin: 1px; float: left; border: 0px solid black;'title=['.'] src='dataset_birds\\valid\\WHIMBREL\\3.jpg'/></div><div class=\"zoom\"><img style='width: 100px; height: 100px; margin: 1px; float: left; border: 0px solid black;'title=['.'] src='dataset_birds\\valid\\WHIMBREL\\4.jpg'/></div><div class=\"zoom\"><img style='width: 100px; height: 100px; margin: 1px; float: left; border: 0px solid black;'title=['.'] src='dataset_birds\\valid\\WHIMBREL\\5.jpg'/></div>"
      ],
      "text/plain": [
       "<IPython.core.display.HTML object>"
      ]
     },
     "metadata": {},
     "output_type": "display_data"
    },
    {
     "name": "stdout",
     "output_type": "stream",
     "text": [
      "Drawing .\n"
     ]
    },
    {
     "data": {
      "text/html": [
       "<div class=\"zoom\"><img style='width: 100px; height: 100px; margin: 1px; float: left; border: 0px solid black;'title=['.'] src='dataset_birds\\valid\\WHITE BREASTED WATERHEN\\1.jpg'/></div><div class=\"zoom\"><img style='width: 100px; height: 100px; margin: 1px; float: left; border: 0px solid black;'title=['.'] src='dataset_birds\\valid\\WHITE BREASTED WATERHEN\\2.jpg'/></div><div class=\"zoom\"><img style='width: 100px; height: 100px; margin: 1px; float: left; border: 0px solid black;'title=['.'] src='dataset_birds\\valid\\WHITE BREASTED WATERHEN\\3.jpg'/></div><div class=\"zoom\"><img style='width: 100px; height: 100px; margin: 1px; float: left; border: 0px solid black;'title=['.'] src='dataset_birds\\valid\\WHITE BREASTED WATERHEN\\4.jpg'/></div><div class=\"zoom\"><img style='width: 100px; height: 100px; margin: 1px; float: left; border: 0px solid black;'title=['.'] src='dataset_birds\\valid\\WHITE BREASTED WATERHEN\\5.jpg'/></div>"
      ],
      "text/plain": [
       "<IPython.core.display.HTML object>"
      ]
     },
     "metadata": {},
     "output_type": "display_data"
    },
    {
     "name": "stdout",
     "output_type": "stream",
     "text": [
      "Drawing .\n"
     ]
    },
    {
     "data": {
      "text/html": [
       "<div class=\"zoom\"><img style='width: 100px; height: 100px; margin: 1px; float: left; border: 0px solid black;'title=['.'] src='dataset_birds\\valid\\WHITE BROWED CRAKE\\1.jpg'/></div><div class=\"zoom\"><img style='width: 100px; height: 100px; margin: 1px; float: left; border: 0px solid black;'title=['.'] src='dataset_birds\\valid\\WHITE BROWED CRAKE\\2.jpg'/></div><div class=\"zoom\"><img style='width: 100px; height: 100px; margin: 1px; float: left; border: 0px solid black;'title=['.'] src='dataset_birds\\valid\\WHITE BROWED CRAKE\\3.jpg'/></div><div class=\"zoom\"><img style='width: 100px; height: 100px; margin: 1px; float: left; border: 0px solid black;'title=['.'] src='dataset_birds\\valid\\WHITE BROWED CRAKE\\4.jpg'/></div><div class=\"zoom\"><img style='width: 100px; height: 100px; margin: 1px; float: left; border: 0px solid black;'title=['.'] src='dataset_birds\\valid\\WHITE BROWED CRAKE\\5.jpg'/></div>"
      ],
      "text/plain": [
       "<IPython.core.display.HTML object>"
      ]
     },
     "metadata": {},
     "output_type": "display_data"
    },
    {
     "name": "stdout",
     "output_type": "stream",
     "text": [
      "Drawing .\n"
     ]
    },
    {
     "data": {
      "text/html": [
       "<div class=\"zoom\"><img style='width: 100px; height: 100px; margin: 1px; float: left; border: 0px solid black;'title=['.'] src='dataset_birds\\valid\\WHITE CHEEKED TURACO\\1.jpg'/></div><div class=\"zoom\"><img style='width: 100px; height: 100px; margin: 1px; float: left; border: 0px solid black;'title=['.'] src='dataset_birds\\valid\\WHITE CHEEKED TURACO\\2.jpg'/></div><div class=\"zoom\"><img style='width: 100px; height: 100px; margin: 1px; float: left; border: 0px solid black;'title=['.'] src='dataset_birds\\valid\\WHITE CHEEKED TURACO\\3.jpg'/></div><div class=\"zoom\"><img style='width: 100px; height: 100px; margin: 1px; float: left; border: 0px solid black;'title=['.'] src='dataset_birds\\valid\\WHITE CHEEKED TURACO\\4.jpg'/></div><div class=\"zoom\"><img style='width: 100px; height: 100px; margin: 1px; float: left; border: 0px solid black;'title=['.'] src='dataset_birds\\valid\\WHITE CHEEKED TURACO\\5.jpg'/></div>"
      ],
      "text/plain": [
       "<IPython.core.display.HTML object>"
      ]
     },
     "metadata": {},
     "output_type": "display_data"
    },
    {
     "name": "stdout",
     "output_type": "stream",
     "text": [
      "Drawing .\n"
     ]
    },
    {
     "data": {
      "text/html": [
       "<div class=\"zoom\"><img style='width: 100px; height: 100px; margin: 1px; float: left; border: 0px solid black;'title=['.'] src='dataset_birds\\valid\\WHITE CRESTED HORNBILL\\1.jpg'/></div><div class=\"zoom\"><img style='width: 100px; height: 100px; margin: 1px; float: left; border: 0px solid black;'title=['.'] src='dataset_birds\\valid\\WHITE CRESTED HORNBILL\\2.jpg'/></div><div class=\"zoom\"><img style='width: 100px; height: 100px; margin: 1px; float: left; border: 0px solid black;'title=['.'] src='dataset_birds\\valid\\WHITE CRESTED HORNBILL\\3.jpg'/></div><div class=\"zoom\"><img style='width: 100px; height: 100px; margin: 1px; float: left; border: 0px solid black;'title=['.'] src='dataset_birds\\valid\\WHITE CRESTED HORNBILL\\4.jpg'/></div><div class=\"zoom\"><img style='width: 100px; height: 100px; margin: 1px; float: left; border: 0px solid black;'title=['.'] src='dataset_birds\\valid\\WHITE CRESTED HORNBILL\\5.jpg'/></div>"
      ],
      "text/plain": [
       "<IPython.core.display.HTML object>"
      ]
     },
     "metadata": {},
     "output_type": "display_data"
    },
    {
     "name": "stdout",
     "output_type": "stream",
     "text": [
      "Drawing .\n"
     ]
    },
    {
     "data": {
      "text/html": [
       "<div class=\"zoom\"><img style='width: 100px; height: 100px; margin: 1px; float: left; border: 0px solid black;'title=['.'] src='dataset_birds\\valid\\WHITE EARED HUMMINGBIRD\\1.jpg'/></div><div class=\"zoom\"><img style='width: 100px; height: 100px; margin: 1px; float: left; border: 0px solid black;'title=['.'] src='dataset_birds\\valid\\WHITE EARED HUMMINGBIRD\\2.jpg'/></div><div class=\"zoom\"><img style='width: 100px; height: 100px; margin: 1px; float: left; border: 0px solid black;'title=['.'] src='dataset_birds\\valid\\WHITE EARED HUMMINGBIRD\\3.jpg'/></div><div class=\"zoom\"><img style='width: 100px; height: 100px; margin: 1px; float: left; border: 0px solid black;'title=['.'] src='dataset_birds\\valid\\WHITE EARED HUMMINGBIRD\\4.jpg'/></div><div class=\"zoom\"><img style='width: 100px; height: 100px; margin: 1px; float: left; border: 0px solid black;'title=['.'] src='dataset_birds\\valid\\WHITE EARED HUMMINGBIRD\\5.jpg'/></div>"
      ],
      "text/plain": [
       "<IPython.core.display.HTML object>"
      ]
     },
     "metadata": {},
     "output_type": "display_data"
    },
    {
     "name": "stdout",
     "output_type": "stream",
     "text": [
      "Drawing .\n"
     ]
    },
    {
     "data": {
      "text/html": [
       "<div class=\"zoom\"><img style='width: 100px; height: 100px; margin: 1px; float: left; border: 0px solid black;'title=['.'] src='dataset_birds\\valid\\WHITE NECKED RAVEN\\1.jpg'/></div><div class=\"zoom\"><img style='width: 100px; height: 100px; margin: 1px; float: left; border: 0px solid black;'title=['.'] src='dataset_birds\\valid\\WHITE NECKED RAVEN\\2.jpg'/></div><div class=\"zoom\"><img style='width: 100px; height: 100px; margin: 1px; float: left; border: 0px solid black;'title=['.'] src='dataset_birds\\valid\\WHITE NECKED RAVEN\\3.jpg'/></div><div class=\"zoom\"><img style='width: 100px; height: 100px; margin: 1px; float: left; border: 0px solid black;'title=['.'] src='dataset_birds\\valid\\WHITE NECKED RAVEN\\4.jpg'/></div><div class=\"zoom\"><img style='width: 100px; height: 100px; margin: 1px; float: left; border: 0px solid black;'title=['.'] src='dataset_birds\\valid\\WHITE NECKED RAVEN\\5.jpg'/></div>"
      ],
      "text/plain": [
       "<IPython.core.display.HTML object>"
      ]
     },
     "metadata": {},
     "output_type": "display_data"
    },
    {
     "name": "stdout",
     "output_type": "stream",
     "text": [
      "Drawing .\n"
     ]
    },
    {
     "data": {
      "text/html": [
       "<div class=\"zoom\"><img style='width: 100px; height: 100px; margin: 1px; float: left; border: 0px solid black;'title=['.'] src='dataset_birds\\valid\\WHITE TAILED TROPIC\\1.jpg'/></div><div class=\"zoom\"><img style='width: 100px; height: 100px; margin: 1px; float: left; border: 0px solid black;'title=['.'] src='dataset_birds\\valid\\WHITE TAILED TROPIC\\2.jpg'/></div><div class=\"zoom\"><img style='width: 100px; height: 100px; margin: 1px; float: left; border: 0px solid black;'title=['.'] src='dataset_birds\\valid\\WHITE TAILED TROPIC\\3.jpg'/></div><div class=\"zoom\"><img style='width: 100px; height: 100px; margin: 1px; float: left; border: 0px solid black;'title=['.'] src='dataset_birds\\valid\\WHITE TAILED TROPIC\\4.jpg'/></div><div class=\"zoom\"><img style='width: 100px; height: 100px; margin: 1px; float: left; border: 0px solid black;'title=['.'] src='dataset_birds\\valid\\WHITE TAILED TROPIC\\5.jpg'/></div>"
      ],
      "text/plain": [
       "<IPython.core.display.HTML object>"
      ]
     },
     "metadata": {},
     "output_type": "display_data"
    },
    {
     "name": "stdout",
     "output_type": "stream",
     "text": [
      "Drawing .\n"
     ]
    },
    {
     "data": {
      "text/html": [
       "<div class=\"zoom\"><img style='width: 100px; height: 100px; margin: 1px; float: left; border: 0px solid black;'title=['.'] src='dataset_birds\\valid\\WHITE THROATED BEE EATER\\1.jpg'/></div><div class=\"zoom\"><img style='width: 100px; height: 100px; margin: 1px; float: left; border: 0px solid black;'title=['.'] src='dataset_birds\\valid\\WHITE THROATED BEE EATER\\2.jpg'/></div><div class=\"zoom\"><img style='width: 100px; height: 100px; margin: 1px; float: left; border: 0px solid black;'title=['.'] src='dataset_birds\\valid\\WHITE THROATED BEE EATER\\3.jpg'/></div><div class=\"zoom\"><img style='width: 100px; height: 100px; margin: 1px; float: left; border: 0px solid black;'title=['.'] src='dataset_birds\\valid\\WHITE THROATED BEE EATER\\4.jpg'/></div><div class=\"zoom\"><img style='width: 100px; height: 100px; margin: 1px; float: left; border: 0px solid black;'title=['.'] src='dataset_birds\\valid\\WHITE THROATED BEE EATER\\5.jpg'/></div>"
      ],
      "text/plain": [
       "<IPython.core.display.HTML object>"
      ]
     },
     "metadata": {},
     "output_type": "display_data"
    },
    {
     "name": "stdout",
     "output_type": "stream",
     "text": [
      "Drawing .\n"
     ]
    },
    {
     "data": {
      "text/html": [
       "<div class=\"zoom\"><img style='width: 100px; height: 100px; margin: 1px; float: left; border: 0px solid black;'title=['.'] src='dataset_birds\\valid\\WILD TURKEY\\1.jpg'/></div><div class=\"zoom\"><img style='width: 100px; height: 100px; margin: 1px; float: left; border: 0px solid black;'title=['.'] src='dataset_birds\\valid\\WILD TURKEY\\2.jpg'/></div><div class=\"zoom\"><img style='width: 100px; height: 100px; margin: 1px; float: left; border: 0px solid black;'title=['.'] src='dataset_birds\\valid\\WILD TURKEY\\3.jpg'/></div><div class=\"zoom\"><img style='width: 100px; height: 100px; margin: 1px; float: left; border: 0px solid black;'title=['.'] src='dataset_birds\\valid\\WILD TURKEY\\4.jpg'/></div><div class=\"zoom\"><img style='width: 100px; height: 100px; margin: 1px; float: left; border: 0px solid black;'title=['.'] src='dataset_birds\\valid\\WILD TURKEY\\5.jpg'/></div>"
      ],
      "text/plain": [
       "<IPython.core.display.HTML object>"
      ]
     },
     "metadata": {},
     "output_type": "display_data"
    },
    {
     "name": "stdout",
     "output_type": "stream",
     "text": [
      "Drawing .\n"
     ]
    },
    {
     "data": {
      "text/html": [
       "<div class=\"zoom\"><img style='width: 100px; height: 100px; margin: 1px; float: left; border: 0px solid black;'title=['.'] src='dataset_birds\\valid\\WILLOW PTARMIGAN\\1.jpg'/></div><div class=\"zoom\"><img style='width: 100px; height: 100px; margin: 1px; float: left; border: 0px solid black;'title=['.'] src='dataset_birds\\valid\\WILLOW PTARMIGAN\\2.jpg'/></div><div class=\"zoom\"><img style='width: 100px; height: 100px; margin: 1px; float: left; border: 0px solid black;'title=['.'] src='dataset_birds\\valid\\WILLOW PTARMIGAN\\3.jpg'/></div><div class=\"zoom\"><img style='width: 100px; height: 100px; margin: 1px; float: left; border: 0px solid black;'title=['.'] src='dataset_birds\\valid\\WILLOW PTARMIGAN\\4.jpg'/></div><div class=\"zoom\"><img style='width: 100px; height: 100px; margin: 1px; float: left; border: 0px solid black;'title=['.'] src='dataset_birds\\valid\\WILLOW PTARMIGAN\\5.jpg'/></div>"
      ],
      "text/plain": [
       "<IPython.core.display.HTML object>"
      ]
     },
     "metadata": {},
     "output_type": "display_data"
    },
    {
     "name": "stdout",
     "output_type": "stream",
     "text": [
      "Drawing .\n"
     ]
    },
    {
     "data": {
      "text/html": [
       "<div class=\"zoom\"><img style='width: 100px; height: 100px; margin: 1px; float: left; border: 0px solid black;'title=['.'] src='dataset_birds\\valid\\WILSONS BIRD OF PARADISE\\1.jpg'/></div><div class=\"zoom\"><img style='width: 100px; height: 100px; margin: 1px; float: left; border: 0px solid black;'title=['.'] src='dataset_birds\\valid\\WILSONS BIRD OF PARADISE\\2.jpg'/></div><div class=\"zoom\"><img style='width: 100px; height: 100px; margin: 1px; float: left; border: 0px solid black;'title=['.'] src='dataset_birds\\valid\\WILSONS BIRD OF PARADISE\\3.jpg'/></div><div class=\"zoom\"><img style='width: 100px; height: 100px; margin: 1px; float: left; border: 0px solid black;'title=['.'] src='dataset_birds\\valid\\WILSONS BIRD OF PARADISE\\4.jpg'/></div><div class=\"zoom\"><img style='width: 100px; height: 100px; margin: 1px; float: left; border: 0px solid black;'title=['.'] src='dataset_birds\\valid\\WILSONS BIRD OF PARADISE\\5.jpg'/></div>"
      ],
      "text/plain": [
       "<IPython.core.display.HTML object>"
      ]
     },
     "metadata": {},
     "output_type": "display_data"
    },
    {
     "name": "stdout",
     "output_type": "stream",
     "text": [
      "Drawing .\n"
     ]
    },
    {
     "data": {
      "text/html": [
       "<div class=\"zoom\"><img style='width: 100px; height: 100px; margin: 1px; float: left; border: 0px solid black;'title=['.'] src='dataset_birds\\valid\\WOOD DUCK\\1.jpg'/></div><div class=\"zoom\"><img style='width: 100px; height: 100px; margin: 1px; float: left; border: 0px solid black;'title=['.'] src='dataset_birds\\valid\\WOOD DUCK\\2.jpg'/></div><div class=\"zoom\"><img style='width: 100px; height: 100px; margin: 1px; float: left; border: 0px solid black;'title=['.'] src='dataset_birds\\valid\\WOOD DUCK\\3.jpg'/></div><div class=\"zoom\"><img style='width: 100px; height: 100px; margin: 1px; float: left; border: 0px solid black;'title=['.'] src='dataset_birds\\valid\\WOOD DUCK\\4.jpg'/></div><div class=\"zoom\"><img style='width: 100px; height: 100px; margin: 1px; float: left; border: 0px solid black;'title=['.'] src='dataset_birds\\valid\\WOOD DUCK\\5.jpg'/></div>"
      ],
      "text/plain": [
       "<IPython.core.display.HTML object>"
      ]
     },
     "metadata": {},
     "output_type": "display_data"
    },
    {
     "name": "stdout",
     "output_type": "stream",
     "text": [
      "Drawing .\n"
     ]
    },
    {
     "data": {
      "text/html": [
       "<div class=\"zoom\"><img style='width: 100px; height: 100px; margin: 1px; float: left; border: 0px solid black;'title=['.'] src='dataset_birds\\valid\\WOOD THRUSH\\1.jpg'/></div><div class=\"zoom\"><img style='width: 100px; height: 100px; margin: 1px; float: left; border: 0px solid black;'title=['.'] src='dataset_birds\\valid\\WOOD THRUSH\\2.jpg'/></div><div class=\"zoom\"><img style='width: 100px; height: 100px; margin: 1px; float: left; border: 0px solid black;'title=['.'] src='dataset_birds\\valid\\WOOD THRUSH\\3.jpg'/></div><div class=\"zoom\"><img style='width: 100px; height: 100px; margin: 1px; float: left; border: 0px solid black;'title=['.'] src='dataset_birds\\valid\\WOOD THRUSH\\4.jpg'/></div><div class=\"zoom\"><img style='width: 100px; height: 100px; margin: 1px; float: left; border: 0px solid black;'title=['.'] src='dataset_birds\\valid\\WOOD THRUSH\\5.jpg'/></div>"
      ],
      "text/plain": [
       "<IPython.core.display.HTML object>"
      ]
     },
     "metadata": {},
     "output_type": "display_data"
    },
    {
     "name": "stdout",
     "output_type": "stream",
     "text": [
      "Drawing .\n"
     ]
    },
    {
     "data": {
      "text/html": [
       "<div class=\"zoom\"><img style='width: 100px; height: 100px; margin: 1px; float: left; border: 0px solid black;'title=['.'] src='dataset_birds\\valid\\WOODLAND KINGFISHER\\1.jpg'/></div><div class=\"zoom\"><img style='width: 100px; height: 100px; margin: 1px; float: left; border: 0px solid black;'title=['.'] src='dataset_birds\\valid\\WOODLAND KINGFISHER\\2.jpg'/></div><div class=\"zoom\"><img style='width: 100px; height: 100px; margin: 1px; float: left; border: 0px solid black;'title=['.'] src='dataset_birds\\valid\\WOODLAND KINGFISHER\\3.jpg'/></div><div class=\"zoom\"><img style='width: 100px; height: 100px; margin: 1px; float: left; border: 0px solid black;'title=['.'] src='dataset_birds\\valid\\WOODLAND KINGFISHER\\4.jpg'/></div><div class=\"zoom\"><img style='width: 100px; height: 100px; margin: 1px; float: left; border: 0px solid black;'title=['.'] src='dataset_birds\\valid\\WOODLAND KINGFISHER\\5.jpg'/></div>"
      ],
      "text/plain": [
       "<IPython.core.display.HTML object>"
      ]
     },
     "metadata": {},
     "output_type": "display_data"
    },
    {
     "name": "stdout",
     "output_type": "stream",
     "text": [
      "Drawing .\n"
     ]
    },
    {
     "data": {
      "text/html": [
       "<div class=\"zoom\"><img style='width: 100px; height: 100px; margin: 1px; float: left; border: 0px solid black;'title=['.'] src='dataset_birds\\valid\\WRENTIT\\1.jpg'/></div><div class=\"zoom\"><img style='width: 100px; height: 100px; margin: 1px; float: left; border: 0px solid black;'title=['.'] src='dataset_birds\\valid\\WRENTIT\\2.jpg'/></div><div class=\"zoom\"><img style='width: 100px; height: 100px; margin: 1px; float: left; border: 0px solid black;'title=['.'] src='dataset_birds\\valid\\WRENTIT\\3.jpg'/></div><div class=\"zoom\"><img style='width: 100px; height: 100px; margin: 1px; float: left; border: 0px solid black;'title=['.'] src='dataset_birds\\valid\\WRENTIT\\4.jpg'/></div><div class=\"zoom\"><img style='width: 100px; height: 100px; margin: 1px; float: left; border: 0px solid black;'title=['.'] src='dataset_birds\\valid\\WRENTIT\\5.jpg'/></div>"
      ],
      "text/plain": [
       "<IPython.core.display.HTML object>"
      ]
     },
     "metadata": {},
     "output_type": "display_data"
    },
    {
     "name": "stdout",
     "output_type": "stream",
     "text": [
      "Drawing .\n"
     ]
    },
    {
     "data": {
      "text/html": [
       "<div class=\"zoom\"><img style='width: 100px; height: 100px; margin: 1px; float: left; border: 0px solid black;'title=['.'] src='dataset_birds\\valid\\YELLOW BELLIED FLOWERPECKER\\1.jpg'/></div><div class=\"zoom\"><img style='width: 100px; height: 100px; margin: 1px; float: left; border: 0px solid black;'title=['.'] src='dataset_birds\\valid\\YELLOW BELLIED FLOWERPECKER\\2.jpg'/></div><div class=\"zoom\"><img style='width: 100px; height: 100px; margin: 1px; float: left; border: 0px solid black;'title=['.'] src='dataset_birds\\valid\\YELLOW BELLIED FLOWERPECKER\\3.jpg'/></div><div class=\"zoom\"><img style='width: 100px; height: 100px; margin: 1px; float: left; border: 0px solid black;'title=['.'] src='dataset_birds\\valid\\YELLOW BELLIED FLOWERPECKER\\4.jpg'/></div><div class=\"zoom\"><img style='width: 100px; height: 100px; margin: 1px; float: left; border: 0px solid black;'title=['.'] src='dataset_birds\\valid\\YELLOW BELLIED FLOWERPECKER\\5.jpg'/></div>"
      ],
      "text/plain": [
       "<IPython.core.display.HTML object>"
      ]
     },
     "metadata": {},
     "output_type": "display_data"
    },
    {
     "name": "stdout",
     "output_type": "stream",
     "text": [
      "Drawing .\n"
     ]
    },
    {
     "data": {
      "text/html": [
       "<div class=\"zoom\"><img style='width: 100px; height: 100px; margin: 1px; float: left; border: 0px solid black;'title=['.'] src='dataset_birds\\valid\\YELLOW BREASTED CHAT\\1.jpg'/></div><div class=\"zoom\"><img style='width: 100px; height: 100px; margin: 1px; float: left; border: 0px solid black;'title=['.'] src='dataset_birds\\valid\\YELLOW BREASTED CHAT\\2.jpg'/></div><div class=\"zoom\"><img style='width: 100px; height: 100px; margin: 1px; float: left; border: 0px solid black;'title=['.'] src='dataset_birds\\valid\\YELLOW BREASTED CHAT\\3.jpg'/></div><div class=\"zoom\"><img style='width: 100px; height: 100px; margin: 1px; float: left; border: 0px solid black;'title=['.'] src='dataset_birds\\valid\\YELLOW BREASTED CHAT\\4.jpg'/></div><div class=\"zoom\"><img style='width: 100px; height: 100px; margin: 1px; float: left; border: 0px solid black;'title=['.'] src='dataset_birds\\valid\\YELLOW BREASTED CHAT\\5.jpg'/></div>"
      ],
      "text/plain": [
       "<IPython.core.display.HTML object>"
      ]
     },
     "metadata": {},
     "output_type": "display_data"
    },
    {
     "name": "stdout",
     "output_type": "stream",
     "text": [
      "Drawing .\n"
     ]
    },
    {
     "data": {
      "text/html": [
       "<div class=\"zoom\"><img style='width: 100px; height: 100px; margin: 1px; float: left; border: 0px solid black;'title=['.'] src='dataset_birds\\valid\\YELLOW CACIQUE\\1.jpg'/></div><div class=\"zoom\"><img style='width: 100px; height: 100px; margin: 1px; float: left; border: 0px solid black;'title=['.'] src='dataset_birds\\valid\\YELLOW CACIQUE\\2.jpg'/></div><div class=\"zoom\"><img style='width: 100px; height: 100px; margin: 1px; float: left; border: 0px solid black;'title=['.'] src='dataset_birds\\valid\\YELLOW CACIQUE\\3.jpg'/></div><div class=\"zoom\"><img style='width: 100px; height: 100px; margin: 1px; float: left; border: 0px solid black;'title=['.'] src='dataset_birds\\valid\\YELLOW CACIQUE\\4.jpg'/></div><div class=\"zoom\"><img style='width: 100px; height: 100px; margin: 1px; float: left; border: 0px solid black;'title=['.'] src='dataset_birds\\valid\\YELLOW CACIQUE\\5.jpg'/></div>"
      ],
      "text/plain": [
       "<IPython.core.display.HTML object>"
      ]
     },
     "metadata": {},
     "output_type": "display_data"
    },
    {
     "name": "stdout",
     "output_type": "stream",
     "text": [
      "Drawing .\n"
     ]
    },
    {
     "data": {
      "text/html": [
       "<div class=\"zoom\"><img style='width: 100px; height: 100px; margin: 1px; float: left; border: 0px solid black;'title=['.'] src='dataset_birds\\valid\\YELLOW HEADED BLACKBIRD\\1.jpg'/></div><div class=\"zoom\"><img style='width: 100px; height: 100px; margin: 1px; float: left; border: 0px solid black;'title=['.'] src='dataset_birds\\valid\\YELLOW HEADED BLACKBIRD\\2.jpg'/></div><div class=\"zoom\"><img style='width: 100px; height: 100px; margin: 1px; float: left; border: 0px solid black;'title=['.'] src='dataset_birds\\valid\\YELLOW HEADED BLACKBIRD\\3.jpg'/></div><div class=\"zoom\"><img style='width: 100px; height: 100px; margin: 1px; float: left; border: 0px solid black;'title=['.'] src='dataset_birds\\valid\\YELLOW HEADED BLACKBIRD\\4.jpg'/></div><div class=\"zoom\"><img style='width: 100px; height: 100px; margin: 1px; float: left; border: 0px solid black;'title=['.'] src='dataset_birds\\valid\\YELLOW HEADED BLACKBIRD\\5.jpg'/></div>"
      ],
      "text/plain": [
       "<IPython.core.display.HTML object>"
      ]
     },
     "metadata": {},
     "output_type": "display_data"
    },
    {
     "name": "stdout",
     "output_type": "stream",
     "text": [
      "Drawing .\n"
     ]
    },
    {
     "data": {
      "text/html": [
       "<div class=\"zoom\"><img style='width: 100px; height: 100px; margin: 1px; float: left; border: 0px solid black;'title=['.'] src='dataset_birds\\valid\\ZEBRA DOVE\\1.jpg'/></div><div class=\"zoom\"><img style='width: 100px; height: 100px; margin: 1px; float: left; border: 0px solid black;'title=['.'] src='dataset_birds\\valid\\ZEBRA DOVE\\2.jpg'/></div><div class=\"zoom\"><img style='width: 100px; height: 100px; margin: 1px; float: left; border: 0px solid black;'title=['.'] src='dataset_birds\\valid\\ZEBRA DOVE\\3.jpg'/></div><div class=\"zoom\"><img style='width: 100px; height: 100px; margin: 1px; float: left; border: 0px solid black;'title=['.'] src='dataset_birds\\valid\\ZEBRA DOVE\\4.jpg'/></div><div class=\"zoom\"><img style='width: 100px; height: 100px; margin: 1px; float: left; border: 0px solid black;'title=['.'] src='dataset_birds\\valid\\ZEBRA DOVE\\5.jpg'/></div>"
      ],
      "text/plain": [
       "<IPython.core.display.HTML object>"
      ]
     },
     "metadata": {},
     "output_type": "display_data"
    },
    {
     "name": "stdout",
     "output_type": "stream",
     "text": [
      "Drawing .\n"
     ]
    },
    {
     "data": {
      "text/html": [
       "<div class=\"zoom\"><img style='width: 100px; height: 100px; margin: 1px; float: left; border: 0px solid black;'title=['.'] src='dataset_birds\\valid\\PARAKETT AUKLET\\1.jpg'/></div><div class=\"zoom\"><img style='width: 100px; height: 100px; margin: 1px; float: left; border: 0px solid black;'title=['.'] src='dataset_birds\\valid\\PARAKETT AUKLET\\2.jpg'/></div><div class=\"zoom\"><img style='width: 100px; height: 100px; margin: 1px; float: left; border: 0px solid black;'title=['.'] src='dataset_birds\\valid\\PARAKETT AUKLET\\3.jpg'/></div><div class=\"zoom\"><img style='width: 100px; height: 100px; margin: 1px; float: left; border: 0px solid black;'title=['.'] src='dataset_birds\\valid\\PARAKETT AUKLET\\4.jpg'/></div><div class=\"zoom\"><img style='width: 100px; height: 100px; margin: 1px; float: left; border: 0px solid black;'title=['.'] src='dataset_birds\\valid\\PARAKETT AUKLET\\5.jpg'/></div>"
      ],
      "text/plain": [
       "<IPython.core.display.HTML object>"
      ]
     },
     "metadata": {},
     "output_type": "display_data"
    }
   ],
   "source": [
    "#Affichage des images pour vérif visuelle\n",
    "dirDsPath = \"dataset_birds\"\n",
    "df = pd.read_csv(\"imagesInfos.csv\")\n",
    "\n",
    "for i in df['birdName'].unique():\n",
    "    to_print = dirDsPath + \"/valid/\" + i\n",
    "    li = EasyImageList.from_multilevel_folder(to_print)\n",
    "    li.html(by_class=True)\n",
    "\n",
    "#Après vérification visuelle, aucune image ne semble corrompue (noire, partiellement endommagée...)"
   ]
  }
 ],
 "metadata": {
  "kernelspec": {
   "display_name": "envBird",
   "language": "python",
   "name": "python3"
  },
  "language_info": {
   "codemirror_mode": {
    "name": "ipython",
    "version": 3
   },
   "file_extension": ".py",
   "mimetype": "text/x-python",
   "name": "python",
   "nbconvert_exporter": "python",
   "pygments_lexer": "ipython3",
   "version": "3.11.2"
  }
 },
 "nbformat": 4,
 "nbformat_minor": 2
}
