{
 "cells": [
  {
   "cell_type": "code",
   "execution_count": 85,
   "id": "db9ebf23",
   "metadata": {},
   "outputs": [
    {
     "name": "stderr",
     "output_type": "stream",
     "text": [
      "C:\\Users\\Reizak\\AppData\\Local\\Temp\\ipykernel_17896\\403050664.py:5: DeprecationWarning: \n",
      "Pyarrow will become a required dependency of pandas in the next major release of pandas (pandas 3.0),\n",
      "(to allow more performant data types, such as the Arrow string type, and better interoperability with other libraries)\n",
      "but was not found to be installed on your system.\n",
      "If this would cause problems for you,\n",
      "please provide us feedback at https://github.com/pandas-dev/pandas/issues/54466\n",
      "        \n",
      "  import pandas as pd\n"
     ]
    }
   ],
   "source": [
    "from PIL import Image\n",
    "from PIL.ExifTags import TAGS\n",
    "import os\n",
    "import csv\n",
    "import pandas as pd\n"
   ]
  },
  {
   "cell_type": "code",
   "execution_count": 76,
   "id": "b415d321",
   "metadata": {},
   "outputs": [],
   "source": [
    "def getImagesInfos(imagePath):\n",
    "    image = Image.open(imagePath)\n",
    "    info_dict = {\n",
    "    \"Filename\": image.filename,\n",
    "    \"Size\": image.size,\n",
    "    \"Height\": image.height,\n",
    "    \"Width\": image.width,\n",
    "    \"Format\": image.format,\n",
    "    \"Mode\": image.mode,}\n",
    "    return info_dict\n"
   ]
  },
  {
   "cell_type": "code",
   "execution_count": 98,
   "id": "9fe77ac6",
   "metadata": {},
   "outputs": [],
   "source": [
    "imagesInfos = dict()\n",
    "dirDsPath = \"dataset_birds\"\n",
    "with open(\"imagesInfos.csv\", 'w', newline='') as f:\n",
    "    writer = csv.writer(f, delimiter=\",\")\n",
    "    writer.writerow([\"set\", \"birdName\", \"filename\", \"size\", \"height\", \"width\", \"format\", \"mode\"])\n",
    "    for setPath in os.listdir(dirDsPath):\n",
    "        fullSetPath = os.path.join(dirDsPath, setPath)\n",
    "\n",
    "        i = 1\n",
    "        for birdPath in os.listdir(fullSetPath): \n",
    "            birdImagesList = os.listdir(os.path.join(fullSetPath, birdPath))\n",
    "            for file in birdImagesList:\n",
    "                infos = getImagesInfos(os.path.join(fullSetPath, birdPath, file,))\n",
    "                writer.writerow([setPath, birdPath, file, infos['Size'], infos['Height'], infos['Width'], infos['Format'], infos['Mode']])\n",
    "\n",
    "        "
   ]
  },
  {
   "cell_type": "code",
   "execution_count": 134,
   "id": "910167c7",
   "metadata": {},
   "outputs": [
    {
     "name": "stdout",
     "output_type": "stream",
     "text": [
      "Nombre de taille d'images différentes : 212\n",
      "\n",
      "\n",
      "Nombre de taille d'images différentes dans le set de test : 6\n",
      "Nombre de taille d'images différentes dans le set d'entrainement : 202\n",
      "Nombre de taille d'images différentes dans le set de validation : 6\n",
      "\n",
      "\n",
      "Nombre d'images de taille différente de 224*224 dans le set de test : 5\n",
      "Nombre d'images de taille différente de 224*224 dans le set d'entrainement : 201\n"
     ]
    },
    {
     "data": {
      "text/plain": [
       "size\n",
       "(224, 224)    84434\n",
       "(146, 149)        1\n",
       "(232, 186)        1\n",
       "(225, 164)        1\n",
       "(104, 165)        1\n",
       "              ...  \n",
       "(115, 116)        1\n",
       "(127, 117)        1\n",
       "(145, 190)        1\n",
       "(45, 109)         1\n",
       "(465, 269)        1\n",
       "Name: count, Length: 202, dtype: int64"
      ]
     },
     "execution_count": 134,
     "metadata": {},
     "output_type": "execute_result"
    }
   ],
   "source": [
    "df = pd.read_csv(\"imagesInfos.csv\")\n",
    "print(\"Nombre de taille d'images différentes : \" + str(df['size'].nunique()))\n",
    "print('\\n')\n",
    "print(\"Nombre de taille d'images différentes dans le set de test : \" + str(df[df['set']== \"test\"]['size'].nunique()))\n",
    "print(\"Nombre de taille d'images différentes dans le set d'entrainement : \" + str(df[df['set']== \"train\"]['size'].nunique()))\n",
    "print(\"Nombre de taille d'images différentes dans le set de validation : \" + str(df[df['set']== \"valid\"]['size'].nunique()))\n",
    "print('\\n')zea\n",
    "\n",
    "df[df['set']== \"train\"]['size'].value_counts()\n",
    "print(\"Nombre d'images de taille différente de 224*224 dans le set de test : \" + str(df[(df['set']== \"test\") & (df['size'] != '(224, 224)')]['size'].nunique()))\n",
    "print(\"Nombre d'images de taille différente de 224*224 dans le set d'entrainement : \" + str(df[(df['set']== \"train\") & (df['size'] != '(224, 224)')]['size'].nunique()))\n",
    "\n",
    "df[df['set']== \"train\"]['size'].value_counts()\n",
    "\n"
   ]
  },
  {
   "cell_type": "code",
   "execution_count": 110,
   "id": "72944af5",
   "metadata": {},
   "outputs": [
    {
     "name": "stdout",
     "output_type": "stream",
     "text": [
      "Drawing ABBOTTS BABBLER\n"
     ]
    },
    {
     "data": {
      "text/html": [
       "<div class=\"zoom\"><img style='width: 100px; height: 100px; margin: 1px; float: left; border: 0px solid black;'title=['ABBOTTS BABBLER'] src='dataset_birds\\test\\ABBOTTS BABBLER\\1.jpg'/></div><div class=\"zoom\"><img style='width: 100px; height: 100px; margin: 1px; float: left; border: 0px solid black;'title=['ABBOTTS BABBLER'] src='dataset_birds\\test\\ABBOTTS BABBLER\\2.jpg'/></div><div class=\"zoom\"><img style='width: 100px; height: 100px; margin: 1px; float: left; border: 0px solid black;'title=['ABBOTTS BABBLER'] src='dataset_birds\\test\\ABBOTTS BABBLER\\3.jpg'/></div><div class=\"zoom\"><img style='width: 100px; height: 100px; margin: 1px; float: left; border: 0px solid black;'title=['ABBOTTS BABBLER'] src='dataset_birds\\test\\ABBOTTS BABBLER\\4.jpg'/></div><div class=\"zoom\"><img style='width: 100px; height: 100px; margin: 1px; float: left; border: 0px solid black;'title=['ABBOTTS BABBLER'] src='dataset_birds\\test\\ABBOTTS BABBLER\\5.jpg'/></div>"
      ],
      "text/plain": [
       "<IPython.core.display.HTML object>"
      ]
     },
     "metadata": {},
     "output_type": "display_data"
    },
    {
     "name": "stdout",
     "output_type": "stream",
     "text": [
      "Drawing ABBOTTS BOOBY\n"
     ]
    },
    {
     "data": {
      "text/html": [
       "<div class=\"zoom\"><img style='width: 100px; height: 100px; margin: 1px; float: left; border: 0px solid black;'title=['ABBOTTS BOOBY'] src='dataset_birds\\test\\ABBOTTS BOOBY\\1.jpg'/></div><div class=\"zoom\"><img style='width: 100px; height: 100px; margin: 1px; float: left; border: 0px solid black;'title=['ABBOTTS BOOBY'] src='dataset_birds\\test\\ABBOTTS BOOBY\\2.jpg'/></div><div class=\"zoom\"><img style='width: 100px; height: 100px; margin: 1px; float: left; border: 0px solid black;'title=['ABBOTTS BOOBY'] src='dataset_birds\\test\\ABBOTTS BOOBY\\3.jpg'/></div><div class=\"zoom\"><img style='width: 100px; height: 100px; margin: 1px; float: left; border: 0px solid black;'title=['ABBOTTS BOOBY'] src='dataset_birds\\test\\ABBOTTS BOOBY\\4.jpg'/></div><div class=\"zoom\"><img style='width: 100px; height: 100px; margin: 1px; float: left; border: 0px solid black;'title=['ABBOTTS BOOBY'] src='dataset_birds\\test\\ABBOTTS BOOBY\\5.jpg'/></div>"
      ],
      "text/plain": [
       "<IPython.core.display.HTML object>"
      ]
     },
     "metadata": {},
     "output_type": "display_data"
    },
    {
     "name": "stdout",
     "output_type": "stream",
     "text": [
      "Drawing ABYSSINIAN GROUND HORNBILL\n"
     ]
    },
    {
     "data": {
      "text/html": [
       "<div class=\"zoom\"><img style='width: 100px; height: 100px; margin: 1px; float: left; border: 0px solid black;'title=['ABYSSINIAN GROUND HORNBILL'] src='dataset_birds\\test\\ABYSSINIAN GROUND HORNBILL\\1.jpg'/></div><div class=\"zoom\"><img style='width: 100px; height: 100px; margin: 1px; float: left; border: 0px solid black;'title=['ABYSSINIAN GROUND HORNBILL'] src='dataset_birds\\test\\ABYSSINIAN GROUND HORNBILL\\2.jpg'/></div><div class=\"zoom\"><img style='width: 100px; height: 100px; margin: 1px; float: left; border: 0px solid black;'title=['ABYSSINIAN GROUND HORNBILL'] src='dataset_birds\\test\\ABYSSINIAN GROUND HORNBILL\\3.jpg'/></div><div class=\"zoom\"><img style='width: 100px; height: 100px; margin: 1px; float: left; border: 0px solid black;'title=['ABYSSINIAN GROUND HORNBILL'] src='dataset_birds\\test\\ABYSSINIAN GROUND HORNBILL\\4.jpg'/></div><div class=\"zoom\"><img style='width: 100px; height: 100px; margin: 1px; float: left; border: 0px solid black;'title=['ABYSSINIAN GROUND HORNBILL'] src='dataset_birds\\test\\ABYSSINIAN GROUND HORNBILL\\5.jpg'/></div>"
      ],
      "text/plain": [
       "<IPython.core.display.HTML object>"
      ]
     },
     "metadata": {},
     "output_type": "display_data"
    },
    {
     "name": "stdout",
     "output_type": "stream",
     "text": [
      "Drawing AFRICAN CROWNED CRANE\n"
     ]
    },
    {
     "data": {
      "text/html": [
       "<div class=\"zoom\"><img style='width: 100px; height: 100px; margin: 1px; float: left; border: 0px solid black;'title=['AFRICAN CROWNED CRANE'] src='dataset_birds\\test\\AFRICAN CROWNED CRANE\\1.jpg'/></div><div class=\"zoom\"><img style='width: 100px; height: 100px; margin: 1px; float: left; border: 0px solid black;'title=['AFRICAN CROWNED CRANE'] src='dataset_birds\\test\\AFRICAN CROWNED CRANE\\2.jpg'/></div><div class=\"zoom\"><img style='width: 100px; height: 100px; margin: 1px; float: left; border: 0px solid black;'title=['AFRICAN CROWNED CRANE'] src='dataset_birds\\test\\AFRICAN CROWNED CRANE\\3.jpg'/></div><div class=\"zoom\"><img style='width: 100px; height: 100px; margin: 1px; float: left; border: 0px solid black;'title=['AFRICAN CROWNED CRANE'] src='dataset_birds\\test\\AFRICAN CROWNED CRANE\\4.jpg'/></div><div class=\"zoom\"><img style='width: 100px; height: 100px; margin: 1px; float: left; border: 0px solid black;'title=['AFRICAN CROWNED CRANE'] src='dataset_birds\\test\\AFRICAN CROWNED CRANE\\5.jpg'/></div>"
      ],
      "text/plain": [
       "<IPython.core.display.HTML object>"
      ]
     },
     "metadata": {},
     "output_type": "display_data"
    },
    {
     "name": "stdout",
     "output_type": "stream",
     "text": [
      "Drawing AFRICAN EMERALD CUCKOO\n"
     ]
    },
    {
     "data": {
      "text/html": [
       "<div class=\"zoom\"><img style='width: 100px; height: 100px; margin: 1px; float: left; border: 0px solid black;'title=['AFRICAN EMERALD CUCKOO'] src='dataset_birds\\test\\AFRICAN EMERALD CUCKOO\\1.jpg'/></div><div class=\"zoom\"><img style='width: 100px; height: 100px; margin: 1px; float: left; border: 0px solid black;'title=['AFRICAN EMERALD CUCKOO'] src='dataset_birds\\test\\AFRICAN EMERALD CUCKOO\\2.jpg'/></div><div class=\"zoom\"><img style='width: 100px; height: 100px; margin: 1px; float: left; border: 0px solid black;'title=['AFRICAN EMERALD CUCKOO'] src='dataset_birds\\test\\AFRICAN EMERALD CUCKOO\\3.jpg'/></div><div class=\"zoom\"><img style='width: 100px; height: 100px; margin: 1px; float: left; border: 0px solid black;'title=['AFRICAN EMERALD CUCKOO'] src='dataset_birds\\test\\AFRICAN EMERALD CUCKOO\\4.jpg'/></div><div class=\"zoom\"><img style='width: 100px; height: 100px; margin: 1px; float: left; border: 0px solid black;'title=['AFRICAN EMERALD CUCKOO'] src='dataset_birds\\test\\AFRICAN EMERALD CUCKOO\\5.jpg'/></div>"
      ],
      "text/plain": [
       "<IPython.core.display.HTML object>"
      ]
     },
     "metadata": {},
     "output_type": "display_data"
    },
    {
     "name": "stdout",
     "output_type": "stream",
     "text": [
      "Drawing AFRICAN FIREFINCH\n"
     ]
    },
    {
     "data": {
      "text/html": [
       "<div class=\"zoom\"><img style='width: 100px; height: 100px; margin: 1px; float: left; border: 0px solid black;'title=['AFRICAN FIREFINCH'] src='dataset_birds\\test\\AFRICAN FIREFINCH\\1.jpg'/></div><div class=\"zoom\"><img style='width: 100px; height: 100px; margin: 1px; float: left; border: 0px solid black;'title=['AFRICAN FIREFINCH'] src='dataset_birds\\test\\AFRICAN FIREFINCH\\2.jpg'/></div><div class=\"zoom\"><img style='width: 100px; height: 100px; margin: 1px; float: left; border: 0px solid black;'title=['AFRICAN FIREFINCH'] src='dataset_birds\\test\\AFRICAN FIREFINCH\\3.jpg'/></div><div class=\"zoom\"><img style='width: 100px; height: 100px; margin: 1px; float: left; border: 0px solid black;'title=['AFRICAN FIREFINCH'] src='dataset_birds\\test\\AFRICAN FIREFINCH\\4.jpg'/></div><div class=\"zoom\"><img style='width: 100px; height: 100px; margin: 1px; float: left; border: 0px solid black;'title=['AFRICAN FIREFINCH'] src='dataset_birds\\test\\AFRICAN FIREFINCH\\5.jpg'/></div>"
      ],
      "text/plain": [
       "<IPython.core.display.HTML object>"
      ]
     },
     "metadata": {},
     "output_type": "display_data"
    },
    {
     "name": "stdout",
     "output_type": "stream",
     "text": [
      "Drawing AFRICAN OYSTER CATCHER\n"
     ]
    },
    {
     "data": {
      "text/html": [
       "<div class=\"zoom\"><img style='width: 100px; height: 100px; margin: 1px; float: left; border: 0px solid black;'title=['AFRICAN OYSTER CATCHER'] src='dataset_birds\\test\\AFRICAN OYSTER CATCHER\\1.jpg'/></div><div class=\"zoom\"><img style='width: 100px; height: 100px; margin: 1px; float: left; border: 0px solid black;'title=['AFRICAN OYSTER CATCHER'] src='dataset_birds\\test\\AFRICAN OYSTER CATCHER\\2.jpg'/></div><div class=\"zoom\"><img style='width: 100px; height: 100px; margin: 1px; float: left; border: 0px solid black;'title=['AFRICAN OYSTER CATCHER'] src='dataset_birds\\test\\AFRICAN OYSTER CATCHER\\3.jpg'/></div><div class=\"zoom\"><img style='width: 100px; height: 100px; margin: 1px; float: left; border: 0px solid black;'title=['AFRICAN OYSTER CATCHER'] src='dataset_birds\\test\\AFRICAN OYSTER CATCHER\\4.jpg'/></div><div class=\"zoom\"><img style='width: 100px; height: 100px; margin: 1px; float: left; border: 0px solid black;'title=['AFRICAN OYSTER CATCHER'] src='dataset_birds\\test\\AFRICAN OYSTER CATCHER\\5.jpg'/></div>"
      ],
      "text/plain": [
       "<IPython.core.display.HTML object>"
      ]
     },
     "metadata": {},
     "output_type": "display_data"
    },
    {
     "name": "stdout",
     "output_type": "stream",
     "text": [
      "Drawing AFRICAN PIED HORNBILL\n"
     ]
    },
    {
     "data": {
      "text/html": [
       "<div class=\"zoom\"><img style='width: 100px; height: 100px; margin: 1px; float: left; border: 0px solid black;'title=['AFRICAN PIED HORNBILL'] src='dataset_birds\\test\\AFRICAN PIED HORNBILL\\1.jpg'/></div><div class=\"zoom\"><img style='width: 100px; height: 100px; margin: 1px; float: left; border: 0px solid black;'title=['AFRICAN PIED HORNBILL'] src='dataset_birds\\test\\AFRICAN PIED HORNBILL\\2.jpg'/></div><div class=\"zoom\"><img style='width: 100px; height: 100px; margin: 1px; float: left; border: 0px solid black;'title=['AFRICAN PIED HORNBILL'] src='dataset_birds\\test\\AFRICAN PIED HORNBILL\\3.jpg'/></div><div class=\"zoom\"><img style='width: 100px; height: 100px; margin: 1px; float: left; border: 0px solid black;'title=['AFRICAN PIED HORNBILL'] src='dataset_birds\\test\\AFRICAN PIED HORNBILL\\4.jpg'/></div><div class=\"zoom\"><img style='width: 100px; height: 100px; margin: 1px; float: left; border: 0px solid black;'title=['AFRICAN PIED HORNBILL'] src='dataset_birds\\test\\AFRICAN PIED HORNBILL\\5.jpg'/></div>"
      ],
      "text/plain": [
       "<IPython.core.display.HTML object>"
      ]
     },
     "metadata": {},
     "output_type": "display_data"
    },
    {
     "name": "stdout",
     "output_type": "stream",
     "text": [
      "Drawing AFRICAN PYGMY GOOSE\n"
     ]
    },
    {
     "data": {
      "text/html": [
       "<div class=\"zoom\"><img style='width: 100px; height: 100px; margin: 1px; float: left; border: 0px solid black;'title=['AFRICAN PYGMY GOOSE'] src='dataset_birds\\test\\AFRICAN PYGMY GOOSE\\1.jpg'/></div><div class=\"zoom\"><img style='width: 100px; height: 100px; margin: 1px; float: left; border: 0px solid black;'title=['AFRICAN PYGMY GOOSE'] src='dataset_birds\\test\\AFRICAN PYGMY GOOSE\\2.jpg'/></div><div class=\"zoom\"><img style='width: 100px; height: 100px; margin: 1px; float: left; border: 0px solid black;'title=['AFRICAN PYGMY GOOSE'] src='dataset_birds\\test\\AFRICAN PYGMY GOOSE\\3.jpg'/></div><div class=\"zoom\"><img style='width: 100px; height: 100px; margin: 1px; float: left; border: 0px solid black;'title=['AFRICAN PYGMY GOOSE'] src='dataset_birds\\test\\AFRICAN PYGMY GOOSE\\4.jpg'/></div><div class=\"zoom\"><img style='width: 100px; height: 100px; margin: 1px; float: left; border: 0px solid black;'title=['AFRICAN PYGMY GOOSE'] src='dataset_birds\\test\\AFRICAN PYGMY GOOSE\\5.jpg'/></div>"
      ],
      "text/plain": [
       "<IPython.core.display.HTML object>"
      ]
     },
     "metadata": {},
     "output_type": "display_data"
    },
    {
     "name": "stdout",
     "output_type": "stream",
     "text": [
      "Drawing ALBATROSS\n"
     ]
    },
    {
     "data": {
      "text/html": [
       "<div class=\"zoom\"><img style='width: 100px; height: 100px; margin: 1px; float: left; border: 0px solid black;'title=['ALBATROSS'] src='dataset_birds\\test\\ALBATROSS\\1.jpg'/></div><div class=\"zoom\"><img style='width: 100px; height: 100px; margin: 1px; float: left; border: 0px solid black;'title=['ALBATROSS'] src='dataset_birds\\test\\ALBATROSS\\2.jpg'/></div><div class=\"zoom\"><img style='width: 100px; height: 100px; margin: 1px; float: left; border: 0px solid black;'title=['ALBATROSS'] src='dataset_birds\\test\\ALBATROSS\\3.jpg'/></div><div class=\"zoom\"><img style='width: 100px; height: 100px; margin: 1px; float: left; border: 0px solid black;'title=['ALBATROSS'] src='dataset_birds\\test\\ALBATROSS\\4.jpg'/></div><div class=\"zoom\"><img style='width: 100px; height: 100px; margin: 1px; float: left; border: 0px solid black;'title=['ALBATROSS'] src='dataset_birds\\test\\ALBATROSS\\5.jpg'/></div>"
      ],
      "text/plain": [
       "<IPython.core.display.HTML object>"
      ]
     },
     "metadata": {},
     "output_type": "display_data"
    },
    {
     "name": "stdout",
     "output_type": "stream",
     "text": [
      "Drawing ALBERTS TOWHEE\n"
     ]
    },
    {
     "data": {
      "text/html": [
       "<div class=\"zoom\"><img style='width: 100px; height: 100px; margin: 1px; float: left; border: 0px solid black;'title=['ALBERTS TOWHEE'] src='dataset_birds\\test\\ALBERTS TOWHEE\\1.jpg'/></div><div class=\"zoom\"><img style='width: 100px; height: 100px; margin: 1px; float: left; border: 0px solid black;'title=['ALBERTS TOWHEE'] src='dataset_birds\\test\\ALBERTS TOWHEE\\2.jpg'/></div><div class=\"zoom\"><img style='width: 100px; height: 100px; margin: 1px; float: left; border: 0px solid black;'title=['ALBERTS TOWHEE'] src='dataset_birds\\test\\ALBERTS TOWHEE\\3.jpg'/></div><div class=\"zoom\"><img style='width: 100px; height: 100px; margin: 1px; float: left; border: 0px solid black;'title=['ALBERTS TOWHEE'] src='dataset_birds\\test\\ALBERTS TOWHEE\\4.jpg'/></div><div class=\"zoom\"><img style='width: 100px; height: 100px; margin: 1px; float: left; border: 0px solid black;'title=['ALBERTS TOWHEE'] src='dataset_birds\\test\\ALBERTS TOWHEE\\5.jpg'/></div>"
      ],
      "text/plain": [
       "<IPython.core.display.HTML object>"
      ]
     },
     "metadata": {},
     "output_type": "display_data"
    },
    {
     "name": "stdout",
     "output_type": "stream",
     "text": [
      "Drawing ALEXANDRINE PARAKEET\n"
     ]
    },
    {
     "data": {
      "text/html": [
       "<div class=\"zoom\"><img style='width: 100px; height: 100px; margin: 1px; float: left; border: 0px solid black;'title=['ALEXANDRINE PARAKEET'] src='dataset_birds\\test\\ALEXANDRINE PARAKEET\\1.jpg'/></div><div class=\"zoom\"><img style='width: 100px; height: 100px; margin: 1px; float: left; border: 0px solid black;'title=['ALEXANDRINE PARAKEET'] src='dataset_birds\\test\\ALEXANDRINE PARAKEET\\2.jpg'/></div><div class=\"zoom\"><img style='width: 100px; height: 100px; margin: 1px; float: left; border: 0px solid black;'title=['ALEXANDRINE PARAKEET'] src='dataset_birds\\test\\ALEXANDRINE PARAKEET\\3.jpg'/></div><div class=\"zoom\"><img style='width: 100px; height: 100px; margin: 1px; float: left; border: 0px solid black;'title=['ALEXANDRINE PARAKEET'] src='dataset_birds\\test\\ALEXANDRINE PARAKEET\\4.jpg'/></div><div class=\"zoom\"><img style='width: 100px; height: 100px; margin: 1px; float: left; border: 0px solid black;'title=['ALEXANDRINE PARAKEET'] src='dataset_birds\\test\\ALEXANDRINE PARAKEET\\5.jpg'/></div>"
      ],
      "text/plain": [
       "<IPython.core.display.HTML object>"
      ]
     },
     "metadata": {},
     "output_type": "display_data"
    },
    {
     "name": "stdout",
     "output_type": "stream",
     "text": [
      "Drawing ALPINE CHOUGH\n"
     ]
    },
    {
     "data": {
      "text/html": [
       "<div class=\"zoom\"><img style='width: 100px; height: 100px; margin: 1px; float: left; border: 0px solid black;'title=['ALPINE CHOUGH'] src='dataset_birds\\test\\ALPINE CHOUGH\\1.jpg'/></div><div class=\"zoom\"><img style='width: 100px; height: 100px; margin: 1px; float: left; border: 0px solid black;'title=['ALPINE CHOUGH'] src='dataset_birds\\test\\ALPINE CHOUGH\\2.jpg'/></div><div class=\"zoom\"><img style='width: 100px; height: 100px; margin: 1px; float: left; border: 0px solid black;'title=['ALPINE CHOUGH'] src='dataset_birds\\test\\ALPINE CHOUGH\\3.jpg'/></div><div class=\"zoom\"><img style='width: 100px; height: 100px; margin: 1px; float: left; border: 0px solid black;'title=['ALPINE CHOUGH'] src='dataset_birds\\test\\ALPINE CHOUGH\\4.jpg'/></div><div class=\"zoom\"><img style='width: 100px; height: 100px; margin: 1px; float: left; border: 0px solid black;'title=['ALPINE CHOUGH'] src='dataset_birds\\test\\ALPINE CHOUGH\\5.jpg'/></div>"
      ],
      "text/plain": [
       "<IPython.core.display.HTML object>"
      ]
     },
     "metadata": {},
     "output_type": "display_data"
    },
    {
     "name": "stdout",
     "output_type": "stream",
     "text": [
      "Drawing ALTAMIRA YELLOWTHROAT\n"
     ]
    },
    {
     "data": {
      "text/html": [
       "<div class=\"zoom\"><img style='width: 100px; height: 100px; margin: 1px; float: left; border: 0px solid black;'title=['ALTAMIRA YELLOWTHROAT'] src='dataset_birds\\test\\ALTAMIRA YELLOWTHROAT\\1.jpg'/></div><div class=\"zoom\"><img style='width: 100px; height: 100px; margin: 1px; float: left; border: 0px solid black;'title=['ALTAMIRA YELLOWTHROAT'] src='dataset_birds\\test\\ALTAMIRA YELLOWTHROAT\\2.jpg'/></div><div class=\"zoom\"><img style='width: 100px; height: 100px; margin: 1px; float: left; border: 0px solid black;'title=['ALTAMIRA YELLOWTHROAT'] src='dataset_birds\\test\\ALTAMIRA YELLOWTHROAT\\3.jpg'/></div><div class=\"zoom\"><img style='width: 100px; height: 100px; margin: 1px; float: left; border: 0px solid black;'title=['ALTAMIRA YELLOWTHROAT'] src='dataset_birds\\test\\ALTAMIRA YELLOWTHROAT\\4.jpg'/></div><div class=\"zoom\"><img style='width: 100px; height: 100px; margin: 1px; float: left; border: 0px solid black;'title=['ALTAMIRA YELLOWTHROAT'] src='dataset_birds\\test\\ALTAMIRA YELLOWTHROAT\\5.jpg'/></div>"
      ],
      "text/plain": [
       "<IPython.core.display.HTML object>"
      ]
     },
     "metadata": {},
     "output_type": "display_data"
    },
    {
     "name": "stdout",
     "output_type": "stream",
     "text": [
      "Drawing AMERICAN AVOCET\n"
     ]
    },
    {
     "data": {
      "text/html": [
       "<div class=\"zoom\"><img style='width: 100px; height: 100px; margin: 1px; float: left; border: 0px solid black;'title=['AMERICAN AVOCET'] src='dataset_birds\\test\\AMERICAN AVOCET\\1.jpg'/></div><div class=\"zoom\"><img style='width: 100px; height: 100px; margin: 1px; float: left; border: 0px solid black;'title=['AMERICAN AVOCET'] src='dataset_birds\\test\\AMERICAN AVOCET\\2.jpg'/></div><div class=\"zoom\"><img style='width: 100px; height: 100px; margin: 1px; float: left; border: 0px solid black;'title=['AMERICAN AVOCET'] src='dataset_birds\\test\\AMERICAN AVOCET\\3.jpg'/></div><div class=\"zoom\"><img style='width: 100px; height: 100px; margin: 1px; float: left; border: 0px solid black;'title=['AMERICAN AVOCET'] src='dataset_birds\\test\\AMERICAN AVOCET\\4.jpg'/></div><div class=\"zoom\"><img style='width: 100px; height: 100px; margin: 1px; float: left; border: 0px solid black;'title=['AMERICAN AVOCET'] src='dataset_birds\\test\\AMERICAN AVOCET\\5.jpg'/></div>"
      ],
      "text/plain": [
       "<IPython.core.display.HTML object>"
      ]
     },
     "metadata": {},
     "output_type": "display_data"
    },
    {
     "name": "stdout",
     "output_type": "stream",
     "text": [
      "Drawing AMERICAN BITTERN\n"
     ]
    },
    {
     "data": {
      "text/html": [
       "<div class=\"zoom\"><img style='width: 100px; height: 100px; margin: 1px; float: left; border: 0px solid black;'title=['AMERICAN BITTERN'] src='dataset_birds\\test\\AMERICAN BITTERN\\1.jpg'/></div><div class=\"zoom\"><img style='width: 100px; height: 100px; margin: 1px; float: left; border: 0px solid black;'title=['AMERICAN BITTERN'] src='dataset_birds\\test\\AMERICAN BITTERN\\2.jpg'/></div><div class=\"zoom\"><img style='width: 100px; height: 100px; margin: 1px; float: left; border: 0px solid black;'title=['AMERICAN BITTERN'] src='dataset_birds\\test\\AMERICAN BITTERN\\3.jpg'/></div><div class=\"zoom\"><img style='width: 100px; height: 100px; margin: 1px; float: left; border: 0px solid black;'title=['AMERICAN BITTERN'] src='dataset_birds\\test\\AMERICAN BITTERN\\4.jpg'/></div><div class=\"zoom\"><img style='width: 100px; height: 100px; margin: 1px; float: left; border: 0px solid black;'title=['AMERICAN BITTERN'] src='dataset_birds\\test\\AMERICAN BITTERN\\5.jpg'/></div>"
      ],
      "text/plain": [
       "<IPython.core.display.HTML object>"
      ]
     },
     "metadata": {},
     "output_type": "display_data"
    },
    {
     "name": "stdout",
     "output_type": "stream",
     "text": [
      "Drawing AMERICAN COOT\n"
     ]
    },
    {
     "data": {
      "text/html": [
       "<div class=\"zoom\"><img style='width: 100px; height: 100px; margin: 1px; float: left; border: 0px solid black;'title=['AMERICAN COOT'] src='dataset_birds\\test\\AMERICAN COOT\\1.jpg'/></div><div class=\"zoom\"><img style='width: 100px; height: 100px; margin: 1px; float: left; border: 0px solid black;'title=['AMERICAN COOT'] src='dataset_birds\\test\\AMERICAN COOT\\2.jpg'/></div><div class=\"zoom\"><img style='width: 100px; height: 100px; margin: 1px; float: left; border: 0px solid black;'title=['AMERICAN COOT'] src='dataset_birds\\test\\AMERICAN COOT\\3.jpg'/></div><div class=\"zoom\"><img style='width: 100px; height: 100px; margin: 1px; float: left; border: 0px solid black;'title=['AMERICAN COOT'] src='dataset_birds\\test\\AMERICAN COOT\\4.jpg'/></div><div class=\"zoom\"><img style='width: 100px; height: 100px; margin: 1px; float: left; border: 0px solid black;'title=['AMERICAN COOT'] src='dataset_birds\\test\\AMERICAN COOT\\5.jpg'/></div>"
      ],
      "text/plain": [
       "<IPython.core.display.HTML object>"
      ]
     },
     "metadata": {},
     "output_type": "display_data"
    },
    {
     "name": "stdout",
     "output_type": "stream",
     "text": [
      "Drawing AMERICAN DIPPER\n"
     ]
    },
    {
     "data": {
      "text/html": [
       "<div class=\"zoom\"><img style='width: 100px; height: 100px; margin: 1px; float: left; border: 0px solid black;'title=['AMERICAN DIPPER'] src='dataset_birds\\test\\AMERICAN DIPPER\\1.jpg'/></div><div class=\"zoom\"><img style='width: 100px; height: 100px; margin: 1px; float: left; border: 0px solid black;'title=['AMERICAN DIPPER'] src='dataset_birds\\test\\AMERICAN DIPPER\\2.jpg'/></div><div class=\"zoom\"><img style='width: 100px; height: 100px; margin: 1px; float: left; border: 0px solid black;'title=['AMERICAN DIPPER'] src='dataset_birds\\test\\AMERICAN DIPPER\\3.jpg'/></div><div class=\"zoom\"><img style='width: 100px; height: 100px; margin: 1px; float: left; border: 0px solid black;'title=['AMERICAN DIPPER'] src='dataset_birds\\test\\AMERICAN DIPPER\\4.jpg'/></div><div class=\"zoom\"><img style='width: 100px; height: 100px; margin: 1px; float: left; border: 0px solid black;'title=['AMERICAN DIPPER'] src='dataset_birds\\test\\AMERICAN DIPPER\\5.jpg'/></div>"
      ],
      "text/plain": [
       "<IPython.core.display.HTML object>"
      ]
     },
     "metadata": {},
     "output_type": "display_data"
    },
    {
     "name": "stdout",
     "output_type": "stream",
     "text": [
      "Drawing AMERICAN FLAMINGO\n"
     ]
    },
    {
     "data": {
      "text/html": [
       "<div class=\"zoom\"><img style='width: 100px; height: 100px; margin: 1px; float: left; border: 0px solid black;'title=['AMERICAN FLAMINGO'] src='dataset_birds\\test\\AMERICAN FLAMINGO\\1.jpg'/></div><div class=\"zoom\"><img style='width: 100px; height: 100px; margin: 1px; float: left; border: 0px solid black;'title=['AMERICAN FLAMINGO'] src='dataset_birds\\test\\AMERICAN FLAMINGO\\2.jpg'/></div><div class=\"zoom\"><img style='width: 100px; height: 100px; margin: 1px; float: left; border: 0px solid black;'title=['AMERICAN FLAMINGO'] src='dataset_birds\\test\\AMERICAN FLAMINGO\\3.jpg'/></div><div class=\"zoom\"><img style='width: 100px; height: 100px; margin: 1px; float: left; border: 0px solid black;'title=['AMERICAN FLAMINGO'] src='dataset_birds\\test\\AMERICAN FLAMINGO\\4.jpg'/></div><div class=\"zoom\"><img style='width: 100px; height: 100px; margin: 1px; float: left; border: 0px solid black;'title=['AMERICAN FLAMINGO'] src='dataset_birds\\test\\AMERICAN FLAMINGO\\5.jpg'/></div>"
      ],
      "text/plain": [
       "<IPython.core.display.HTML object>"
      ]
     },
     "metadata": {},
     "output_type": "display_data"
    },
    {
     "name": "stdout",
     "output_type": "stream",
     "text": [
      "Drawing AMERICAN GOLDFINCH\n"
     ]
    },
    {
     "data": {
      "text/html": [
       "<div class=\"zoom\"><img style='width: 100px; height: 100px; margin: 1px; float: left; border: 0px solid black;'title=['AMERICAN GOLDFINCH'] src='dataset_birds\\test\\AMERICAN GOLDFINCH\\1.jpg'/></div><div class=\"zoom\"><img style='width: 100px; height: 100px; margin: 1px; float: left; border: 0px solid black;'title=['AMERICAN GOLDFINCH'] src='dataset_birds\\test\\AMERICAN GOLDFINCH\\2.jpg'/></div><div class=\"zoom\"><img style='width: 100px; height: 100px; margin: 1px; float: left; border: 0px solid black;'title=['AMERICAN GOLDFINCH'] src='dataset_birds\\test\\AMERICAN GOLDFINCH\\3.jpg'/></div><div class=\"zoom\"><img style='width: 100px; height: 100px; margin: 1px; float: left; border: 0px solid black;'title=['AMERICAN GOLDFINCH'] src='dataset_birds\\test\\AMERICAN GOLDFINCH\\4.jpg'/></div><div class=\"zoom\"><img style='width: 100px; height: 100px; margin: 1px; float: left; border: 0px solid black;'title=['AMERICAN GOLDFINCH'] src='dataset_birds\\test\\AMERICAN GOLDFINCH\\5.jpg'/></div>"
      ],
      "text/plain": [
       "<IPython.core.display.HTML object>"
      ]
     },
     "metadata": {},
     "output_type": "display_data"
    },
    {
     "name": "stdout",
     "output_type": "stream",
     "text": [
      "Drawing AMERICAN KESTREL\n"
     ]
    },
    {
     "data": {
      "text/html": [
       "<div class=\"zoom\"><img style='width: 100px; height: 100px; margin: 1px; float: left; border: 0px solid black;'title=['AMERICAN KESTREL'] src='dataset_birds\\test\\AMERICAN KESTREL\\1.jpg'/></div><div class=\"zoom\"><img style='width: 100px; height: 100px; margin: 1px; float: left; border: 0px solid black;'title=['AMERICAN KESTREL'] src='dataset_birds\\test\\AMERICAN KESTREL\\2.jpg'/></div><div class=\"zoom\"><img style='width: 100px; height: 100px; margin: 1px; float: left; border: 0px solid black;'title=['AMERICAN KESTREL'] src='dataset_birds\\test\\AMERICAN KESTREL\\3.jpg'/></div><div class=\"zoom\"><img style='width: 100px; height: 100px; margin: 1px; float: left; border: 0px solid black;'title=['AMERICAN KESTREL'] src='dataset_birds\\test\\AMERICAN KESTREL\\4.jpg'/></div><div class=\"zoom\"><img style='width: 100px; height: 100px; margin: 1px; float: left; border: 0px solid black;'title=['AMERICAN KESTREL'] src='dataset_birds\\test\\AMERICAN KESTREL\\5.jpg'/></div>"
      ],
      "text/plain": [
       "<IPython.core.display.HTML object>"
      ]
     },
     "metadata": {},
     "output_type": "display_data"
    },
    {
     "name": "stdout",
     "output_type": "stream",
     "text": [
      "Drawing AMERICAN PIPIT\n"
     ]
    },
    {
     "data": {
      "text/html": [
       "<div class=\"zoom\"><img style='width: 100px; height: 100px; margin: 1px; float: left; border: 0px solid black;'title=['AMERICAN PIPIT'] src='dataset_birds\\test\\AMERICAN PIPIT\\1.jpg'/></div><div class=\"zoom\"><img style='width: 100px; height: 100px; margin: 1px; float: left; border: 0px solid black;'title=['AMERICAN PIPIT'] src='dataset_birds\\test\\AMERICAN PIPIT\\2.jpg'/></div><div class=\"zoom\"><img style='width: 100px; height: 100px; margin: 1px; float: left; border: 0px solid black;'title=['AMERICAN PIPIT'] src='dataset_birds\\test\\AMERICAN PIPIT\\3.jpg'/></div><div class=\"zoom\"><img style='width: 100px; height: 100px; margin: 1px; float: left; border: 0px solid black;'title=['AMERICAN PIPIT'] src='dataset_birds\\test\\AMERICAN PIPIT\\4.jpg'/></div><div class=\"zoom\"><img style='width: 100px; height: 100px; margin: 1px; float: left; border: 0px solid black;'title=['AMERICAN PIPIT'] src='dataset_birds\\test\\AMERICAN PIPIT\\5.jpg'/></div>"
      ],
      "text/plain": [
       "<IPython.core.display.HTML object>"
      ]
     },
     "metadata": {},
     "output_type": "display_data"
    },
    {
     "name": "stdout",
     "output_type": "stream",
     "text": [
      "Drawing AMERICAN REDSTART\n"
     ]
    },
    {
     "data": {
      "text/html": [
       "<div class=\"zoom\"><img style='width: 100px; height: 100px; margin: 1px; float: left; border: 0px solid black;'title=['AMERICAN REDSTART'] src='dataset_birds\\test\\AMERICAN REDSTART\\1.jpg'/></div><div class=\"zoom\"><img style='width: 100px; height: 100px; margin: 1px; float: left; border: 0px solid black;'title=['AMERICAN REDSTART'] src='dataset_birds\\test\\AMERICAN REDSTART\\2.jpg'/></div><div class=\"zoom\"><img style='width: 100px; height: 100px; margin: 1px; float: left; border: 0px solid black;'title=['AMERICAN REDSTART'] src='dataset_birds\\test\\AMERICAN REDSTART\\3.jpg'/></div><div class=\"zoom\"><img style='width: 100px; height: 100px; margin: 1px; float: left; border: 0px solid black;'title=['AMERICAN REDSTART'] src='dataset_birds\\test\\AMERICAN REDSTART\\4.jpg'/></div><div class=\"zoom\"><img style='width: 100px; height: 100px; margin: 1px; float: left; border: 0px solid black;'title=['AMERICAN REDSTART'] src='dataset_birds\\test\\AMERICAN REDSTART\\5.jpg'/></div>"
      ],
      "text/plain": [
       "<IPython.core.display.HTML object>"
      ]
     },
     "metadata": {},
     "output_type": "display_data"
    },
    {
     "name": "stdout",
     "output_type": "stream",
     "text": [
      "Drawing AMERICAN ROBIN\n"
     ]
    },
    {
     "data": {
      "text/html": [
       "<div class=\"zoom\"><img style='width: 100px; height: 100px; margin: 1px; float: left; border: 0px solid black;'title=['AMERICAN ROBIN'] src='dataset_birds\\test\\AMERICAN ROBIN\\1.jpg'/></div><div class=\"zoom\"><img style='width: 100px; height: 100px; margin: 1px; float: left; border: 0px solid black;'title=['AMERICAN ROBIN'] src='dataset_birds\\test\\AMERICAN ROBIN\\2.jpg'/></div><div class=\"zoom\"><img style='width: 100px; height: 100px; margin: 1px; float: left; border: 0px solid black;'title=['AMERICAN ROBIN'] src='dataset_birds\\test\\AMERICAN ROBIN\\3.jpg'/></div><div class=\"zoom\"><img style='width: 100px; height: 100px; margin: 1px; float: left; border: 0px solid black;'title=['AMERICAN ROBIN'] src='dataset_birds\\test\\AMERICAN ROBIN\\4.jpg'/></div><div class=\"zoom\"><img style='width: 100px; height: 100px; margin: 1px; float: left; border: 0px solid black;'title=['AMERICAN ROBIN'] src='dataset_birds\\test\\AMERICAN ROBIN\\5.jpg'/></div>"
      ],
      "text/plain": [
       "<IPython.core.display.HTML object>"
      ]
     },
     "metadata": {},
     "output_type": "display_data"
    },
    {
     "name": "stdout",
     "output_type": "stream",
     "text": [
      "Drawing AMERICAN WIGEON\n"
     ]
    },
    {
     "data": {
      "text/html": [
       "<div class=\"zoom\"><img style='width: 100px; height: 100px; margin: 1px; float: left; border: 0px solid black;'title=['AMERICAN WIGEON'] src='dataset_birds\\test\\AMERICAN WIGEON\\1.jpg'/></div><div class=\"zoom\"><img style='width: 100px; height: 100px; margin: 1px; float: left; border: 0px solid black;'title=['AMERICAN WIGEON'] src='dataset_birds\\test\\AMERICAN WIGEON\\2.jpg'/></div><div class=\"zoom\"><img style='width: 100px; height: 100px; margin: 1px; float: left; border: 0px solid black;'title=['AMERICAN WIGEON'] src='dataset_birds\\test\\AMERICAN WIGEON\\3.jpg'/></div><div class=\"zoom\"><img style='width: 100px; height: 100px; margin: 1px; float: left; border: 0px solid black;'title=['AMERICAN WIGEON'] src='dataset_birds\\test\\AMERICAN WIGEON\\4.jpg'/></div><div class=\"zoom\"><img style='width: 100px; height: 100px; margin: 1px; float: left; border: 0px solid black;'title=['AMERICAN WIGEON'] src='dataset_birds\\test\\AMERICAN WIGEON\\5.jpg'/></div>"
      ],
      "text/plain": [
       "<IPython.core.display.HTML object>"
      ]
     },
     "metadata": {},
     "output_type": "display_data"
    },
    {
     "name": "stdout",
     "output_type": "stream",
     "text": [
      "Drawing AMETHYST WOODSTAR\n"
     ]
    },
    {
     "data": {
      "text/html": [
       "<div class=\"zoom\"><img style='width: 100px; height: 100px; margin: 1px; float: left; border: 0px solid black;'title=['AMETHYST WOODSTAR'] src='dataset_birds\\test\\AMETHYST WOODSTAR\\1.jpg'/></div><div class=\"zoom\"><img style='width: 100px; height: 100px; margin: 1px; float: left; border: 0px solid black;'title=['AMETHYST WOODSTAR'] src='dataset_birds\\test\\AMETHYST WOODSTAR\\2.jpg'/></div><div class=\"zoom\"><img style='width: 100px; height: 100px; margin: 1px; float: left; border: 0px solid black;'title=['AMETHYST WOODSTAR'] src='dataset_birds\\test\\AMETHYST WOODSTAR\\3.jpg'/></div><div class=\"zoom\"><img style='width: 100px; height: 100px; margin: 1px; float: left; border: 0px solid black;'title=['AMETHYST WOODSTAR'] src='dataset_birds\\test\\AMETHYST WOODSTAR\\4.jpg'/></div><div class=\"zoom\"><img style='width: 100px; height: 100px; margin: 1px; float: left; border: 0px solid black;'title=['AMETHYST WOODSTAR'] src='dataset_birds\\test\\AMETHYST WOODSTAR\\5.jpg'/></div>"
      ],
      "text/plain": [
       "<IPython.core.display.HTML object>"
      ]
     },
     "metadata": {},
     "output_type": "display_data"
    },
    {
     "name": "stdout",
     "output_type": "stream",
     "text": [
      "Drawing ANDEAN GOOSE\n"
     ]
    },
    {
     "data": {
      "text/html": [
       "<div class=\"zoom\"><img style='width: 100px; height: 100px; margin: 1px; float: left; border: 0px solid black;'title=['ANDEAN GOOSE'] src='dataset_birds\\test\\ANDEAN GOOSE\\1.jpg'/></div><div class=\"zoom\"><img style='width: 100px; height: 100px; margin: 1px; float: left; border: 0px solid black;'title=['ANDEAN GOOSE'] src='dataset_birds\\test\\ANDEAN GOOSE\\2.jpg'/></div><div class=\"zoom\"><img style='width: 100px; height: 100px; margin: 1px; float: left; border: 0px solid black;'title=['ANDEAN GOOSE'] src='dataset_birds\\test\\ANDEAN GOOSE\\3.jpg'/></div><div class=\"zoom\"><img style='width: 100px; height: 100px; margin: 1px; float: left; border: 0px solid black;'title=['ANDEAN GOOSE'] src='dataset_birds\\test\\ANDEAN GOOSE\\4.jpg'/></div><div class=\"zoom\"><img style='width: 100px; height: 100px; margin: 1px; float: left; border: 0px solid black;'title=['ANDEAN GOOSE'] src='dataset_birds\\test\\ANDEAN GOOSE\\5.jpg'/></div>"
      ],
      "text/plain": [
       "<IPython.core.display.HTML object>"
      ]
     },
     "metadata": {},
     "output_type": "display_data"
    },
    {
     "name": "stdout",
     "output_type": "stream",
     "text": [
      "Drawing ANDEAN LAPWING\n"
     ]
    },
    {
     "data": {
      "text/html": [
       "<div class=\"zoom\"><img style='width: 100px; height: 100px; margin: 1px; float: left; border: 0px solid black;'title=['ANDEAN LAPWING'] src='dataset_birds\\test\\ANDEAN LAPWING\\1.jpg'/></div><div class=\"zoom\"><img style='width: 100px; height: 100px; margin: 1px; float: left; border: 0px solid black;'title=['ANDEAN LAPWING'] src='dataset_birds\\test\\ANDEAN LAPWING\\2.jpg'/></div><div class=\"zoom\"><img style='width: 100px; height: 100px; margin: 1px; float: left; border: 0px solid black;'title=['ANDEAN LAPWING'] src='dataset_birds\\test\\ANDEAN LAPWING\\3.jpg'/></div><div class=\"zoom\"><img style='width: 100px; height: 100px; margin: 1px; float: left; border: 0px solid black;'title=['ANDEAN LAPWING'] src='dataset_birds\\test\\ANDEAN LAPWING\\4.jpg'/></div><div class=\"zoom\"><img style='width: 100px; height: 100px; margin: 1px; float: left; border: 0px solid black;'title=['ANDEAN LAPWING'] src='dataset_birds\\test\\ANDEAN LAPWING\\5.jpg'/></div>"
      ],
      "text/plain": [
       "<IPython.core.display.HTML object>"
      ]
     },
     "metadata": {},
     "output_type": "display_data"
    },
    {
     "name": "stdout",
     "output_type": "stream",
     "text": [
      "Drawing ANDEAN SISKIN\n"
     ]
    },
    {
     "data": {
      "text/html": [
       "<div class=\"zoom\"><img style='width: 100px; height: 100px; margin: 1px; float: left; border: 0px solid black;'title=['ANDEAN SISKIN'] src='dataset_birds\\test\\ANDEAN SISKIN\\1.jpg'/></div><div class=\"zoom\"><img style='width: 100px; height: 100px; margin: 1px; float: left; border: 0px solid black;'title=['ANDEAN SISKIN'] src='dataset_birds\\test\\ANDEAN SISKIN\\2.jpg'/></div><div class=\"zoom\"><img style='width: 100px; height: 100px; margin: 1px; float: left; border: 0px solid black;'title=['ANDEAN SISKIN'] src='dataset_birds\\test\\ANDEAN SISKIN\\3.jpg'/></div><div class=\"zoom\"><img style='width: 100px; height: 100px; margin: 1px; float: left; border: 0px solid black;'title=['ANDEAN SISKIN'] src='dataset_birds\\test\\ANDEAN SISKIN\\4.jpg'/></div><div class=\"zoom\"><img style='width: 100px; height: 100px; margin: 1px; float: left; border: 0px solid black;'title=['ANDEAN SISKIN'] src='dataset_birds\\test\\ANDEAN SISKIN\\5.jpg'/></div>"
      ],
      "text/plain": [
       "<IPython.core.display.HTML object>"
      ]
     },
     "metadata": {},
     "output_type": "display_data"
    },
    {
     "name": "stdout",
     "output_type": "stream",
     "text": [
      "Drawing ANHINGA\n"
     ]
    },
    {
     "data": {
      "text/html": [
       "<div class=\"zoom\"><img style='width: 100px; height: 100px; margin: 1px; float: left; border: 0px solid black;'title=['ANHINGA'] src='dataset_birds\\test\\ANHINGA\\1.jpg'/></div><div class=\"zoom\"><img style='width: 100px; height: 100px; margin: 1px; float: left; border: 0px solid black;'title=['ANHINGA'] src='dataset_birds\\test\\ANHINGA\\2.jpg'/></div><div class=\"zoom\"><img style='width: 100px; height: 100px; margin: 1px; float: left; border: 0px solid black;'title=['ANHINGA'] src='dataset_birds\\test\\ANHINGA\\3.jpg'/></div><div class=\"zoom\"><img style='width: 100px; height: 100px; margin: 1px; float: left; border: 0px solid black;'title=['ANHINGA'] src='dataset_birds\\test\\ANHINGA\\4.jpg'/></div><div class=\"zoom\"><img style='width: 100px; height: 100px; margin: 1px; float: left; border: 0px solid black;'title=['ANHINGA'] src='dataset_birds\\test\\ANHINGA\\5.jpg'/></div>"
      ],
      "text/plain": [
       "<IPython.core.display.HTML object>"
      ]
     },
     "metadata": {},
     "output_type": "display_data"
    },
    {
     "name": "stdout",
     "output_type": "stream",
     "text": [
      "Drawing ANIANIAU\n"
     ]
    },
    {
     "data": {
      "text/html": [
       "<div class=\"zoom\"><img style='width: 100px; height: 100px; margin: 1px; float: left; border: 0px solid black;'title=['ANIANIAU'] src='dataset_birds\\test\\ANIANIAU\\1.jpg'/></div><div class=\"zoom\"><img style='width: 100px; height: 100px; margin: 1px; float: left; border: 0px solid black;'title=['ANIANIAU'] src='dataset_birds\\test\\ANIANIAU\\2.jpg'/></div><div class=\"zoom\"><img style='width: 100px; height: 100px; margin: 1px; float: left; border: 0px solid black;'title=['ANIANIAU'] src='dataset_birds\\test\\ANIANIAU\\3.jpg'/></div><div class=\"zoom\"><img style='width: 100px; height: 100px; margin: 1px; float: left; border: 0px solid black;'title=['ANIANIAU'] src='dataset_birds\\test\\ANIANIAU\\4.jpg'/></div><div class=\"zoom\"><img style='width: 100px; height: 100px; margin: 1px; float: left; border: 0px solid black;'title=['ANIANIAU'] src='dataset_birds\\test\\ANIANIAU\\5.jpg'/></div>"
      ],
      "text/plain": [
       "<IPython.core.display.HTML object>"
      ]
     },
     "metadata": {},
     "output_type": "display_data"
    },
    {
     "name": "stdout",
     "output_type": "stream",
     "text": [
      "Drawing ANNAS HUMMINGBIRD\n"
     ]
    },
    {
     "data": {
      "text/html": [
       "<div class=\"zoom\"><img style='width: 100px; height: 100px; margin: 1px; float: left; border: 0px solid black;'title=['ANNAS HUMMINGBIRD'] src='dataset_birds\\test\\ANNAS HUMMINGBIRD\\1.jpg'/></div><div class=\"zoom\"><img style='width: 100px; height: 100px; margin: 1px; float: left; border: 0px solid black;'title=['ANNAS HUMMINGBIRD'] src='dataset_birds\\test\\ANNAS HUMMINGBIRD\\2.jpg'/></div><div class=\"zoom\"><img style='width: 100px; height: 100px; margin: 1px; float: left; border: 0px solid black;'title=['ANNAS HUMMINGBIRD'] src='dataset_birds\\test\\ANNAS HUMMINGBIRD\\3.jpg'/></div><div class=\"zoom\"><img style='width: 100px; height: 100px; margin: 1px; float: left; border: 0px solid black;'title=['ANNAS HUMMINGBIRD'] src='dataset_birds\\test\\ANNAS HUMMINGBIRD\\4.jpg'/></div><div class=\"zoom\"><img style='width: 100px; height: 100px; margin: 1px; float: left; border: 0px solid black;'title=['ANNAS HUMMINGBIRD'] src='dataset_birds\\test\\ANNAS HUMMINGBIRD\\5.jpg'/></div>"
      ],
      "text/plain": [
       "<IPython.core.display.HTML object>"
      ]
     },
     "metadata": {},
     "output_type": "display_data"
    },
    {
     "name": "stdout",
     "output_type": "stream",
     "text": [
      "Drawing ANTBIRD\n"
     ]
    },
    {
     "data": {
      "text/html": [
       "<div class=\"zoom\"><img style='width: 100px; height: 100px; margin: 1px; float: left; border: 0px solid black;'title=['ANTBIRD'] src='dataset_birds\\test\\ANTBIRD\\1.jpg'/></div><div class=\"zoom\"><img style='width: 100px; height: 100px; margin: 1px; float: left; border: 0px solid black;'title=['ANTBIRD'] src='dataset_birds\\test\\ANTBIRD\\2.jpg'/></div><div class=\"zoom\"><img style='width: 100px; height: 100px; margin: 1px; float: left; border: 0px solid black;'title=['ANTBIRD'] src='dataset_birds\\test\\ANTBIRD\\3.jpg'/></div><div class=\"zoom\"><img style='width: 100px; height: 100px; margin: 1px; float: left; border: 0px solid black;'title=['ANTBIRD'] src='dataset_birds\\test\\ANTBIRD\\4.jpg'/></div><div class=\"zoom\"><img style='width: 100px; height: 100px; margin: 1px; float: left; border: 0px solid black;'title=['ANTBIRD'] src='dataset_birds\\test\\ANTBIRD\\5.jpg'/></div>"
      ],
      "text/plain": [
       "<IPython.core.display.HTML object>"
      ]
     },
     "metadata": {},
     "output_type": "display_data"
    },
    {
     "name": "stdout",
     "output_type": "stream",
     "text": [
      "Drawing ANTILLEAN EUPHONIA\n"
     ]
    },
    {
     "data": {
      "text/html": [
       "<div class=\"zoom\"><img style='width: 100px; height: 100px; margin: 1px; float: left; border: 0px solid black;'title=['ANTILLEAN EUPHONIA'] src='dataset_birds\\test\\ANTILLEAN EUPHONIA\\1.jpg'/></div><div class=\"zoom\"><img style='width: 100px; height: 100px; margin: 1px; float: left; border: 0px solid black;'title=['ANTILLEAN EUPHONIA'] src='dataset_birds\\test\\ANTILLEAN EUPHONIA\\2.jpg'/></div><div class=\"zoom\"><img style='width: 100px; height: 100px; margin: 1px; float: left; border: 0px solid black;'title=['ANTILLEAN EUPHONIA'] src='dataset_birds\\test\\ANTILLEAN EUPHONIA\\3.jpg'/></div><div class=\"zoom\"><img style='width: 100px; height: 100px; margin: 1px; float: left; border: 0px solid black;'title=['ANTILLEAN EUPHONIA'] src='dataset_birds\\test\\ANTILLEAN EUPHONIA\\4.jpg'/></div><div class=\"zoom\"><img style='width: 100px; height: 100px; margin: 1px; float: left; border: 0px solid black;'title=['ANTILLEAN EUPHONIA'] src='dataset_birds\\test\\ANTILLEAN EUPHONIA\\5.jpg'/></div>"
      ],
      "text/plain": [
       "<IPython.core.display.HTML object>"
      ]
     },
     "metadata": {},
     "output_type": "display_data"
    },
    {
     "name": "stdout",
     "output_type": "stream",
     "text": [
      "Drawing APAPANE\n"
     ]
    },
    {
     "data": {
      "text/html": [
       "<div class=\"zoom\"><img style='width: 100px; height: 100px; margin: 1px; float: left; border: 0px solid black;'title=['APAPANE'] src='dataset_birds\\test\\APAPANE\\1.jpg'/></div><div class=\"zoom\"><img style='width: 100px; height: 100px; margin: 1px; float: left; border: 0px solid black;'title=['APAPANE'] src='dataset_birds\\test\\APAPANE\\2.jpg'/></div><div class=\"zoom\"><img style='width: 100px; height: 100px; margin: 1px; float: left; border: 0px solid black;'title=['APAPANE'] src='dataset_birds\\test\\APAPANE\\3.jpg'/></div><div class=\"zoom\"><img style='width: 100px; height: 100px; margin: 1px; float: left; border: 0px solid black;'title=['APAPANE'] src='dataset_birds\\test\\APAPANE\\4.jpg'/></div><div class=\"zoom\"><img style='width: 100px; height: 100px; margin: 1px; float: left; border: 0px solid black;'title=['APAPANE'] src='dataset_birds\\test\\APAPANE\\5.jpg'/></div>"
      ],
      "text/plain": [
       "<IPython.core.display.HTML object>"
      ]
     },
     "metadata": {},
     "output_type": "display_data"
    },
    {
     "name": "stdout",
     "output_type": "stream",
     "text": [
      "Drawing APOSTLEBIRD\n"
     ]
    },
    {
     "data": {
      "text/html": [
       "<div class=\"zoom\"><img style='width: 100px; height: 100px; margin: 1px; float: left; border: 0px solid black;'title=['APOSTLEBIRD'] src='dataset_birds\\test\\APOSTLEBIRD\\1.jpg'/></div><div class=\"zoom\"><img style='width: 100px; height: 100px; margin: 1px; float: left; border: 0px solid black;'title=['APOSTLEBIRD'] src='dataset_birds\\test\\APOSTLEBIRD\\2.jpg'/></div><div class=\"zoom\"><img style='width: 100px; height: 100px; margin: 1px; float: left; border: 0px solid black;'title=['APOSTLEBIRD'] src='dataset_birds\\test\\APOSTLEBIRD\\3.jpg'/></div><div class=\"zoom\"><img style='width: 100px; height: 100px; margin: 1px; float: left; border: 0px solid black;'title=['APOSTLEBIRD'] src='dataset_birds\\test\\APOSTLEBIRD\\4.jpg'/></div><div class=\"zoom\"><img style='width: 100px; height: 100px; margin: 1px; float: left; border: 0px solid black;'title=['APOSTLEBIRD'] src='dataset_birds\\test\\APOSTLEBIRD\\5.jpg'/></div>"
      ],
      "text/plain": [
       "<IPython.core.display.HTML object>"
      ]
     },
     "metadata": {},
     "output_type": "display_data"
    },
    {
     "name": "stdout",
     "output_type": "stream",
     "text": [
      "Drawing ARARIPE MANAKIN\n"
     ]
    },
    {
     "data": {
      "text/html": [
       "<div class=\"zoom\"><img style='width: 100px; height: 100px; margin: 1px; float: left; border: 0px solid black;'title=['ARARIPE MANAKIN'] src='dataset_birds\\test\\ARARIPE MANAKIN\\1.jpg'/></div><div class=\"zoom\"><img style='width: 100px; height: 100px; margin: 1px; float: left; border: 0px solid black;'title=['ARARIPE MANAKIN'] src='dataset_birds\\test\\ARARIPE MANAKIN\\2.jpg'/></div><div class=\"zoom\"><img style='width: 100px; height: 100px; margin: 1px; float: left; border: 0px solid black;'title=['ARARIPE MANAKIN'] src='dataset_birds\\test\\ARARIPE MANAKIN\\3.jpg'/></div><div class=\"zoom\"><img style='width: 100px; height: 100px; margin: 1px; float: left; border: 0px solid black;'title=['ARARIPE MANAKIN'] src='dataset_birds\\test\\ARARIPE MANAKIN\\4.jpg'/></div><div class=\"zoom\"><img style='width: 100px; height: 100px; margin: 1px; float: left; border: 0px solid black;'title=['ARARIPE MANAKIN'] src='dataset_birds\\test\\ARARIPE MANAKIN\\5.jpg'/></div>"
      ],
      "text/plain": [
       "<IPython.core.display.HTML object>"
      ]
     },
     "metadata": {},
     "output_type": "display_data"
    },
    {
     "name": "stdout",
     "output_type": "stream",
     "text": [
      "Drawing ASHY STORM PETREL\n"
     ]
    },
    {
     "data": {
      "text/html": [
       "<div class=\"zoom\"><img style='width: 100px; height: 100px; margin: 1px; float: left; border: 0px solid black;'title=['ASHY STORM PETREL'] src='dataset_birds\\test\\ASHY STORM PETREL\\1.jpg'/></div><div class=\"zoom\"><img style='width: 100px; height: 100px; margin: 1px; float: left; border: 0px solid black;'title=['ASHY STORM PETREL'] src='dataset_birds\\test\\ASHY STORM PETREL\\2.jpg'/></div><div class=\"zoom\"><img style='width: 100px; height: 100px; margin: 1px; float: left; border: 0px solid black;'title=['ASHY STORM PETREL'] src='dataset_birds\\test\\ASHY STORM PETREL\\3.jpg'/></div><div class=\"zoom\"><img style='width: 100px; height: 100px; margin: 1px; float: left; border: 0px solid black;'title=['ASHY STORM PETREL'] src='dataset_birds\\test\\ASHY STORM PETREL\\4.jpg'/></div><div class=\"zoom\"><img style='width: 100px; height: 100px; margin: 1px; float: left; border: 0px solid black;'title=['ASHY STORM PETREL'] src='dataset_birds\\test\\ASHY STORM PETREL\\5.jpg'/></div>"
      ],
      "text/plain": [
       "<IPython.core.display.HTML object>"
      ]
     },
     "metadata": {},
     "output_type": "display_data"
    },
    {
     "name": "stdout",
     "output_type": "stream",
     "text": [
      "Drawing ASHY THRUSHBIRD\n"
     ]
    },
    {
     "data": {
      "text/html": [
       "<div class=\"zoom\"><img style='width: 100px; height: 100px; margin: 1px; float: left; border: 0px solid black;'title=['ASHY THRUSHBIRD'] src='dataset_birds\\test\\ASHY THRUSHBIRD\\1.jpg'/></div><div class=\"zoom\"><img style='width: 100px; height: 100px; margin: 1px; float: left; border: 0px solid black;'title=['ASHY THRUSHBIRD'] src='dataset_birds\\test\\ASHY THRUSHBIRD\\2.jpg'/></div><div class=\"zoom\"><img style='width: 100px; height: 100px; margin: 1px; float: left; border: 0px solid black;'title=['ASHY THRUSHBIRD'] src='dataset_birds\\test\\ASHY THRUSHBIRD\\3.jpg'/></div><div class=\"zoom\"><img style='width: 100px; height: 100px; margin: 1px; float: left; border: 0px solid black;'title=['ASHY THRUSHBIRD'] src='dataset_birds\\test\\ASHY THRUSHBIRD\\4.jpg'/></div><div class=\"zoom\"><img style='width: 100px; height: 100px; margin: 1px; float: left; border: 0px solid black;'title=['ASHY THRUSHBIRD'] src='dataset_birds\\test\\ASHY THRUSHBIRD\\5.jpg'/></div>"
      ],
      "text/plain": [
       "<IPython.core.display.HTML object>"
      ]
     },
     "metadata": {},
     "output_type": "display_data"
    },
    {
     "name": "stdout",
     "output_type": "stream",
     "text": [
      "Drawing ASIAN CRESTED IBIS\n"
     ]
    },
    {
     "data": {
      "text/html": [
       "<div class=\"zoom\"><img style='width: 100px; height: 100px; margin: 1px; float: left; border: 0px solid black;'title=['ASIAN CRESTED IBIS'] src='dataset_birds\\test\\ASIAN CRESTED IBIS\\1.jpg'/></div><div class=\"zoom\"><img style='width: 100px; height: 100px; margin: 1px; float: left; border: 0px solid black;'title=['ASIAN CRESTED IBIS'] src='dataset_birds\\test\\ASIAN CRESTED IBIS\\2.jpg'/></div><div class=\"zoom\"><img style='width: 100px; height: 100px; margin: 1px; float: left; border: 0px solid black;'title=['ASIAN CRESTED IBIS'] src='dataset_birds\\test\\ASIAN CRESTED IBIS\\3.jpg'/></div><div class=\"zoom\"><img style='width: 100px; height: 100px; margin: 1px; float: left; border: 0px solid black;'title=['ASIAN CRESTED IBIS'] src='dataset_birds\\test\\ASIAN CRESTED IBIS\\4.jpg'/></div><div class=\"zoom\"><img style='width: 100px; height: 100px; margin: 1px; float: left; border: 0px solid black;'title=['ASIAN CRESTED IBIS'] src='dataset_birds\\test\\ASIAN CRESTED IBIS\\5.jpg'/></div>"
      ],
      "text/plain": [
       "<IPython.core.display.HTML object>"
      ]
     },
     "metadata": {},
     "output_type": "display_data"
    },
    {
     "name": "stdout",
     "output_type": "stream",
     "text": [
      "Drawing ASIAN DOLLARD BIRD\n"
     ]
    },
    {
     "data": {
      "text/html": [
       "<div class=\"zoom\"><img style='width: 100px; height: 100px; margin: 1px; float: left; border: 0px solid black;'title=['ASIAN DOLLARD BIRD'] src='dataset_birds\\test\\ASIAN DOLLARD BIRD\\1.jpg'/></div><div class=\"zoom\"><img style='width: 100px; height: 100px; margin: 1px; float: left; border: 0px solid black;'title=['ASIAN DOLLARD BIRD'] src='dataset_birds\\test\\ASIAN DOLLARD BIRD\\2.jpg'/></div><div class=\"zoom\"><img style='width: 100px; height: 100px; margin: 1px; float: left; border: 0px solid black;'title=['ASIAN DOLLARD BIRD'] src='dataset_birds\\test\\ASIAN DOLLARD BIRD\\3.jpg'/></div><div class=\"zoom\"><img style='width: 100px; height: 100px; margin: 1px; float: left; border: 0px solid black;'title=['ASIAN DOLLARD BIRD'] src='dataset_birds\\test\\ASIAN DOLLARD BIRD\\4.jpg'/></div><div class=\"zoom\"><img style='width: 100px; height: 100px; margin: 1px; float: left; border: 0px solid black;'title=['ASIAN DOLLARD BIRD'] src='dataset_birds\\test\\ASIAN DOLLARD BIRD\\5.jpg'/></div>"
      ],
      "text/plain": [
       "<IPython.core.display.HTML object>"
      ]
     },
     "metadata": {},
     "output_type": "display_data"
    },
    {
     "name": "stdout",
     "output_type": "stream",
     "text": [
      "Drawing ASIAN GREEN BEE EATER\n"
     ]
    },
    {
     "data": {
      "text/html": [
       "<div class=\"zoom\"><img style='width: 100px; height: 100px; margin: 1px; float: left; border: 0px solid black;'title=['ASIAN GREEN BEE EATER'] src='dataset_birds\\test\\ASIAN GREEN BEE EATER\\1.jpg'/></div><div class=\"zoom\"><img style='width: 100px; height: 100px; margin: 1px; float: left; border: 0px solid black;'title=['ASIAN GREEN BEE EATER'] src='dataset_birds\\test\\ASIAN GREEN BEE EATER\\2.jpg'/></div><div class=\"zoom\"><img style='width: 100px; height: 100px; margin: 1px; float: left; border: 0px solid black;'title=['ASIAN GREEN BEE EATER'] src='dataset_birds\\test\\ASIAN GREEN BEE EATER\\3.jpg'/></div><div class=\"zoom\"><img style='width: 100px; height: 100px; margin: 1px; float: left; border: 0px solid black;'title=['ASIAN GREEN BEE EATER'] src='dataset_birds\\test\\ASIAN GREEN BEE EATER\\4.jpg'/></div><div class=\"zoom\"><img style='width: 100px; height: 100px; margin: 1px; float: left; border: 0px solid black;'title=['ASIAN GREEN BEE EATER'] src='dataset_birds\\test\\ASIAN GREEN BEE EATER\\5.jpg'/></div>"
      ],
      "text/plain": [
       "<IPython.core.display.HTML object>"
      ]
     },
     "metadata": {},
     "output_type": "display_data"
    },
    {
     "name": "stdout",
     "output_type": "stream",
     "text": [
      "Drawing ASIAN OPENBILL STORK\n"
     ]
    },
    {
     "data": {
      "text/html": [
       "<div class=\"zoom\"><img style='width: 100px; height: 100px; margin: 1px; float: left; border: 0px solid black;'title=['ASIAN OPENBILL STORK'] src='dataset_birds\\test\\ASIAN OPENBILL STORK\\1.jpg'/></div><div class=\"zoom\"><img style='width: 100px; height: 100px; margin: 1px; float: left; border: 0px solid black;'title=['ASIAN OPENBILL STORK'] src='dataset_birds\\test\\ASIAN OPENBILL STORK\\2.jpg'/></div><div class=\"zoom\"><img style='width: 100px; height: 100px; margin: 1px; float: left; border: 0px solid black;'title=['ASIAN OPENBILL STORK'] src='dataset_birds\\test\\ASIAN OPENBILL STORK\\3.jpg'/></div><div class=\"zoom\"><img style='width: 100px; height: 100px; margin: 1px; float: left; border: 0px solid black;'title=['ASIAN OPENBILL STORK'] src='dataset_birds\\test\\ASIAN OPENBILL STORK\\4.jpg'/></div><div class=\"zoom\"><img style='width: 100px; height: 100px; margin: 1px; float: left; border: 0px solid black;'title=['ASIAN OPENBILL STORK'] src='dataset_birds\\test\\ASIAN OPENBILL STORK\\5.jpg'/></div>"
      ],
      "text/plain": [
       "<IPython.core.display.HTML object>"
      ]
     },
     "metadata": {},
     "output_type": "display_data"
    },
    {
     "name": "stdout",
     "output_type": "stream",
     "text": [
      "Drawing AUCKLAND SHAQ\n"
     ]
    },
    {
     "data": {
      "text/html": [
       "<div class=\"zoom\"><img style='width: 100px; height: 100px; margin: 1px; float: left; border: 0px solid black;'title=['AUCKLAND SHAQ'] src='dataset_birds\\test\\AUCKLAND SHAQ\\1.jpg'/></div><div class=\"zoom\"><img style='width: 100px; height: 100px; margin: 1px; float: left; border: 0px solid black;'title=['AUCKLAND SHAQ'] src='dataset_birds\\test\\AUCKLAND SHAQ\\2.jpg'/></div><div class=\"zoom\"><img style='width: 100px; height: 100px; margin: 1px; float: left; border: 0px solid black;'title=['AUCKLAND SHAQ'] src='dataset_birds\\test\\AUCKLAND SHAQ\\3.jpg'/></div><div class=\"zoom\"><img style='width: 100px; height: 100px; margin: 1px; float: left; border: 0px solid black;'title=['AUCKLAND SHAQ'] src='dataset_birds\\test\\AUCKLAND SHAQ\\4.jpg'/></div><div class=\"zoom\"><img style='width: 100px; height: 100px; margin: 1px; float: left; border: 0px solid black;'title=['AUCKLAND SHAQ'] src='dataset_birds\\test\\AUCKLAND SHAQ\\5.jpg'/></div>"
      ],
      "text/plain": [
       "<IPython.core.display.HTML object>"
      ]
     },
     "metadata": {},
     "output_type": "display_data"
    },
    {
     "name": "stdout",
     "output_type": "stream",
     "text": [
      "Drawing AUSTRAL CANASTERO\n"
     ]
    },
    {
     "data": {
      "text/html": [
       "<div class=\"zoom\"><img style='width: 100px; height: 100px; margin: 1px; float: left; border: 0px solid black;'title=['AUSTRAL CANASTERO'] src='dataset_birds\\test\\AUSTRAL CANASTERO\\1.jpg'/></div><div class=\"zoom\"><img style='width: 100px; height: 100px; margin: 1px; float: left; border: 0px solid black;'title=['AUSTRAL CANASTERO'] src='dataset_birds\\test\\AUSTRAL CANASTERO\\2.jpg'/></div><div class=\"zoom\"><img style='width: 100px; height: 100px; margin: 1px; float: left; border: 0px solid black;'title=['AUSTRAL CANASTERO'] src='dataset_birds\\test\\AUSTRAL CANASTERO\\3.jpg'/></div><div class=\"zoom\"><img style='width: 100px; height: 100px; margin: 1px; float: left; border: 0px solid black;'title=['AUSTRAL CANASTERO'] src='dataset_birds\\test\\AUSTRAL CANASTERO\\4.jpg'/></div><div class=\"zoom\"><img style='width: 100px; height: 100px; margin: 1px; float: left; border: 0px solid black;'title=['AUSTRAL CANASTERO'] src='dataset_birds\\test\\AUSTRAL CANASTERO\\5.jpg'/></div>"
      ],
      "text/plain": [
       "<IPython.core.display.HTML object>"
      ]
     },
     "metadata": {},
     "output_type": "display_data"
    },
    {
     "name": "stdout",
     "output_type": "stream",
     "text": [
      "Drawing AUSTRALASIAN FIGBIRD\n"
     ]
    },
    {
     "data": {
      "text/html": [
       "<div class=\"zoom\"><img style='width: 100px; height: 100px; margin: 1px; float: left; border: 0px solid black;'title=['AUSTRALASIAN FIGBIRD'] src='dataset_birds\\test\\AUSTRALASIAN FIGBIRD\\1.jpg'/></div><div class=\"zoom\"><img style='width: 100px; height: 100px; margin: 1px; float: left; border: 0px solid black;'title=['AUSTRALASIAN FIGBIRD'] src='dataset_birds\\test\\AUSTRALASIAN FIGBIRD\\2.jpg'/></div><div class=\"zoom\"><img style='width: 100px; height: 100px; margin: 1px; float: left; border: 0px solid black;'title=['AUSTRALASIAN FIGBIRD'] src='dataset_birds\\test\\AUSTRALASIAN FIGBIRD\\3.jpg'/></div><div class=\"zoom\"><img style='width: 100px; height: 100px; margin: 1px; float: left; border: 0px solid black;'title=['AUSTRALASIAN FIGBIRD'] src='dataset_birds\\test\\AUSTRALASIAN FIGBIRD\\4.jpg'/></div><div class=\"zoom\"><img style='width: 100px; height: 100px; margin: 1px; float: left; border: 0px solid black;'title=['AUSTRALASIAN FIGBIRD'] src='dataset_birds\\test\\AUSTRALASIAN FIGBIRD\\5.jpg'/></div>"
      ],
      "text/plain": [
       "<IPython.core.display.HTML object>"
      ]
     },
     "metadata": {},
     "output_type": "display_data"
    },
    {
     "name": "stdout",
     "output_type": "stream",
     "text": [
      "Drawing AVADAVAT\n"
     ]
    },
    {
     "data": {
      "text/html": [
       "<div class=\"zoom\"><img style='width: 100px; height: 100px; margin: 1px; float: left; border: 0px solid black;'title=['AVADAVAT'] src='dataset_birds\\test\\AVADAVAT\\1.jpg'/></div><div class=\"zoom\"><img style='width: 100px; height: 100px; margin: 1px; float: left; border: 0px solid black;'title=['AVADAVAT'] src='dataset_birds\\test\\AVADAVAT\\2.jpg'/></div><div class=\"zoom\"><img style='width: 100px; height: 100px; margin: 1px; float: left; border: 0px solid black;'title=['AVADAVAT'] src='dataset_birds\\test\\AVADAVAT\\3.jpg'/></div><div class=\"zoom\"><img style='width: 100px; height: 100px; margin: 1px; float: left; border: 0px solid black;'title=['AVADAVAT'] src='dataset_birds\\test\\AVADAVAT\\4.jpg'/></div><div class=\"zoom\"><img style='width: 100px; height: 100px; margin: 1px; float: left; border: 0px solid black;'title=['AVADAVAT'] src='dataset_birds\\test\\AVADAVAT\\5.jpg'/></div>"
      ],
      "text/plain": [
       "<IPython.core.display.HTML object>"
      ]
     },
     "metadata": {},
     "output_type": "display_data"
    },
    {
     "name": "stdout",
     "output_type": "stream",
     "text": [
      "Drawing AZARAS SPINETAIL\n"
     ]
    },
    {
     "data": {
      "text/html": [
       "<div class=\"zoom\"><img style='width: 100px; height: 100px; margin: 1px; float: left; border: 0px solid black;'title=['AZARAS SPINETAIL'] src='dataset_birds\\test\\AZARAS SPINETAIL\\1.jpg'/></div><div class=\"zoom\"><img style='width: 100px; height: 100px; margin: 1px; float: left; border: 0px solid black;'title=['AZARAS SPINETAIL'] src='dataset_birds\\test\\AZARAS SPINETAIL\\2.jpg'/></div><div class=\"zoom\"><img style='width: 100px; height: 100px; margin: 1px; float: left; border: 0px solid black;'title=['AZARAS SPINETAIL'] src='dataset_birds\\test\\AZARAS SPINETAIL\\3.jpg'/></div><div class=\"zoom\"><img style='width: 100px; height: 100px; margin: 1px; float: left; border: 0px solid black;'title=['AZARAS SPINETAIL'] src='dataset_birds\\test\\AZARAS SPINETAIL\\4.jpg'/></div><div class=\"zoom\"><img style='width: 100px; height: 100px; margin: 1px; float: left; border: 0px solid black;'title=['AZARAS SPINETAIL'] src='dataset_birds\\test\\AZARAS SPINETAIL\\5.jpg'/></div>"
      ],
      "text/plain": [
       "<IPython.core.display.HTML object>"
      ]
     },
     "metadata": {},
     "output_type": "display_data"
    },
    {
     "name": "stdout",
     "output_type": "stream",
     "text": [
      "Drawing AZURE BREASTED PITTA\n"
     ]
    },
    {
     "data": {
      "text/html": [
       "<div class=\"zoom\"><img style='width: 100px; height: 100px; margin: 1px; float: left; border: 0px solid black;'title=['AZURE BREASTED PITTA'] src='dataset_birds\\test\\AZURE BREASTED PITTA\\1.jpg'/></div><div class=\"zoom\"><img style='width: 100px; height: 100px; margin: 1px; float: left; border: 0px solid black;'title=['AZURE BREASTED PITTA'] src='dataset_birds\\test\\AZURE BREASTED PITTA\\2.jpg'/></div><div class=\"zoom\"><img style='width: 100px; height: 100px; margin: 1px; float: left; border: 0px solid black;'title=['AZURE BREASTED PITTA'] src='dataset_birds\\test\\AZURE BREASTED PITTA\\3.jpg'/></div><div class=\"zoom\"><img style='width: 100px; height: 100px; margin: 1px; float: left; border: 0px solid black;'title=['AZURE BREASTED PITTA'] src='dataset_birds\\test\\AZURE BREASTED PITTA\\4.jpg'/></div><div class=\"zoom\"><img style='width: 100px; height: 100px; margin: 1px; float: left; border: 0px solid black;'title=['AZURE BREASTED PITTA'] src='dataset_birds\\test\\AZURE BREASTED PITTA\\5.jpg'/></div>"
      ],
      "text/plain": [
       "<IPython.core.display.HTML object>"
      ]
     },
     "metadata": {},
     "output_type": "display_data"
    },
    {
     "name": "stdout",
     "output_type": "stream",
     "text": [
      "Drawing AZURE JAY\n"
     ]
    },
    {
     "data": {
      "text/html": [
       "<div class=\"zoom\"><img style='width: 100px; height: 100px; margin: 1px; float: left; border: 0px solid black;'title=['AZURE JAY'] src='dataset_birds\\test\\AZURE JAY\\1.jpg'/></div><div class=\"zoom\"><img style='width: 100px; height: 100px; margin: 1px; float: left; border: 0px solid black;'title=['AZURE JAY'] src='dataset_birds\\test\\AZURE JAY\\2.jpg'/></div><div class=\"zoom\"><img style='width: 100px; height: 100px; margin: 1px; float: left; border: 0px solid black;'title=['AZURE JAY'] src='dataset_birds\\test\\AZURE JAY\\3.jpg'/></div><div class=\"zoom\"><img style='width: 100px; height: 100px; margin: 1px; float: left; border: 0px solid black;'title=['AZURE JAY'] src='dataset_birds\\test\\AZURE JAY\\4.jpg'/></div><div class=\"zoom\"><img style='width: 100px; height: 100px; margin: 1px; float: left; border: 0px solid black;'title=['AZURE JAY'] src='dataset_birds\\test\\AZURE JAY\\5.jpg'/></div>"
      ],
      "text/plain": [
       "<IPython.core.display.HTML object>"
      ]
     },
     "metadata": {},
     "output_type": "display_data"
    },
    {
     "name": "stdout",
     "output_type": "stream",
     "text": [
      "Drawing AZURE TANAGER\n"
     ]
    },
    {
     "data": {
      "text/html": [
       "<div class=\"zoom\"><img style='width: 100px; height: 100px; margin: 1px; float: left; border: 0px solid black;'title=['AZURE TANAGER'] src='dataset_birds\\test\\AZURE TANAGER\\1.jpg'/></div><div class=\"zoom\"><img style='width: 100px; height: 100px; margin: 1px; float: left; border: 0px solid black;'title=['AZURE TANAGER'] src='dataset_birds\\test\\AZURE TANAGER\\2.jpg'/></div><div class=\"zoom\"><img style='width: 100px; height: 100px; margin: 1px; float: left; border: 0px solid black;'title=['AZURE TANAGER'] src='dataset_birds\\test\\AZURE TANAGER\\3.jpg'/></div><div class=\"zoom\"><img style='width: 100px; height: 100px; margin: 1px; float: left; border: 0px solid black;'title=['AZURE TANAGER'] src='dataset_birds\\test\\AZURE TANAGER\\4.jpg'/></div><div class=\"zoom\"><img style='width: 100px; height: 100px; margin: 1px; float: left; border: 0px solid black;'title=['AZURE TANAGER'] src='dataset_birds\\test\\AZURE TANAGER\\5.jpg'/></div>"
      ],
      "text/plain": [
       "<IPython.core.display.HTML object>"
      ]
     },
     "metadata": {},
     "output_type": "display_data"
    },
    {
     "name": "stdout",
     "output_type": "stream",
     "text": [
      "Drawing AZURE TIT\n"
     ]
    },
    {
     "data": {
      "text/html": [
       "<div class=\"zoom\"><img style='width: 100px; height: 100px; margin: 1px; float: left; border: 0px solid black;'title=['AZURE TIT'] src='dataset_birds\\test\\AZURE TIT\\1.jpg'/></div><div class=\"zoom\"><img style='width: 100px; height: 100px; margin: 1px; float: left; border: 0px solid black;'title=['AZURE TIT'] src='dataset_birds\\test\\AZURE TIT\\2.jpg'/></div><div class=\"zoom\"><img style='width: 100px; height: 100px; margin: 1px; float: left; border: 0px solid black;'title=['AZURE TIT'] src='dataset_birds\\test\\AZURE TIT\\3.jpg'/></div><div class=\"zoom\"><img style='width: 100px; height: 100px; margin: 1px; float: left; border: 0px solid black;'title=['AZURE TIT'] src='dataset_birds\\test\\AZURE TIT\\4.jpg'/></div><div class=\"zoom\"><img style='width: 100px; height: 100px; margin: 1px; float: left; border: 0px solid black;'title=['AZURE TIT'] src='dataset_birds\\test\\AZURE TIT\\5.jpg'/></div>"
      ],
      "text/plain": [
       "<IPython.core.display.HTML object>"
      ]
     },
     "metadata": {},
     "output_type": "display_data"
    },
    {
     "name": "stdout",
     "output_type": "stream",
     "text": [
      "Drawing BAIKAL TEAL\n"
     ]
    },
    {
     "data": {
      "text/html": [
       "<div class=\"zoom\"><img style='width: 100px; height: 100px; margin: 1px; float: left; border: 0px solid black;'title=['BAIKAL TEAL'] src='dataset_birds\\test\\BAIKAL TEAL\\1.jpg'/></div><div class=\"zoom\"><img style='width: 100px; height: 100px; margin: 1px; float: left; border: 0px solid black;'title=['BAIKAL TEAL'] src='dataset_birds\\test\\BAIKAL TEAL\\2.jpg'/></div><div class=\"zoom\"><img style='width: 100px; height: 100px; margin: 1px; float: left; border: 0px solid black;'title=['BAIKAL TEAL'] src='dataset_birds\\test\\BAIKAL TEAL\\3.jpg'/></div><div class=\"zoom\"><img style='width: 100px; height: 100px; margin: 1px; float: left; border: 0px solid black;'title=['BAIKAL TEAL'] src='dataset_birds\\test\\BAIKAL TEAL\\4.jpg'/></div><div class=\"zoom\"><img style='width: 100px; height: 100px; margin: 1px; float: left; border: 0px solid black;'title=['BAIKAL TEAL'] src='dataset_birds\\test\\BAIKAL TEAL\\5.jpg'/></div>"
      ],
      "text/plain": [
       "<IPython.core.display.HTML object>"
      ]
     },
     "metadata": {},
     "output_type": "display_data"
    },
    {
     "name": "stdout",
     "output_type": "stream",
     "text": [
      "Drawing BALD EAGLE\n"
     ]
    },
    {
     "data": {
      "text/html": [
       "<div class=\"zoom\"><img style='width: 100px; height: 100px; margin: 1px; float: left; border: 0px solid black;'title=['BALD EAGLE'] src='dataset_birds\\test\\BALD EAGLE\\1.jpg'/></div><div class=\"zoom\"><img style='width: 100px; height: 100px; margin: 1px; float: left; border: 0px solid black;'title=['BALD EAGLE'] src='dataset_birds\\test\\BALD EAGLE\\2.jpg'/></div><div class=\"zoom\"><img style='width: 100px; height: 100px; margin: 1px; float: left; border: 0px solid black;'title=['BALD EAGLE'] src='dataset_birds\\test\\BALD EAGLE\\3.jpg'/></div><div class=\"zoom\"><img style='width: 100px; height: 100px; margin: 1px; float: left; border: 0px solid black;'title=['BALD EAGLE'] src='dataset_birds\\test\\BALD EAGLE\\4.jpg'/></div><div class=\"zoom\"><img style='width: 100px; height: 100px; margin: 1px; float: left; border: 0px solid black;'title=['BALD EAGLE'] src='dataset_birds\\test\\BALD EAGLE\\5.jpg'/></div>"
      ],
      "text/plain": [
       "<IPython.core.display.HTML object>"
      ]
     },
     "metadata": {},
     "output_type": "display_data"
    },
    {
     "name": "stdout",
     "output_type": "stream",
     "text": [
      "Drawing BALD IBIS\n"
     ]
    },
    {
     "data": {
      "text/html": [
       "<div class=\"zoom\"><img style='width: 100px; height: 100px; margin: 1px; float: left; border: 0px solid black;'title=['BALD IBIS'] src='dataset_birds\\test\\BALD IBIS\\1.jpg'/></div><div class=\"zoom\"><img style='width: 100px; height: 100px; margin: 1px; float: left; border: 0px solid black;'title=['BALD IBIS'] src='dataset_birds\\test\\BALD IBIS\\2.jpg'/></div><div class=\"zoom\"><img style='width: 100px; height: 100px; margin: 1px; float: left; border: 0px solid black;'title=['BALD IBIS'] src='dataset_birds\\test\\BALD IBIS\\3.jpg'/></div><div class=\"zoom\"><img style='width: 100px; height: 100px; margin: 1px; float: left; border: 0px solid black;'title=['BALD IBIS'] src='dataset_birds\\test\\BALD IBIS\\4.jpg'/></div><div class=\"zoom\"><img style='width: 100px; height: 100px; margin: 1px; float: left; border: 0px solid black;'title=['BALD IBIS'] src='dataset_birds\\test\\BALD IBIS\\5.jpg'/></div>"
      ],
      "text/plain": [
       "<IPython.core.display.HTML object>"
      ]
     },
     "metadata": {},
     "output_type": "display_data"
    },
    {
     "name": "stdout",
     "output_type": "stream",
     "text": [
      "Drawing BALI STARLING\n"
     ]
    },
    {
     "data": {
      "text/html": [
       "<div class=\"zoom\"><img style='width: 100px; height: 100px; margin: 1px; float: left; border: 0px solid black;'title=['BALI STARLING'] src='dataset_birds\\test\\BALI STARLING\\1.jpg'/></div><div class=\"zoom\"><img style='width: 100px; height: 100px; margin: 1px; float: left; border: 0px solid black;'title=['BALI STARLING'] src='dataset_birds\\test\\BALI STARLING\\2.jpg'/></div><div class=\"zoom\"><img style='width: 100px; height: 100px; margin: 1px; float: left; border: 0px solid black;'title=['BALI STARLING'] src='dataset_birds\\test\\BALI STARLING\\3.jpg'/></div><div class=\"zoom\"><img style='width: 100px; height: 100px; margin: 1px; float: left; border: 0px solid black;'title=['BALI STARLING'] src='dataset_birds\\test\\BALI STARLING\\4.jpg'/></div><div class=\"zoom\"><img style='width: 100px; height: 100px; margin: 1px; float: left; border: 0px solid black;'title=['BALI STARLING'] src='dataset_birds\\test\\BALI STARLING\\5.jpg'/></div>"
      ],
      "text/plain": [
       "<IPython.core.display.HTML object>"
      ]
     },
     "metadata": {},
     "output_type": "display_data"
    },
    {
     "name": "stdout",
     "output_type": "stream",
     "text": [
      "Drawing BALTIMORE ORIOLE\n"
     ]
    },
    {
     "data": {
      "text/html": [
       "<div class=\"zoom\"><img style='width: 100px; height: 100px; margin: 1px; float: left; border: 0px solid black;'title=['BALTIMORE ORIOLE'] src='dataset_birds\\test\\BALTIMORE ORIOLE\\1.jpg'/></div><div class=\"zoom\"><img style='width: 100px; height: 100px; margin: 1px; float: left; border: 0px solid black;'title=['BALTIMORE ORIOLE'] src='dataset_birds\\test\\BALTIMORE ORIOLE\\2.jpg'/></div><div class=\"zoom\"><img style='width: 100px; height: 100px; margin: 1px; float: left; border: 0px solid black;'title=['BALTIMORE ORIOLE'] src='dataset_birds\\test\\BALTIMORE ORIOLE\\3.jpg'/></div><div class=\"zoom\"><img style='width: 100px; height: 100px; margin: 1px; float: left; border: 0px solid black;'title=['BALTIMORE ORIOLE'] src='dataset_birds\\test\\BALTIMORE ORIOLE\\4.jpg'/></div><div class=\"zoom\"><img style='width: 100px; height: 100px; margin: 1px; float: left; border: 0px solid black;'title=['BALTIMORE ORIOLE'] src='dataset_birds\\test\\BALTIMORE ORIOLE\\5.jpg'/></div>"
      ],
      "text/plain": [
       "<IPython.core.display.HTML object>"
      ]
     },
     "metadata": {},
     "output_type": "display_data"
    },
    {
     "name": "stdout",
     "output_type": "stream",
     "text": [
      "Drawing BANANAQUIT\n"
     ]
    },
    {
     "data": {
      "text/html": [
       "<div class=\"zoom\"><img style='width: 100px; height: 100px; margin: 1px; float: left; border: 0px solid black;'title=['BANANAQUIT'] src='dataset_birds\\test\\BANANAQUIT\\1.jpg'/></div><div class=\"zoom\"><img style='width: 100px; height: 100px; margin: 1px; float: left; border: 0px solid black;'title=['BANANAQUIT'] src='dataset_birds\\test\\BANANAQUIT\\2.jpg'/></div><div class=\"zoom\"><img style='width: 100px; height: 100px; margin: 1px; float: left; border: 0px solid black;'title=['BANANAQUIT'] src='dataset_birds\\test\\BANANAQUIT\\3.jpg'/></div><div class=\"zoom\"><img style='width: 100px; height: 100px; margin: 1px; float: left; border: 0px solid black;'title=['BANANAQUIT'] src='dataset_birds\\test\\BANANAQUIT\\4.jpg'/></div><div class=\"zoom\"><img style='width: 100px; height: 100px; margin: 1px; float: left; border: 0px solid black;'title=['BANANAQUIT'] src='dataset_birds\\test\\BANANAQUIT\\5.jpg'/></div>"
      ],
      "text/plain": [
       "<IPython.core.display.HTML object>"
      ]
     },
     "metadata": {},
     "output_type": "display_data"
    },
    {
     "name": "stdout",
     "output_type": "stream",
     "text": [
      "Drawing BAND TAILED GUAN\n"
     ]
    },
    {
     "data": {
      "text/html": [
       "<div class=\"zoom\"><img style='width: 100px; height: 100px; margin: 1px; float: left; border: 0px solid black;'title=['BAND TAILED GUAN'] src='dataset_birds\\test\\BAND TAILED GUAN\\1.jpg'/></div><div class=\"zoom\"><img style='width: 100px; height: 100px; margin: 1px; float: left; border: 0px solid black;'title=['BAND TAILED GUAN'] src='dataset_birds\\test\\BAND TAILED GUAN\\2.jpg'/></div><div class=\"zoom\"><img style='width: 100px; height: 100px; margin: 1px; float: left; border: 0px solid black;'title=['BAND TAILED GUAN'] src='dataset_birds\\test\\BAND TAILED GUAN\\3.jpg'/></div><div class=\"zoom\"><img style='width: 100px; height: 100px; margin: 1px; float: left; border: 0px solid black;'title=['BAND TAILED GUAN'] src='dataset_birds\\test\\BAND TAILED GUAN\\4.jpg'/></div><div class=\"zoom\"><img style='width: 100px; height: 100px; margin: 1px; float: left; border: 0px solid black;'title=['BAND TAILED GUAN'] src='dataset_birds\\test\\BAND TAILED GUAN\\5.jpg'/></div>"
      ],
      "text/plain": [
       "<IPython.core.display.HTML object>"
      ]
     },
     "metadata": {},
     "output_type": "display_data"
    },
    {
     "name": "stdout",
     "output_type": "stream",
     "text": [
      "Drawing BANDED BROADBILL\n"
     ]
    },
    {
     "data": {
      "text/html": [
       "<div class=\"zoom\"><img style='width: 100px; height: 100px; margin: 1px; float: left; border: 0px solid black;'title=['BANDED BROADBILL'] src='dataset_birds\\test\\BANDED BROADBILL\\1.jpg'/></div><div class=\"zoom\"><img style='width: 100px; height: 100px; margin: 1px; float: left; border: 0px solid black;'title=['BANDED BROADBILL'] src='dataset_birds\\test\\BANDED BROADBILL\\2.jpg'/></div><div class=\"zoom\"><img style='width: 100px; height: 100px; margin: 1px; float: left; border: 0px solid black;'title=['BANDED BROADBILL'] src='dataset_birds\\test\\BANDED BROADBILL\\3.jpg'/></div><div class=\"zoom\"><img style='width: 100px; height: 100px; margin: 1px; float: left; border: 0px solid black;'title=['BANDED BROADBILL'] src='dataset_birds\\test\\BANDED BROADBILL\\4.jpg'/></div><div class=\"zoom\"><img style='width: 100px; height: 100px; margin: 1px; float: left; border: 0px solid black;'title=['BANDED BROADBILL'] src='dataset_birds\\test\\BANDED BROADBILL\\5.jpg'/></div>"
      ],
      "text/plain": [
       "<IPython.core.display.HTML object>"
      ]
     },
     "metadata": {},
     "output_type": "display_data"
    },
    {
     "name": "stdout",
     "output_type": "stream",
     "text": [
      "Drawing BANDED PITA\n"
     ]
    },
    {
     "data": {
      "text/html": [
       "<div class=\"zoom\"><img style='width: 100px; height: 100px; margin: 1px; float: left; border: 0px solid black;'title=['BANDED PITA'] src='dataset_birds\\test\\BANDED PITA\\1.jpg'/></div><div class=\"zoom\"><img style='width: 100px; height: 100px; margin: 1px; float: left; border: 0px solid black;'title=['BANDED PITA'] src='dataset_birds\\test\\BANDED PITA\\2.jpg'/></div><div class=\"zoom\"><img style='width: 100px; height: 100px; margin: 1px; float: left; border: 0px solid black;'title=['BANDED PITA'] src='dataset_birds\\test\\BANDED PITA\\3.jpg'/></div><div class=\"zoom\"><img style='width: 100px; height: 100px; margin: 1px; float: left; border: 0px solid black;'title=['BANDED PITA'] src='dataset_birds\\test\\BANDED PITA\\4.jpg'/></div><div class=\"zoom\"><img style='width: 100px; height: 100px; margin: 1px; float: left; border: 0px solid black;'title=['BANDED PITA'] src='dataset_birds\\test\\BANDED PITA\\5.jpg'/></div>"
      ],
      "text/plain": [
       "<IPython.core.display.HTML object>"
      ]
     },
     "metadata": {},
     "output_type": "display_data"
    },
    {
     "name": "stdout",
     "output_type": "stream",
     "text": [
      "Drawing BANDED STILT\n"
     ]
    },
    {
     "data": {
      "text/html": [
       "<div class=\"zoom\"><img style='width: 100px; height: 100px; margin: 1px; float: left; border: 0px solid black;'title=['BANDED STILT'] src='dataset_birds\\test\\BANDED STILT\\1.jpg'/></div><div class=\"zoom\"><img style='width: 100px; height: 100px; margin: 1px; float: left; border: 0px solid black;'title=['BANDED STILT'] src='dataset_birds\\test\\BANDED STILT\\2.jpg'/></div><div class=\"zoom\"><img style='width: 100px; height: 100px; margin: 1px; float: left; border: 0px solid black;'title=['BANDED STILT'] src='dataset_birds\\test\\BANDED STILT\\3.jpg'/></div><div class=\"zoom\"><img style='width: 100px; height: 100px; margin: 1px; float: left; border: 0px solid black;'title=['BANDED STILT'] src='dataset_birds\\test\\BANDED STILT\\4.jpg'/></div><div class=\"zoom\"><img style='width: 100px; height: 100px; margin: 1px; float: left; border: 0px solid black;'title=['BANDED STILT'] src='dataset_birds\\test\\BANDED STILT\\5.jpg'/></div>"
      ],
      "text/plain": [
       "<IPython.core.display.HTML object>"
      ]
     },
     "metadata": {},
     "output_type": "display_data"
    },
    {
     "name": "stdout",
     "output_type": "stream",
     "text": [
      "Drawing BAR-TAILED GODWIT\n"
     ]
    },
    {
     "data": {
      "text/html": [
       "<div class=\"zoom\"><img style='width: 100px; height: 100px; margin: 1px; float: left; border: 0px solid black;'title=['BAR-TAILED GODWIT'] src='dataset_birds\\test\\BAR-TAILED GODWIT\\1.jpg'/></div><div class=\"zoom\"><img style='width: 100px; height: 100px; margin: 1px; float: left; border: 0px solid black;'title=['BAR-TAILED GODWIT'] src='dataset_birds\\test\\BAR-TAILED GODWIT\\2.jpg'/></div><div class=\"zoom\"><img style='width: 100px; height: 100px; margin: 1px; float: left; border: 0px solid black;'title=['BAR-TAILED GODWIT'] src='dataset_birds\\test\\BAR-TAILED GODWIT\\3.jpg'/></div><div class=\"zoom\"><img style='width: 100px; height: 100px; margin: 1px; float: left; border: 0px solid black;'title=['BAR-TAILED GODWIT'] src='dataset_birds\\test\\BAR-TAILED GODWIT\\4.jpg'/></div><div class=\"zoom\"><img style='width: 100px; height: 100px; margin: 1px; float: left; border: 0px solid black;'title=['BAR-TAILED GODWIT'] src='dataset_birds\\test\\BAR-TAILED GODWIT\\5.jpg'/></div>"
      ],
      "text/plain": [
       "<IPython.core.display.HTML object>"
      ]
     },
     "metadata": {},
     "output_type": "display_data"
    },
    {
     "name": "stdout",
     "output_type": "stream",
     "text": [
      "Drawing BARN OWL\n"
     ]
    },
    {
     "data": {
      "text/html": [
       "<div class=\"zoom\"><img style='width: 100px; height: 100px; margin: 1px; float: left; border: 0px solid black;'title=['BARN OWL'] src='dataset_birds\\test\\BARN OWL\\1.jpg'/></div><div class=\"zoom\"><img style='width: 100px; height: 100px; margin: 1px; float: left; border: 0px solid black;'title=['BARN OWL'] src='dataset_birds\\test\\BARN OWL\\2.jpg'/></div><div class=\"zoom\"><img style='width: 100px; height: 100px; margin: 1px; float: left; border: 0px solid black;'title=['BARN OWL'] src='dataset_birds\\test\\BARN OWL\\3.jpg'/></div><div class=\"zoom\"><img style='width: 100px; height: 100px; margin: 1px; float: left; border: 0px solid black;'title=['BARN OWL'] src='dataset_birds\\test\\BARN OWL\\4.jpg'/></div><div class=\"zoom\"><img style='width: 100px; height: 100px; margin: 1px; float: left; border: 0px solid black;'title=['BARN OWL'] src='dataset_birds\\test\\BARN OWL\\5.jpg'/></div>"
      ],
      "text/plain": [
       "<IPython.core.display.HTML object>"
      ]
     },
     "metadata": {},
     "output_type": "display_data"
    },
    {
     "name": "stdout",
     "output_type": "stream",
     "text": [
      "Drawing BARN SWALLOW\n"
     ]
    },
    {
     "data": {
      "text/html": [
       "<div class=\"zoom\"><img style='width: 100px; height: 100px; margin: 1px; float: left; border: 0px solid black;'title=['BARN SWALLOW'] src='dataset_birds\\test\\BARN SWALLOW\\1.jpg'/></div><div class=\"zoom\"><img style='width: 100px; height: 100px; margin: 1px; float: left; border: 0px solid black;'title=['BARN SWALLOW'] src='dataset_birds\\test\\BARN SWALLOW\\2.jpg'/></div><div class=\"zoom\"><img style='width: 100px; height: 100px; margin: 1px; float: left; border: 0px solid black;'title=['BARN SWALLOW'] src='dataset_birds\\test\\BARN SWALLOW\\3.jpg'/></div><div class=\"zoom\"><img style='width: 100px; height: 100px; margin: 1px; float: left; border: 0px solid black;'title=['BARN SWALLOW'] src='dataset_birds\\test\\BARN SWALLOW\\4.jpg'/></div><div class=\"zoom\"><img style='width: 100px; height: 100px; margin: 1px; float: left; border: 0px solid black;'title=['BARN SWALLOW'] src='dataset_birds\\test\\BARN SWALLOW\\5.jpg'/></div>"
      ],
      "text/plain": [
       "<IPython.core.display.HTML object>"
      ]
     },
     "metadata": {},
     "output_type": "display_data"
    },
    {
     "name": "stdout",
     "output_type": "stream",
     "text": [
      "Drawing BARRED PUFFBIRD\n"
     ]
    },
    {
     "data": {
      "text/html": [
       "<div class=\"zoom\"><img style='width: 100px; height: 100px; margin: 1px; float: left; border: 0px solid black;'title=['BARRED PUFFBIRD'] src='dataset_birds\\test\\BARRED PUFFBIRD\\1.jpg'/></div><div class=\"zoom\"><img style='width: 100px; height: 100px; margin: 1px; float: left; border: 0px solid black;'title=['BARRED PUFFBIRD'] src='dataset_birds\\test\\BARRED PUFFBIRD\\2.jpg'/></div><div class=\"zoom\"><img style='width: 100px; height: 100px; margin: 1px; float: left; border: 0px solid black;'title=['BARRED PUFFBIRD'] src='dataset_birds\\test\\BARRED PUFFBIRD\\3.jpg'/></div><div class=\"zoom\"><img style='width: 100px; height: 100px; margin: 1px; float: left; border: 0px solid black;'title=['BARRED PUFFBIRD'] src='dataset_birds\\test\\BARRED PUFFBIRD\\4.jpg'/></div><div class=\"zoom\"><img style='width: 100px; height: 100px; margin: 1px; float: left; border: 0px solid black;'title=['BARRED PUFFBIRD'] src='dataset_birds\\test\\BARRED PUFFBIRD\\5.jpg'/></div>"
      ],
      "text/plain": [
       "<IPython.core.display.HTML object>"
      ]
     },
     "metadata": {},
     "output_type": "display_data"
    },
    {
     "name": "stdout",
     "output_type": "stream",
     "text": [
      "Drawing BARROWS GOLDENEYE\n"
     ]
    },
    {
     "data": {
      "text/html": [
       "<div class=\"zoom\"><img style='width: 100px; height: 100px; margin: 1px; float: left; border: 0px solid black;'title=['BARROWS GOLDENEYE'] src='dataset_birds\\test\\BARROWS GOLDENEYE\\1.jpg'/></div><div class=\"zoom\"><img style='width: 100px; height: 100px; margin: 1px; float: left; border: 0px solid black;'title=['BARROWS GOLDENEYE'] src='dataset_birds\\test\\BARROWS GOLDENEYE\\2.jpg'/></div><div class=\"zoom\"><img style='width: 100px; height: 100px; margin: 1px; float: left; border: 0px solid black;'title=['BARROWS GOLDENEYE'] src='dataset_birds\\test\\BARROWS GOLDENEYE\\3.jpg'/></div><div class=\"zoom\"><img style='width: 100px; height: 100px; margin: 1px; float: left; border: 0px solid black;'title=['BARROWS GOLDENEYE'] src='dataset_birds\\test\\BARROWS GOLDENEYE\\4.jpg'/></div><div class=\"zoom\"><img style='width: 100px; height: 100px; margin: 1px; float: left; border: 0px solid black;'title=['BARROWS GOLDENEYE'] src='dataset_birds\\test\\BARROWS GOLDENEYE\\5.jpg'/></div>"
      ],
      "text/plain": [
       "<IPython.core.display.HTML object>"
      ]
     },
     "metadata": {},
     "output_type": "display_data"
    },
    {
     "name": "stdout",
     "output_type": "stream",
     "text": [
      "Drawing BAY-BREASTED WARBLER\n"
     ]
    },
    {
     "data": {
      "text/html": [
       "<div class=\"zoom\"><img style='width: 100px; height: 100px; margin: 1px; float: left; border: 0px solid black;'title=['BAY-BREASTED WARBLER'] src='dataset_birds\\test\\BAY-BREASTED WARBLER\\1.jpg'/></div><div class=\"zoom\"><img style='width: 100px; height: 100px; margin: 1px; float: left; border: 0px solid black;'title=['BAY-BREASTED WARBLER'] src='dataset_birds\\test\\BAY-BREASTED WARBLER\\2.jpg'/></div><div class=\"zoom\"><img style='width: 100px; height: 100px; margin: 1px; float: left; border: 0px solid black;'title=['BAY-BREASTED WARBLER'] src='dataset_birds\\test\\BAY-BREASTED WARBLER\\3.jpg'/></div><div class=\"zoom\"><img style='width: 100px; height: 100px; margin: 1px; float: left; border: 0px solid black;'title=['BAY-BREASTED WARBLER'] src='dataset_birds\\test\\BAY-BREASTED WARBLER\\4.jpg'/></div><div class=\"zoom\"><img style='width: 100px; height: 100px; margin: 1px; float: left; border: 0px solid black;'title=['BAY-BREASTED WARBLER'] src='dataset_birds\\test\\BAY-BREASTED WARBLER\\5.jpg'/></div>"
      ],
      "text/plain": [
       "<IPython.core.display.HTML object>"
      ]
     },
     "metadata": {},
     "output_type": "display_data"
    },
    {
     "name": "stdout",
     "output_type": "stream",
     "text": [
      "Drawing BEARDED BARBET\n"
     ]
    },
    {
     "data": {
      "text/html": [
       "<div class=\"zoom\"><img style='width: 100px; height: 100px; margin: 1px; float: left; border: 0px solid black;'title=['BEARDED BARBET'] src='dataset_birds\\test\\BEARDED BARBET\\1.jpg'/></div><div class=\"zoom\"><img style='width: 100px; height: 100px; margin: 1px; float: left; border: 0px solid black;'title=['BEARDED BARBET'] src='dataset_birds\\test\\BEARDED BARBET\\2.jpg'/></div><div class=\"zoom\"><img style='width: 100px; height: 100px; margin: 1px; float: left; border: 0px solid black;'title=['BEARDED BARBET'] src='dataset_birds\\test\\BEARDED BARBET\\3.jpg'/></div><div class=\"zoom\"><img style='width: 100px; height: 100px; margin: 1px; float: left; border: 0px solid black;'title=['BEARDED BARBET'] src='dataset_birds\\test\\BEARDED BARBET\\4.jpg'/></div><div class=\"zoom\"><img style='width: 100px; height: 100px; margin: 1px; float: left; border: 0px solid black;'title=['BEARDED BARBET'] src='dataset_birds\\test\\BEARDED BARBET\\5.jpg'/></div>"
      ],
      "text/plain": [
       "<IPython.core.display.HTML object>"
      ]
     },
     "metadata": {},
     "output_type": "display_data"
    },
    {
     "name": "stdout",
     "output_type": "stream",
     "text": [
      "Drawing BEARDED BELLBIRD\n"
     ]
    },
    {
     "data": {
      "text/html": [
       "<div class=\"zoom\"><img style='width: 100px; height: 100px; margin: 1px; float: left; border: 0px solid black;'title=['BEARDED BELLBIRD'] src='dataset_birds\\test\\BEARDED BELLBIRD\\1.jpg'/></div><div class=\"zoom\"><img style='width: 100px; height: 100px; margin: 1px; float: left; border: 0px solid black;'title=['BEARDED BELLBIRD'] src='dataset_birds\\test\\BEARDED BELLBIRD\\2.jpg'/></div><div class=\"zoom\"><img style='width: 100px; height: 100px; margin: 1px; float: left; border: 0px solid black;'title=['BEARDED BELLBIRD'] src='dataset_birds\\test\\BEARDED BELLBIRD\\3.jpg'/></div><div class=\"zoom\"><img style='width: 100px; height: 100px; margin: 1px; float: left; border: 0px solid black;'title=['BEARDED BELLBIRD'] src='dataset_birds\\test\\BEARDED BELLBIRD\\4.jpg'/></div><div class=\"zoom\"><img style='width: 100px; height: 100px; margin: 1px; float: left; border: 0px solid black;'title=['BEARDED BELLBIRD'] src='dataset_birds\\test\\BEARDED BELLBIRD\\5.jpg'/></div>"
      ],
      "text/plain": [
       "<IPython.core.display.HTML object>"
      ]
     },
     "metadata": {},
     "output_type": "display_data"
    },
    {
     "name": "stdout",
     "output_type": "stream",
     "text": [
      "Drawing BEARDED REEDLING\n"
     ]
    },
    {
     "data": {
      "text/html": [
       "<div class=\"zoom\"><img style='width: 100px; height: 100px; margin: 1px; float: left; border: 0px solid black;'title=['BEARDED REEDLING'] src='dataset_birds\\test\\BEARDED REEDLING\\1.jpg'/></div><div class=\"zoom\"><img style='width: 100px; height: 100px; margin: 1px; float: left; border: 0px solid black;'title=['BEARDED REEDLING'] src='dataset_birds\\test\\BEARDED REEDLING\\2.jpg'/></div><div class=\"zoom\"><img style='width: 100px; height: 100px; margin: 1px; float: left; border: 0px solid black;'title=['BEARDED REEDLING'] src='dataset_birds\\test\\BEARDED REEDLING\\3.jpg'/></div><div class=\"zoom\"><img style='width: 100px; height: 100px; margin: 1px; float: left; border: 0px solid black;'title=['BEARDED REEDLING'] src='dataset_birds\\test\\BEARDED REEDLING\\4.jpg'/></div><div class=\"zoom\"><img style='width: 100px; height: 100px; margin: 1px; float: left; border: 0px solid black;'title=['BEARDED REEDLING'] src='dataset_birds\\test\\BEARDED REEDLING\\5.jpg'/></div>"
      ],
      "text/plain": [
       "<IPython.core.display.HTML object>"
      ]
     },
     "metadata": {},
     "output_type": "display_data"
    },
    {
     "name": "stdout",
     "output_type": "stream",
     "text": [
      "Drawing BELTED KINGFISHER\n"
     ]
    },
    {
     "data": {
      "text/html": [
       "<div class=\"zoom\"><img style='width: 100px; height: 100px; margin: 1px; float: left; border: 0px solid black;'title=['BELTED KINGFISHER'] src='dataset_birds\\test\\BELTED KINGFISHER\\1.jpg'/></div><div class=\"zoom\"><img style='width: 100px; height: 100px; margin: 1px; float: left; border: 0px solid black;'title=['BELTED KINGFISHER'] src='dataset_birds\\test\\BELTED KINGFISHER\\2.jpg'/></div><div class=\"zoom\"><img style='width: 100px; height: 100px; margin: 1px; float: left; border: 0px solid black;'title=['BELTED KINGFISHER'] src='dataset_birds\\test\\BELTED KINGFISHER\\3.jpg'/></div><div class=\"zoom\"><img style='width: 100px; height: 100px; margin: 1px; float: left; border: 0px solid black;'title=['BELTED KINGFISHER'] src='dataset_birds\\test\\BELTED KINGFISHER\\4.jpg'/></div><div class=\"zoom\"><img style='width: 100px; height: 100px; margin: 1px; float: left; border: 0px solid black;'title=['BELTED KINGFISHER'] src='dataset_birds\\test\\BELTED KINGFISHER\\5.jpg'/></div>"
      ],
      "text/plain": [
       "<IPython.core.display.HTML object>"
      ]
     },
     "metadata": {},
     "output_type": "display_data"
    },
    {
     "name": "stdout",
     "output_type": "stream",
     "text": [
      "Drawing BIRD OF PARADISE\n"
     ]
    },
    {
     "data": {
      "text/html": [
       "<div class=\"zoom\"><img style='width: 100px; height: 100px; margin: 1px; float: left; border: 0px solid black;'title=['BIRD OF PARADISE'] src='dataset_birds\\test\\BIRD OF PARADISE\\1.jpg'/></div><div class=\"zoom\"><img style='width: 100px; height: 100px; margin: 1px; float: left; border: 0px solid black;'title=['BIRD OF PARADISE'] src='dataset_birds\\test\\BIRD OF PARADISE\\2.jpg'/></div><div class=\"zoom\"><img style='width: 100px; height: 100px; margin: 1px; float: left; border: 0px solid black;'title=['BIRD OF PARADISE'] src='dataset_birds\\test\\BIRD OF PARADISE\\3.jpg'/></div><div class=\"zoom\"><img style='width: 100px; height: 100px; margin: 1px; float: left; border: 0px solid black;'title=['BIRD OF PARADISE'] src='dataset_birds\\test\\BIRD OF PARADISE\\4.jpg'/></div><div class=\"zoom\"><img style='width: 100px; height: 100px; margin: 1px; float: left; border: 0px solid black;'title=['BIRD OF PARADISE'] src='dataset_birds\\test\\BIRD OF PARADISE\\5.jpg'/></div>"
      ],
      "text/plain": [
       "<IPython.core.display.HTML object>"
      ]
     },
     "metadata": {},
     "output_type": "display_data"
    },
    {
     "name": "stdout",
     "output_type": "stream",
     "text": [
      "Drawing BLACK AND YELLOW BROADBILL\n"
     ]
    },
    {
     "data": {
      "text/html": [
       "<div class=\"zoom\"><img style='width: 100px; height: 100px; margin: 1px; float: left; border: 0px solid black;'title=['BLACK AND YELLOW BROADBILL'] src='dataset_birds\\test\\BLACK AND YELLOW BROADBILL\\1.jpg'/></div><div class=\"zoom\"><img style='width: 100px; height: 100px; margin: 1px; float: left; border: 0px solid black;'title=['BLACK AND YELLOW BROADBILL'] src='dataset_birds\\test\\BLACK AND YELLOW BROADBILL\\2.jpg'/></div><div class=\"zoom\"><img style='width: 100px; height: 100px; margin: 1px; float: left; border: 0px solid black;'title=['BLACK AND YELLOW BROADBILL'] src='dataset_birds\\test\\BLACK AND YELLOW BROADBILL\\3.jpg'/></div><div class=\"zoom\"><img style='width: 100px; height: 100px; margin: 1px; float: left; border: 0px solid black;'title=['BLACK AND YELLOW BROADBILL'] src='dataset_birds\\test\\BLACK AND YELLOW BROADBILL\\4.jpg'/></div><div class=\"zoom\"><img style='width: 100px; height: 100px; margin: 1px; float: left; border: 0px solid black;'title=['BLACK AND YELLOW BROADBILL'] src='dataset_birds\\test\\BLACK AND YELLOW BROADBILL\\5.jpg'/></div>"
      ],
      "text/plain": [
       "<IPython.core.display.HTML object>"
      ]
     },
     "metadata": {},
     "output_type": "display_data"
    },
    {
     "name": "stdout",
     "output_type": "stream",
     "text": [
      "Drawing BLACK BAZA\n"
     ]
    },
    {
     "data": {
      "text/html": [
       "<div class=\"zoom\"><img style='width: 100px; height: 100px; margin: 1px; float: left; border: 0px solid black;'title=['BLACK BAZA'] src='dataset_birds\\test\\BLACK BAZA\\1.jpg'/></div><div class=\"zoom\"><img style='width: 100px; height: 100px; margin: 1px; float: left; border: 0px solid black;'title=['BLACK BAZA'] src='dataset_birds\\test\\BLACK BAZA\\2.jpg'/></div><div class=\"zoom\"><img style='width: 100px; height: 100px; margin: 1px; float: left; border: 0px solid black;'title=['BLACK BAZA'] src='dataset_birds\\test\\BLACK BAZA\\3.jpg'/></div><div class=\"zoom\"><img style='width: 100px; height: 100px; margin: 1px; float: left; border: 0px solid black;'title=['BLACK BAZA'] src='dataset_birds\\test\\BLACK BAZA\\4.jpg'/></div><div class=\"zoom\"><img style='width: 100px; height: 100px; margin: 1px; float: left; border: 0px solid black;'title=['BLACK BAZA'] src='dataset_birds\\test\\BLACK BAZA\\5.jpg'/></div>"
      ],
      "text/plain": [
       "<IPython.core.display.HTML object>"
      ]
     },
     "metadata": {},
     "output_type": "display_data"
    },
    {
     "name": "stdout",
     "output_type": "stream",
     "text": [
      "Drawing BLACK BREASTED PUFFBIRD\n"
     ]
    },
    {
     "data": {
      "text/html": [
       "<div class=\"zoom\"><img style='width: 100px; height: 100px; margin: 1px; float: left; border: 0px solid black;'title=['BLACK BREASTED PUFFBIRD'] src='dataset_birds\\test\\BLACK BREASTED PUFFBIRD\\1.jpg'/></div><div class=\"zoom\"><img style='width: 100px; height: 100px; margin: 1px; float: left; border: 0px solid black;'title=['BLACK BREASTED PUFFBIRD'] src='dataset_birds\\test\\BLACK BREASTED PUFFBIRD\\2.jpg'/></div><div class=\"zoom\"><img style='width: 100px; height: 100px; margin: 1px; float: left; border: 0px solid black;'title=['BLACK BREASTED PUFFBIRD'] src='dataset_birds\\test\\BLACK BREASTED PUFFBIRD\\3.jpg'/></div><div class=\"zoom\"><img style='width: 100px; height: 100px; margin: 1px; float: left; border: 0px solid black;'title=['BLACK BREASTED PUFFBIRD'] src='dataset_birds\\test\\BLACK BREASTED PUFFBIRD\\4.jpg'/></div><div class=\"zoom\"><img style='width: 100px; height: 100px; margin: 1px; float: left; border: 0px solid black;'title=['BLACK BREASTED PUFFBIRD'] src='dataset_birds\\test\\BLACK BREASTED PUFFBIRD\\5.jpg'/></div>"
      ],
      "text/plain": [
       "<IPython.core.display.HTML object>"
      ]
     },
     "metadata": {},
     "output_type": "display_data"
    },
    {
     "name": "stdout",
     "output_type": "stream",
     "text": [
      "Drawing BLACK COCKATO\n"
     ]
    },
    {
     "data": {
      "text/html": [
       "<div class=\"zoom\"><img style='width: 100px; height: 100px; margin: 1px; float: left; border: 0px solid black;'title=['BLACK COCKATO'] src='dataset_birds\\test\\BLACK COCKATO\\1.jpg'/></div><div class=\"zoom\"><img style='width: 100px; height: 100px; margin: 1px; float: left; border: 0px solid black;'title=['BLACK COCKATO'] src='dataset_birds\\test\\BLACK COCKATO\\2.jpg'/></div><div class=\"zoom\"><img style='width: 100px; height: 100px; margin: 1px; float: left; border: 0px solid black;'title=['BLACK COCKATO'] src='dataset_birds\\test\\BLACK COCKATO\\3.jpg'/></div><div class=\"zoom\"><img style='width: 100px; height: 100px; margin: 1px; float: left; border: 0px solid black;'title=['BLACK COCKATO'] src='dataset_birds\\test\\BLACK COCKATO\\4.jpg'/></div><div class=\"zoom\"><img style='width: 100px; height: 100px; margin: 1px; float: left; border: 0px solid black;'title=['BLACK COCKATO'] src='dataset_birds\\test\\BLACK COCKATO\\5.jpg'/></div>"
      ],
      "text/plain": [
       "<IPython.core.display.HTML object>"
      ]
     },
     "metadata": {},
     "output_type": "display_data"
    },
    {
     "name": "stdout",
     "output_type": "stream",
     "text": [
      "Drawing BLACK FACED SPOONBILL\n"
     ]
    },
    {
     "data": {
      "text/html": [
       "<div class=\"zoom\"><img style='width: 100px; height: 100px; margin: 1px; float: left; border: 0px solid black;'title=['BLACK FACED SPOONBILL'] src='dataset_birds\\test\\BLACK FACED SPOONBILL\\1.jpg'/></div><div class=\"zoom\"><img style='width: 100px; height: 100px; margin: 1px; float: left; border: 0px solid black;'title=['BLACK FACED SPOONBILL'] src='dataset_birds\\test\\BLACK FACED SPOONBILL\\2.jpg'/></div><div class=\"zoom\"><img style='width: 100px; height: 100px; margin: 1px; float: left; border: 0px solid black;'title=['BLACK FACED SPOONBILL'] src='dataset_birds\\test\\BLACK FACED SPOONBILL\\3.jpg'/></div><div class=\"zoom\"><img style='width: 100px; height: 100px; margin: 1px; float: left; border: 0px solid black;'title=['BLACK FACED SPOONBILL'] src='dataset_birds\\test\\BLACK FACED SPOONBILL\\4.jpg'/></div><div class=\"zoom\"><img style='width: 100px; height: 100px; margin: 1px; float: left; border: 0px solid black;'title=['BLACK FACED SPOONBILL'] src='dataset_birds\\test\\BLACK FACED SPOONBILL\\5.jpg'/></div>"
      ],
      "text/plain": [
       "<IPython.core.display.HTML object>"
      ]
     },
     "metadata": {},
     "output_type": "display_data"
    },
    {
     "name": "stdout",
     "output_type": "stream",
     "text": [
      "Drawing BLACK FRANCOLIN\n"
     ]
    },
    {
     "data": {
      "text/html": [
       "<div class=\"zoom\"><img style='width: 100px; height: 100px; margin: 1px; float: left; border: 0px solid black;'title=['BLACK FRANCOLIN'] src='dataset_birds\\test\\BLACK FRANCOLIN\\1.jpg'/></div><div class=\"zoom\"><img style='width: 100px; height: 100px; margin: 1px; float: left; border: 0px solid black;'title=['BLACK FRANCOLIN'] src='dataset_birds\\test\\BLACK FRANCOLIN\\2.jpg'/></div><div class=\"zoom\"><img style='width: 100px; height: 100px; margin: 1px; float: left; border: 0px solid black;'title=['BLACK FRANCOLIN'] src='dataset_birds\\test\\BLACK FRANCOLIN\\3.jpg'/></div><div class=\"zoom\"><img style='width: 100px; height: 100px; margin: 1px; float: left; border: 0px solid black;'title=['BLACK FRANCOLIN'] src='dataset_birds\\test\\BLACK FRANCOLIN\\4.jpg'/></div><div class=\"zoom\"><img style='width: 100px; height: 100px; margin: 1px; float: left; border: 0px solid black;'title=['BLACK FRANCOLIN'] src='dataset_birds\\test\\BLACK FRANCOLIN\\5.jpg'/></div>"
      ],
      "text/plain": [
       "<IPython.core.display.HTML object>"
      ]
     },
     "metadata": {},
     "output_type": "display_data"
    },
    {
     "name": "stdout",
     "output_type": "stream",
     "text": [
      "Drawing BLACK HEADED CAIQUE\n"
     ]
    },
    {
     "data": {
      "text/html": [
       "<div class=\"zoom\"><img style='width: 100px; height: 100px; margin: 1px; float: left; border: 0px solid black;'title=['BLACK HEADED CAIQUE'] src='dataset_birds\\test\\BLACK HEADED CAIQUE\\1.jpg'/></div><div class=\"zoom\"><img style='width: 100px; height: 100px; margin: 1px; float: left; border: 0px solid black;'title=['BLACK HEADED CAIQUE'] src='dataset_birds\\test\\BLACK HEADED CAIQUE\\2.jpg'/></div><div class=\"zoom\"><img style='width: 100px; height: 100px; margin: 1px; float: left; border: 0px solid black;'title=['BLACK HEADED CAIQUE'] src='dataset_birds\\test\\BLACK HEADED CAIQUE\\3.jpg'/></div><div class=\"zoom\"><img style='width: 100px; height: 100px; margin: 1px; float: left; border: 0px solid black;'title=['BLACK HEADED CAIQUE'] src='dataset_birds\\test\\BLACK HEADED CAIQUE\\4.jpg'/></div><div class=\"zoom\"><img style='width: 100px; height: 100px; margin: 1px; float: left; border: 0px solid black;'title=['BLACK HEADED CAIQUE'] src='dataset_birds\\test\\BLACK HEADED CAIQUE\\5.jpg'/></div>"
      ],
      "text/plain": [
       "<IPython.core.display.HTML object>"
      ]
     },
     "metadata": {},
     "output_type": "display_data"
    },
    {
     "name": "stdout",
     "output_type": "stream",
     "text": [
      "Drawing BLACK NECKED STILT\n"
     ]
    },
    {
     "data": {
      "text/html": [
       "<div class=\"zoom\"><img style='width: 100px; height: 100px; margin: 1px; float: left; border: 0px solid black;'title=['BLACK NECKED STILT'] src='dataset_birds\\test\\BLACK NECKED STILT\\1.jpg'/></div><div class=\"zoom\"><img style='width: 100px; height: 100px; margin: 1px; float: left; border: 0px solid black;'title=['BLACK NECKED STILT'] src='dataset_birds\\test\\BLACK NECKED STILT\\2.jpg'/></div><div class=\"zoom\"><img style='width: 100px; height: 100px; margin: 1px; float: left; border: 0px solid black;'title=['BLACK NECKED STILT'] src='dataset_birds\\test\\BLACK NECKED STILT\\3.jpg'/></div><div class=\"zoom\"><img style='width: 100px; height: 100px; margin: 1px; float: left; border: 0px solid black;'title=['BLACK NECKED STILT'] src='dataset_birds\\test\\BLACK NECKED STILT\\4.jpg'/></div><div class=\"zoom\"><img style='width: 100px; height: 100px; margin: 1px; float: left; border: 0px solid black;'title=['BLACK NECKED STILT'] src='dataset_birds\\test\\BLACK NECKED STILT\\5.jpg'/></div>"
      ],
      "text/plain": [
       "<IPython.core.display.HTML object>"
      ]
     },
     "metadata": {},
     "output_type": "display_data"
    },
    {
     "name": "stdout",
     "output_type": "stream",
     "text": [
      "Drawing BLACK SKIMMER\n"
     ]
    },
    {
     "data": {
      "text/html": [
       "<div class=\"zoom\"><img style='width: 100px; height: 100px; margin: 1px; float: left; border: 0px solid black;'title=['BLACK SKIMMER'] src='dataset_birds\\test\\BLACK SKIMMER\\1.jpg'/></div><div class=\"zoom\"><img style='width: 100px; height: 100px; margin: 1px; float: left; border: 0px solid black;'title=['BLACK SKIMMER'] src='dataset_birds\\test\\BLACK SKIMMER\\2.jpg'/></div><div class=\"zoom\"><img style='width: 100px; height: 100px; margin: 1px; float: left; border: 0px solid black;'title=['BLACK SKIMMER'] src='dataset_birds\\test\\BLACK SKIMMER\\3.jpg'/></div><div class=\"zoom\"><img style='width: 100px; height: 100px; margin: 1px; float: left; border: 0px solid black;'title=['BLACK SKIMMER'] src='dataset_birds\\test\\BLACK SKIMMER\\4.jpg'/></div><div class=\"zoom\"><img style='width: 100px; height: 100px; margin: 1px; float: left; border: 0px solid black;'title=['BLACK SKIMMER'] src='dataset_birds\\test\\BLACK SKIMMER\\5.jpg'/></div>"
      ],
      "text/plain": [
       "<IPython.core.display.HTML object>"
      ]
     },
     "metadata": {},
     "output_type": "display_data"
    },
    {
     "name": "stdout",
     "output_type": "stream",
     "text": [
      "Drawing BLACK SWAN\n"
     ]
    },
    {
     "data": {
      "text/html": [
       "<div class=\"zoom\"><img style='width: 100px; height: 100px; margin: 1px; float: left; border: 0px solid black;'title=['BLACK SWAN'] src='dataset_birds\\test\\BLACK SWAN\\1.jpg'/></div><div class=\"zoom\"><img style='width: 100px; height: 100px; margin: 1px; float: left; border: 0px solid black;'title=['BLACK SWAN'] src='dataset_birds\\test\\BLACK SWAN\\2.jpg'/></div><div class=\"zoom\"><img style='width: 100px; height: 100px; margin: 1px; float: left; border: 0px solid black;'title=['BLACK SWAN'] src='dataset_birds\\test\\BLACK SWAN\\3.jpg'/></div><div class=\"zoom\"><img style='width: 100px; height: 100px; margin: 1px; float: left; border: 0px solid black;'title=['BLACK SWAN'] src='dataset_birds\\test\\BLACK SWAN\\4.jpg'/></div><div class=\"zoom\"><img style='width: 100px; height: 100px; margin: 1px; float: left; border: 0px solid black;'title=['BLACK SWAN'] src='dataset_birds\\test\\BLACK SWAN\\5.jpg'/></div>"
      ],
      "text/plain": [
       "<IPython.core.display.HTML object>"
      ]
     },
     "metadata": {},
     "output_type": "display_data"
    },
    {
     "name": "stdout",
     "output_type": "stream",
     "text": [
      "Drawing BLACK TAIL CRAKE\n"
     ]
    },
    {
     "data": {
      "text/html": [
       "<div class=\"zoom\"><img style='width: 100px; height: 100px; margin: 1px; float: left; border: 0px solid black;'title=['BLACK TAIL CRAKE'] src='dataset_birds\\test\\BLACK TAIL CRAKE\\1.jpg'/></div><div class=\"zoom\"><img style='width: 100px; height: 100px; margin: 1px; float: left; border: 0px solid black;'title=['BLACK TAIL CRAKE'] src='dataset_birds\\test\\BLACK TAIL CRAKE\\2.jpg'/></div><div class=\"zoom\"><img style='width: 100px; height: 100px; margin: 1px; float: left; border: 0px solid black;'title=['BLACK TAIL CRAKE'] src='dataset_birds\\test\\BLACK TAIL CRAKE\\3.jpg'/></div><div class=\"zoom\"><img style='width: 100px; height: 100px; margin: 1px; float: left; border: 0px solid black;'title=['BLACK TAIL CRAKE'] src='dataset_birds\\test\\BLACK TAIL CRAKE\\4.jpg'/></div><div class=\"zoom\"><img style='width: 100px; height: 100px; margin: 1px; float: left; border: 0px solid black;'title=['BLACK TAIL CRAKE'] src='dataset_birds\\test\\BLACK TAIL CRAKE\\5.jpg'/></div>"
      ],
      "text/plain": [
       "<IPython.core.display.HTML object>"
      ]
     },
     "metadata": {},
     "output_type": "display_data"
    },
    {
     "name": "stdout",
     "output_type": "stream",
     "text": [
      "Drawing BLACK THROATED BUSHTIT\n"
     ]
    },
    {
     "data": {
      "text/html": [
       "<div class=\"zoom\"><img style='width: 100px; height: 100px; margin: 1px; float: left; border: 0px solid black;'title=['BLACK THROATED BUSHTIT'] src='dataset_birds\\test\\BLACK THROATED BUSHTIT\\1.jpg'/></div><div class=\"zoom\"><img style='width: 100px; height: 100px; margin: 1px; float: left; border: 0px solid black;'title=['BLACK THROATED BUSHTIT'] src='dataset_birds\\test\\BLACK THROATED BUSHTIT\\2.jpg'/></div><div class=\"zoom\"><img style='width: 100px; height: 100px; margin: 1px; float: left; border: 0px solid black;'title=['BLACK THROATED BUSHTIT'] src='dataset_birds\\test\\BLACK THROATED BUSHTIT\\3.jpg'/></div><div class=\"zoom\"><img style='width: 100px; height: 100px; margin: 1px; float: left; border: 0px solid black;'title=['BLACK THROATED BUSHTIT'] src='dataset_birds\\test\\BLACK THROATED BUSHTIT\\4.jpg'/></div><div class=\"zoom\"><img style='width: 100px; height: 100px; margin: 1px; float: left; border: 0px solid black;'title=['BLACK THROATED BUSHTIT'] src='dataset_birds\\test\\BLACK THROATED BUSHTIT\\5.jpg'/></div>"
      ],
      "text/plain": [
       "<IPython.core.display.HTML object>"
      ]
     },
     "metadata": {},
     "output_type": "display_data"
    },
    {
     "name": "stdout",
     "output_type": "stream",
     "text": [
      "Drawing BLACK THROATED HUET\n"
     ]
    },
    {
     "data": {
      "text/html": [
       "<div class=\"zoom\"><img style='width: 100px; height: 100px; margin: 1px; float: left; border: 0px solid black;'title=['BLACK THROATED HUET'] src='dataset_birds\\test\\BLACK THROATED HUET\\1.jpg'/></div><div class=\"zoom\"><img style='width: 100px; height: 100px; margin: 1px; float: left; border: 0px solid black;'title=['BLACK THROATED HUET'] src='dataset_birds\\test\\BLACK THROATED HUET\\2.jpg'/></div><div class=\"zoom\"><img style='width: 100px; height: 100px; margin: 1px; float: left; border: 0px solid black;'title=['BLACK THROATED HUET'] src='dataset_birds\\test\\BLACK THROATED HUET\\3.jpg'/></div><div class=\"zoom\"><img style='width: 100px; height: 100px; margin: 1px; float: left; border: 0px solid black;'title=['BLACK THROATED HUET'] src='dataset_birds\\test\\BLACK THROATED HUET\\4.jpg'/></div><div class=\"zoom\"><img style='width: 100px; height: 100px; margin: 1px; float: left; border: 0px solid black;'title=['BLACK THROATED HUET'] src='dataset_birds\\test\\BLACK THROATED HUET\\5.jpg'/></div>"
      ],
      "text/plain": [
       "<IPython.core.display.HTML object>"
      ]
     },
     "metadata": {},
     "output_type": "display_data"
    },
    {
     "name": "stdout",
     "output_type": "stream",
     "text": [
      "Drawing BLACK THROATED WARBLER\n"
     ]
    },
    {
     "data": {
      "text/html": [
       "<div class=\"zoom\"><img style='width: 100px; height: 100px; margin: 1px; float: left; border: 0px solid black;'title=['BLACK THROATED WARBLER'] src='dataset_birds\\test\\BLACK THROATED WARBLER\\1.jpg'/></div><div class=\"zoom\"><img style='width: 100px; height: 100px; margin: 1px; float: left; border: 0px solid black;'title=['BLACK THROATED WARBLER'] src='dataset_birds\\test\\BLACK THROATED WARBLER\\2.jpg'/></div><div class=\"zoom\"><img style='width: 100px; height: 100px; margin: 1px; float: left; border: 0px solid black;'title=['BLACK THROATED WARBLER'] src='dataset_birds\\test\\BLACK THROATED WARBLER\\3.jpg'/></div><div class=\"zoom\"><img style='width: 100px; height: 100px; margin: 1px; float: left; border: 0px solid black;'title=['BLACK THROATED WARBLER'] src='dataset_birds\\test\\BLACK THROATED WARBLER\\4.jpg'/></div><div class=\"zoom\"><img style='width: 100px; height: 100px; margin: 1px; float: left; border: 0px solid black;'title=['BLACK THROATED WARBLER'] src='dataset_birds\\test\\BLACK THROATED WARBLER\\5.jpg'/></div>"
      ],
      "text/plain": [
       "<IPython.core.display.HTML object>"
      ]
     },
     "metadata": {},
     "output_type": "display_data"
    },
    {
     "name": "stdout",
     "output_type": "stream",
     "text": [
      "Drawing BLACK VENTED SHEARWATER\n"
     ]
    },
    {
     "data": {
      "text/html": [
       "<div class=\"zoom\"><img style='width: 100px; height: 100px; margin: 1px; float: left; border: 0px solid black;'title=['BLACK VENTED SHEARWATER'] src='dataset_birds\\test\\BLACK VENTED SHEARWATER\\1.jpg'/></div><div class=\"zoom\"><img style='width: 100px; height: 100px; margin: 1px; float: left; border: 0px solid black;'title=['BLACK VENTED SHEARWATER'] src='dataset_birds\\test\\BLACK VENTED SHEARWATER\\2.jpg'/></div><div class=\"zoom\"><img style='width: 100px; height: 100px; margin: 1px; float: left; border: 0px solid black;'title=['BLACK VENTED SHEARWATER'] src='dataset_birds\\test\\BLACK VENTED SHEARWATER\\3.jpg'/></div><div class=\"zoom\"><img style='width: 100px; height: 100px; margin: 1px; float: left; border: 0px solid black;'title=['BLACK VENTED SHEARWATER'] src='dataset_birds\\test\\BLACK VENTED SHEARWATER\\4.jpg'/></div><div class=\"zoom\"><img style='width: 100px; height: 100px; margin: 1px; float: left; border: 0px solid black;'title=['BLACK VENTED SHEARWATER'] src='dataset_birds\\test\\BLACK VENTED SHEARWATER\\5.jpg'/></div>"
      ],
      "text/plain": [
       "<IPython.core.display.HTML object>"
      ]
     },
     "metadata": {},
     "output_type": "display_data"
    },
    {
     "name": "stdout",
     "output_type": "stream",
     "text": [
      "Drawing BLACK VULTURE\n"
     ]
    },
    {
     "data": {
      "text/html": [
       "<div class=\"zoom\"><img style='width: 100px; height: 100px; margin: 1px; float: left; border: 0px solid black;'title=['BLACK VULTURE'] src='dataset_birds\\test\\BLACK VULTURE\\1.jpg'/></div><div class=\"zoom\"><img style='width: 100px; height: 100px; margin: 1px; float: left; border: 0px solid black;'title=['BLACK VULTURE'] src='dataset_birds\\test\\BLACK VULTURE\\2.jpg'/></div><div class=\"zoom\"><img style='width: 100px; height: 100px; margin: 1px; float: left; border: 0px solid black;'title=['BLACK VULTURE'] src='dataset_birds\\test\\BLACK VULTURE\\3.jpg'/></div><div class=\"zoom\"><img style='width: 100px; height: 100px; margin: 1px; float: left; border: 0px solid black;'title=['BLACK VULTURE'] src='dataset_birds\\test\\BLACK VULTURE\\4.jpg'/></div><div class=\"zoom\"><img style='width: 100px; height: 100px; margin: 1px; float: left; border: 0px solid black;'title=['BLACK VULTURE'] src='dataset_birds\\test\\BLACK VULTURE\\5.jpg'/></div>"
      ],
      "text/plain": [
       "<IPython.core.display.HTML object>"
      ]
     },
     "metadata": {},
     "output_type": "display_data"
    },
    {
     "name": "stdout",
     "output_type": "stream",
     "text": [
      "Drawing BLACK-CAPPED CHICKADEE\n"
     ]
    },
    {
     "data": {
      "text/html": [
       "<div class=\"zoom\"><img style='width: 100px; height: 100px; margin: 1px; float: left; border: 0px solid black;'title=['BLACK-CAPPED CHICKADEE'] src='dataset_birds\\test\\BLACK-CAPPED CHICKADEE\\1.jpg'/></div><div class=\"zoom\"><img style='width: 100px; height: 100px; margin: 1px; float: left; border: 0px solid black;'title=['BLACK-CAPPED CHICKADEE'] src='dataset_birds\\test\\BLACK-CAPPED CHICKADEE\\2.jpg'/></div><div class=\"zoom\"><img style='width: 100px; height: 100px; margin: 1px; float: left; border: 0px solid black;'title=['BLACK-CAPPED CHICKADEE'] src='dataset_birds\\test\\BLACK-CAPPED CHICKADEE\\3.jpg'/></div><div class=\"zoom\"><img style='width: 100px; height: 100px; margin: 1px; float: left; border: 0px solid black;'title=['BLACK-CAPPED CHICKADEE'] src='dataset_birds\\test\\BLACK-CAPPED CHICKADEE\\4.jpg'/></div><div class=\"zoom\"><img style='width: 100px; height: 100px; margin: 1px; float: left; border: 0px solid black;'title=['BLACK-CAPPED CHICKADEE'] src='dataset_birds\\test\\BLACK-CAPPED CHICKADEE\\5.jpg'/></div>"
      ],
      "text/plain": [
       "<IPython.core.display.HTML object>"
      ]
     },
     "metadata": {},
     "output_type": "display_data"
    },
    {
     "name": "stdout",
     "output_type": "stream",
     "text": [
      "Drawing BLACK-NECKED GREBE\n"
     ]
    },
    {
     "data": {
      "text/html": [
       "<div class=\"zoom\"><img style='width: 100px; height: 100px; margin: 1px; float: left; border: 0px solid black;'title=['BLACK-NECKED GREBE'] src='dataset_birds\\test\\BLACK-NECKED GREBE\\1.jpg'/></div><div class=\"zoom\"><img style='width: 100px; height: 100px; margin: 1px; float: left; border: 0px solid black;'title=['BLACK-NECKED GREBE'] src='dataset_birds\\test\\BLACK-NECKED GREBE\\2.jpg'/></div><div class=\"zoom\"><img style='width: 100px; height: 100px; margin: 1px; float: left; border: 0px solid black;'title=['BLACK-NECKED GREBE'] src='dataset_birds\\test\\BLACK-NECKED GREBE\\3.jpg'/></div><div class=\"zoom\"><img style='width: 100px; height: 100px; margin: 1px; float: left; border: 0px solid black;'title=['BLACK-NECKED GREBE'] src='dataset_birds\\test\\BLACK-NECKED GREBE\\4.jpg'/></div><div class=\"zoom\"><img style='width: 100px; height: 100px; margin: 1px; float: left; border: 0px solid black;'title=['BLACK-NECKED GREBE'] src='dataset_birds\\test\\BLACK-NECKED GREBE\\5.jpg'/></div>"
      ],
      "text/plain": [
       "<IPython.core.display.HTML object>"
      ]
     },
     "metadata": {},
     "output_type": "display_data"
    },
    {
     "name": "stdout",
     "output_type": "stream",
     "text": [
      "Drawing BLACK-THROATED SPARROW\n"
     ]
    },
    {
     "data": {
      "text/html": [
       "<div class=\"zoom\"><img style='width: 100px; height: 100px; margin: 1px; float: left; border: 0px solid black;'title=['BLACK-THROATED SPARROW'] src='dataset_birds\\test\\BLACK-THROATED SPARROW\\1.jpg'/></div><div class=\"zoom\"><img style='width: 100px; height: 100px; margin: 1px; float: left; border: 0px solid black;'title=['BLACK-THROATED SPARROW'] src='dataset_birds\\test\\BLACK-THROATED SPARROW\\2.jpg'/></div><div class=\"zoom\"><img style='width: 100px; height: 100px; margin: 1px; float: left; border: 0px solid black;'title=['BLACK-THROATED SPARROW'] src='dataset_birds\\test\\BLACK-THROATED SPARROW\\3.jpg'/></div><div class=\"zoom\"><img style='width: 100px; height: 100px; margin: 1px; float: left; border: 0px solid black;'title=['BLACK-THROATED SPARROW'] src='dataset_birds\\test\\BLACK-THROATED SPARROW\\4.jpg'/></div><div class=\"zoom\"><img style='width: 100px; height: 100px; margin: 1px; float: left; border: 0px solid black;'title=['BLACK-THROATED SPARROW'] src='dataset_birds\\test\\BLACK-THROATED SPARROW\\5.jpg'/></div>"
      ],
      "text/plain": [
       "<IPython.core.display.HTML object>"
      ]
     },
     "metadata": {},
     "output_type": "display_data"
    },
    {
     "name": "stdout",
     "output_type": "stream",
     "text": [
      "Drawing BLACKBURNIAM WARBLER\n"
     ]
    },
    {
     "data": {
      "text/html": [
       "<div class=\"zoom\"><img style='width: 100px; height: 100px; margin: 1px; float: left; border: 0px solid black;'title=['BLACKBURNIAM WARBLER'] src='dataset_birds\\test\\BLACKBURNIAM WARBLER\\1.jpg'/></div><div class=\"zoom\"><img style='width: 100px; height: 100px; margin: 1px; float: left; border: 0px solid black;'title=['BLACKBURNIAM WARBLER'] src='dataset_birds\\test\\BLACKBURNIAM WARBLER\\2.jpg'/></div><div class=\"zoom\"><img style='width: 100px; height: 100px; margin: 1px; float: left; border: 0px solid black;'title=['BLACKBURNIAM WARBLER'] src='dataset_birds\\test\\BLACKBURNIAM WARBLER\\3.jpg'/></div><div class=\"zoom\"><img style='width: 100px; height: 100px; margin: 1px; float: left; border: 0px solid black;'title=['BLACKBURNIAM WARBLER'] src='dataset_birds\\test\\BLACKBURNIAM WARBLER\\4.jpg'/></div><div class=\"zoom\"><img style='width: 100px; height: 100px; margin: 1px; float: left; border: 0px solid black;'title=['BLACKBURNIAM WARBLER'] src='dataset_birds\\test\\BLACKBURNIAM WARBLER\\5.jpg'/></div>"
      ],
      "text/plain": [
       "<IPython.core.display.HTML object>"
      ]
     },
     "metadata": {},
     "output_type": "display_data"
    },
    {
     "name": "stdout",
     "output_type": "stream",
     "text": [
      "Drawing BLONDE CRESTED WOODPECKER\n"
     ]
    },
    {
     "data": {
      "text/html": [
       "<div class=\"zoom\"><img style='width: 100px; height: 100px; margin: 1px; float: left; border: 0px solid black;'title=['BLONDE CRESTED WOODPECKER'] src='dataset_birds\\test\\BLONDE CRESTED WOODPECKER\\1.jpg'/></div><div class=\"zoom\"><img style='width: 100px; height: 100px; margin: 1px; float: left; border: 0px solid black;'title=['BLONDE CRESTED WOODPECKER'] src='dataset_birds\\test\\BLONDE CRESTED WOODPECKER\\2.jpg'/></div><div class=\"zoom\"><img style='width: 100px; height: 100px; margin: 1px; float: left; border: 0px solid black;'title=['BLONDE CRESTED WOODPECKER'] src='dataset_birds\\test\\BLONDE CRESTED WOODPECKER\\3.jpg'/></div><div class=\"zoom\"><img style='width: 100px; height: 100px; margin: 1px; float: left; border: 0px solid black;'title=['BLONDE CRESTED WOODPECKER'] src='dataset_birds\\test\\BLONDE CRESTED WOODPECKER\\4.jpg'/></div><div class=\"zoom\"><img style='width: 100px; height: 100px; margin: 1px; float: left; border: 0px solid black;'title=['BLONDE CRESTED WOODPECKER'] src='dataset_birds\\test\\BLONDE CRESTED WOODPECKER\\5.jpg'/></div>"
      ],
      "text/plain": [
       "<IPython.core.display.HTML object>"
      ]
     },
     "metadata": {},
     "output_type": "display_data"
    },
    {
     "name": "stdout",
     "output_type": "stream",
     "text": [
      "Drawing BLOOD PHEASANT\n"
     ]
    },
    {
     "data": {
      "text/html": [
       "<div class=\"zoom\"><img style='width: 100px; height: 100px; margin: 1px; float: left; border: 0px solid black;'title=['BLOOD PHEASANT'] src='dataset_birds\\test\\BLOOD PHEASANT\\1.jpg'/></div><div class=\"zoom\"><img style='width: 100px; height: 100px; margin: 1px; float: left; border: 0px solid black;'title=['BLOOD PHEASANT'] src='dataset_birds\\test\\BLOOD PHEASANT\\2.jpg'/></div><div class=\"zoom\"><img style='width: 100px; height: 100px; margin: 1px; float: left; border: 0px solid black;'title=['BLOOD PHEASANT'] src='dataset_birds\\test\\BLOOD PHEASANT\\3.jpg'/></div><div class=\"zoom\"><img style='width: 100px; height: 100px; margin: 1px; float: left; border: 0px solid black;'title=['BLOOD PHEASANT'] src='dataset_birds\\test\\BLOOD PHEASANT\\4.jpg'/></div><div class=\"zoom\"><img style='width: 100px; height: 100px; margin: 1px; float: left; border: 0px solid black;'title=['BLOOD PHEASANT'] src='dataset_birds\\test\\BLOOD PHEASANT\\5.jpg'/></div>"
      ],
      "text/plain": [
       "<IPython.core.display.HTML object>"
      ]
     },
     "metadata": {},
     "output_type": "display_data"
    },
    {
     "name": "stdout",
     "output_type": "stream",
     "text": [
      "Drawing BLUE COAU\n"
     ]
    },
    {
     "data": {
      "text/html": [
       "<div class=\"zoom\"><img style='width: 100px; height: 100px; margin: 1px; float: left; border: 0px solid black;'title=['BLUE COAU'] src='dataset_birds\\test\\BLUE COAU\\1.jpg'/></div><div class=\"zoom\"><img style='width: 100px; height: 100px; margin: 1px; float: left; border: 0px solid black;'title=['BLUE COAU'] src='dataset_birds\\test\\BLUE COAU\\2.jpg'/></div><div class=\"zoom\"><img style='width: 100px; height: 100px; margin: 1px; float: left; border: 0px solid black;'title=['BLUE COAU'] src='dataset_birds\\test\\BLUE COAU\\3.jpg'/></div><div class=\"zoom\"><img style='width: 100px; height: 100px; margin: 1px; float: left; border: 0px solid black;'title=['BLUE COAU'] src='dataset_birds\\test\\BLUE COAU\\4.jpg'/></div><div class=\"zoom\"><img style='width: 100px; height: 100px; margin: 1px; float: left; border: 0px solid black;'title=['BLUE COAU'] src='dataset_birds\\test\\BLUE COAU\\5.jpg'/></div>"
      ],
      "text/plain": [
       "<IPython.core.display.HTML object>"
      ]
     },
     "metadata": {},
     "output_type": "display_data"
    },
    {
     "name": "stdout",
     "output_type": "stream",
     "text": [
      "Drawing BLUE DACNIS\n"
     ]
    },
    {
     "data": {
      "text/html": [
       "<div class=\"zoom\"><img style='width: 100px; height: 100px; margin: 1px; float: left; border: 0px solid black;'title=['BLUE DACNIS'] src='dataset_birds\\test\\BLUE DACNIS\\1.jpg'/></div><div class=\"zoom\"><img style='width: 100px; height: 100px; margin: 1px; float: left; border: 0px solid black;'title=['BLUE DACNIS'] src='dataset_birds\\test\\BLUE DACNIS\\2.jpg'/></div><div class=\"zoom\"><img style='width: 100px; height: 100px; margin: 1px; float: left; border: 0px solid black;'title=['BLUE DACNIS'] src='dataset_birds\\test\\BLUE DACNIS\\3.jpg'/></div><div class=\"zoom\"><img style='width: 100px; height: 100px; margin: 1px; float: left; border: 0px solid black;'title=['BLUE DACNIS'] src='dataset_birds\\test\\BLUE DACNIS\\4.jpg'/></div><div class=\"zoom\"><img style='width: 100px; height: 100px; margin: 1px; float: left; border: 0px solid black;'title=['BLUE DACNIS'] src='dataset_birds\\test\\BLUE DACNIS\\5.jpg'/></div>"
      ],
      "text/plain": [
       "<IPython.core.display.HTML object>"
      ]
     },
     "metadata": {},
     "output_type": "display_data"
    },
    {
     "name": "stdout",
     "output_type": "stream",
     "text": [
      "Drawing BLUE GRAY GNATCATCHER\n"
     ]
    },
    {
     "data": {
      "text/html": [
       "<div class=\"zoom\"><img style='width: 100px; height: 100px; margin: 1px; float: left; border: 0px solid black;'title=['BLUE GRAY GNATCATCHER'] src='dataset_birds\\test\\BLUE GRAY GNATCATCHER\\1.jpg'/></div><div class=\"zoom\"><img style='width: 100px; height: 100px; margin: 1px; float: left; border: 0px solid black;'title=['BLUE GRAY GNATCATCHER'] src='dataset_birds\\test\\BLUE GRAY GNATCATCHER\\2.jpg'/></div><div class=\"zoom\"><img style='width: 100px; height: 100px; margin: 1px; float: left; border: 0px solid black;'title=['BLUE GRAY GNATCATCHER'] src='dataset_birds\\test\\BLUE GRAY GNATCATCHER\\3.jpg'/></div><div class=\"zoom\"><img style='width: 100px; height: 100px; margin: 1px; float: left; border: 0px solid black;'title=['BLUE GRAY GNATCATCHER'] src='dataset_birds\\test\\BLUE GRAY GNATCATCHER\\4.jpg'/></div><div class=\"zoom\"><img style='width: 100px; height: 100px; margin: 1px; float: left; border: 0px solid black;'title=['BLUE GRAY GNATCATCHER'] src='dataset_birds\\test\\BLUE GRAY GNATCATCHER\\5.jpg'/></div>"
      ],
      "text/plain": [
       "<IPython.core.display.HTML object>"
      ]
     },
     "metadata": {},
     "output_type": "display_data"
    },
    {
     "name": "stdout",
     "output_type": "stream",
     "text": [
      "Drawing BLUE GROSBEAK\n"
     ]
    },
    {
     "data": {
      "text/html": [
       "<div class=\"zoom\"><img style='width: 100px; height: 100px; margin: 1px; float: left; border: 0px solid black;'title=['BLUE GROSBEAK'] src='dataset_birds\\test\\BLUE GROSBEAK\\1.jpg'/></div><div class=\"zoom\"><img style='width: 100px; height: 100px; margin: 1px; float: left; border: 0px solid black;'title=['BLUE GROSBEAK'] src='dataset_birds\\test\\BLUE GROSBEAK\\2.jpg'/></div><div class=\"zoom\"><img style='width: 100px; height: 100px; margin: 1px; float: left; border: 0px solid black;'title=['BLUE GROSBEAK'] src='dataset_birds\\test\\BLUE GROSBEAK\\3.jpg'/></div><div class=\"zoom\"><img style='width: 100px; height: 100px; margin: 1px; float: left; border: 0px solid black;'title=['BLUE GROSBEAK'] src='dataset_birds\\test\\BLUE GROSBEAK\\4.jpg'/></div><div class=\"zoom\"><img style='width: 100px; height: 100px; margin: 1px; float: left; border: 0px solid black;'title=['BLUE GROSBEAK'] src='dataset_birds\\test\\BLUE GROSBEAK\\5.jpg'/></div>"
      ],
      "text/plain": [
       "<IPython.core.display.HTML object>"
      ]
     },
     "metadata": {},
     "output_type": "display_data"
    },
    {
     "name": "stdout",
     "output_type": "stream",
     "text": [
      "Drawing BLUE GROUSE\n"
     ]
    },
    {
     "data": {
      "text/html": [
       "<div class=\"zoom\"><img style='width: 100px; height: 100px; margin: 1px; float: left; border: 0px solid black;'title=['BLUE GROUSE'] src='dataset_birds\\test\\BLUE GROUSE\\1.jpg'/></div><div class=\"zoom\"><img style='width: 100px; height: 100px; margin: 1px; float: left; border: 0px solid black;'title=['BLUE GROUSE'] src='dataset_birds\\test\\BLUE GROUSE\\2.jpg'/></div><div class=\"zoom\"><img style='width: 100px; height: 100px; margin: 1px; float: left; border: 0px solid black;'title=['BLUE GROUSE'] src='dataset_birds\\test\\BLUE GROUSE\\3.jpg'/></div><div class=\"zoom\"><img style='width: 100px; height: 100px; margin: 1px; float: left; border: 0px solid black;'title=['BLUE GROUSE'] src='dataset_birds\\test\\BLUE GROUSE\\4.jpg'/></div><div class=\"zoom\"><img style='width: 100px; height: 100px; margin: 1px; float: left; border: 0px solid black;'title=['BLUE GROUSE'] src='dataset_birds\\test\\BLUE GROUSE\\5.jpg'/></div>"
      ],
      "text/plain": [
       "<IPython.core.display.HTML object>"
      ]
     },
     "metadata": {},
     "output_type": "display_data"
    },
    {
     "name": "stdout",
     "output_type": "stream",
     "text": [
      "Drawing BLUE HERON\n"
     ]
    },
    {
     "data": {
      "text/html": [
       "<div class=\"zoom\"><img style='width: 100px; height: 100px; margin: 1px; float: left; border: 0px solid black;'title=['BLUE HERON'] src='dataset_birds\\test\\BLUE HERON\\1.jpg'/></div><div class=\"zoom\"><img style='width: 100px; height: 100px; margin: 1px; float: left; border: 0px solid black;'title=['BLUE HERON'] src='dataset_birds\\test\\BLUE HERON\\2.jpg'/></div><div class=\"zoom\"><img style='width: 100px; height: 100px; margin: 1px; float: left; border: 0px solid black;'title=['BLUE HERON'] src='dataset_birds\\test\\BLUE HERON\\3.jpg'/></div><div class=\"zoom\"><img style='width: 100px; height: 100px; margin: 1px; float: left; border: 0px solid black;'title=['BLUE HERON'] src='dataset_birds\\test\\BLUE HERON\\4.jpg'/></div><div class=\"zoom\"><img style='width: 100px; height: 100px; margin: 1px; float: left; border: 0px solid black;'title=['BLUE HERON'] src='dataset_birds\\test\\BLUE HERON\\5.jpg'/></div>"
      ],
      "text/plain": [
       "<IPython.core.display.HTML object>"
      ]
     },
     "metadata": {},
     "output_type": "display_data"
    },
    {
     "name": "stdout",
     "output_type": "stream",
     "text": [
      "Drawing BLUE MALKOHA\n"
     ]
    },
    {
     "data": {
      "text/html": [
       "<div class=\"zoom\"><img style='width: 100px; height: 100px; margin: 1px; float: left; border: 0px solid black;'title=['BLUE MALKOHA'] src='dataset_birds\\test\\BLUE MALKOHA\\1.jpg'/></div><div class=\"zoom\"><img style='width: 100px; height: 100px; margin: 1px; float: left; border: 0px solid black;'title=['BLUE MALKOHA'] src='dataset_birds\\test\\BLUE MALKOHA\\2.jpg'/></div><div class=\"zoom\"><img style='width: 100px; height: 100px; margin: 1px; float: left; border: 0px solid black;'title=['BLUE MALKOHA'] src='dataset_birds\\test\\BLUE MALKOHA\\3.jpg'/></div><div class=\"zoom\"><img style='width: 100px; height: 100px; margin: 1px; float: left; border: 0px solid black;'title=['BLUE MALKOHA'] src='dataset_birds\\test\\BLUE MALKOHA\\4.jpg'/></div><div class=\"zoom\"><img style='width: 100px; height: 100px; margin: 1px; float: left; border: 0px solid black;'title=['BLUE MALKOHA'] src='dataset_birds\\test\\BLUE MALKOHA\\5.jpg'/></div>"
      ],
      "text/plain": [
       "<IPython.core.display.HTML object>"
      ]
     },
     "metadata": {},
     "output_type": "display_data"
    },
    {
     "name": "stdout",
     "output_type": "stream",
     "text": [
      "Drawing BLUE THROATED PIPING GUAN\n"
     ]
    },
    {
     "data": {
      "text/html": [
       "<div class=\"zoom\"><img style='width: 100px; height: 100px; margin: 1px; float: left; border: 0px solid black;'title=['BLUE THROATED PIPING GUAN'] src='dataset_birds\\test\\BLUE THROATED PIPING GUAN\\1.jpg'/></div><div class=\"zoom\"><img style='width: 100px; height: 100px; margin: 1px; float: left; border: 0px solid black;'title=['BLUE THROATED PIPING GUAN'] src='dataset_birds\\test\\BLUE THROATED PIPING GUAN\\2.jpg'/></div><div class=\"zoom\"><img style='width: 100px; height: 100px; margin: 1px; float: left; border: 0px solid black;'title=['BLUE THROATED PIPING GUAN'] src='dataset_birds\\test\\BLUE THROATED PIPING GUAN\\3.jpg'/></div><div class=\"zoom\"><img style='width: 100px; height: 100px; margin: 1px; float: left; border: 0px solid black;'title=['BLUE THROATED PIPING GUAN'] src='dataset_birds\\test\\BLUE THROATED PIPING GUAN\\4.jpg'/></div><div class=\"zoom\"><img style='width: 100px; height: 100px; margin: 1px; float: left; border: 0px solid black;'title=['BLUE THROATED PIPING GUAN'] src='dataset_birds\\test\\BLUE THROATED PIPING GUAN\\5.jpg'/></div>"
      ],
      "text/plain": [
       "<IPython.core.display.HTML object>"
      ]
     },
     "metadata": {},
     "output_type": "display_data"
    },
    {
     "name": "stdout",
     "output_type": "stream",
     "text": [
      "Drawing BLUE THROATED TOUCANET\n"
     ]
    },
    {
     "data": {
      "text/html": [
       "<div class=\"zoom\"><img style='width: 100px; height: 100px; margin: 1px; float: left; border: 0px solid black;'title=['BLUE THROATED TOUCANET'] src='dataset_birds\\test\\BLUE THROATED TOUCANET\\1.jpg'/></div><div class=\"zoom\"><img style='width: 100px; height: 100px; margin: 1px; float: left; border: 0px solid black;'title=['BLUE THROATED TOUCANET'] src='dataset_birds\\test\\BLUE THROATED TOUCANET\\2.jpg'/></div><div class=\"zoom\"><img style='width: 100px; height: 100px; margin: 1px; float: left; border: 0px solid black;'title=['BLUE THROATED TOUCANET'] src='dataset_birds\\test\\BLUE THROATED TOUCANET\\3.jpg'/></div><div class=\"zoom\"><img style='width: 100px; height: 100px; margin: 1px; float: left; border: 0px solid black;'title=['BLUE THROATED TOUCANET'] src='dataset_birds\\test\\BLUE THROATED TOUCANET\\4.jpg'/></div><div class=\"zoom\"><img style='width: 100px; height: 100px; margin: 1px; float: left; border: 0px solid black;'title=['BLUE THROATED TOUCANET'] src='dataset_birds\\test\\BLUE THROATED TOUCANET\\5.jpg'/></div>"
      ],
      "text/plain": [
       "<IPython.core.display.HTML object>"
      ]
     },
     "metadata": {},
     "output_type": "display_data"
    },
    {
     "name": "stdout",
     "output_type": "stream",
     "text": [
      "Drawing BOBOLINK\n"
     ]
    },
    {
     "data": {
      "text/html": [
       "<div class=\"zoom\"><img style='width: 100px; height: 100px; margin: 1px; float: left; border: 0px solid black;'title=['BOBOLINK'] src='dataset_birds\\test\\BOBOLINK\\1.jpg'/></div><div class=\"zoom\"><img style='width: 100px; height: 100px; margin: 1px; float: left; border: 0px solid black;'title=['BOBOLINK'] src='dataset_birds\\test\\BOBOLINK\\2.jpg'/></div><div class=\"zoom\"><img style='width: 100px; height: 100px; margin: 1px; float: left; border: 0px solid black;'title=['BOBOLINK'] src='dataset_birds\\test\\BOBOLINK\\3.jpg'/></div><div class=\"zoom\"><img style='width: 100px; height: 100px; margin: 1px; float: left; border: 0px solid black;'title=['BOBOLINK'] src='dataset_birds\\test\\BOBOLINK\\4.jpg'/></div><div class=\"zoom\"><img style='width: 100px; height: 100px; margin: 1px; float: left; border: 0px solid black;'title=['BOBOLINK'] src='dataset_birds\\test\\BOBOLINK\\5.jpg'/></div>"
      ],
      "text/plain": [
       "<IPython.core.display.HTML object>"
      ]
     },
     "metadata": {},
     "output_type": "display_data"
    },
    {
     "name": "stdout",
     "output_type": "stream",
     "text": [
      "Drawing BORNEAN BRISTLEHEAD\n"
     ]
    },
    {
     "data": {
      "text/html": [
       "<div class=\"zoom\"><img style='width: 100px; height: 100px; margin: 1px; float: left; border: 0px solid black;'title=['BORNEAN BRISTLEHEAD'] src='dataset_birds\\test\\BORNEAN BRISTLEHEAD\\1.jpg'/></div><div class=\"zoom\"><img style='width: 100px; height: 100px; margin: 1px; float: left; border: 0px solid black;'title=['BORNEAN BRISTLEHEAD'] src='dataset_birds\\test\\BORNEAN BRISTLEHEAD\\2.jpg'/></div><div class=\"zoom\"><img style='width: 100px; height: 100px; margin: 1px; float: left; border: 0px solid black;'title=['BORNEAN BRISTLEHEAD'] src='dataset_birds\\test\\BORNEAN BRISTLEHEAD\\3.jpg'/></div><div class=\"zoom\"><img style='width: 100px; height: 100px; margin: 1px; float: left; border: 0px solid black;'title=['BORNEAN BRISTLEHEAD'] src='dataset_birds\\test\\BORNEAN BRISTLEHEAD\\4.jpg'/></div><div class=\"zoom\"><img style='width: 100px; height: 100px; margin: 1px; float: left; border: 0px solid black;'title=['BORNEAN BRISTLEHEAD'] src='dataset_birds\\test\\BORNEAN BRISTLEHEAD\\5.jpg'/></div>"
      ],
      "text/plain": [
       "<IPython.core.display.HTML object>"
      ]
     },
     "metadata": {},
     "output_type": "display_data"
    },
    {
     "name": "stdout",
     "output_type": "stream",
     "text": [
      "Drawing BORNEAN LEAFBIRD\n"
     ]
    },
    {
     "data": {
      "text/html": [
       "<div class=\"zoom\"><img style='width: 100px; height: 100px; margin: 1px; float: left; border: 0px solid black;'title=['BORNEAN LEAFBIRD'] src='dataset_birds\\test\\BORNEAN LEAFBIRD\\1.jpg'/></div><div class=\"zoom\"><img style='width: 100px; height: 100px; margin: 1px; float: left; border: 0px solid black;'title=['BORNEAN LEAFBIRD'] src='dataset_birds\\test\\BORNEAN LEAFBIRD\\2.jpg'/></div><div class=\"zoom\"><img style='width: 100px; height: 100px; margin: 1px; float: left; border: 0px solid black;'title=['BORNEAN LEAFBIRD'] src='dataset_birds\\test\\BORNEAN LEAFBIRD\\3.jpg'/></div><div class=\"zoom\"><img style='width: 100px; height: 100px; margin: 1px; float: left; border: 0px solid black;'title=['BORNEAN LEAFBIRD'] src='dataset_birds\\test\\BORNEAN LEAFBIRD\\4.jpg'/></div><div class=\"zoom\"><img style='width: 100px; height: 100px; margin: 1px; float: left; border: 0px solid black;'title=['BORNEAN LEAFBIRD'] src='dataset_birds\\test\\BORNEAN LEAFBIRD\\5.jpg'/></div>"
      ],
      "text/plain": [
       "<IPython.core.display.HTML object>"
      ]
     },
     "metadata": {},
     "output_type": "display_data"
    },
    {
     "name": "stdout",
     "output_type": "stream",
     "text": [
      "Drawing BORNEAN PHEASANT\n"
     ]
    },
    {
     "data": {
      "text/html": [
       "<div class=\"zoom\"><img style='width: 100px; height: 100px; margin: 1px; float: left; border: 0px solid black;'title=['BORNEAN PHEASANT'] src='dataset_birds\\test\\BORNEAN PHEASANT\\1.jpg'/></div><div class=\"zoom\"><img style='width: 100px; height: 100px; margin: 1px; float: left; border: 0px solid black;'title=['BORNEAN PHEASANT'] src='dataset_birds\\test\\BORNEAN PHEASANT\\2.jpg'/></div><div class=\"zoom\"><img style='width: 100px; height: 100px; margin: 1px; float: left; border: 0px solid black;'title=['BORNEAN PHEASANT'] src='dataset_birds\\test\\BORNEAN PHEASANT\\3.jpg'/></div><div class=\"zoom\"><img style='width: 100px; height: 100px; margin: 1px; float: left; border: 0px solid black;'title=['BORNEAN PHEASANT'] src='dataset_birds\\test\\BORNEAN PHEASANT\\4.jpg'/></div><div class=\"zoom\"><img style='width: 100px; height: 100px; margin: 1px; float: left; border: 0px solid black;'title=['BORNEAN PHEASANT'] src='dataset_birds\\test\\BORNEAN PHEASANT\\5.jpg'/></div>"
      ],
      "text/plain": [
       "<IPython.core.display.HTML object>"
      ]
     },
     "metadata": {},
     "output_type": "display_data"
    },
    {
     "name": "stdout",
     "output_type": "stream",
     "text": [
      "Drawing BRANDT CORMARANT\n"
     ]
    },
    {
     "data": {
      "text/html": [
       "<div class=\"zoom\"><img style='width: 100px; height: 100px; margin: 1px; float: left; border: 0px solid black;'title=['BRANDT CORMARANT'] src='dataset_birds\\test\\BRANDT CORMARANT\\1.jpg'/></div><div class=\"zoom\"><img style='width: 100px; height: 100px; margin: 1px; float: left; border: 0px solid black;'title=['BRANDT CORMARANT'] src='dataset_birds\\test\\BRANDT CORMARANT\\2.jpg'/></div><div class=\"zoom\"><img style='width: 100px; height: 100px; margin: 1px; float: left; border: 0px solid black;'title=['BRANDT CORMARANT'] src='dataset_birds\\test\\BRANDT CORMARANT\\3.jpg'/></div><div class=\"zoom\"><img style='width: 100px; height: 100px; margin: 1px; float: left; border: 0px solid black;'title=['BRANDT CORMARANT'] src='dataset_birds\\test\\BRANDT CORMARANT\\4.jpg'/></div><div class=\"zoom\"><img style='width: 100px; height: 100px; margin: 1px; float: left; border: 0px solid black;'title=['BRANDT CORMARANT'] src='dataset_birds\\test\\BRANDT CORMARANT\\5.jpg'/></div>"
      ],
      "text/plain": [
       "<IPython.core.display.HTML object>"
      ]
     },
     "metadata": {},
     "output_type": "display_data"
    },
    {
     "name": "stdout",
     "output_type": "stream",
     "text": [
      "Drawing BREWERS BLACKBIRD\n"
     ]
    },
    {
     "data": {
      "text/html": [
       "<div class=\"zoom\"><img style='width: 100px; height: 100px; margin: 1px; float: left; border: 0px solid black;'title=['BREWERS BLACKBIRD'] src='dataset_birds\\test\\BREWERS BLACKBIRD\\1.jpg'/></div><div class=\"zoom\"><img style='width: 100px; height: 100px; margin: 1px; float: left; border: 0px solid black;'title=['BREWERS BLACKBIRD'] src='dataset_birds\\test\\BREWERS BLACKBIRD\\2.jpg'/></div><div class=\"zoom\"><img style='width: 100px; height: 100px; margin: 1px; float: left; border: 0px solid black;'title=['BREWERS BLACKBIRD'] src='dataset_birds\\test\\BREWERS BLACKBIRD\\3.jpg'/></div><div class=\"zoom\"><img style='width: 100px; height: 100px; margin: 1px; float: left; border: 0px solid black;'title=['BREWERS BLACKBIRD'] src='dataset_birds\\test\\BREWERS BLACKBIRD\\4.jpg'/></div><div class=\"zoom\"><img style='width: 100px; height: 100px; margin: 1px; float: left; border: 0px solid black;'title=['BREWERS BLACKBIRD'] src='dataset_birds\\test\\BREWERS BLACKBIRD\\5.jpg'/></div>"
      ],
      "text/plain": [
       "<IPython.core.display.HTML object>"
      ]
     },
     "metadata": {},
     "output_type": "display_data"
    },
    {
     "name": "stdout",
     "output_type": "stream",
     "text": [
      "Drawing BROWN CREPPER\n"
     ]
    },
    {
     "data": {
      "text/html": [
       "<div class=\"zoom\"><img style='width: 100px; height: 100px; margin: 1px; float: left; border: 0px solid black;'title=['BROWN CREPPER'] src='dataset_birds\\test\\BROWN CREPPER\\1.jpg'/></div><div class=\"zoom\"><img style='width: 100px; height: 100px; margin: 1px; float: left; border: 0px solid black;'title=['BROWN CREPPER'] src='dataset_birds\\test\\BROWN CREPPER\\2.jpg'/></div><div class=\"zoom\"><img style='width: 100px; height: 100px; margin: 1px; float: left; border: 0px solid black;'title=['BROWN CREPPER'] src='dataset_birds\\test\\BROWN CREPPER\\3.jpg'/></div><div class=\"zoom\"><img style='width: 100px; height: 100px; margin: 1px; float: left; border: 0px solid black;'title=['BROWN CREPPER'] src='dataset_birds\\test\\BROWN CREPPER\\4.jpg'/></div><div class=\"zoom\"><img style='width: 100px; height: 100px; margin: 1px; float: left; border: 0px solid black;'title=['BROWN CREPPER'] src='dataset_birds\\test\\BROWN CREPPER\\5.jpg'/></div>"
      ],
      "text/plain": [
       "<IPython.core.display.HTML object>"
      ]
     },
     "metadata": {},
     "output_type": "display_data"
    },
    {
     "name": "stdout",
     "output_type": "stream",
     "text": [
      "Drawing BROWN HEADED COWBIRD\n"
     ]
    },
    {
     "data": {
      "text/html": [
       "<div class=\"zoom\"><img style='width: 100px; height: 100px; margin: 1px; float: left; border: 0px solid black;'title=['BROWN HEADED COWBIRD'] src='dataset_birds\\test\\BROWN HEADED COWBIRD\\1.jpg'/></div><div class=\"zoom\"><img style='width: 100px; height: 100px; margin: 1px; float: left; border: 0px solid black;'title=['BROWN HEADED COWBIRD'] src='dataset_birds\\test\\BROWN HEADED COWBIRD\\2.jpg'/></div><div class=\"zoom\"><img style='width: 100px; height: 100px; margin: 1px; float: left; border: 0px solid black;'title=['BROWN HEADED COWBIRD'] src='dataset_birds\\test\\BROWN HEADED COWBIRD\\3.jpg'/></div><div class=\"zoom\"><img style='width: 100px; height: 100px; margin: 1px; float: left; border: 0px solid black;'title=['BROWN HEADED COWBIRD'] src='dataset_birds\\test\\BROWN HEADED COWBIRD\\4.jpg'/></div><div class=\"zoom\"><img style='width: 100px; height: 100px; margin: 1px; float: left; border: 0px solid black;'title=['BROWN HEADED COWBIRD'] src='dataset_birds\\test\\BROWN HEADED COWBIRD\\5.jpg'/></div>"
      ],
      "text/plain": [
       "<IPython.core.display.HTML object>"
      ]
     },
     "metadata": {},
     "output_type": "display_data"
    },
    {
     "name": "stdout",
     "output_type": "stream",
     "text": [
      "Drawing BROWN NOODY\n"
     ]
    },
    {
     "data": {
      "text/html": [
       "<div class=\"zoom\"><img style='width: 100px; height: 100px; margin: 1px; float: left; border: 0px solid black;'title=['BROWN NOODY'] src='dataset_birds\\test\\BROWN NOODY\\1.jpg'/></div><div class=\"zoom\"><img style='width: 100px; height: 100px; margin: 1px; float: left; border: 0px solid black;'title=['BROWN NOODY'] src='dataset_birds\\test\\BROWN NOODY\\2.jpg'/></div><div class=\"zoom\"><img style='width: 100px; height: 100px; margin: 1px; float: left; border: 0px solid black;'title=['BROWN NOODY'] src='dataset_birds\\test\\BROWN NOODY\\3.jpg'/></div><div class=\"zoom\"><img style='width: 100px; height: 100px; margin: 1px; float: left; border: 0px solid black;'title=['BROWN NOODY'] src='dataset_birds\\test\\BROWN NOODY\\4.jpg'/></div><div class=\"zoom\"><img style='width: 100px; height: 100px; margin: 1px; float: left; border: 0px solid black;'title=['BROWN NOODY'] src='dataset_birds\\test\\BROWN NOODY\\5.jpg'/></div>"
      ],
      "text/plain": [
       "<IPython.core.display.HTML object>"
      ]
     },
     "metadata": {},
     "output_type": "display_data"
    },
    {
     "name": "stdout",
     "output_type": "stream",
     "text": [
      "Drawing BROWN THRASHER\n"
     ]
    },
    {
     "data": {
      "text/html": [
       "<div class=\"zoom\"><img style='width: 100px; height: 100px; margin: 1px; float: left; border: 0px solid black;'title=['BROWN THRASHER'] src='dataset_birds\\test\\BROWN THRASHER\\1.jpg'/></div><div class=\"zoom\"><img style='width: 100px; height: 100px; margin: 1px; float: left; border: 0px solid black;'title=['BROWN THRASHER'] src='dataset_birds\\test\\BROWN THRASHER\\2.jpg'/></div><div class=\"zoom\"><img style='width: 100px; height: 100px; margin: 1px; float: left; border: 0px solid black;'title=['BROWN THRASHER'] src='dataset_birds\\test\\BROWN THRASHER\\3.jpg'/></div><div class=\"zoom\"><img style='width: 100px; height: 100px; margin: 1px; float: left; border: 0px solid black;'title=['BROWN THRASHER'] src='dataset_birds\\test\\BROWN THRASHER\\4.jpg'/></div><div class=\"zoom\"><img style='width: 100px; height: 100px; margin: 1px; float: left; border: 0px solid black;'title=['BROWN THRASHER'] src='dataset_birds\\test\\BROWN THRASHER\\5.jpg'/></div>"
      ],
      "text/plain": [
       "<IPython.core.display.HTML object>"
      ]
     },
     "metadata": {},
     "output_type": "display_data"
    },
    {
     "name": "stdout",
     "output_type": "stream",
     "text": [
      "Drawing BUFFLEHEAD\n"
     ]
    },
    {
     "data": {
      "text/html": [
       "<div class=\"zoom\"><img style='width: 100px; height: 100px; margin: 1px; float: left; border: 0px solid black;'title=['BUFFLEHEAD'] src='dataset_birds\\test\\BUFFLEHEAD\\1.jpg'/></div><div class=\"zoom\"><img style='width: 100px; height: 100px; margin: 1px; float: left; border: 0px solid black;'title=['BUFFLEHEAD'] src='dataset_birds\\test\\BUFFLEHEAD\\2.jpg'/></div><div class=\"zoom\"><img style='width: 100px; height: 100px; margin: 1px; float: left; border: 0px solid black;'title=['BUFFLEHEAD'] src='dataset_birds\\test\\BUFFLEHEAD\\3.jpg'/></div><div class=\"zoom\"><img style='width: 100px; height: 100px; margin: 1px; float: left; border: 0px solid black;'title=['BUFFLEHEAD'] src='dataset_birds\\test\\BUFFLEHEAD\\4.jpg'/></div><div class=\"zoom\"><img style='width: 100px; height: 100px; margin: 1px; float: left; border: 0px solid black;'title=['BUFFLEHEAD'] src='dataset_birds\\test\\BUFFLEHEAD\\5.jpg'/></div>"
      ],
      "text/plain": [
       "<IPython.core.display.HTML object>"
      ]
     },
     "metadata": {},
     "output_type": "display_data"
    },
    {
     "name": "stdout",
     "output_type": "stream",
     "text": [
      "Drawing BULWERS PHEASANT\n"
     ]
    },
    {
     "data": {
      "text/html": [
       "<div class=\"zoom\"><img style='width: 100px; height: 100px; margin: 1px; float: left; border: 0px solid black;'title=['BULWERS PHEASANT'] src='dataset_birds\\test\\BULWERS PHEASANT\\1.jpg'/></div><div class=\"zoom\"><img style='width: 100px; height: 100px; margin: 1px; float: left; border: 0px solid black;'title=['BULWERS PHEASANT'] src='dataset_birds\\test\\BULWERS PHEASANT\\2.jpg'/></div><div class=\"zoom\"><img style='width: 100px; height: 100px; margin: 1px; float: left; border: 0px solid black;'title=['BULWERS PHEASANT'] src='dataset_birds\\test\\BULWERS PHEASANT\\3.jpg'/></div><div class=\"zoom\"><img style='width: 100px; height: 100px; margin: 1px; float: left; border: 0px solid black;'title=['BULWERS PHEASANT'] src='dataset_birds\\test\\BULWERS PHEASANT\\4.jpg'/></div><div class=\"zoom\"><img style='width: 100px; height: 100px; margin: 1px; float: left; border: 0px solid black;'title=['BULWERS PHEASANT'] src='dataset_birds\\test\\BULWERS PHEASANT\\5.jpg'/></div>"
      ],
      "text/plain": [
       "<IPython.core.display.HTML object>"
      ]
     },
     "metadata": {},
     "output_type": "display_data"
    },
    {
     "name": "stdout",
     "output_type": "stream",
     "text": [
      "Drawing BURCHELLS COURSER\n"
     ]
    },
    {
     "data": {
      "text/html": [
       "<div class=\"zoom\"><img style='width: 100px; height: 100px; margin: 1px; float: left; border: 0px solid black;'title=['BURCHELLS COURSER'] src='dataset_birds\\test\\BURCHELLS COURSER\\1.jpg'/></div><div class=\"zoom\"><img style='width: 100px; height: 100px; margin: 1px; float: left; border: 0px solid black;'title=['BURCHELLS COURSER'] src='dataset_birds\\test\\BURCHELLS COURSER\\2.jpg'/></div><div class=\"zoom\"><img style='width: 100px; height: 100px; margin: 1px; float: left; border: 0px solid black;'title=['BURCHELLS COURSER'] src='dataset_birds\\test\\BURCHELLS COURSER\\3.jpg'/></div><div class=\"zoom\"><img style='width: 100px; height: 100px; margin: 1px; float: left; border: 0px solid black;'title=['BURCHELLS COURSER'] src='dataset_birds\\test\\BURCHELLS COURSER\\4.jpg'/></div><div class=\"zoom\"><img style='width: 100px; height: 100px; margin: 1px; float: left; border: 0px solid black;'title=['BURCHELLS COURSER'] src='dataset_birds\\test\\BURCHELLS COURSER\\5.jpg'/></div>"
      ],
      "text/plain": [
       "<IPython.core.display.HTML object>"
      ]
     },
     "metadata": {},
     "output_type": "display_data"
    },
    {
     "name": "stdout",
     "output_type": "stream",
     "text": [
      "Drawing BUSH TURKEY\n"
     ]
    },
    {
     "data": {
      "text/html": [
       "<div class=\"zoom\"><img style='width: 100px; height: 100px; margin: 1px; float: left; border: 0px solid black;'title=['BUSH TURKEY'] src='dataset_birds\\test\\BUSH TURKEY\\1.jpg'/></div><div class=\"zoom\"><img style='width: 100px; height: 100px; margin: 1px; float: left; border: 0px solid black;'title=['BUSH TURKEY'] src='dataset_birds\\test\\BUSH TURKEY\\2.jpg'/></div><div class=\"zoom\"><img style='width: 100px; height: 100px; margin: 1px; float: left; border: 0px solid black;'title=['BUSH TURKEY'] src='dataset_birds\\test\\BUSH TURKEY\\3.jpg'/></div><div class=\"zoom\"><img style='width: 100px; height: 100px; margin: 1px; float: left; border: 0px solid black;'title=['BUSH TURKEY'] src='dataset_birds\\test\\BUSH TURKEY\\4.jpg'/></div><div class=\"zoom\"><img style='width: 100px; height: 100px; margin: 1px; float: left; border: 0px solid black;'title=['BUSH TURKEY'] src='dataset_birds\\test\\BUSH TURKEY\\5.jpg'/></div>"
      ],
      "text/plain": [
       "<IPython.core.display.HTML object>"
      ]
     },
     "metadata": {},
     "output_type": "display_data"
    },
    {
     "name": "stdout",
     "output_type": "stream",
     "text": [
      "Drawing CAATINGA CACHOLOTE\n"
     ]
    },
    {
     "data": {
      "text/html": [
       "<div class=\"zoom\"><img style='width: 100px; height: 100px; margin: 1px; float: left; border: 0px solid black;'title=['CAATINGA CACHOLOTE'] src='dataset_birds\\test\\CAATINGA CACHOLOTE\\1.jpg'/></div><div class=\"zoom\"><img style='width: 100px; height: 100px; margin: 1px; float: left; border: 0px solid black;'title=['CAATINGA CACHOLOTE'] src='dataset_birds\\test\\CAATINGA CACHOLOTE\\2.jpg'/></div><div class=\"zoom\"><img style='width: 100px; height: 100px; margin: 1px; float: left; border: 0px solid black;'title=['CAATINGA CACHOLOTE'] src='dataset_birds\\test\\CAATINGA CACHOLOTE\\3.jpg'/></div><div class=\"zoom\"><img style='width: 100px; height: 100px; margin: 1px; float: left; border: 0px solid black;'title=['CAATINGA CACHOLOTE'] src='dataset_birds\\test\\CAATINGA CACHOLOTE\\4.jpg'/></div><div class=\"zoom\"><img style='width: 100px; height: 100px; margin: 1px; float: left; border: 0px solid black;'title=['CAATINGA CACHOLOTE'] src='dataset_birds\\test\\CAATINGA CACHOLOTE\\5.jpg'/></div>"
      ],
      "text/plain": [
       "<IPython.core.display.HTML object>"
      ]
     },
     "metadata": {},
     "output_type": "display_data"
    },
    {
     "name": "stdout",
     "output_type": "stream",
     "text": [
      "Drawing CABOTS TRAGOPAN\n"
     ]
    },
    {
     "data": {
      "text/html": [
       "<div class=\"zoom\"><img style='width: 100px; height: 100px; margin: 1px; float: left; border: 0px solid black;'title=['CABOTS TRAGOPAN'] src='dataset_birds\\test\\CABOTS TRAGOPAN\\1.jpg'/></div><div class=\"zoom\"><img style='width: 100px; height: 100px; margin: 1px; float: left; border: 0px solid black;'title=['CABOTS TRAGOPAN'] src='dataset_birds\\test\\CABOTS TRAGOPAN\\2.jpg'/></div><div class=\"zoom\"><img style='width: 100px; height: 100px; margin: 1px; float: left; border: 0px solid black;'title=['CABOTS TRAGOPAN'] src='dataset_birds\\test\\CABOTS TRAGOPAN\\3.jpg'/></div><div class=\"zoom\"><img style='width: 100px; height: 100px; margin: 1px; float: left; border: 0px solid black;'title=['CABOTS TRAGOPAN'] src='dataset_birds\\test\\CABOTS TRAGOPAN\\4.jpg'/></div><div class=\"zoom\"><img style='width: 100px; height: 100px; margin: 1px; float: left; border: 0px solid black;'title=['CABOTS TRAGOPAN'] src='dataset_birds\\test\\CABOTS TRAGOPAN\\5.jpg'/></div>"
      ],
      "text/plain": [
       "<IPython.core.display.HTML object>"
      ]
     },
     "metadata": {},
     "output_type": "display_data"
    },
    {
     "name": "stdout",
     "output_type": "stream",
     "text": [
      "Drawing CACTUS WREN\n"
     ]
    },
    {
     "data": {
      "text/html": [
       "<div class=\"zoom\"><img style='width: 100px; height: 100px; margin: 1px; float: left; border: 0px solid black;'title=['CACTUS WREN'] src='dataset_birds\\test\\CACTUS WREN\\1.jpg'/></div><div class=\"zoom\"><img style='width: 100px; height: 100px; margin: 1px; float: left; border: 0px solid black;'title=['CACTUS WREN'] src='dataset_birds\\test\\CACTUS WREN\\2.jpg'/></div><div class=\"zoom\"><img style='width: 100px; height: 100px; margin: 1px; float: left; border: 0px solid black;'title=['CACTUS WREN'] src='dataset_birds\\test\\CACTUS WREN\\3.jpg'/></div><div class=\"zoom\"><img style='width: 100px; height: 100px; margin: 1px; float: left; border: 0px solid black;'title=['CACTUS WREN'] src='dataset_birds\\test\\CACTUS WREN\\4.jpg'/></div><div class=\"zoom\"><img style='width: 100px; height: 100px; margin: 1px; float: left; border: 0px solid black;'title=['CACTUS WREN'] src='dataset_birds\\test\\CACTUS WREN\\5.jpg'/></div>"
      ],
      "text/plain": [
       "<IPython.core.display.HTML object>"
      ]
     },
     "metadata": {},
     "output_type": "display_data"
    },
    {
     "name": "stdout",
     "output_type": "stream",
     "text": [
      "Drawing CALIFORNIA CONDOR\n"
     ]
    },
    {
     "data": {
      "text/html": [
       "<div class=\"zoom\"><img style='width: 100px; height: 100px; margin: 1px; float: left; border: 0px solid black;'title=['CALIFORNIA CONDOR'] src='dataset_birds\\test\\CALIFORNIA CONDOR\\1.jpg'/></div><div class=\"zoom\"><img style='width: 100px; height: 100px; margin: 1px; float: left; border: 0px solid black;'title=['CALIFORNIA CONDOR'] src='dataset_birds\\test\\CALIFORNIA CONDOR\\2.jpg'/></div><div class=\"zoom\"><img style='width: 100px; height: 100px; margin: 1px; float: left; border: 0px solid black;'title=['CALIFORNIA CONDOR'] src='dataset_birds\\test\\CALIFORNIA CONDOR\\3.jpg'/></div><div class=\"zoom\"><img style='width: 100px; height: 100px; margin: 1px; float: left; border: 0px solid black;'title=['CALIFORNIA CONDOR'] src='dataset_birds\\test\\CALIFORNIA CONDOR\\4.jpg'/></div><div class=\"zoom\"><img style='width: 100px; height: 100px; margin: 1px; float: left; border: 0px solid black;'title=['CALIFORNIA CONDOR'] src='dataset_birds\\test\\CALIFORNIA CONDOR\\5.jpg'/></div>"
      ],
      "text/plain": [
       "<IPython.core.display.HTML object>"
      ]
     },
     "metadata": {},
     "output_type": "display_data"
    },
    {
     "name": "stdout",
     "output_type": "stream",
     "text": [
      "Drawing CALIFORNIA GULL\n"
     ]
    },
    {
     "data": {
      "text/html": [
       "<div class=\"zoom\"><img style='width: 100px; height: 100px; margin: 1px; float: left; border: 0px solid black;'title=['CALIFORNIA GULL'] src='dataset_birds\\test\\CALIFORNIA GULL\\1.jpg'/></div><div class=\"zoom\"><img style='width: 100px; height: 100px; margin: 1px; float: left; border: 0px solid black;'title=['CALIFORNIA GULL'] src='dataset_birds\\test\\CALIFORNIA GULL\\2.jpg'/></div><div class=\"zoom\"><img style='width: 100px; height: 100px; margin: 1px; float: left; border: 0px solid black;'title=['CALIFORNIA GULL'] src='dataset_birds\\test\\CALIFORNIA GULL\\3.jpg'/></div><div class=\"zoom\"><img style='width: 100px; height: 100px; margin: 1px; float: left; border: 0px solid black;'title=['CALIFORNIA GULL'] src='dataset_birds\\test\\CALIFORNIA GULL\\4.jpg'/></div><div class=\"zoom\"><img style='width: 100px; height: 100px; margin: 1px; float: left; border: 0px solid black;'title=['CALIFORNIA GULL'] src='dataset_birds\\test\\CALIFORNIA GULL\\5.jpg'/></div>"
      ],
      "text/plain": [
       "<IPython.core.display.HTML object>"
      ]
     },
     "metadata": {},
     "output_type": "display_data"
    },
    {
     "name": "stdout",
     "output_type": "stream",
     "text": [
      "Drawing CALIFORNIA QUAIL\n"
     ]
    },
    {
     "data": {
      "text/html": [
       "<div class=\"zoom\"><img style='width: 100px; height: 100px; margin: 1px; float: left; border: 0px solid black;'title=['CALIFORNIA QUAIL'] src='dataset_birds\\test\\CALIFORNIA QUAIL\\1.jpg'/></div><div class=\"zoom\"><img style='width: 100px; height: 100px; margin: 1px; float: left; border: 0px solid black;'title=['CALIFORNIA QUAIL'] src='dataset_birds\\test\\CALIFORNIA QUAIL\\2.jpg'/></div><div class=\"zoom\"><img style='width: 100px; height: 100px; margin: 1px; float: left; border: 0px solid black;'title=['CALIFORNIA QUAIL'] src='dataset_birds\\test\\CALIFORNIA QUAIL\\3.jpg'/></div><div class=\"zoom\"><img style='width: 100px; height: 100px; margin: 1px; float: left; border: 0px solid black;'title=['CALIFORNIA QUAIL'] src='dataset_birds\\test\\CALIFORNIA QUAIL\\4.jpg'/></div><div class=\"zoom\"><img style='width: 100px; height: 100px; margin: 1px; float: left; border: 0px solid black;'title=['CALIFORNIA QUAIL'] src='dataset_birds\\test\\CALIFORNIA QUAIL\\5.jpg'/></div>"
      ],
      "text/plain": [
       "<IPython.core.display.HTML object>"
      ]
     },
     "metadata": {},
     "output_type": "display_data"
    },
    {
     "name": "stdout",
     "output_type": "stream",
     "text": [
      "Drawing CAMPO FLICKER\n"
     ]
    },
    {
     "data": {
      "text/html": [
       "<div class=\"zoom\"><img style='width: 100px; height: 100px; margin: 1px; float: left; border: 0px solid black;'title=['CAMPO FLICKER'] src='dataset_birds\\test\\CAMPO FLICKER\\1.jpg'/></div><div class=\"zoom\"><img style='width: 100px; height: 100px; margin: 1px; float: left; border: 0px solid black;'title=['CAMPO FLICKER'] src='dataset_birds\\test\\CAMPO FLICKER\\2.jpg'/></div><div class=\"zoom\"><img style='width: 100px; height: 100px; margin: 1px; float: left; border: 0px solid black;'title=['CAMPO FLICKER'] src='dataset_birds\\test\\CAMPO FLICKER\\3.jpg'/></div><div class=\"zoom\"><img style='width: 100px; height: 100px; margin: 1px; float: left; border: 0px solid black;'title=['CAMPO FLICKER'] src='dataset_birds\\test\\CAMPO FLICKER\\4.jpg'/></div><div class=\"zoom\"><img style='width: 100px; height: 100px; margin: 1px; float: left; border: 0px solid black;'title=['CAMPO FLICKER'] src='dataset_birds\\test\\CAMPO FLICKER\\5.jpg'/></div>"
      ],
      "text/plain": [
       "<IPython.core.display.HTML object>"
      ]
     },
     "metadata": {},
     "output_type": "display_data"
    },
    {
     "name": "stdout",
     "output_type": "stream",
     "text": [
      "Drawing CANARY\n"
     ]
    },
    {
     "data": {
      "text/html": [
       "<div class=\"zoom\"><img style='width: 100px; height: 100px; margin: 1px; float: left; border: 0px solid black;'title=['CANARY'] src='dataset_birds\\test\\CANARY\\1.jpg'/></div><div class=\"zoom\"><img style='width: 100px; height: 100px; margin: 1px; float: left; border: 0px solid black;'title=['CANARY'] src='dataset_birds\\test\\CANARY\\2.jpg'/></div><div class=\"zoom\"><img style='width: 100px; height: 100px; margin: 1px; float: left; border: 0px solid black;'title=['CANARY'] src='dataset_birds\\test\\CANARY\\3.jpg'/></div><div class=\"zoom\"><img style='width: 100px; height: 100px; margin: 1px; float: left; border: 0px solid black;'title=['CANARY'] src='dataset_birds\\test\\CANARY\\4.jpg'/></div><div class=\"zoom\"><img style='width: 100px; height: 100px; margin: 1px; float: left; border: 0px solid black;'title=['CANARY'] src='dataset_birds\\test\\CANARY\\5.jpg'/></div>"
      ],
      "text/plain": [
       "<IPython.core.display.HTML object>"
      ]
     },
     "metadata": {},
     "output_type": "display_data"
    },
    {
     "name": "stdout",
     "output_type": "stream",
     "text": [
      "Drawing CANVASBACK\n"
     ]
    },
    {
     "data": {
      "text/html": [
       "<div class=\"zoom\"><img style='width: 100px; height: 100px; margin: 1px; float: left; border: 0px solid black;'title=['CANVASBACK'] src='dataset_birds\\test\\CANVASBACK\\1.jpg'/></div><div class=\"zoom\"><img style='width: 100px; height: 100px; margin: 1px; float: left; border: 0px solid black;'title=['CANVASBACK'] src='dataset_birds\\test\\CANVASBACK\\2.jpg'/></div><div class=\"zoom\"><img style='width: 100px; height: 100px; margin: 1px; float: left; border: 0px solid black;'title=['CANVASBACK'] src='dataset_birds\\test\\CANVASBACK\\3.jpg'/></div><div class=\"zoom\"><img style='width: 100px; height: 100px; margin: 1px; float: left; border: 0px solid black;'title=['CANVASBACK'] src='dataset_birds\\test\\CANVASBACK\\4.jpg'/></div><div class=\"zoom\"><img style='width: 100px; height: 100px; margin: 1px; float: left; border: 0px solid black;'title=['CANVASBACK'] src='dataset_birds\\test\\CANVASBACK\\5.jpg'/></div>"
      ],
      "text/plain": [
       "<IPython.core.display.HTML object>"
      ]
     },
     "metadata": {},
     "output_type": "display_data"
    },
    {
     "name": "stdout",
     "output_type": "stream",
     "text": [
      "Drawing CAPE GLOSSY STARLING\n"
     ]
    },
    {
     "data": {
      "text/html": [
       "<div class=\"zoom\"><img style='width: 100px; height: 100px; margin: 1px; float: left; border: 0px solid black;'title=['CAPE GLOSSY STARLING'] src='dataset_birds\\test\\CAPE GLOSSY STARLING\\1.jpg'/></div><div class=\"zoom\"><img style='width: 100px; height: 100px; margin: 1px; float: left; border: 0px solid black;'title=['CAPE GLOSSY STARLING'] src='dataset_birds\\test\\CAPE GLOSSY STARLING\\2.jpg'/></div><div class=\"zoom\"><img style='width: 100px; height: 100px; margin: 1px; float: left; border: 0px solid black;'title=['CAPE GLOSSY STARLING'] src='dataset_birds\\test\\CAPE GLOSSY STARLING\\3.jpg'/></div><div class=\"zoom\"><img style='width: 100px; height: 100px; margin: 1px; float: left; border: 0px solid black;'title=['CAPE GLOSSY STARLING'] src='dataset_birds\\test\\CAPE GLOSSY STARLING\\4.jpg'/></div><div class=\"zoom\"><img style='width: 100px; height: 100px; margin: 1px; float: left; border: 0px solid black;'title=['CAPE GLOSSY STARLING'] src='dataset_birds\\test\\CAPE GLOSSY STARLING\\5.jpg'/></div>"
      ],
      "text/plain": [
       "<IPython.core.display.HTML object>"
      ]
     },
     "metadata": {},
     "output_type": "display_data"
    },
    {
     "name": "stdout",
     "output_type": "stream",
     "text": [
      "Drawing CAPE LONGCLAW\n"
     ]
    },
    {
     "data": {
      "text/html": [
       "<div class=\"zoom\"><img style='width: 100px; height: 100px; margin: 1px; float: left; border: 0px solid black;'title=['CAPE LONGCLAW'] src='dataset_birds\\test\\CAPE LONGCLAW\\1.jpg'/></div><div class=\"zoom\"><img style='width: 100px; height: 100px; margin: 1px; float: left; border: 0px solid black;'title=['CAPE LONGCLAW'] src='dataset_birds\\test\\CAPE LONGCLAW\\2.jpg'/></div><div class=\"zoom\"><img style='width: 100px; height: 100px; margin: 1px; float: left; border: 0px solid black;'title=['CAPE LONGCLAW'] src='dataset_birds\\test\\CAPE LONGCLAW\\3.jpg'/></div><div class=\"zoom\"><img style='width: 100px; height: 100px; margin: 1px; float: left; border: 0px solid black;'title=['CAPE LONGCLAW'] src='dataset_birds\\test\\CAPE LONGCLAW\\4.jpg'/></div><div class=\"zoom\"><img style='width: 100px; height: 100px; margin: 1px; float: left; border: 0px solid black;'title=['CAPE LONGCLAW'] src='dataset_birds\\test\\CAPE LONGCLAW\\5.jpg'/></div>"
      ],
      "text/plain": [
       "<IPython.core.display.HTML object>"
      ]
     },
     "metadata": {},
     "output_type": "display_data"
    },
    {
     "name": "stdout",
     "output_type": "stream",
     "text": [
      "Drawing CAPE MAY WARBLER\n"
     ]
    },
    {
     "data": {
      "text/html": [
       "<div class=\"zoom\"><img style='width: 100px; height: 100px; margin: 1px; float: left; border: 0px solid black;'title=['CAPE MAY WARBLER'] src='dataset_birds\\test\\CAPE MAY WARBLER\\1.jpg'/></div><div class=\"zoom\"><img style='width: 100px; height: 100px; margin: 1px; float: left; border: 0px solid black;'title=['CAPE MAY WARBLER'] src='dataset_birds\\test\\CAPE MAY WARBLER\\2.jpg'/></div><div class=\"zoom\"><img style='width: 100px; height: 100px; margin: 1px; float: left; border: 0px solid black;'title=['CAPE MAY WARBLER'] src='dataset_birds\\test\\CAPE MAY WARBLER\\3.jpg'/></div><div class=\"zoom\"><img style='width: 100px; height: 100px; margin: 1px; float: left; border: 0px solid black;'title=['CAPE MAY WARBLER'] src='dataset_birds\\test\\CAPE MAY WARBLER\\4.jpg'/></div><div class=\"zoom\"><img style='width: 100px; height: 100px; margin: 1px; float: left; border: 0px solid black;'title=['CAPE MAY WARBLER'] src='dataset_birds\\test\\CAPE MAY WARBLER\\5.jpg'/></div>"
      ],
      "text/plain": [
       "<IPython.core.display.HTML object>"
      ]
     },
     "metadata": {},
     "output_type": "display_data"
    },
    {
     "name": "stdout",
     "output_type": "stream",
     "text": [
      "Drawing CAPE ROCK THRUSH\n"
     ]
    },
    {
     "data": {
      "text/html": [
       "<div class=\"zoom\"><img style='width: 100px; height: 100px; margin: 1px; float: left; border: 0px solid black;'title=['CAPE ROCK THRUSH'] src='dataset_birds\\test\\CAPE ROCK THRUSH\\1.jpg'/></div><div class=\"zoom\"><img style='width: 100px; height: 100px; margin: 1px; float: left; border: 0px solid black;'title=['CAPE ROCK THRUSH'] src='dataset_birds\\test\\CAPE ROCK THRUSH\\2.jpg'/></div><div class=\"zoom\"><img style='width: 100px; height: 100px; margin: 1px; float: left; border: 0px solid black;'title=['CAPE ROCK THRUSH'] src='dataset_birds\\test\\CAPE ROCK THRUSH\\3.jpg'/></div><div class=\"zoom\"><img style='width: 100px; height: 100px; margin: 1px; float: left; border: 0px solid black;'title=['CAPE ROCK THRUSH'] src='dataset_birds\\test\\CAPE ROCK THRUSH\\4.jpg'/></div><div class=\"zoom\"><img style='width: 100px; height: 100px; margin: 1px; float: left; border: 0px solid black;'title=['CAPE ROCK THRUSH'] src='dataset_birds\\test\\CAPE ROCK THRUSH\\5.jpg'/></div>"
      ],
      "text/plain": [
       "<IPython.core.display.HTML object>"
      ]
     },
     "metadata": {},
     "output_type": "display_data"
    },
    {
     "name": "stdout",
     "output_type": "stream",
     "text": [
      "Drawing CAPPED HERON\n"
     ]
    },
    {
     "data": {
      "text/html": [
       "<div class=\"zoom\"><img style='width: 100px; height: 100px; margin: 1px; float: left; border: 0px solid black;'title=['CAPPED HERON'] src='dataset_birds\\test\\CAPPED HERON\\1.jpg'/></div><div class=\"zoom\"><img style='width: 100px; height: 100px; margin: 1px; float: left; border: 0px solid black;'title=['CAPPED HERON'] src='dataset_birds\\test\\CAPPED HERON\\2.jpg'/></div><div class=\"zoom\"><img style='width: 100px; height: 100px; margin: 1px; float: left; border: 0px solid black;'title=['CAPPED HERON'] src='dataset_birds\\test\\CAPPED HERON\\3.jpg'/></div><div class=\"zoom\"><img style='width: 100px; height: 100px; margin: 1px; float: left; border: 0px solid black;'title=['CAPPED HERON'] src='dataset_birds\\test\\CAPPED HERON\\4.jpg'/></div><div class=\"zoom\"><img style='width: 100px; height: 100px; margin: 1px; float: left; border: 0px solid black;'title=['CAPPED HERON'] src='dataset_birds\\test\\CAPPED HERON\\5.jpg'/></div>"
      ],
      "text/plain": [
       "<IPython.core.display.HTML object>"
      ]
     },
     "metadata": {},
     "output_type": "display_data"
    },
    {
     "name": "stdout",
     "output_type": "stream",
     "text": [
      "Drawing CAPUCHINBIRD\n"
     ]
    },
    {
     "data": {
      "text/html": [
       "<div class=\"zoom\"><img style='width: 100px; height: 100px; margin: 1px; float: left; border: 0px solid black;'title=['CAPUCHINBIRD'] src='dataset_birds\\test\\CAPUCHINBIRD\\1.jpg'/></div><div class=\"zoom\"><img style='width: 100px; height: 100px; margin: 1px; float: left; border: 0px solid black;'title=['CAPUCHINBIRD'] src='dataset_birds\\test\\CAPUCHINBIRD\\2.jpg'/></div><div class=\"zoom\"><img style='width: 100px; height: 100px; margin: 1px; float: left; border: 0px solid black;'title=['CAPUCHINBIRD'] src='dataset_birds\\test\\CAPUCHINBIRD\\3.jpg'/></div><div class=\"zoom\"><img style='width: 100px; height: 100px; margin: 1px; float: left; border: 0px solid black;'title=['CAPUCHINBIRD'] src='dataset_birds\\test\\CAPUCHINBIRD\\4.jpg'/></div><div class=\"zoom\"><img style='width: 100px; height: 100px; margin: 1px; float: left; border: 0px solid black;'title=['CAPUCHINBIRD'] src='dataset_birds\\test\\CAPUCHINBIRD\\5.jpg'/></div>"
      ],
      "text/plain": [
       "<IPython.core.display.HTML object>"
      ]
     },
     "metadata": {},
     "output_type": "display_data"
    },
    {
     "name": "stdout",
     "output_type": "stream",
     "text": [
      "Drawing CARMINE BEE-EATER\n"
     ]
    },
    {
     "data": {
      "text/html": [
       "<div class=\"zoom\"><img style='width: 100px; height: 100px; margin: 1px; float: left; border: 0px solid black;'title=['CARMINE BEE-EATER'] src='dataset_birds\\test\\CARMINE BEE-EATER\\1.jpg'/></div><div class=\"zoom\"><img style='width: 100px; height: 100px; margin: 1px; float: left; border: 0px solid black;'title=['CARMINE BEE-EATER'] src='dataset_birds\\test\\CARMINE BEE-EATER\\2.jpg'/></div><div class=\"zoom\"><img style='width: 100px; height: 100px; margin: 1px; float: left; border: 0px solid black;'title=['CARMINE BEE-EATER'] src='dataset_birds\\test\\CARMINE BEE-EATER\\3.jpg'/></div><div class=\"zoom\"><img style='width: 100px; height: 100px; margin: 1px; float: left; border: 0px solid black;'title=['CARMINE BEE-EATER'] src='dataset_birds\\test\\CARMINE BEE-EATER\\4.jpg'/></div><div class=\"zoom\"><img style='width: 100px; height: 100px; margin: 1px; float: left; border: 0px solid black;'title=['CARMINE BEE-EATER'] src='dataset_birds\\test\\CARMINE BEE-EATER\\5.jpg'/></div>"
      ],
      "text/plain": [
       "<IPython.core.display.HTML object>"
      ]
     },
     "metadata": {},
     "output_type": "display_data"
    },
    {
     "name": "stdout",
     "output_type": "stream",
     "text": [
      "Drawing CASPIAN TERN\n"
     ]
    },
    {
     "data": {
      "text/html": [
       "<div class=\"zoom\"><img style='width: 100px; height: 100px; margin: 1px; float: left; border: 0px solid black;'title=['CASPIAN TERN'] src='dataset_birds\\test\\CASPIAN TERN\\1.jpg'/></div><div class=\"zoom\"><img style='width: 100px; height: 100px; margin: 1px; float: left; border: 0px solid black;'title=['CASPIAN TERN'] src='dataset_birds\\test\\CASPIAN TERN\\2.jpg'/></div><div class=\"zoom\"><img style='width: 100px; height: 100px; margin: 1px; float: left; border: 0px solid black;'title=['CASPIAN TERN'] src='dataset_birds\\test\\CASPIAN TERN\\3.jpg'/></div><div class=\"zoom\"><img style='width: 100px; height: 100px; margin: 1px; float: left; border: 0px solid black;'title=['CASPIAN TERN'] src='dataset_birds\\test\\CASPIAN TERN\\4.jpg'/></div><div class=\"zoom\"><img style='width: 100px; height: 100px; margin: 1px; float: left; border: 0px solid black;'title=['CASPIAN TERN'] src='dataset_birds\\test\\CASPIAN TERN\\5.jpg'/></div>"
      ],
      "text/plain": [
       "<IPython.core.display.HTML object>"
      ]
     },
     "metadata": {},
     "output_type": "display_data"
    },
    {
     "name": "stdout",
     "output_type": "stream",
     "text": [
      "Drawing CASSOWARY\n"
     ]
    },
    {
     "data": {
      "text/html": [
       "<div class=\"zoom\"><img style='width: 100px; height: 100px; margin: 1px; float: left; border: 0px solid black;'title=['CASSOWARY'] src='dataset_birds\\test\\CASSOWARY\\1.jpg'/></div><div class=\"zoom\"><img style='width: 100px; height: 100px; margin: 1px; float: left; border: 0px solid black;'title=['CASSOWARY'] src='dataset_birds\\test\\CASSOWARY\\2.jpg'/></div><div class=\"zoom\"><img style='width: 100px; height: 100px; margin: 1px; float: left; border: 0px solid black;'title=['CASSOWARY'] src='dataset_birds\\test\\CASSOWARY\\3.jpg'/></div><div class=\"zoom\"><img style='width: 100px; height: 100px; margin: 1px; float: left; border: 0px solid black;'title=['CASSOWARY'] src='dataset_birds\\test\\CASSOWARY\\4.jpg'/></div><div class=\"zoom\"><img style='width: 100px; height: 100px; margin: 1px; float: left; border: 0px solid black;'title=['CASSOWARY'] src='dataset_birds\\test\\CASSOWARY\\5.jpg'/></div>"
      ],
      "text/plain": [
       "<IPython.core.display.HTML object>"
      ]
     },
     "metadata": {},
     "output_type": "display_data"
    },
    {
     "name": "stdout",
     "output_type": "stream",
     "text": [
      "Drawing CEDAR WAXWING\n"
     ]
    },
    {
     "data": {
      "text/html": [
       "<div class=\"zoom\"><img style='width: 100px; height: 100px; margin: 1px; float: left; border: 0px solid black;'title=['CEDAR WAXWING'] src='dataset_birds\\test\\CEDAR WAXWING\\1.jpg'/></div><div class=\"zoom\"><img style='width: 100px; height: 100px; margin: 1px; float: left; border: 0px solid black;'title=['CEDAR WAXWING'] src='dataset_birds\\test\\CEDAR WAXWING\\2.jpg'/></div><div class=\"zoom\"><img style='width: 100px; height: 100px; margin: 1px; float: left; border: 0px solid black;'title=['CEDAR WAXWING'] src='dataset_birds\\test\\CEDAR WAXWING\\3.jpg'/></div><div class=\"zoom\"><img style='width: 100px; height: 100px; margin: 1px; float: left; border: 0px solid black;'title=['CEDAR WAXWING'] src='dataset_birds\\test\\CEDAR WAXWING\\4.jpg'/></div><div class=\"zoom\"><img style='width: 100px; height: 100px; margin: 1px; float: left; border: 0px solid black;'title=['CEDAR WAXWING'] src='dataset_birds\\test\\CEDAR WAXWING\\5.jpg'/></div>"
      ],
      "text/plain": [
       "<IPython.core.display.HTML object>"
      ]
     },
     "metadata": {},
     "output_type": "display_data"
    },
    {
     "name": "stdout",
     "output_type": "stream",
     "text": [
      "Drawing CERULEAN WARBLER\n"
     ]
    },
    {
     "data": {
      "text/html": [
       "<div class=\"zoom\"><img style='width: 100px; height: 100px; margin: 1px; float: left; border: 0px solid black;'title=['CERULEAN WARBLER'] src='dataset_birds\\test\\CERULEAN WARBLER\\1.jpg'/></div><div class=\"zoom\"><img style='width: 100px; height: 100px; margin: 1px; float: left; border: 0px solid black;'title=['CERULEAN WARBLER'] src='dataset_birds\\test\\CERULEAN WARBLER\\2.jpg'/></div><div class=\"zoom\"><img style='width: 100px; height: 100px; margin: 1px; float: left; border: 0px solid black;'title=['CERULEAN WARBLER'] src='dataset_birds\\test\\CERULEAN WARBLER\\3.jpg'/></div><div class=\"zoom\"><img style='width: 100px; height: 100px; margin: 1px; float: left; border: 0px solid black;'title=['CERULEAN WARBLER'] src='dataset_birds\\test\\CERULEAN WARBLER\\4.jpg'/></div><div class=\"zoom\"><img style='width: 100px; height: 100px; margin: 1px; float: left; border: 0px solid black;'title=['CERULEAN WARBLER'] src='dataset_birds\\test\\CERULEAN WARBLER\\5.jpg'/></div>"
      ],
      "text/plain": [
       "<IPython.core.display.HTML object>"
      ]
     },
     "metadata": {},
     "output_type": "display_data"
    },
    {
     "name": "stdout",
     "output_type": "stream",
     "text": [
      "Drawing CHARA DE COLLAR\n"
     ]
    },
    {
     "data": {
      "text/html": [
       "<div class=\"zoom\"><img style='width: 100px; height: 100px; margin: 1px; float: left; border: 0px solid black;'title=['CHARA DE COLLAR'] src='dataset_birds\\test\\CHARA DE COLLAR\\1.jpg'/></div><div class=\"zoom\"><img style='width: 100px; height: 100px; margin: 1px; float: left; border: 0px solid black;'title=['CHARA DE COLLAR'] src='dataset_birds\\test\\CHARA DE COLLAR\\2.jpg'/></div><div class=\"zoom\"><img style='width: 100px; height: 100px; margin: 1px; float: left; border: 0px solid black;'title=['CHARA DE COLLAR'] src='dataset_birds\\test\\CHARA DE COLLAR\\3.jpg'/></div><div class=\"zoom\"><img style='width: 100px; height: 100px; margin: 1px; float: left; border: 0px solid black;'title=['CHARA DE COLLAR'] src='dataset_birds\\test\\CHARA DE COLLAR\\4.jpg'/></div><div class=\"zoom\"><img style='width: 100px; height: 100px; margin: 1px; float: left; border: 0px solid black;'title=['CHARA DE COLLAR'] src='dataset_birds\\test\\CHARA DE COLLAR\\5.jpg'/></div>"
      ],
      "text/plain": [
       "<IPython.core.display.HTML object>"
      ]
     },
     "metadata": {},
     "output_type": "display_data"
    },
    {
     "name": "stdout",
     "output_type": "stream",
     "text": [
      "Drawing CHATTERING LORY\n"
     ]
    },
    {
     "data": {
      "text/html": [
       "<div class=\"zoom\"><img style='width: 100px; height: 100px; margin: 1px; float: left; border: 0px solid black;'title=['CHATTERING LORY'] src='dataset_birds\\test\\CHATTERING LORY\\1.jpg'/></div><div class=\"zoom\"><img style='width: 100px; height: 100px; margin: 1px; float: left; border: 0px solid black;'title=['CHATTERING LORY'] src='dataset_birds\\test\\CHATTERING LORY\\2.jpg'/></div><div class=\"zoom\"><img style='width: 100px; height: 100px; margin: 1px; float: left; border: 0px solid black;'title=['CHATTERING LORY'] src='dataset_birds\\test\\CHATTERING LORY\\3.jpg'/></div><div class=\"zoom\"><img style='width: 100px; height: 100px; margin: 1px; float: left; border: 0px solid black;'title=['CHATTERING LORY'] src='dataset_birds\\test\\CHATTERING LORY\\4.jpg'/></div><div class=\"zoom\"><img style='width: 100px; height: 100px; margin: 1px; float: left; border: 0px solid black;'title=['CHATTERING LORY'] src='dataset_birds\\test\\CHATTERING LORY\\5.jpg'/></div>"
      ],
      "text/plain": [
       "<IPython.core.display.HTML object>"
      ]
     },
     "metadata": {},
     "output_type": "display_data"
    },
    {
     "name": "stdout",
     "output_type": "stream",
     "text": [
      "Drawing CHESTNET BELLIED EUPHONIA\n"
     ]
    },
    {
     "data": {
      "text/html": [
       "<div class=\"zoom\"><img style='width: 100px; height: 100px; margin: 1px; float: left; border: 0px solid black;'title=['CHESTNET BELLIED EUPHONIA'] src='dataset_birds\\test\\CHESTNET BELLIED EUPHONIA\\1.jpg'/></div><div class=\"zoom\"><img style='width: 100px; height: 100px; margin: 1px; float: left; border: 0px solid black;'title=['CHESTNET BELLIED EUPHONIA'] src='dataset_birds\\test\\CHESTNET BELLIED EUPHONIA\\2.jpg'/></div><div class=\"zoom\"><img style='width: 100px; height: 100px; margin: 1px; float: left; border: 0px solid black;'title=['CHESTNET BELLIED EUPHONIA'] src='dataset_birds\\test\\CHESTNET BELLIED EUPHONIA\\3.jpg'/></div><div class=\"zoom\"><img style='width: 100px; height: 100px; margin: 1px; float: left; border: 0px solid black;'title=['CHESTNET BELLIED EUPHONIA'] src='dataset_birds\\test\\CHESTNET BELLIED EUPHONIA\\4.jpg'/></div><div class=\"zoom\"><img style='width: 100px; height: 100px; margin: 1px; float: left; border: 0px solid black;'title=['CHESTNET BELLIED EUPHONIA'] src='dataset_birds\\test\\CHESTNET BELLIED EUPHONIA\\5.jpg'/></div>"
      ],
      "text/plain": [
       "<IPython.core.display.HTML object>"
      ]
     },
     "metadata": {},
     "output_type": "display_data"
    },
    {
     "name": "stdout",
     "output_type": "stream",
     "text": [
      "Drawing CHESTNUT WINGED CUCKOO\n"
     ]
    },
    {
     "data": {
      "text/html": [
       "<div class=\"zoom\"><img style='width: 100px; height: 100px; margin: 1px; float: left; border: 0px solid black;'title=['CHESTNUT WINGED CUCKOO'] src='dataset_birds\\test\\CHESTNUT WINGED CUCKOO\\1.jpg'/></div><div class=\"zoom\"><img style='width: 100px; height: 100px; margin: 1px; float: left; border: 0px solid black;'title=['CHESTNUT WINGED CUCKOO'] src='dataset_birds\\test\\CHESTNUT WINGED CUCKOO\\2.jpg'/></div><div class=\"zoom\"><img style='width: 100px; height: 100px; margin: 1px; float: left; border: 0px solid black;'title=['CHESTNUT WINGED CUCKOO'] src='dataset_birds\\test\\CHESTNUT WINGED CUCKOO\\3.jpg'/></div><div class=\"zoom\"><img style='width: 100px; height: 100px; margin: 1px; float: left; border: 0px solid black;'title=['CHESTNUT WINGED CUCKOO'] src='dataset_birds\\test\\CHESTNUT WINGED CUCKOO\\4.jpg'/></div><div class=\"zoom\"><img style='width: 100px; height: 100px; margin: 1px; float: left; border: 0px solid black;'title=['CHESTNUT WINGED CUCKOO'] src='dataset_birds\\test\\CHESTNUT WINGED CUCKOO\\5.jpg'/></div>"
      ],
      "text/plain": [
       "<IPython.core.display.HTML object>"
      ]
     },
     "metadata": {},
     "output_type": "display_data"
    },
    {
     "name": "stdout",
     "output_type": "stream",
     "text": [
      "Drawing CHINESE BAMBOO PARTRIDGE\n"
     ]
    },
    {
     "data": {
      "text/html": [
       "<div class=\"zoom\"><img style='width: 100px; height: 100px; margin: 1px; float: left; border: 0px solid black;'title=['CHINESE BAMBOO PARTRIDGE'] src='dataset_birds\\test\\CHINESE BAMBOO PARTRIDGE\\1.jpg'/></div><div class=\"zoom\"><img style='width: 100px; height: 100px; margin: 1px; float: left; border: 0px solid black;'title=['CHINESE BAMBOO PARTRIDGE'] src='dataset_birds\\test\\CHINESE BAMBOO PARTRIDGE\\2.jpg'/></div><div class=\"zoom\"><img style='width: 100px; height: 100px; margin: 1px; float: left; border: 0px solid black;'title=['CHINESE BAMBOO PARTRIDGE'] src='dataset_birds\\test\\CHINESE BAMBOO PARTRIDGE\\3.jpg'/></div><div class=\"zoom\"><img style='width: 100px; height: 100px; margin: 1px; float: left; border: 0px solid black;'title=['CHINESE BAMBOO PARTRIDGE'] src='dataset_birds\\test\\CHINESE BAMBOO PARTRIDGE\\4.jpg'/></div><div class=\"zoom\"><img style='width: 100px; height: 100px; margin: 1px; float: left; border: 0px solid black;'title=['CHINESE BAMBOO PARTRIDGE'] src='dataset_birds\\test\\CHINESE BAMBOO PARTRIDGE\\5.jpg'/></div>"
      ],
      "text/plain": [
       "<IPython.core.display.HTML object>"
      ]
     },
     "metadata": {},
     "output_type": "display_data"
    },
    {
     "name": "stdout",
     "output_type": "stream",
     "text": [
      "Drawing CHINESE POND HERON\n"
     ]
    },
    {
     "data": {
      "text/html": [
       "<div class=\"zoom\"><img style='width: 100px; height: 100px; margin: 1px; float: left; border: 0px solid black;'title=['CHINESE POND HERON'] src='dataset_birds\\test\\CHINESE POND HERON\\1.jpg'/></div><div class=\"zoom\"><img style='width: 100px; height: 100px; margin: 1px; float: left; border: 0px solid black;'title=['CHINESE POND HERON'] src='dataset_birds\\test\\CHINESE POND HERON\\2.jpg'/></div><div class=\"zoom\"><img style='width: 100px; height: 100px; margin: 1px; float: left; border: 0px solid black;'title=['CHINESE POND HERON'] src='dataset_birds\\test\\CHINESE POND HERON\\3.jpg'/></div><div class=\"zoom\"><img style='width: 100px; height: 100px; margin: 1px; float: left; border: 0px solid black;'title=['CHINESE POND HERON'] src='dataset_birds\\test\\CHINESE POND HERON\\4.jpg'/></div><div class=\"zoom\"><img style='width: 100px; height: 100px; margin: 1px; float: left; border: 0px solid black;'title=['CHINESE POND HERON'] src='dataset_birds\\test\\CHINESE POND HERON\\5.jpg'/></div>"
      ],
      "text/plain": [
       "<IPython.core.display.HTML object>"
      ]
     },
     "metadata": {},
     "output_type": "display_data"
    },
    {
     "name": "stdout",
     "output_type": "stream",
     "text": [
      "Drawing CHIPPING SPARROW\n"
     ]
    },
    {
     "data": {
      "text/html": [
       "<div class=\"zoom\"><img style='width: 100px; height: 100px; margin: 1px; float: left; border: 0px solid black;'title=['CHIPPING SPARROW'] src='dataset_birds\\test\\CHIPPING SPARROW\\1.jpg'/></div><div class=\"zoom\"><img style='width: 100px; height: 100px; margin: 1px; float: left; border: 0px solid black;'title=['CHIPPING SPARROW'] src='dataset_birds\\test\\CHIPPING SPARROW\\2.jpg'/></div><div class=\"zoom\"><img style='width: 100px; height: 100px; margin: 1px; float: left; border: 0px solid black;'title=['CHIPPING SPARROW'] src='dataset_birds\\test\\CHIPPING SPARROW\\3.jpg'/></div><div class=\"zoom\"><img style='width: 100px; height: 100px; margin: 1px; float: left; border: 0px solid black;'title=['CHIPPING SPARROW'] src='dataset_birds\\test\\CHIPPING SPARROW\\4.jpg'/></div><div class=\"zoom\"><img style='width: 100px; height: 100px; margin: 1px; float: left; border: 0px solid black;'title=['CHIPPING SPARROW'] src='dataset_birds\\test\\CHIPPING SPARROW\\5.jpg'/></div>"
      ],
      "text/plain": [
       "<IPython.core.display.HTML object>"
      ]
     },
     "metadata": {},
     "output_type": "display_data"
    },
    {
     "name": "stdout",
     "output_type": "stream",
     "text": [
      "Drawing CHUCAO TAPACULO\n"
     ]
    },
    {
     "data": {
      "text/html": [
       "<div class=\"zoom\"><img style='width: 100px; height: 100px; margin: 1px; float: left; border: 0px solid black;'title=['CHUCAO TAPACULO'] src='dataset_birds\\test\\CHUCAO TAPACULO\\1.jpg'/></div><div class=\"zoom\"><img style='width: 100px; height: 100px; margin: 1px; float: left; border: 0px solid black;'title=['CHUCAO TAPACULO'] src='dataset_birds\\test\\CHUCAO TAPACULO\\2.jpg'/></div><div class=\"zoom\"><img style='width: 100px; height: 100px; margin: 1px; float: left; border: 0px solid black;'title=['CHUCAO TAPACULO'] src='dataset_birds\\test\\CHUCAO TAPACULO\\3.jpg'/></div><div class=\"zoom\"><img style='width: 100px; height: 100px; margin: 1px; float: left; border: 0px solid black;'title=['CHUCAO TAPACULO'] src='dataset_birds\\test\\CHUCAO TAPACULO\\4.jpg'/></div><div class=\"zoom\"><img style='width: 100px; height: 100px; margin: 1px; float: left; border: 0px solid black;'title=['CHUCAO TAPACULO'] src='dataset_birds\\test\\CHUCAO TAPACULO\\5.jpg'/></div>"
      ],
      "text/plain": [
       "<IPython.core.display.HTML object>"
      ]
     },
     "metadata": {},
     "output_type": "display_data"
    },
    {
     "name": "stdout",
     "output_type": "stream",
     "text": [
      "Drawing CHUKAR PARTRIDGE\n"
     ]
    },
    {
     "data": {
      "text/html": [
       "<div class=\"zoom\"><img style='width: 100px; height: 100px; margin: 1px; float: left; border: 0px solid black;'title=['CHUKAR PARTRIDGE'] src='dataset_birds\\test\\CHUKAR PARTRIDGE\\1.jpg'/></div><div class=\"zoom\"><img style='width: 100px; height: 100px; margin: 1px; float: left; border: 0px solid black;'title=['CHUKAR PARTRIDGE'] src='dataset_birds\\test\\CHUKAR PARTRIDGE\\2.jpg'/></div><div class=\"zoom\"><img style='width: 100px; height: 100px; margin: 1px; float: left; border: 0px solid black;'title=['CHUKAR PARTRIDGE'] src='dataset_birds\\test\\CHUKAR PARTRIDGE\\3.jpg'/></div><div class=\"zoom\"><img style='width: 100px; height: 100px; margin: 1px; float: left; border: 0px solid black;'title=['CHUKAR PARTRIDGE'] src='dataset_birds\\test\\CHUKAR PARTRIDGE\\4.jpg'/></div><div class=\"zoom\"><img style='width: 100px; height: 100px; margin: 1px; float: left; border: 0px solid black;'title=['CHUKAR PARTRIDGE'] src='dataset_birds\\test\\CHUKAR PARTRIDGE\\5.jpg'/></div>"
      ],
      "text/plain": [
       "<IPython.core.display.HTML object>"
      ]
     },
     "metadata": {},
     "output_type": "display_data"
    },
    {
     "name": "stdout",
     "output_type": "stream",
     "text": [
      "Drawing CINNAMON ATTILA\n"
     ]
    },
    {
     "data": {
      "text/html": [
       "<div class=\"zoom\"><img style='width: 100px; height: 100px; margin: 1px; float: left; border: 0px solid black;'title=['CINNAMON ATTILA'] src='dataset_birds\\test\\CINNAMON ATTILA\\1.jpg'/></div><div class=\"zoom\"><img style='width: 100px; height: 100px; margin: 1px; float: left; border: 0px solid black;'title=['CINNAMON ATTILA'] src='dataset_birds\\test\\CINNAMON ATTILA\\2.jpg'/></div><div class=\"zoom\"><img style='width: 100px; height: 100px; margin: 1px; float: left; border: 0px solid black;'title=['CINNAMON ATTILA'] src='dataset_birds\\test\\CINNAMON ATTILA\\3.jpg'/></div><div class=\"zoom\"><img style='width: 100px; height: 100px; margin: 1px; float: left; border: 0px solid black;'title=['CINNAMON ATTILA'] src='dataset_birds\\test\\CINNAMON ATTILA\\4.jpg'/></div><div class=\"zoom\"><img style='width: 100px; height: 100px; margin: 1px; float: left; border: 0px solid black;'title=['CINNAMON ATTILA'] src='dataset_birds\\test\\CINNAMON ATTILA\\5.jpg'/></div>"
      ],
      "text/plain": [
       "<IPython.core.display.HTML object>"
      ]
     },
     "metadata": {},
     "output_type": "display_data"
    },
    {
     "name": "stdout",
     "output_type": "stream",
     "text": [
      "Drawing CINNAMON FLYCATCHER\n"
     ]
    },
    {
     "data": {
      "text/html": [
       "<div class=\"zoom\"><img style='width: 100px; height: 100px; margin: 1px; float: left; border: 0px solid black;'title=['CINNAMON FLYCATCHER'] src='dataset_birds\\test\\CINNAMON FLYCATCHER\\1.jpg'/></div><div class=\"zoom\"><img style='width: 100px; height: 100px; margin: 1px; float: left; border: 0px solid black;'title=['CINNAMON FLYCATCHER'] src='dataset_birds\\test\\CINNAMON FLYCATCHER\\2.jpg'/></div><div class=\"zoom\"><img style='width: 100px; height: 100px; margin: 1px; float: left; border: 0px solid black;'title=['CINNAMON FLYCATCHER'] src='dataset_birds\\test\\CINNAMON FLYCATCHER\\3.jpg'/></div><div class=\"zoom\"><img style='width: 100px; height: 100px; margin: 1px; float: left; border: 0px solid black;'title=['CINNAMON FLYCATCHER'] src='dataset_birds\\test\\CINNAMON FLYCATCHER\\4.jpg'/></div><div class=\"zoom\"><img style='width: 100px; height: 100px; margin: 1px; float: left; border: 0px solid black;'title=['CINNAMON FLYCATCHER'] src='dataset_birds\\test\\CINNAMON FLYCATCHER\\5.jpg'/></div>"
      ],
      "text/plain": [
       "<IPython.core.display.HTML object>"
      ]
     },
     "metadata": {},
     "output_type": "display_data"
    },
    {
     "name": "stdout",
     "output_type": "stream",
     "text": [
      "Drawing CINNAMON TEAL\n"
     ]
    },
    {
     "data": {
      "text/html": [
       "<div class=\"zoom\"><img style='width: 100px; height: 100px; margin: 1px; float: left; border: 0px solid black;'title=['CINNAMON TEAL'] src='dataset_birds\\test\\CINNAMON TEAL\\1.jpg'/></div><div class=\"zoom\"><img style='width: 100px; height: 100px; margin: 1px; float: left; border: 0px solid black;'title=['CINNAMON TEAL'] src='dataset_birds\\test\\CINNAMON TEAL\\2.jpg'/></div><div class=\"zoom\"><img style='width: 100px; height: 100px; margin: 1px; float: left; border: 0px solid black;'title=['CINNAMON TEAL'] src='dataset_birds\\test\\CINNAMON TEAL\\3.jpg'/></div><div class=\"zoom\"><img style='width: 100px; height: 100px; margin: 1px; float: left; border: 0px solid black;'title=['CINNAMON TEAL'] src='dataset_birds\\test\\CINNAMON TEAL\\4.jpg'/></div><div class=\"zoom\"><img style='width: 100px; height: 100px; margin: 1px; float: left; border: 0px solid black;'title=['CINNAMON TEAL'] src='dataset_birds\\test\\CINNAMON TEAL\\5.jpg'/></div>"
      ],
      "text/plain": [
       "<IPython.core.display.HTML object>"
      ]
     },
     "metadata": {},
     "output_type": "display_data"
    },
    {
     "name": "stdout",
     "output_type": "stream",
     "text": [
      "Drawing CLARKS GREBE\n"
     ]
    },
    {
     "data": {
      "text/html": [
       "<div class=\"zoom\"><img style='width: 100px; height: 100px; margin: 1px; float: left; border: 0px solid black;'title=['CLARKS GREBE'] src='dataset_birds\\test\\CLARKS GREBE\\1.jpg'/></div><div class=\"zoom\"><img style='width: 100px; height: 100px; margin: 1px; float: left; border: 0px solid black;'title=['CLARKS GREBE'] src='dataset_birds\\test\\CLARKS GREBE\\2.jpg'/></div><div class=\"zoom\"><img style='width: 100px; height: 100px; margin: 1px; float: left; border: 0px solid black;'title=['CLARKS GREBE'] src='dataset_birds\\test\\CLARKS GREBE\\3.jpg'/></div><div class=\"zoom\"><img style='width: 100px; height: 100px; margin: 1px; float: left; border: 0px solid black;'title=['CLARKS GREBE'] src='dataset_birds\\test\\CLARKS GREBE\\4.jpg'/></div><div class=\"zoom\"><img style='width: 100px; height: 100px; margin: 1px; float: left; border: 0px solid black;'title=['CLARKS GREBE'] src='dataset_birds\\test\\CLARKS GREBE\\5.jpg'/></div>"
      ],
      "text/plain": [
       "<IPython.core.display.HTML object>"
      ]
     },
     "metadata": {},
     "output_type": "display_data"
    },
    {
     "name": "stdout",
     "output_type": "stream",
     "text": [
      "Drawing CLARKS NUTCRACKER\n"
     ]
    },
    {
     "data": {
      "text/html": [
       "<div class=\"zoom\"><img style='width: 100px; height: 100px; margin: 1px; float: left; border: 0px solid black;'title=['CLARKS NUTCRACKER'] src='dataset_birds\\test\\CLARKS NUTCRACKER\\1.jpg'/></div><div class=\"zoom\"><img style='width: 100px; height: 100px; margin: 1px; float: left; border: 0px solid black;'title=['CLARKS NUTCRACKER'] src='dataset_birds\\test\\CLARKS NUTCRACKER\\2.jpg'/></div><div class=\"zoom\"><img style='width: 100px; height: 100px; margin: 1px; float: left; border: 0px solid black;'title=['CLARKS NUTCRACKER'] src='dataset_birds\\test\\CLARKS NUTCRACKER\\3.jpg'/></div><div class=\"zoom\"><img style='width: 100px; height: 100px; margin: 1px; float: left; border: 0px solid black;'title=['CLARKS NUTCRACKER'] src='dataset_birds\\test\\CLARKS NUTCRACKER\\4.jpg'/></div><div class=\"zoom\"><img style='width: 100px; height: 100px; margin: 1px; float: left; border: 0px solid black;'title=['CLARKS NUTCRACKER'] src='dataset_birds\\test\\CLARKS NUTCRACKER\\5.jpg'/></div>"
      ],
      "text/plain": [
       "<IPython.core.display.HTML object>"
      ]
     },
     "metadata": {},
     "output_type": "display_data"
    },
    {
     "name": "stdout",
     "output_type": "stream",
     "text": [
      "Drawing COCK OF THE  ROCK\n"
     ]
    },
    {
     "data": {
      "text/html": [
       "<div class=\"zoom\"><img style='width: 100px; height: 100px; margin: 1px; float: left; border: 0px solid black;'title=['COCK OF THE  ROCK'] src='dataset_birds\\test\\COCK OF THE  ROCK\\1.jpg'/></div><div class=\"zoom\"><img style='width: 100px; height: 100px; margin: 1px; float: left; border: 0px solid black;'title=['COCK OF THE  ROCK'] src='dataset_birds\\test\\COCK OF THE  ROCK\\2.jpg'/></div><div class=\"zoom\"><img style='width: 100px; height: 100px; margin: 1px; float: left; border: 0px solid black;'title=['COCK OF THE  ROCK'] src='dataset_birds\\test\\COCK OF THE  ROCK\\3.jpg'/></div><div class=\"zoom\"><img style='width: 100px; height: 100px; margin: 1px; float: left; border: 0px solid black;'title=['COCK OF THE  ROCK'] src='dataset_birds\\test\\COCK OF THE  ROCK\\4.jpg'/></div><div class=\"zoom\"><img style='width: 100px; height: 100px; margin: 1px; float: left; border: 0px solid black;'title=['COCK OF THE  ROCK'] src='dataset_birds\\test\\COCK OF THE  ROCK\\5.jpg'/></div>"
      ],
      "text/plain": [
       "<IPython.core.display.HTML object>"
      ]
     },
     "metadata": {},
     "output_type": "display_data"
    },
    {
     "name": "stdout",
     "output_type": "stream",
     "text": [
      "Drawing COCKATOO\n"
     ]
    },
    {
     "data": {
      "text/html": [
       "<div class=\"zoom\"><img style='width: 100px; height: 100px; margin: 1px; float: left; border: 0px solid black;'title=['COCKATOO'] src='dataset_birds\\test\\COCKATOO\\1.jpg'/></div><div class=\"zoom\"><img style='width: 100px; height: 100px; margin: 1px; float: left; border: 0px solid black;'title=['COCKATOO'] src='dataset_birds\\test\\COCKATOO\\2.jpg'/></div><div class=\"zoom\"><img style='width: 100px; height: 100px; margin: 1px; float: left; border: 0px solid black;'title=['COCKATOO'] src='dataset_birds\\test\\COCKATOO\\3.jpg'/></div><div class=\"zoom\"><img style='width: 100px; height: 100px; margin: 1px; float: left; border: 0px solid black;'title=['COCKATOO'] src='dataset_birds\\test\\COCKATOO\\4.jpg'/></div><div class=\"zoom\"><img style='width: 100px; height: 100px; margin: 1px; float: left; border: 0px solid black;'title=['COCKATOO'] src='dataset_birds\\test\\COCKATOO\\5.jpg'/></div>"
      ],
      "text/plain": [
       "<IPython.core.display.HTML object>"
      ]
     },
     "metadata": {},
     "output_type": "display_data"
    },
    {
     "name": "stdout",
     "output_type": "stream",
     "text": [
      "Drawing COLLARED ARACARI\n"
     ]
    },
    {
     "data": {
      "text/html": [
       "<div class=\"zoom\"><img style='width: 100px; height: 100px; margin: 1px; float: left; border: 0px solid black;'title=['COLLARED ARACARI'] src='dataset_birds\\test\\COLLARED ARACARI\\1.jpg'/></div><div class=\"zoom\"><img style='width: 100px; height: 100px; margin: 1px; float: left; border: 0px solid black;'title=['COLLARED ARACARI'] src='dataset_birds\\test\\COLLARED ARACARI\\2.jpg'/></div><div class=\"zoom\"><img style='width: 100px; height: 100px; margin: 1px; float: left; border: 0px solid black;'title=['COLLARED ARACARI'] src='dataset_birds\\test\\COLLARED ARACARI\\3.jpg'/></div><div class=\"zoom\"><img style='width: 100px; height: 100px; margin: 1px; float: left; border: 0px solid black;'title=['COLLARED ARACARI'] src='dataset_birds\\test\\COLLARED ARACARI\\4.jpg'/></div><div class=\"zoom\"><img style='width: 100px; height: 100px; margin: 1px; float: left; border: 0px solid black;'title=['COLLARED ARACARI'] src='dataset_birds\\test\\COLLARED ARACARI\\5.jpg'/></div>"
      ],
      "text/plain": [
       "<IPython.core.display.HTML object>"
      ]
     },
     "metadata": {},
     "output_type": "display_data"
    },
    {
     "name": "stdout",
     "output_type": "stream",
     "text": [
      "Drawing COLLARED CRESCENTCHEST\n"
     ]
    },
    {
     "data": {
      "text/html": [
       "<div class=\"zoom\"><img style='width: 100px; height: 100px; margin: 1px; float: left; border: 0px solid black;'title=['COLLARED CRESCENTCHEST'] src='dataset_birds\\test\\COLLARED CRESCENTCHEST\\1.jpg'/></div><div class=\"zoom\"><img style='width: 100px; height: 100px; margin: 1px; float: left; border: 0px solid black;'title=['COLLARED CRESCENTCHEST'] src='dataset_birds\\test\\COLLARED CRESCENTCHEST\\2.jpg'/></div><div class=\"zoom\"><img style='width: 100px; height: 100px; margin: 1px; float: left; border: 0px solid black;'title=['COLLARED CRESCENTCHEST'] src='dataset_birds\\test\\COLLARED CRESCENTCHEST\\3.jpg'/></div><div class=\"zoom\"><img style='width: 100px; height: 100px; margin: 1px; float: left; border: 0px solid black;'title=['COLLARED CRESCENTCHEST'] src='dataset_birds\\test\\COLLARED CRESCENTCHEST\\4.jpg'/></div><div class=\"zoom\"><img style='width: 100px; height: 100px; margin: 1px; float: left; border: 0px solid black;'title=['COLLARED CRESCENTCHEST'] src='dataset_birds\\test\\COLLARED CRESCENTCHEST\\5.jpg'/></div>"
      ],
      "text/plain": [
       "<IPython.core.display.HTML object>"
      ]
     },
     "metadata": {},
     "output_type": "display_data"
    },
    {
     "name": "stdout",
     "output_type": "stream",
     "text": [
      "Drawing COMMON FIRECREST\n"
     ]
    },
    {
     "data": {
      "text/html": [
       "<div class=\"zoom\"><img style='width: 100px; height: 100px; margin: 1px; float: left; border: 0px solid black;'title=['COMMON FIRECREST'] src='dataset_birds\\test\\COMMON FIRECREST\\1.jpg'/></div><div class=\"zoom\"><img style='width: 100px; height: 100px; margin: 1px; float: left; border: 0px solid black;'title=['COMMON FIRECREST'] src='dataset_birds\\test\\COMMON FIRECREST\\2.jpg'/></div><div class=\"zoom\"><img style='width: 100px; height: 100px; margin: 1px; float: left; border: 0px solid black;'title=['COMMON FIRECREST'] src='dataset_birds\\test\\COMMON FIRECREST\\3.jpg'/></div><div class=\"zoom\"><img style='width: 100px; height: 100px; margin: 1px; float: left; border: 0px solid black;'title=['COMMON FIRECREST'] src='dataset_birds\\test\\COMMON FIRECREST\\4.jpg'/></div><div class=\"zoom\"><img style='width: 100px; height: 100px; margin: 1px; float: left; border: 0px solid black;'title=['COMMON FIRECREST'] src='dataset_birds\\test\\COMMON FIRECREST\\5.jpg'/></div>"
      ],
      "text/plain": [
       "<IPython.core.display.HTML object>"
      ]
     },
     "metadata": {},
     "output_type": "display_data"
    },
    {
     "name": "stdout",
     "output_type": "stream",
     "text": [
      "Drawing COMMON GRACKLE\n"
     ]
    },
    {
     "data": {
      "text/html": [
       "<div class=\"zoom\"><img style='width: 100px; height: 100px; margin: 1px; float: left; border: 0px solid black;'title=['COMMON GRACKLE'] src='dataset_birds\\test\\COMMON GRACKLE\\1.jpg'/></div><div class=\"zoom\"><img style='width: 100px; height: 100px; margin: 1px; float: left; border: 0px solid black;'title=['COMMON GRACKLE'] src='dataset_birds\\test\\COMMON GRACKLE\\2.jpg'/></div><div class=\"zoom\"><img style='width: 100px; height: 100px; margin: 1px; float: left; border: 0px solid black;'title=['COMMON GRACKLE'] src='dataset_birds\\test\\COMMON GRACKLE\\3.jpg'/></div><div class=\"zoom\"><img style='width: 100px; height: 100px; margin: 1px; float: left; border: 0px solid black;'title=['COMMON GRACKLE'] src='dataset_birds\\test\\COMMON GRACKLE\\4.jpg'/></div><div class=\"zoom\"><img style='width: 100px; height: 100px; margin: 1px; float: left; border: 0px solid black;'title=['COMMON GRACKLE'] src='dataset_birds\\test\\COMMON GRACKLE\\5.jpg'/></div>"
      ],
      "text/plain": [
       "<IPython.core.display.HTML object>"
      ]
     },
     "metadata": {},
     "output_type": "display_data"
    },
    {
     "name": "stdout",
     "output_type": "stream",
     "text": [
      "Drawing COMMON HOUSE MARTIN\n"
     ]
    },
    {
     "data": {
      "text/html": [
       "<div class=\"zoom\"><img style='width: 100px; height: 100px; margin: 1px; float: left; border: 0px solid black;'title=['COMMON HOUSE MARTIN'] src='dataset_birds\\test\\COMMON HOUSE MARTIN\\1.jpg'/></div><div class=\"zoom\"><img style='width: 100px; height: 100px; margin: 1px; float: left; border: 0px solid black;'title=['COMMON HOUSE MARTIN'] src='dataset_birds\\test\\COMMON HOUSE MARTIN\\2.jpg'/></div><div class=\"zoom\"><img style='width: 100px; height: 100px; margin: 1px; float: left; border: 0px solid black;'title=['COMMON HOUSE MARTIN'] src='dataset_birds\\test\\COMMON HOUSE MARTIN\\3.jpg'/></div><div class=\"zoom\"><img style='width: 100px; height: 100px; margin: 1px; float: left; border: 0px solid black;'title=['COMMON HOUSE MARTIN'] src='dataset_birds\\test\\COMMON HOUSE MARTIN\\4.jpg'/></div><div class=\"zoom\"><img style='width: 100px; height: 100px; margin: 1px; float: left; border: 0px solid black;'title=['COMMON HOUSE MARTIN'] src='dataset_birds\\test\\COMMON HOUSE MARTIN\\5.jpg'/></div>"
      ],
      "text/plain": [
       "<IPython.core.display.HTML object>"
      ]
     },
     "metadata": {},
     "output_type": "display_data"
    },
    {
     "name": "stdout",
     "output_type": "stream",
     "text": [
      "Drawing COMMON IORA\n"
     ]
    },
    {
     "data": {
      "text/html": [
       "<div class=\"zoom\"><img style='width: 100px; height: 100px; margin: 1px; float: left; border: 0px solid black;'title=['COMMON IORA'] src='dataset_birds\\test\\COMMON IORA\\1.jpg'/></div><div class=\"zoom\"><img style='width: 100px; height: 100px; margin: 1px; float: left; border: 0px solid black;'title=['COMMON IORA'] src='dataset_birds\\test\\COMMON IORA\\2.jpg'/></div><div class=\"zoom\"><img style='width: 100px; height: 100px; margin: 1px; float: left; border: 0px solid black;'title=['COMMON IORA'] src='dataset_birds\\test\\COMMON IORA\\3.jpg'/></div><div class=\"zoom\"><img style='width: 100px; height: 100px; margin: 1px; float: left; border: 0px solid black;'title=['COMMON IORA'] src='dataset_birds\\test\\COMMON IORA\\4.jpg'/></div><div class=\"zoom\"><img style='width: 100px; height: 100px; margin: 1px; float: left; border: 0px solid black;'title=['COMMON IORA'] src='dataset_birds\\test\\COMMON IORA\\5.jpg'/></div>"
      ],
      "text/plain": [
       "<IPython.core.display.HTML object>"
      ]
     },
     "metadata": {},
     "output_type": "display_data"
    },
    {
     "name": "stdout",
     "output_type": "stream",
     "text": [
      "Drawing COMMON LOON\n"
     ]
    },
    {
     "data": {
      "text/html": [
       "<div class=\"zoom\"><img style='width: 100px; height: 100px; margin: 1px; float: left; border: 0px solid black;'title=['COMMON LOON'] src='dataset_birds\\test\\COMMON LOON\\1.jpg'/></div><div class=\"zoom\"><img style='width: 100px; height: 100px; margin: 1px; float: left; border: 0px solid black;'title=['COMMON LOON'] src='dataset_birds\\test\\COMMON LOON\\2.jpg'/></div><div class=\"zoom\"><img style='width: 100px; height: 100px; margin: 1px; float: left; border: 0px solid black;'title=['COMMON LOON'] src='dataset_birds\\test\\COMMON LOON\\3.jpg'/></div><div class=\"zoom\"><img style='width: 100px; height: 100px; margin: 1px; float: left; border: 0px solid black;'title=['COMMON LOON'] src='dataset_birds\\test\\COMMON LOON\\4.jpg'/></div><div class=\"zoom\"><img style='width: 100px; height: 100px; margin: 1px; float: left; border: 0px solid black;'title=['COMMON LOON'] src='dataset_birds\\test\\COMMON LOON\\5.jpg'/></div>"
      ],
      "text/plain": [
       "<IPython.core.display.HTML object>"
      ]
     },
     "metadata": {},
     "output_type": "display_data"
    },
    {
     "name": "stdout",
     "output_type": "stream",
     "text": [
      "Drawing COMMON POORWILL\n"
     ]
    },
    {
     "data": {
      "text/html": [
       "<div class=\"zoom\"><img style='width: 100px; height: 100px; margin: 1px; float: left; border: 0px solid black;'title=['COMMON POORWILL'] src='dataset_birds\\test\\COMMON POORWILL\\1.jpg'/></div><div class=\"zoom\"><img style='width: 100px; height: 100px; margin: 1px; float: left; border: 0px solid black;'title=['COMMON POORWILL'] src='dataset_birds\\test\\COMMON POORWILL\\2.jpg'/></div><div class=\"zoom\"><img style='width: 100px; height: 100px; margin: 1px; float: left; border: 0px solid black;'title=['COMMON POORWILL'] src='dataset_birds\\test\\COMMON POORWILL\\3.jpg'/></div><div class=\"zoom\"><img style='width: 100px; height: 100px; margin: 1px; float: left; border: 0px solid black;'title=['COMMON POORWILL'] src='dataset_birds\\test\\COMMON POORWILL\\4.jpg'/></div><div class=\"zoom\"><img style='width: 100px; height: 100px; margin: 1px; float: left; border: 0px solid black;'title=['COMMON POORWILL'] src='dataset_birds\\test\\COMMON POORWILL\\5.jpg'/></div>"
      ],
      "text/plain": [
       "<IPython.core.display.HTML object>"
      ]
     },
     "metadata": {},
     "output_type": "display_data"
    },
    {
     "name": "stdout",
     "output_type": "stream",
     "text": [
      "Drawing COMMON STARLING\n"
     ]
    },
    {
     "data": {
      "text/html": [
       "<div class=\"zoom\"><img style='width: 100px; height: 100px; margin: 1px; float: left; border: 0px solid black;'title=['COMMON STARLING'] src='dataset_birds\\test\\COMMON STARLING\\1.jpg'/></div><div class=\"zoom\"><img style='width: 100px; height: 100px; margin: 1px; float: left; border: 0px solid black;'title=['COMMON STARLING'] src='dataset_birds\\test\\COMMON STARLING\\2.jpg'/></div><div class=\"zoom\"><img style='width: 100px; height: 100px; margin: 1px; float: left; border: 0px solid black;'title=['COMMON STARLING'] src='dataset_birds\\test\\COMMON STARLING\\3.jpg'/></div><div class=\"zoom\"><img style='width: 100px; height: 100px; margin: 1px; float: left; border: 0px solid black;'title=['COMMON STARLING'] src='dataset_birds\\test\\COMMON STARLING\\4.jpg'/></div><div class=\"zoom\"><img style='width: 100px; height: 100px; margin: 1px; float: left; border: 0px solid black;'title=['COMMON STARLING'] src='dataset_birds\\test\\COMMON STARLING\\5.jpg'/></div>"
      ],
      "text/plain": [
       "<IPython.core.display.HTML object>"
      ]
     },
     "metadata": {},
     "output_type": "display_data"
    },
    {
     "name": "stdout",
     "output_type": "stream",
     "text": [
      "Drawing COPPERSMITH BARBET\n"
     ]
    },
    {
     "data": {
      "text/html": [
       "<div class=\"zoom\"><img style='width: 100px; height: 100px; margin: 1px; float: left; border: 0px solid black;'title=['COPPERSMITH BARBET'] src='dataset_birds\\test\\COPPERSMITH BARBET\\1.jpg'/></div><div class=\"zoom\"><img style='width: 100px; height: 100px; margin: 1px; float: left; border: 0px solid black;'title=['COPPERSMITH BARBET'] src='dataset_birds\\test\\COPPERSMITH BARBET\\2.jpg'/></div><div class=\"zoom\"><img style='width: 100px; height: 100px; margin: 1px; float: left; border: 0px solid black;'title=['COPPERSMITH BARBET'] src='dataset_birds\\test\\COPPERSMITH BARBET\\3.jpg'/></div><div class=\"zoom\"><img style='width: 100px; height: 100px; margin: 1px; float: left; border: 0px solid black;'title=['COPPERSMITH BARBET'] src='dataset_birds\\test\\COPPERSMITH BARBET\\4.jpg'/></div><div class=\"zoom\"><img style='width: 100px; height: 100px; margin: 1px; float: left; border: 0px solid black;'title=['COPPERSMITH BARBET'] src='dataset_birds\\test\\COPPERSMITH BARBET\\5.jpg'/></div>"
      ],
      "text/plain": [
       "<IPython.core.display.HTML object>"
      ]
     },
     "metadata": {},
     "output_type": "display_data"
    },
    {
     "name": "stdout",
     "output_type": "stream",
     "text": [
      "Drawing COPPERY TAILED COUCAL\n"
     ]
    },
    {
     "data": {
      "text/html": [
       "<div class=\"zoom\"><img style='width: 100px; height: 100px; margin: 1px; float: left; border: 0px solid black;'title=['COPPERY TAILED COUCAL'] src='dataset_birds\\test\\COPPERY TAILED COUCAL\\1.jpg'/></div><div class=\"zoom\"><img style='width: 100px; height: 100px; margin: 1px; float: left; border: 0px solid black;'title=['COPPERY TAILED COUCAL'] src='dataset_birds\\test\\COPPERY TAILED COUCAL\\2.jpg'/></div><div class=\"zoom\"><img style='width: 100px; height: 100px; margin: 1px; float: left; border: 0px solid black;'title=['COPPERY TAILED COUCAL'] src='dataset_birds\\test\\COPPERY TAILED COUCAL\\3.jpg'/></div><div class=\"zoom\"><img style='width: 100px; height: 100px; margin: 1px; float: left; border: 0px solid black;'title=['COPPERY TAILED COUCAL'] src='dataset_birds\\test\\COPPERY TAILED COUCAL\\4.jpg'/></div><div class=\"zoom\"><img style='width: 100px; height: 100px; margin: 1px; float: left; border: 0px solid black;'title=['COPPERY TAILED COUCAL'] src='dataset_birds\\test\\COPPERY TAILED COUCAL\\5.jpg'/></div>"
      ],
      "text/plain": [
       "<IPython.core.display.HTML object>"
      ]
     },
     "metadata": {},
     "output_type": "display_data"
    },
    {
     "name": "stdout",
     "output_type": "stream",
     "text": [
      "Drawing CRAB PLOVER\n"
     ]
    },
    {
     "data": {
      "text/html": [
       "<div class=\"zoom\"><img style='width: 100px; height: 100px; margin: 1px; float: left; border: 0px solid black;'title=['CRAB PLOVER'] src='dataset_birds\\test\\CRAB PLOVER\\1.jpg'/></div><div class=\"zoom\"><img style='width: 100px; height: 100px; margin: 1px; float: left; border: 0px solid black;'title=['CRAB PLOVER'] src='dataset_birds\\test\\CRAB PLOVER\\2.jpg'/></div><div class=\"zoom\"><img style='width: 100px; height: 100px; margin: 1px; float: left; border: 0px solid black;'title=['CRAB PLOVER'] src='dataset_birds\\test\\CRAB PLOVER\\3.jpg'/></div><div class=\"zoom\"><img style='width: 100px; height: 100px; margin: 1px; float: left; border: 0px solid black;'title=['CRAB PLOVER'] src='dataset_birds\\test\\CRAB PLOVER\\4.jpg'/></div><div class=\"zoom\"><img style='width: 100px; height: 100px; margin: 1px; float: left; border: 0px solid black;'title=['CRAB PLOVER'] src='dataset_birds\\test\\CRAB PLOVER\\5.jpg'/></div>"
      ],
      "text/plain": [
       "<IPython.core.display.HTML object>"
      ]
     },
     "metadata": {},
     "output_type": "display_data"
    },
    {
     "name": "stdout",
     "output_type": "stream",
     "text": [
      "Drawing CRANE HAWK\n"
     ]
    },
    {
     "data": {
      "text/html": [
       "<div class=\"zoom\"><img style='width: 100px; height: 100px; margin: 1px; float: left; border: 0px solid black;'title=['CRANE HAWK'] src='dataset_birds\\test\\CRANE HAWK\\1.jpg'/></div><div class=\"zoom\"><img style='width: 100px; height: 100px; margin: 1px; float: left; border: 0px solid black;'title=['CRANE HAWK'] src='dataset_birds\\test\\CRANE HAWK\\2.jpg'/></div><div class=\"zoom\"><img style='width: 100px; height: 100px; margin: 1px; float: left; border: 0px solid black;'title=['CRANE HAWK'] src='dataset_birds\\test\\CRANE HAWK\\3.jpg'/></div><div class=\"zoom\"><img style='width: 100px; height: 100px; margin: 1px; float: left; border: 0px solid black;'title=['CRANE HAWK'] src='dataset_birds\\test\\CRANE HAWK\\4.jpg'/></div><div class=\"zoom\"><img style='width: 100px; height: 100px; margin: 1px; float: left; border: 0px solid black;'title=['CRANE HAWK'] src='dataset_birds\\test\\CRANE HAWK\\5.jpg'/></div>"
      ],
      "text/plain": [
       "<IPython.core.display.HTML object>"
      ]
     },
     "metadata": {},
     "output_type": "display_data"
    },
    {
     "name": "stdout",
     "output_type": "stream",
     "text": [
      "Drawing CREAM COLORED WOODPECKER\n"
     ]
    },
    {
     "data": {
      "text/html": [
       "<div class=\"zoom\"><img style='width: 100px; height: 100px; margin: 1px; float: left; border: 0px solid black;'title=['CREAM COLORED WOODPECKER'] src='dataset_birds\\test\\CREAM COLORED WOODPECKER\\1.jpg'/></div><div class=\"zoom\"><img style='width: 100px; height: 100px; margin: 1px; float: left; border: 0px solid black;'title=['CREAM COLORED WOODPECKER'] src='dataset_birds\\test\\CREAM COLORED WOODPECKER\\2.jpg'/></div><div class=\"zoom\"><img style='width: 100px; height: 100px; margin: 1px; float: left; border: 0px solid black;'title=['CREAM COLORED WOODPECKER'] src='dataset_birds\\test\\CREAM COLORED WOODPECKER\\3.jpg'/></div><div class=\"zoom\"><img style='width: 100px; height: 100px; margin: 1px; float: left; border: 0px solid black;'title=['CREAM COLORED WOODPECKER'] src='dataset_birds\\test\\CREAM COLORED WOODPECKER\\4.jpg'/></div><div class=\"zoom\"><img style='width: 100px; height: 100px; margin: 1px; float: left; border: 0px solid black;'title=['CREAM COLORED WOODPECKER'] src='dataset_birds\\test\\CREAM COLORED WOODPECKER\\5.jpg'/></div>"
      ],
      "text/plain": [
       "<IPython.core.display.HTML object>"
      ]
     },
     "metadata": {},
     "output_type": "display_data"
    },
    {
     "name": "stdout",
     "output_type": "stream",
     "text": [
      "Drawing CRESTED AUKLET\n"
     ]
    },
    {
     "data": {
      "text/html": [
       "<div class=\"zoom\"><img style='width: 100px; height: 100px; margin: 1px; float: left; border: 0px solid black;'title=['CRESTED AUKLET'] src='dataset_birds\\test\\CRESTED AUKLET\\1.jpg'/></div><div class=\"zoom\"><img style='width: 100px; height: 100px; margin: 1px; float: left; border: 0px solid black;'title=['CRESTED AUKLET'] src='dataset_birds\\test\\CRESTED AUKLET\\2.jpg'/></div><div class=\"zoom\"><img style='width: 100px; height: 100px; margin: 1px; float: left; border: 0px solid black;'title=['CRESTED AUKLET'] src='dataset_birds\\test\\CRESTED AUKLET\\3.jpg'/></div><div class=\"zoom\"><img style='width: 100px; height: 100px; margin: 1px; float: left; border: 0px solid black;'title=['CRESTED AUKLET'] src='dataset_birds\\test\\CRESTED AUKLET\\4.jpg'/></div><div class=\"zoom\"><img style='width: 100px; height: 100px; margin: 1px; float: left; border: 0px solid black;'title=['CRESTED AUKLET'] src='dataset_birds\\test\\CRESTED AUKLET\\5.jpg'/></div>"
      ],
      "text/plain": [
       "<IPython.core.display.HTML object>"
      ]
     },
     "metadata": {},
     "output_type": "display_data"
    },
    {
     "name": "stdout",
     "output_type": "stream",
     "text": [
      "Drawing CRESTED CARACARA\n"
     ]
    },
    {
     "data": {
      "text/html": [
       "<div class=\"zoom\"><img style='width: 100px; height: 100px; margin: 1px; float: left; border: 0px solid black;'title=['CRESTED CARACARA'] src='dataset_birds\\test\\CRESTED CARACARA\\1.jpg'/></div><div class=\"zoom\"><img style='width: 100px; height: 100px; margin: 1px; float: left; border: 0px solid black;'title=['CRESTED CARACARA'] src='dataset_birds\\test\\CRESTED CARACARA\\2.jpg'/></div><div class=\"zoom\"><img style='width: 100px; height: 100px; margin: 1px; float: left; border: 0px solid black;'title=['CRESTED CARACARA'] src='dataset_birds\\test\\CRESTED CARACARA\\3.jpg'/></div><div class=\"zoom\"><img style='width: 100px; height: 100px; margin: 1px; float: left; border: 0px solid black;'title=['CRESTED CARACARA'] src='dataset_birds\\test\\CRESTED CARACARA\\4.jpg'/></div><div class=\"zoom\"><img style='width: 100px; height: 100px; margin: 1px; float: left; border: 0px solid black;'title=['CRESTED CARACARA'] src='dataset_birds\\test\\CRESTED CARACARA\\5.jpg'/></div>"
      ],
      "text/plain": [
       "<IPython.core.display.HTML object>"
      ]
     },
     "metadata": {},
     "output_type": "display_data"
    },
    {
     "name": "stdout",
     "output_type": "stream",
     "text": [
      "Drawing CRESTED COUA\n"
     ]
    },
    {
     "data": {
      "text/html": [
       "<div class=\"zoom\"><img style='width: 100px; height: 100px; margin: 1px; float: left; border: 0px solid black;'title=['CRESTED COUA'] src='dataset_birds\\test\\CRESTED COUA\\1.jpg'/></div><div class=\"zoom\"><img style='width: 100px; height: 100px; margin: 1px; float: left; border: 0px solid black;'title=['CRESTED COUA'] src='dataset_birds\\test\\CRESTED COUA\\2.jpg'/></div><div class=\"zoom\"><img style='width: 100px; height: 100px; margin: 1px; float: left; border: 0px solid black;'title=['CRESTED COUA'] src='dataset_birds\\test\\CRESTED COUA\\3.jpg'/></div><div class=\"zoom\"><img style='width: 100px; height: 100px; margin: 1px; float: left; border: 0px solid black;'title=['CRESTED COUA'] src='dataset_birds\\test\\CRESTED COUA\\4.jpg'/></div><div class=\"zoom\"><img style='width: 100px; height: 100px; margin: 1px; float: left; border: 0px solid black;'title=['CRESTED COUA'] src='dataset_birds\\test\\CRESTED COUA\\5.jpg'/></div>"
      ],
      "text/plain": [
       "<IPython.core.display.HTML object>"
      ]
     },
     "metadata": {},
     "output_type": "display_data"
    },
    {
     "name": "stdout",
     "output_type": "stream",
     "text": [
      "Drawing CRESTED FIREBACK\n"
     ]
    },
    {
     "data": {
      "text/html": [
       "<div class=\"zoom\"><img style='width: 100px; height: 100px; margin: 1px; float: left; border: 0px solid black;'title=['CRESTED FIREBACK'] src='dataset_birds\\test\\CRESTED FIREBACK\\1.jpg'/></div><div class=\"zoom\"><img style='width: 100px; height: 100px; margin: 1px; float: left; border: 0px solid black;'title=['CRESTED FIREBACK'] src='dataset_birds\\test\\CRESTED FIREBACK\\2.jpg'/></div><div class=\"zoom\"><img style='width: 100px; height: 100px; margin: 1px; float: left; border: 0px solid black;'title=['CRESTED FIREBACK'] src='dataset_birds\\test\\CRESTED FIREBACK\\3.jpg'/></div><div class=\"zoom\"><img style='width: 100px; height: 100px; margin: 1px; float: left; border: 0px solid black;'title=['CRESTED FIREBACK'] src='dataset_birds\\test\\CRESTED FIREBACK\\4.jpg'/></div><div class=\"zoom\"><img style='width: 100px; height: 100px; margin: 1px; float: left; border: 0px solid black;'title=['CRESTED FIREBACK'] src='dataset_birds\\test\\CRESTED FIREBACK\\5.jpg'/></div>"
      ],
      "text/plain": [
       "<IPython.core.display.HTML object>"
      ]
     },
     "metadata": {},
     "output_type": "display_data"
    },
    {
     "name": "stdout",
     "output_type": "stream",
     "text": [
      "Drawing CRESTED KINGFISHER\n"
     ]
    },
    {
     "data": {
      "text/html": [
       "<div class=\"zoom\"><img style='width: 100px; height: 100px; margin: 1px; float: left; border: 0px solid black;'title=['CRESTED KINGFISHER'] src='dataset_birds\\test\\CRESTED KINGFISHER\\1.jpg'/></div><div class=\"zoom\"><img style='width: 100px; height: 100px; margin: 1px; float: left; border: 0px solid black;'title=['CRESTED KINGFISHER'] src='dataset_birds\\test\\CRESTED KINGFISHER\\2.jpg'/></div><div class=\"zoom\"><img style='width: 100px; height: 100px; margin: 1px; float: left; border: 0px solid black;'title=['CRESTED KINGFISHER'] src='dataset_birds\\test\\CRESTED KINGFISHER\\3.jpg'/></div><div class=\"zoom\"><img style='width: 100px; height: 100px; margin: 1px; float: left; border: 0px solid black;'title=['CRESTED KINGFISHER'] src='dataset_birds\\test\\CRESTED KINGFISHER\\4.jpg'/></div><div class=\"zoom\"><img style='width: 100px; height: 100px; margin: 1px; float: left; border: 0px solid black;'title=['CRESTED KINGFISHER'] src='dataset_birds\\test\\CRESTED KINGFISHER\\5.jpg'/></div>"
      ],
      "text/plain": [
       "<IPython.core.display.HTML object>"
      ]
     },
     "metadata": {},
     "output_type": "display_data"
    },
    {
     "name": "stdout",
     "output_type": "stream",
     "text": [
      "Drawing CRESTED NUTHATCH\n"
     ]
    },
    {
     "data": {
      "text/html": [
       "<div class=\"zoom\"><img style='width: 100px; height: 100px; margin: 1px; float: left; border: 0px solid black;'title=['CRESTED NUTHATCH'] src='dataset_birds\\test\\CRESTED NUTHATCH\\1.jpg'/></div><div class=\"zoom\"><img style='width: 100px; height: 100px; margin: 1px; float: left; border: 0px solid black;'title=['CRESTED NUTHATCH'] src='dataset_birds\\test\\CRESTED NUTHATCH\\2.jpg'/></div><div class=\"zoom\"><img style='width: 100px; height: 100px; margin: 1px; float: left; border: 0px solid black;'title=['CRESTED NUTHATCH'] src='dataset_birds\\test\\CRESTED NUTHATCH\\3.jpg'/></div><div class=\"zoom\"><img style='width: 100px; height: 100px; margin: 1px; float: left; border: 0px solid black;'title=['CRESTED NUTHATCH'] src='dataset_birds\\test\\CRESTED NUTHATCH\\4.jpg'/></div><div class=\"zoom\"><img style='width: 100px; height: 100px; margin: 1px; float: left; border: 0px solid black;'title=['CRESTED NUTHATCH'] src='dataset_birds\\test\\CRESTED NUTHATCH\\5.jpg'/></div>"
      ],
      "text/plain": [
       "<IPython.core.display.HTML object>"
      ]
     },
     "metadata": {},
     "output_type": "display_data"
    },
    {
     "name": "stdout",
     "output_type": "stream",
     "text": [
      "Drawing CRESTED OROPENDOLA\n"
     ]
    },
    {
     "data": {
      "text/html": [
       "<div class=\"zoom\"><img style='width: 100px; height: 100px; margin: 1px; float: left; border: 0px solid black;'title=['CRESTED OROPENDOLA'] src='dataset_birds\\test\\CRESTED OROPENDOLA\\1.jpg'/></div><div class=\"zoom\"><img style='width: 100px; height: 100px; margin: 1px; float: left; border: 0px solid black;'title=['CRESTED OROPENDOLA'] src='dataset_birds\\test\\CRESTED OROPENDOLA\\2.jpg'/></div><div class=\"zoom\"><img style='width: 100px; height: 100px; margin: 1px; float: left; border: 0px solid black;'title=['CRESTED OROPENDOLA'] src='dataset_birds\\test\\CRESTED OROPENDOLA\\3.jpg'/></div><div class=\"zoom\"><img style='width: 100px; height: 100px; margin: 1px; float: left; border: 0px solid black;'title=['CRESTED OROPENDOLA'] src='dataset_birds\\test\\CRESTED OROPENDOLA\\4.jpg'/></div><div class=\"zoom\"><img style='width: 100px; height: 100px; margin: 1px; float: left; border: 0px solid black;'title=['CRESTED OROPENDOLA'] src='dataset_birds\\test\\CRESTED OROPENDOLA\\5.jpg'/></div>"
      ],
      "text/plain": [
       "<IPython.core.display.HTML object>"
      ]
     },
     "metadata": {},
     "output_type": "display_data"
    },
    {
     "name": "stdout",
     "output_type": "stream",
     "text": [
      "Drawing CRESTED SERPENT EAGLE\n"
     ]
    },
    {
     "data": {
      "text/html": [
       "<div class=\"zoom\"><img style='width: 100px; height: 100px; margin: 1px; float: left; border: 0px solid black;'title=['CRESTED SERPENT EAGLE'] src='dataset_birds\\test\\CRESTED SERPENT EAGLE\\1.jpg'/></div><div class=\"zoom\"><img style='width: 100px; height: 100px; margin: 1px; float: left; border: 0px solid black;'title=['CRESTED SERPENT EAGLE'] src='dataset_birds\\test\\CRESTED SERPENT EAGLE\\2.jpg'/></div><div class=\"zoom\"><img style='width: 100px; height: 100px; margin: 1px; float: left; border: 0px solid black;'title=['CRESTED SERPENT EAGLE'] src='dataset_birds\\test\\CRESTED SERPENT EAGLE\\3.jpg'/></div><div class=\"zoom\"><img style='width: 100px; height: 100px; margin: 1px; float: left; border: 0px solid black;'title=['CRESTED SERPENT EAGLE'] src='dataset_birds\\test\\CRESTED SERPENT EAGLE\\4.jpg'/></div><div class=\"zoom\"><img style='width: 100px; height: 100px; margin: 1px; float: left; border: 0px solid black;'title=['CRESTED SERPENT EAGLE'] src='dataset_birds\\test\\CRESTED SERPENT EAGLE\\5.jpg'/></div>"
      ],
      "text/plain": [
       "<IPython.core.display.HTML object>"
      ]
     },
     "metadata": {},
     "output_type": "display_data"
    },
    {
     "name": "stdout",
     "output_type": "stream",
     "text": [
      "Drawing CRESTED SHRIKETIT\n"
     ]
    },
    {
     "data": {
      "text/html": [
       "<div class=\"zoom\"><img style='width: 100px; height: 100px; margin: 1px; float: left; border: 0px solid black;'title=['CRESTED SHRIKETIT'] src='dataset_birds\\test\\CRESTED SHRIKETIT\\1.jpg'/></div><div class=\"zoom\"><img style='width: 100px; height: 100px; margin: 1px; float: left; border: 0px solid black;'title=['CRESTED SHRIKETIT'] src='dataset_birds\\test\\CRESTED SHRIKETIT\\2.jpg'/></div><div class=\"zoom\"><img style='width: 100px; height: 100px; margin: 1px; float: left; border: 0px solid black;'title=['CRESTED SHRIKETIT'] src='dataset_birds\\test\\CRESTED SHRIKETIT\\3.jpg'/></div><div class=\"zoom\"><img style='width: 100px; height: 100px; margin: 1px; float: left; border: 0px solid black;'title=['CRESTED SHRIKETIT'] src='dataset_birds\\test\\CRESTED SHRIKETIT\\4.jpg'/></div><div class=\"zoom\"><img style='width: 100px; height: 100px; margin: 1px; float: left; border: 0px solid black;'title=['CRESTED SHRIKETIT'] src='dataset_birds\\test\\CRESTED SHRIKETIT\\5.jpg'/></div>"
      ],
      "text/plain": [
       "<IPython.core.display.HTML object>"
      ]
     },
     "metadata": {},
     "output_type": "display_data"
    },
    {
     "name": "stdout",
     "output_type": "stream",
     "text": [
      "Drawing CRESTED WOOD PARTRIDGE\n"
     ]
    },
    {
     "data": {
      "text/html": [
       "<div class=\"zoom\"><img style='width: 100px; height: 100px; margin: 1px; float: left; border: 0px solid black;'title=['CRESTED WOOD PARTRIDGE'] src='dataset_birds\\test\\CRESTED WOOD PARTRIDGE\\1.jpg'/></div><div class=\"zoom\"><img style='width: 100px; height: 100px; margin: 1px; float: left; border: 0px solid black;'title=['CRESTED WOOD PARTRIDGE'] src='dataset_birds\\test\\CRESTED WOOD PARTRIDGE\\2.jpg'/></div><div class=\"zoom\"><img style='width: 100px; height: 100px; margin: 1px; float: left; border: 0px solid black;'title=['CRESTED WOOD PARTRIDGE'] src='dataset_birds\\test\\CRESTED WOOD PARTRIDGE\\3.jpg'/></div><div class=\"zoom\"><img style='width: 100px; height: 100px; margin: 1px; float: left; border: 0px solid black;'title=['CRESTED WOOD PARTRIDGE'] src='dataset_birds\\test\\CRESTED WOOD PARTRIDGE\\4.jpg'/></div><div class=\"zoom\"><img style='width: 100px; height: 100px; margin: 1px; float: left; border: 0px solid black;'title=['CRESTED WOOD PARTRIDGE'] src='dataset_birds\\test\\CRESTED WOOD PARTRIDGE\\5.jpg'/></div>"
      ],
      "text/plain": [
       "<IPython.core.display.HTML object>"
      ]
     },
     "metadata": {},
     "output_type": "display_data"
    },
    {
     "name": "stdout",
     "output_type": "stream",
     "text": [
      "Drawing CRIMSON CHAT\n"
     ]
    },
    {
     "data": {
      "text/html": [
       "<div class=\"zoom\"><img style='width: 100px; height: 100px; margin: 1px; float: left; border: 0px solid black;'title=['CRIMSON CHAT'] src='dataset_birds\\test\\CRIMSON CHAT\\1.jpg'/></div><div class=\"zoom\"><img style='width: 100px; height: 100px; margin: 1px; float: left; border: 0px solid black;'title=['CRIMSON CHAT'] src='dataset_birds\\test\\CRIMSON CHAT\\2.jpg'/></div><div class=\"zoom\"><img style='width: 100px; height: 100px; margin: 1px; float: left; border: 0px solid black;'title=['CRIMSON CHAT'] src='dataset_birds\\test\\CRIMSON CHAT\\3.jpg'/></div><div class=\"zoom\"><img style='width: 100px; height: 100px; margin: 1px; float: left; border: 0px solid black;'title=['CRIMSON CHAT'] src='dataset_birds\\test\\CRIMSON CHAT\\4.jpg'/></div><div class=\"zoom\"><img style='width: 100px; height: 100px; margin: 1px; float: left; border: 0px solid black;'title=['CRIMSON CHAT'] src='dataset_birds\\test\\CRIMSON CHAT\\5.jpg'/></div>"
      ],
      "text/plain": [
       "<IPython.core.display.HTML object>"
      ]
     },
     "metadata": {},
     "output_type": "display_data"
    },
    {
     "name": "stdout",
     "output_type": "stream",
     "text": [
      "Drawing CRIMSON SUNBIRD\n"
     ]
    },
    {
     "data": {
      "text/html": [
       "<div class=\"zoom\"><img style='width: 100px; height: 100px; margin: 1px; float: left; border: 0px solid black;'title=['CRIMSON SUNBIRD'] src='dataset_birds\\test\\CRIMSON SUNBIRD\\1.jpg'/></div><div class=\"zoom\"><img style='width: 100px; height: 100px; margin: 1px; float: left; border: 0px solid black;'title=['CRIMSON SUNBIRD'] src='dataset_birds\\test\\CRIMSON SUNBIRD\\2.jpg'/></div><div class=\"zoom\"><img style='width: 100px; height: 100px; margin: 1px; float: left; border: 0px solid black;'title=['CRIMSON SUNBIRD'] src='dataset_birds\\test\\CRIMSON SUNBIRD\\3.jpg'/></div><div class=\"zoom\"><img style='width: 100px; height: 100px; margin: 1px; float: left; border: 0px solid black;'title=['CRIMSON SUNBIRD'] src='dataset_birds\\test\\CRIMSON SUNBIRD\\4.jpg'/></div><div class=\"zoom\"><img style='width: 100px; height: 100px; margin: 1px; float: left; border: 0px solid black;'title=['CRIMSON SUNBIRD'] src='dataset_birds\\test\\CRIMSON SUNBIRD\\5.jpg'/></div>"
      ],
      "text/plain": [
       "<IPython.core.display.HTML object>"
      ]
     },
     "metadata": {},
     "output_type": "display_data"
    },
    {
     "name": "stdout",
     "output_type": "stream",
     "text": [
      "Drawing CROW\n"
     ]
    },
    {
     "data": {
      "text/html": [
       "<div class=\"zoom\"><img style='width: 100px; height: 100px; margin: 1px; float: left; border: 0px solid black;'title=['CROW'] src='dataset_birds\\test\\CROW\\1.jpg'/></div><div class=\"zoom\"><img style='width: 100px; height: 100px; margin: 1px; float: left; border: 0px solid black;'title=['CROW'] src='dataset_birds\\test\\CROW\\2.jpg'/></div><div class=\"zoom\"><img style='width: 100px; height: 100px; margin: 1px; float: left; border: 0px solid black;'title=['CROW'] src='dataset_birds\\test\\CROW\\3.jpg'/></div><div class=\"zoom\"><img style='width: 100px; height: 100px; margin: 1px; float: left; border: 0px solid black;'title=['CROW'] src='dataset_birds\\test\\CROW\\4.jpg'/></div><div class=\"zoom\"><img style='width: 100px; height: 100px; margin: 1px; float: left; border: 0px solid black;'title=['CROW'] src='dataset_birds\\test\\CROW\\5.jpg'/></div>"
      ],
      "text/plain": [
       "<IPython.core.display.HTML object>"
      ]
     },
     "metadata": {},
     "output_type": "display_data"
    },
    {
     "name": "stdout",
     "output_type": "stream",
     "text": [
      "Drawing CUBAN TODY\n"
     ]
    },
    {
     "data": {
      "text/html": [
       "<div class=\"zoom\"><img style='width: 100px; height: 100px; margin: 1px; float: left; border: 0px solid black;'title=['CUBAN TODY'] src='dataset_birds\\test\\CUBAN TODY\\1.jpg'/></div><div class=\"zoom\"><img style='width: 100px; height: 100px; margin: 1px; float: left; border: 0px solid black;'title=['CUBAN TODY'] src='dataset_birds\\test\\CUBAN TODY\\2.jpg'/></div><div class=\"zoom\"><img style='width: 100px; height: 100px; margin: 1px; float: left; border: 0px solid black;'title=['CUBAN TODY'] src='dataset_birds\\test\\CUBAN TODY\\3.jpg'/></div><div class=\"zoom\"><img style='width: 100px; height: 100px; margin: 1px; float: left; border: 0px solid black;'title=['CUBAN TODY'] src='dataset_birds\\test\\CUBAN TODY\\4.jpg'/></div><div class=\"zoom\"><img style='width: 100px; height: 100px; margin: 1px; float: left; border: 0px solid black;'title=['CUBAN TODY'] src='dataset_birds\\test\\CUBAN TODY\\5.jpg'/></div>"
      ],
      "text/plain": [
       "<IPython.core.display.HTML object>"
      ]
     },
     "metadata": {},
     "output_type": "display_data"
    },
    {
     "name": "stdout",
     "output_type": "stream",
     "text": [
      "Drawing CUBAN TROGON\n"
     ]
    },
    {
     "data": {
      "text/html": [
       "<div class=\"zoom\"><img style='width: 100px; height: 100px; margin: 1px; float: left; border: 0px solid black;'title=['CUBAN TROGON'] src='dataset_birds\\test\\CUBAN TROGON\\1.jpg'/></div><div class=\"zoom\"><img style='width: 100px; height: 100px; margin: 1px; float: left; border: 0px solid black;'title=['CUBAN TROGON'] src='dataset_birds\\test\\CUBAN TROGON\\2.jpg'/></div><div class=\"zoom\"><img style='width: 100px; height: 100px; margin: 1px; float: left; border: 0px solid black;'title=['CUBAN TROGON'] src='dataset_birds\\test\\CUBAN TROGON\\3.jpg'/></div><div class=\"zoom\"><img style='width: 100px; height: 100px; margin: 1px; float: left; border: 0px solid black;'title=['CUBAN TROGON'] src='dataset_birds\\test\\CUBAN TROGON\\4.jpg'/></div><div class=\"zoom\"><img style='width: 100px; height: 100px; margin: 1px; float: left; border: 0px solid black;'title=['CUBAN TROGON'] src='dataset_birds\\test\\CUBAN TROGON\\5.jpg'/></div>"
      ],
      "text/plain": [
       "<IPython.core.display.HTML object>"
      ]
     },
     "metadata": {},
     "output_type": "display_data"
    },
    {
     "name": "stdout",
     "output_type": "stream",
     "text": [
      "Drawing CURL CRESTED ARACURI\n"
     ]
    },
    {
     "data": {
      "text/html": [
       "<div class=\"zoom\"><img style='width: 100px; height: 100px; margin: 1px; float: left; border: 0px solid black;'title=['CURL CRESTED ARACURI'] src='dataset_birds\\test\\CURL CRESTED ARACURI\\1.jpg'/></div><div class=\"zoom\"><img style='width: 100px; height: 100px; margin: 1px; float: left; border: 0px solid black;'title=['CURL CRESTED ARACURI'] src='dataset_birds\\test\\CURL CRESTED ARACURI\\2.jpg'/></div><div class=\"zoom\"><img style='width: 100px; height: 100px; margin: 1px; float: left; border: 0px solid black;'title=['CURL CRESTED ARACURI'] src='dataset_birds\\test\\CURL CRESTED ARACURI\\3.jpg'/></div><div class=\"zoom\"><img style='width: 100px; height: 100px; margin: 1px; float: left; border: 0px solid black;'title=['CURL CRESTED ARACURI'] src='dataset_birds\\test\\CURL CRESTED ARACURI\\4.jpg'/></div><div class=\"zoom\"><img style='width: 100px; height: 100px; margin: 1px; float: left; border: 0px solid black;'title=['CURL CRESTED ARACURI'] src='dataset_birds\\test\\CURL CRESTED ARACURI\\5.jpg'/></div>"
      ],
      "text/plain": [
       "<IPython.core.display.HTML object>"
      ]
     },
     "metadata": {},
     "output_type": "display_data"
    },
    {
     "name": "stdout",
     "output_type": "stream",
     "text": [
      "Drawing D-ARNAUDS BARBET\n"
     ]
    },
    {
     "data": {
      "text/html": [
       "<div class=\"zoom\"><img style='width: 100px; height: 100px; margin: 1px; float: left; border: 0px solid black;'title=['D-ARNAUDS BARBET'] src='dataset_birds\\test\\D-ARNAUDS BARBET\\1.jpg'/></div><div class=\"zoom\"><img style='width: 100px; height: 100px; margin: 1px; float: left; border: 0px solid black;'title=['D-ARNAUDS BARBET'] src='dataset_birds\\test\\D-ARNAUDS BARBET\\2.jpg'/></div><div class=\"zoom\"><img style='width: 100px; height: 100px; margin: 1px; float: left; border: 0px solid black;'title=['D-ARNAUDS BARBET'] src='dataset_birds\\test\\D-ARNAUDS BARBET\\3.jpg'/></div><div class=\"zoom\"><img style='width: 100px; height: 100px; margin: 1px; float: left; border: 0px solid black;'title=['D-ARNAUDS BARBET'] src='dataset_birds\\test\\D-ARNAUDS BARBET\\4.jpg'/></div><div class=\"zoom\"><img style='width: 100px; height: 100px; margin: 1px; float: left; border: 0px solid black;'title=['D-ARNAUDS BARBET'] src='dataset_birds\\test\\D-ARNAUDS BARBET\\5.jpg'/></div>"
      ],
      "text/plain": [
       "<IPython.core.display.HTML object>"
      ]
     },
     "metadata": {},
     "output_type": "display_data"
    },
    {
     "name": "stdout",
     "output_type": "stream",
     "text": [
      "Drawing DALMATIAN PELICAN\n"
     ]
    },
    {
     "data": {
      "text/html": [
       "<div class=\"zoom\"><img style='width: 100px; height: 100px; margin: 1px; float: left; border: 0px solid black;'title=['DALMATIAN PELICAN'] src='dataset_birds\\test\\DALMATIAN PELICAN\\1.jpg'/></div><div class=\"zoom\"><img style='width: 100px; height: 100px; margin: 1px; float: left; border: 0px solid black;'title=['DALMATIAN PELICAN'] src='dataset_birds\\test\\DALMATIAN PELICAN\\2.jpg'/></div><div class=\"zoom\"><img style='width: 100px; height: 100px; margin: 1px; float: left; border: 0px solid black;'title=['DALMATIAN PELICAN'] src='dataset_birds\\test\\DALMATIAN PELICAN\\3.jpg'/></div><div class=\"zoom\"><img style='width: 100px; height: 100px; margin: 1px; float: left; border: 0px solid black;'title=['DALMATIAN PELICAN'] src='dataset_birds\\test\\DALMATIAN PELICAN\\4.jpg'/></div><div class=\"zoom\"><img style='width: 100px; height: 100px; margin: 1px; float: left; border: 0px solid black;'title=['DALMATIAN PELICAN'] src='dataset_birds\\test\\DALMATIAN PELICAN\\5.jpg'/></div>"
      ],
      "text/plain": [
       "<IPython.core.display.HTML object>"
      ]
     },
     "metadata": {},
     "output_type": "display_data"
    },
    {
     "name": "stdout",
     "output_type": "stream",
     "text": [
      "Drawing DARJEELING WOODPECKER\n"
     ]
    },
    {
     "data": {
      "text/html": [
       "<div class=\"zoom\"><img style='width: 100px; height: 100px; margin: 1px; float: left; border: 0px solid black;'title=['DARJEELING WOODPECKER'] src='dataset_birds\\test\\DARJEELING WOODPECKER\\1.jpg'/></div><div class=\"zoom\"><img style='width: 100px; height: 100px; margin: 1px; float: left; border: 0px solid black;'title=['DARJEELING WOODPECKER'] src='dataset_birds\\test\\DARJEELING WOODPECKER\\2.jpg'/></div><div class=\"zoom\"><img style='width: 100px; height: 100px; margin: 1px; float: left; border: 0px solid black;'title=['DARJEELING WOODPECKER'] src='dataset_birds\\test\\DARJEELING WOODPECKER\\3.jpg'/></div><div class=\"zoom\"><img style='width: 100px; height: 100px; margin: 1px; float: left; border: 0px solid black;'title=['DARJEELING WOODPECKER'] src='dataset_birds\\test\\DARJEELING WOODPECKER\\4.jpg'/></div><div class=\"zoom\"><img style='width: 100px; height: 100px; margin: 1px; float: left; border: 0px solid black;'title=['DARJEELING WOODPECKER'] src='dataset_birds\\test\\DARJEELING WOODPECKER\\5.jpg'/></div>"
      ],
      "text/plain": [
       "<IPython.core.display.HTML object>"
      ]
     },
     "metadata": {},
     "output_type": "display_data"
    },
    {
     "name": "stdout",
     "output_type": "stream",
     "text": [
      "Drawing DARK EYED JUNCO\n"
     ]
    },
    {
     "data": {
      "text/html": [
       "<div class=\"zoom\"><img style='width: 100px; height: 100px; margin: 1px; float: left; border: 0px solid black;'title=['DARK EYED JUNCO'] src='dataset_birds\\test\\DARK EYED JUNCO\\1.jpg'/></div><div class=\"zoom\"><img style='width: 100px; height: 100px; margin: 1px; float: left; border: 0px solid black;'title=['DARK EYED JUNCO'] src='dataset_birds\\test\\DARK EYED JUNCO\\2.jpg'/></div><div class=\"zoom\"><img style='width: 100px; height: 100px; margin: 1px; float: left; border: 0px solid black;'title=['DARK EYED JUNCO'] src='dataset_birds\\test\\DARK EYED JUNCO\\3.jpg'/></div><div class=\"zoom\"><img style='width: 100px; height: 100px; margin: 1px; float: left; border: 0px solid black;'title=['DARK EYED JUNCO'] src='dataset_birds\\test\\DARK EYED JUNCO\\4.jpg'/></div><div class=\"zoom\"><img style='width: 100px; height: 100px; margin: 1px; float: left; border: 0px solid black;'title=['DARK EYED JUNCO'] src='dataset_birds\\test\\DARK EYED JUNCO\\5.jpg'/></div>"
      ],
      "text/plain": [
       "<IPython.core.display.HTML object>"
      ]
     },
     "metadata": {},
     "output_type": "display_data"
    },
    {
     "name": "stdout",
     "output_type": "stream",
     "text": [
      "Drawing DAURIAN REDSTART\n"
     ]
    },
    {
     "data": {
      "text/html": [
       "<div class=\"zoom\"><img style='width: 100px; height: 100px; margin: 1px; float: left; border: 0px solid black;'title=['DAURIAN REDSTART'] src='dataset_birds\\test\\DAURIAN REDSTART\\1.jpg'/></div><div class=\"zoom\"><img style='width: 100px; height: 100px; margin: 1px; float: left; border: 0px solid black;'title=['DAURIAN REDSTART'] src='dataset_birds\\test\\DAURIAN REDSTART\\2.jpg'/></div><div class=\"zoom\"><img style='width: 100px; height: 100px; margin: 1px; float: left; border: 0px solid black;'title=['DAURIAN REDSTART'] src='dataset_birds\\test\\DAURIAN REDSTART\\3.jpg'/></div><div class=\"zoom\"><img style='width: 100px; height: 100px; margin: 1px; float: left; border: 0px solid black;'title=['DAURIAN REDSTART'] src='dataset_birds\\test\\DAURIAN REDSTART\\4.jpg'/></div><div class=\"zoom\"><img style='width: 100px; height: 100px; margin: 1px; float: left; border: 0px solid black;'title=['DAURIAN REDSTART'] src='dataset_birds\\test\\DAURIAN REDSTART\\5.jpg'/></div>"
      ],
      "text/plain": [
       "<IPython.core.display.HTML object>"
      ]
     },
     "metadata": {},
     "output_type": "display_data"
    },
    {
     "name": "stdout",
     "output_type": "stream",
     "text": [
      "Drawing DEMOISELLE CRANE\n"
     ]
    },
    {
     "data": {
      "text/html": [
       "<div class=\"zoom\"><img style='width: 100px; height: 100px; margin: 1px; float: left; border: 0px solid black;'title=['DEMOISELLE CRANE'] src='dataset_birds\\test\\DEMOISELLE CRANE\\1.jpg'/></div><div class=\"zoom\"><img style='width: 100px; height: 100px; margin: 1px; float: left; border: 0px solid black;'title=['DEMOISELLE CRANE'] src='dataset_birds\\test\\DEMOISELLE CRANE\\2.jpg'/></div><div class=\"zoom\"><img style='width: 100px; height: 100px; margin: 1px; float: left; border: 0px solid black;'title=['DEMOISELLE CRANE'] src='dataset_birds\\test\\DEMOISELLE CRANE\\3.jpg'/></div><div class=\"zoom\"><img style='width: 100px; height: 100px; margin: 1px; float: left; border: 0px solid black;'title=['DEMOISELLE CRANE'] src='dataset_birds\\test\\DEMOISELLE CRANE\\4.jpg'/></div><div class=\"zoom\"><img style='width: 100px; height: 100px; margin: 1px; float: left; border: 0px solid black;'title=['DEMOISELLE CRANE'] src='dataset_birds\\test\\DEMOISELLE CRANE\\5.jpg'/></div>"
      ],
      "text/plain": [
       "<IPython.core.display.HTML object>"
      ]
     },
     "metadata": {},
     "output_type": "display_data"
    },
    {
     "name": "stdout",
     "output_type": "stream",
     "text": [
      "Drawing DOUBLE BARRED FINCH\n"
     ]
    },
    {
     "data": {
      "text/html": [
       "<div class=\"zoom\"><img style='width: 100px; height: 100px; margin: 1px; float: left; border: 0px solid black;'title=['DOUBLE BARRED FINCH'] src='dataset_birds\\test\\DOUBLE BARRED FINCH\\1.jpg'/></div><div class=\"zoom\"><img style='width: 100px; height: 100px; margin: 1px; float: left; border: 0px solid black;'title=['DOUBLE BARRED FINCH'] src='dataset_birds\\test\\DOUBLE BARRED FINCH\\2.jpg'/></div><div class=\"zoom\"><img style='width: 100px; height: 100px; margin: 1px; float: left; border: 0px solid black;'title=['DOUBLE BARRED FINCH'] src='dataset_birds\\test\\DOUBLE BARRED FINCH\\3.jpg'/></div><div class=\"zoom\"><img style='width: 100px; height: 100px; margin: 1px; float: left; border: 0px solid black;'title=['DOUBLE BARRED FINCH'] src='dataset_birds\\test\\DOUBLE BARRED FINCH\\4.jpg'/></div><div class=\"zoom\"><img style='width: 100px; height: 100px; margin: 1px; float: left; border: 0px solid black;'title=['DOUBLE BARRED FINCH'] src='dataset_birds\\test\\DOUBLE BARRED FINCH\\5.jpg'/></div>"
      ],
      "text/plain": [
       "<IPython.core.display.HTML object>"
      ]
     },
     "metadata": {},
     "output_type": "display_data"
    },
    {
     "name": "stdout",
     "output_type": "stream",
     "text": [
      "Drawing DOUBLE BRESTED CORMARANT\n"
     ]
    },
    {
     "data": {
      "text/html": [
       "<div class=\"zoom\"><img style='width: 100px; height: 100px; margin: 1px; float: left; border: 0px solid black;'title=['DOUBLE BRESTED CORMARANT'] src='dataset_birds\\test\\DOUBLE BRESTED CORMARANT\\1.jpg'/></div><div class=\"zoom\"><img style='width: 100px; height: 100px; margin: 1px; float: left; border: 0px solid black;'title=['DOUBLE BRESTED CORMARANT'] src='dataset_birds\\test\\DOUBLE BRESTED CORMARANT\\2.jpg'/></div><div class=\"zoom\"><img style='width: 100px; height: 100px; margin: 1px; float: left; border: 0px solid black;'title=['DOUBLE BRESTED CORMARANT'] src='dataset_birds\\test\\DOUBLE BRESTED CORMARANT\\3.jpg'/></div><div class=\"zoom\"><img style='width: 100px; height: 100px; margin: 1px; float: left; border: 0px solid black;'title=['DOUBLE BRESTED CORMARANT'] src='dataset_birds\\test\\DOUBLE BRESTED CORMARANT\\4.jpg'/></div><div class=\"zoom\"><img style='width: 100px; height: 100px; margin: 1px; float: left; border: 0px solid black;'title=['DOUBLE BRESTED CORMARANT'] src='dataset_birds\\test\\DOUBLE BRESTED CORMARANT\\5.jpg'/></div>"
      ],
      "text/plain": [
       "<IPython.core.display.HTML object>"
      ]
     },
     "metadata": {},
     "output_type": "display_data"
    },
    {
     "name": "stdout",
     "output_type": "stream",
     "text": [
      "Drawing DOUBLE EYED FIG PARROT\n"
     ]
    },
    {
     "data": {
      "text/html": [
       "<div class=\"zoom\"><img style='width: 100px; height: 100px; margin: 1px; float: left; border: 0px solid black;'title=['DOUBLE EYED FIG PARROT'] src='dataset_birds\\test\\DOUBLE EYED FIG PARROT\\1.jpg'/></div><div class=\"zoom\"><img style='width: 100px; height: 100px; margin: 1px; float: left; border: 0px solid black;'title=['DOUBLE EYED FIG PARROT'] src='dataset_birds\\test\\DOUBLE EYED FIG PARROT\\2.jpg'/></div><div class=\"zoom\"><img style='width: 100px; height: 100px; margin: 1px; float: left; border: 0px solid black;'title=['DOUBLE EYED FIG PARROT'] src='dataset_birds\\test\\DOUBLE EYED FIG PARROT\\3.jpg'/></div><div class=\"zoom\"><img style='width: 100px; height: 100px; margin: 1px; float: left; border: 0px solid black;'title=['DOUBLE EYED FIG PARROT'] src='dataset_birds\\test\\DOUBLE EYED FIG PARROT\\4.jpg'/></div><div class=\"zoom\"><img style='width: 100px; height: 100px; margin: 1px; float: left; border: 0px solid black;'title=['DOUBLE EYED FIG PARROT'] src='dataset_birds\\test\\DOUBLE EYED FIG PARROT\\5.jpg'/></div>"
      ],
      "text/plain": [
       "<IPython.core.display.HTML object>"
      ]
     },
     "metadata": {},
     "output_type": "display_data"
    },
    {
     "name": "stdout",
     "output_type": "stream",
     "text": [
      "Drawing DOWNY WOODPECKER\n"
     ]
    },
    {
     "data": {
      "text/html": [
       "<div class=\"zoom\"><img style='width: 100px; height: 100px; margin: 1px; float: left; border: 0px solid black;'title=['DOWNY WOODPECKER'] src='dataset_birds\\test\\DOWNY WOODPECKER\\1.jpg'/></div><div class=\"zoom\"><img style='width: 100px; height: 100px; margin: 1px; float: left; border: 0px solid black;'title=['DOWNY WOODPECKER'] src='dataset_birds\\test\\DOWNY WOODPECKER\\2.jpg'/></div><div class=\"zoom\"><img style='width: 100px; height: 100px; margin: 1px; float: left; border: 0px solid black;'title=['DOWNY WOODPECKER'] src='dataset_birds\\test\\DOWNY WOODPECKER\\3.jpg'/></div><div class=\"zoom\"><img style='width: 100px; height: 100px; margin: 1px; float: left; border: 0px solid black;'title=['DOWNY WOODPECKER'] src='dataset_birds\\test\\DOWNY WOODPECKER\\4.jpg'/></div><div class=\"zoom\"><img style='width: 100px; height: 100px; margin: 1px; float: left; border: 0px solid black;'title=['DOWNY WOODPECKER'] src='dataset_birds\\test\\DOWNY WOODPECKER\\5.jpg'/></div>"
      ],
      "text/plain": [
       "<IPython.core.display.HTML object>"
      ]
     },
     "metadata": {},
     "output_type": "display_data"
    },
    {
     "name": "stdout",
     "output_type": "stream",
     "text": [
      "Drawing DUNLIN\n"
     ]
    },
    {
     "data": {
      "text/html": [
       "<div class=\"zoom\"><img style='width: 100px; height: 100px; margin: 1px; float: left; border: 0px solid black;'title=['DUNLIN'] src='dataset_birds\\test\\DUNLIN\\1.jpg'/></div><div class=\"zoom\"><img style='width: 100px; height: 100px; margin: 1px; float: left; border: 0px solid black;'title=['DUNLIN'] src='dataset_birds\\test\\DUNLIN\\2.jpg'/></div><div class=\"zoom\"><img style='width: 100px; height: 100px; margin: 1px; float: left; border: 0px solid black;'title=['DUNLIN'] src='dataset_birds\\test\\DUNLIN\\3.jpg'/></div><div class=\"zoom\"><img style='width: 100px; height: 100px; margin: 1px; float: left; border: 0px solid black;'title=['DUNLIN'] src='dataset_birds\\test\\DUNLIN\\4.jpg'/></div><div class=\"zoom\"><img style='width: 100px; height: 100px; margin: 1px; float: left; border: 0px solid black;'title=['DUNLIN'] src='dataset_birds\\test\\DUNLIN\\5.jpg'/></div>"
      ],
      "text/plain": [
       "<IPython.core.display.HTML object>"
      ]
     },
     "metadata": {},
     "output_type": "display_data"
    },
    {
     "name": "stdout",
     "output_type": "stream",
     "text": [
      "Drawing DUSKY LORY\n"
     ]
    },
    {
     "data": {
      "text/html": [
       "<div class=\"zoom\"><img style='width: 100px; height: 100px; margin: 1px; float: left; border: 0px solid black;'title=['DUSKY LORY'] src='dataset_birds\\test\\DUSKY LORY\\1.jpg'/></div><div class=\"zoom\"><img style='width: 100px; height: 100px; margin: 1px; float: left; border: 0px solid black;'title=['DUSKY LORY'] src='dataset_birds\\test\\DUSKY LORY\\2.jpg'/></div><div class=\"zoom\"><img style='width: 100px; height: 100px; margin: 1px; float: left; border: 0px solid black;'title=['DUSKY LORY'] src='dataset_birds\\test\\DUSKY LORY\\3.jpg'/></div><div class=\"zoom\"><img style='width: 100px; height: 100px; margin: 1px; float: left; border: 0px solid black;'title=['DUSKY LORY'] src='dataset_birds\\test\\DUSKY LORY\\4.jpg'/></div><div class=\"zoom\"><img style='width: 100px; height: 100px; margin: 1px; float: left; border: 0px solid black;'title=['DUSKY LORY'] src='dataset_birds\\test\\DUSKY LORY\\5.jpg'/></div>"
      ],
      "text/plain": [
       "<IPython.core.display.HTML object>"
      ]
     },
     "metadata": {},
     "output_type": "display_data"
    },
    {
     "name": "stdout",
     "output_type": "stream",
     "text": [
      "Drawing DUSKY ROBIN\n"
     ]
    },
    {
     "data": {
      "text/html": [
       "<div class=\"zoom\"><img style='width: 100px; height: 100px; margin: 1px; float: left; border: 0px solid black;'title=['DUSKY ROBIN'] src='dataset_birds\\test\\DUSKY ROBIN\\1.jpg'/></div><div class=\"zoom\"><img style='width: 100px; height: 100px; margin: 1px; float: left; border: 0px solid black;'title=['DUSKY ROBIN'] src='dataset_birds\\test\\DUSKY ROBIN\\2.jpg'/></div><div class=\"zoom\"><img style='width: 100px; height: 100px; margin: 1px; float: left; border: 0px solid black;'title=['DUSKY ROBIN'] src='dataset_birds\\test\\DUSKY ROBIN\\3.jpg'/></div><div class=\"zoom\"><img style='width: 100px; height: 100px; margin: 1px; float: left; border: 0px solid black;'title=['DUSKY ROBIN'] src='dataset_birds\\test\\DUSKY ROBIN\\4.jpg'/></div><div class=\"zoom\"><img style='width: 100px; height: 100px; margin: 1px; float: left; border: 0px solid black;'title=['DUSKY ROBIN'] src='dataset_birds\\test\\DUSKY ROBIN\\5.jpg'/></div>"
      ],
      "text/plain": [
       "<IPython.core.display.HTML object>"
      ]
     },
     "metadata": {},
     "output_type": "display_data"
    },
    {
     "name": "stdout",
     "output_type": "stream",
     "text": [
      "Drawing EARED PITA\n"
     ]
    },
    {
     "data": {
      "text/html": [
       "<div class=\"zoom\"><img style='width: 100px; height: 100px; margin: 1px; float: left; border: 0px solid black;'title=['EARED PITA'] src='dataset_birds\\test\\EARED PITA\\1.jpg'/></div><div class=\"zoom\"><img style='width: 100px; height: 100px; margin: 1px; float: left; border: 0px solid black;'title=['EARED PITA'] src='dataset_birds\\test\\EARED PITA\\2.jpg'/></div><div class=\"zoom\"><img style='width: 100px; height: 100px; margin: 1px; float: left; border: 0px solid black;'title=['EARED PITA'] src='dataset_birds\\test\\EARED PITA\\3.jpg'/></div><div class=\"zoom\"><img style='width: 100px; height: 100px; margin: 1px; float: left; border: 0px solid black;'title=['EARED PITA'] src='dataset_birds\\test\\EARED PITA\\4.jpg'/></div><div class=\"zoom\"><img style='width: 100px; height: 100px; margin: 1px; float: left; border: 0px solid black;'title=['EARED PITA'] src='dataset_birds\\test\\EARED PITA\\5.jpg'/></div>"
      ],
      "text/plain": [
       "<IPython.core.display.HTML object>"
      ]
     },
     "metadata": {},
     "output_type": "display_data"
    },
    {
     "name": "stdout",
     "output_type": "stream",
     "text": [
      "Drawing EASTERN BLUEBIRD\n"
     ]
    },
    {
     "data": {
      "text/html": [
       "<div class=\"zoom\"><img style='width: 100px; height: 100px; margin: 1px; float: left; border: 0px solid black;'title=['EASTERN BLUEBIRD'] src='dataset_birds\\test\\EASTERN BLUEBIRD\\1.jpg'/></div><div class=\"zoom\"><img style='width: 100px; height: 100px; margin: 1px; float: left; border: 0px solid black;'title=['EASTERN BLUEBIRD'] src='dataset_birds\\test\\EASTERN BLUEBIRD\\2.jpg'/></div><div class=\"zoom\"><img style='width: 100px; height: 100px; margin: 1px; float: left; border: 0px solid black;'title=['EASTERN BLUEBIRD'] src='dataset_birds\\test\\EASTERN BLUEBIRD\\3.jpg'/></div><div class=\"zoom\"><img style='width: 100px; height: 100px; margin: 1px; float: left; border: 0px solid black;'title=['EASTERN BLUEBIRD'] src='dataset_birds\\test\\EASTERN BLUEBIRD\\4.jpg'/></div><div class=\"zoom\"><img style='width: 100px; height: 100px; margin: 1px; float: left; border: 0px solid black;'title=['EASTERN BLUEBIRD'] src='dataset_birds\\test\\EASTERN BLUEBIRD\\5.jpg'/></div>"
      ],
      "text/plain": [
       "<IPython.core.display.HTML object>"
      ]
     },
     "metadata": {},
     "output_type": "display_data"
    },
    {
     "name": "stdout",
     "output_type": "stream",
     "text": [
      "Drawing EASTERN BLUEBONNET\n"
     ]
    },
    {
     "data": {
      "text/html": [
       "<div class=\"zoom\"><img style='width: 100px; height: 100px; margin: 1px; float: left; border: 0px solid black;'title=['EASTERN BLUEBONNET'] src='dataset_birds\\test\\EASTERN BLUEBONNET\\1.jpg'/></div><div class=\"zoom\"><img style='width: 100px; height: 100px; margin: 1px; float: left; border: 0px solid black;'title=['EASTERN BLUEBONNET'] src='dataset_birds\\test\\EASTERN BLUEBONNET\\2.jpg'/></div><div class=\"zoom\"><img style='width: 100px; height: 100px; margin: 1px; float: left; border: 0px solid black;'title=['EASTERN BLUEBONNET'] src='dataset_birds\\test\\EASTERN BLUEBONNET\\3.jpg'/></div><div class=\"zoom\"><img style='width: 100px; height: 100px; margin: 1px; float: left; border: 0px solid black;'title=['EASTERN BLUEBONNET'] src='dataset_birds\\test\\EASTERN BLUEBONNET\\4.jpg'/></div><div class=\"zoom\"><img style='width: 100px; height: 100px; margin: 1px; float: left; border: 0px solid black;'title=['EASTERN BLUEBONNET'] src='dataset_birds\\test\\EASTERN BLUEBONNET\\5.jpg'/></div>"
      ],
      "text/plain": [
       "<IPython.core.display.HTML object>"
      ]
     },
     "metadata": {},
     "output_type": "display_data"
    },
    {
     "name": "stdout",
     "output_type": "stream",
     "text": [
      "Drawing EASTERN GOLDEN WEAVER\n"
     ]
    },
    {
     "data": {
      "text/html": [
       "<div class=\"zoom\"><img style='width: 100px; height: 100px; margin: 1px; float: left; border: 0px solid black;'title=['EASTERN GOLDEN WEAVER'] src='dataset_birds\\test\\EASTERN GOLDEN WEAVER\\1.jpg'/></div><div class=\"zoom\"><img style='width: 100px; height: 100px; margin: 1px; float: left; border: 0px solid black;'title=['EASTERN GOLDEN WEAVER'] src='dataset_birds\\test\\EASTERN GOLDEN WEAVER\\2.jpg'/></div><div class=\"zoom\"><img style='width: 100px; height: 100px; margin: 1px; float: left; border: 0px solid black;'title=['EASTERN GOLDEN WEAVER'] src='dataset_birds\\test\\EASTERN GOLDEN WEAVER\\3.jpg'/></div><div class=\"zoom\"><img style='width: 100px; height: 100px; margin: 1px; float: left; border: 0px solid black;'title=['EASTERN GOLDEN WEAVER'] src='dataset_birds\\test\\EASTERN GOLDEN WEAVER\\4.jpg'/></div><div class=\"zoom\"><img style='width: 100px; height: 100px; margin: 1px; float: left; border: 0px solid black;'title=['EASTERN GOLDEN WEAVER'] src='dataset_birds\\test\\EASTERN GOLDEN WEAVER\\5.jpg'/></div>"
      ],
      "text/plain": [
       "<IPython.core.display.HTML object>"
      ]
     },
     "metadata": {},
     "output_type": "display_data"
    },
    {
     "name": "stdout",
     "output_type": "stream",
     "text": [
      "Drawing EASTERN MEADOWLARK\n"
     ]
    },
    {
     "data": {
      "text/html": [
       "<div class=\"zoom\"><img style='width: 100px; height: 100px; margin: 1px; float: left; border: 0px solid black;'title=['EASTERN MEADOWLARK'] src='dataset_birds\\test\\EASTERN MEADOWLARK\\1.jpg'/></div><div class=\"zoom\"><img style='width: 100px; height: 100px; margin: 1px; float: left; border: 0px solid black;'title=['EASTERN MEADOWLARK'] src='dataset_birds\\test\\EASTERN MEADOWLARK\\2.jpg'/></div><div class=\"zoom\"><img style='width: 100px; height: 100px; margin: 1px; float: left; border: 0px solid black;'title=['EASTERN MEADOWLARK'] src='dataset_birds\\test\\EASTERN MEADOWLARK\\3.jpg'/></div><div class=\"zoom\"><img style='width: 100px; height: 100px; margin: 1px; float: left; border: 0px solid black;'title=['EASTERN MEADOWLARK'] src='dataset_birds\\test\\EASTERN MEADOWLARK\\4.jpg'/></div><div class=\"zoom\"><img style='width: 100px; height: 100px; margin: 1px; float: left; border: 0px solid black;'title=['EASTERN MEADOWLARK'] src='dataset_birds\\test\\EASTERN MEADOWLARK\\5.jpg'/></div>"
      ],
      "text/plain": [
       "<IPython.core.display.HTML object>"
      ]
     },
     "metadata": {},
     "output_type": "display_data"
    },
    {
     "name": "stdout",
     "output_type": "stream",
     "text": [
      "Drawing EASTERN ROSELLA\n"
     ]
    },
    {
     "data": {
      "text/html": [
       "<div class=\"zoom\"><img style='width: 100px; height: 100px; margin: 1px; float: left; border: 0px solid black;'title=['EASTERN ROSELLA'] src='dataset_birds\\test\\EASTERN ROSELLA\\1.jpg'/></div><div class=\"zoom\"><img style='width: 100px; height: 100px; margin: 1px; float: left; border: 0px solid black;'title=['EASTERN ROSELLA'] src='dataset_birds\\test\\EASTERN ROSELLA\\2.jpg'/></div><div class=\"zoom\"><img style='width: 100px; height: 100px; margin: 1px; float: left; border: 0px solid black;'title=['EASTERN ROSELLA'] src='dataset_birds\\test\\EASTERN ROSELLA\\3.jpg'/></div><div class=\"zoom\"><img style='width: 100px; height: 100px; margin: 1px; float: left; border: 0px solid black;'title=['EASTERN ROSELLA'] src='dataset_birds\\test\\EASTERN ROSELLA\\4.jpg'/></div><div class=\"zoom\"><img style='width: 100px; height: 100px; margin: 1px; float: left; border: 0px solid black;'title=['EASTERN ROSELLA'] src='dataset_birds\\test\\EASTERN ROSELLA\\5.jpg'/></div>"
      ],
      "text/plain": [
       "<IPython.core.display.HTML object>"
      ]
     },
     "metadata": {},
     "output_type": "display_data"
    },
    {
     "name": "stdout",
     "output_type": "stream",
     "text": [
      "Drawing EASTERN TOWEE\n"
     ]
    },
    {
     "data": {
      "text/html": [
       "<div class=\"zoom\"><img style='width: 100px; height: 100px; margin: 1px; float: left; border: 0px solid black;'title=['EASTERN TOWEE'] src='dataset_birds\\test\\EASTERN TOWEE\\1.jpg'/></div><div class=\"zoom\"><img style='width: 100px; height: 100px; margin: 1px; float: left; border: 0px solid black;'title=['EASTERN TOWEE'] src='dataset_birds\\test\\EASTERN TOWEE\\2.jpg'/></div><div class=\"zoom\"><img style='width: 100px; height: 100px; margin: 1px; float: left; border: 0px solid black;'title=['EASTERN TOWEE'] src='dataset_birds\\test\\EASTERN TOWEE\\3.jpg'/></div><div class=\"zoom\"><img style='width: 100px; height: 100px; margin: 1px; float: left; border: 0px solid black;'title=['EASTERN TOWEE'] src='dataset_birds\\test\\EASTERN TOWEE\\4.jpg'/></div><div class=\"zoom\"><img style='width: 100px; height: 100px; margin: 1px; float: left; border: 0px solid black;'title=['EASTERN TOWEE'] src='dataset_birds\\test\\EASTERN TOWEE\\5.jpg'/></div>"
      ],
      "text/plain": [
       "<IPython.core.display.HTML object>"
      ]
     },
     "metadata": {},
     "output_type": "display_data"
    },
    {
     "name": "stdout",
     "output_type": "stream",
     "text": [
      "Drawing EASTERN WIP POOR WILL\n"
     ]
    },
    {
     "data": {
      "text/html": [
       "<div class=\"zoom\"><img style='width: 100px; height: 100px; margin: 1px; float: left; border: 0px solid black;'title=['EASTERN WIP POOR WILL'] src='dataset_birds\\test\\EASTERN WIP POOR WILL\\1.jpg'/></div><div class=\"zoom\"><img style='width: 100px; height: 100px; margin: 1px; float: left; border: 0px solid black;'title=['EASTERN WIP POOR WILL'] src='dataset_birds\\test\\EASTERN WIP POOR WILL\\2.jpg'/></div><div class=\"zoom\"><img style='width: 100px; height: 100px; margin: 1px; float: left; border: 0px solid black;'title=['EASTERN WIP POOR WILL'] src='dataset_birds\\test\\EASTERN WIP POOR WILL\\3.jpg'/></div><div class=\"zoom\"><img style='width: 100px; height: 100px; margin: 1px; float: left; border: 0px solid black;'title=['EASTERN WIP POOR WILL'] src='dataset_birds\\test\\EASTERN WIP POOR WILL\\4.jpg'/></div><div class=\"zoom\"><img style='width: 100px; height: 100px; margin: 1px; float: left; border: 0px solid black;'title=['EASTERN WIP POOR WILL'] src='dataset_birds\\test\\EASTERN WIP POOR WILL\\5.jpg'/></div>"
      ],
      "text/plain": [
       "<IPython.core.display.HTML object>"
      ]
     },
     "metadata": {},
     "output_type": "display_data"
    },
    {
     "name": "stdout",
     "output_type": "stream",
     "text": [
      "Drawing EASTERN YELLOW ROBIN\n"
     ]
    },
    {
     "data": {
      "text/html": [
       "<div class=\"zoom\"><img style='width: 100px; height: 100px; margin: 1px; float: left; border: 0px solid black;'title=['EASTERN YELLOW ROBIN'] src='dataset_birds\\test\\EASTERN YELLOW ROBIN\\1.jpg'/></div><div class=\"zoom\"><img style='width: 100px; height: 100px; margin: 1px; float: left; border: 0px solid black;'title=['EASTERN YELLOW ROBIN'] src='dataset_birds\\test\\EASTERN YELLOW ROBIN\\2.jpg'/></div><div class=\"zoom\"><img style='width: 100px; height: 100px; margin: 1px; float: left; border: 0px solid black;'title=['EASTERN YELLOW ROBIN'] src='dataset_birds\\test\\EASTERN YELLOW ROBIN\\3.jpg'/></div><div class=\"zoom\"><img style='width: 100px; height: 100px; margin: 1px; float: left; border: 0px solid black;'title=['EASTERN YELLOW ROBIN'] src='dataset_birds\\test\\EASTERN YELLOW ROBIN\\4.jpg'/></div><div class=\"zoom\"><img style='width: 100px; height: 100px; margin: 1px; float: left; border: 0px solid black;'title=['EASTERN YELLOW ROBIN'] src='dataset_birds\\test\\EASTERN YELLOW ROBIN\\5.jpg'/></div>"
      ],
      "text/plain": [
       "<IPython.core.display.HTML object>"
      ]
     },
     "metadata": {},
     "output_type": "display_data"
    },
    {
     "name": "stdout",
     "output_type": "stream",
     "text": [
      "Drawing ECUADORIAN HILLSTAR\n"
     ]
    },
    {
     "data": {
      "text/html": [
       "<div class=\"zoom\"><img style='width: 100px; height: 100px; margin: 1px; float: left; border: 0px solid black;'title=['ECUADORIAN HILLSTAR'] src='dataset_birds\\test\\ECUADORIAN HILLSTAR\\1.jpg'/></div><div class=\"zoom\"><img style='width: 100px; height: 100px; margin: 1px; float: left; border: 0px solid black;'title=['ECUADORIAN HILLSTAR'] src='dataset_birds\\test\\ECUADORIAN HILLSTAR\\2.jpg'/></div><div class=\"zoom\"><img style='width: 100px; height: 100px; margin: 1px; float: left; border: 0px solid black;'title=['ECUADORIAN HILLSTAR'] src='dataset_birds\\test\\ECUADORIAN HILLSTAR\\3.jpg'/></div><div class=\"zoom\"><img style='width: 100px; height: 100px; margin: 1px; float: left; border: 0px solid black;'title=['ECUADORIAN HILLSTAR'] src='dataset_birds\\test\\ECUADORIAN HILLSTAR\\4.jpg'/></div><div class=\"zoom\"><img style='width: 100px; height: 100px; margin: 1px; float: left; border: 0px solid black;'title=['ECUADORIAN HILLSTAR'] src='dataset_birds\\test\\ECUADORIAN HILLSTAR\\5.jpg'/></div>"
      ],
      "text/plain": [
       "<IPython.core.display.HTML object>"
      ]
     },
     "metadata": {},
     "output_type": "display_data"
    },
    {
     "name": "stdout",
     "output_type": "stream",
     "text": [
      "Drawing EGYPTIAN GOOSE\n"
     ]
    },
    {
     "data": {
      "text/html": [
       "<div class=\"zoom\"><img style='width: 100px; height: 100px; margin: 1px; float: left; border: 0px solid black;'title=['EGYPTIAN GOOSE'] src='dataset_birds\\test\\EGYPTIAN GOOSE\\1.jpg'/></div><div class=\"zoom\"><img style='width: 100px; height: 100px; margin: 1px; float: left; border: 0px solid black;'title=['EGYPTIAN GOOSE'] src='dataset_birds\\test\\EGYPTIAN GOOSE\\2.jpg'/></div><div class=\"zoom\"><img style='width: 100px; height: 100px; margin: 1px; float: left; border: 0px solid black;'title=['EGYPTIAN GOOSE'] src='dataset_birds\\test\\EGYPTIAN GOOSE\\3.jpg'/></div><div class=\"zoom\"><img style='width: 100px; height: 100px; margin: 1px; float: left; border: 0px solid black;'title=['EGYPTIAN GOOSE'] src='dataset_birds\\test\\EGYPTIAN GOOSE\\4.jpg'/></div><div class=\"zoom\"><img style='width: 100px; height: 100px; margin: 1px; float: left; border: 0px solid black;'title=['EGYPTIAN GOOSE'] src='dataset_birds\\test\\EGYPTIAN GOOSE\\5.jpg'/></div>"
      ],
      "text/plain": [
       "<IPython.core.display.HTML object>"
      ]
     },
     "metadata": {},
     "output_type": "display_data"
    },
    {
     "name": "stdout",
     "output_type": "stream",
     "text": [
      "Drawing ELEGANT TROGON\n"
     ]
    },
    {
     "data": {
      "text/html": [
       "<div class=\"zoom\"><img style='width: 100px; height: 100px; margin: 1px; float: left; border: 0px solid black;'title=['ELEGANT TROGON'] src='dataset_birds\\test\\ELEGANT TROGON\\1.jpg'/></div><div class=\"zoom\"><img style='width: 100px; height: 100px; margin: 1px; float: left; border: 0px solid black;'title=['ELEGANT TROGON'] src='dataset_birds\\test\\ELEGANT TROGON\\2.jpg'/></div><div class=\"zoom\"><img style='width: 100px; height: 100px; margin: 1px; float: left; border: 0px solid black;'title=['ELEGANT TROGON'] src='dataset_birds\\test\\ELEGANT TROGON\\3.jpg'/></div><div class=\"zoom\"><img style='width: 100px; height: 100px; margin: 1px; float: left; border: 0px solid black;'title=['ELEGANT TROGON'] src='dataset_birds\\test\\ELEGANT TROGON\\4.jpg'/></div><div class=\"zoom\"><img style='width: 100px; height: 100px; margin: 1px; float: left; border: 0px solid black;'title=['ELEGANT TROGON'] src='dataset_birds\\test\\ELEGANT TROGON\\5.jpg'/></div>"
      ],
      "text/plain": [
       "<IPython.core.display.HTML object>"
      ]
     },
     "metadata": {},
     "output_type": "display_data"
    },
    {
     "name": "stdout",
     "output_type": "stream",
     "text": [
      "Drawing ELLIOTS  PHEASANT\n"
     ]
    },
    {
     "data": {
      "text/html": [
       "<div class=\"zoom\"><img style='width: 100px; height: 100px; margin: 1px; float: left; border: 0px solid black;'title=['ELLIOTS  PHEASANT'] src='dataset_birds\\test\\ELLIOTS  PHEASANT\\1.jpg'/></div><div class=\"zoom\"><img style='width: 100px; height: 100px; margin: 1px; float: left; border: 0px solid black;'title=['ELLIOTS  PHEASANT'] src='dataset_birds\\test\\ELLIOTS  PHEASANT\\2.jpg'/></div><div class=\"zoom\"><img style='width: 100px; height: 100px; margin: 1px; float: left; border: 0px solid black;'title=['ELLIOTS  PHEASANT'] src='dataset_birds\\test\\ELLIOTS  PHEASANT\\3.jpg'/></div><div class=\"zoom\"><img style='width: 100px; height: 100px; margin: 1px; float: left; border: 0px solid black;'title=['ELLIOTS  PHEASANT'] src='dataset_birds\\test\\ELLIOTS  PHEASANT\\4.jpg'/></div><div class=\"zoom\"><img style='width: 100px; height: 100px; margin: 1px; float: left; border: 0px solid black;'title=['ELLIOTS  PHEASANT'] src='dataset_birds\\test\\ELLIOTS  PHEASANT\\5.jpg'/></div>"
      ],
      "text/plain": [
       "<IPython.core.display.HTML object>"
      ]
     },
     "metadata": {},
     "output_type": "display_data"
    },
    {
     "name": "stdout",
     "output_type": "stream",
     "text": [
      "Drawing EMERALD TANAGER\n"
     ]
    },
    {
     "data": {
      "text/html": [
       "<div class=\"zoom\"><img style='width: 100px; height: 100px; margin: 1px; float: left; border: 0px solid black;'title=['EMERALD TANAGER'] src='dataset_birds\\test\\EMERALD TANAGER\\1.jpg'/></div><div class=\"zoom\"><img style='width: 100px; height: 100px; margin: 1px; float: left; border: 0px solid black;'title=['EMERALD TANAGER'] src='dataset_birds\\test\\EMERALD TANAGER\\2.jpg'/></div><div class=\"zoom\"><img style='width: 100px; height: 100px; margin: 1px; float: left; border: 0px solid black;'title=['EMERALD TANAGER'] src='dataset_birds\\test\\EMERALD TANAGER\\3.jpg'/></div><div class=\"zoom\"><img style='width: 100px; height: 100px; margin: 1px; float: left; border: 0px solid black;'title=['EMERALD TANAGER'] src='dataset_birds\\test\\EMERALD TANAGER\\4.jpg'/></div><div class=\"zoom\"><img style='width: 100px; height: 100px; margin: 1px; float: left; border: 0px solid black;'title=['EMERALD TANAGER'] src='dataset_birds\\test\\EMERALD TANAGER\\5.jpg'/></div>"
      ],
      "text/plain": [
       "<IPython.core.display.HTML object>"
      ]
     },
     "metadata": {},
     "output_type": "display_data"
    },
    {
     "name": "stdout",
     "output_type": "stream",
     "text": [
      "Drawing EMPEROR PENGUIN\n"
     ]
    },
    {
     "data": {
      "text/html": [
       "<div class=\"zoom\"><img style='width: 100px; height: 100px; margin: 1px; float: left; border: 0px solid black;'title=['EMPEROR PENGUIN'] src='dataset_birds\\test\\EMPEROR PENGUIN\\1.jpg'/></div><div class=\"zoom\"><img style='width: 100px; height: 100px; margin: 1px; float: left; border: 0px solid black;'title=['EMPEROR PENGUIN'] src='dataset_birds\\test\\EMPEROR PENGUIN\\2.jpg'/></div><div class=\"zoom\"><img style='width: 100px; height: 100px; margin: 1px; float: left; border: 0px solid black;'title=['EMPEROR PENGUIN'] src='dataset_birds\\test\\EMPEROR PENGUIN\\3.jpg'/></div><div class=\"zoom\"><img style='width: 100px; height: 100px; margin: 1px; float: left; border: 0px solid black;'title=['EMPEROR PENGUIN'] src='dataset_birds\\test\\EMPEROR PENGUIN\\4.jpg'/></div><div class=\"zoom\"><img style='width: 100px; height: 100px; margin: 1px; float: left; border: 0px solid black;'title=['EMPEROR PENGUIN'] src='dataset_birds\\test\\EMPEROR PENGUIN\\5.jpg'/></div>"
      ],
      "text/plain": [
       "<IPython.core.display.HTML object>"
      ]
     },
     "metadata": {},
     "output_type": "display_data"
    },
    {
     "name": "stdout",
     "output_type": "stream",
     "text": [
      "Drawing EMU\n"
     ]
    },
    {
     "data": {
      "text/html": [
       "<div class=\"zoom\"><img style='width: 100px; height: 100px; margin: 1px; float: left; border: 0px solid black;'title=['EMU'] src='dataset_birds\\test\\EMU\\1.jpg'/></div><div class=\"zoom\"><img style='width: 100px; height: 100px; margin: 1px; float: left; border: 0px solid black;'title=['EMU'] src='dataset_birds\\test\\EMU\\2.jpg'/></div><div class=\"zoom\"><img style='width: 100px; height: 100px; margin: 1px; float: left; border: 0px solid black;'title=['EMU'] src='dataset_birds\\test\\EMU\\3.jpg'/></div><div class=\"zoom\"><img style='width: 100px; height: 100px; margin: 1px; float: left; border: 0px solid black;'title=['EMU'] src='dataset_birds\\test\\EMU\\4.jpg'/></div><div class=\"zoom\"><img style='width: 100px; height: 100px; margin: 1px; float: left; border: 0px solid black;'title=['EMU'] src='dataset_birds\\test\\EMU\\5.jpg'/></div>"
      ],
      "text/plain": [
       "<IPython.core.display.HTML object>"
      ]
     },
     "metadata": {},
     "output_type": "display_data"
    },
    {
     "name": "stdout",
     "output_type": "stream",
     "text": [
      "Drawing ENGGANO MYNA\n"
     ]
    },
    {
     "data": {
      "text/html": [
       "<div class=\"zoom\"><img style='width: 100px; height: 100px; margin: 1px; float: left; border: 0px solid black;'title=['ENGGANO MYNA'] src='dataset_birds\\test\\ENGGANO MYNA\\1.jpg'/></div><div class=\"zoom\"><img style='width: 100px; height: 100px; margin: 1px; float: left; border: 0px solid black;'title=['ENGGANO MYNA'] src='dataset_birds\\test\\ENGGANO MYNA\\2.jpg'/></div><div class=\"zoom\"><img style='width: 100px; height: 100px; margin: 1px; float: left; border: 0px solid black;'title=['ENGGANO MYNA'] src='dataset_birds\\test\\ENGGANO MYNA\\3.jpg'/></div><div class=\"zoom\"><img style='width: 100px; height: 100px; margin: 1px; float: left; border: 0px solid black;'title=['ENGGANO MYNA'] src='dataset_birds\\test\\ENGGANO MYNA\\4.jpg'/></div><div class=\"zoom\"><img style='width: 100px; height: 100px; margin: 1px; float: left; border: 0px solid black;'title=['ENGGANO MYNA'] src='dataset_birds\\test\\ENGGANO MYNA\\5.jpg'/></div>"
      ],
      "text/plain": [
       "<IPython.core.display.HTML object>"
      ]
     },
     "metadata": {},
     "output_type": "display_data"
    },
    {
     "name": "stdout",
     "output_type": "stream",
     "text": [
      "Drawing EURASIAN BULLFINCH\n"
     ]
    },
    {
     "data": {
      "text/html": [
       "<div class=\"zoom\"><img style='width: 100px; height: 100px; margin: 1px; float: left; border: 0px solid black;'title=['EURASIAN BULLFINCH'] src='dataset_birds\\test\\EURASIAN BULLFINCH\\1.jpg'/></div><div class=\"zoom\"><img style='width: 100px; height: 100px; margin: 1px; float: left; border: 0px solid black;'title=['EURASIAN BULLFINCH'] src='dataset_birds\\test\\EURASIAN BULLFINCH\\2.jpg'/></div><div class=\"zoom\"><img style='width: 100px; height: 100px; margin: 1px; float: left; border: 0px solid black;'title=['EURASIAN BULLFINCH'] src='dataset_birds\\test\\EURASIAN BULLFINCH\\3.jpg'/></div><div class=\"zoom\"><img style='width: 100px; height: 100px; margin: 1px; float: left; border: 0px solid black;'title=['EURASIAN BULLFINCH'] src='dataset_birds\\test\\EURASIAN BULLFINCH\\4.jpg'/></div><div class=\"zoom\"><img style='width: 100px; height: 100px; margin: 1px; float: left; border: 0px solid black;'title=['EURASIAN BULLFINCH'] src='dataset_birds\\test\\EURASIAN BULLFINCH\\5.jpg'/></div>"
      ],
      "text/plain": [
       "<IPython.core.display.HTML object>"
      ]
     },
     "metadata": {},
     "output_type": "display_data"
    },
    {
     "name": "stdout",
     "output_type": "stream",
     "text": [
      "Drawing EURASIAN GOLDEN ORIOLE\n"
     ]
    },
    {
     "data": {
      "text/html": [
       "<div class=\"zoom\"><img style='width: 100px; height: 100px; margin: 1px; float: left; border: 0px solid black;'title=['EURASIAN GOLDEN ORIOLE'] src='dataset_birds\\test\\EURASIAN GOLDEN ORIOLE\\1.jpg'/></div><div class=\"zoom\"><img style='width: 100px; height: 100px; margin: 1px; float: left; border: 0px solid black;'title=['EURASIAN GOLDEN ORIOLE'] src='dataset_birds\\test\\EURASIAN GOLDEN ORIOLE\\2.jpg'/></div><div class=\"zoom\"><img style='width: 100px; height: 100px; margin: 1px; float: left; border: 0px solid black;'title=['EURASIAN GOLDEN ORIOLE'] src='dataset_birds\\test\\EURASIAN GOLDEN ORIOLE\\3.jpg'/></div><div class=\"zoom\"><img style='width: 100px; height: 100px; margin: 1px; float: left; border: 0px solid black;'title=['EURASIAN GOLDEN ORIOLE'] src='dataset_birds\\test\\EURASIAN GOLDEN ORIOLE\\4.jpg'/></div><div class=\"zoom\"><img style='width: 100px; height: 100px; margin: 1px; float: left; border: 0px solid black;'title=['EURASIAN GOLDEN ORIOLE'] src='dataset_birds\\test\\EURASIAN GOLDEN ORIOLE\\5.jpg'/></div>"
      ],
      "text/plain": [
       "<IPython.core.display.HTML object>"
      ]
     },
     "metadata": {},
     "output_type": "display_data"
    },
    {
     "name": "stdout",
     "output_type": "stream",
     "text": [
      "Drawing EURASIAN MAGPIE\n"
     ]
    },
    {
     "data": {
      "text/html": [
       "<div class=\"zoom\"><img style='width: 100px; height: 100px; margin: 1px; float: left; border: 0px solid black;'title=['EURASIAN MAGPIE'] src='dataset_birds\\test\\EURASIAN MAGPIE\\1.jpg'/></div><div class=\"zoom\"><img style='width: 100px; height: 100px; margin: 1px; float: left; border: 0px solid black;'title=['EURASIAN MAGPIE'] src='dataset_birds\\test\\EURASIAN MAGPIE\\2.jpg'/></div><div class=\"zoom\"><img style='width: 100px; height: 100px; margin: 1px; float: left; border: 0px solid black;'title=['EURASIAN MAGPIE'] src='dataset_birds\\test\\EURASIAN MAGPIE\\3.jpg'/></div><div class=\"zoom\"><img style='width: 100px; height: 100px; margin: 1px; float: left; border: 0px solid black;'title=['EURASIAN MAGPIE'] src='dataset_birds\\test\\EURASIAN MAGPIE\\4.jpg'/></div><div class=\"zoom\"><img style='width: 100px; height: 100px; margin: 1px; float: left; border: 0px solid black;'title=['EURASIAN MAGPIE'] src='dataset_birds\\test\\EURASIAN MAGPIE\\5.jpg'/></div>"
      ],
      "text/plain": [
       "<IPython.core.display.HTML object>"
      ]
     },
     "metadata": {},
     "output_type": "display_data"
    },
    {
     "name": "stdout",
     "output_type": "stream",
     "text": [
      "Drawing EUROPEAN GOLDFINCH\n"
     ]
    },
    {
     "data": {
      "text/html": [
       "<div class=\"zoom\"><img style='width: 100px; height: 100px; margin: 1px; float: left; border: 0px solid black;'title=['EUROPEAN GOLDFINCH'] src='dataset_birds\\test\\EUROPEAN GOLDFINCH\\1.jpg'/></div><div class=\"zoom\"><img style='width: 100px; height: 100px; margin: 1px; float: left; border: 0px solid black;'title=['EUROPEAN GOLDFINCH'] src='dataset_birds\\test\\EUROPEAN GOLDFINCH\\2.jpg'/></div><div class=\"zoom\"><img style='width: 100px; height: 100px; margin: 1px; float: left; border: 0px solid black;'title=['EUROPEAN GOLDFINCH'] src='dataset_birds\\test\\EUROPEAN GOLDFINCH\\3.jpg'/></div><div class=\"zoom\"><img style='width: 100px; height: 100px; margin: 1px; float: left; border: 0px solid black;'title=['EUROPEAN GOLDFINCH'] src='dataset_birds\\test\\EUROPEAN GOLDFINCH\\4.jpg'/></div><div class=\"zoom\"><img style='width: 100px; height: 100px; margin: 1px; float: left; border: 0px solid black;'title=['EUROPEAN GOLDFINCH'] src='dataset_birds\\test\\EUROPEAN GOLDFINCH\\5.jpg'/></div>"
      ],
      "text/plain": [
       "<IPython.core.display.HTML object>"
      ]
     },
     "metadata": {},
     "output_type": "display_data"
    },
    {
     "name": "stdout",
     "output_type": "stream",
     "text": [
      "Drawing EUROPEAN TURTLE DOVE\n"
     ]
    },
    {
     "data": {
      "text/html": [
       "<div class=\"zoom\"><img style='width: 100px; height: 100px; margin: 1px; float: left; border: 0px solid black;'title=['EUROPEAN TURTLE DOVE'] src='dataset_birds\\test\\EUROPEAN TURTLE DOVE\\1.jpg'/></div><div class=\"zoom\"><img style='width: 100px; height: 100px; margin: 1px; float: left; border: 0px solid black;'title=['EUROPEAN TURTLE DOVE'] src='dataset_birds\\test\\EUROPEAN TURTLE DOVE\\2.jpg'/></div><div class=\"zoom\"><img style='width: 100px; height: 100px; margin: 1px; float: left; border: 0px solid black;'title=['EUROPEAN TURTLE DOVE'] src='dataset_birds\\test\\EUROPEAN TURTLE DOVE\\3.jpg'/></div><div class=\"zoom\"><img style='width: 100px; height: 100px; margin: 1px; float: left; border: 0px solid black;'title=['EUROPEAN TURTLE DOVE'] src='dataset_birds\\test\\EUROPEAN TURTLE DOVE\\4.jpg'/></div><div class=\"zoom\"><img style='width: 100px; height: 100px; margin: 1px; float: left; border: 0px solid black;'title=['EUROPEAN TURTLE DOVE'] src='dataset_birds\\test\\EUROPEAN TURTLE DOVE\\5.jpg'/></div>"
      ],
      "text/plain": [
       "<IPython.core.display.HTML object>"
      ]
     },
     "metadata": {},
     "output_type": "display_data"
    },
    {
     "name": "stdout",
     "output_type": "stream",
     "text": [
      "Drawing EVENING GROSBEAK\n"
     ]
    },
    {
     "data": {
      "text/html": [
       "<div class=\"zoom\"><img style='width: 100px; height: 100px; margin: 1px; float: left; border: 0px solid black;'title=['EVENING GROSBEAK'] src='dataset_birds\\test\\EVENING GROSBEAK\\1.jpg'/></div><div class=\"zoom\"><img style='width: 100px; height: 100px; margin: 1px; float: left; border: 0px solid black;'title=['EVENING GROSBEAK'] src='dataset_birds\\test\\EVENING GROSBEAK\\2.jpg'/></div><div class=\"zoom\"><img style='width: 100px; height: 100px; margin: 1px; float: left; border: 0px solid black;'title=['EVENING GROSBEAK'] src='dataset_birds\\test\\EVENING GROSBEAK\\3.jpg'/></div><div class=\"zoom\"><img style='width: 100px; height: 100px; margin: 1px; float: left; border: 0px solid black;'title=['EVENING GROSBEAK'] src='dataset_birds\\test\\EVENING GROSBEAK\\4.jpg'/></div><div class=\"zoom\"><img style='width: 100px; height: 100px; margin: 1px; float: left; border: 0px solid black;'title=['EVENING GROSBEAK'] src='dataset_birds\\test\\EVENING GROSBEAK\\5.jpg'/></div>"
      ],
      "text/plain": [
       "<IPython.core.display.HTML object>"
      ]
     },
     "metadata": {},
     "output_type": "display_data"
    },
    {
     "name": "stdout",
     "output_type": "stream",
     "text": [
      "Drawing FAIRY BLUEBIRD\n"
     ]
    },
    {
     "data": {
      "text/html": [
       "<div class=\"zoom\"><img style='width: 100px; height: 100px; margin: 1px; float: left; border: 0px solid black;'title=['FAIRY BLUEBIRD'] src='dataset_birds\\test\\FAIRY BLUEBIRD\\1.jpg'/></div><div class=\"zoom\"><img style='width: 100px; height: 100px; margin: 1px; float: left; border: 0px solid black;'title=['FAIRY BLUEBIRD'] src='dataset_birds\\test\\FAIRY BLUEBIRD\\2.jpg'/></div><div class=\"zoom\"><img style='width: 100px; height: 100px; margin: 1px; float: left; border: 0px solid black;'title=['FAIRY BLUEBIRD'] src='dataset_birds\\test\\FAIRY BLUEBIRD\\3.jpg'/></div><div class=\"zoom\"><img style='width: 100px; height: 100px; margin: 1px; float: left; border: 0px solid black;'title=['FAIRY BLUEBIRD'] src='dataset_birds\\test\\FAIRY BLUEBIRD\\4.jpg'/></div><div class=\"zoom\"><img style='width: 100px; height: 100px; margin: 1px; float: left; border: 0px solid black;'title=['FAIRY BLUEBIRD'] src='dataset_birds\\test\\FAIRY BLUEBIRD\\5.jpg'/></div>"
      ],
      "text/plain": [
       "<IPython.core.display.HTML object>"
      ]
     },
     "metadata": {},
     "output_type": "display_data"
    },
    {
     "name": "stdout",
     "output_type": "stream",
     "text": [
      "Drawing FAIRY PENGUIN\n"
     ]
    },
    {
     "data": {
      "text/html": [
       "<div class=\"zoom\"><img style='width: 100px; height: 100px; margin: 1px; float: left; border: 0px solid black;'title=['FAIRY PENGUIN'] src='dataset_birds\\test\\FAIRY PENGUIN\\1.jpg'/></div><div class=\"zoom\"><img style='width: 100px; height: 100px; margin: 1px; float: left; border: 0px solid black;'title=['FAIRY PENGUIN'] src='dataset_birds\\test\\FAIRY PENGUIN\\2.jpg'/></div><div class=\"zoom\"><img style='width: 100px; height: 100px; margin: 1px; float: left; border: 0px solid black;'title=['FAIRY PENGUIN'] src='dataset_birds\\test\\FAIRY PENGUIN\\3.jpg'/></div><div class=\"zoom\"><img style='width: 100px; height: 100px; margin: 1px; float: left; border: 0px solid black;'title=['FAIRY PENGUIN'] src='dataset_birds\\test\\FAIRY PENGUIN\\4.jpg'/></div><div class=\"zoom\"><img style='width: 100px; height: 100px; margin: 1px; float: left; border: 0px solid black;'title=['FAIRY PENGUIN'] src='dataset_birds\\test\\FAIRY PENGUIN\\5.jpg'/></div>"
      ],
      "text/plain": [
       "<IPython.core.display.HTML object>"
      ]
     },
     "metadata": {},
     "output_type": "display_data"
    },
    {
     "name": "stdout",
     "output_type": "stream",
     "text": [
      "Drawing FAIRY TERN\n"
     ]
    },
    {
     "data": {
      "text/html": [
       "<div class=\"zoom\"><img style='width: 100px; height: 100px; margin: 1px; float: left; border: 0px solid black;'title=['FAIRY TERN'] src='dataset_birds\\test\\FAIRY TERN\\1.jpg'/></div><div class=\"zoom\"><img style='width: 100px; height: 100px; margin: 1px; float: left; border: 0px solid black;'title=['FAIRY TERN'] src='dataset_birds\\test\\FAIRY TERN\\2.jpg'/></div><div class=\"zoom\"><img style='width: 100px; height: 100px; margin: 1px; float: left; border: 0px solid black;'title=['FAIRY TERN'] src='dataset_birds\\test\\FAIRY TERN\\3.jpg'/></div><div class=\"zoom\"><img style='width: 100px; height: 100px; margin: 1px; float: left; border: 0px solid black;'title=['FAIRY TERN'] src='dataset_birds\\test\\FAIRY TERN\\4.jpg'/></div><div class=\"zoom\"><img style='width: 100px; height: 100px; margin: 1px; float: left; border: 0px solid black;'title=['FAIRY TERN'] src='dataset_birds\\test\\FAIRY TERN\\5.jpg'/></div>"
      ],
      "text/plain": [
       "<IPython.core.display.HTML object>"
      ]
     },
     "metadata": {},
     "output_type": "display_data"
    },
    {
     "name": "stdout",
     "output_type": "stream",
     "text": [
      "Drawing FAN TAILED WIDOW\n"
     ]
    },
    {
     "data": {
      "text/html": [
       "<div class=\"zoom\"><img style='width: 100px; height: 100px; margin: 1px; float: left; border: 0px solid black;'title=['FAN TAILED WIDOW'] src='dataset_birds\\test\\FAN TAILED WIDOW\\1.jpg'/></div><div class=\"zoom\"><img style='width: 100px; height: 100px; margin: 1px; float: left; border: 0px solid black;'title=['FAN TAILED WIDOW'] src='dataset_birds\\test\\FAN TAILED WIDOW\\2.jpg'/></div><div class=\"zoom\"><img style='width: 100px; height: 100px; margin: 1px; float: left; border: 0px solid black;'title=['FAN TAILED WIDOW'] src='dataset_birds\\test\\FAN TAILED WIDOW\\3.jpg'/></div><div class=\"zoom\"><img style='width: 100px; height: 100px; margin: 1px; float: left; border: 0px solid black;'title=['FAN TAILED WIDOW'] src='dataset_birds\\test\\FAN TAILED WIDOW\\4.jpg'/></div><div class=\"zoom\"><img style='width: 100px; height: 100px; margin: 1px; float: left; border: 0px solid black;'title=['FAN TAILED WIDOW'] src='dataset_birds\\test\\FAN TAILED WIDOW\\5.jpg'/></div>"
      ],
      "text/plain": [
       "<IPython.core.display.HTML object>"
      ]
     },
     "metadata": {},
     "output_type": "display_data"
    },
    {
     "name": "stdout",
     "output_type": "stream",
     "text": [
      "Drawing FASCIATED WREN\n"
     ]
    },
    {
     "data": {
      "text/html": [
       "<div class=\"zoom\"><img style='width: 100px; height: 100px; margin: 1px; float: left; border: 0px solid black;'title=['FASCIATED WREN'] src='dataset_birds\\test\\FASCIATED WREN\\1.jpg'/></div><div class=\"zoom\"><img style='width: 100px; height: 100px; margin: 1px; float: left; border: 0px solid black;'title=['FASCIATED WREN'] src='dataset_birds\\test\\FASCIATED WREN\\2.jpg'/></div><div class=\"zoom\"><img style='width: 100px; height: 100px; margin: 1px; float: left; border: 0px solid black;'title=['FASCIATED WREN'] src='dataset_birds\\test\\FASCIATED WREN\\3.jpg'/></div><div class=\"zoom\"><img style='width: 100px; height: 100px; margin: 1px; float: left; border: 0px solid black;'title=['FASCIATED WREN'] src='dataset_birds\\test\\FASCIATED WREN\\4.jpg'/></div><div class=\"zoom\"><img style='width: 100px; height: 100px; margin: 1px; float: left; border: 0px solid black;'title=['FASCIATED WREN'] src='dataset_birds\\test\\FASCIATED WREN\\5.jpg'/></div>"
      ],
      "text/plain": [
       "<IPython.core.display.HTML object>"
      ]
     },
     "metadata": {},
     "output_type": "display_data"
    },
    {
     "name": "stdout",
     "output_type": "stream",
     "text": [
      "Drawing FIERY MINIVET\n"
     ]
    },
    {
     "data": {
      "text/html": [
       "<div class=\"zoom\"><img style='width: 100px; height: 100px; margin: 1px; float: left; border: 0px solid black;'title=['FIERY MINIVET'] src='dataset_birds\\test\\FIERY MINIVET\\1.jpg'/></div><div class=\"zoom\"><img style='width: 100px; height: 100px; margin: 1px; float: left; border: 0px solid black;'title=['FIERY MINIVET'] src='dataset_birds\\test\\FIERY MINIVET\\2.jpg'/></div><div class=\"zoom\"><img style='width: 100px; height: 100px; margin: 1px; float: left; border: 0px solid black;'title=['FIERY MINIVET'] src='dataset_birds\\test\\FIERY MINIVET\\3.jpg'/></div><div class=\"zoom\"><img style='width: 100px; height: 100px; margin: 1px; float: left; border: 0px solid black;'title=['FIERY MINIVET'] src='dataset_birds\\test\\FIERY MINIVET\\4.jpg'/></div><div class=\"zoom\"><img style='width: 100px; height: 100px; margin: 1px; float: left; border: 0px solid black;'title=['FIERY MINIVET'] src='dataset_birds\\test\\FIERY MINIVET\\5.jpg'/></div>"
      ],
      "text/plain": [
       "<IPython.core.display.HTML object>"
      ]
     },
     "metadata": {},
     "output_type": "display_data"
    },
    {
     "name": "stdout",
     "output_type": "stream",
     "text": [
      "Drawing FIORDLAND PENGUIN\n"
     ]
    },
    {
     "data": {
      "text/html": [
       "<div class=\"zoom\"><img style='width: 100px; height: 100px; margin: 1px; float: left; border: 0px solid black;'title=['FIORDLAND PENGUIN'] src='dataset_birds\\test\\FIORDLAND PENGUIN\\1.jpg'/></div><div class=\"zoom\"><img style='width: 100px; height: 100px; margin: 1px; float: left; border: 0px solid black;'title=['FIORDLAND PENGUIN'] src='dataset_birds\\test\\FIORDLAND PENGUIN\\2.jpg'/></div><div class=\"zoom\"><img style='width: 100px; height: 100px; margin: 1px; float: left; border: 0px solid black;'title=['FIORDLAND PENGUIN'] src='dataset_birds\\test\\FIORDLAND PENGUIN\\3.jpg'/></div><div class=\"zoom\"><img style='width: 100px; height: 100px; margin: 1px; float: left; border: 0px solid black;'title=['FIORDLAND PENGUIN'] src='dataset_birds\\test\\FIORDLAND PENGUIN\\4.jpg'/></div><div class=\"zoom\"><img style='width: 100px; height: 100px; margin: 1px; float: left; border: 0px solid black;'title=['FIORDLAND PENGUIN'] src='dataset_birds\\test\\FIORDLAND PENGUIN\\5.jpg'/></div>"
      ],
      "text/plain": [
       "<IPython.core.display.HTML object>"
      ]
     },
     "metadata": {},
     "output_type": "display_data"
    },
    {
     "name": "stdout",
     "output_type": "stream",
     "text": [
      "Drawing FIRE TAILLED MYZORNIS\n"
     ]
    },
    {
     "data": {
      "text/html": [
       "<div class=\"zoom\"><img style='width: 100px; height: 100px; margin: 1px; float: left; border: 0px solid black;'title=['FIRE TAILLED MYZORNIS'] src='dataset_birds\\test\\FIRE TAILLED MYZORNIS\\1.jpg'/></div><div class=\"zoom\"><img style='width: 100px; height: 100px; margin: 1px; float: left; border: 0px solid black;'title=['FIRE TAILLED MYZORNIS'] src='dataset_birds\\test\\FIRE TAILLED MYZORNIS\\2.jpg'/></div><div class=\"zoom\"><img style='width: 100px; height: 100px; margin: 1px; float: left; border: 0px solid black;'title=['FIRE TAILLED MYZORNIS'] src='dataset_birds\\test\\FIRE TAILLED MYZORNIS\\3.jpg'/></div><div class=\"zoom\"><img style='width: 100px; height: 100px; margin: 1px; float: left; border: 0px solid black;'title=['FIRE TAILLED MYZORNIS'] src='dataset_birds\\test\\FIRE TAILLED MYZORNIS\\4.jpg'/></div><div class=\"zoom\"><img style='width: 100px; height: 100px; margin: 1px; float: left; border: 0px solid black;'title=['FIRE TAILLED MYZORNIS'] src='dataset_birds\\test\\FIRE TAILLED MYZORNIS\\5.jpg'/></div>"
      ],
      "text/plain": [
       "<IPython.core.display.HTML object>"
      ]
     },
     "metadata": {},
     "output_type": "display_data"
    },
    {
     "name": "stdout",
     "output_type": "stream",
     "text": [
      "Drawing FLAME BOWERBIRD\n"
     ]
    },
    {
     "data": {
      "text/html": [
       "<div class=\"zoom\"><img style='width: 100px; height: 100px; margin: 1px; float: left; border: 0px solid black;'title=['FLAME BOWERBIRD'] src='dataset_birds\\test\\FLAME BOWERBIRD\\1.jpg'/></div><div class=\"zoom\"><img style='width: 100px; height: 100px; margin: 1px; float: left; border: 0px solid black;'title=['FLAME BOWERBIRD'] src='dataset_birds\\test\\FLAME BOWERBIRD\\2.jpg'/></div><div class=\"zoom\"><img style='width: 100px; height: 100px; margin: 1px; float: left; border: 0px solid black;'title=['FLAME BOWERBIRD'] src='dataset_birds\\test\\FLAME BOWERBIRD\\3.jpg'/></div><div class=\"zoom\"><img style='width: 100px; height: 100px; margin: 1px; float: left; border: 0px solid black;'title=['FLAME BOWERBIRD'] src='dataset_birds\\test\\FLAME BOWERBIRD\\4.jpg'/></div><div class=\"zoom\"><img style='width: 100px; height: 100px; margin: 1px; float: left; border: 0px solid black;'title=['FLAME BOWERBIRD'] src='dataset_birds\\test\\FLAME BOWERBIRD\\5.jpg'/></div>"
      ],
      "text/plain": [
       "<IPython.core.display.HTML object>"
      ]
     },
     "metadata": {},
     "output_type": "display_data"
    },
    {
     "name": "stdout",
     "output_type": "stream",
     "text": [
      "Drawing FLAME TANAGER\n"
     ]
    },
    {
     "data": {
      "text/html": [
       "<div class=\"zoom\"><img style='width: 100px; height: 100px; margin: 1px; float: left; border: 0px solid black;'title=['FLAME TANAGER'] src='dataset_birds\\test\\FLAME TANAGER\\1.jpg'/></div><div class=\"zoom\"><img style='width: 100px; height: 100px; margin: 1px; float: left; border: 0px solid black;'title=['FLAME TANAGER'] src='dataset_birds\\test\\FLAME TANAGER\\2.jpg'/></div><div class=\"zoom\"><img style='width: 100px; height: 100px; margin: 1px; float: left; border: 0px solid black;'title=['FLAME TANAGER'] src='dataset_birds\\test\\FLAME TANAGER\\3.jpg'/></div><div class=\"zoom\"><img style='width: 100px; height: 100px; margin: 1px; float: left; border: 0px solid black;'title=['FLAME TANAGER'] src='dataset_birds\\test\\FLAME TANAGER\\4.jpg'/></div><div class=\"zoom\"><img style='width: 100px; height: 100px; margin: 1px; float: left; border: 0px solid black;'title=['FLAME TANAGER'] src='dataset_birds\\test\\FLAME TANAGER\\5.jpg'/></div>"
      ],
      "text/plain": [
       "<IPython.core.display.HTML object>"
      ]
     },
     "metadata": {},
     "output_type": "display_data"
    },
    {
     "name": "stdout",
     "output_type": "stream",
     "text": [
      "Drawing FOREST WAGTAIL\n"
     ]
    },
    {
     "data": {
      "text/html": [
       "<div class=\"zoom\"><img style='width: 100px; height: 100px; margin: 1px; float: left; border: 0px solid black;'title=['FOREST WAGTAIL'] src='dataset_birds\\test\\FOREST WAGTAIL\\1.jpg'/></div><div class=\"zoom\"><img style='width: 100px; height: 100px; margin: 1px; float: left; border: 0px solid black;'title=['FOREST WAGTAIL'] src='dataset_birds\\test\\FOREST WAGTAIL\\2.jpg'/></div><div class=\"zoom\"><img style='width: 100px; height: 100px; margin: 1px; float: left; border: 0px solid black;'title=['FOREST WAGTAIL'] src='dataset_birds\\test\\FOREST WAGTAIL\\3.jpg'/></div><div class=\"zoom\"><img style='width: 100px; height: 100px; margin: 1px; float: left; border: 0px solid black;'title=['FOREST WAGTAIL'] src='dataset_birds\\test\\FOREST WAGTAIL\\4.jpg'/></div><div class=\"zoom\"><img style='width: 100px; height: 100px; margin: 1px; float: left; border: 0px solid black;'title=['FOREST WAGTAIL'] src='dataset_birds\\test\\FOREST WAGTAIL\\5.jpg'/></div>"
      ],
      "text/plain": [
       "<IPython.core.display.HTML object>"
      ]
     },
     "metadata": {},
     "output_type": "display_data"
    },
    {
     "name": "stdout",
     "output_type": "stream",
     "text": [
      "Drawing FRIGATE\n"
     ]
    },
    {
     "data": {
      "text/html": [
       "<div class=\"zoom\"><img style='width: 100px; height: 100px; margin: 1px; float: left; border: 0px solid black;'title=['FRIGATE'] src='dataset_birds\\test\\FRIGATE\\1.jpg'/></div><div class=\"zoom\"><img style='width: 100px; height: 100px; margin: 1px; float: left; border: 0px solid black;'title=['FRIGATE'] src='dataset_birds\\test\\FRIGATE\\2.jpg'/></div><div class=\"zoom\"><img style='width: 100px; height: 100px; margin: 1px; float: left; border: 0px solid black;'title=['FRIGATE'] src='dataset_birds\\test\\FRIGATE\\3.jpg'/></div><div class=\"zoom\"><img style='width: 100px; height: 100px; margin: 1px; float: left; border: 0px solid black;'title=['FRIGATE'] src='dataset_birds\\test\\FRIGATE\\4.jpg'/></div><div class=\"zoom\"><img style='width: 100px; height: 100px; margin: 1px; float: left; border: 0px solid black;'title=['FRIGATE'] src='dataset_birds\\test\\FRIGATE\\5.jpg'/></div>"
      ],
      "text/plain": [
       "<IPython.core.display.HTML object>"
      ]
     },
     "metadata": {},
     "output_type": "display_data"
    },
    {
     "name": "stdout",
     "output_type": "stream",
     "text": [
      "Drawing FRILL BACK PIGEON\n"
     ]
    },
    {
     "data": {
      "text/html": [
       "<div class=\"zoom\"><img style='width: 100px; height: 100px; margin: 1px; float: left; border: 0px solid black;'title=['FRILL BACK PIGEON'] src='dataset_birds\\test\\FRILL BACK PIGEON\\1.jpg'/></div><div class=\"zoom\"><img style='width: 100px; height: 100px; margin: 1px; float: left; border: 0px solid black;'title=['FRILL BACK PIGEON'] src='dataset_birds\\test\\FRILL BACK PIGEON\\2.jpg'/></div><div class=\"zoom\"><img style='width: 100px; height: 100px; margin: 1px; float: left; border: 0px solid black;'title=['FRILL BACK PIGEON'] src='dataset_birds\\test\\FRILL BACK PIGEON\\3.jpg'/></div><div class=\"zoom\"><img style='width: 100px; height: 100px; margin: 1px; float: left; border: 0px solid black;'title=['FRILL BACK PIGEON'] src='dataset_birds\\test\\FRILL BACK PIGEON\\4.jpg'/></div><div class=\"zoom\"><img style='width: 100px; height: 100px; margin: 1px; float: left; border: 0px solid black;'title=['FRILL BACK PIGEON'] src='dataset_birds\\test\\FRILL BACK PIGEON\\5.jpg'/></div>"
      ],
      "text/plain": [
       "<IPython.core.display.HTML object>"
      ]
     },
     "metadata": {},
     "output_type": "display_data"
    },
    {
     "name": "stdout",
     "output_type": "stream",
     "text": [
      "Drawing GAMBELS QUAIL\n"
     ]
    },
    {
     "data": {
      "text/html": [
       "<div class=\"zoom\"><img style='width: 100px; height: 100px; margin: 1px; float: left; border: 0px solid black;'title=['GAMBELS QUAIL'] src='dataset_birds\\test\\GAMBELS QUAIL\\1.jpg'/></div><div class=\"zoom\"><img style='width: 100px; height: 100px; margin: 1px; float: left; border: 0px solid black;'title=['GAMBELS QUAIL'] src='dataset_birds\\test\\GAMBELS QUAIL\\2.jpg'/></div><div class=\"zoom\"><img style='width: 100px; height: 100px; margin: 1px; float: left; border: 0px solid black;'title=['GAMBELS QUAIL'] src='dataset_birds\\test\\GAMBELS QUAIL\\3.jpg'/></div><div class=\"zoom\"><img style='width: 100px; height: 100px; margin: 1px; float: left; border: 0px solid black;'title=['GAMBELS QUAIL'] src='dataset_birds\\test\\GAMBELS QUAIL\\4.jpg'/></div><div class=\"zoom\"><img style='width: 100px; height: 100px; margin: 1px; float: left; border: 0px solid black;'title=['GAMBELS QUAIL'] src='dataset_birds\\test\\GAMBELS QUAIL\\5.jpg'/></div>"
      ],
      "text/plain": [
       "<IPython.core.display.HTML object>"
      ]
     },
     "metadata": {},
     "output_type": "display_data"
    },
    {
     "name": "stdout",
     "output_type": "stream",
     "text": [
      "Drawing GANG GANG COCKATOO\n"
     ]
    },
    {
     "data": {
      "text/html": [
       "<div class=\"zoom\"><img style='width: 100px; height: 100px; margin: 1px; float: left; border: 0px solid black;'title=['GANG GANG COCKATOO'] src='dataset_birds\\test\\GANG GANG COCKATOO\\1.jpg'/></div><div class=\"zoom\"><img style='width: 100px; height: 100px; margin: 1px; float: left; border: 0px solid black;'title=['GANG GANG COCKATOO'] src='dataset_birds\\test\\GANG GANG COCKATOO\\2.jpg'/></div><div class=\"zoom\"><img style='width: 100px; height: 100px; margin: 1px; float: left; border: 0px solid black;'title=['GANG GANG COCKATOO'] src='dataset_birds\\test\\GANG GANG COCKATOO\\3.jpg'/></div><div class=\"zoom\"><img style='width: 100px; height: 100px; margin: 1px; float: left; border: 0px solid black;'title=['GANG GANG COCKATOO'] src='dataset_birds\\test\\GANG GANG COCKATOO\\4.jpg'/></div><div class=\"zoom\"><img style='width: 100px; height: 100px; margin: 1px; float: left; border: 0px solid black;'title=['GANG GANG COCKATOO'] src='dataset_birds\\test\\GANG GANG COCKATOO\\5.jpg'/></div>"
      ],
      "text/plain": [
       "<IPython.core.display.HTML object>"
      ]
     },
     "metadata": {},
     "output_type": "display_data"
    },
    {
     "name": "stdout",
     "output_type": "stream",
     "text": [
      "Drawing GILA WOODPECKER\n"
     ]
    },
    {
     "data": {
      "text/html": [
       "<div class=\"zoom\"><img style='width: 100px; height: 100px; margin: 1px; float: left; border: 0px solid black;'title=['GILA WOODPECKER'] src='dataset_birds\\test\\GILA WOODPECKER\\1.jpg'/></div><div class=\"zoom\"><img style='width: 100px; height: 100px; margin: 1px; float: left; border: 0px solid black;'title=['GILA WOODPECKER'] src='dataset_birds\\test\\GILA WOODPECKER\\2.jpg'/></div><div class=\"zoom\"><img style='width: 100px; height: 100px; margin: 1px; float: left; border: 0px solid black;'title=['GILA WOODPECKER'] src='dataset_birds\\test\\GILA WOODPECKER\\3.jpg'/></div><div class=\"zoom\"><img style='width: 100px; height: 100px; margin: 1px; float: left; border: 0px solid black;'title=['GILA WOODPECKER'] src='dataset_birds\\test\\GILA WOODPECKER\\4.jpg'/></div><div class=\"zoom\"><img style='width: 100px; height: 100px; margin: 1px; float: left; border: 0px solid black;'title=['GILA WOODPECKER'] src='dataset_birds\\test\\GILA WOODPECKER\\5.jpg'/></div>"
      ],
      "text/plain": [
       "<IPython.core.display.HTML object>"
      ]
     },
     "metadata": {},
     "output_type": "display_data"
    },
    {
     "name": "stdout",
     "output_type": "stream",
     "text": [
      "Drawing GILDED FLICKER\n"
     ]
    },
    {
     "data": {
      "text/html": [
       "<div class=\"zoom\"><img style='width: 100px; height: 100px; margin: 1px; float: left; border: 0px solid black;'title=['GILDED FLICKER'] src='dataset_birds\\test\\GILDED FLICKER\\1.jpg'/></div><div class=\"zoom\"><img style='width: 100px; height: 100px; margin: 1px; float: left; border: 0px solid black;'title=['GILDED FLICKER'] src='dataset_birds\\test\\GILDED FLICKER\\2.jpg'/></div><div class=\"zoom\"><img style='width: 100px; height: 100px; margin: 1px; float: left; border: 0px solid black;'title=['GILDED FLICKER'] src='dataset_birds\\test\\GILDED FLICKER\\3.jpg'/></div><div class=\"zoom\"><img style='width: 100px; height: 100px; margin: 1px; float: left; border: 0px solid black;'title=['GILDED FLICKER'] src='dataset_birds\\test\\GILDED FLICKER\\4.jpg'/></div><div class=\"zoom\"><img style='width: 100px; height: 100px; margin: 1px; float: left; border: 0px solid black;'title=['GILDED FLICKER'] src='dataset_birds\\test\\GILDED FLICKER\\5.jpg'/></div>"
      ],
      "text/plain": [
       "<IPython.core.display.HTML object>"
      ]
     },
     "metadata": {},
     "output_type": "display_data"
    },
    {
     "name": "stdout",
     "output_type": "stream",
     "text": [
      "Drawing GLOSSY IBIS\n"
     ]
    },
    {
     "data": {
      "text/html": [
       "<div class=\"zoom\"><img style='width: 100px; height: 100px; margin: 1px; float: left; border: 0px solid black;'title=['GLOSSY IBIS'] src='dataset_birds\\test\\GLOSSY IBIS\\1.jpg'/></div><div class=\"zoom\"><img style='width: 100px; height: 100px; margin: 1px; float: left; border: 0px solid black;'title=['GLOSSY IBIS'] src='dataset_birds\\test\\GLOSSY IBIS\\2.jpg'/></div><div class=\"zoom\"><img style='width: 100px; height: 100px; margin: 1px; float: left; border: 0px solid black;'title=['GLOSSY IBIS'] src='dataset_birds\\test\\GLOSSY IBIS\\3.jpg'/></div><div class=\"zoom\"><img style='width: 100px; height: 100px; margin: 1px; float: left; border: 0px solid black;'title=['GLOSSY IBIS'] src='dataset_birds\\test\\GLOSSY IBIS\\4.jpg'/></div><div class=\"zoom\"><img style='width: 100px; height: 100px; margin: 1px; float: left; border: 0px solid black;'title=['GLOSSY IBIS'] src='dataset_birds\\test\\GLOSSY IBIS\\5.jpg'/></div>"
      ],
      "text/plain": [
       "<IPython.core.display.HTML object>"
      ]
     },
     "metadata": {},
     "output_type": "display_data"
    },
    {
     "name": "stdout",
     "output_type": "stream",
     "text": [
      "Drawing GO AWAY BIRD\n"
     ]
    },
    {
     "data": {
      "text/html": [
       "<div class=\"zoom\"><img style='width: 100px; height: 100px; margin: 1px; float: left; border: 0px solid black;'title=['GO AWAY BIRD'] src='dataset_birds\\test\\GO AWAY BIRD\\1.jpg'/></div><div class=\"zoom\"><img style='width: 100px; height: 100px; margin: 1px; float: left; border: 0px solid black;'title=['GO AWAY BIRD'] src='dataset_birds\\test\\GO AWAY BIRD\\2.jpg'/></div><div class=\"zoom\"><img style='width: 100px; height: 100px; margin: 1px; float: left; border: 0px solid black;'title=['GO AWAY BIRD'] src='dataset_birds\\test\\GO AWAY BIRD\\3.jpg'/></div><div class=\"zoom\"><img style='width: 100px; height: 100px; margin: 1px; float: left; border: 0px solid black;'title=['GO AWAY BIRD'] src='dataset_birds\\test\\GO AWAY BIRD\\4.jpg'/></div><div class=\"zoom\"><img style='width: 100px; height: 100px; margin: 1px; float: left; border: 0px solid black;'title=['GO AWAY BIRD'] src='dataset_birds\\test\\GO AWAY BIRD\\5.jpg'/></div>"
      ],
      "text/plain": [
       "<IPython.core.display.HTML object>"
      ]
     },
     "metadata": {},
     "output_type": "display_data"
    },
    {
     "name": "stdout",
     "output_type": "stream",
     "text": [
      "Drawing GOLD WING WARBLER\n"
     ]
    },
    {
     "data": {
      "text/html": [
       "<div class=\"zoom\"><img style='width: 100px; height: 100px; margin: 1px; float: left; border: 0px solid black;'title=['GOLD WING WARBLER'] src='dataset_birds\\test\\GOLD WING WARBLER\\1.jpg'/></div><div class=\"zoom\"><img style='width: 100px; height: 100px; margin: 1px; float: left; border: 0px solid black;'title=['GOLD WING WARBLER'] src='dataset_birds\\test\\GOLD WING WARBLER\\2.jpg'/></div><div class=\"zoom\"><img style='width: 100px; height: 100px; margin: 1px; float: left; border: 0px solid black;'title=['GOLD WING WARBLER'] src='dataset_birds\\test\\GOLD WING WARBLER\\3.jpg'/></div><div class=\"zoom\"><img style='width: 100px; height: 100px; margin: 1px; float: left; border: 0px solid black;'title=['GOLD WING WARBLER'] src='dataset_birds\\test\\GOLD WING WARBLER\\4.jpg'/></div><div class=\"zoom\"><img style='width: 100px; height: 100px; margin: 1px; float: left; border: 0px solid black;'title=['GOLD WING WARBLER'] src='dataset_birds\\test\\GOLD WING WARBLER\\5.jpg'/></div>"
      ],
      "text/plain": [
       "<IPython.core.display.HTML object>"
      ]
     },
     "metadata": {},
     "output_type": "display_data"
    },
    {
     "name": "stdout",
     "output_type": "stream",
     "text": [
      "Drawing GOLDEN BOWER BIRD\n"
     ]
    },
    {
     "data": {
      "text/html": [
       "<div class=\"zoom\"><img style='width: 100px; height: 100px; margin: 1px; float: left; border: 0px solid black;'title=['GOLDEN BOWER BIRD'] src='dataset_birds\\test\\GOLDEN BOWER BIRD\\1.jpg'/></div><div class=\"zoom\"><img style='width: 100px; height: 100px; margin: 1px; float: left; border: 0px solid black;'title=['GOLDEN BOWER BIRD'] src='dataset_birds\\test\\GOLDEN BOWER BIRD\\2.jpg'/></div><div class=\"zoom\"><img style='width: 100px; height: 100px; margin: 1px; float: left; border: 0px solid black;'title=['GOLDEN BOWER BIRD'] src='dataset_birds\\test\\GOLDEN BOWER BIRD\\3.jpg'/></div><div class=\"zoom\"><img style='width: 100px; height: 100px; margin: 1px; float: left; border: 0px solid black;'title=['GOLDEN BOWER BIRD'] src='dataset_birds\\test\\GOLDEN BOWER BIRD\\4.jpg'/></div><div class=\"zoom\"><img style='width: 100px; height: 100px; margin: 1px; float: left; border: 0px solid black;'title=['GOLDEN BOWER BIRD'] src='dataset_birds\\test\\GOLDEN BOWER BIRD\\5.jpg'/></div>"
      ],
      "text/plain": [
       "<IPython.core.display.HTML object>"
      ]
     },
     "metadata": {},
     "output_type": "display_data"
    },
    {
     "name": "stdout",
     "output_type": "stream",
     "text": [
      "Drawing GOLDEN CHEEKED WARBLER\n"
     ]
    },
    {
     "data": {
      "text/html": [
       "<div class=\"zoom\"><img style='width: 100px; height: 100px; margin: 1px; float: left; border: 0px solid black;'title=['GOLDEN CHEEKED WARBLER'] src='dataset_birds\\test\\GOLDEN CHEEKED WARBLER\\1.jpg'/></div><div class=\"zoom\"><img style='width: 100px; height: 100px; margin: 1px; float: left; border: 0px solid black;'title=['GOLDEN CHEEKED WARBLER'] src='dataset_birds\\test\\GOLDEN CHEEKED WARBLER\\2.jpg'/></div><div class=\"zoom\"><img style='width: 100px; height: 100px; margin: 1px; float: left; border: 0px solid black;'title=['GOLDEN CHEEKED WARBLER'] src='dataset_birds\\test\\GOLDEN CHEEKED WARBLER\\3.jpg'/></div><div class=\"zoom\"><img style='width: 100px; height: 100px; margin: 1px; float: left; border: 0px solid black;'title=['GOLDEN CHEEKED WARBLER'] src='dataset_birds\\test\\GOLDEN CHEEKED WARBLER\\4.jpg'/></div><div class=\"zoom\"><img style='width: 100px; height: 100px; margin: 1px; float: left; border: 0px solid black;'title=['GOLDEN CHEEKED WARBLER'] src='dataset_birds\\test\\GOLDEN CHEEKED WARBLER\\5.jpg'/></div>"
      ],
      "text/plain": [
       "<IPython.core.display.HTML object>"
      ]
     },
     "metadata": {},
     "output_type": "display_data"
    },
    {
     "name": "stdout",
     "output_type": "stream",
     "text": [
      "Drawing GOLDEN CHLOROPHONIA\n"
     ]
    },
    {
     "data": {
      "text/html": [
       "<div class=\"zoom\"><img style='width: 100px; height: 100px; margin: 1px; float: left; border: 0px solid black;'title=['GOLDEN CHLOROPHONIA'] src='dataset_birds\\test\\GOLDEN CHLOROPHONIA\\1.jpg'/></div><div class=\"zoom\"><img style='width: 100px; height: 100px; margin: 1px; float: left; border: 0px solid black;'title=['GOLDEN CHLOROPHONIA'] src='dataset_birds\\test\\GOLDEN CHLOROPHONIA\\2.jpg'/></div><div class=\"zoom\"><img style='width: 100px; height: 100px; margin: 1px; float: left; border: 0px solid black;'title=['GOLDEN CHLOROPHONIA'] src='dataset_birds\\test\\GOLDEN CHLOROPHONIA\\3.jpg'/></div><div class=\"zoom\"><img style='width: 100px; height: 100px; margin: 1px; float: left; border: 0px solid black;'title=['GOLDEN CHLOROPHONIA'] src='dataset_birds\\test\\GOLDEN CHLOROPHONIA\\4.jpg'/></div><div class=\"zoom\"><img style='width: 100px; height: 100px; margin: 1px; float: left; border: 0px solid black;'title=['GOLDEN CHLOROPHONIA'] src='dataset_birds\\test\\GOLDEN CHLOROPHONIA\\5.jpg'/></div>"
      ],
      "text/plain": [
       "<IPython.core.display.HTML object>"
      ]
     },
     "metadata": {},
     "output_type": "display_data"
    },
    {
     "name": "stdout",
     "output_type": "stream",
     "text": [
      "Drawing GOLDEN EAGLE\n"
     ]
    },
    {
     "data": {
      "text/html": [
       "<div class=\"zoom\"><img style='width: 100px; height: 100px; margin: 1px; float: left; border: 0px solid black;'title=['GOLDEN EAGLE'] src='dataset_birds\\test\\GOLDEN EAGLE\\1.jpg'/></div><div class=\"zoom\"><img style='width: 100px; height: 100px; margin: 1px; float: left; border: 0px solid black;'title=['GOLDEN EAGLE'] src='dataset_birds\\test\\GOLDEN EAGLE\\2.jpg'/></div><div class=\"zoom\"><img style='width: 100px; height: 100px; margin: 1px; float: left; border: 0px solid black;'title=['GOLDEN EAGLE'] src='dataset_birds\\test\\GOLDEN EAGLE\\3.jpg'/></div><div class=\"zoom\"><img style='width: 100px; height: 100px; margin: 1px; float: left; border: 0px solid black;'title=['GOLDEN EAGLE'] src='dataset_birds\\test\\GOLDEN EAGLE\\4.jpg'/></div><div class=\"zoom\"><img style='width: 100px; height: 100px; margin: 1px; float: left; border: 0px solid black;'title=['GOLDEN EAGLE'] src='dataset_birds\\test\\GOLDEN EAGLE\\5.jpg'/></div>"
      ],
      "text/plain": [
       "<IPython.core.display.HTML object>"
      ]
     },
     "metadata": {},
     "output_type": "display_data"
    },
    {
     "name": "stdout",
     "output_type": "stream",
     "text": [
      "Drawing GOLDEN PARAKEET\n"
     ]
    },
    {
     "data": {
      "text/html": [
       "<div class=\"zoom\"><img style='width: 100px; height: 100px; margin: 1px; float: left; border: 0px solid black;'title=['GOLDEN PARAKEET'] src='dataset_birds\\test\\GOLDEN PARAKEET\\1.jpg'/></div><div class=\"zoom\"><img style='width: 100px; height: 100px; margin: 1px; float: left; border: 0px solid black;'title=['GOLDEN PARAKEET'] src='dataset_birds\\test\\GOLDEN PARAKEET\\2.jpg'/></div><div class=\"zoom\"><img style='width: 100px; height: 100px; margin: 1px; float: left; border: 0px solid black;'title=['GOLDEN PARAKEET'] src='dataset_birds\\test\\GOLDEN PARAKEET\\3.jpg'/></div><div class=\"zoom\"><img style='width: 100px; height: 100px; margin: 1px; float: left; border: 0px solid black;'title=['GOLDEN PARAKEET'] src='dataset_birds\\test\\GOLDEN PARAKEET\\4.jpg'/></div><div class=\"zoom\"><img style='width: 100px; height: 100px; margin: 1px; float: left; border: 0px solid black;'title=['GOLDEN PARAKEET'] src='dataset_birds\\test\\GOLDEN PARAKEET\\5.jpg'/></div>"
      ],
      "text/plain": [
       "<IPython.core.display.HTML object>"
      ]
     },
     "metadata": {},
     "output_type": "display_data"
    },
    {
     "name": "stdout",
     "output_type": "stream",
     "text": [
      "Drawing GOLDEN PHEASANT\n"
     ]
    },
    {
     "data": {
      "text/html": [
       "<div class=\"zoom\"><img style='width: 100px; height: 100px; margin: 1px; float: left; border: 0px solid black;'title=['GOLDEN PHEASANT'] src='dataset_birds\\test\\GOLDEN PHEASANT\\1.jpg'/></div><div class=\"zoom\"><img style='width: 100px; height: 100px; margin: 1px; float: left; border: 0px solid black;'title=['GOLDEN PHEASANT'] src='dataset_birds\\test\\GOLDEN PHEASANT\\2.jpg'/></div><div class=\"zoom\"><img style='width: 100px; height: 100px; margin: 1px; float: left; border: 0px solid black;'title=['GOLDEN PHEASANT'] src='dataset_birds\\test\\GOLDEN PHEASANT\\3.jpg'/></div><div class=\"zoom\"><img style='width: 100px; height: 100px; margin: 1px; float: left; border: 0px solid black;'title=['GOLDEN PHEASANT'] src='dataset_birds\\test\\GOLDEN PHEASANT\\4.jpg'/></div><div class=\"zoom\"><img style='width: 100px; height: 100px; margin: 1px; float: left; border: 0px solid black;'title=['GOLDEN PHEASANT'] src='dataset_birds\\test\\GOLDEN PHEASANT\\5.jpg'/></div>"
      ],
      "text/plain": [
       "<IPython.core.display.HTML object>"
      ]
     },
     "metadata": {},
     "output_type": "display_data"
    },
    {
     "name": "stdout",
     "output_type": "stream",
     "text": [
      "Drawing GOLDEN PIPIT\n"
     ]
    },
    {
     "data": {
      "text/html": [
       "<div class=\"zoom\"><img style='width: 100px; height: 100px; margin: 1px; float: left; border: 0px solid black;'title=['GOLDEN PIPIT'] src='dataset_birds\\test\\GOLDEN PIPIT\\1.jpg'/></div><div class=\"zoom\"><img style='width: 100px; height: 100px; margin: 1px; float: left; border: 0px solid black;'title=['GOLDEN PIPIT'] src='dataset_birds\\test\\GOLDEN PIPIT\\2.jpg'/></div><div class=\"zoom\"><img style='width: 100px; height: 100px; margin: 1px; float: left; border: 0px solid black;'title=['GOLDEN PIPIT'] src='dataset_birds\\test\\GOLDEN PIPIT\\3.jpg'/></div><div class=\"zoom\"><img style='width: 100px; height: 100px; margin: 1px; float: left; border: 0px solid black;'title=['GOLDEN PIPIT'] src='dataset_birds\\test\\GOLDEN PIPIT\\4.jpg'/></div><div class=\"zoom\"><img style='width: 100px; height: 100px; margin: 1px; float: left; border: 0px solid black;'title=['GOLDEN PIPIT'] src='dataset_birds\\test\\GOLDEN PIPIT\\5.jpg'/></div>"
      ],
      "text/plain": [
       "<IPython.core.display.HTML object>"
      ]
     },
     "metadata": {},
     "output_type": "display_data"
    },
    {
     "name": "stdout",
     "output_type": "stream",
     "text": [
      "Drawing GOULDIAN FINCH\n"
     ]
    },
    {
     "data": {
      "text/html": [
       "<div class=\"zoom\"><img style='width: 100px; height: 100px; margin: 1px; float: left; border: 0px solid black;'title=['GOULDIAN FINCH'] src='dataset_birds\\test\\GOULDIAN FINCH\\1.jpg'/></div><div class=\"zoom\"><img style='width: 100px; height: 100px; margin: 1px; float: left; border: 0px solid black;'title=['GOULDIAN FINCH'] src='dataset_birds\\test\\GOULDIAN FINCH\\2.jpg'/></div><div class=\"zoom\"><img style='width: 100px; height: 100px; margin: 1px; float: left; border: 0px solid black;'title=['GOULDIAN FINCH'] src='dataset_birds\\test\\GOULDIAN FINCH\\3.jpg'/></div><div class=\"zoom\"><img style='width: 100px; height: 100px; margin: 1px; float: left; border: 0px solid black;'title=['GOULDIAN FINCH'] src='dataset_birds\\test\\GOULDIAN FINCH\\4.jpg'/></div><div class=\"zoom\"><img style='width: 100px; height: 100px; margin: 1px; float: left; border: 0px solid black;'title=['GOULDIAN FINCH'] src='dataset_birds\\test\\GOULDIAN FINCH\\5.jpg'/></div>"
      ],
      "text/plain": [
       "<IPython.core.display.HTML object>"
      ]
     },
     "metadata": {},
     "output_type": "display_data"
    },
    {
     "name": "stdout",
     "output_type": "stream",
     "text": [
      "Drawing GRANDALA\n"
     ]
    },
    {
     "data": {
      "text/html": [
       "<div class=\"zoom\"><img style='width: 100px; height: 100px; margin: 1px; float: left; border: 0px solid black;'title=['GRANDALA'] src='dataset_birds\\test\\GRANDALA\\1.jpg'/></div><div class=\"zoom\"><img style='width: 100px; height: 100px; margin: 1px; float: left; border: 0px solid black;'title=['GRANDALA'] src='dataset_birds\\test\\GRANDALA\\2.jpg'/></div><div class=\"zoom\"><img style='width: 100px; height: 100px; margin: 1px; float: left; border: 0px solid black;'title=['GRANDALA'] src='dataset_birds\\test\\GRANDALA\\3.jpg'/></div><div class=\"zoom\"><img style='width: 100px; height: 100px; margin: 1px; float: left; border: 0px solid black;'title=['GRANDALA'] src='dataset_birds\\test\\GRANDALA\\4.jpg'/></div><div class=\"zoom\"><img style='width: 100px; height: 100px; margin: 1px; float: left; border: 0px solid black;'title=['GRANDALA'] src='dataset_birds\\test\\GRANDALA\\5.jpg'/></div>"
      ],
      "text/plain": [
       "<IPython.core.display.HTML object>"
      ]
     },
     "metadata": {},
     "output_type": "display_data"
    },
    {
     "name": "stdout",
     "output_type": "stream",
     "text": [
      "Drawing GRAY CATBIRD\n"
     ]
    },
    {
     "data": {
      "text/html": [
       "<div class=\"zoom\"><img style='width: 100px; height: 100px; margin: 1px; float: left; border: 0px solid black;'title=['GRAY CATBIRD'] src='dataset_birds\\test\\GRAY CATBIRD\\1.jpg'/></div><div class=\"zoom\"><img style='width: 100px; height: 100px; margin: 1px; float: left; border: 0px solid black;'title=['GRAY CATBIRD'] src='dataset_birds\\test\\GRAY CATBIRD\\2.jpg'/></div><div class=\"zoom\"><img style='width: 100px; height: 100px; margin: 1px; float: left; border: 0px solid black;'title=['GRAY CATBIRD'] src='dataset_birds\\test\\GRAY CATBIRD\\3.jpg'/></div><div class=\"zoom\"><img style='width: 100px; height: 100px; margin: 1px; float: left; border: 0px solid black;'title=['GRAY CATBIRD'] src='dataset_birds\\test\\GRAY CATBIRD\\4.jpg'/></div><div class=\"zoom\"><img style='width: 100px; height: 100px; margin: 1px; float: left; border: 0px solid black;'title=['GRAY CATBIRD'] src='dataset_birds\\test\\GRAY CATBIRD\\5.jpg'/></div>"
      ],
      "text/plain": [
       "<IPython.core.display.HTML object>"
      ]
     },
     "metadata": {},
     "output_type": "display_data"
    },
    {
     "name": "stdout",
     "output_type": "stream",
     "text": [
      "Drawing GRAY KINGBIRD\n"
     ]
    },
    {
     "data": {
      "text/html": [
       "<div class=\"zoom\"><img style='width: 100px; height: 100px; margin: 1px; float: left; border: 0px solid black;'title=['GRAY KINGBIRD'] src='dataset_birds\\test\\GRAY KINGBIRD\\1.jpg'/></div><div class=\"zoom\"><img style='width: 100px; height: 100px; margin: 1px; float: left; border: 0px solid black;'title=['GRAY KINGBIRD'] src='dataset_birds\\test\\GRAY KINGBIRD\\2.jpg'/></div><div class=\"zoom\"><img style='width: 100px; height: 100px; margin: 1px; float: left; border: 0px solid black;'title=['GRAY KINGBIRD'] src='dataset_birds\\test\\GRAY KINGBIRD\\3.jpg'/></div><div class=\"zoom\"><img style='width: 100px; height: 100px; margin: 1px; float: left; border: 0px solid black;'title=['GRAY KINGBIRD'] src='dataset_birds\\test\\GRAY KINGBIRD\\4.jpg'/></div><div class=\"zoom\"><img style='width: 100px; height: 100px; margin: 1px; float: left; border: 0px solid black;'title=['GRAY KINGBIRD'] src='dataset_birds\\test\\GRAY KINGBIRD\\5.jpg'/></div>"
      ],
      "text/plain": [
       "<IPython.core.display.HTML object>"
      ]
     },
     "metadata": {},
     "output_type": "display_data"
    },
    {
     "name": "stdout",
     "output_type": "stream",
     "text": [
      "Drawing GRAY PARTRIDGE\n"
     ]
    },
    {
     "data": {
      "text/html": [
       "<div class=\"zoom\"><img style='width: 100px; height: 100px; margin: 1px; float: left; border: 0px solid black;'title=['GRAY PARTRIDGE'] src='dataset_birds\\test\\GRAY PARTRIDGE\\1.jpg'/></div><div class=\"zoom\"><img style='width: 100px; height: 100px; margin: 1px; float: left; border: 0px solid black;'title=['GRAY PARTRIDGE'] src='dataset_birds\\test\\GRAY PARTRIDGE\\2.jpg'/></div><div class=\"zoom\"><img style='width: 100px; height: 100px; margin: 1px; float: left; border: 0px solid black;'title=['GRAY PARTRIDGE'] src='dataset_birds\\test\\GRAY PARTRIDGE\\3.jpg'/></div><div class=\"zoom\"><img style='width: 100px; height: 100px; margin: 1px; float: left; border: 0px solid black;'title=['GRAY PARTRIDGE'] src='dataset_birds\\test\\GRAY PARTRIDGE\\4.jpg'/></div><div class=\"zoom\"><img style='width: 100px; height: 100px; margin: 1px; float: left; border: 0px solid black;'title=['GRAY PARTRIDGE'] src='dataset_birds\\test\\GRAY PARTRIDGE\\5.jpg'/></div>"
      ],
      "text/plain": [
       "<IPython.core.display.HTML object>"
      ]
     },
     "metadata": {},
     "output_type": "display_data"
    },
    {
     "name": "stdout",
     "output_type": "stream",
     "text": [
      "Drawing GREAT ARGUS\n"
     ]
    },
    {
     "data": {
      "text/html": [
       "<div class=\"zoom\"><img style='width: 100px; height: 100px; margin: 1px; float: left; border: 0px solid black;'title=['GREAT ARGUS'] src='dataset_birds\\test\\GREAT ARGUS\\1.jpg'/></div><div class=\"zoom\"><img style='width: 100px; height: 100px; margin: 1px; float: left; border: 0px solid black;'title=['GREAT ARGUS'] src='dataset_birds\\test\\GREAT ARGUS\\2.jpg'/></div><div class=\"zoom\"><img style='width: 100px; height: 100px; margin: 1px; float: left; border: 0px solid black;'title=['GREAT ARGUS'] src='dataset_birds\\test\\GREAT ARGUS\\3.jpg'/></div><div class=\"zoom\"><img style='width: 100px; height: 100px; margin: 1px; float: left; border: 0px solid black;'title=['GREAT ARGUS'] src='dataset_birds\\test\\GREAT ARGUS\\4.jpg'/></div><div class=\"zoom\"><img style='width: 100px; height: 100px; margin: 1px; float: left; border: 0px solid black;'title=['GREAT ARGUS'] src='dataset_birds\\test\\GREAT ARGUS\\5.jpg'/></div>"
      ],
      "text/plain": [
       "<IPython.core.display.HTML object>"
      ]
     },
     "metadata": {},
     "output_type": "display_data"
    },
    {
     "name": "stdout",
     "output_type": "stream",
     "text": [
      "Drawing GREAT GRAY OWL\n"
     ]
    },
    {
     "data": {
      "text/html": [
       "<div class=\"zoom\"><img style='width: 100px; height: 100px; margin: 1px; float: left; border: 0px solid black;'title=['GREAT GRAY OWL'] src='dataset_birds\\test\\GREAT GRAY OWL\\1.jpg'/></div><div class=\"zoom\"><img style='width: 100px; height: 100px; margin: 1px; float: left; border: 0px solid black;'title=['GREAT GRAY OWL'] src='dataset_birds\\test\\GREAT GRAY OWL\\2.jpg'/></div><div class=\"zoom\"><img style='width: 100px; height: 100px; margin: 1px; float: left; border: 0px solid black;'title=['GREAT GRAY OWL'] src='dataset_birds\\test\\GREAT GRAY OWL\\3.jpg'/></div><div class=\"zoom\"><img style='width: 100px; height: 100px; margin: 1px; float: left; border: 0px solid black;'title=['GREAT GRAY OWL'] src='dataset_birds\\test\\GREAT GRAY OWL\\4.jpg'/></div><div class=\"zoom\"><img style='width: 100px; height: 100px; margin: 1px; float: left; border: 0px solid black;'title=['GREAT GRAY OWL'] src='dataset_birds\\test\\GREAT GRAY OWL\\5.jpg'/></div>"
      ],
      "text/plain": [
       "<IPython.core.display.HTML object>"
      ]
     },
     "metadata": {},
     "output_type": "display_data"
    },
    {
     "name": "stdout",
     "output_type": "stream",
     "text": [
      "Drawing GREAT JACAMAR\n"
     ]
    },
    {
     "data": {
      "text/html": [
       "<div class=\"zoom\"><img style='width: 100px; height: 100px; margin: 1px; float: left; border: 0px solid black;'title=['GREAT JACAMAR'] src='dataset_birds\\test\\GREAT JACAMAR\\1.jpg'/></div><div class=\"zoom\"><img style='width: 100px; height: 100px; margin: 1px; float: left; border: 0px solid black;'title=['GREAT JACAMAR'] src='dataset_birds\\test\\GREAT JACAMAR\\2.jpg'/></div><div class=\"zoom\"><img style='width: 100px; height: 100px; margin: 1px; float: left; border: 0px solid black;'title=['GREAT JACAMAR'] src='dataset_birds\\test\\GREAT JACAMAR\\3.jpg'/></div><div class=\"zoom\"><img style='width: 100px; height: 100px; margin: 1px; float: left; border: 0px solid black;'title=['GREAT JACAMAR'] src='dataset_birds\\test\\GREAT JACAMAR\\4.jpg'/></div><div class=\"zoom\"><img style='width: 100px; height: 100px; margin: 1px; float: left; border: 0px solid black;'title=['GREAT JACAMAR'] src='dataset_birds\\test\\GREAT JACAMAR\\5.jpg'/></div>"
      ],
      "text/plain": [
       "<IPython.core.display.HTML object>"
      ]
     },
     "metadata": {},
     "output_type": "display_data"
    },
    {
     "name": "stdout",
     "output_type": "stream",
     "text": [
      "Drawing GREAT KISKADEE\n"
     ]
    },
    {
     "data": {
      "text/html": [
       "<div class=\"zoom\"><img style='width: 100px; height: 100px; margin: 1px; float: left; border: 0px solid black;'title=['GREAT KISKADEE'] src='dataset_birds\\test\\GREAT KISKADEE\\1.jpg'/></div><div class=\"zoom\"><img style='width: 100px; height: 100px; margin: 1px; float: left; border: 0px solid black;'title=['GREAT KISKADEE'] src='dataset_birds\\test\\GREAT KISKADEE\\2.jpg'/></div><div class=\"zoom\"><img style='width: 100px; height: 100px; margin: 1px; float: left; border: 0px solid black;'title=['GREAT KISKADEE'] src='dataset_birds\\test\\GREAT KISKADEE\\3.jpg'/></div><div class=\"zoom\"><img style='width: 100px; height: 100px; margin: 1px; float: left; border: 0px solid black;'title=['GREAT KISKADEE'] src='dataset_birds\\test\\GREAT KISKADEE\\4.jpg'/></div><div class=\"zoom\"><img style='width: 100px; height: 100px; margin: 1px; float: left; border: 0px solid black;'title=['GREAT KISKADEE'] src='dataset_birds\\test\\GREAT KISKADEE\\5.jpg'/></div>"
      ],
      "text/plain": [
       "<IPython.core.display.HTML object>"
      ]
     },
     "metadata": {},
     "output_type": "display_data"
    },
    {
     "name": "stdout",
     "output_type": "stream",
     "text": [
      "Drawing GREAT POTOO\n"
     ]
    },
    {
     "data": {
      "text/html": [
       "<div class=\"zoom\"><img style='width: 100px; height: 100px; margin: 1px; float: left; border: 0px solid black;'title=['GREAT POTOO'] src='dataset_birds\\test\\GREAT POTOO\\1.jpg'/></div><div class=\"zoom\"><img style='width: 100px; height: 100px; margin: 1px; float: left; border: 0px solid black;'title=['GREAT POTOO'] src='dataset_birds\\test\\GREAT POTOO\\2.jpg'/></div><div class=\"zoom\"><img style='width: 100px; height: 100px; margin: 1px; float: left; border: 0px solid black;'title=['GREAT POTOO'] src='dataset_birds\\test\\GREAT POTOO\\3.jpg'/></div><div class=\"zoom\"><img style='width: 100px; height: 100px; margin: 1px; float: left; border: 0px solid black;'title=['GREAT POTOO'] src='dataset_birds\\test\\GREAT POTOO\\4.jpg'/></div><div class=\"zoom\"><img style='width: 100px; height: 100px; margin: 1px; float: left; border: 0px solid black;'title=['GREAT POTOO'] src='dataset_birds\\test\\GREAT POTOO\\5.jpg'/></div>"
      ],
      "text/plain": [
       "<IPython.core.display.HTML object>"
      ]
     },
     "metadata": {},
     "output_type": "display_data"
    },
    {
     "name": "stdout",
     "output_type": "stream",
     "text": [
      "Drawing GREAT TINAMOU\n"
     ]
    },
    {
     "data": {
      "text/html": [
       "<div class=\"zoom\"><img style='width: 100px; height: 100px; margin: 1px; float: left; border: 0px solid black;'title=['GREAT TINAMOU'] src='dataset_birds\\test\\GREAT TINAMOU\\1.jpg'/></div><div class=\"zoom\"><img style='width: 100px; height: 100px; margin: 1px; float: left; border: 0px solid black;'title=['GREAT TINAMOU'] src='dataset_birds\\test\\GREAT TINAMOU\\2.jpg'/></div><div class=\"zoom\"><img style='width: 100px; height: 100px; margin: 1px; float: left; border: 0px solid black;'title=['GREAT TINAMOU'] src='dataset_birds\\test\\GREAT TINAMOU\\3.jpg'/></div><div class=\"zoom\"><img style='width: 100px; height: 100px; margin: 1px; float: left; border: 0px solid black;'title=['GREAT TINAMOU'] src='dataset_birds\\test\\GREAT TINAMOU\\4.jpg'/></div><div class=\"zoom\"><img style='width: 100px; height: 100px; margin: 1px; float: left; border: 0px solid black;'title=['GREAT TINAMOU'] src='dataset_birds\\test\\GREAT TINAMOU\\5.jpg'/></div>"
      ],
      "text/plain": [
       "<IPython.core.display.HTML object>"
      ]
     },
     "metadata": {},
     "output_type": "display_data"
    },
    {
     "name": "stdout",
     "output_type": "stream",
     "text": [
      "Drawing GREAT XENOPS\n"
     ]
    },
    {
     "data": {
      "text/html": [
       "<div class=\"zoom\"><img style='width: 100px; height: 100px; margin: 1px; float: left; border: 0px solid black;'title=['GREAT XENOPS'] src='dataset_birds\\test\\GREAT XENOPS\\1.jpg'/></div><div class=\"zoom\"><img style='width: 100px; height: 100px; margin: 1px; float: left; border: 0px solid black;'title=['GREAT XENOPS'] src='dataset_birds\\test\\GREAT XENOPS\\2.jpg'/></div><div class=\"zoom\"><img style='width: 100px; height: 100px; margin: 1px; float: left; border: 0px solid black;'title=['GREAT XENOPS'] src='dataset_birds\\test\\GREAT XENOPS\\3.jpg'/></div><div class=\"zoom\"><img style='width: 100px; height: 100px; margin: 1px; float: left; border: 0px solid black;'title=['GREAT XENOPS'] src='dataset_birds\\test\\GREAT XENOPS\\4.jpg'/></div><div class=\"zoom\"><img style='width: 100px; height: 100px; margin: 1px; float: left; border: 0px solid black;'title=['GREAT XENOPS'] src='dataset_birds\\test\\GREAT XENOPS\\5.jpg'/></div>"
      ],
      "text/plain": [
       "<IPython.core.display.HTML object>"
      ]
     },
     "metadata": {},
     "output_type": "display_data"
    },
    {
     "name": "stdout",
     "output_type": "stream",
     "text": [
      "Drawing GREATER PEWEE\n"
     ]
    },
    {
     "data": {
      "text/html": [
       "<div class=\"zoom\"><img style='width: 100px; height: 100px; margin: 1px; float: left; border: 0px solid black;'title=['GREATER PEWEE'] src='dataset_birds\\test\\GREATER PEWEE\\1.jpg'/></div><div class=\"zoom\"><img style='width: 100px; height: 100px; margin: 1px; float: left; border: 0px solid black;'title=['GREATER PEWEE'] src='dataset_birds\\test\\GREATER PEWEE\\2.jpg'/></div><div class=\"zoom\"><img style='width: 100px; height: 100px; margin: 1px; float: left; border: 0px solid black;'title=['GREATER PEWEE'] src='dataset_birds\\test\\GREATER PEWEE\\3.jpg'/></div><div class=\"zoom\"><img style='width: 100px; height: 100px; margin: 1px; float: left; border: 0px solid black;'title=['GREATER PEWEE'] src='dataset_birds\\test\\GREATER PEWEE\\4.jpg'/></div><div class=\"zoom\"><img style='width: 100px; height: 100px; margin: 1px; float: left; border: 0px solid black;'title=['GREATER PEWEE'] src='dataset_birds\\test\\GREATER PEWEE\\5.jpg'/></div>"
      ],
      "text/plain": [
       "<IPython.core.display.HTML object>"
      ]
     },
     "metadata": {},
     "output_type": "display_data"
    },
    {
     "name": "stdout",
     "output_type": "stream",
     "text": [
      "Drawing GREATER PRAIRIE CHICKEN\n"
     ]
    },
    {
     "data": {
      "text/html": [
       "<div class=\"zoom\"><img style='width: 100px; height: 100px; margin: 1px; float: left; border: 0px solid black;'title=['GREATER PRAIRIE CHICKEN'] src='dataset_birds\\test\\GREATER PRAIRIE CHICKEN\\1.jpg'/></div><div class=\"zoom\"><img style='width: 100px; height: 100px; margin: 1px; float: left; border: 0px solid black;'title=['GREATER PRAIRIE CHICKEN'] src='dataset_birds\\test\\GREATER PRAIRIE CHICKEN\\2.jpg'/></div><div class=\"zoom\"><img style='width: 100px; height: 100px; margin: 1px; float: left; border: 0px solid black;'title=['GREATER PRAIRIE CHICKEN'] src='dataset_birds\\test\\GREATER PRAIRIE CHICKEN\\3.jpg'/></div><div class=\"zoom\"><img style='width: 100px; height: 100px; margin: 1px; float: left; border: 0px solid black;'title=['GREATER PRAIRIE CHICKEN'] src='dataset_birds\\test\\GREATER PRAIRIE CHICKEN\\4.jpg'/></div><div class=\"zoom\"><img style='width: 100px; height: 100px; margin: 1px; float: left; border: 0px solid black;'title=['GREATER PRAIRIE CHICKEN'] src='dataset_birds\\test\\GREATER PRAIRIE CHICKEN\\5.jpg'/></div>"
      ],
      "text/plain": [
       "<IPython.core.display.HTML object>"
      ]
     },
     "metadata": {},
     "output_type": "display_data"
    },
    {
     "name": "stdout",
     "output_type": "stream",
     "text": [
      "Drawing GREATOR SAGE GROUSE\n"
     ]
    },
    {
     "data": {
      "text/html": [
       "<div class=\"zoom\"><img style='width: 100px; height: 100px; margin: 1px; float: left; border: 0px solid black;'title=['GREATOR SAGE GROUSE'] src='dataset_birds\\test\\GREATOR SAGE GROUSE\\1.jpg'/></div><div class=\"zoom\"><img style='width: 100px; height: 100px; margin: 1px; float: left; border: 0px solid black;'title=['GREATOR SAGE GROUSE'] src='dataset_birds\\test\\GREATOR SAGE GROUSE\\2.jpg'/></div><div class=\"zoom\"><img style='width: 100px; height: 100px; margin: 1px; float: left; border: 0px solid black;'title=['GREATOR SAGE GROUSE'] src='dataset_birds\\test\\GREATOR SAGE GROUSE\\3.jpg'/></div><div class=\"zoom\"><img style='width: 100px; height: 100px; margin: 1px; float: left; border: 0px solid black;'title=['GREATOR SAGE GROUSE'] src='dataset_birds\\test\\GREATOR SAGE GROUSE\\4.jpg'/></div><div class=\"zoom\"><img style='width: 100px; height: 100px; margin: 1px; float: left; border: 0px solid black;'title=['GREATOR SAGE GROUSE'] src='dataset_birds\\test\\GREATOR SAGE GROUSE\\5.jpg'/></div>"
      ],
      "text/plain": [
       "<IPython.core.display.HTML object>"
      ]
     },
     "metadata": {},
     "output_type": "display_data"
    },
    {
     "name": "stdout",
     "output_type": "stream",
     "text": [
      "Drawing GREEN BROADBILL\n"
     ]
    },
    {
     "data": {
      "text/html": [
       "<div class=\"zoom\"><img style='width: 100px; height: 100px; margin: 1px; float: left; border: 0px solid black;'title=['GREEN BROADBILL'] src='dataset_birds\\test\\GREEN BROADBILL\\1.jpg'/></div><div class=\"zoom\"><img style='width: 100px; height: 100px; margin: 1px; float: left; border: 0px solid black;'title=['GREEN BROADBILL'] src='dataset_birds\\test\\GREEN BROADBILL\\2.jpg'/></div><div class=\"zoom\"><img style='width: 100px; height: 100px; margin: 1px; float: left; border: 0px solid black;'title=['GREEN BROADBILL'] src='dataset_birds\\test\\GREEN BROADBILL\\3.jpg'/></div><div class=\"zoom\"><img style='width: 100px; height: 100px; margin: 1px; float: left; border: 0px solid black;'title=['GREEN BROADBILL'] src='dataset_birds\\test\\GREEN BROADBILL\\4.jpg'/></div><div class=\"zoom\"><img style='width: 100px; height: 100px; margin: 1px; float: left; border: 0px solid black;'title=['GREEN BROADBILL'] src='dataset_birds\\test\\GREEN BROADBILL\\5.jpg'/></div>"
      ],
      "text/plain": [
       "<IPython.core.display.HTML object>"
      ]
     },
     "metadata": {},
     "output_type": "display_data"
    },
    {
     "name": "stdout",
     "output_type": "stream",
     "text": [
      "Drawing GREEN JAY\n"
     ]
    },
    {
     "data": {
      "text/html": [
       "<div class=\"zoom\"><img style='width: 100px; height: 100px; margin: 1px; float: left; border: 0px solid black;'title=['GREEN JAY'] src='dataset_birds\\test\\GREEN JAY\\1.jpg'/></div><div class=\"zoom\"><img style='width: 100px; height: 100px; margin: 1px; float: left; border: 0px solid black;'title=['GREEN JAY'] src='dataset_birds\\test\\GREEN JAY\\2.jpg'/></div><div class=\"zoom\"><img style='width: 100px; height: 100px; margin: 1px; float: left; border: 0px solid black;'title=['GREEN JAY'] src='dataset_birds\\test\\GREEN JAY\\3.jpg'/></div><div class=\"zoom\"><img style='width: 100px; height: 100px; margin: 1px; float: left; border: 0px solid black;'title=['GREEN JAY'] src='dataset_birds\\test\\GREEN JAY\\4.jpg'/></div><div class=\"zoom\"><img style='width: 100px; height: 100px; margin: 1px; float: left; border: 0px solid black;'title=['GREEN JAY'] src='dataset_birds\\test\\GREEN JAY\\5.jpg'/></div>"
      ],
      "text/plain": [
       "<IPython.core.display.HTML object>"
      ]
     },
     "metadata": {},
     "output_type": "display_data"
    },
    {
     "name": "stdout",
     "output_type": "stream",
     "text": [
      "Drawing GREEN MAGPIE\n"
     ]
    },
    {
     "data": {
      "text/html": [
       "<div class=\"zoom\"><img style='width: 100px; height: 100px; margin: 1px; float: left; border: 0px solid black;'title=['GREEN MAGPIE'] src='dataset_birds\\test\\GREEN MAGPIE\\1.jpg'/></div><div class=\"zoom\"><img style='width: 100px; height: 100px; margin: 1px; float: left; border: 0px solid black;'title=['GREEN MAGPIE'] src='dataset_birds\\test\\GREEN MAGPIE\\2.jpg'/></div><div class=\"zoom\"><img style='width: 100px; height: 100px; margin: 1px; float: left; border: 0px solid black;'title=['GREEN MAGPIE'] src='dataset_birds\\test\\GREEN MAGPIE\\3.jpg'/></div><div class=\"zoom\"><img style='width: 100px; height: 100px; margin: 1px; float: left; border: 0px solid black;'title=['GREEN MAGPIE'] src='dataset_birds\\test\\GREEN MAGPIE\\4.jpg'/></div><div class=\"zoom\"><img style='width: 100px; height: 100px; margin: 1px; float: left; border: 0px solid black;'title=['GREEN MAGPIE'] src='dataset_birds\\test\\GREEN MAGPIE\\5.jpg'/></div>"
      ],
      "text/plain": [
       "<IPython.core.display.HTML object>"
      ]
     },
     "metadata": {},
     "output_type": "display_data"
    },
    {
     "name": "stdout",
     "output_type": "stream",
     "text": [
      "Drawing GREEN WINGED DOVE\n"
     ]
    },
    {
     "data": {
      "text/html": [
       "<div class=\"zoom\"><img style='width: 100px; height: 100px; margin: 1px; float: left; border: 0px solid black;'title=['GREEN WINGED DOVE'] src='dataset_birds\\test\\GREEN WINGED DOVE\\1.jpg'/></div><div class=\"zoom\"><img style='width: 100px; height: 100px; margin: 1px; float: left; border: 0px solid black;'title=['GREEN WINGED DOVE'] src='dataset_birds\\test\\GREEN WINGED DOVE\\2.jpg'/></div><div class=\"zoom\"><img style='width: 100px; height: 100px; margin: 1px; float: left; border: 0px solid black;'title=['GREEN WINGED DOVE'] src='dataset_birds\\test\\GREEN WINGED DOVE\\3.jpg'/></div><div class=\"zoom\"><img style='width: 100px; height: 100px; margin: 1px; float: left; border: 0px solid black;'title=['GREEN WINGED DOVE'] src='dataset_birds\\test\\GREEN WINGED DOVE\\4.jpg'/></div><div class=\"zoom\"><img style='width: 100px; height: 100px; margin: 1px; float: left; border: 0px solid black;'title=['GREEN WINGED DOVE'] src='dataset_birds\\test\\GREEN WINGED DOVE\\5.jpg'/></div>"
      ],
      "text/plain": [
       "<IPython.core.display.HTML object>"
      ]
     },
     "metadata": {},
     "output_type": "display_data"
    },
    {
     "name": "stdout",
     "output_type": "stream",
     "text": [
      "Drawing GREY CUCKOOSHRIKE\n"
     ]
    },
    {
     "data": {
      "text/html": [
       "<div class=\"zoom\"><img style='width: 100px; height: 100px; margin: 1px; float: left; border: 0px solid black;'title=['GREY CUCKOOSHRIKE'] src='dataset_birds\\test\\GREY CUCKOOSHRIKE\\1.jpg'/></div><div class=\"zoom\"><img style='width: 100px; height: 100px; margin: 1px; float: left; border: 0px solid black;'title=['GREY CUCKOOSHRIKE'] src='dataset_birds\\test\\GREY CUCKOOSHRIKE\\2.jpg'/></div><div class=\"zoom\"><img style='width: 100px; height: 100px; margin: 1px; float: left; border: 0px solid black;'title=['GREY CUCKOOSHRIKE'] src='dataset_birds\\test\\GREY CUCKOOSHRIKE\\3.jpg'/></div><div class=\"zoom\"><img style='width: 100px; height: 100px; margin: 1px; float: left; border: 0px solid black;'title=['GREY CUCKOOSHRIKE'] src='dataset_birds\\test\\GREY CUCKOOSHRIKE\\4.jpg'/></div><div class=\"zoom\"><img style='width: 100px; height: 100px; margin: 1px; float: left; border: 0px solid black;'title=['GREY CUCKOOSHRIKE'] src='dataset_birds\\test\\GREY CUCKOOSHRIKE\\5.jpg'/></div>"
      ],
      "text/plain": [
       "<IPython.core.display.HTML object>"
      ]
     },
     "metadata": {},
     "output_type": "display_data"
    },
    {
     "name": "stdout",
     "output_type": "stream",
     "text": [
      "Drawing GREY HEADED CHACHALACA\n"
     ]
    },
    {
     "data": {
      "text/html": [
       "<div class=\"zoom\"><img style='width: 100px; height: 100px; margin: 1px; float: left; border: 0px solid black;'title=['GREY HEADED CHACHALACA'] src='dataset_birds\\test\\GREY HEADED CHACHALACA\\1.jpg'/></div><div class=\"zoom\"><img style='width: 100px; height: 100px; margin: 1px; float: left; border: 0px solid black;'title=['GREY HEADED CHACHALACA'] src='dataset_birds\\test\\GREY HEADED CHACHALACA\\2.jpg'/></div><div class=\"zoom\"><img style='width: 100px; height: 100px; margin: 1px; float: left; border: 0px solid black;'title=['GREY HEADED CHACHALACA'] src='dataset_birds\\test\\GREY HEADED CHACHALACA\\3.jpg'/></div><div class=\"zoom\"><img style='width: 100px; height: 100px; margin: 1px; float: left; border: 0px solid black;'title=['GREY HEADED CHACHALACA'] src='dataset_birds\\test\\GREY HEADED CHACHALACA\\4.jpg'/></div><div class=\"zoom\"><img style='width: 100px; height: 100px; margin: 1px; float: left; border: 0px solid black;'title=['GREY HEADED CHACHALACA'] src='dataset_birds\\test\\GREY HEADED CHACHALACA\\5.jpg'/></div>"
      ],
      "text/plain": [
       "<IPython.core.display.HTML object>"
      ]
     },
     "metadata": {},
     "output_type": "display_data"
    },
    {
     "name": "stdout",
     "output_type": "stream",
     "text": [
      "Drawing GREY HEADED FISH EAGLE\n"
     ]
    },
    {
     "data": {
      "text/html": [
       "<div class=\"zoom\"><img style='width: 100px; height: 100px; margin: 1px; float: left; border: 0px solid black;'title=['GREY HEADED FISH EAGLE'] src='dataset_birds\\test\\GREY HEADED FISH EAGLE\\1.jpg'/></div><div class=\"zoom\"><img style='width: 100px; height: 100px; margin: 1px; float: left; border: 0px solid black;'title=['GREY HEADED FISH EAGLE'] src='dataset_birds\\test\\GREY HEADED FISH EAGLE\\2.jpg'/></div><div class=\"zoom\"><img style='width: 100px; height: 100px; margin: 1px; float: left; border: 0px solid black;'title=['GREY HEADED FISH EAGLE'] src='dataset_birds\\test\\GREY HEADED FISH EAGLE\\3.jpg'/></div><div class=\"zoom\"><img style='width: 100px; height: 100px; margin: 1px; float: left; border: 0px solid black;'title=['GREY HEADED FISH EAGLE'] src='dataset_birds\\test\\GREY HEADED FISH EAGLE\\4.jpg'/></div><div class=\"zoom\"><img style='width: 100px; height: 100px; margin: 1px; float: left; border: 0px solid black;'title=['GREY HEADED FISH EAGLE'] src='dataset_birds\\test\\GREY HEADED FISH EAGLE\\5.jpg'/></div>"
      ],
      "text/plain": [
       "<IPython.core.display.HTML object>"
      ]
     },
     "metadata": {},
     "output_type": "display_data"
    },
    {
     "name": "stdout",
     "output_type": "stream",
     "text": [
      "Drawing GREY PLOVER\n"
     ]
    },
    {
     "data": {
      "text/html": [
       "<div class=\"zoom\"><img style='width: 100px; height: 100px; margin: 1px; float: left; border: 0px solid black;'title=['GREY PLOVER'] src='dataset_birds\\test\\GREY PLOVER\\1.jpg'/></div><div class=\"zoom\"><img style='width: 100px; height: 100px; margin: 1px; float: left; border: 0px solid black;'title=['GREY PLOVER'] src='dataset_birds\\test\\GREY PLOVER\\2.jpg'/></div><div class=\"zoom\"><img style='width: 100px; height: 100px; margin: 1px; float: left; border: 0px solid black;'title=['GREY PLOVER'] src='dataset_birds\\test\\GREY PLOVER\\3.jpg'/></div><div class=\"zoom\"><img style='width: 100px; height: 100px; margin: 1px; float: left; border: 0px solid black;'title=['GREY PLOVER'] src='dataset_birds\\test\\GREY PLOVER\\4.jpg'/></div><div class=\"zoom\"><img style='width: 100px; height: 100px; margin: 1px; float: left; border: 0px solid black;'title=['GREY PLOVER'] src='dataset_birds\\test\\GREY PLOVER\\5.jpg'/></div>"
      ],
      "text/plain": [
       "<IPython.core.display.HTML object>"
      ]
     },
     "metadata": {},
     "output_type": "display_data"
    },
    {
     "name": "stdout",
     "output_type": "stream",
     "text": [
      "Drawing GROVED BILLED ANI\n"
     ]
    },
    {
     "data": {
      "text/html": [
       "<div class=\"zoom\"><img style='width: 100px; height: 100px; margin: 1px; float: left; border: 0px solid black;'title=['GROVED BILLED ANI'] src='dataset_birds\\test\\GROVED BILLED ANI\\1.jpg'/></div><div class=\"zoom\"><img style='width: 100px; height: 100px; margin: 1px; float: left; border: 0px solid black;'title=['GROVED BILLED ANI'] src='dataset_birds\\test\\GROVED BILLED ANI\\2.jpg'/></div><div class=\"zoom\"><img style='width: 100px; height: 100px; margin: 1px; float: left; border: 0px solid black;'title=['GROVED BILLED ANI'] src='dataset_birds\\test\\GROVED BILLED ANI\\3.jpg'/></div><div class=\"zoom\"><img style='width: 100px; height: 100px; margin: 1px; float: left; border: 0px solid black;'title=['GROVED BILLED ANI'] src='dataset_birds\\test\\GROVED BILLED ANI\\4.jpg'/></div><div class=\"zoom\"><img style='width: 100px; height: 100px; margin: 1px; float: left; border: 0px solid black;'title=['GROVED BILLED ANI'] src='dataset_birds\\test\\GROVED BILLED ANI\\5.jpg'/></div>"
      ],
      "text/plain": [
       "<IPython.core.display.HTML object>"
      ]
     },
     "metadata": {},
     "output_type": "display_data"
    },
    {
     "name": "stdout",
     "output_type": "stream",
     "text": [
      "Drawing GUINEA TURACO\n"
     ]
    },
    {
     "data": {
      "text/html": [
       "<div class=\"zoom\"><img style='width: 100px; height: 100px; margin: 1px; float: left; border: 0px solid black;'title=['GUINEA TURACO'] src='dataset_birds\\test\\GUINEA TURACO\\1.jpg'/></div><div class=\"zoom\"><img style='width: 100px; height: 100px; margin: 1px; float: left; border: 0px solid black;'title=['GUINEA TURACO'] src='dataset_birds\\test\\GUINEA TURACO\\2.jpg'/></div><div class=\"zoom\"><img style='width: 100px; height: 100px; margin: 1px; float: left; border: 0px solid black;'title=['GUINEA TURACO'] src='dataset_birds\\test\\GUINEA TURACO\\3.jpg'/></div><div class=\"zoom\"><img style='width: 100px; height: 100px; margin: 1px; float: left; border: 0px solid black;'title=['GUINEA TURACO'] src='dataset_birds\\test\\GUINEA TURACO\\4.jpg'/></div><div class=\"zoom\"><img style='width: 100px; height: 100px; margin: 1px; float: left; border: 0px solid black;'title=['GUINEA TURACO'] src='dataset_birds\\test\\GUINEA TURACO\\5.jpg'/></div>"
      ],
      "text/plain": [
       "<IPython.core.display.HTML object>"
      ]
     },
     "metadata": {},
     "output_type": "display_data"
    },
    {
     "name": "stdout",
     "output_type": "stream",
     "text": [
      "Drawing GUINEAFOWL\n"
     ]
    },
    {
     "data": {
      "text/html": [
       "<div class=\"zoom\"><img style='width: 100px; height: 100px; margin: 1px; float: left; border: 0px solid black;'title=['GUINEAFOWL'] src='dataset_birds\\test\\GUINEAFOWL\\1.jpg'/></div><div class=\"zoom\"><img style='width: 100px; height: 100px; margin: 1px; float: left; border: 0px solid black;'title=['GUINEAFOWL'] src='dataset_birds\\test\\GUINEAFOWL\\2.jpg'/></div><div class=\"zoom\"><img style='width: 100px; height: 100px; margin: 1px; float: left; border: 0px solid black;'title=['GUINEAFOWL'] src='dataset_birds\\test\\GUINEAFOWL\\3.jpg'/></div><div class=\"zoom\"><img style='width: 100px; height: 100px; margin: 1px; float: left; border: 0px solid black;'title=['GUINEAFOWL'] src='dataset_birds\\test\\GUINEAFOWL\\4.jpg'/></div><div class=\"zoom\"><img style='width: 100px; height: 100px; margin: 1px; float: left; border: 0px solid black;'title=['GUINEAFOWL'] src='dataset_birds\\test\\GUINEAFOWL\\5.jpg'/></div>"
      ],
      "text/plain": [
       "<IPython.core.display.HTML object>"
      ]
     },
     "metadata": {},
     "output_type": "display_data"
    },
    {
     "name": "stdout",
     "output_type": "stream",
     "text": [
      "Drawing GURNEYS PITTA\n"
     ]
    },
    {
     "data": {
      "text/html": [
       "<div class=\"zoom\"><img style='width: 100px; height: 100px; margin: 1px; float: left; border: 0px solid black;'title=['GURNEYS PITTA'] src='dataset_birds\\test\\GURNEYS PITTA\\1.jpg'/></div><div class=\"zoom\"><img style='width: 100px; height: 100px; margin: 1px; float: left; border: 0px solid black;'title=['GURNEYS PITTA'] src='dataset_birds\\test\\GURNEYS PITTA\\2.jpg'/></div><div class=\"zoom\"><img style='width: 100px; height: 100px; margin: 1px; float: left; border: 0px solid black;'title=['GURNEYS PITTA'] src='dataset_birds\\test\\GURNEYS PITTA\\3.jpg'/></div><div class=\"zoom\"><img style='width: 100px; height: 100px; margin: 1px; float: left; border: 0px solid black;'title=['GURNEYS PITTA'] src='dataset_birds\\test\\GURNEYS PITTA\\4.jpg'/></div><div class=\"zoom\"><img style='width: 100px; height: 100px; margin: 1px; float: left; border: 0px solid black;'title=['GURNEYS PITTA'] src='dataset_birds\\test\\GURNEYS PITTA\\5.jpg'/></div>"
      ],
      "text/plain": [
       "<IPython.core.display.HTML object>"
      ]
     },
     "metadata": {},
     "output_type": "display_data"
    },
    {
     "name": "stdout",
     "output_type": "stream",
     "text": [
      "Drawing GYRFALCON\n"
     ]
    },
    {
     "data": {
      "text/html": [
       "<div class=\"zoom\"><img style='width: 100px; height: 100px; margin: 1px; float: left; border: 0px solid black;'title=['GYRFALCON'] src='dataset_birds\\test\\GYRFALCON\\1.jpg'/></div><div class=\"zoom\"><img style='width: 100px; height: 100px; margin: 1px; float: left; border: 0px solid black;'title=['GYRFALCON'] src='dataset_birds\\test\\GYRFALCON\\2.jpg'/></div><div class=\"zoom\"><img style='width: 100px; height: 100px; margin: 1px; float: left; border: 0px solid black;'title=['GYRFALCON'] src='dataset_birds\\test\\GYRFALCON\\3.jpg'/></div><div class=\"zoom\"><img style='width: 100px; height: 100px; margin: 1px; float: left; border: 0px solid black;'title=['GYRFALCON'] src='dataset_birds\\test\\GYRFALCON\\4.jpg'/></div><div class=\"zoom\"><img style='width: 100px; height: 100px; margin: 1px; float: left; border: 0px solid black;'title=['GYRFALCON'] src='dataset_birds\\test\\GYRFALCON\\5.jpg'/></div>"
      ],
      "text/plain": [
       "<IPython.core.display.HTML object>"
      ]
     },
     "metadata": {},
     "output_type": "display_data"
    },
    {
     "name": "stdout",
     "output_type": "stream",
     "text": [
      "Drawing HAMERKOP\n"
     ]
    },
    {
     "data": {
      "text/html": [
       "<div class=\"zoom\"><img style='width: 100px; height: 100px; margin: 1px; float: left; border: 0px solid black;'title=['HAMERKOP'] src='dataset_birds\\test\\HAMERKOP\\1.jpg'/></div><div class=\"zoom\"><img style='width: 100px; height: 100px; margin: 1px; float: left; border: 0px solid black;'title=['HAMERKOP'] src='dataset_birds\\test\\HAMERKOP\\2.jpg'/></div><div class=\"zoom\"><img style='width: 100px; height: 100px; margin: 1px; float: left; border: 0px solid black;'title=['HAMERKOP'] src='dataset_birds\\test\\HAMERKOP\\3.jpg'/></div><div class=\"zoom\"><img style='width: 100px; height: 100px; margin: 1px; float: left; border: 0px solid black;'title=['HAMERKOP'] src='dataset_birds\\test\\HAMERKOP\\4.jpg'/></div><div class=\"zoom\"><img style='width: 100px; height: 100px; margin: 1px; float: left; border: 0px solid black;'title=['HAMERKOP'] src='dataset_birds\\test\\HAMERKOP\\5.jpg'/></div>"
      ],
      "text/plain": [
       "<IPython.core.display.HTML object>"
      ]
     },
     "metadata": {},
     "output_type": "display_data"
    },
    {
     "name": "stdout",
     "output_type": "stream",
     "text": [
      "Drawing HARLEQUIN DUCK\n"
     ]
    },
    {
     "data": {
      "text/html": [
       "<div class=\"zoom\"><img style='width: 100px; height: 100px; margin: 1px; float: left; border: 0px solid black;'title=['HARLEQUIN DUCK'] src='dataset_birds\\test\\HARLEQUIN DUCK\\1.jpg'/></div><div class=\"zoom\"><img style='width: 100px; height: 100px; margin: 1px; float: left; border: 0px solid black;'title=['HARLEQUIN DUCK'] src='dataset_birds\\test\\HARLEQUIN DUCK\\2.jpg'/></div><div class=\"zoom\"><img style='width: 100px; height: 100px; margin: 1px; float: left; border: 0px solid black;'title=['HARLEQUIN DUCK'] src='dataset_birds\\test\\HARLEQUIN DUCK\\3.jpg'/></div><div class=\"zoom\"><img style='width: 100px; height: 100px; margin: 1px; float: left; border: 0px solid black;'title=['HARLEQUIN DUCK'] src='dataset_birds\\test\\HARLEQUIN DUCK\\4.jpg'/></div><div class=\"zoom\"><img style='width: 100px; height: 100px; margin: 1px; float: left; border: 0px solid black;'title=['HARLEQUIN DUCK'] src='dataset_birds\\test\\HARLEQUIN DUCK\\5.jpg'/></div>"
      ],
      "text/plain": [
       "<IPython.core.display.HTML object>"
      ]
     },
     "metadata": {},
     "output_type": "display_data"
    },
    {
     "name": "stdout",
     "output_type": "stream",
     "text": [
      "Drawing HARLEQUIN QUAIL\n"
     ]
    },
    {
     "data": {
      "text/html": [
       "<div class=\"zoom\"><img style='width: 100px; height: 100px; margin: 1px; float: left; border: 0px solid black;'title=['HARLEQUIN QUAIL'] src='dataset_birds\\test\\HARLEQUIN QUAIL\\1.jpg'/></div><div class=\"zoom\"><img style='width: 100px; height: 100px; margin: 1px; float: left; border: 0px solid black;'title=['HARLEQUIN QUAIL'] src='dataset_birds\\test\\HARLEQUIN QUAIL\\2.jpg'/></div><div class=\"zoom\"><img style='width: 100px; height: 100px; margin: 1px; float: left; border: 0px solid black;'title=['HARLEQUIN QUAIL'] src='dataset_birds\\test\\HARLEQUIN QUAIL\\3.jpg'/></div><div class=\"zoom\"><img style='width: 100px; height: 100px; margin: 1px; float: left; border: 0px solid black;'title=['HARLEQUIN QUAIL'] src='dataset_birds\\test\\HARLEQUIN QUAIL\\4.jpg'/></div><div class=\"zoom\"><img style='width: 100px; height: 100px; margin: 1px; float: left; border: 0px solid black;'title=['HARLEQUIN QUAIL'] src='dataset_birds\\test\\HARLEQUIN QUAIL\\5.jpg'/></div>"
      ],
      "text/plain": [
       "<IPython.core.display.HTML object>"
      ]
     },
     "metadata": {},
     "output_type": "display_data"
    },
    {
     "name": "stdout",
     "output_type": "stream",
     "text": [
      "Drawing HARPY EAGLE\n"
     ]
    },
    {
     "data": {
      "text/html": [
       "<div class=\"zoom\"><img style='width: 100px; height: 100px; margin: 1px; float: left; border: 0px solid black;'title=['HARPY EAGLE'] src='dataset_birds\\test\\HARPY EAGLE\\1.jpg'/></div><div class=\"zoom\"><img style='width: 100px; height: 100px; margin: 1px; float: left; border: 0px solid black;'title=['HARPY EAGLE'] src='dataset_birds\\test\\HARPY EAGLE\\2.jpg'/></div><div class=\"zoom\"><img style='width: 100px; height: 100px; margin: 1px; float: left; border: 0px solid black;'title=['HARPY EAGLE'] src='dataset_birds\\test\\HARPY EAGLE\\3.jpg'/></div><div class=\"zoom\"><img style='width: 100px; height: 100px; margin: 1px; float: left; border: 0px solid black;'title=['HARPY EAGLE'] src='dataset_birds\\test\\HARPY EAGLE\\4.jpg'/></div><div class=\"zoom\"><img style='width: 100px; height: 100px; margin: 1px; float: left; border: 0px solid black;'title=['HARPY EAGLE'] src='dataset_birds\\test\\HARPY EAGLE\\5.jpg'/></div>"
      ],
      "text/plain": [
       "<IPython.core.display.HTML object>"
      ]
     },
     "metadata": {},
     "output_type": "display_data"
    },
    {
     "name": "stdout",
     "output_type": "stream",
     "text": [
      "Drawing HAWAIIAN GOOSE\n"
     ]
    },
    {
     "data": {
      "text/html": [
       "<div class=\"zoom\"><img style='width: 100px; height: 100px; margin: 1px; float: left; border: 0px solid black;'title=['HAWAIIAN GOOSE'] src='dataset_birds\\test\\HAWAIIAN GOOSE\\1.jpg'/></div><div class=\"zoom\"><img style='width: 100px; height: 100px; margin: 1px; float: left; border: 0px solid black;'title=['HAWAIIAN GOOSE'] src='dataset_birds\\test\\HAWAIIAN GOOSE\\2.jpg'/></div><div class=\"zoom\"><img style='width: 100px; height: 100px; margin: 1px; float: left; border: 0px solid black;'title=['HAWAIIAN GOOSE'] src='dataset_birds\\test\\HAWAIIAN GOOSE\\3.jpg'/></div><div class=\"zoom\"><img style='width: 100px; height: 100px; margin: 1px; float: left; border: 0px solid black;'title=['HAWAIIAN GOOSE'] src='dataset_birds\\test\\HAWAIIAN GOOSE\\4.jpg'/></div><div class=\"zoom\"><img style='width: 100px; height: 100px; margin: 1px; float: left; border: 0px solid black;'title=['HAWAIIAN GOOSE'] src='dataset_birds\\test\\HAWAIIAN GOOSE\\5.jpg'/></div>"
      ],
      "text/plain": [
       "<IPython.core.display.HTML object>"
      ]
     },
     "metadata": {},
     "output_type": "display_data"
    },
    {
     "name": "stdout",
     "output_type": "stream",
     "text": [
      "Drawing HAWFINCH\n"
     ]
    },
    {
     "data": {
      "text/html": [
       "<div class=\"zoom\"><img style='width: 100px; height: 100px; margin: 1px; float: left; border: 0px solid black;'title=['HAWFINCH'] src='dataset_birds\\test\\HAWFINCH\\1.jpg'/></div><div class=\"zoom\"><img style='width: 100px; height: 100px; margin: 1px; float: left; border: 0px solid black;'title=['HAWFINCH'] src='dataset_birds\\test\\HAWFINCH\\2.jpg'/></div><div class=\"zoom\"><img style='width: 100px; height: 100px; margin: 1px; float: left; border: 0px solid black;'title=['HAWFINCH'] src='dataset_birds\\test\\HAWFINCH\\3.jpg'/></div><div class=\"zoom\"><img style='width: 100px; height: 100px; margin: 1px; float: left; border: 0px solid black;'title=['HAWFINCH'] src='dataset_birds\\test\\HAWFINCH\\4.jpg'/></div><div class=\"zoom\"><img style='width: 100px; height: 100px; margin: 1px; float: left; border: 0px solid black;'title=['HAWFINCH'] src='dataset_birds\\test\\HAWFINCH\\5.jpg'/></div>"
      ],
      "text/plain": [
       "<IPython.core.display.HTML object>"
      ]
     },
     "metadata": {},
     "output_type": "display_data"
    },
    {
     "name": "stdout",
     "output_type": "stream",
     "text": [
      "Drawing HELMET VANGA\n"
     ]
    },
    {
     "data": {
      "text/html": [
       "<div class=\"zoom\"><img style='width: 100px; height: 100px; margin: 1px; float: left; border: 0px solid black;'title=['HELMET VANGA'] src='dataset_birds\\test\\HELMET VANGA\\1.jpg'/></div><div class=\"zoom\"><img style='width: 100px; height: 100px; margin: 1px; float: left; border: 0px solid black;'title=['HELMET VANGA'] src='dataset_birds\\test\\HELMET VANGA\\2.jpg'/></div><div class=\"zoom\"><img style='width: 100px; height: 100px; margin: 1px; float: left; border: 0px solid black;'title=['HELMET VANGA'] src='dataset_birds\\test\\HELMET VANGA\\3.jpg'/></div><div class=\"zoom\"><img style='width: 100px; height: 100px; margin: 1px; float: left; border: 0px solid black;'title=['HELMET VANGA'] src='dataset_birds\\test\\HELMET VANGA\\4.jpg'/></div><div class=\"zoom\"><img style='width: 100px; height: 100px; margin: 1px; float: left; border: 0px solid black;'title=['HELMET VANGA'] src='dataset_birds\\test\\HELMET VANGA\\5.jpg'/></div>"
      ],
      "text/plain": [
       "<IPython.core.display.HTML object>"
      ]
     },
     "metadata": {},
     "output_type": "display_data"
    },
    {
     "name": "stdout",
     "output_type": "stream",
     "text": [
      "Drawing HEPATIC TANAGER\n"
     ]
    },
    {
     "data": {
      "text/html": [
       "<div class=\"zoom\"><img style='width: 100px; height: 100px; margin: 1px; float: left; border: 0px solid black;'title=['HEPATIC TANAGER'] src='dataset_birds\\test\\HEPATIC TANAGER\\1.jpg'/></div><div class=\"zoom\"><img style='width: 100px; height: 100px; margin: 1px; float: left; border: 0px solid black;'title=['HEPATIC TANAGER'] src='dataset_birds\\test\\HEPATIC TANAGER\\2.jpg'/></div><div class=\"zoom\"><img style='width: 100px; height: 100px; margin: 1px; float: left; border: 0px solid black;'title=['HEPATIC TANAGER'] src='dataset_birds\\test\\HEPATIC TANAGER\\3.jpg'/></div><div class=\"zoom\"><img style='width: 100px; height: 100px; margin: 1px; float: left; border: 0px solid black;'title=['HEPATIC TANAGER'] src='dataset_birds\\test\\HEPATIC TANAGER\\4.jpg'/></div><div class=\"zoom\"><img style='width: 100px; height: 100px; margin: 1px; float: left; border: 0px solid black;'title=['HEPATIC TANAGER'] src='dataset_birds\\test\\HEPATIC TANAGER\\5.jpg'/></div>"
      ],
      "text/plain": [
       "<IPython.core.display.HTML object>"
      ]
     },
     "metadata": {},
     "output_type": "display_data"
    },
    {
     "name": "stdout",
     "output_type": "stream",
     "text": [
      "Drawing HIMALAYAN BLUETAIL\n"
     ]
    },
    {
     "data": {
      "text/html": [
       "<div class=\"zoom\"><img style='width: 100px; height: 100px; margin: 1px; float: left; border: 0px solid black;'title=['HIMALAYAN BLUETAIL'] src='dataset_birds\\test\\HIMALAYAN BLUETAIL\\1.jpg'/></div><div class=\"zoom\"><img style='width: 100px; height: 100px; margin: 1px; float: left; border: 0px solid black;'title=['HIMALAYAN BLUETAIL'] src='dataset_birds\\test\\HIMALAYAN BLUETAIL\\2.jpg'/></div><div class=\"zoom\"><img style='width: 100px; height: 100px; margin: 1px; float: left; border: 0px solid black;'title=['HIMALAYAN BLUETAIL'] src='dataset_birds\\test\\HIMALAYAN BLUETAIL\\3.jpg'/></div><div class=\"zoom\"><img style='width: 100px; height: 100px; margin: 1px; float: left; border: 0px solid black;'title=['HIMALAYAN BLUETAIL'] src='dataset_birds\\test\\HIMALAYAN BLUETAIL\\4.jpg'/></div><div class=\"zoom\"><img style='width: 100px; height: 100px; margin: 1px; float: left; border: 0px solid black;'title=['HIMALAYAN BLUETAIL'] src='dataset_birds\\test\\HIMALAYAN BLUETAIL\\5.jpg'/></div>"
      ],
      "text/plain": [
       "<IPython.core.display.HTML object>"
      ]
     },
     "metadata": {},
     "output_type": "display_data"
    },
    {
     "name": "stdout",
     "output_type": "stream",
     "text": [
      "Drawing HIMALAYAN MONAL\n"
     ]
    },
    {
     "data": {
      "text/html": [
       "<div class=\"zoom\"><img style='width: 100px; height: 100px; margin: 1px; float: left; border: 0px solid black;'title=['HIMALAYAN MONAL'] src='dataset_birds\\test\\HIMALAYAN MONAL\\1.jpg'/></div><div class=\"zoom\"><img style='width: 100px; height: 100px; margin: 1px; float: left; border: 0px solid black;'title=['HIMALAYAN MONAL'] src='dataset_birds\\test\\HIMALAYAN MONAL\\2.jpg'/></div><div class=\"zoom\"><img style='width: 100px; height: 100px; margin: 1px; float: left; border: 0px solid black;'title=['HIMALAYAN MONAL'] src='dataset_birds\\test\\HIMALAYAN MONAL\\3.jpg'/></div><div class=\"zoom\"><img style='width: 100px; height: 100px; margin: 1px; float: left; border: 0px solid black;'title=['HIMALAYAN MONAL'] src='dataset_birds\\test\\HIMALAYAN MONAL\\4.jpg'/></div><div class=\"zoom\"><img style='width: 100px; height: 100px; margin: 1px; float: left; border: 0px solid black;'title=['HIMALAYAN MONAL'] src='dataset_birds\\test\\HIMALAYAN MONAL\\5.jpg'/></div>"
      ],
      "text/plain": [
       "<IPython.core.display.HTML object>"
      ]
     },
     "metadata": {},
     "output_type": "display_data"
    },
    {
     "name": "stdout",
     "output_type": "stream",
     "text": [
      "Drawing HOATZIN\n"
     ]
    },
    {
     "data": {
      "text/html": [
       "<div class=\"zoom\"><img style='width: 100px; height: 100px; margin: 1px; float: left; border: 0px solid black;'title=['HOATZIN'] src='dataset_birds\\test\\HOATZIN\\1.jpg'/></div><div class=\"zoom\"><img style='width: 100px; height: 100px; margin: 1px; float: left; border: 0px solid black;'title=['HOATZIN'] src='dataset_birds\\test\\HOATZIN\\2.jpg'/></div><div class=\"zoom\"><img style='width: 100px; height: 100px; margin: 1px; float: left; border: 0px solid black;'title=['HOATZIN'] src='dataset_birds\\test\\HOATZIN\\3.jpg'/></div><div class=\"zoom\"><img style='width: 100px; height: 100px; margin: 1px; float: left; border: 0px solid black;'title=['HOATZIN'] src='dataset_birds\\test\\HOATZIN\\4.jpg'/></div><div class=\"zoom\"><img style='width: 100px; height: 100px; margin: 1px; float: left; border: 0px solid black;'title=['HOATZIN'] src='dataset_birds\\test\\HOATZIN\\5.jpg'/></div>"
      ],
      "text/plain": [
       "<IPython.core.display.HTML object>"
      ]
     },
     "metadata": {},
     "output_type": "display_data"
    },
    {
     "name": "stdout",
     "output_type": "stream",
     "text": [
      "Drawing HOODED MERGANSER\n"
     ]
    },
    {
     "data": {
      "text/html": [
       "<div class=\"zoom\"><img style='width: 100px; height: 100px; margin: 1px; float: left; border: 0px solid black;'title=['HOODED MERGANSER'] src='dataset_birds\\test\\HOODED MERGANSER\\1.jpg'/></div><div class=\"zoom\"><img style='width: 100px; height: 100px; margin: 1px; float: left; border: 0px solid black;'title=['HOODED MERGANSER'] src='dataset_birds\\test\\HOODED MERGANSER\\2.jpg'/></div><div class=\"zoom\"><img style='width: 100px; height: 100px; margin: 1px; float: left; border: 0px solid black;'title=['HOODED MERGANSER'] src='dataset_birds\\test\\HOODED MERGANSER\\3.jpg'/></div><div class=\"zoom\"><img style='width: 100px; height: 100px; margin: 1px; float: left; border: 0px solid black;'title=['HOODED MERGANSER'] src='dataset_birds\\test\\HOODED MERGANSER\\4.jpg'/></div><div class=\"zoom\"><img style='width: 100px; height: 100px; margin: 1px; float: left; border: 0px solid black;'title=['HOODED MERGANSER'] src='dataset_birds\\test\\HOODED MERGANSER\\5.jpg'/></div>"
      ],
      "text/plain": [
       "<IPython.core.display.HTML object>"
      ]
     },
     "metadata": {},
     "output_type": "display_data"
    },
    {
     "name": "stdout",
     "output_type": "stream",
     "text": [
      "Drawing HOOPOES\n"
     ]
    },
    {
     "data": {
      "text/html": [
       "<div class=\"zoom\"><img style='width: 100px; height: 100px; margin: 1px; float: left; border: 0px solid black;'title=['HOOPOES'] src='dataset_birds\\test\\HOOPOES\\1.jpg'/></div><div class=\"zoom\"><img style='width: 100px; height: 100px; margin: 1px; float: left; border: 0px solid black;'title=['HOOPOES'] src='dataset_birds\\test\\HOOPOES\\2.jpg'/></div><div class=\"zoom\"><img style='width: 100px; height: 100px; margin: 1px; float: left; border: 0px solid black;'title=['HOOPOES'] src='dataset_birds\\test\\HOOPOES\\3.jpg'/></div><div class=\"zoom\"><img style='width: 100px; height: 100px; margin: 1px; float: left; border: 0px solid black;'title=['HOOPOES'] src='dataset_birds\\test\\HOOPOES\\4.jpg'/></div><div class=\"zoom\"><img style='width: 100px; height: 100px; margin: 1px; float: left; border: 0px solid black;'title=['HOOPOES'] src='dataset_birds\\test\\HOOPOES\\5.jpg'/></div>"
      ],
      "text/plain": [
       "<IPython.core.display.HTML object>"
      ]
     },
     "metadata": {},
     "output_type": "display_data"
    },
    {
     "name": "stdout",
     "output_type": "stream",
     "text": [
      "Drawing HORNED GUAN\n"
     ]
    },
    {
     "data": {
      "text/html": [
       "<div class=\"zoom\"><img style='width: 100px; height: 100px; margin: 1px; float: left; border: 0px solid black;'title=['HORNED GUAN'] src='dataset_birds\\test\\HORNED GUAN\\1.jpg'/></div><div class=\"zoom\"><img style='width: 100px; height: 100px; margin: 1px; float: left; border: 0px solid black;'title=['HORNED GUAN'] src='dataset_birds\\test\\HORNED GUAN\\2.jpg'/></div><div class=\"zoom\"><img style='width: 100px; height: 100px; margin: 1px; float: left; border: 0px solid black;'title=['HORNED GUAN'] src='dataset_birds\\test\\HORNED GUAN\\3.jpg'/></div><div class=\"zoom\"><img style='width: 100px; height: 100px; margin: 1px; float: left; border: 0px solid black;'title=['HORNED GUAN'] src='dataset_birds\\test\\HORNED GUAN\\4.jpg'/></div><div class=\"zoom\"><img style='width: 100px; height: 100px; margin: 1px; float: left; border: 0px solid black;'title=['HORNED GUAN'] src='dataset_birds\\test\\HORNED GUAN\\5.jpg'/></div>"
      ],
      "text/plain": [
       "<IPython.core.display.HTML object>"
      ]
     },
     "metadata": {},
     "output_type": "display_data"
    },
    {
     "name": "stdout",
     "output_type": "stream",
     "text": [
      "Drawing HORNED LARK\n"
     ]
    },
    {
     "data": {
      "text/html": [
       "<div class=\"zoom\"><img style='width: 100px; height: 100px; margin: 1px; float: left; border: 0px solid black;'title=['HORNED LARK'] src='dataset_birds\\test\\HORNED LARK\\1.jpg'/></div><div class=\"zoom\"><img style='width: 100px; height: 100px; margin: 1px; float: left; border: 0px solid black;'title=['HORNED LARK'] src='dataset_birds\\test\\HORNED LARK\\2.jpg'/></div><div class=\"zoom\"><img style='width: 100px; height: 100px; margin: 1px; float: left; border: 0px solid black;'title=['HORNED LARK'] src='dataset_birds\\test\\HORNED LARK\\3.jpg'/></div><div class=\"zoom\"><img style='width: 100px; height: 100px; margin: 1px; float: left; border: 0px solid black;'title=['HORNED LARK'] src='dataset_birds\\test\\HORNED LARK\\4.jpg'/></div><div class=\"zoom\"><img style='width: 100px; height: 100px; margin: 1px; float: left; border: 0px solid black;'title=['HORNED LARK'] src='dataset_birds\\test\\HORNED LARK\\5.jpg'/></div>"
      ],
      "text/plain": [
       "<IPython.core.display.HTML object>"
      ]
     },
     "metadata": {},
     "output_type": "display_data"
    },
    {
     "name": "stdout",
     "output_type": "stream",
     "text": [
      "Drawing HORNED SUNGEM\n"
     ]
    },
    {
     "data": {
      "text/html": [
       "<div class=\"zoom\"><img style='width: 100px; height: 100px; margin: 1px; float: left; border: 0px solid black;'title=['HORNED SUNGEM'] src='dataset_birds\\test\\HORNED SUNGEM\\1.jpg'/></div><div class=\"zoom\"><img style='width: 100px; height: 100px; margin: 1px; float: left; border: 0px solid black;'title=['HORNED SUNGEM'] src='dataset_birds\\test\\HORNED SUNGEM\\2.jpg'/></div><div class=\"zoom\"><img style='width: 100px; height: 100px; margin: 1px; float: left; border: 0px solid black;'title=['HORNED SUNGEM'] src='dataset_birds\\test\\HORNED SUNGEM\\3.jpg'/></div><div class=\"zoom\"><img style='width: 100px; height: 100px; margin: 1px; float: left; border: 0px solid black;'title=['HORNED SUNGEM'] src='dataset_birds\\test\\HORNED SUNGEM\\4.jpg'/></div><div class=\"zoom\"><img style='width: 100px; height: 100px; margin: 1px; float: left; border: 0px solid black;'title=['HORNED SUNGEM'] src='dataset_birds\\test\\HORNED SUNGEM\\5.jpg'/></div>"
      ],
      "text/plain": [
       "<IPython.core.display.HTML object>"
      ]
     },
     "metadata": {},
     "output_type": "display_data"
    },
    {
     "name": "stdout",
     "output_type": "stream",
     "text": [
      "Drawing HOUSE FINCH\n"
     ]
    },
    {
     "data": {
      "text/html": [
       "<div class=\"zoom\"><img style='width: 100px; height: 100px; margin: 1px; float: left; border: 0px solid black;'title=['HOUSE FINCH'] src='dataset_birds\\test\\HOUSE FINCH\\1.jpg'/></div><div class=\"zoom\"><img style='width: 100px; height: 100px; margin: 1px; float: left; border: 0px solid black;'title=['HOUSE FINCH'] src='dataset_birds\\test\\HOUSE FINCH\\2.jpg'/></div><div class=\"zoom\"><img style='width: 100px; height: 100px; margin: 1px; float: left; border: 0px solid black;'title=['HOUSE FINCH'] src='dataset_birds\\test\\HOUSE FINCH\\3.jpg'/></div><div class=\"zoom\"><img style='width: 100px; height: 100px; margin: 1px; float: left; border: 0px solid black;'title=['HOUSE FINCH'] src='dataset_birds\\test\\HOUSE FINCH\\4.jpg'/></div><div class=\"zoom\"><img style='width: 100px; height: 100px; margin: 1px; float: left; border: 0px solid black;'title=['HOUSE FINCH'] src='dataset_birds\\test\\HOUSE FINCH\\5.jpg'/></div>"
      ],
      "text/plain": [
       "<IPython.core.display.HTML object>"
      ]
     },
     "metadata": {},
     "output_type": "display_data"
    },
    {
     "name": "stdout",
     "output_type": "stream",
     "text": [
      "Drawing HOUSE SPARROW\n"
     ]
    },
    {
     "data": {
      "text/html": [
       "<div class=\"zoom\"><img style='width: 100px; height: 100px; margin: 1px; float: left; border: 0px solid black;'title=['HOUSE SPARROW'] src='dataset_birds\\test\\HOUSE SPARROW\\1.jpg'/></div><div class=\"zoom\"><img style='width: 100px; height: 100px; margin: 1px; float: left; border: 0px solid black;'title=['HOUSE SPARROW'] src='dataset_birds\\test\\HOUSE SPARROW\\2.jpg'/></div><div class=\"zoom\"><img style='width: 100px; height: 100px; margin: 1px; float: left; border: 0px solid black;'title=['HOUSE SPARROW'] src='dataset_birds\\test\\HOUSE SPARROW\\3.jpg'/></div><div class=\"zoom\"><img style='width: 100px; height: 100px; margin: 1px; float: left; border: 0px solid black;'title=['HOUSE SPARROW'] src='dataset_birds\\test\\HOUSE SPARROW\\4.jpg'/></div><div class=\"zoom\"><img style='width: 100px; height: 100px; margin: 1px; float: left; border: 0px solid black;'title=['HOUSE SPARROW'] src='dataset_birds\\test\\HOUSE SPARROW\\5.jpg'/></div>"
      ],
      "text/plain": [
       "<IPython.core.display.HTML object>"
      ]
     },
     "metadata": {},
     "output_type": "display_data"
    },
    {
     "name": "stdout",
     "output_type": "stream",
     "text": [
      "Drawing HYACINTH MACAW\n"
     ]
    },
    {
     "data": {
      "text/html": [
       "<div class=\"zoom\"><img style='width: 100px; height: 100px; margin: 1px; float: left; border: 0px solid black;'title=['HYACINTH MACAW'] src='dataset_birds\\test\\HYACINTH MACAW\\1.jpg'/></div><div class=\"zoom\"><img style='width: 100px; height: 100px; margin: 1px; float: left; border: 0px solid black;'title=['HYACINTH MACAW'] src='dataset_birds\\test\\HYACINTH MACAW\\2.jpg'/></div><div class=\"zoom\"><img style='width: 100px; height: 100px; margin: 1px; float: left; border: 0px solid black;'title=['HYACINTH MACAW'] src='dataset_birds\\test\\HYACINTH MACAW\\3.jpg'/></div><div class=\"zoom\"><img style='width: 100px; height: 100px; margin: 1px; float: left; border: 0px solid black;'title=['HYACINTH MACAW'] src='dataset_birds\\test\\HYACINTH MACAW\\4.jpg'/></div><div class=\"zoom\"><img style='width: 100px; height: 100px; margin: 1px; float: left; border: 0px solid black;'title=['HYACINTH MACAW'] src='dataset_birds\\test\\HYACINTH MACAW\\5.jpg'/></div>"
      ],
      "text/plain": [
       "<IPython.core.display.HTML object>"
      ]
     },
     "metadata": {},
     "output_type": "display_data"
    },
    {
     "name": "stdout",
     "output_type": "stream",
     "text": [
      "Drawing IBERIAN MAGPIE\n"
     ]
    },
    {
     "data": {
      "text/html": [
       "<div class=\"zoom\"><img style='width: 100px; height: 100px; margin: 1px; float: left; border: 0px solid black;'title=['IBERIAN MAGPIE'] src='dataset_birds\\test\\IBERIAN MAGPIE\\1.jpg'/></div><div class=\"zoom\"><img style='width: 100px; height: 100px; margin: 1px; float: left; border: 0px solid black;'title=['IBERIAN MAGPIE'] src='dataset_birds\\test\\IBERIAN MAGPIE\\2.jpg'/></div><div class=\"zoom\"><img style='width: 100px; height: 100px; margin: 1px; float: left; border: 0px solid black;'title=['IBERIAN MAGPIE'] src='dataset_birds\\test\\IBERIAN MAGPIE\\3.jpg'/></div><div class=\"zoom\"><img style='width: 100px; height: 100px; margin: 1px; float: left; border: 0px solid black;'title=['IBERIAN MAGPIE'] src='dataset_birds\\test\\IBERIAN MAGPIE\\4.jpg'/></div><div class=\"zoom\"><img style='width: 100px; height: 100px; margin: 1px; float: left; border: 0px solid black;'title=['IBERIAN MAGPIE'] src='dataset_birds\\test\\IBERIAN MAGPIE\\5.jpg'/></div>"
      ],
      "text/plain": [
       "<IPython.core.display.HTML object>"
      ]
     },
     "metadata": {},
     "output_type": "display_data"
    },
    {
     "name": "stdout",
     "output_type": "stream",
     "text": [
      "Drawing IBISBILL\n"
     ]
    },
    {
     "data": {
      "text/html": [
       "<div class=\"zoom\"><img style='width: 100px; height: 100px; margin: 1px; float: left; border: 0px solid black;'title=['IBISBILL'] src='dataset_birds\\test\\IBISBILL\\1.jpg'/></div><div class=\"zoom\"><img style='width: 100px; height: 100px; margin: 1px; float: left; border: 0px solid black;'title=['IBISBILL'] src='dataset_birds\\test\\IBISBILL\\2.jpg'/></div><div class=\"zoom\"><img style='width: 100px; height: 100px; margin: 1px; float: left; border: 0px solid black;'title=['IBISBILL'] src='dataset_birds\\test\\IBISBILL\\3.jpg'/></div><div class=\"zoom\"><img style='width: 100px; height: 100px; margin: 1px; float: left; border: 0px solid black;'title=['IBISBILL'] src='dataset_birds\\test\\IBISBILL\\4.jpg'/></div><div class=\"zoom\"><img style='width: 100px; height: 100px; margin: 1px; float: left; border: 0px solid black;'title=['IBISBILL'] src='dataset_birds\\test\\IBISBILL\\5.jpg'/></div>"
      ],
      "text/plain": [
       "<IPython.core.display.HTML object>"
      ]
     },
     "metadata": {},
     "output_type": "display_data"
    },
    {
     "name": "stdout",
     "output_type": "stream",
     "text": [
      "Drawing IMPERIAL SHAQ\n"
     ]
    },
    {
     "data": {
      "text/html": [
       "<div class=\"zoom\"><img style='width: 100px; height: 100px; margin: 1px; float: left; border: 0px solid black;'title=['IMPERIAL SHAQ'] src='dataset_birds\\test\\IMPERIAL SHAQ\\1.jpg'/></div><div class=\"zoom\"><img style='width: 100px; height: 100px; margin: 1px; float: left; border: 0px solid black;'title=['IMPERIAL SHAQ'] src='dataset_birds\\test\\IMPERIAL SHAQ\\2.jpg'/></div><div class=\"zoom\"><img style='width: 100px; height: 100px; margin: 1px; float: left; border: 0px solid black;'title=['IMPERIAL SHAQ'] src='dataset_birds\\test\\IMPERIAL SHAQ\\3.jpg'/></div><div class=\"zoom\"><img style='width: 100px; height: 100px; margin: 1px; float: left; border: 0px solid black;'title=['IMPERIAL SHAQ'] src='dataset_birds\\test\\IMPERIAL SHAQ\\4.jpg'/></div><div class=\"zoom\"><img style='width: 100px; height: 100px; margin: 1px; float: left; border: 0px solid black;'title=['IMPERIAL SHAQ'] src='dataset_birds\\test\\IMPERIAL SHAQ\\5.jpg'/></div>"
      ],
      "text/plain": [
       "<IPython.core.display.HTML object>"
      ]
     },
     "metadata": {},
     "output_type": "display_data"
    },
    {
     "name": "stdout",
     "output_type": "stream",
     "text": [
      "Drawing INCA TERN\n"
     ]
    },
    {
     "data": {
      "text/html": [
       "<div class=\"zoom\"><img style='width: 100px; height: 100px; margin: 1px; float: left; border: 0px solid black;'title=['INCA TERN'] src='dataset_birds\\test\\INCA TERN\\1.jpg'/></div><div class=\"zoom\"><img style='width: 100px; height: 100px; margin: 1px; float: left; border: 0px solid black;'title=['INCA TERN'] src='dataset_birds\\test\\INCA TERN\\2.jpg'/></div><div class=\"zoom\"><img style='width: 100px; height: 100px; margin: 1px; float: left; border: 0px solid black;'title=['INCA TERN'] src='dataset_birds\\test\\INCA TERN\\3.jpg'/></div><div class=\"zoom\"><img style='width: 100px; height: 100px; margin: 1px; float: left; border: 0px solid black;'title=['INCA TERN'] src='dataset_birds\\test\\INCA TERN\\4.jpg'/></div><div class=\"zoom\"><img style='width: 100px; height: 100px; margin: 1px; float: left; border: 0px solid black;'title=['INCA TERN'] src='dataset_birds\\test\\INCA TERN\\5.jpg'/></div>"
      ],
      "text/plain": [
       "<IPython.core.display.HTML object>"
      ]
     },
     "metadata": {},
     "output_type": "display_data"
    },
    {
     "name": "stdout",
     "output_type": "stream",
     "text": [
      "Drawing INDIAN BUSTARD\n"
     ]
    },
    {
     "data": {
      "text/html": [
       "<div class=\"zoom\"><img style='width: 100px; height: 100px; margin: 1px; float: left; border: 0px solid black;'title=['INDIAN BUSTARD'] src='dataset_birds\\test\\INDIAN BUSTARD\\1.jpg'/></div><div class=\"zoom\"><img style='width: 100px; height: 100px; margin: 1px; float: left; border: 0px solid black;'title=['INDIAN BUSTARD'] src='dataset_birds\\test\\INDIAN BUSTARD\\2.jpg'/></div><div class=\"zoom\"><img style='width: 100px; height: 100px; margin: 1px; float: left; border: 0px solid black;'title=['INDIAN BUSTARD'] src='dataset_birds\\test\\INDIAN BUSTARD\\3.jpg'/></div><div class=\"zoom\"><img style='width: 100px; height: 100px; margin: 1px; float: left; border: 0px solid black;'title=['INDIAN BUSTARD'] src='dataset_birds\\test\\INDIAN BUSTARD\\4.jpg'/></div><div class=\"zoom\"><img style='width: 100px; height: 100px; margin: 1px; float: left; border: 0px solid black;'title=['INDIAN BUSTARD'] src='dataset_birds\\test\\INDIAN BUSTARD\\5.jpg'/></div>"
      ],
      "text/plain": [
       "<IPython.core.display.HTML object>"
      ]
     },
     "metadata": {},
     "output_type": "display_data"
    },
    {
     "name": "stdout",
     "output_type": "stream",
     "text": [
      "Drawing INDIAN PITTA\n"
     ]
    },
    {
     "data": {
      "text/html": [
       "<div class=\"zoom\"><img style='width: 100px; height: 100px; margin: 1px; float: left; border: 0px solid black;'title=['INDIAN PITTA'] src='dataset_birds\\test\\INDIAN PITTA\\1.jpg'/></div><div class=\"zoom\"><img style='width: 100px; height: 100px; margin: 1px; float: left; border: 0px solid black;'title=['INDIAN PITTA'] src='dataset_birds\\test\\INDIAN PITTA\\2.jpg'/></div><div class=\"zoom\"><img style='width: 100px; height: 100px; margin: 1px; float: left; border: 0px solid black;'title=['INDIAN PITTA'] src='dataset_birds\\test\\INDIAN PITTA\\3.jpg'/></div><div class=\"zoom\"><img style='width: 100px; height: 100px; margin: 1px; float: left; border: 0px solid black;'title=['INDIAN PITTA'] src='dataset_birds\\test\\INDIAN PITTA\\4.jpg'/></div><div class=\"zoom\"><img style='width: 100px; height: 100px; margin: 1px; float: left; border: 0px solid black;'title=['INDIAN PITTA'] src='dataset_birds\\test\\INDIAN PITTA\\5.jpg'/></div>"
      ],
      "text/plain": [
       "<IPython.core.display.HTML object>"
      ]
     },
     "metadata": {},
     "output_type": "display_data"
    },
    {
     "name": "stdout",
     "output_type": "stream",
     "text": [
      "Drawing INDIAN ROLLER\n"
     ]
    },
    {
     "data": {
      "text/html": [
       "<div class=\"zoom\"><img style='width: 100px; height: 100px; margin: 1px; float: left; border: 0px solid black;'title=['INDIAN ROLLER'] src='dataset_birds\\test\\INDIAN ROLLER\\1.jpg'/></div><div class=\"zoom\"><img style='width: 100px; height: 100px; margin: 1px; float: left; border: 0px solid black;'title=['INDIAN ROLLER'] src='dataset_birds\\test\\INDIAN ROLLER\\2.jpg'/></div><div class=\"zoom\"><img style='width: 100px; height: 100px; margin: 1px; float: left; border: 0px solid black;'title=['INDIAN ROLLER'] src='dataset_birds\\test\\INDIAN ROLLER\\3.jpg'/></div><div class=\"zoom\"><img style='width: 100px; height: 100px; margin: 1px; float: left; border: 0px solid black;'title=['INDIAN ROLLER'] src='dataset_birds\\test\\INDIAN ROLLER\\4.jpg'/></div><div class=\"zoom\"><img style='width: 100px; height: 100px; margin: 1px; float: left; border: 0px solid black;'title=['INDIAN ROLLER'] src='dataset_birds\\test\\INDIAN ROLLER\\5.jpg'/></div>"
      ],
      "text/plain": [
       "<IPython.core.display.HTML object>"
      ]
     },
     "metadata": {},
     "output_type": "display_data"
    },
    {
     "name": "stdout",
     "output_type": "stream",
     "text": [
      "Drawing INDIAN VULTURE\n"
     ]
    },
    {
     "data": {
      "text/html": [
       "<div class=\"zoom\"><img style='width: 100px; height: 100px; margin: 1px; float: left; border: 0px solid black;'title=['INDIAN VULTURE'] src='dataset_birds\\test\\INDIAN VULTURE\\1.jpg'/></div><div class=\"zoom\"><img style='width: 100px; height: 100px; margin: 1px; float: left; border: 0px solid black;'title=['INDIAN VULTURE'] src='dataset_birds\\test\\INDIAN VULTURE\\2.jpg'/></div><div class=\"zoom\"><img style='width: 100px; height: 100px; margin: 1px; float: left; border: 0px solid black;'title=['INDIAN VULTURE'] src='dataset_birds\\test\\INDIAN VULTURE\\3.jpg'/></div><div class=\"zoom\"><img style='width: 100px; height: 100px; margin: 1px; float: left; border: 0px solid black;'title=['INDIAN VULTURE'] src='dataset_birds\\test\\INDIAN VULTURE\\4.jpg'/></div><div class=\"zoom\"><img style='width: 100px; height: 100px; margin: 1px; float: left; border: 0px solid black;'title=['INDIAN VULTURE'] src='dataset_birds\\test\\INDIAN VULTURE\\5.jpg'/></div>"
      ],
      "text/plain": [
       "<IPython.core.display.HTML object>"
      ]
     },
     "metadata": {},
     "output_type": "display_data"
    },
    {
     "name": "stdout",
     "output_type": "stream",
     "text": [
      "Drawing INDIGO BUNTING\n"
     ]
    },
    {
     "data": {
      "text/html": [
       "<div class=\"zoom\"><img style='width: 100px; height: 100px; margin: 1px; float: left; border: 0px solid black;'title=['INDIGO BUNTING'] src='dataset_birds\\test\\INDIGO BUNTING\\1.jpg'/></div><div class=\"zoom\"><img style='width: 100px; height: 100px; margin: 1px; float: left; border: 0px solid black;'title=['INDIGO BUNTING'] src='dataset_birds\\test\\INDIGO BUNTING\\2.jpg'/></div><div class=\"zoom\"><img style='width: 100px; height: 100px; margin: 1px; float: left; border: 0px solid black;'title=['INDIGO BUNTING'] src='dataset_birds\\test\\INDIGO BUNTING\\3.jpg'/></div><div class=\"zoom\"><img style='width: 100px; height: 100px; margin: 1px; float: left; border: 0px solid black;'title=['INDIGO BUNTING'] src='dataset_birds\\test\\INDIGO BUNTING\\4.jpg'/></div><div class=\"zoom\"><img style='width: 100px; height: 100px; margin: 1px; float: left; border: 0px solid black;'title=['INDIGO BUNTING'] src='dataset_birds\\test\\INDIGO BUNTING\\5.jpg'/></div>"
      ],
      "text/plain": [
       "<IPython.core.display.HTML object>"
      ]
     },
     "metadata": {},
     "output_type": "display_data"
    },
    {
     "name": "stdout",
     "output_type": "stream",
     "text": [
      "Drawing INDIGO FLYCATCHER\n"
     ]
    },
    {
     "data": {
      "text/html": [
       "<div class=\"zoom\"><img style='width: 100px; height: 100px; margin: 1px; float: left; border: 0px solid black;'title=['INDIGO FLYCATCHER'] src='dataset_birds\\test\\INDIGO FLYCATCHER\\1.jpg'/></div><div class=\"zoom\"><img style='width: 100px; height: 100px; margin: 1px; float: left; border: 0px solid black;'title=['INDIGO FLYCATCHER'] src='dataset_birds\\test\\INDIGO FLYCATCHER\\2.jpg'/></div><div class=\"zoom\"><img style='width: 100px; height: 100px; margin: 1px; float: left; border: 0px solid black;'title=['INDIGO FLYCATCHER'] src='dataset_birds\\test\\INDIGO FLYCATCHER\\3.jpg'/></div><div class=\"zoom\"><img style='width: 100px; height: 100px; margin: 1px; float: left; border: 0px solid black;'title=['INDIGO FLYCATCHER'] src='dataset_birds\\test\\INDIGO FLYCATCHER\\4.jpg'/></div><div class=\"zoom\"><img style='width: 100px; height: 100px; margin: 1px; float: left; border: 0px solid black;'title=['INDIGO FLYCATCHER'] src='dataset_birds\\test\\INDIGO FLYCATCHER\\5.jpg'/></div>"
      ],
      "text/plain": [
       "<IPython.core.display.HTML object>"
      ]
     },
     "metadata": {},
     "output_type": "display_data"
    },
    {
     "name": "stdout",
     "output_type": "stream",
     "text": [
      "Drawing INLAND DOTTEREL\n"
     ]
    },
    {
     "data": {
      "text/html": [
       "<div class=\"zoom\"><img style='width: 100px; height: 100px; margin: 1px; float: left; border: 0px solid black;'title=['INLAND DOTTEREL'] src='dataset_birds\\test\\INLAND DOTTEREL\\1.jpg'/></div><div class=\"zoom\"><img style='width: 100px; height: 100px; margin: 1px; float: left; border: 0px solid black;'title=['INLAND DOTTEREL'] src='dataset_birds\\test\\INLAND DOTTEREL\\2.jpg'/></div><div class=\"zoom\"><img style='width: 100px; height: 100px; margin: 1px; float: left; border: 0px solid black;'title=['INLAND DOTTEREL'] src='dataset_birds\\test\\INLAND DOTTEREL\\3.jpg'/></div><div class=\"zoom\"><img style='width: 100px; height: 100px; margin: 1px; float: left; border: 0px solid black;'title=['INLAND DOTTEREL'] src='dataset_birds\\test\\INLAND DOTTEREL\\4.jpg'/></div><div class=\"zoom\"><img style='width: 100px; height: 100px; margin: 1px; float: left; border: 0px solid black;'title=['INLAND DOTTEREL'] src='dataset_birds\\test\\INLAND DOTTEREL\\5.jpg'/></div>"
      ],
      "text/plain": [
       "<IPython.core.display.HTML object>"
      ]
     },
     "metadata": {},
     "output_type": "display_data"
    },
    {
     "name": "stdout",
     "output_type": "stream",
     "text": [
      "Drawing IVORY BILLED ARACARI\n"
     ]
    },
    {
     "data": {
      "text/html": [
       "<div class=\"zoom\"><img style='width: 100px; height: 100px; margin: 1px; float: left; border: 0px solid black;'title=['IVORY BILLED ARACARI'] src='dataset_birds\\test\\IVORY BILLED ARACARI\\1.jpg'/></div><div class=\"zoom\"><img style='width: 100px; height: 100px; margin: 1px; float: left; border: 0px solid black;'title=['IVORY BILLED ARACARI'] src='dataset_birds\\test\\IVORY BILLED ARACARI\\2.jpg'/></div><div class=\"zoom\"><img style='width: 100px; height: 100px; margin: 1px; float: left; border: 0px solid black;'title=['IVORY BILLED ARACARI'] src='dataset_birds\\test\\IVORY BILLED ARACARI\\3.jpg'/></div><div class=\"zoom\"><img style='width: 100px; height: 100px; margin: 1px; float: left; border: 0px solid black;'title=['IVORY BILLED ARACARI'] src='dataset_birds\\test\\IVORY BILLED ARACARI\\4.jpg'/></div><div class=\"zoom\"><img style='width: 100px; height: 100px; margin: 1px; float: left; border: 0px solid black;'title=['IVORY BILLED ARACARI'] src='dataset_birds\\test\\IVORY BILLED ARACARI\\5.jpg'/></div>"
      ],
      "text/plain": [
       "<IPython.core.display.HTML object>"
      ]
     },
     "metadata": {},
     "output_type": "display_data"
    },
    {
     "name": "stdout",
     "output_type": "stream",
     "text": [
      "Drawing IVORY GULL\n"
     ]
    },
    {
     "data": {
      "text/html": [
       "<div class=\"zoom\"><img style='width: 100px; height: 100px; margin: 1px; float: left; border: 0px solid black;'title=['IVORY GULL'] src='dataset_birds\\test\\IVORY GULL\\1.jpg'/></div><div class=\"zoom\"><img style='width: 100px; height: 100px; margin: 1px; float: left; border: 0px solid black;'title=['IVORY GULL'] src='dataset_birds\\test\\IVORY GULL\\2.jpg'/></div><div class=\"zoom\"><img style='width: 100px; height: 100px; margin: 1px; float: left; border: 0px solid black;'title=['IVORY GULL'] src='dataset_birds\\test\\IVORY GULL\\3.jpg'/></div><div class=\"zoom\"><img style='width: 100px; height: 100px; margin: 1px; float: left; border: 0px solid black;'title=['IVORY GULL'] src='dataset_birds\\test\\IVORY GULL\\4.jpg'/></div><div class=\"zoom\"><img style='width: 100px; height: 100px; margin: 1px; float: left; border: 0px solid black;'title=['IVORY GULL'] src='dataset_birds\\test\\IVORY GULL\\5.jpg'/></div>"
      ],
      "text/plain": [
       "<IPython.core.display.HTML object>"
      ]
     },
     "metadata": {},
     "output_type": "display_data"
    },
    {
     "name": "stdout",
     "output_type": "stream",
     "text": [
      "Drawing IWI\n"
     ]
    },
    {
     "data": {
      "text/html": [
       "<div class=\"zoom\"><img style='width: 100px; height: 100px; margin: 1px; float: left; border: 0px solid black;'title=['IWI'] src='dataset_birds\\test\\IWI\\1.jpg'/></div><div class=\"zoom\"><img style='width: 100px; height: 100px; margin: 1px; float: left; border: 0px solid black;'title=['IWI'] src='dataset_birds\\test\\IWI\\2.jpg'/></div><div class=\"zoom\"><img style='width: 100px; height: 100px; margin: 1px; float: left; border: 0px solid black;'title=['IWI'] src='dataset_birds\\test\\IWI\\3.jpg'/></div><div class=\"zoom\"><img style='width: 100px; height: 100px; margin: 1px; float: left; border: 0px solid black;'title=['IWI'] src='dataset_birds\\test\\IWI\\4.jpg'/></div><div class=\"zoom\"><img style='width: 100px; height: 100px; margin: 1px; float: left; border: 0px solid black;'title=['IWI'] src='dataset_birds\\test\\IWI\\5.jpg'/></div>"
      ],
      "text/plain": [
       "<IPython.core.display.HTML object>"
      ]
     },
     "metadata": {},
     "output_type": "display_data"
    },
    {
     "name": "stdout",
     "output_type": "stream",
     "text": [
      "Drawing JABIRU\n"
     ]
    },
    {
     "data": {
      "text/html": [
       "<div class=\"zoom\"><img style='width: 100px; height: 100px; margin: 1px; float: left; border: 0px solid black;'title=['JABIRU'] src='dataset_birds\\test\\JABIRU\\1.jpg'/></div><div class=\"zoom\"><img style='width: 100px; height: 100px; margin: 1px; float: left; border: 0px solid black;'title=['JABIRU'] src='dataset_birds\\test\\JABIRU\\2.jpg'/></div><div class=\"zoom\"><img style='width: 100px; height: 100px; margin: 1px; float: left; border: 0px solid black;'title=['JABIRU'] src='dataset_birds\\test\\JABIRU\\3.jpg'/></div><div class=\"zoom\"><img style='width: 100px; height: 100px; margin: 1px; float: left; border: 0px solid black;'title=['JABIRU'] src='dataset_birds\\test\\JABIRU\\4.jpg'/></div><div class=\"zoom\"><img style='width: 100px; height: 100px; margin: 1px; float: left; border: 0px solid black;'title=['JABIRU'] src='dataset_birds\\test\\JABIRU\\5.jpg'/></div>"
      ],
      "text/plain": [
       "<IPython.core.display.HTML object>"
      ]
     },
     "metadata": {},
     "output_type": "display_data"
    },
    {
     "name": "stdout",
     "output_type": "stream",
     "text": [
      "Drawing JACK SNIPE\n"
     ]
    },
    {
     "data": {
      "text/html": [
       "<div class=\"zoom\"><img style='width: 100px; height: 100px; margin: 1px; float: left; border: 0px solid black;'title=['JACK SNIPE'] src='dataset_birds\\test\\JACK SNIPE\\1.jpg'/></div><div class=\"zoom\"><img style='width: 100px; height: 100px; margin: 1px; float: left; border: 0px solid black;'title=['JACK SNIPE'] src='dataset_birds\\test\\JACK SNIPE\\2.jpg'/></div><div class=\"zoom\"><img style='width: 100px; height: 100px; margin: 1px; float: left; border: 0px solid black;'title=['JACK SNIPE'] src='dataset_birds\\test\\JACK SNIPE\\3.jpg'/></div><div class=\"zoom\"><img style='width: 100px; height: 100px; margin: 1px; float: left; border: 0px solid black;'title=['JACK SNIPE'] src='dataset_birds\\test\\JACK SNIPE\\4.jpg'/></div><div class=\"zoom\"><img style='width: 100px; height: 100px; margin: 1px; float: left; border: 0px solid black;'title=['JACK SNIPE'] src='dataset_birds\\test\\JACK SNIPE\\5.jpg'/></div>"
      ],
      "text/plain": [
       "<IPython.core.display.HTML object>"
      ]
     },
     "metadata": {},
     "output_type": "display_data"
    },
    {
     "name": "stdout",
     "output_type": "stream",
     "text": [
      "Drawing JACOBIN PIGEON\n"
     ]
    },
    {
     "data": {
      "text/html": [
       "<div class=\"zoom\"><img style='width: 100px; height: 100px; margin: 1px; float: left; border: 0px solid black;'title=['JACOBIN PIGEON'] src='dataset_birds\\test\\JACOBIN PIGEON\\1.jpg'/></div><div class=\"zoom\"><img style='width: 100px; height: 100px; margin: 1px; float: left; border: 0px solid black;'title=['JACOBIN PIGEON'] src='dataset_birds\\test\\JACOBIN PIGEON\\2.jpg'/></div><div class=\"zoom\"><img style='width: 100px; height: 100px; margin: 1px; float: left; border: 0px solid black;'title=['JACOBIN PIGEON'] src='dataset_birds\\test\\JACOBIN PIGEON\\3.jpg'/></div><div class=\"zoom\"><img style='width: 100px; height: 100px; margin: 1px; float: left; border: 0px solid black;'title=['JACOBIN PIGEON'] src='dataset_birds\\test\\JACOBIN PIGEON\\4.jpg'/></div><div class=\"zoom\"><img style='width: 100px; height: 100px; margin: 1px; float: left; border: 0px solid black;'title=['JACOBIN PIGEON'] src='dataset_birds\\test\\JACOBIN PIGEON\\5.jpg'/></div>"
      ],
      "text/plain": [
       "<IPython.core.display.HTML object>"
      ]
     },
     "metadata": {},
     "output_type": "display_data"
    },
    {
     "name": "stdout",
     "output_type": "stream",
     "text": [
      "Drawing JANDAYA PARAKEET\n"
     ]
    },
    {
     "data": {
      "text/html": [
       "<div class=\"zoom\"><img style='width: 100px; height: 100px; margin: 1px; float: left; border: 0px solid black;'title=['JANDAYA PARAKEET'] src='dataset_birds\\test\\JANDAYA PARAKEET\\1.jpg'/></div><div class=\"zoom\"><img style='width: 100px; height: 100px; margin: 1px; float: left; border: 0px solid black;'title=['JANDAYA PARAKEET'] src='dataset_birds\\test\\JANDAYA PARAKEET\\2.jpg'/></div><div class=\"zoom\"><img style='width: 100px; height: 100px; margin: 1px; float: left; border: 0px solid black;'title=['JANDAYA PARAKEET'] src='dataset_birds\\test\\JANDAYA PARAKEET\\3.jpg'/></div><div class=\"zoom\"><img style='width: 100px; height: 100px; margin: 1px; float: left; border: 0px solid black;'title=['JANDAYA PARAKEET'] src='dataset_birds\\test\\JANDAYA PARAKEET\\4.jpg'/></div><div class=\"zoom\"><img style='width: 100px; height: 100px; margin: 1px; float: left; border: 0px solid black;'title=['JANDAYA PARAKEET'] src='dataset_birds\\test\\JANDAYA PARAKEET\\5.jpg'/></div>"
      ],
      "text/plain": [
       "<IPython.core.display.HTML object>"
      ]
     },
     "metadata": {},
     "output_type": "display_data"
    },
    {
     "name": "stdout",
     "output_type": "stream",
     "text": [
      "Drawing JAPANESE ROBIN\n"
     ]
    },
    {
     "data": {
      "text/html": [
       "<div class=\"zoom\"><img style='width: 100px; height: 100px; margin: 1px; float: left; border: 0px solid black;'title=['JAPANESE ROBIN'] src='dataset_birds\\test\\JAPANESE ROBIN\\1.jpg'/></div><div class=\"zoom\"><img style='width: 100px; height: 100px; margin: 1px; float: left; border: 0px solid black;'title=['JAPANESE ROBIN'] src='dataset_birds\\test\\JAPANESE ROBIN\\2.jpg'/></div><div class=\"zoom\"><img style='width: 100px; height: 100px; margin: 1px; float: left; border: 0px solid black;'title=['JAPANESE ROBIN'] src='dataset_birds\\test\\JAPANESE ROBIN\\3.jpg'/></div><div class=\"zoom\"><img style='width: 100px; height: 100px; margin: 1px; float: left; border: 0px solid black;'title=['JAPANESE ROBIN'] src='dataset_birds\\test\\JAPANESE ROBIN\\4.jpg'/></div><div class=\"zoom\"><img style='width: 100px; height: 100px; margin: 1px; float: left; border: 0px solid black;'title=['JAPANESE ROBIN'] src='dataset_birds\\test\\JAPANESE ROBIN\\5.jpg'/></div>"
      ],
      "text/plain": [
       "<IPython.core.display.HTML object>"
      ]
     },
     "metadata": {},
     "output_type": "display_data"
    },
    {
     "name": "stdout",
     "output_type": "stream",
     "text": [
      "Drawing JAVA SPARROW\n"
     ]
    },
    {
     "data": {
      "text/html": [
       "<div class=\"zoom\"><img style='width: 100px; height: 100px; margin: 1px; float: left; border: 0px solid black;'title=['JAVA SPARROW'] src='dataset_birds\\test\\JAVA SPARROW\\1.jpg'/></div><div class=\"zoom\"><img style='width: 100px; height: 100px; margin: 1px; float: left; border: 0px solid black;'title=['JAVA SPARROW'] src='dataset_birds\\test\\JAVA SPARROW\\2.jpg'/></div><div class=\"zoom\"><img style='width: 100px; height: 100px; margin: 1px; float: left; border: 0px solid black;'title=['JAVA SPARROW'] src='dataset_birds\\test\\JAVA SPARROW\\3.jpg'/></div><div class=\"zoom\"><img style='width: 100px; height: 100px; margin: 1px; float: left; border: 0px solid black;'title=['JAVA SPARROW'] src='dataset_birds\\test\\JAVA SPARROW\\4.jpg'/></div><div class=\"zoom\"><img style='width: 100px; height: 100px; margin: 1px; float: left; border: 0px solid black;'title=['JAVA SPARROW'] src='dataset_birds\\test\\JAVA SPARROW\\5.jpg'/></div>"
      ],
      "text/plain": [
       "<IPython.core.display.HTML object>"
      ]
     },
     "metadata": {},
     "output_type": "display_data"
    },
    {
     "name": "stdout",
     "output_type": "stream",
     "text": [
      "Drawing JOCOTOCO ANTPITTA\n"
     ]
    },
    {
     "data": {
      "text/html": [
       "<div class=\"zoom\"><img style='width: 100px; height: 100px; margin: 1px; float: left; border: 0px solid black;'title=['JOCOTOCO ANTPITTA'] src='dataset_birds\\test\\JOCOTOCO ANTPITTA\\1.jpg'/></div><div class=\"zoom\"><img style='width: 100px; height: 100px; margin: 1px; float: left; border: 0px solid black;'title=['JOCOTOCO ANTPITTA'] src='dataset_birds\\test\\JOCOTOCO ANTPITTA\\2.jpg'/></div><div class=\"zoom\"><img style='width: 100px; height: 100px; margin: 1px; float: left; border: 0px solid black;'title=['JOCOTOCO ANTPITTA'] src='dataset_birds\\test\\JOCOTOCO ANTPITTA\\3.jpg'/></div><div class=\"zoom\"><img style='width: 100px; height: 100px; margin: 1px; float: left; border: 0px solid black;'title=['JOCOTOCO ANTPITTA'] src='dataset_birds\\test\\JOCOTOCO ANTPITTA\\4.jpg'/></div><div class=\"zoom\"><img style='width: 100px; height: 100px; margin: 1px; float: left; border: 0px solid black;'title=['JOCOTOCO ANTPITTA'] src='dataset_birds\\test\\JOCOTOCO ANTPITTA\\5.jpg'/></div>"
      ],
      "text/plain": [
       "<IPython.core.display.HTML object>"
      ]
     },
     "metadata": {},
     "output_type": "display_data"
    },
    {
     "name": "stdout",
     "output_type": "stream",
     "text": [
      "Drawing KAGU\n"
     ]
    },
    {
     "data": {
      "text/html": [
       "<div class=\"zoom\"><img style='width: 100px; height: 100px; margin: 1px; float: left; border: 0px solid black;'title=['KAGU'] src='dataset_birds\\test\\KAGU\\1.jpg'/></div><div class=\"zoom\"><img style='width: 100px; height: 100px; margin: 1px; float: left; border: 0px solid black;'title=['KAGU'] src='dataset_birds\\test\\KAGU\\2.jpg'/></div><div class=\"zoom\"><img style='width: 100px; height: 100px; margin: 1px; float: left; border: 0px solid black;'title=['KAGU'] src='dataset_birds\\test\\KAGU\\3.jpg'/></div><div class=\"zoom\"><img style='width: 100px; height: 100px; margin: 1px; float: left; border: 0px solid black;'title=['KAGU'] src='dataset_birds\\test\\KAGU\\4.jpg'/></div><div class=\"zoom\"><img style='width: 100px; height: 100px; margin: 1px; float: left; border: 0px solid black;'title=['KAGU'] src='dataset_birds\\test\\KAGU\\5.jpg'/></div>"
      ],
      "text/plain": [
       "<IPython.core.display.HTML object>"
      ]
     },
     "metadata": {},
     "output_type": "display_data"
    },
    {
     "name": "stdout",
     "output_type": "stream",
     "text": [
      "Drawing KAKAPO\n"
     ]
    },
    {
     "data": {
      "text/html": [
       "<div class=\"zoom\"><img style='width: 100px; height: 100px; margin: 1px; float: left; border: 0px solid black;'title=['KAKAPO'] src='dataset_birds\\test\\KAKAPO\\1.jpg'/></div><div class=\"zoom\"><img style='width: 100px; height: 100px; margin: 1px; float: left; border: 0px solid black;'title=['KAKAPO'] src='dataset_birds\\test\\KAKAPO\\2.jpg'/></div><div class=\"zoom\"><img style='width: 100px; height: 100px; margin: 1px; float: left; border: 0px solid black;'title=['KAKAPO'] src='dataset_birds\\test\\KAKAPO\\3.jpg'/></div><div class=\"zoom\"><img style='width: 100px; height: 100px; margin: 1px; float: left; border: 0px solid black;'title=['KAKAPO'] src='dataset_birds\\test\\KAKAPO\\4.jpg'/></div><div class=\"zoom\"><img style='width: 100px; height: 100px; margin: 1px; float: left; border: 0px solid black;'title=['KAKAPO'] src='dataset_birds\\test\\KAKAPO\\5.jpg'/></div>"
      ],
      "text/plain": [
       "<IPython.core.display.HTML object>"
      ]
     },
     "metadata": {},
     "output_type": "display_data"
    },
    {
     "name": "stdout",
     "output_type": "stream",
     "text": [
      "Drawing KILLDEAR\n"
     ]
    },
    {
     "data": {
      "text/html": [
       "<div class=\"zoom\"><img style='width: 100px; height: 100px; margin: 1px; float: left; border: 0px solid black;'title=['KILLDEAR'] src='dataset_birds\\test\\KILLDEAR\\1.jpg'/></div><div class=\"zoom\"><img style='width: 100px; height: 100px; margin: 1px; float: left; border: 0px solid black;'title=['KILLDEAR'] src='dataset_birds\\test\\KILLDEAR\\2.jpg'/></div><div class=\"zoom\"><img style='width: 100px; height: 100px; margin: 1px; float: left; border: 0px solid black;'title=['KILLDEAR'] src='dataset_birds\\test\\KILLDEAR\\3.jpg'/></div><div class=\"zoom\"><img style='width: 100px; height: 100px; margin: 1px; float: left; border: 0px solid black;'title=['KILLDEAR'] src='dataset_birds\\test\\KILLDEAR\\4.jpg'/></div><div class=\"zoom\"><img style='width: 100px; height: 100px; margin: 1px; float: left; border: 0px solid black;'title=['KILLDEAR'] src='dataset_birds\\test\\KILLDEAR\\5.jpg'/></div>"
      ],
      "text/plain": [
       "<IPython.core.display.HTML object>"
      ]
     },
     "metadata": {},
     "output_type": "display_data"
    },
    {
     "name": "stdout",
     "output_type": "stream",
     "text": [
      "Drawing KING EIDER\n"
     ]
    },
    {
     "data": {
      "text/html": [
       "<div class=\"zoom\"><img style='width: 100px; height: 100px; margin: 1px; float: left; border: 0px solid black;'title=['KING EIDER'] src='dataset_birds\\test\\KING EIDER\\1.jpg'/></div><div class=\"zoom\"><img style='width: 100px; height: 100px; margin: 1px; float: left; border: 0px solid black;'title=['KING EIDER'] src='dataset_birds\\test\\KING EIDER\\2.jpg'/></div><div class=\"zoom\"><img style='width: 100px; height: 100px; margin: 1px; float: left; border: 0px solid black;'title=['KING EIDER'] src='dataset_birds\\test\\KING EIDER\\3.jpg'/></div><div class=\"zoom\"><img style='width: 100px; height: 100px; margin: 1px; float: left; border: 0px solid black;'title=['KING EIDER'] src='dataset_birds\\test\\KING EIDER\\4.jpg'/></div><div class=\"zoom\"><img style='width: 100px; height: 100px; margin: 1px; float: left; border: 0px solid black;'title=['KING EIDER'] src='dataset_birds\\test\\KING EIDER\\5.jpg'/></div>"
      ],
      "text/plain": [
       "<IPython.core.display.HTML object>"
      ]
     },
     "metadata": {},
     "output_type": "display_data"
    },
    {
     "name": "stdout",
     "output_type": "stream",
     "text": [
      "Drawing KING VULTURE\n"
     ]
    },
    {
     "data": {
      "text/html": [
       "<div class=\"zoom\"><img style='width: 100px; height: 100px; margin: 1px; float: left; border: 0px solid black;'title=['KING VULTURE'] src='dataset_birds\\test\\KING VULTURE\\1.jpg'/></div><div class=\"zoom\"><img style='width: 100px; height: 100px; margin: 1px; float: left; border: 0px solid black;'title=['KING VULTURE'] src='dataset_birds\\test\\KING VULTURE\\2.jpg'/></div><div class=\"zoom\"><img style='width: 100px; height: 100px; margin: 1px; float: left; border: 0px solid black;'title=['KING VULTURE'] src='dataset_birds\\test\\KING VULTURE\\3.jpg'/></div><div class=\"zoom\"><img style='width: 100px; height: 100px; margin: 1px; float: left; border: 0px solid black;'title=['KING VULTURE'] src='dataset_birds\\test\\KING VULTURE\\4.jpg'/></div><div class=\"zoom\"><img style='width: 100px; height: 100px; margin: 1px; float: left; border: 0px solid black;'title=['KING VULTURE'] src='dataset_birds\\test\\KING VULTURE\\5.jpg'/></div>"
      ],
      "text/plain": [
       "<IPython.core.display.HTML object>"
      ]
     },
     "metadata": {},
     "output_type": "display_data"
    },
    {
     "name": "stdout",
     "output_type": "stream",
     "text": [
      "Drawing KIWI\n"
     ]
    },
    {
     "data": {
      "text/html": [
       "<div class=\"zoom\"><img style='width: 100px; height: 100px; margin: 1px; float: left; border: 0px solid black;'title=['KIWI'] src='dataset_birds\\test\\KIWI\\1.jpg'/></div><div class=\"zoom\"><img style='width: 100px; height: 100px; margin: 1px; float: left; border: 0px solid black;'title=['KIWI'] src='dataset_birds\\test\\KIWI\\2.jpg'/></div><div class=\"zoom\"><img style='width: 100px; height: 100px; margin: 1px; float: left; border: 0px solid black;'title=['KIWI'] src='dataset_birds\\test\\KIWI\\3.jpg'/></div><div class=\"zoom\"><img style='width: 100px; height: 100px; margin: 1px; float: left; border: 0px solid black;'title=['KIWI'] src='dataset_birds\\test\\KIWI\\4.jpg'/></div><div class=\"zoom\"><img style='width: 100px; height: 100px; margin: 1px; float: left; border: 0px solid black;'title=['KIWI'] src='dataset_birds\\test\\KIWI\\5.jpg'/></div>"
      ],
      "text/plain": [
       "<IPython.core.display.HTML object>"
      ]
     },
     "metadata": {},
     "output_type": "display_data"
    },
    {
     "name": "stdout",
     "output_type": "stream",
     "text": [
      "Drawing KNOB BILLED DUCK\n"
     ]
    },
    {
     "data": {
      "text/html": [
       "<div class=\"zoom\"><img style='width: 100px; height: 100px; margin: 1px; float: left; border: 0px solid black;'title=['KNOB BILLED DUCK'] src='dataset_birds\\test\\KNOB BILLED DUCK\\1.jpg'/></div><div class=\"zoom\"><img style='width: 100px; height: 100px; margin: 1px; float: left; border: 0px solid black;'title=['KNOB BILLED DUCK'] src='dataset_birds\\test\\KNOB BILLED DUCK\\2.jpg'/></div><div class=\"zoom\"><img style='width: 100px; height: 100px; margin: 1px; float: left; border: 0px solid black;'title=['KNOB BILLED DUCK'] src='dataset_birds\\test\\KNOB BILLED DUCK\\3.jpg'/></div><div class=\"zoom\"><img style='width: 100px; height: 100px; margin: 1px; float: left; border: 0px solid black;'title=['KNOB BILLED DUCK'] src='dataset_birds\\test\\KNOB BILLED DUCK\\4.jpg'/></div><div class=\"zoom\"><img style='width: 100px; height: 100px; margin: 1px; float: left; border: 0px solid black;'title=['KNOB BILLED DUCK'] src='dataset_birds\\test\\KNOB BILLED DUCK\\5.jpg'/></div>"
      ],
      "text/plain": [
       "<IPython.core.display.HTML object>"
      ]
     },
     "metadata": {},
     "output_type": "display_data"
    },
    {
     "name": "stdout",
     "output_type": "stream",
     "text": [
      "Drawing KOOKABURRA\n"
     ]
    },
    {
     "data": {
      "text/html": [
       "<div class=\"zoom\"><img style='width: 100px; height: 100px; margin: 1px; float: left; border: 0px solid black;'title=['KOOKABURRA'] src='dataset_birds\\test\\KOOKABURRA\\1.jpg'/></div><div class=\"zoom\"><img style='width: 100px; height: 100px; margin: 1px; float: left; border: 0px solid black;'title=['KOOKABURRA'] src='dataset_birds\\test\\KOOKABURRA\\2.jpg'/></div><div class=\"zoom\"><img style='width: 100px; height: 100px; margin: 1px; float: left; border: 0px solid black;'title=['KOOKABURRA'] src='dataset_birds\\test\\KOOKABURRA\\3.jpg'/></div><div class=\"zoom\"><img style='width: 100px; height: 100px; margin: 1px; float: left; border: 0px solid black;'title=['KOOKABURRA'] src='dataset_birds\\test\\KOOKABURRA\\4.jpg'/></div><div class=\"zoom\"><img style='width: 100px; height: 100px; margin: 1px; float: left; border: 0px solid black;'title=['KOOKABURRA'] src='dataset_birds\\test\\KOOKABURRA\\5.jpg'/></div>"
      ],
      "text/plain": [
       "<IPython.core.display.HTML object>"
      ]
     },
     "metadata": {},
     "output_type": "display_data"
    },
    {
     "name": "stdout",
     "output_type": "stream",
     "text": [
      "Drawing LARK BUNTING\n"
     ]
    },
    {
     "data": {
      "text/html": [
       "<div class=\"zoom\"><img style='width: 100px; height: 100px; margin: 1px; float: left; border: 0px solid black;'title=['LARK BUNTING'] src='dataset_birds\\test\\LARK BUNTING\\1.jpg'/></div><div class=\"zoom\"><img style='width: 100px; height: 100px; margin: 1px; float: left; border: 0px solid black;'title=['LARK BUNTING'] src='dataset_birds\\test\\LARK BUNTING\\2.jpg'/></div><div class=\"zoom\"><img style='width: 100px; height: 100px; margin: 1px; float: left; border: 0px solid black;'title=['LARK BUNTING'] src='dataset_birds\\test\\LARK BUNTING\\3.jpg'/></div><div class=\"zoom\"><img style='width: 100px; height: 100px; margin: 1px; float: left; border: 0px solid black;'title=['LARK BUNTING'] src='dataset_birds\\test\\LARK BUNTING\\4.jpg'/></div><div class=\"zoom\"><img style='width: 100px; height: 100px; margin: 1px; float: left; border: 0px solid black;'title=['LARK BUNTING'] src='dataset_birds\\test\\LARK BUNTING\\5.jpg'/></div>"
      ],
      "text/plain": [
       "<IPython.core.display.HTML object>"
      ]
     },
     "metadata": {},
     "output_type": "display_data"
    },
    {
     "name": "stdout",
     "output_type": "stream",
     "text": [
      "Drawing LAUGHING GULL\n"
     ]
    },
    {
     "data": {
      "text/html": [
       "<div class=\"zoom\"><img style='width: 100px; height: 100px; margin: 1px; float: left; border: 0px solid black;'title=['LAUGHING GULL'] src='dataset_birds\\test\\LAUGHING GULL\\1.jpg'/></div><div class=\"zoom\"><img style='width: 100px; height: 100px; margin: 1px; float: left; border: 0px solid black;'title=['LAUGHING GULL'] src='dataset_birds\\test\\LAUGHING GULL\\2.jpg'/></div><div class=\"zoom\"><img style='width: 100px; height: 100px; margin: 1px; float: left; border: 0px solid black;'title=['LAUGHING GULL'] src='dataset_birds\\test\\LAUGHING GULL\\3.jpg'/></div><div class=\"zoom\"><img style='width: 100px; height: 100px; margin: 1px; float: left; border: 0px solid black;'title=['LAUGHING GULL'] src='dataset_birds\\test\\LAUGHING GULL\\4.jpg'/></div><div class=\"zoom\"><img style='width: 100px; height: 100px; margin: 1px; float: left; border: 0px solid black;'title=['LAUGHING GULL'] src='dataset_birds\\test\\LAUGHING GULL\\5.jpg'/></div>"
      ],
      "text/plain": [
       "<IPython.core.display.HTML object>"
      ]
     },
     "metadata": {},
     "output_type": "display_data"
    },
    {
     "name": "stdout",
     "output_type": "stream",
     "text": [
      "Drawing LAZULI BUNTING\n"
     ]
    },
    {
     "data": {
      "text/html": [
       "<div class=\"zoom\"><img style='width: 100px; height: 100px; margin: 1px; float: left; border: 0px solid black;'title=['LAZULI BUNTING'] src='dataset_birds\\test\\LAZULI BUNTING\\1.jpg'/></div><div class=\"zoom\"><img style='width: 100px; height: 100px; margin: 1px; float: left; border: 0px solid black;'title=['LAZULI BUNTING'] src='dataset_birds\\test\\LAZULI BUNTING\\2.jpg'/></div><div class=\"zoom\"><img style='width: 100px; height: 100px; margin: 1px; float: left; border: 0px solid black;'title=['LAZULI BUNTING'] src='dataset_birds\\test\\LAZULI BUNTING\\3.jpg'/></div><div class=\"zoom\"><img style='width: 100px; height: 100px; margin: 1px; float: left; border: 0px solid black;'title=['LAZULI BUNTING'] src='dataset_birds\\test\\LAZULI BUNTING\\4.jpg'/></div><div class=\"zoom\"><img style='width: 100px; height: 100px; margin: 1px; float: left; border: 0px solid black;'title=['LAZULI BUNTING'] src='dataset_birds\\test\\LAZULI BUNTING\\5.jpg'/></div>"
      ],
      "text/plain": [
       "<IPython.core.display.HTML object>"
      ]
     },
     "metadata": {},
     "output_type": "display_data"
    },
    {
     "name": "stdout",
     "output_type": "stream",
     "text": [
      "Drawing LESSER ADJUTANT\n"
     ]
    },
    {
     "data": {
      "text/html": [
       "<div class=\"zoom\"><img style='width: 100px; height: 100px; margin: 1px; float: left; border: 0px solid black;'title=['LESSER ADJUTANT'] src='dataset_birds\\test\\LESSER ADJUTANT\\1.jpg'/></div><div class=\"zoom\"><img style='width: 100px; height: 100px; margin: 1px; float: left; border: 0px solid black;'title=['LESSER ADJUTANT'] src='dataset_birds\\test\\LESSER ADJUTANT\\2.jpg'/></div><div class=\"zoom\"><img style='width: 100px; height: 100px; margin: 1px; float: left; border: 0px solid black;'title=['LESSER ADJUTANT'] src='dataset_birds\\test\\LESSER ADJUTANT\\3.jpg'/></div><div class=\"zoom\"><img style='width: 100px; height: 100px; margin: 1px; float: left; border: 0px solid black;'title=['LESSER ADJUTANT'] src='dataset_birds\\test\\LESSER ADJUTANT\\4.jpg'/></div><div class=\"zoom\"><img style='width: 100px; height: 100px; margin: 1px; float: left; border: 0px solid black;'title=['LESSER ADJUTANT'] src='dataset_birds\\test\\LESSER ADJUTANT\\5.jpg'/></div>"
      ],
      "text/plain": [
       "<IPython.core.display.HTML object>"
      ]
     },
     "metadata": {},
     "output_type": "display_data"
    },
    {
     "name": "stdout",
     "output_type": "stream",
     "text": [
      "Drawing LILAC ROLLER\n"
     ]
    },
    {
     "data": {
      "text/html": [
       "<div class=\"zoom\"><img style='width: 100px; height: 100px; margin: 1px; float: left; border: 0px solid black;'title=['LILAC ROLLER'] src='dataset_birds\\test\\LILAC ROLLER\\1.jpg'/></div><div class=\"zoom\"><img style='width: 100px; height: 100px; margin: 1px; float: left; border: 0px solid black;'title=['LILAC ROLLER'] src='dataset_birds\\test\\LILAC ROLLER\\2.jpg'/></div><div class=\"zoom\"><img style='width: 100px; height: 100px; margin: 1px; float: left; border: 0px solid black;'title=['LILAC ROLLER'] src='dataset_birds\\test\\LILAC ROLLER\\3.jpg'/></div><div class=\"zoom\"><img style='width: 100px; height: 100px; margin: 1px; float: left; border: 0px solid black;'title=['LILAC ROLLER'] src='dataset_birds\\test\\LILAC ROLLER\\4.jpg'/></div><div class=\"zoom\"><img style='width: 100px; height: 100px; margin: 1px; float: left; border: 0px solid black;'title=['LILAC ROLLER'] src='dataset_birds\\test\\LILAC ROLLER\\5.jpg'/></div>"
      ],
      "text/plain": [
       "<IPython.core.display.HTML object>"
      ]
     },
     "metadata": {},
     "output_type": "display_data"
    },
    {
     "name": "stdout",
     "output_type": "stream",
     "text": [
      "Drawing LIMPKIN\n"
     ]
    },
    {
     "data": {
      "text/html": [
       "<div class=\"zoom\"><img style='width: 100px; height: 100px; margin: 1px; float: left; border: 0px solid black;'title=['LIMPKIN'] src='dataset_birds\\test\\LIMPKIN\\1.jpg'/></div><div class=\"zoom\"><img style='width: 100px; height: 100px; margin: 1px; float: left; border: 0px solid black;'title=['LIMPKIN'] src='dataset_birds\\test\\LIMPKIN\\2.jpg'/></div><div class=\"zoom\"><img style='width: 100px; height: 100px; margin: 1px; float: left; border: 0px solid black;'title=['LIMPKIN'] src='dataset_birds\\test\\LIMPKIN\\3.jpg'/></div><div class=\"zoom\"><img style='width: 100px; height: 100px; margin: 1px; float: left; border: 0px solid black;'title=['LIMPKIN'] src='dataset_birds\\test\\LIMPKIN\\4.jpg'/></div><div class=\"zoom\"><img style='width: 100px; height: 100px; margin: 1px; float: left; border: 0px solid black;'title=['LIMPKIN'] src='dataset_birds\\test\\LIMPKIN\\5.jpg'/></div>"
      ],
      "text/plain": [
       "<IPython.core.display.HTML object>"
      ]
     },
     "metadata": {},
     "output_type": "display_data"
    },
    {
     "name": "stdout",
     "output_type": "stream",
     "text": [
      "Drawing LITTLE AUK\n"
     ]
    },
    {
     "data": {
      "text/html": [
       "<div class=\"zoom\"><img style='width: 100px; height: 100px; margin: 1px; float: left; border: 0px solid black;'title=['LITTLE AUK'] src='dataset_birds\\test\\LITTLE AUK\\1.jpg'/></div><div class=\"zoom\"><img style='width: 100px; height: 100px; margin: 1px; float: left; border: 0px solid black;'title=['LITTLE AUK'] src='dataset_birds\\test\\LITTLE AUK\\2.jpg'/></div><div class=\"zoom\"><img style='width: 100px; height: 100px; margin: 1px; float: left; border: 0px solid black;'title=['LITTLE AUK'] src='dataset_birds\\test\\LITTLE AUK\\3.jpg'/></div><div class=\"zoom\"><img style='width: 100px; height: 100px; margin: 1px; float: left; border: 0px solid black;'title=['LITTLE AUK'] src='dataset_birds\\test\\LITTLE AUK\\4.jpg'/></div><div class=\"zoom\"><img style='width: 100px; height: 100px; margin: 1px; float: left; border: 0px solid black;'title=['LITTLE AUK'] src='dataset_birds\\test\\LITTLE AUK\\5.jpg'/></div>"
      ],
      "text/plain": [
       "<IPython.core.display.HTML object>"
      ]
     },
     "metadata": {},
     "output_type": "display_data"
    },
    {
     "name": "stdout",
     "output_type": "stream",
     "text": [
      "Drawing LOGGERHEAD SHRIKE\n"
     ]
    },
    {
     "data": {
      "text/html": [
       "<div class=\"zoom\"><img style='width: 100px; height: 100px; margin: 1px; float: left; border: 0px solid black;'title=['LOGGERHEAD SHRIKE'] src='dataset_birds\\test\\LOGGERHEAD SHRIKE\\1.jpg'/></div><div class=\"zoom\"><img style='width: 100px; height: 100px; margin: 1px; float: left; border: 0px solid black;'title=['LOGGERHEAD SHRIKE'] src='dataset_birds\\test\\LOGGERHEAD SHRIKE\\2.jpg'/></div><div class=\"zoom\"><img style='width: 100px; height: 100px; margin: 1px; float: left; border: 0px solid black;'title=['LOGGERHEAD SHRIKE'] src='dataset_birds\\test\\LOGGERHEAD SHRIKE\\3.jpg'/></div><div class=\"zoom\"><img style='width: 100px; height: 100px; margin: 1px; float: left; border: 0px solid black;'title=['LOGGERHEAD SHRIKE'] src='dataset_birds\\test\\LOGGERHEAD SHRIKE\\4.jpg'/></div><div class=\"zoom\"><img style='width: 100px; height: 100px; margin: 1px; float: left; border: 0px solid black;'title=['LOGGERHEAD SHRIKE'] src='dataset_birds\\test\\LOGGERHEAD SHRIKE\\5.jpg'/></div>"
      ],
      "text/plain": [
       "<IPython.core.display.HTML object>"
      ]
     },
     "metadata": {},
     "output_type": "display_data"
    },
    {
     "name": "stdout",
     "output_type": "stream",
     "text": [
      "Drawing LONG-EARED OWL\n"
     ]
    },
    {
     "data": {
      "text/html": [
       "<div class=\"zoom\"><img style='width: 100px; height: 100px; margin: 1px; float: left; border: 0px solid black;'title=['LONG-EARED OWL'] src='dataset_birds\\test\\LONG-EARED OWL\\1.jpg'/></div><div class=\"zoom\"><img style='width: 100px; height: 100px; margin: 1px; float: left; border: 0px solid black;'title=['LONG-EARED OWL'] src='dataset_birds\\test\\LONG-EARED OWL\\2.jpg'/></div><div class=\"zoom\"><img style='width: 100px; height: 100px; margin: 1px; float: left; border: 0px solid black;'title=['LONG-EARED OWL'] src='dataset_birds\\test\\LONG-EARED OWL\\3.jpg'/></div><div class=\"zoom\"><img style='width: 100px; height: 100px; margin: 1px; float: left; border: 0px solid black;'title=['LONG-EARED OWL'] src='dataset_birds\\test\\LONG-EARED OWL\\4.jpg'/></div><div class=\"zoom\"><img style='width: 100px; height: 100px; margin: 1px; float: left; border: 0px solid black;'title=['LONG-EARED OWL'] src='dataset_birds\\test\\LONG-EARED OWL\\5.jpg'/></div>"
      ],
      "text/plain": [
       "<IPython.core.display.HTML object>"
      ]
     },
     "metadata": {},
     "output_type": "display_data"
    },
    {
     "name": "stdout",
     "output_type": "stream",
     "text": [
      "Drawing LOONEY BIRDS\n"
     ]
    },
    {
     "data": {
      "text/html": [
       "<div class=\"zoom\"><img style='width: 100px; height: 100px; margin: 1px; float: left; border: 0px solid black;'title=['LOONEY BIRDS'] src='dataset_birds\\test\\LOONEY BIRDS\\1.jpg'/></div><div class=\"zoom\"><img style='width: 100px; height: 100px; margin: 1px; float: left; border: 0px solid black;'title=['LOONEY BIRDS'] src='dataset_birds\\test\\LOONEY BIRDS\\2.jpg'/></div><div class=\"zoom\"><img style='width: 100px; height: 100px; margin: 1px; float: left; border: 0px solid black;'title=['LOONEY BIRDS'] src='dataset_birds\\test\\LOONEY BIRDS\\3.jpg'/></div><div class=\"zoom\"><img style='width: 100px; height: 100px; margin: 1px; float: left; border: 0px solid black;'title=['LOONEY BIRDS'] src='dataset_birds\\test\\LOONEY BIRDS\\4.jpg'/></div><div class=\"zoom\"><img style='width: 100px; height: 100px; margin: 1px; float: left; border: 0px solid black;'title=['LOONEY BIRDS'] src='dataset_birds\\test\\LOONEY BIRDS\\5.jpg'/></div>"
      ],
      "text/plain": [
       "<IPython.core.display.HTML object>"
      ]
     },
     "metadata": {},
     "output_type": "display_data"
    },
    {
     "name": "stdout",
     "output_type": "stream",
     "text": [
      "Drawing LUCIFER HUMMINGBIRD\n"
     ]
    },
    {
     "data": {
      "text/html": [
       "<div class=\"zoom\"><img style='width: 100px; height: 100px; margin: 1px; float: left; border: 0px solid black;'title=['LUCIFER HUMMINGBIRD'] src='dataset_birds\\test\\LUCIFER HUMMINGBIRD\\1.jpg'/></div><div class=\"zoom\"><img style='width: 100px; height: 100px; margin: 1px; float: left; border: 0px solid black;'title=['LUCIFER HUMMINGBIRD'] src='dataset_birds\\test\\LUCIFER HUMMINGBIRD\\2.jpg'/></div><div class=\"zoom\"><img style='width: 100px; height: 100px; margin: 1px; float: left; border: 0px solid black;'title=['LUCIFER HUMMINGBIRD'] src='dataset_birds\\test\\LUCIFER HUMMINGBIRD\\3.jpg'/></div><div class=\"zoom\"><img style='width: 100px; height: 100px; margin: 1px; float: left; border: 0px solid black;'title=['LUCIFER HUMMINGBIRD'] src='dataset_birds\\test\\LUCIFER HUMMINGBIRD\\4.jpg'/></div><div class=\"zoom\"><img style='width: 100px; height: 100px; margin: 1px; float: left; border: 0px solid black;'title=['LUCIFER HUMMINGBIRD'] src='dataset_birds\\test\\LUCIFER HUMMINGBIRD\\5.jpg'/></div>"
      ],
      "text/plain": [
       "<IPython.core.display.HTML object>"
      ]
     },
     "metadata": {},
     "output_type": "display_data"
    },
    {
     "name": "stdout",
     "output_type": "stream",
     "text": [
      "Drawing MAGPIE GOOSE\n"
     ]
    },
    {
     "data": {
      "text/html": [
       "<div class=\"zoom\"><img style='width: 100px; height: 100px; margin: 1px; float: left; border: 0px solid black;'title=['MAGPIE GOOSE'] src='dataset_birds\\test\\MAGPIE GOOSE\\1.jpg'/></div><div class=\"zoom\"><img style='width: 100px; height: 100px; margin: 1px; float: left; border: 0px solid black;'title=['MAGPIE GOOSE'] src='dataset_birds\\test\\MAGPIE GOOSE\\2.jpg'/></div><div class=\"zoom\"><img style='width: 100px; height: 100px; margin: 1px; float: left; border: 0px solid black;'title=['MAGPIE GOOSE'] src='dataset_birds\\test\\MAGPIE GOOSE\\3.jpg'/></div><div class=\"zoom\"><img style='width: 100px; height: 100px; margin: 1px; float: left; border: 0px solid black;'title=['MAGPIE GOOSE'] src='dataset_birds\\test\\MAGPIE GOOSE\\4.jpg'/></div><div class=\"zoom\"><img style='width: 100px; height: 100px; margin: 1px; float: left; border: 0px solid black;'title=['MAGPIE GOOSE'] src='dataset_birds\\test\\MAGPIE GOOSE\\5.jpg'/></div>"
      ],
      "text/plain": [
       "<IPython.core.display.HTML object>"
      ]
     },
     "metadata": {},
     "output_type": "display_data"
    },
    {
     "name": "stdout",
     "output_type": "stream",
     "text": [
      "Drawing MALABAR HORNBILL\n"
     ]
    },
    {
     "data": {
      "text/html": [
       "<div class=\"zoom\"><img style='width: 100px; height: 100px; margin: 1px; float: left; border: 0px solid black;'title=['MALABAR HORNBILL'] src='dataset_birds\\test\\MALABAR HORNBILL\\1.jpg'/></div><div class=\"zoom\"><img style='width: 100px; height: 100px; margin: 1px; float: left; border: 0px solid black;'title=['MALABAR HORNBILL'] src='dataset_birds\\test\\MALABAR HORNBILL\\2.jpg'/></div><div class=\"zoom\"><img style='width: 100px; height: 100px; margin: 1px; float: left; border: 0px solid black;'title=['MALABAR HORNBILL'] src='dataset_birds\\test\\MALABAR HORNBILL\\3.jpg'/></div><div class=\"zoom\"><img style='width: 100px; height: 100px; margin: 1px; float: left; border: 0px solid black;'title=['MALABAR HORNBILL'] src='dataset_birds\\test\\MALABAR HORNBILL\\4.jpg'/></div><div class=\"zoom\"><img style='width: 100px; height: 100px; margin: 1px; float: left; border: 0px solid black;'title=['MALABAR HORNBILL'] src='dataset_birds\\test\\MALABAR HORNBILL\\5.jpg'/></div>"
      ],
      "text/plain": [
       "<IPython.core.display.HTML object>"
      ]
     },
     "metadata": {},
     "output_type": "display_data"
    },
    {
     "name": "stdout",
     "output_type": "stream",
     "text": [
      "Drawing MALACHITE KINGFISHER\n"
     ]
    },
    {
     "data": {
      "text/html": [
       "<div class=\"zoom\"><img style='width: 100px; height: 100px; margin: 1px; float: left; border: 0px solid black;'title=['MALACHITE KINGFISHER'] src='dataset_birds\\test\\MALACHITE KINGFISHER\\1.jpg'/></div><div class=\"zoom\"><img style='width: 100px; height: 100px; margin: 1px; float: left; border: 0px solid black;'title=['MALACHITE KINGFISHER'] src='dataset_birds\\test\\MALACHITE KINGFISHER\\2.jpg'/></div><div class=\"zoom\"><img style='width: 100px; height: 100px; margin: 1px; float: left; border: 0px solid black;'title=['MALACHITE KINGFISHER'] src='dataset_birds\\test\\MALACHITE KINGFISHER\\3.jpg'/></div><div class=\"zoom\"><img style='width: 100px; height: 100px; margin: 1px; float: left; border: 0px solid black;'title=['MALACHITE KINGFISHER'] src='dataset_birds\\test\\MALACHITE KINGFISHER\\4.jpg'/></div><div class=\"zoom\"><img style='width: 100px; height: 100px; margin: 1px; float: left; border: 0px solid black;'title=['MALACHITE KINGFISHER'] src='dataset_birds\\test\\MALACHITE KINGFISHER\\5.jpg'/></div>"
      ],
      "text/plain": [
       "<IPython.core.display.HTML object>"
      ]
     },
     "metadata": {},
     "output_type": "display_data"
    },
    {
     "name": "stdout",
     "output_type": "stream",
     "text": [
      "Drawing MALAGASY WHITE EYE\n"
     ]
    },
    {
     "data": {
      "text/html": [
       "<div class=\"zoom\"><img style='width: 100px; height: 100px; margin: 1px; float: left; border: 0px solid black;'title=['MALAGASY WHITE EYE'] src='dataset_birds\\test\\MALAGASY WHITE EYE\\1.jpg'/></div><div class=\"zoom\"><img style='width: 100px; height: 100px; margin: 1px; float: left; border: 0px solid black;'title=['MALAGASY WHITE EYE'] src='dataset_birds\\test\\MALAGASY WHITE EYE\\2.jpg'/></div><div class=\"zoom\"><img style='width: 100px; height: 100px; margin: 1px; float: left; border: 0px solid black;'title=['MALAGASY WHITE EYE'] src='dataset_birds\\test\\MALAGASY WHITE EYE\\3.jpg'/></div><div class=\"zoom\"><img style='width: 100px; height: 100px; margin: 1px; float: left; border: 0px solid black;'title=['MALAGASY WHITE EYE'] src='dataset_birds\\test\\MALAGASY WHITE EYE\\4.jpg'/></div><div class=\"zoom\"><img style='width: 100px; height: 100px; margin: 1px; float: left; border: 0px solid black;'title=['MALAGASY WHITE EYE'] src='dataset_birds\\test\\MALAGASY WHITE EYE\\5.jpg'/></div>"
      ],
      "text/plain": [
       "<IPython.core.display.HTML object>"
      ]
     },
     "metadata": {},
     "output_type": "display_data"
    },
    {
     "name": "stdout",
     "output_type": "stream",
     "text": [
      "Drawing MALEO\n"
     ]
    },
    {
     "data": {
      "text/html": [
       "<div class=\"zoom\"><img style='width: 100px; height: 100px; margin: 1px; float: left; border: 0px solid black;'title=['MALEO'] src='dataset_birds\\test\\MALEO\\1.jpg'/></div><div class=\"zoom\"><img style='width: 100px; height: 100px; margin: 1px; float: left; border: 0px solid black;'title=['MALEO'] src='dataset_birds\\test\\MALEO\\2.jpg'/></div><div class=\"zoom\"><img style='width: 100px; height: 100px; margin: 1px; float: left; border: 0px solid black;'title=['MALEO'] src='dataset_birds\\test\\MALEO\\3.jpg'/></div><div class=\"zoom\"><img style='width: 100px; height: 100px; margin: 1px; float: left; border: 0px solid black;'title=['MALEO'] src='dataset_birds\\test\\MALEO\\4.jpg'/></div><div class=\"zoom\"><img style='width: 100px; height: 100px; margin: 1px; float: left; border: 0px solid black;'title=['MALEO'] src='dataset_birds\\test\\MALEO\\5.jpg'/></div>"
      ],
      "text/plain": [
       "<IPython.core.display.HTML object>"
      ]
     },
     "metadata": {},
     "output_type": "display_data"
    },
    {
     "name": "stdout",
     "output_type": "stream",
     "text": [
      "Drawing MALLARD DUCK\n"
     ]
    },
    {
     "data": {
      "text/html": [
       "<div class=\"zoom\"><img style='width: 100px; height: 100px; margin: 1px; float: left; border: 0px solid black;'title=['MALLARD DUCK'] src='dataset_birds\\test\\MALLARD DUCK\\1.jpg'/></div><div class=\"zoom\"><img style='width: 100px; height: 100px; margin: 1px; float: left; border: 0px solid black;'title=['MALLARD DUCK'] src='dataset_birds\\test\\MALLARD DUCK\\2.jpg'/></div><div class=\"zoom\"><img style='width: 100px; height: 100px; margin: 1px; float: left; border: 0px solid black;'title=['MALLARD DUCK'] src='dataset_birds\\test\\MALLARD DUCK\\3.jpg'/></div><div class=\"zoom\"><img style='width: 100px; height: 100px; margin: 1px; float: left; border: 0px solid black;'title=['MALLARD DUCK'] src='dataset_birds\\test\\MALLARD DUCK\\4.jpg'/></div><div class=\"zoom\"><img style='width: 100px; height: 100px; margin: 1px; float: left; border: 0px solid black;'title=['MALLARD DUCK'] src='dataset_birds\\test\\MALLARD DUCK\\5.jpg'/></div>"
      ],
      "text/plain": [
       "<IPython.core.display.HTML object>"
      ]
     },
     "metadata": {},
     "output_type": "display_data"
    },
    {
     "name": "stdout",
     "output_type": "stream",
     "text": [
      "Drawing MANDRIN DUCK\n"
     ]
    },
    {
     "data": {
      "text/html": [
       "<div class=\"zoom\"><img style='width: 100px; height: 100px; margin: 1px; float: left; border: 0px solid black;'title=['MANDRIN DUCK'] src='dataset_birds\\test\\MANDRIN DUCK\\1.jpg'/></div><div class=\"zoom\"><img style='width: 100px; height: 100px; margin: 1px; float: left; border: 0px solid black;'title=['MANDRIN DUCK'] src='dataset_birds\\test\\MANDRIN DUCK\\2.jpg'/></div><div class=\"zoom\"><img style='width: 100px; height: 100px; margin: 1px; float: left; border: 0px solid black;'title=['MANDRIN DUCK'] src='dataset_birds\\test\\MANDRIN DUCK\\3.jpg'/></div><div class=\"zoom\"><img style='width: 100px; height: 100px; margin: 1px; float: left; border: 0px solid black;'title=['MANDRIN DUCK'] src='dataset_birds\\test\\MANDRIN DUCK\\4.jpg'/></div><div class=\"zoom\"><img style='width: 100px; height: 100px; margin: 1px; float: left; border: 0px solid black;'title=['MANDRIN DUCK'] src='dataset_birds\\test\\MANDRIN DUCK\\5.jpg'/></div>"
      ],
      "text/plain": [
       "<IPython.core.display.HTML object>"
      ]
     },
     "metadata": {},
     "output_type": "display_data"
    },
    {
     "name": "stdout",
     "output_type": "stream",
     "text": [
      "Drawing MANGROVE CUCKOO\n"
     ]
    },
    {
     "data": {
      "text/html": [
       "<div class=\"zoom\"><img style='width: 100px; height: 100px; margin: 1px; float: left; border: 0px solid black;'title=['MANGROVE CUCKOO'] src='dataset_birds\\test\\MANGROVE CUCKOO\\1.jpg'/></div><div class=\"zoom\"><img style='width: 100px; height: 100px; margin: 1px; float: left; border: 0px solid black;'title=['MANGROVE CUCKOO'] src='dataset_birds\\test\\MANGROVE CUCKOO\\2.jpg'/></div><div class=\"zoom\"><img style='width: 100px; height: 100px; margin: 1px; float: left; border: 0px solid black;'title=['MANGROVE CUCKOO'] src='dataset_birds\\test\\MANGROVE CUCKOO\\3.jpg'/></div><div class=\"zoom\"><img style='width: 100px; height: 100px; margin: 1px; float: left; border: 0px solid black;'title=['MANGROVE CUCKOO'] src='dataset_birds\\test\\MANGROVE CUCKOO\\4.jpg'/></div><div class=\"zoom\"><img style='width: 100px; height: 100px; margin: 1px; float: left; border: 0px solid black;'title=['MANGROVE CUCKOO'] src='dataset_birds\\test\\MANGROVE CUCKOO\\5.jpg'/></div>"
      ],
      "text/plain": [
       "<IPython.core.display.HTML object>"
      ]
     },
     "metadata": {},
     "output_type": "display_data"
    },
    {
     "name": "stdout",
     "output_type": "stream",
     "text": [
      "Drawing MARABOU STORK\n"
     ]
    },
    {
     "data": {
      "text/html": [
       "<div class=\"zoom\"><img style='width: 100px; height: 100px; margin: 1px; float: left; border: 0px solid black;'title=['MARABOU STORK'] src='dataset_birds\\test\\MARABOU STORK\\1.jpg'/></div><div class=\"zoom\"><img style='width: 100px; height: 100px; margin: 1px; float: left; border: 0px solid black;'title=['MARABOU STORK'] src='dataset_birds\\test\\MARABOU STORK\\2.jpg'/></div><div class=\"zoom\"><img style='width: 100px; height: 100px; margin: 1px; float: left; border: 0px solid black;'title=['MARABOU STORK'] src='dataset_birds\\test\\MARABOU STORK\\3.jpg'/></div><div class=\"zoom\"><img style='width: 100px; height: 100px; margin: 1px; float: left; border: 0px solid black;'title=['MARABOU STORK'] src='dataset_birds\\test\\MARABOU STORK\\4.jpg'/></div><div class=\"zoom\"><img style='width: 100px; height: 100px; margin: 1px; float: left; border: 0px solid black;'title=['MARABOU STORK'] src='dataset_birds\\test\\MARABOU STORK\\5.jpg'/></div>"
      ],
      "text/plain": [
       "<IPython.core.display.HTML object>"
      ]
     },
     "metadata": {},
     "output_type": "display_data"
    },
    {
     "name": "stdout",
     "output_type": "stream",
     "text": [
      "Drawing MASKED BOBWHITE\n"
     ]
    },
    {
     "data": {
      "text/html": [
       "<div class=\"zoom\"><img style='width: 100px; height: 100px; margin: 1px; float: left; border: 0px solid black;'title=['MASKED BOBWHITE'] src='dataset_birds\\test\\MASKED BOBWHITE\\1.jpg'/></div><div class=\"zoom\"><img style='width: 100px; height: 100px; margin: 1px; float: left; border: 0px solid black;'title=['MASKED BOBWHITE'] src='dataset_birds\\test\\MASKED BOBWHITE\\2.jpg'/></div><div class=\"zoom\"><img style='width: 100px; height: 100px; margin: 1px; float: left; border: 0px solid black;'title=['MASKED BOBWHITE'] src='dataset_birds\\test\\MASKED BOBWHITE\\3.jpg'/></div><div class=\"zoom\"><img style='width: 100px; height: 100px; margin: 1px; float: left; border: 0px solid black;'title=['MASKED BOBWHITE'] src='dataset_birds\\test\\MASKED BOBWHITE\\4.jpg'/></div><div class=\"zoom\"><img style='width: 100px; height: 100px; margin: 1px; float: left; border: 0px solid black;'title=['MASKED BOBWHITE'] src='dataset_birds\\test\\MASKED BOBWHITE\\5.jpg'/></div>"
      ],
      "text/plain": [
       "<IPython.core.display.HTML object>"
      ]
     },
     "metadata": {},
     "output_type": "display_data"
    },
    {
     "name": "stdout",
     "output_type": "stream",
     "text": [
      "Drawing MASKED BOOBY\n"
     ]
    },
    {
     "data": {
      "text/html": [
       "<div class=\"zoom\"><img style='width: 100px; height: 100px; margin: 1px; float: left; border: 0px solid black;'title=['MASKED BOOBY'] src='dataset_birds\\test\\MASKED BOOBY\\1.jpg'/></div><div class=\"zoom\"><img style='width: 100px; height: 100px; margin: 1px; float: left; border: 0px solid black;'title=['MASKED BOOBY'] src='dataset_birds\\test\\MASKED BOOBY\\2.jpg'/></div><div class=\"zoom\"><img style='width: 100px; height: 100px; margin: 1px; float: left; border: 0px solid black;'title=['MASKED BOOBY'] src='dataset_birds\\test\\MASKED BOOBY\\3.jpg'/></div><div class=\"zoom\"><img style='width: 100px; height: 100px; margin: 1px; float: left; border: 0px solid black;'title=['MASKED BOOBY'] src='dataset_birds\\test\\MASKED BOOBY\\4.jpg'/></div><div class=\"zoom\"><img style='width: 100px; height: 100px; margin: 1px; float: left; border: 0px solid black;'title=['MASKED BOOBY'] src='dataset_birds\\test\\MASKED BOOBY\\5.jpg'/></div>"
      ],
      "text/plain": [
       "<IPython.core.display.HTML object>"
      ]
     },
     "metadata": {},
     "output_type": "display_data"
    },
    {
     "name": "stdout",
     "output_type": "stream",
     "text": [
      "Drawing MASKED LAPWING\n"
     ]
    },
    {
     "data": {
      "text/html": [
       "<div class=\"zoom\"><img style='width: 100px; height: 100px; margin: 1px; float: left; border: 0px solid black;'title=['MASKED LAPWING'] src='dataset_birds\\test\\MASKED LAPWING\\1.jpg'/></div><div class=\"zoom\"><img style='width: 100px; height: 100px; margin: 1px; float: left; border: 0px solid black;'title=['MASKED LAPWING'] src='dataset_birds\\test\\MASKED LAPWING\\2.jpg'/></div><div class=\"zoom\"><img style='width: 100px; height: 100px; margin: 1px; float: left; border: 0px solid black;'title=['MASKED LAPWING'] src='dataset_birds\\test\\MASKED LAPWING\\3.jpg'/></div><div class=\"zoom\"><img style='width: 100px; height: 100px; margin: 1px; float: left; border: 0px solid black;'title=['MASKED LAPWING'] src='dataset_birds\\test\\MASKED LAPWING\\4.jpg'/></div><div class=\"zoom\"><img style='width: 100px; height: 100px; margin: 1px; float: left; border: 0px solid black;'title=['MASKED LAPWING'] src='dataset_birds\\test\\MASKED LAPWING\\5.jpg'/></div>"
      ],
      "text/plain": [
       "<IPython.core.display.HTML object>"
      ]
     },
     "metadata": {},
     "output_type": "display_data"
    },
    {
     "name": "stdout",
     "output_type": "stream",
     "text": [
      "Drawing MCKAYS BUNTING\n"
     ]
    },
    {
     "data": {
      "text/html": [
       "<div class=\"zoom\"><img style='width: 100px; height: 100px; margin: 1px; float: left; border: 0px solid black;'title=['MCKAYS BUNTING'] src='dataset_birds\\test\\MCKAYS BUNTING\\1.jpg'/></div><div class=\"zoom\"><img style='width: 100px; height: 100px; margin: 1px; float: left; border: 0px solid black;'title=['MCKAYS BUNTING'] src='dataset_birds\\test\\MCKAYS BUNTING\\2.jpg'/></div><div class=\"zoom\"><img style='width: 100px; height: 100px; margin: 1px; float: left; border: 0px solid black;'title=['MCKAYS BUNTING'] src='dataset_birds\\test\\MCKAYS BUNTING\\3.jpg'/></div><div class=\"zoom\"><img style='width: 100px; height: 100px; margin: 1px; float: left; border: 0px solid black;'title=['MCKAYS BUNTING'] src='dataset_birds\\test\\MCKAYS BUNTING\\4.jpg'/></div><div class=\"zoom\"><img style='width: 100px; height: 100px; margin: 1px; float: left; border: 0px solid black;'title=['MCKAYS BUNTING'] src='dataset_birds\\test\\MCKAYS BUNTING\\5.jpg'/></div>"
      ],
      "text/plain": [
       "<IPython.core.display.HTML object>"
      ]
     },
     "metadata": {},
     "output_type": "display_data"
    },
    {
     "name": "stdout",
     "output_type": "stream",
     "text": [
      "Drawing MERLIN\n"
     ]
    },
    {
     "data": {
      "text/html": [
       "<div class=\"zoom\"><img style='width: 100px; height: 100px; margin: 1px; float: left; border: 0px solid black;'title=['MERLIN'] src='dataset_birds\\test\\MERLIN\\1.jpg'/></div><div class=\"zoom\"><img style='width: 100px; height: 100px; margin: 1px; float: left; border: 0px solid black;'title=['MERLIN'] src='dataset_birds\\test\\MERLIN\\2.jpg'/></div><div class=\"zoom\"><img style='width: 100px; height: 100px; margin: 1px; float: left; border: 0px solid black;'title=['MERLIN'] src='dataset_birds\\test\\MERLIN\\3.jpg'/></div><div class=\"zoom\"><img style='width: 100px; height: 100px; margin: 1px; float: left; border: 0px solid black;'title=['MERLIN'] src='dataset_birds\\test\\MERLIN\\4.jpg'/></div><div class=\"zoom\"><img style='width: 100px; height: 100px; margin: 1px; float: left; border: 0px solid black;'title=['MERLIN'] src='dataset_birds\\test\\MERLIN\\5.jpg'/></div>"
      ],
      "text/plain": [
       "<IPython.core.display.HTML object>"
      ]
     },
     "metadata": {},
     "output_type": "display_data"
    },
    {
     "name": "stdout",
     "output_type": "stream",
     "text": [
      "Drawing MIKADO  PHEASANT\n"
     ]
    },
    {
     "data": {
      "text/html": [
       "<div class=\"zoom\"><img style='width: 100px; height: 100px; margin: 1px; float: left; border: 0px solid black;'title=['MIKADO  PHEASANT'] src='dataset_birds\\test\\MIKADO  PHEASANT\\1.jpg'/></div><div class=\"zoom\"><img style='width: 100px; height: 100px; margin: 1px; float: left; border: 0px solid black;'title=['MIKADO  PHEASANT'] src='dataset_birds\\test\\MIKADO  PHEASANT\\2.jpg'/></div><div class=\"zoom\"><img style='width: 100px; height: 100px; margin: 1px; float: left; border: 0px solid black;'title=['MIKADO  PHEASANT'] src='dataset_birds\\test\\MIKADO  PHEASANT\\3.jpg'/></div><div class=\"zoom\"><img style='width: 100px; height: 100px; margin: 1px; float: left; border: 0px solid black;'title=['MIKADO  PHEASANT'] src='dataset_birds\\test\\MIKADO  PHEASANT\\4.jpg'/></div><div class=\"zoom\"><img style='width: 100px; height: 100px; margin: 1px; float: left; border: 0px solid black;'title=['MIKADO  PHEASANT'] src='dataset_birds\\test\\MIKADO  PHEASANT\\5.jpg'/></div>"
      ],
      "text/plain": [
       "<IPython.core.display.HTML object>"
      ]
     },
     "metadata": {},
     "output_type": "display_data"
    },
    {
     "name": "stdout",
     "output_type": "stream",
     "text": [
      "Drawing MILITARY MACAW\n"
     ]
    },
    {
     "data": {
      "text/html": [
       "<div class=\"zoom\"><img style='width: 100px; height: 100px; margin: 1px; float: left; border: 0px solid black;'title=['MILITARY MACAW'] src='dataset_birds\\test\\MILITARY MACAW\\1.jpg'/></div><div class=\"zoom\"><img style='width: 100px; height: 100px; margin: 1px; float: left; border: 0px solid black;'title=['MILITARY MACAW'] src='dataset_birds\\test\\MILITARY MACAW\\2.jpg'/></div><div class=\"zoom\"><img style='width: 100px; height: 100px; margin: 1px; float: left; border: 0px solid black;'title=['MILITARY MACAW'] src='dataset_birds\\test\\MILITARY MACAW\\3.jpg'/></div><div class=\"zoom\"><img style='width: 100px; height: 100px; margin: 1px; float: left; border: 0px solid black;'title=['MILITARY MACAW'] src='dataset_birds\\test\\MILITARY MACAW\\4.jpg'/></div><div class=\"zoom\"><img style='width: 100px; height: 100px; margin: 1px; float: left; border: 0px solid black;'title=['MILITARY MACAW'] src='dataset_birds\\test\\MILITARY MACAW\\5.jpg'/></div>"
      ],
      "text/plain": [
       "<IPython.core.display.HTML object>"
      ]
     },
     "metadata": {},
     "output_type": "display_data"
    },
    {
     "name": "stdout",
     "output_type": "stream",
     "text": [
      "Drawing MOURNING DOVE\n"
     ]
    },
    {
     "data": {
      "text/html": [
       "<div class=\"zoom\"><img style='width: 100px; height: 100px; margin: 1px; float: left; border: 0px solid black;'title=['MOURNING DOVE'] src='dataset_birds\\test\\MOURNING DOVE\\1.jpg'/></div><div class=\"zoom\"><img style='width: 100px; height: 100px; margin: 1px; float: left; border: 0px solid black;'title=['MOURNING DOVE'] src='dataset_birds\\test\\MOURNING DOVE\\2.jpg'/></div><div class=\"zoom\"><img style='width: 100px; height: 100px; margin: 1px; float: left; border: 0px solid black;'title=['MOURNING DOVE'] src='dataset_birds\\test\\MOURNING DOVE\\3.jpg'/></div><div class=\"zoom\"><img style='width: 100px; height: 100px; margin: 1px; float: left; border: 0px solid black;'title=['MOURNING DOVE'] src='dataset_birds\\test\\MOURNING DOVE\\4.jpg'/></div><div class=\"zoom\"><img style='width: 100px; height: 100px; margin: 1px; float: left; border: 0px solid black;'title=['MOURNING DOVE'] src='dataset_birds\\test\\MOURNING DOVE\\5.jpg'/></div>"
      ],
      "text/plain": [
       "<IPython.core.display.HTML object>"
      ]
     },
     "metadata": {},
     "output_type": "display_data"
    },
    {
     "name": "stdout",
     "output_type": "stream",
     "text": [
      "Drawing MYNA\n"
     ]
    },
    {
     "data": {
      "text/html": [
       "<div class=\"zoom\"><img style='width: 100px; height: 100px; margin: 1px; float: left; border: 0px solid black;'title=['MYNA'] src='dataset_birds\\test\\MYNA\\1.jpg'/></div><div class=\"zoom\"><img style='width: 100px; height: 100px; margin: 1px; float: left; border: 0px solid black;'title=['MYNA'] src='dataset_birds\\test\\MYNA\\2.jpg'/></div><div class=\"zoom\"><img style='width: 100px; height: 100px; margin: 1px; float: left; border: 0px solid black;'title=['MYNA'] src='dataset_birds\\test\\MYNA\\3.jpg'/></div><div class=\"zoom\"><img style='width: 100px; height: 100px; margin: 1px; float: left; border: 0px solid black;'title=['MYNA'] src='dataset_birds\\test\\MYNA\\4.jpg'/></div><div class=\"zoom\"><img style='width: 100px; height: 100px; margin: 1px; float: left; border: 0px solid black;'title=['MYNA'] src='dataset_birds\\test\\MYNA\\5.jpg'/></div>"
      ],
      "text/plain": [
       "<IPython.core.display.HTML object>"
      ]
     },
     "metadata": {},
     "output_type": "display_data"
    },
    {
     "name": "stdout",
     "output_type": "stream",
     "text": [
      "Drawing NICOBAR PIGEON\n"
     ]
    },
    {
     "data": {
      "text/html": [
       "<div class=\"zoom\"><img style='width: 100px; height: 100px; margin: 1px; float: left; border: 0px solid black;'title=['NICOBAR PIGEON'] src='dataset_birds\\test\\NICOBAR PIGEON\\1.jpg'/></div><div class=\"zoom\"><img style='width: 100px; height: 100px; margin: 1px; float: left; border: 0px solid black;'title=['NICOBAR PIGEON'] src='dataset_birds\\test\\NICOBAR PIGEON\\2.jpg'/></div><div class=\"zoom\"><img style='width: 100px; height: 100px; margin: 1px; float: left; border: 0px solid black;'title=['NICOBAR PIGEON'] src='dataset_birds\\test\\NICOBAR PIGEON\\3.jpg'/></div><div class=\"zoom\"><img style='width: 100px; height: 100px; margin: 1px; float: left; border: 0px solid black;'title=['NICOBAR PIGEON'] src='dataset_birds\\test\\NICOBAR PIGEON\\4.jpg'/></div><div class=\"zoom\"><img style='width: 100px; height: 100px; margin: 1px; float: left; border: 0px solid black;'title=['NICOBAR PIGEON'] src='dataset_birds\\test\\NICOBAR PIGEON\\5.jpg'/></div>"
      ],
      "text/plain": [
       "<IPython.core.display.HTML object>"
      ]
     },
     "metadata": {},
     "output_type": "display_data"
    },
    {
     "name": "stdout",
     "output_type": "stream",
     "text": [
      "Drawing NOISY FRIARBIRD\n"
     ]
    },
    {
     "data": {
      "text/html": [
       "<div class=\"zoom\"><img style='width: 100px; height: 100px; margin: 1px; float: left; border: 0px solid black;'title=['NOISY FRIARBIRD'] src='dataset_birds\\test\\NOISY FRIARBIRD\\1.jpg'/></div><div class=\"zoom\"><img style='width: 100px; height: 100px; margin: 1px; float: left; border: 0px solid black;'title=['NOISY FRIARBIRD'] src='dataset_birds\\test\\NOISY FRIARBIRD\\2.jpg'/></div><div class=\"zoom\"><img style='width: 100px; height: 100px; margin: 1px; float: left; border: 0px solid black;'title=['NOISY FRIARBIRD'] src='dataset_birds\\test\\NOISY FRIARBIRD\\3.jpg'/></div><div class=\"zoom\"><img style='width: 100px; height: 100px; margin: 1px; float: left; border: 0px solid black;'title=['NOISY FRIARBIRD'] src='dataset_birds\\test\\NOISY FRIARBIRD\\4.jpg'/></div><div class=\"zoom\"><img style='width: 100px; height: 100px; margin: 1px; float: left; border: 0px solid black;'title=['NOISY FRIARBIRD'] src='dataset_birds\\test\\NOISY FRIARBIRD\\5.jpg'/></div>"
      ],
      "text/plain": [
       "<IPython.core.display.HTML object>"
      ]
     },
     "metadata": {},
     "output_type": "display_data"
    },
    {
     "name": "stdout",
     "output_type": "stream",
     "text": [
      "Drawing NORTHERN BEARDLESS TYRANNULET\n"
     ]
    },
    {
     "data": {
      "text/html": [
       "<div class=\"zoom\"><img style='width: 100px; height: 100px; margin: 1px; float: left; border: 0px solid black;'title=['NORTHERN BEARDLESS TYRANNULET'] src='dataset_birds\\test\\NORTHERN BEARDLESS TYRANNULET\\1.jpg'/></div><div class=\"zoom\"><img style='width: 100px; height: 100px; margin: 1px; float: left; border: 0px solid black;'title=['NORTHERN BEARDLESS TYRANNULET'] src='dataset_birds\\test\\NORTHERN BEARDLESS TYRANNULET\\2.jpg'/></div><div class=\"zoom\"><img style='width: 100px; height: 100px; margin: 1px; float: left; border: 0px solid black;'title=['NORTHERN BEARDLESS TYRANNULET'] src='dataset_birds\\test\\NORTHERN BEARDLESS TYRANNULET\\3.jpg'/></div><div class=\"zoom\"><img style='width: 100px; height: 100px; margin: 1px; float: left; border: 0px solid black;'title=['NORTHERN BEARDLESS TYRANNULET'] src='dataset_birds\\test\\NORTHERN BEARDLESS TYRANNULET\\4.jpg'/></div><div class=\"zoom\"><img style='width: 100px; height: 100px; margin: 1px; float: left; border: 0px solid black;'title=['NORTHERN BEARDLESS TYRANNULET'] src='dataset_birds\\test\\NORTHERN BEARDLESS TYRANNULET\\5.jpg'/></div>"
      ],
      "text/plain": [
       "<IPython.core.display.HTML object>"
      ]
     },
     "metadata": {},
     "output_type": "display_data"
    },
    {
     "name": "stdout",
     "output_type": "stream",
     "text": [
      "Drawing NORTHERN CARDINAL\n"
     ]
    },
    {
     "data": {
      "text/html": [
       "<div class=\"zoom\"><img style='width: 100px; height: 100px; margin: 1px; float: left; border: 0px solid black;'title=['NORTHERN CARDINAL'] src='dataset_birds\\test\\NORTHERN CARDINAL\\1.jpg'/></div><div class=\"zoom\"><img style='width: 100px; height: 100px; margin: 1px; float: left; border: 0px solid black;'title=['NORTHERN CARDINAL'] src='dataset_birds\\test\\NORTHERN CARDINAL\\2.jpg'/></div><div class=\"zoom\"><img style='width: 100px; height: 100px; margin: 1px; float: left; border: 0px solid black;'title=['NORTHERN CARDINAL'] src='dataset_birds\\test\\NORTHERN CARDINAL\\3.jpg'/></div><div class=\"zoom\"><img style='width: 100px; height: 100px; margin: 1px; float: left; border: 0px solid black;'title=['NORTHERN CARDINAL'] src='dataset_birds\\test\\NORTHERN CARDINAL\\4.jpg'/></div><div class=\"zoom\"><img style='width: 100px; height: 100px; margin: 1px; float: left; border: 0px solid black;'title=['NORTHERN CARDINAL'] src='dataset_birds\\test\\NORTHERN CARDINAL\\5.jpg'/></div>"
      ],
      "text/plain": [
       "<IPython.core.display.HTML object>"
      ]
     },
     "metadata": {},
     "output_type": "display_data"
    },
    {
     "name": "stdout",
     "output_type": "stream",
     "text": [
      "Drawing NORTHERN FLICKER\n"
     ]
    },
    {
     "data": {
      "text/html": [
       "<div class=\"zoom\"><img style='width: 100px; height: 100px; margin: 1px; float: left; border: 0px solid black;'title=['NORTHERN FLICKER'] src='dataset_birds\\test\\NORTHERN FLICKER\\1.jpg'/></div><div class=\"zoom\"><img style='width: 100px; height: 100px; margin: 1px; float: left; border: 0px solid black;'title=['NORTHERN FLICKER'] src='dataset_birds\\test\\NORTHERN FLICKER\\2.jpg'/></div><div class=\"zoom\"><img style='width: 100px; height: 100px; margin: 1px; float: left; border: 0px solid black;'title=['NORTHERN FLICKER'] src='dataset_birds\\test\\NORTHERN FLICKER\\3.jpg'/></div><div class=\"zoom\"><img style='width: 100px; height: 100px; margin: 1px; float: left; border: 0px solid black;'title=['NORTHERN FLICKER'] src='dataset_birds\\test\\NORTHERN FLICKER\\4.jpg'/></div><div class=\"zoom\"><img style='width: 100px; height: 100px; margin: 1px; float: left; border: 0px solid black;'title=['NORTHERN FLICKER'] src='dataset_birds\\test\\NORTHERN FLICKER\\5.jpg'/></div>"
      ],
      "text/plain": [
       "<IPython.core.display.HTML object>"
      ]
     },
     "metadata": {},
     "output_type": "display_data"
    },
    {
     "name": "stdout",
     "output_type": "stream",
     "text": [
      "Drawing NORTHERN FULMAR\n"
     ]
    },
    {
     "data": {
      "text/html": [
       "<div class=\"zoom\"><img style='width: 100px; height: 100px; margin: 1px; float: left; border: 0px solid black;'title=['NORTHERN FULMAR'] src='dataset_birds\\test\\NORTHERN FULMAR\\1.jpg'/></div><div class=\"zoom\"><img style='width: 100px; height: 100px; margin: 1px; float: left; border: 0px solid black;'title=['NORTHERN FULMAR'] src='dataset_birds\\test\\NORTHERN FULMAR\\2.jpg'/></div><div class=\"zoom\"><img style='width: 100px; height: 100px; margin: 1px; float: left; border: 0px solid black;'title=['NORTHERN FULMAR'] src='dataset_birds\\test\\NORTHERN FULMAR\\3.jpg'/></div><div class=\"zoom\"><img style='width: 100px; height: 100px; margin: 1px; float: left; border: 0px solid black;'title=['NORTHERN FULMAR'] src='dataset_birds\\test\\NORTHERN FULMAR\\4.jpg'/></div><div class=\"zoom\"><img style='width: 100px; height: 100px; margin: 1px; float: left; border: 0px solid black;'title=['NORTHERN FULMAR'] src='dataset_birds\\test\\NORTHERN FULMAR\\5.jpg'/></div>"
      ],
      "text/plain": [
       "<IPython.core.display.HTML object>"
      ]
     },
     "metadata": {},
     "output_type": "display_data"
    },
    {
     "name": "stdout",
     "output_type": "stream",
     "text": [
      "Drawing NORTHERN GANNET\n"
     ]
    },
    {
     "data": {
      "text/html": [
       "<div class=\"zoom\"><img style='width: 100px; height: 100px; margin: 1px; float: left; border: 0px solid black;'title=['NORTHERN GANNET'] src='dataset_birds\\test\\NORTHERN GANNET\\1.jpg'/></div><div class=\"zoom\"><img style='width: 100px; height: 100px; margin: 1px; float: left; border: 0px solid black;'title=['NORTHERN GANNET'] src='dataset_birds\\test\\NORTHERN GANNET\\2.jpg'/></div><div class=\"zoom\"><img style='width: 100px; height: 100px; margin: 1px; float: left; border: 0px solid black;'title=['NORTHERN GANNET'] src='dataset_birds\\test\\NORTHERN GANNET\\3.jpg'/></div><div class=\"zoom\"><img style='width: 100px; height: 100px; margin: 1px; float: left; border: 0px solid black;'title=['NORTHERN GANNET'] src='dataset_birds\\test\\NORTHERN GANNET\\4.jpg'/></div><div class=\"zoom\"><img style='width: 100px; height: 100px; margin: 1px; float: left; border: 0px solid black;'title=['NORTHERN GANNET'] src='dataset_birds\\test\\NORTHERN GANNET\\5.jpg'/></div>"
      ],
      "text/plain": [
       "<IPython.core.display.HTML object>"
      ]
     },
     "metadata": {},
     "output_type": "display_data"
    },
    {
     "name": "stdout",
     "output_type": "stream",
     "text": [
      "Drawing NORTHERN GOSHAWK\n"
     ]
    },
    {
     "data": {
      "text/html": [
       "<div class=\"zoom\"><img style='width: 100px; height: 100px; margin: 1px; float: left; border: 0px solid black;'title=['NORTHERN GOSHAWK'] src='dataset_birds\\test\\NORTHERN GOSHAWK\\1.jpg'/></div><div class=\"zoom\"><img style='width: 100px; height: 100px; margin: 1px; float: left; border: 0px solid black;'title=['NORTHERN GOSHAWK'] src='dataset_birds\\test\\NORTHERN GOSHAWK\\2.jpg'/></div><div class=\"zoom\"><img style='width: 100px; height: 100px; margin: 1px; float: left; border: 0px solid black;'title=['NORTHERN GOSHAWK'] src='dataset_birds\\test\\NORTHERN GOSHAWK\\3.jpg'/></div><div class=\"zoom\"><img style='width: 100px; height: 100px; margin: 1px; float: left; border: 0px solid black;'title=['NORTHERN GOSHAWK'] src='dataset_birds\\test\\NORTHERN GOSHAWK\\4.jpg'/></div><div class=\"zoom\"><img style='width: 100px; height: 100px; margin: 1px; float: left; border: 0px solid black;'title=['NORTHERN GOSHAWK'] src='dataset_birds\\test\\NORTHERN GOSHAWK\\5.jpg'/></div>"
      ],
      "text/plain": [
       "<IPython.core.display.HTML object>"
      ]
     },
     "metadata": {},
     "output_type": "display_data"
    },
    {
     "name": "stdout",
     "output_type": "stream",
     "text": [
      "Drawing NORTHERN JACANA\n"
     ]
    },
    {
     "data": {
      "text/html": [
       "<div class=\"zoom\"><img style='width: 100px; height: 100px; margin: 1px; float: left; border: 0px solid black;'title=['NORTHERN JACANA'] src='dataset_birds\\test\\NORTHERN JACANA\\1.jpg'/></div><div class=\"zoom\"><img style='width: 100px; height: 100px; margin: 1px; float: left; border: 0px solid black;'title=['NORTHERN JACANA'] src='dataset_birds\\test\\NORTHERN JACANA\\2.jpg'/></div><div class=\"zoom\"><img style='width: 100px; height: 100px; margin: 1px; float: left; border: 0px solid black;'title=['NORTHERN JACANA'] src='dataset_birds\\test\\NORTHERN JACANA\\3.jpg'/></div><div class=\"zoom\"><img style='width: 100px; height: 100px; margin: 1px; float: left; border: 0px solid black;'title=['NORTHERN JACANA'] src='dataset_birds\\test\\NORTHERN JACANA\\4.jpg'/></div><div class=\"zoom\"><img style='width: 100px; height: 100px; margin: 1px; float: left; border: 0px solid black;'title=['NORTHERN JACANA'] src='dataset_birds\\test\\NORTHERN JACANA\\5.jpg'/></div>"
      ],
      "text/plain": [
       "<IPython.core.display.HTML object>"
      ]
     },
     "metadata": {},
     "output_type": "display_data"
    },
    {
     "name": "stdout",
     "output_type": "stream",
     "text": [
      "Drawing NORTHERN MOCKINGBIRD\n"
     ]
    },
    {
     "data": {
      "text/html": [
       "<div class=\"zoom\"><img style='width: 100px; height: 100px; margin: 1px; float: left; border: 0px solid black;'title=['NORTHERN MOCKINGBIRD'] src='dataset_birds\\test\\NORTHERN MOCKINGBIRD\\1.jpg'/></div><div class=\"zoom\"><img style='width: 100px; height: 100px; margin: 1px; float: left; border: 0px solid black;'title=['NORTHERN MOCKINGBIRD'] src='dataset_birds\\test\\NORTHERN MOCKINGBIRD\\2.jpg'/></div><div class=\"zoom\"><img style='width: 100px; height: 100px; margin: 1px; float: left; border: 0px solid black;'title=['NORTHERN MOCKINGBIRD'] src='dataset_birds\\test\\NORTHERN MOCKINGBIRD\\3.jpg'/></div><div class=\"zoom\"><img style='width: 100px; height: 100px; margin: 1px; float: left; border: 0px solid black;'title=['NORTHERN MOCKINGBIRD'] src='dataset_birds\\test\\NORTHERN MOCKINGBIRD\\4.jpg'/></div><div class=\"zoom\"><img style='width: 100px; height: 100px; margin: 1px; float: left; border: 0px solid black;'title=['NORTHERN MOCKINGBIRD'] src='dataset_birds\\test\\NORTHERN MOCKINGBIRD\\5.jpg'/></div>"
      ],
      "text/plain": [
       "<IPython.core.display.HTML object>"
      ]
     },
     "metadata": {},
     "output_type": "display_data"
    },
    {
     "name": "stdout",
     "output_type": "stream",
     "text": [
      "Drawing NORTHERN PARULA\n"
     ]
    },
    {
     "data": {
      "text/html": [
       "<div class=\"zoom\"><img style='width: 100px; height: 100px; margin: 1px; float: left; border: 0px solid black;'title=['NORTHERN PARULA'] src='dataset_birds\\test\\NORTHERN PARULA\\1.jpg'/></div><div class=\"zoom\"><img style='width: 100px; height: 100px; margin: 1px; float: left; border: 0px solid black;'title=['NORTHERN PARULA'] src='dataset_birds\\test\\NORTHERN PARULA\\2.jpg'/></div><div class=\"zoom\"><img style='width: 100px; height: 100px; margin: 1px; float: left; border: 0px solid black;'title=['NORTHERN PARULA'] src='dataset_birds\\test\\NORTHERN PARULA\\3.jpg'/></div><div class=\"zoom\"><img style='width: 100px; height: 100px; margin: 1px; float: left; border: 0px solid black;'title=['NORTHERN PARULA'] src='dataset_birds\\test\\NORTHERN PARULA\\4.jpg'/></div><div class=\"zoom\"><img style='width: 100px; height: 100px; margin: 1px; float: left; border: 0px solid black;'title=['NORTHERN PARULA'] src='dataset_birds\\test\\NORTHERN PARULA\\5.jpg'/></div>"
      ],
      "text/plain": [
       "<IPython.core.display.HTML object>"
      ]
     },
     "metadata": {},
     "output_type": "display_data"
    },
    {
     "name": "stdout",
     "output_type": "stream",
     "text": [
      "Drawing NORTHERN RED BISHOP\n"
     ]
    },
    {
     "data": {
      "text/html": [
       "<div class=\"zoom\"><img style='width: 100px; height: 100px; margin: 1px; float: left; border: 0px solid black;'title=['NORTHERN RED BISHOP'] src='dataset_birds\\test\\NORTHERN RED BISHOP\\1.jpg'/></div><div class=\"zoom\"><img style='width: 100px; height: 100px; margin: 1px; float: left; border: 0px solid black;'title=['NORTHERN RED BISHOP'] src='dataset_birds\\test\\NORTHERN RED BISHOP\\2.jpg'/></div><div class=\"zoom\"><img style='width: 100px; height: 100px; margin: 1px; float: left; border: 0px solid black;'title=['NORTHERN RED BISHOP'] src='dataset_birds\\test\\NORTHERN RED BISHOP\\3.jpg'/></div><div class=\"zoom\"><img style='width: 100px; height: 100px; margin: 1px; float: left; border: 0px solid black;'title=['NORTHERN RED BISHOP'] src='dataset_birds\\test\\NORTHERN RED BISHOP\\4.jpg'/></div><div class=\"zoom\"><img style='width: 100px; height: 100px; margin: 1px; float: left; border: 0px solid black;'title=['NORTHERN RED BISHOP'] src='dataset_birds\\test\\NORTHERN RED BISHOP\\5.jpg'/></div>"
      ],
      "text/plain": [
       "<IPython.core.display.HTML object>"
      ]
     },
     "metadata": {},
     "output_type": "display_data"
    },
    {
     "name": "stdout",
     "output_type": "stream",
     "text": [
      "Drawing NORTHERN SHOVELER\n"
     ]
    },
    {
     "data": {
      "text/html": [
       "<div class=\"zoom\"><img style='width: 100px; height: 100px; margin: 1px; float: left; border: 0px solid black;'title=['NORTHERN SHOVELER'] src='dataset_birds\\test\\NORTHERN SHOVELER\\1.jpg'/></div><div class=\"zoom\"><img style='width: 100px; height: 100px; margin: 1px; float: left; border: 0px solid black;'title=['NORTHERN SHOVELER'] src='dataset_birds\\test\\NORTHERN SHOVELER\\2.jpg'/></div><div class=\"zoom\"><img style='width: 100px; height: 100px; margin: 1px; float: left; border: 0px solid black;'title=['NORTHERN SHOVELER'] src='dataset_birds\\test\\NORTHERN SHOVELER\\3.jpg'/></div><div class=\"zoom\"><img style='width: 100px; height: 100px; margin: 1px; float: left; border: 0px solid black;'title=['NORTHERN SHOVELER'] src='dataset_birds\\test\\NORTHERN SHOVELER\\4.jpg'/></div><div class=\"zoom\"><img style='width: 100px; height: 100px; margin: 1px; float: left; border: 0px solid black;'title=['NORTHERN SHOVELER'] src='dataset_birds\\test\\NORTHERN SHOVELER\\5.jpg'/></div>"
      ],
      "text/plain": [
       "<IPython.core.display.HTML object>"
      ]
     },
     "metadata": {},
     "output_type": "display_data"
    },
    {
     "name": "stdout",
     "output_type": "stream",
     "text": [
      "Drawing OCELLATED TURKEY\n"
     ]
    },
    {
     "data": {
      "text/html": [
       "<div class=\"zoom\"><img style='width: 100px; height: 100px; margin: 1px; float: left; border: 0px solid black;'title=['OCELLATED TURKEY'] src='dataset_birds\\test\\OCELLATED TURKEY\\1.jpg'/></div><div class=\"zoom\"><img style='width: 100px; height: 100px; margin: 1px; float: left; border: 0px solid black;'title=['OCELLATED TURKEY'] src='dataset_birds\\test\\OCELLATED TURKEY\\2.jpg'/></div><div class=\"zoom\"><img style='width: 100px; height: 100px; margin: 1px; float: left; border: 0px solid black;'title=['OCELLATED TURKEY'] src='dataset_birds\\test\\OCELLATED TURKEY\\3.jpg'/></div><div class=\"zoom\"><img style='width: 100px; height: 100px; margin: 1px; float: left; border: 0px solid black;'title=['OCELLATED TURKEY'] src='dataset_birds\\test\\OCELLATED TURKEY\\4.jpg'/></div><div class=\"zoom\"><img style='width: 100px; height: 100px; margin: 1px; float: left; border: 0px solid black;'title=['OCELLATED TURKEY'] src='dataset_birds\\test\\OCELLATED TURKEY\\5.jpg'/></div>"
      ],
      "text/plain": [
       "<IPython.core.display.HTML object>"
      ]
     },
     "metadata": {},
     "output_type": "display_data"
    },
    {
     "name": "stdout",
     "output_type": "stream",
     "text": [
      "Drawing OILBIRD\n"
     ]
    },
    {
     "data": {
      "text/html": [
       "<div class=\"zoom\"><img style='width: 100px; height: 100px; margin: 1px; float: left; border: 0px solid black;'title=['OILBIRD'] src='dataset_birds\\test\\OILBIRD\\1.jpg'/></div><div class=\"zoom\"><img style='width: 100px; height: 100px; margin: 1px; float: left; border: 0px solid black;'title=['OILBIRD'] src='dataset_birds\\test\\OILBIRD\\2.jpg'/></div><div class=\"zoom\"><img style='width: 100px; height: 100px; margin: 1px; float: left; border: 0px solid black;'title=['OILBIRD'] src='dataset_birds\\test\\OILBIRD\\3.jpg'/></div><div class=\"zoom\"><img style='width: 100px; height: 100px; margin: 1px; float: left; border: 0px solid black;'title=['OILBIRD'] src='dataset_birds\\test\\OILBIRD\\4.jpg'/></div><div class=\"zoom\"><img style='width: 100px; height: 100px; margin: 1px; float: left; border: 0px solid black;'title=['OILBIRD'] src='dataset_birds\\test\\OILBIRD\\5.jpg'/></div>"
      ],
      "text/plain": [
       "<IPython.core.display.HTML object>"
      ]
     },
     "metadata": {},
     "output_type": "display_data"
    },
    {
     "name": "stdout",
     "output_type": "stream",
     "text": [
      "Drawing OKINAWA RAIL\n"
     ]
    },
    {
     "data": {
      "text/html": [
       "<div class=\"zoom\"><img style='width: 100px; height: 100px; margin: 1px; float: left; border: 0px solid black;'title=['OKINAWA RAIL'] src='dataset_birds\\test\\OKINAWA RAIL\\1.jpg'/></div><div class=\"zoom\"><img style='width: 100px; height: 100px; margin: 1px; float: left; border: 0px solid black;'title=['OKINAWA RAIL'] src='dataset_birds\\test\\OKINAWA RAIL\\2.jpg'/></div><div class=\"zoom\"><img style='width: 100px; height: 100px; margin: 1px; float: left; border: 0px solid black;'title=['OKINAWA RAIL'] src='dataset_birds\\test\\OKINAWA RAIL\\3.jpg'/></div><div class=\"zoom\"><img style='width: 100px; height: 100px; margin: 1px; float: left; border: 0px solid black;'title=['OKINAWA RAIL'] src='dataset_birds\\test\\OKINAWA RAIL\\4.jpg'/></div><div class=\"zoom\"><img style='width: 100px; height: 100px; margin: 1px; float: left; border: 0px solid black;'title=['OKINAWA RAIL'] src='dataset_birds\\test\\OKINAWA RAIL\\5.jpg'/></div>"
      ],
      "text/plain": [
       "<IPython.core.display.HTML object>"
      ]
     },
     "metadata": {},
     "output_type": "display_data"
    },
    {
     "name": "stdout",
     "output_type": "stream",
     "text": [
      "Drawing ORANGE BREASTED TROGON\n"
     ]
    },
    {
     "data": {
      "text/html": [
       "<div class=\"zoom\"><img style='width: 100px; height: 100px; margin: 1px; float: left; border: 0px solid black;'title=['ORANGE BREASTED TROGON'] src='dataset_birds\\test\\ORANGE BREASTED TROGON\\1.jpg'/></div><div class=\"zoom\"><img style='width: 100px; height: 100px; margin: 1px; float: left; border: 0px solid black;'title=['ORANGE BREASTED TROGON'] src='dataset_birds\\test\\ORANGE BREASTED TROGON\\2.jpg'/></div><div class=\"zoom\"><img style='width: 100px; height: 100px; margin: 1px; float: left; border: 0px solid black;'title=['ORANGE BREASTED TROGON'] src='dataset_birds\\test\\ORANGE BREASTED TROGON\\3.jpg'/></div><div class=\"zoom\"><img style='width: 100px; height: 100px; margin: 1px; float: left; border: 0px solid black;'title=['ORANGE BREASTED TROGON'] src='dataset_birds\\test\\ORANGE BREASTED TROGON\\4.jpg'/></div><div class=\"zoom\"><img style='width: 100px; height: 100px; margin: 1px; float: left; border: 0px solid black;'title=['ORANGE BREASTED TROGON'] src='dataset_birds\\test\\ORANGE BREASTED TROGON\\5.jpg'/></div>"
      ],
      "text/plain": [
       "<IPython.core.display.HTML object>"
      ]
     },
     "metadata": {},
     "output_type": "display_data"
    },
    {
     "name": "stdout",
     "output_type": "stream",
     "text": [
      "Drawing ORANGE BRESTED BUNTING\n"
     ]
    },
    {
     "data": {
      "text/html": [
       "<div class=\"zoom\"><img style='width: 100px; height: 100px; margin: 1px; float: left; border: 0px solid black;'title=['ORANGE BRESTED BUNTING'] src='dataset_birds\\test\\ORANGE BRESTED BUNTING\\1.jpg'/></div><div class=\"zoom\"><img style='width: 100px; height: 100px; margin: 1px; float: left; border: 0px solid black;'title=['ORANGE BRESTED BUNTING'] src='dataset_birds\\test\\ORANGE BRESTED BUNTING\\2.jpg'/></div><div class=\"zoom\"><img style='width: 100px; height: 100px; margin: 1px; float: left; border: 0px solid black;'title=['ORANGE BRESTED BUNTING'] src='dataset_birds\\test\\ORANGE BRESTED BUNTING\\3.jpg'/></div><div class=\"zoom\"><img style='width: 100px; height: 100px; margin: 1px; float: left; border: 0px solid black;'title=['ORANGE BRESTED BUNTING'] src='dataset_birds\\test\\ORANGE BRESTED BUNTING\\4.jpg'/></div><div class=\"zoom\"><img style='width: 100px; height: 100px; margin: 1px; float: left; border: 0px solid black;'title=['ORANGE BRESTED BUNTING'] src='dataset_birds\\test\\ORANGE BRESTED BUNTING\\5.jpg'/></div>"
      ],
      "text/plain": [
       "<IPython.core.display.HTML object>"
      ]
     },
     "metadata": {},
     "output_type": "display_data"
    },
    {
     "name": "stdout",
     "output_type": "stream",
     "text": [
      "Drawing ORIENTAL BAY OWL\n"
     ]
    },
    {
     "data": {
      "text/html": [
       "<div class=\"zoom\"><img style='width: 100px; height: 100px; margin: 1px; float: left; border: 0px solid black;'title=['ORIENTAL BAY OWL'] src='dataset_birds\\test\\ORIENTAL BAY OWL\\1.jpg'/></div><div class=\"zoom\"><img style='width: 100px; height: 100px; margin: 1px; float: left; border: 0px solid black;'title=['ORIENTAL BAY OWL'] src='dataset_birds\\test\\ORIENTAL BAY OWL\\2.jpg'/></div><div class=\"zoom\"><img style='width: 100px; height: 100px; margin: 1px; float: left; border: 0px solid black;'title=['ORIENTAL BAY OWL'] src='dataset_birds\\test\\ORIENTAL BAY OWL\\3.jpg'/></div><div class=\"zoom\"><img style='width: 100px; height: 100px; margin: 1px; float: left; border: 0px solid black;'title=['ORIENTAL BAY OWL'] src='dataset_birds\\test\\ORIENTAL BAY OWL\\4.jpg'/></div><div class=\"zoom\"><img style='width: 100px; height: 100px; margin: 1px; float: left; border: 0px solid black;'title=['ORIENTAL BAY OWL'] src='dataset_birds\\test\\ORIENTAL BAY OWL\\5.jpg'/></div>"
      ],
      "text/plain": [
       "<IPython.core.display.HTML object>"
      ]
     },
     "metadata": {},
     "output_type": "display_data"
    },
    {
     "name": "stdout",
     "output_type": "stream",
     "text": [
      "Drawing ORNATE HAWK EAGLE\n"
     ]
    },
    {
     "data": {
      "text/html": [
       "<div class=\"zoom\"><img style='width: 100px; height: 100px; margin: 1px; float: left; border: 0px solid black;'title=['ORNATE HAWK EAGLE'] src='dataset_birds\\test\\ORNATE HAWK EAGLE\\1.jpg'/></div><div class=\"zoom\"><img style='width: 100px; height: 100px; margin: 1px; float: left; border: 0px solid black;'title=['ORNATE HAWK EAGLE'] src='dataset_birds\\test\\ORNATE HAWK EAGLE\\2.jpg'/></div><div class=\"zoom\"><img style='width: 100px; height: 100px; margin: 1px; float: left; border: 0px solid black;'title=['ORNATE HAWK EAGLE'] src='dataset_birds\\test\\ORNATE HAWK EAGLE\\3.jpg'/></div><div class=\"zoom\"><img style='width: 100px; height: 100px; margin: 1px; float: left; border: 0px solid black;'title=['ORNATE HAWK EAGLE'] src='dataset_birds\\test\\ORNATE HAWK EAGLE\\4.jpg'/></div><div class=\"zoom\"><img style='width: 100px; height: 100px; margin: 1px; float: left; border: 0px solid black;'title=['ORNATE HAWK EAGLE'] src='dataset_birds\\test\\ORNATE HAWK EAGLE\\5.jpg'/></div>"
      ],
      "text/plain": [
       "<IPython.core.display.HTML object>"
      ]
     },
     "metadata": {},
     "output_type": "display_data"
    },
    {
     "name": "stdout",
     "output_type": "stream",
     "text": [
      "Drawing OSPREY\n"
     ]
    },
    {
     "data": {
      "text/html": [
       "<div class=\"zoom\"><img style='width: 100px; height: 100px; margin: 1px; float: left; border: 0px solid black;'title=['OSPREY'] src='dataset_birds\\test\\OSPREY\\1.jpg'/></div><div class=\"zoom\"><img style='width: 100px; height: 100px; margin: 1px; float: left; border: 0px solid black;'title=['OSPREY'] src='dataset_birds\\test\\OSPREY\\2.jpg'/></div><div class=\"zoom\"><img style='width: 100px; height: 100px; margin: 1px; float: left; border: 0px solid black;'title=['OSPREY'] src='dataset_birds\\test\\OSPREY\\3.jpg'/></div><div class=\"zoom\"><img style='width: 100px; height: 100px; margin: 1px; float: left; border: 0px solid black;'title=['OSPREY'] src='dataset_birds\\test\\OSPREY\\4.jpg'/></div><div class=\"zoom\"><img style='width: 100px; height: 100px; margin: 1px; float: left; border: 0px solid black;'title=['OSPREY'] src='dataset_birds\\test\\OSPREY\\5.jpg'/></div>"
      ],
      "text/plain": [
       "<IPython.core.display.HTML object>"
      ]
     },
     "metadata": {},
     "output_type": "display_data"
    },
    {
     "name": "stdout",
     "output_type": "stream",
     "text": [
      "Drawing OSTRICH\n"
     ]
    },
    {
     "data": {
      "text/html": [
       "<div class=\"zoom\"><img style='width: 100px; height: 100px; margin: 1px; float: left; border: 0px solid black;'title=['OSTRICH'] src='dataset_birds\\test\\OSTRICH\\1.jpg'/></div><div class=\"zoom\"><img style='width: 100px; height: 100px; margin: 1px; float: left; border: 0px solid black;'title=['OSTRICH'] src='dataset_birds\\test\\OSTRICH\\2.jpg'/></div><div class=\"zoom\"><img style='width: 100px; height: 100px; margin: 1px; float: left; border: 0px solid black;'title=['OSTRICH'] src='dataset_birds\\test\\OSTRICH\\3.jpg'/></div><div class=\"zoom\"><img style='width: 100px; height: 100px; margin: 1px; float: left; border: 0px solid black;'title=['OSTRICH'] src='dataset_birds\\test\\OSTRICH\\4.jpg'/></div><div class=\"zoom\"><img style='width: 100px; height: 100px; margin: 1px; float: left; border: 0px solid black;'title=['OSTRICH'] src='dataset_birds\\test\\OSTRICH\\5.jpg'/></div>"
      ],
      "text/plain": [
       "<IPython.core.display.HTML object>"
      ]
     },
     "metadata": {},
     "output_type": "display_data"
    },
    {
     "name": "stdout",
     "output_type": "stream",
     "text": [
      "Drawing OVENBIRD\n"
     ]
    },
    {
     "data": {
      "text/html": [
       "<div class=\"zoom\"><img style='width: 100px; height: 100px; margin: 1px; float: left; border: 0px solid black;'title=['OVENBIRD'] src='dataset_birds\\test\\OVENBIRD\\1.jpg'/></div><div class=\"zoom\"><img style='width: 100px; height: 100px; margin: 1px; float: left; border: 0px solid black;'title=['OVENBIRD'] src='dataset_birds\\test\\OVENBIRD\\2.jpg'/></div><div class=\"zoom\"><img style='width: 100px; height: 100px; margin: 1px; float: left; border: 0px solid black;'title=['OVENBIRD'] src='dataset_birds\\test\\OVENBIRD\\3.jpg'/></div><div class=\"zoom\"><img style='width: 100px; height: 100px; margin: 1px; float: left; border: 0px solid black;'title=['OVENBIRD'] src='dataset_birds\\test\\OVENBIRD\\4.jpg'/></div><div class=\"zoom\"><img style='width: 100px; height: 100px; margin: 1px; float: left; border: 0px solid black;'title=['OVENBIRD'] src='dataset_birds\\test\\OVENBIRD\\5.jpg'/></div>"
      ],
      "text/plain": [
       "<IPython.core.display.HTML object>"
      ]
     },
     "metadata": {},
     "output_type": "display_data"
    },
    {
     "name": "stdout",
     "output_type": "stream",
     "text": [
      "Drawing OYSTER CATCHER\n"
     ]
    },
    {
     "data": {
      "text/html": [
       "<div class=\"zoom\"><img style='width: 100px; height: 100px; margin: 1px; float: left; border: 0px solid black;'title=['OYSTER CATCHER'] src='dataset_birds\\test\\OYSTER CATCHER\\1.jpg'/></div><div class=\"zoom\"><img style='width: 100px; height: 100px; margin: 1px; float: left; border: 0px solid black;'title=['OYSTER CATCHER'] src='dataset_birds\\test\\OYSTER CATCHER\\2.jpg'/></div><div class=\"zoom\"><img style='width: 100px; height: 100px; margin: 1px; float: left; border: 0px solid black;'title=['OYSTER CATCHER'] src='dataset_birds\\test\\OYSTER CATCHER\\3.jpg'/></div><div class=\"zoom\"><img style='width: 100px; height: 100px; margin: 1px; float: left; border: 0px solid black;'title=['OYSTER CATCHER'] src='dataset_birds\\test\\OYSTER CATCHER\\4.jpg'/></div><div class=\"zoom\"><img style='width: 100px; height: 100px; margin: 1px; float: left; border: 0px solid black;'title=['OYSTER CATCHER'] src='dataset_birds\\test\\OYSTER CATCHER\\5.jpg'/></div>"
      ],
      "text/plain": [
       "<IPython.core.display.HTML object>"
      ]
     },
     "metadata": {},
     "output_type": "display_data"
    },
    {
     "name": "stdout",
     "output_type": "stream",
     "text": [
      "Drawing PAINTED BUNTING\n"
     ]
    },
    {
     "data": {
      "text/html": [
       "<div class=\"zoom\"><img style='width: 100px; height: 100px; margin: 1px; float: left; border: 0px solid black;'title=['PAINTED BUNTING'] src='dataset_birds\\test\\PAINTED BUNTING\\1.jpg'/></div><div class=\"zoom\"><img style='width: 100px; height: 100px; margin: 1px; float: left; border: 0px solid black;'title=['PAINTED BUNTING'] src='dataset_birds\\test\\PAINTED BUNTING\\2.jpg'/></div><div class=\"zoom\"><img style='width: 100px; height: 100px; margin: 1px; float: left; border: 0px solid black;'title=['PAINTED BUNTING'] src='dataset_birds\\test\\PAINTED BUNTING\\3.jpg'/></div><div class=\"zoom\"><img style='width: 100px; height: 100px; margin: 1px; float: left; border: 0px solid black;'title=['PAINTED BUNTING'] src='dataset_birds\\test\\PAINTED BUNTING\\4.jpg'/></div><div class=\"zoom\"><img style='width: 100px; height: 100px; margin: 1px; float: left; border: 0px solid black;'title=['PAINTED BUNTING'] src='dataset_birds\\test\\PAINTED BUNTING\\5.jpg'/></div>"
      ],
      "text/plain": [
       "<IPython.core.display.HTML object>"
      ]
     },
     "metadata": {},
     "output_type": "display_data"
    },
    {
     "name": "stdout",
     "output_type": "stream",
     "text": [
      "Drawing PALILA\n"
     ]
    },
    {
     "data": {
      "text/html": [
       "<div class=\"zoom\"><img style='width: 100px; height: 100px; margin: 1px; float: left; border: 0px solid black;'title=['PALILA'] src='dataset_birds\\test\\PALILA\\1.jpg'/></div><div class=\"zoom\"><img style='width: 100px; height: 100px; margin: 1px; float: left; border: 0px solid black;'title=['PALILA'] src='dataset_birds\\test\\PALILA\\2.jpg'/></div><div class=\"zoom\"><img style='width: 100px; height: 100px; margin: 1px; float: left; border: 0px solid black;'title=['PALILA'] src='dataset_birds\\test\\PALILA\\3.jpg'/></div><div class=\"zoom\"><img style='width: 100px; height: 100px; margin: 1px; float: left; border: 0px solid black;'title=['PALILA'] src='dataset_birds\\test\\PALILA\\4.jpg'/></div><div class=\"zoom\"><img style='width: 100px; height: 100px; margin: 1px; float: left; border: 0px solid black;'title=['PALILA'] src='dataset_birds\\test\\PALILA\\5.jpg'/></div>"
      ],
      "text/plain": [
       "<IPython.core.display.HTML object>"
      ]
     },
     "metadata": {},
     "output_type": "display_data"
    },
    {
     "name": "stdout",
     "output_type": "stream",
     "text": [
      "Drawing PALM NUT VULTURE\n"
     ]
    },
    {
     "data": {
      "text/html": [
       "<div class=\"zoom\"><img style='width: 100px; height: 100px; margin: 1px; float: left; border: 0px solid black;'title=['PALM NUT VULTURE'] src='dataset_birds\\test\\PALM NUT VULTURE\\1.jpg'/></div><div class=\"zoom\"><img style='width: 100px; height: 100px; margin: 1px; float: left; border: 0px solid black;'title=['PALM NUT VULTURE'] src='dataset_birds\\test\\PALM NUT VULTURE\\2.jpg'/></div><div class=\"zoom\"><img style='width: 100px; height: 100px; margin: 1px; float: left; border: 0px solid black;'title=['PALM NUT VULTURE'] src='dataset_birds\\test\\PALM NUT VULTURE\\3.jpg'/></div><div class=\"zoom\"><img style='width: 100px; height: 100px; margin: 1px; float: left; border: 0px solid black;'title=['PALM NUT VULTURE'] src='dataset_birds\\test\\PALM NUT VULTURE\\4.jpg'/></div><div class=\"zoom\"><img style='width: 100px; height: 100px; margin: 1px; float: left; border: 0px solid black;'title=['PALM NUT VULTURE'] src='dataset_birds\\test\\PALM NUT VULTURE\\5.jpg'/></div>"
      ],
      "text/plain": [
       "<IPython.core.display.HTML object>"
      ]
     },
     "metadata": {},
     "output_type": "display_data"
    },
    {
     "name": "stdout",
     "output_type": "stream",
     "text": [
      "Drawing PARADISE TANAGER\n"
     ]
    },
    {
     "data": {
      "text/html": [
       "<div class=\"zoom\"><img style='width: 100px; height: 100px; margin: 1px; float: left; border: 0px solid black;'title=['PARADISE TANAGER'] src='dataset_birds\\test\\PARADISE TANAGER\\1.jpg'/></div><div class=\"zoom\"><img style='width: 100px; height: 100px; margin: 1px; float: left; border: 0px solid black;'title=['PARADISE TANAGER'] src='dataset_birds\\test\\PARADISE TANAGER\\2.jpg'/></div><div class=\"zoom\"><img style='width: 100px; height: 100px; margin: 1px; float: left; border: 0px solid black;'title=['PARADISE TANAGER'] src='dataset_birds\\test\\PARADISE TANAGER\\3.jpg'/></div><div class=\"zoom\"><img style='width: 100px; height: 100px; margin: 1px; float: left; border: 0px solid black;'title=['PARADISE TANAGER'] src='dataset_birds\\test\\PARADISE TANAGER\\4.jpg'/></div><div class=\"zoom\"><img style='width: 100px; height: 100px; margin: 1px; float: left; border: 0px solid black;'title=['PARADISE TANAGER'] src='dataset_birds\\test\\PARADISE TANAGER\\5.jpg'/></div>"
      ],
      "text/plain": [
       "<IPython.core.display.HTML object>"
      ]
     },
     "metadata": {},
     "output_type": "display_data"
    },
    {
     "name": "stdout",
     "output_type": "stream",
     "text": [
      "Drawing PARAKETT  AUKLET\n"
     ]
    },
    {
     "data": {
      "text/html": [
       "<div class=\"zoom\"><img style='width: 100px; height: 100px; margin: 1px; float: left; border: 0px solid black;'title=['PARAKETT  AUKLET'] src='dataset_birds\\test\\PARAKETT  AUKLET\\1.jpg'/></div><div class=\"zoom\"><img style='width: 100px; height: 100px; margin: 1px; float: left; border: 0px solid black;'title=['PARAKETT  AUKLET'] src='dataset_birds\\test\\PARAKETT  AUKLET\\2.jpg'/></div><div class=\"zoom\"><img style='width: 100px; height: 100px; margin: 1px; float: left; border: 0px solid black;'title=['PARAKETT  AUKLET'] src='dataset_birds\\test\\PARAKETT  AUKLET\\3.jpg'/></div><div class=\"zoom\"><img style='width: 100px; height: 100px; margin: 1px; float: left; border: 0px solid black;'title=['PARAKETT  AUKLET'] src='dataset_birds\\test\\PARAKETT  AUKLET\\4.jpg'/></div><div class=\"zoom\"><img style='width: 100px; height: 100px; margin: 1px; float: left; border: 0px solid black;'title=['PARAKETT  AUKLET'] src='dataset_birds\\test\\PARAKETT  AUKLET\\5.jpg'/></div>"
      ],
      "text/plain": [
       "<IPython.core.display.HTML object>"
      ]
     },
     "metadata": {},
     "output_type": "display_data"
    },
    {
     "name": "stdout",
     "output_type": "stream",
     "text": [
      "Drawing PARUS MAJOR\n"
     ]
    },
    {
     "data": {
      "text/html": [
       "<div class=\"zoom\"><img style='width: 100px; height: 100px; margin: 1px; float: left; border: 0px solid black;'title=['PARUS MAJOR'] src='dataset_birds\\test\\PARUS MAJOR\\1.jpg'/></div><div class=\"zoom\"><img style='width: 100px; height: 100px; margin: 1px; float: left; border: 0px solid black;'title=['PARUS MAJOR'] src='dataset_birds\\test\\PARUS MAJOR\\2.jpg'/></div><div class=\"zoom\"><img style='width: 100px; height: 100px; margin: 1px; float: left; border: 0px solid black;'title=['PARUS MAJOR'] src='dataset_birds\\test\\PARUS MAJOR\\3.jpg'/></div><div class=\"zoom\"><img style='width: 100px; height: 100px; margin: 1px; float: left; border: 0px solid black;'title=['PARUS MAJOR'] src='dataset_birds\\test\\PARUS MAJOR\\4.jpg'/></div><div class=\"zoom\"><img style='width: 100px; height: 100px; margin: 1px; float: left; border: 0px solid black;'title=['PARUS MAJOR'] src='dataset_birds\\test\\PARUS MAJOR\\5.jpg'/></div>"
      ],
      "text/plain": [
       "<IPython.core.display.HTML object>"
      ]
     },
     "metadata": {},
     "output_type": "display_data"
    },
    {
     "name": "stdout",
     "output_type": "stream",
     "text": [
      "Drawing PATAGONIAN SIERRA FINCH\n"
     ]
    },
    {
     "data": {
      "text/html": [
       "<div class=\"zoom\"><img style='width: 100px; height: 100px; margin: 1px; float: left; border: 0px solid black;'title=['PATAGONIAN SIERRA FINCH'] src='dataset_birds\\test\\PATAGONIAN SIERRA FINCH\\1.jpg'/></div><div class=\"zoom\"><img style='width: 100px; height: 100px; margin: 1px; float: left; border: 0px solid black;'title=['PATAGONIAN SIERRA FINCH'] src='dataset_birds\\test\\PATAGONIAN SIERRA FINCH\\2.jpg'/></div><div class=\"zoom\"><img style='width: 100px; height: 100px; margin: 1px; float: left; border: 0px solid black;'title=['PATAGONIAN SIERRA FINCH'] src='dataset_birds\\test\\PATAGONIAN SIERRA FINCH\\3.jpg'/></div><div class=\"zoom\"><img style='width: 100px; height: 100px; margin: 1px; float: left; border: 0px solid black;'title=['PATAGONIAN SIERRA FINCH'] src='dataset_birds\\test\\PATAGONIAN SIERRA FINCH\\4.jpg'/></div><div class=\"zoom\"><img style='width: 100px; height: 100px; margin: 1px; float: left; border: 0px solid black;'title=['PATAGONIAN SIERRA FINCH'] src='dataset_birds\\test\\PATAGONIAN SIERRA FINCH\\5.jpg'/></div>"
      ],
      "text/plain": [
       "<IPython.core.display.HTML object>"
      ]
     },
     "metadata": {},
     "output_type": "display_data"
    },
    {
     "name": "stdout",
     "output_type": "stream",
     "text": [
      "Drawing PEACOCK\n"
     ]
    },
    {
     "data": {
      "text/html": [
       "<div class=\"zoom\"><img style='width: 100px; height: 100px; margin: 1px; float: left; border: 0px solid black;'title=['PEACOCK'] src='dataset_birds\\test\\PEACOCK\\1.jpg'/></div><div class=\"zoom\"><img style='width: 100px; height: 100px; margin: 1px; float: left; border: 0px solid black;'title=['PEACOCK'] src='dataset_birds\\test\\PEACOCK\\2.jpg'/></div><div class=\"zoom\"><img style='width: 100px; height: 100px; margin: 1px; float: left; border: 0px solid black;'title=['PEACOCK'] src='dataset_birds\\test\\PEACOCK\\3.jpg'/></div><div class=\"zoom\"><img style='width: 100px; height: 100px; margin: 1px; float: left; border: 0px solid black;'title=['PEACOCK'] src='dataset_birds\\test\\PEACOCK\\4.jpg'/></div><div class=\"zoom\"><img style='width: 100px; height: 100px; margin: 1px; float: left; border: 0px solid black;'title=['PEACOCK'] src='dataset_birds\\test\\PEACOCK\\5.jpg'/></div>"
      ],
      "text/plain": [
       "<IPython.core.display.HTML object>"
      ]
     },
     "metadata": {},
     "output_type": "display_data"
    },
    {
     "name": "stdout",
     "output_type": "stream",
     "text": [
      "Drawing PEREGRINE FALCON\n"
     ]
    },
    {
     "data": {
      "text/html": [
       "<div class=\"zoom\"><img style='width: 100px; height: 100px; margin: 1px; float: left; border: 0px solid black;'title=['PEREGRINE FALCON'] src='dataset_birds\\test\\PEREGRINE FALCON\\1.jpg'/></div><div class=\"zoom\"><img style='width: 100px; height: 100px; margin: 1px; float: left; border: 0px solid black;'title=['PEREGRINE FALCON'] src='dataset_birds\\test\\PEREGRINE FALCON\\2.jpg'/></div><div class=\"zoom\"><img style='width: 100px; height: 100px; margin: 1px; float: left; border: 0px solid black;'title=['PEREGRINE FALCON'] src='dataset_birds\\test\\PEREGRINE FALCON\\3.jpg'/></div><div class=\"zoom\"><img style='width: 100px; height: 100px; margin: 1px; float: left; border: 0px solid black;'title=['PEREGRINE FALCON'] src='dataset_birds\\test\\PEREGRINE FALCON\\4.jpg'/></div><div class=\"zoom\"><img style='width: 100px; height: 100px; margin: 1px; float: left; border: 0px solid black;'title=['PEREGRINE FALCON'] src='dataset_birds\\test\\PEREGRINE FALCON\\5.jpg'/></div>"
      ],
      "text/plain": [
       "<IPython.core.display.HTML object>"
      ]
     },
     "metadata": {},
     "output_type": "display_data"
    },
    {
     "name": "stdout",
     "output_type": "stream",
     "text": [
      "Drawing PHAINOPEPLA\n"
     ]
    },
    {
     "data": {
      "text/html": [
       "<div class=\"zoom\"><img style='width: 100px; height: 100px; margin: 1px; float: left; border: 0px solid black;'title=['PHAINOPEPLA'] src='dataset_birds\\test\\PHAINOPEPLA\\1.jpg'/></div><div class=\"zoom\"><img style='width: 100px; height: 100px; margin: 1px; float: left; border: 0px solid black;'title=['PHAINOPEPLA'] src='dataset_birds\\test\\PHAINOPEPLA\\2.jpg'/></div><div class=\"zoom\"><img style='width: 100px; height: 100px; margin: 1px; float: left; border: 0px solid black;'title=['PHAINOPEPLA'] src='dataset_birds\\test\\PHAINOPEPLA\\3.jpg'/></div><div class=\"zoom\"><img style='width: 100px; height: 100px; margin: 1px; float: left; border: 0px solid black;'title=['PHAINOPEPLA'] src='dataset_birds\\test\\PHAINOPEPLA\\4.jpg'/></div><div class=\"zoom\"><img style='width: 100px; height: 100px; margin: 1px; float: left; border: 0px solid black;'title=['PHAINOPEPLA'] src='dataset_birds\\test\\PHAINOPEPLA\\5.jpg'/></div>"
      ],
      "text/plain": [
       "<IPython.core.display.HTML object>"
      ]
     },
     "metadata": {},
     "output_type": "display_data"
    },
    {
     "name": "stdout",
     "output_type": "stream",
     "text": [
      "Drawing PHILIPPINE EAGLE\n"
     ]
    },
    {
     "data": {
      "text/html": [
       "<div class=\"zoom\"><img style='width: 100px; height: 100px; margin: 1px; float: left; border: 0px solid black;'title=['PHILIPPINE EAGLE'] src='dataset_birds\\test\\PHILIPPINE EAGLE\\1.jpg'/></div><div class=\"zoom\"><img style='width: 100px; height: 100px; margin: 1px; float: left; border: 0px solid black;'title=['PHILIPPINE EAGLE'] src='dataset_birds\\test\\PHILIPPINE EAGLE\\2.jpg'/></div><div class=\"zoom\"><img style='width: 100px; height: 100px; margin: 1px; float: left; border: 0px solid black;'title=['PHILIPPINE EAGLE'] src='dataset_birds\\test\\PHILIPPINE EAGLE\\3.jpg'/></div><div class=\"zoom\"><img style='width: 100px; height: 100px; margin: 1px; float: left; border: 0px solid black;'title=['PHILIPPINE EAGLE'] src='dataset_birds\\test\\PHILIPPINE EAGLE\\4.jpg'/></div><div class=\"zoom\"><img style='width: 100px; height: 100px; margin: 1px; float: left; border: 0px solid black;'title=['PHILIPPINE EAGLE'] src='dataset_birds\\test\\PHILIPPINE EAGLE\\5.jpg'/></div>"
      ],
      "text/plain": [
       "<IPython.core.display.HTML object>"
      ]
     },
     "metadata": {},
     "output_type": "display_data"
    },
    {
     "name": "stdout",
     "output_type": "stream",
     "text": [
      "Drawing PINK ROBIN\n"
     ]
    },
    {
     "data": {
      "text/html": [
       "<div class=\"zoom\"><img style='width: 100px; height: 100px; margin: 1px; float: left; border: 0px solid black;'title=['PINK ROBIN'] src='dataset_birds\\test\\PINK ROBIN\\1.jpg'/></div><div class=\"zoom\"><img style='width: 100px; height: 100px; margin: 1px; float: left; border: 0px solid black;'title=['PINK ROBIN'] src='dataset_birds\\test\\PINK ROBIN\\2.jpg'/></div><div class=\"zoom\"><img style='width: 100px; height: 100px; margin: 1px; float: left; border: 0px solid black;'title=['PINK ROBIN'] src='dataset_birds\\test\\PINK ROBIN\\3.jpg'/></div><div class=\"zoom\"><img style='width: 100px; height: 100px; margin: 1px; float: left; border: 0px solid black;'title=['PINK ROBIN'] src='dataset_birds\\test\\PINK ROBIN\\4.jpg'/></div><div class=\"zoom\"><img style='width: 100px; height: 100px; margin: 1px; float: left; border: 0px solid black;'title=['PINK ROBIN'] src='dataset_birds\\test\\PINK ROBIN\\5.jpg'/></div>"
      ],
      "text/plain": [
       "<IPython.core.display.HTML object>"
      ]
     },
     "metadata": {},
     "output_type": "display_data"
    },
    {
     "name": "stdout",
     "output_type": "stream",
     "text": [
      "Drawing PLUSH CRESTED JAY\n"
     ]
    },
    {
     "data": {
      "text/html": [
       "<div class=\"zoom\"><img style='width: 100px; height: 100px; margin: 1px; float: left; border: 0px solid black;'title=['PLUSH CRESTED JAY'] src='dataset_birds\\test\\PLUSH CRESTED JAY\\1.jpg'/></div><div class=\"zoom\"><img style='width: 100px; height: 100px; margin: 1px; float: left; border: 0px solid black;'title=['PLUSH CRESTED JAY'] src='dataset_birds\\test\\PLUSH CRESTED JAY\\2.jpg'/></div><div class=\"zoom\"><img style='width: 100px; height: 100px; margin: 1px; float: left; border: 0px solid black;'title=['PLUSH CRESTED JAY'] src='dataset_birds\\test\\PLUSH CRESTED JAY\\3.jpg'/></div><div class=\"zoom\"><img style='width: 100px; height: 100px; margin: 1px; float: left; border: 0px solid black;'title=['PLUSH CRESTED JAY'] src='dataset_birds\\test\\PLUSH CRESTED JAY\\4.jpg'/></div><div class=\"zoom\"><img style='width: 100px; height: 100px; margin: 1px; float: left; border: 0px solid black;'title=['PLUSH CRESTED JAY'] src='dataset_birds\\test\\PLUSH CRESTED JAY\\5.jpg'/></div>"
      ],
      "text/plain": [
       "<IPython.core.display.HTML object>"
      ]
     },
     "metadata": {},
     "output_type": "display_data"
    },
    {
     "name": "stdout",
     "output_type": "stream",
     "text": [
      "Drawing POMARINE JAEGER\n"
     ]
    },
    {
     "data": {
      "text/html": [
       "<div class=\"zoom\"><img style='width: 100px; height: 100px; margin: 1px; float: left; border: 0px solid black;'title=['POMARINE JAEGER'] src='dataset_birds\\test\\POMARINE JAEGER\\1.jpg'/></div><div class=\"zoom\"><img style='width: 100px; height: 100px; margin: 1px; float: left; border: 0px solid black;'title=['POMARINE JAEGER'] src='dataset_birds\\test\\POMARINE JAEGER\\2.jpg'/></div><div class=\"zoom\"><img style='width: 100px; height: 100px; margin: 1px; float: left; border: 0px solid black;'title=['POMARINE JAEGER'] src='dataset_birds\\test\\POMARINE JAEGER\\3.jpg'/></div><div class=\"zoom\"><img style='width: 100px; height: 100px; margin: 1px; float: left; border: 0px solid black;'title=['POMARINE JAEGER'] src='dataset_birds\\test\\POMARINE JAEGER\\4.jpg'/></div><div class=\"zoom\"><img style='width: 100px; height: 100px; margin: 1px; float: left; border: 0px solid black;'title=['POMARINE JAEGER'] src='dataset_birds\\test\\POMARINE JAEGER\\5.jpg'/></div>"
      ],
      "text/plain": [
       "<IPython.core.display.HTML object>"
      ]
     },
     "metadata": {},
     "output_type": "display_data"
    },
    {
     "name": "stdout",
     "output_type": "stream",
     "text": [
      "Drawing PUFFIN\n"
     ]
    },
    {
     "data": {
      "text/html": [
       "<div class=\"zoom\"><img style='width: 100px; height: 100px; margin: 1px; float: left; border: 0px solid black;'title=['PUFFIN'] src='dataset_birds\\test\\PUFFIN\\1.jpg'/></div><div class=\"zoom\"><img style='width: 100px; height: 100px; margin: 1px; float: left; border: 0px solid black;'title=['PUFFIN'] src='dataset_birds\\test\\PUFFIN\\2.jpg'/></div><div class=\"zoom\"><img style='width: 100px; height: 100px; margin: 1px; float: left; border: 0px solid black;'title=['PUFFIN'] src='dataset_birds\\test\\PUFFIN\\3.jpg'/></div><div class=\"zoom\"><img style='width: 100px; height: 100px; margin: 1px; float: left; border: 0px solid black;'title=['PUFFIN'] src='dataset_birds\\test\\PUFFIN\\4.jpg'/></div><div class=\"zoom\"><img style='width: 100px; height: 100px; margin: 1px; float: left; border: 0px solid black;'title=['PUFFIN'] src='dataset_birds\\test\\PUFFIN\\5.jpg'/></div>"
      ],
      "text/plain": [
       "<IPython.core.display.HTML object>"
      ]
     },
     "metadata": {},
     "output_type": "display_data"
    },
    {
     "name": "stdout",
     "output_type": "stream",
     "text": [
      "Drawing PUNA TEAL\n"
     ]
    },
    {
     "data": {
      "text/html": [
       "<div class=\"zoom\"><img style='width: 100px; height: 100px; margin: 1px; float: left; border: 0px solid black;'title=['PUNA TEAL'] src='dataset_birds\\test\\PUNA TEAL\\1.jpg'/></div><div class=\"zoom\"><img style='width: 100px; height: 100px; margin: 1px; float: left; border: 0px solid black;'title=['PUNA TEAL'] src='dataset_birds\\test\\PUNA TEAL\\2.jpg'/></div><div class=\"zoom\"><img style='width: 100px; height: 100px; margin: 1px; float: left; border: 0px solid black;'title=['PUNA TEAL'] src='dataset_birds\\test\\PUNA TEAL\\3.jpg'/></div><div class=\"zoom\"><img style='width: 100px; height: 100px; margin: 1px; float: left; border: 0px solid black;'title=['PUNA TEAL'] src='dataset_birds\\test\\PUNA TEAL\\4.jpg'/></div><div class=\"zoom\"><img style='width: 100px; height: 100px; margin: 1px; float: left; border: 0px solid black;'title=['PUNA TEAL'] src='dataset_birds\\test\\PUNA TEAL\\5.jpg'/></div>"
      ],
      "text/plain": [
       "<IPython.core.display.HTML object>"
      ]
     },
     "metadata": {},
     "output_type": "display_data"
    },
    {
     "name": "stdout",
     "output_type": "stream",
     "text": [
      "Drawing PURPLE FINCH\n"
     ]
    },
    {
     "data": {
      "text/html": [
       "<div class=\"zoom\"><img style='width: 100px; height: 100px; margin: 1px; float: left; border: 0px solid black;'title=['PURPLE FINCH'] src='dataset_birds\\test\\PURPLE FINCH\\1.jpg'/></div><div class=\"zoom\"><img style='width: 100px; height: 100px; margin: 1px; float: left; border: 0px solid black;'title=['PURPLE FINCH'] src='dataset_birds\\test\\PURPLE FINCH\\2.jpg'/></div><div class=\"zoom\"><img style='width: 100px; height: 100px; margin: 1px; float: left; border: 0px solid black;'title=['PURPLE FINCH'] src='dataset_birds\\test\\PURPLE FINCH\\3.jpg'/></div><div class=\"zoom\"><img style='width: 100px; height: 100px; margin: 1px; float: left; border: 0px solid black;'title=['PURPLE FINCH'] src='dataset_birds\\test\\PURPLE FINCH\\4.jpg'/></div><div class=\"zoom\"><img style='width: 100px; height: 100px; margin: 1px; float: left; border: 0px solid black;'title=['PURPLE FINCH'] src='dataset_birds\\test\\PURPLE FINCH\\5.jpg'/></div>"
      ],
      "text/plain": [
       "<IPython.core.display.HTML object>"
      ]
     },
     "metadata": {},
     "output_type": "display_data"
    },
    {
     "name": "stdout",
     "output_type": "stream",
     "text": [
      "Drawing PURPLE GALLINULE\n"
     ]
    },
    {
     "data": {
      "text/html": [
       "<div class=\"zoom\"><img style='width: 100px; height: 100px; margin: 1px; float: left; border: 0px solid black;'title=['PURPLE GALLINULE'] src='dataset_birds\\test\\PURPLE GALLINULE\\1.jpg'/></div><div class=\"zoom\"><img style='width: 100px; height: 100px; margin: 1px; float: left; border: 0px solid black;'title=['PURPLE GALLINULE'] src='dataset_birds\\test\\PURPLE GALLINULE\\2.jpg'/></div><div class=\"zoom\"><img style='width: 100px; height: 100px; margin: 1px; float: left; border: 0px solid black;'title=['PURPLE GALLINULE'] src='dataset_birds\\test\\PURPLE GALLINULE\\3.jpg'/></div><div class=\"zoom\"><img style='width: 100px; height: 100px; margin: 1px; float: left; border: 0px solid black;'title=['PURPLE GALLINULE'] src='dataset_birds\\test\\PURPLE GALLINULE\\4.jpg'/></div><div class=\"zoom\"><img style='width: 100px; height: 100px; margin: 1px; float: left; border: 0px solid black;'title=['PURPLE GALLINULE'] src='dataset_birds\\test\\PURPLE GALLINULE\\5.jpg'/></div>"
      ],
      "text/plain": [
       "<IPython.core.display.HTML object>"
      ]
     },
     "metadata": {},
     "output_type": "display_data"
    },
    {
     "name": "stdout",
     "output_type": "stream",
     "text": [
      "Drawing PURPLE MARTIN\n"
     ]
    },
    {
     "data": {
      "text/html": [
       "<div class=\"zoom\"><img style='width: 100px; height: 100px; margin: 1px; float: left; border: 0px solid black;'title=['PURPLE MARTIN'] src='dataset_birds\\test\\PURPLE MARTIN\\1.jpg'/></div><div class=\"zoom\"><img style='width: 100px; height: 100px; margin: 1px; float: left; border: 0px solid black;'title=['PURPLE MARTIN'] src='dataset_birds\\test\\PURPLE MARTIN\\2.jpg'/></div><div class=\"zoom\"><img style='width: 100px; height: 100px; margin: 1px; float: left; border: 0px solid black;'title=['PURPLE MARTIN'] src='dataset_birds\\test\\PURPLE MARTIN\\3.jpg'/></div><div class=\"zoom\"><img style='width: 100px; height: 100px; margin: 1px; float: left; border: 0px solid black;'title=['PURPLE MARTIN'] src='dataset_birds\\test\\PURPLE MARTIN\\4.jpg'/></div><div class=\"zoom\"><img style='width: 100px; height: 100px; margin: 1px; float: left; border: 0px solid black;'title=['PURPLE MARTIN'] src='dataset_birds\\test\\PURPLE MARTIN\\5.jpg'/></div>"
      ],
      "text/plain": [
       "<IPython.core.display.HTML object>"
      ]
     },
     "metadata": {},
     "output_type": "display_data"
    },
    {
     "name": "stdout",
     "output_type": "stream",
     "text": [
      "Drawing PURPLE SWAMPHEN\n"
     ]
    },
    {
     "data": {
      "text/html": [
       "<div class=\"zoom\"><img style='width: 100px; height: 100px; margin: 1px; float: left; border: 0px solid black;'title=['PURPLE SWAMPHEN'] src='dataset_birds\\test\\PURPLE SWAMPHEN\\1.jpg'/></div><div class=\"zoom\"><img style='width: 100px; height: 100px; margin: 1px; float: left; border: 0px solid black;'title=['PURPLE SWAMPHEN'] src='dataset_birds\\test\\PURPLE SWAMPHEN\\2.jpg'/></div><div class=\"zoom\"><img style='width: 100px; height: 100px; margin: 1px; float: left; border: 0px solid black;'title=['PURPLE SWAMPHEN'] src='dataset_birds\\test\\PURPLE SWAMPHEN\\3.jpg'/></div><div class=\"zoom\"><img style='width: 100px; height: 100px; margin: 1px; float: left; border: 0px solid black;'title=['PURPLE SWAMPHEN'] src='dataset_birds\\test\\PURPLE SWAMPHEN\\4.jpg'/></div><div class=\"zoom\"><img style='width: 100px; height: 100px; margin: 1px; float: left; border: 0px solid black;'title=['PURPLE SWAMPHEN'] src='dataset_birds\\test\\PURPLE SWAMPHEN\\5.jpg'/></div>"
      ],
      "text/plain": [
       "<IPython.core.display.HTML object>"
      ]
     },
     "metadata": {},
     "output_type": "display_data"
    },
    {
     "name": "stdout",
     "output_type": "stream",
     "text": [
      "Drawing PYGMY KINGFISHER\n"
     ]
    },
    {
     "data": {
      "text/html": [
       "<div class=\"zoom\"><img style='width: 100px; height: 100px; margin: 1px; float: left; border: 0px solid black;'title=['PYGMY KINGFISHER'] src='dataset_birds\\test\\PYGMY KINGFISHER\\1.jpg'/></div><div class=\"zoom\"><img style='width: 100px; height: 100px; margin: 1px; float: left; border: 0px solid black;'title=['PYGMY KINGFISHER'] src='dataset_birds\\test\\PYGMY KINGFISHER\\2.jpg'/></div><div class=\"zoom\"><img style='width: 100px; height: 100px; margin: 1px; float: left; border: 0px solid black;'title=['PYGMY KINGFISHER'] src='dataset_birds\\test\\PYGMY KINGFISHER\\3.jpg'/></div><div class=\"zoom\"><img style='width: 100px; height: 100px; margin: 1px; float: left; border: 0px solid black;'title=['PYGMY KINGFISHER'] src='dataset_birds\\test\\PYGMY KINGFISHER\\4.jpg'/></div><div class=\"zoom\"><img style='width: 100px; height: 100px; margin: 1px; float: left; border: 0px solid black;'title=['PYGMY KINGFISHER'] src='dataset_birds\\test\\PYGMY KINGFISHER\\5.jpg'/></div>"
      ],
      "text/plain": [
       "<IPython.core.display.HTML object>"
      ]
     },
     "metadata": {},
     "output_type": "display_data"
    },
    {
     "name": "stdout",
     "output_type": "stream",
     "text": [
      "Drawing PYRRHULOXIA\n"
     ]
    },
    {
     "data": {
      "text/html": [
       "<div class=\"zoom\"><img style='width: 100px; height: 100px; margin: 1px; float: left; border: 0px solid black;'title=['PYRRHULOXIA'] src='dataset_birds\\test\\PYRRHULOXIA\\1.jpg'/></div><div class=\"zoom\"><img style='width: 100px; height: 100px; margin: 1px; float: left; border: 0px solid black;'title=['PYRRHULOXIA'] src='dataset_birds\\test\\PYRRHULOXIA\\2.jpg'/></div><div class=\"zoom\"><img style='width: 100px; height: 100px; margin: 1px; float: left; border: 0px solid black;'title=['PYRRHULOXIA'] src='dataset_birds\\test\\PYRRHULOXIA\\3.jpg'/></div><div class=\"zoom\"><img style='width: 100px; height: 100px; margin: 1px; float: left; border: 0px solid black;'title=['PYRRHULOXIA'] src='dataset_birds\\test\\PYRRHULOXIA\\4.jpg'/></div><div class=\"zoom\"><img style='width: 100px; height: 100px; margin: 1px; float: left; border: 0px solid black;'title=['PYRRHULOXIA'] src='dataset_birds\\test\\PYRRHULOXIA\\5.jpg'/></div>"
      ],
      "text/plain": [
       "<IPython.core.display.HTML object>"
      ]
     },
     "metadata": {},
     "output_type": "display_data"
    },
    {
     "name": "stdout",
     "output_type": "stream",
     "text": [
      "Drawing QUETZAL\n"
     ]
    },
    {
     "data": {
      "text/html": [
       "<div class=\"zoom\"><img style='width: 100px; height: 100px; margin: 1px; float: left; border: 0px solid black;'title=['QUETZAL'] src='dataset_birds\\test\\QUETZAL\\1.jpg'/></div><div class=\"zoom\"><img style='width: 100px; height: 100px; margin: 1px; float: left; border: 0px solid black;'title=['QUETZAL'] src='dataset_birds\\test\\QUETZAL\\2.jpg'/></div><div class=\"zoom\"><img style='width: 100px; height: 100px; margin: 1px; float: left; border: 0px solid black;'title=['QUETZAL'] src='dataset_birds\\test\\QUETZAL\\3.jpg'/></div><div class=\"zoom\"><img style='width: 100px; height: 100px; margin: 1px; float: left; border: 0px solid black;'title=['QUETZAL'] src='dataset_birds\\test\\QUETZAL\\4.jpg'/></div><div class=\"zoom\"><img style='width: 100px; height: 100px; margin: 1px; float: left; border: 0px solid black;'title=['QUETZAL'] src='dataset_birds\\test\\QUETZAL\\5.jpg'/></div>"
      ],
      "text/plain": [
       "<IPython.core.display.HTML object>"
      ]
     },
     "metadata": {},
     "output_type": "display_data"
    },
    {
     "name": "stdout",
     "output_type": "stream",
     "text": [
      "Drawing RAINBOW LORIKEET\n"
     ]
    },
    {
     "data": {
      "text/html": [
       "<div class=\"zoom\"><img style='width: 100px; height: 100px; margin: 1px; float: left; border: 0px solid black;'title=['RAINBOW LORIKEET'] src='dataset_birds\\test\\RAINBOW LORIKEET\\1.jpg'/></div><div class=\"zoom\"><img style='width: 100px; height: 100px; margin: 1px; float: left; border: 0px solid black;'title=['RAINBOW LORIKEET'] src='dataset_birds\\test\\RAINBOW LORIKEET\\2.jpg'/></div><div class=\"zoom\"><img style='width: 100px; height: 100px; margin: 1px; float: left; border: 0px solid black;'title=['RAINBOW LORIKEET'] src='dataset_birds\\test\\RAINBOW LORIKEET\\3.jpg'/></div><div class=\"zoom\"><img style='width: 100px; height: 100px; margin: 1px; float: left; border: 0px solid black;'title=['RAINBOW LORIKEET'] src='dataset_birds\\test\\RAINBOW LORIKEET\\4.jpg'/></div><div class=\"zoom\"><img style='width: 100px; height: 100px; margin: 1px; float: left; border: 0px solid black;'title=['RAINBOW LORIKEET'] src='dataset_birds\\test\\RAINBOW LORIKEET\\5.jpg'/></div>"
      ],
      "text/plain": [
       "<IPython.core.display.HTML object>"
      ]
     },
     "metadata": {},
     "output_type": "display_data"
    },
    {
     "name": "stdout",
     "output_type": "stream",
     "text": [
      "Drawing RAZORBILL\n"
     ]
    },
    {
     "data": {
      "text/html": [
       "<div class=\"zoom\"><img style='width: 100px; height: 100px; margin: 1px; float: left; border: 0px solid black;'title=['RAZORBILL'] src='dataset_birds\\test\\RAZORBILL\\1.jpg'/></div><div class=\"zoom\"><img style='width: 100px; height: 100px; margin: 1px; float: left; border: 0px solid black;'title=['RAZORBILL'] src='dataset_birds\\test\\RAZORBILL\\2.jpg'/></div><div class=\"zoom\"><img style='width: 100px; height: 100px; margin: 1px; float: left; border: 0px solid black;'title=['RAZORBILL'] src='dataset_birds\\test\\RAZORBILL\\3.jpg'/></div><div class=\"zoom\"><img style='width: 100px; height: 100px; margin: 1px; float: left; border: 0px solid black;'title=['RAZORBILL'] src='dataset_birds\\test\\RAZORBILL\\4.jpg'/></div><div class=\"zoom\"><img style='width: 100px; height: 100px; margin: 1px; float: left; border: 0px solid black;'title=['RAZORBILL'] src='dataset_birds\\test\\RAZORBILL\\5.jpg'/></div>"
      ],
      "text/plain": [
       "<IPython.core.display.HTML object>"
      ]
     },
     "metadata": {},
     "output_type": "display_data"
    },
    {
     "name": "stdout",
     "output_type": "stream",
     "text": [
      "Drawing RED BEARDED BEE EATER\n"
     ]
    },
    {
     "data": {
      "text/html": [
       "<div class=\"zoom\"><img style='width: 100px; height: 100px; margin: 1px; float: left; border: 0px solid black;'title=['RED BEARDED BEE EATER'] src='dataset_birds\\test\\RED BEARDED BEE EATER\\1.jpg'/></div><div class=\"zoom\"><img style='width: 100px; height: 100px; margin: 1px; float: left; border: 0px solid black;'title=['RED BEARDED BEE EATER'] src='dataset_birds\\test\\RED BEARDED BEE EATER\\2.jpg'/></div><div class=\"zoom\"><img style='width: 100px; height: 100px; margin: 1px; float: left; border: 0px solid black;'title=['RED BEARDED BEE EATER'] src='dataset_birds\\test\\RED BEARDED BEE EATER\\3.jpg'/></div><div class=\"zoom\"><img style='width: 100px; height: 100px; margin: 1px; float: left; border: 0px solid black;'title=['RED BEARDED BEE EATER'] src='dataset_birds\\test\\RED BEARDED BEE EATER\\4.jpg'/></div><div class=\"zoom\"><img style='width: 100px; height: 100px; margin: 1px; float: left; border: 0px solid black;'title=['RED BEARDED BEE EATER'] src='dataset_birds\\test\\RED BEARDED BEE EATER\\5.jpg'/></div>"
      ],
      "text/plain": [
       "<IPython.core.display.HTML object>"
      ]
     },
     "metadata": {},
     "output_type": "display_data"
    },
    {
     "name": "stdout",
     "output_type": "stream",
     "text": [
      "Drawing RED BELLIED PITTA\n"
     ]
    },
    {
     "data": {
      "text/html": [
       "<div class=\"zoom\"><img style='width: 100px; height: 100px; margin: 1px; float: left; border: 0px solid black;'title=['RED BELLIED PITTA'] src='dataset_birds\\test\\RED BELLIED PITTA\\1.jpg'/></div><div class=\"zoom\"><img style='width: 100px; height: 100px; margin: 1px; float: left; border: 0px solid black;'title=['RED BELLIED PITTA'] src='dataset_birds\\test\\RED BELLIED PITTA\\2.jpg'/></div><div class=\"zoom\"><img style='width: 100px; height: 100px; margin: 1px; float: left; border: 0px solid black;'title=['RED BELLIED PITTA'] src='dataset_birds\\test\\RED BELLIED PITTA\\3.jpg'/></div><div class=\"zoom\"><img style='width: 100px; height: 100px; margin: 1px; float: left; border: 0px solid black;'title=['RED BELLIED PITTA'] src='dataset_birds\\test\\RED BELLIED PITTA\\4.jpg'/></div><div class=\"zoom\"><img style='width: 100px; height: 100px; margin: 1px; float: left; border: 0px solid black;'title=['RED BELLIED PITTA'] src='dataset_birds\\test\\RED BELLIED PITTA\\5.jpg'/></div>"
      ],
      "text/plain": [
       "<IPython.core.display.HTML object>"
      ]
     },
     "metadata": {},
     "output_type": "display_data"
    },
    {
     "name": "stdout",
     "output_type": "stream",
     "text": [
      "Drawing RED BILLED TROPICBIRD\n"
     ]
    },
    {
     "data": {
      "text/html": [
       "<div class=\"zoom\"><img style='width: 100px; height: 100px; margin: 1px; float: left; border: 0px solid black;'title=['RED BILLED TROPICBIRD'] src='dataset_birds\\test\\RED BILLED TROPICBIRD\\1.jpg'/></div><div class=\"zoom\"><img style='width: 100px; height: 100px; margin: 1px; float: left; border: 0px solid black;'title=['RED BILLED TROPICBIRD'] src='dataset_birds\\test\\RED BILLED TROPICBIRD\\2.jpg'/></div><div class=\"zoom\"><img style='width: 100px; height: 100px; margin: 1px; float: left; border: 0px solid black;'title=['RED BILLED TROPICBIRD'] src='dataset_birds\\test\\RED BILLED TROPICBIRD\\3.jpg'/></div><div class=\"zoom\"><img style='width: 100px; height: 100px; margin: 1px; float: left; border: 0px solid black;'title=['RED BILLED TROPICBIRD'] src='dataset_birds\\test\\RED BILLED TROPICBIRD\\4.jpg'/></div><div class=\"zoom\"><img style='width: 100px; height: 100px; margin: 1px; float: left; border: 0px solid black;'title=['RED BILLED TROPICBIRD'] src='dataset_birds\\test\\RED BILLED TROPICBIRD\\5.jpg'/></div>"
      ],
      "text/plain": [
       "<IPython.core.display.HTML object>"
      ]
     },
     "metadata": {},
     "output_type": "display_data"
    },
    {
     "name": "stdout",
     "output_type": "stream",
     "text": [
      "Drawing RED BROWED FINCH\n"
     ]
    },
    {
     "data": {
      "text/html": [
       "<div class=\"zoom\"><img style='width: 100px; height: 100px; margin: 1px; float: left; border: 0px solid black;'title=['RED BROWED FINCH'] src='dataset_birds\\test\\RED BROWED FINCH\\1.jpg'/></div><div class=\"zoom\"><img style='width: 100px; height: 100px; margin: 1px; float: left; border: 0px solid black;'title=['RED BROWED FINCH'] src='dataset_birds\\test\\RED BROWED FINCH\\2.jpg'/></div><div class=\"zoom\"><img style='width: 100px; height: 100px; margin: 1px; float: left; border: 0px solid black;'title=['RED BROWED FINCH'] src='dataset_birds\\test\\RED BROWED FINCH\\3.jpg'/></div><div class=\"zoom\"><img style='width: 100px; height: 100px; margin: 1px; float: left; border: 0px solid black;'title=['RED BROWED FINCH'] src='dataset_birds\\test\\RED BROWED FINCH\\4.jpg'/></div><div class=\"zoom\"><img style='width: 100px; height: 100px; margin: 1px; float: left; border: 0px solid black;'title=['RED BROWED FINCH'] src='dataset_birds\\test\\RED BROWED FINCH\\5.jpg'/></div>"
      ],
      "text/plain": [
       "<IPython.core.display.HTML object>"
      ]
     },
     "metadata": {},
     "output_type": "display_data"
    },
    {
     "name": "stdout",
     "output_type": "stream",
     "text": [
      "Drawing RED CROSSBILL\n"
     ]
    },
    {
     "data": {
      "text/html": [
       "<div class=\"zoom\"><img style='width: 100px; height: 100px; margin: 1px; float: left; border: 0px solid black;'title=['RED CROSSBILL'] src='dataset_birds\\test\\RED CROSSBILL\\1.jpg'/></div><div class=\"zoom\"><img style='width: 100px; height: 100px; margin: 1px; float: left; border: 0px solid black;'title=['RED CROSSBILL'] src='dataset_birds\\test\\RED CROSSBILL\\2.jpg'/></div><div class=\"zoom\"><img style='width: 100px; height: 100px; margin: 1px; float: left; border: 0px solid black;'title=['RED CROSSBILL'] src='dataset_birds\\test\\RED CROSSBILL\\3.jpg'/></div><div class=\"zoom\"><img style='width: 100px; height: 100px; margin: 1px; float: left; border: 0px solid black;'title=['RED CROSSBILL'] src='dataset_birds\\test\\RED CROSSBILL\\4.jpg'/></div><div class=\"zoom\"><img style='width: 100px; height: 100px; margin: 1px; float: left; border: 0px solid black;'title=['RED CROSSBILL'] src='dataset_birds\\test\\RED CROSSBILL\\5.jpg'/></div>"
      ],
      "text/plain": [
       "<IPython.core.display.HTML object>"
      ]
     },
     "metadata": {},
     "output_type": "display_data"
    },
    {
     "name": "stdout",
     "output_type": "stream",
     "text": [
      "Drawing RED FACED CORMORANT\n"
     ]
    },
    {
     "data": {
      "text/html": [
       "<div class=\"zoom\"><img style='width: 100px; height: 100px; margin: 1px; float: left; border: 0px solid black;'title=['RED FACED CORMORANT'] src='dataset_birds\\test\\RED FACED CORMORANT\\1.jpg'/></div><div class=\"zoom\"><img style='width: 100px; height: 100px; margin: 1px; float: left; border: 0px solid black;'title=['RED FACED CORMORANT'] src='dataset_birds\\test\\RED FACED CORMORANT\\2.jpg'/></div><div class=\"zoom\"><img style='width: 100px; height: 100px; margin: 1px; float: left; border: 0px solid black;'title=['RED FACED CORMORANT'] src='dataset_birds\\test\\RED FACED CORMORANT\\3.jpg'/></div><div class=\"zoom\"><img style='width: 100px; height: 100px; margin: 1px; float: left; border: 0px solid black;'title=['RED FACED CORMORANT'] src='dataset_birds\\test\\RED FACED CORMORANT\\4.jpg'/></div><div class=\"zoom\"><img style='width: 100px; height: 100px; margin: 1px; float: left; border: 0px solid black;'title=['RED FACED CORMORANT'] src='dataset_birds\\test\\RED FACED CORMORANT\\5.jpg'/></div>"
      ],
      "text/plain": [
       "<IPython.core.display.HTML object>"
      ]
     },
     "metadata": {},
     "output_type": "display_data"
    },
    {
     "name": "stdout",
     "output_type": "stream",
     "text": [
      "Drawing RED FACED WARBLER\n"
     ]
    },
    {
     "data": {
      "text/html": [
       "<div class=\"zoom\"><img style='width: 100px; height: 100px; margin: 1px; float: left; border: 0px solid black;'title=['RED FACED WARBLER'] src='dataset_birds\\test\\RED FACED WARBLER\\1.jpg'/></div><div class=\"zoom\"><img style='width: 100px; height: 100px; margin: 1px; float: left; border: 0px solid black;'title=['RED FACED WARBLER'] src='dataset_birds\\test\\RED FACED WARBLER\\2.jpg'/></div><div class=\"zoom\"><img style='width: 100px; height: 100px; margin: 1px; float: left; border: 0px solid black;'title=['RED FACED WARBLER'] src='dataset_birds\\test\\RED FACED WARBLER\\3.jpg'/></div><div class=\"zoom\"><img style='width: 100px; height: 100px; margin: 1px; float: left; border: 0px solid black;'title=['RED FACED WARBLER'] src='dataset_birds\\test\\RED FACED WARBLER\\4.jpg'/></div><div class=\"zoom\"><img style='width: 100px; height: 100px; margin: 1px; float: left; border: 0px solid black;'title=['RED FACED WARBLER'] src='dataset_birds\\test\\RED FACED WARBLER\\5.jpg'/></div>"
      ],
      "text/plain": [
       "<IPython.core.display.HTML object>"
      ]
     },
     "metadata": {},
     "output_type": "display_data"
    },
    {
     "name": "stdout",
     "output_type": "stream",
     "text": [
      "Drawing RED FODY\n"
     ]
    },
    {
     "data": {
      "text/html": [
       "<div class=\"zoom\"><img style='width: 100px; height: 100px; margin: 1px; float: left; border: 0px solid black;'title=['RED FODY'] src='dataset_birds\\test\\RED FODY\\1.jpg'/></div><div class=\"zoom\"><img style='width: 100px; height: 100px; margin: 1px; float: left; border: 0px solid black;'title=['RED FODY'] src='dataset_birds\\test\\RED FODY\\2.jpg'/></div><div class=\"zoom\"><img style='width: 100px; height: 100px; margin: 1px; float: left; border: 0px solid black;'title=['RED FODY'] src='dataset_birds\\test\\RED FODY\\3.jpg'/></div><div class=\"zoom\"><img style='width: 100px; height: 100px; margin: 1px; float: left; border: 0px solid black;'title=['RED FODY'] src='dataset_birds\\test\\RED FODY\\4.jpg'/></div><div class=\"zoom\"><img style='width: 100px; height: 100px; margin: 1px; float: left; border: 0px solid black;'title=['RED FODY'] src='dataset_birds\\test\\RED FODY\\5.jpg'/></div>"
      ],
      "text/plain": [
       "<IPython.core.display.HTML object>"
      ]
     },
     "metadata": {},
     "output_type": "display_data"
    },
    {
     "name": "stdout",
     "output_type": "stream",
     "text": [
      "Drawing RED HEADED DUCK\n"
     ]
    },
    {
     "data": {
      "text/html": [
       "<div class=\"zoom\"><img style='width: 100px; height: 100px; margin: 1px; float: left; border: 0px solid black;'title=['RED HEADED DUCK'] src='dataset_birds\\test\\RED HEADED DUCK\\1.jpg'/></div><div class=\"zoom\"><img style='width: 100px; height: 100px; margin: 1px; float: left; border: 0px solid black;'title=['RED HEADED DUCK'] src='dataset_birds\\test\\RED HEADED DUCK\\2.jpg'/></div><div class=\"zoom\"><img style='width: 100px; height: 100px; margin: 1px; float: left; border: 0px solid black;'title=['RED HEADED DUCK'] src='dataset_birds\\test\\RED HEADED DUCK\\3.jpg'/></div><div class=\"zoom\"><img style='width: 100px; height: 100px; margin: 1px; float: left; border: 0px solid black;'title=['RED HEADED DUCK'] src='dataset_birds\\test\\RED HEADED DUCK\\4.jpg'/></div><div class=\"zoom\"><img style='width: 100px; height: 100px; margin: 1px; float: left; border: 0px solid black;'title=['RED HEADED DUCK'] src='dataset_birds\\test\\RED HEADED DUCK\\5.jpg'/></div>"
      ],
      "text/plain": [
       "<IPython.core.display.HTML object>"
      ]
     },
     "metadata": {},
     "output_type": "display_data"
    },
    {
     "name": "stdout",
     "output_type": "stream",
     "text": [
      "Drawing RED HEADED WOODPECKER\n"
     ]
    },
    {
     "data": {
      "text/html": [
       "<div class=\"zoom\"><img style='width: 100px; height: 100px; margin: 1px; float: left; border: 0px solid black;'title=['RED HEADED WOODPECKER'] src='dataset_birds\\test\\RED HEADED WOODPECKER\\1.jpg'/></div><div class=\"zoom\"><img style='width: 100px; height: 100px; margin: 1px; float: left; border: 0px solid black;'title=['RED HEADED WOODPECKER'] src='dataset_birds\\test\\RED HEADED WOODPECKER\\2.jpg'/></div><div class=\"zoom\"><img style='width: 100px; height: 100px; margin: 1px; float: left; border: 0px solid black;'title=['RED HEADED WOODPECKER'] src='dataset_birds\\test\\RED HEADED WOODPECKER\\3.jpg'/></div><div class=\"zoom\"><img style='width: 100px; height: 100px; margin: 1px; float: left; border: 0px solid black;'title=['RED HEADED WOODPECKER'] src='dataset_birds\\test\\RED HEADED WOODPECKER\\4.jpg'/></div><div class=\"zoom\"><img style='width: 100px; height: 100px; margin: 1px; float: left; border: 0px solid black;'title=['RED HEADED WOODPECKER'] src='dataset_birds\\test\\RED HEADED WOODPECKER\\5.jpg'/></div>"
      ],
      "text/plain": [
       "<IPython.core.display.HTML object>"
      ]
     },
     "metadata": {},
     "output_type": "display_data"
    },
    {
     "name": "stdout",
     "output_type": "stream",
     "text": [
      "Drawing RED KNOT\n"
     ]
    },
    {
     "data": {
      "text/html": [
       "<div class=\"zoom\"><img style='width: 100px; height: 100px; margin: 1px; float: left; border: 0px solid black;'title=['RED KNOT'] src='dataset_birds\\test\\RED KNOT\\1.jpg'/></div><div class=\"zoom\"><img style='width: 100px; height: 100px; margin: 1px; float: left; border: 0px solid black;'title=['RED KNOT'] src='dataset_birds\\test\\RED KNOT\\2.jpg'/></div><div class=\"zoom\"><img style='width: 100px; height: 100px; margin: 1px; float: left; border: 0px solid black;'title=['RED KNOT'] src='dataset_birds\\test\\RED KNOT\\3.jpg'/></div><div class=\"zoom\"><img style='width: 100px; height: 100px; margin: 1px; float: left; border: 0px solid black;'title=['RED KNOT'] src='dataset_birds\\test\\RED KNOT\\4.jpg'/></div><div class=\"zoom\"><img style='width: 100px; height: 100px; margin: 1px; float: left; border: 0px solid black;'title=['RED KNOT'] src='dataset_birds\\test\\RED KNOT\\5.jpg'/></div>"
      ],
      "text/plain": [
       "<IPython.core.display.HTML object>"
      ]
     },
     "metadata": {},
     "output_type": "display_data"
    },
    {
     "name": "stdout",
     "output_type": "stream",
     "text": [
      "Drawing RED LEGGED HONEYCREEPER\n"
     ]
    },
    {
     "data": {
      "text/html": [
       "<div class=\"zoom\"><img style='width: 100px; height: 100px; margin: 1px; float: left; border: 0px solid black;'title=['RED LEGGED HONEYCREEPER'] src='dataset_birds\\test\\RED LEGGED HONEYCREEPER\\1.jpg'/></div><div class=\"zoom\"><img style='width: 100px; height: 100px; margin: 1px; float: left; border: 0px solid black;'title=['RED LEGGED HONEYCREEPER'] src='dataset_birds\\test\\RED LEGGED HONEYCREEPER\\2.jpg'/></div><div class=\"zoom\"><img style='width: 100px; height: 100px; margin: 1px; float: left; border: 0px solid black;'title=['RED LEGGED HONEYCREEPER'] src='dataset_birds\\test\\RED LEGGED HONEYCREEPER\\3.jpg'/></div><div class=\"zoom\"><img style='width: 100px; height: 100px; margin: 1px; float: left; border: 0px solid black;'title=['RED LEGGED HONEYCREEPER'] src='dataset_birds\\test\\RED LEGGED HONEYCREEPER\\4.jpg'/></div><div class=\"zoom\"><img style='width: 100px; height: 100px; margin: 1px; float: left; border: 0px solid black;'title=['RED LEGGED HONEYCREEPER'] src='dataset_birds\\test\\RED LEGGED HONEYCREEPER\\5.jpg'/></div>"
      ],
      "text/plain": [
       "<IPython.core.display.HTML object>"
      ]
     },
     "metadata": {},
     "output_type": "display_data"
    },
    {
     "name": "stdout",
     "output_type": "stream",
     "text": [
      "Drawing RED NAPED TROGON\n"
     ]
    },
    {
     "data": {
      "text/html": [
       "<div class=\"zoom\"><img style='width: 100px; height: 100px; margin: 1px; float: left; border: 0px solid black;'title=['RED NAPED TROGON'] src='dataset_birds\\test\\RED NAPED TROGON\\1.jpg'/></div><div class=\"zoom\"><img style='width: 100px; height: 100px; margin: 1px; float: left; border: 0px solid black;'title=['RED NAPED TROGON'] src='dataset_birds\\test\\RED NAPED TROGON\\2.jpg'/></div><div class=\"zoom\"><img style='width: 100px; height: 100px; margin: 1px; float: left; border: 0px solid black;'title=['RED NAPED TROGON'] src='dataset_birds\\test\\RED NAPED TROGON\\3.jpg'/></div><div class=\"zoom\"><img style='width: 100px; height: 100px; margin: 1px; float: left; border: 0px solid black;'title=['RED NAPED TROGON'] src='dataset_birds\\test\\RED NAPED TROGON\\4.jpg'/></div><div class=\"zoom\"><img style='width: 100px; height: 100px; margin: 1px; float: left; border: 0px solid black;'title=['RED NAPED TROGON'] src='dataset_birds\\test\\RED NAPED TROGON\\5.jpg'/></div>"
      ],
      "text/plain": [
       "<IPython.core.display.HTML object>"
      ]
     },
     "metadata": {},
     "output_type": "display_data"
    },
    {
     "name": "stdout",
     "output_type": "stream",
     "text": [
      "Drawing RED SHOULDERED HAWK\n"
     ]
    },
    {
     "data": {
      "text/html": [
       "<div class=\"zoom\"><img style='width: 100px; height: 100px; margin: 1px; float: left; border: 0px solid black;'title=['RED SHOULDERED HAWK'] src='dataset_birds\\test\\RED SHOULDERED HAWK\\1.jpg'/></div><div class=\"zoom\"><img style='width: 100px; height: 100px; margin: 1px; float: left; border: 0px solid black;'title=['RED SHOULDERED HAWK'] src='dataset_birds\\test\\RED SHOULDERED HAWK\\2.jpg'/></div><div class=\"zoom\"><img style='width: 100px; height: 100px; margin: 1px; float: left; border: 0px solid black;'title=['RED SHOULDERED HAWK'] src='dataset_birds\\test\\RED SHOULDERED HAWK\\3.jpg'/></div><div class=\"zoom\"><img style='width: 100px; height: 100px; margin: 1px; float: left; border: 0px solid black;'title=['RED SHOULDERED HAWK'] src='dataset_birds\\test\\RED SHOULDERED HAWK\\4.jpg'/></div><div class=\"zoom\"><img style='width: 100px; height: 100px; margin: 1px; float: left; border: 0px solid black;'title=['RED SHOULDERED HAWK'] src='dataset_birds\\test\\RED SHOULDERED HAWK\\5.jpg'/></div>"
      ],
      "text/plain": [
       "<IPython.core.display.HTML object>"
      ]
     },
     "metadata": {},
     "output_type": "display_data"
    },
    {
     "name": "stdout",
     "output_type": "stream",
     "text": [
      "Drawing RED TAILED HAWK\n"
     ]
    },
    {
     "data": {
      "text/html": [
       "<div class=\"zoom\"><img style='width: 100px; height: 100px; margin: 1px; float: left; border: 0px solid black;'title=['RED TAILED HAWK'] src='dataset_birds\\test\\RED TAILED HAWK\\1.jpg'/></div><div class=\"zoom\"><img style='width: 100px; height: 100px; margin: 1px; float: left; border: 0px solid black;'title=['RED TAILED HAWK'] src='dataset_birds\\test\\RED TAILED HAWK\\2.jpg'/></div><div class=\"zoom\"><img style='width: 100px; height: 100px; margin: 1px; float: left; border: 0px solid black;'title=['RED TAILED HAWK'] src='dataset_birds\\test\\RED TAILED HAWK\\3.jpg'/></div><div class=\"zoom\"><img style='width: 100px; height: 100px; margin: 1px; float: left; border: 0px solid black;'title=['RED TAILED HAWK'] src='dataset_birds\\test\\RED TAILED HAWK\\4.jpg'/></div><div class=\"zoom\"><img style='width: 100px; height: 100px; margin: 1px; float: left; border: 0px solid black;'title=['RED TAILED HAWK'] src='dataset_birds\\test\\RED TAILED HAWK\\5.jpg'/></div>"
      ],
      "text/plain": [
       "<IPython.core.display.HTML object>"
      ]
     },
     "metadata": {},
     "output_type": "display_data"
    },
    {
     "name": "stdout",
     "output_type": "stream",
     "text": [
      "Drawing RED TAILED THRUSH\n"
     ]
    },
    {
     "data": {
      "text/html": [
       "<div class=\"zoom\"><img style='width: 100px; height: 100px; margin: 1px; float: left; border: 0px solid black;'title=['RED TAILED THRUSH'] src='dataset_birds\\test\\RED TAILED THRUSH\\1.jpg'/></div><div class=\"zoom\"><img style='width: 100px; height: 100px; margin: 1px; float: left; border: 0px solid black;'title=['RED TAILED THRUSH'] src='dataset_birds\\test\\RED TAILED THRUSH\\2.jpg'/></div><div class=\"zoom\"><img style='width: 100px; height: 100px; margin: 1px; float: left; border: 0px solid black;'title=['RED TAILED THRUSH'] src='dataset_birds\\test\\RED TAILED THRUSH\\3.jpg'/></div><div class=\"zoom\"><img style='width: 100px; height: 100px; margin: 1px; float: left; border: 0px solid black;'title=['RED TAILED THRUSH'] src='dataset_birds\\test\\RED TAILED THRUSH\\4.jpg'/></div><div class=\"zoom\"><img style='width: 100px; height: 100px; margin: 1px; float: left; border: 0px solid black;'title=['RED TAILED THRUSH'] src='dataset_birds\\test\\RED TAILED THRUSH\\5.jpg'/></div>"
      ],
      "text/plain": [
       "<IPython.core.display.HTML object>"
      ]
     },
     "metadata": {},
     "output_type": "display_data"
    },
    {
     "name": "stdout",
     "output_type": "stream",
     "text": [
      "Drawing RED WINGED BLACKBIRD\n"
     ]
    },
    {
     "data": {
      "text/html": [
       "<div class=\"zoom\"><img style='width: 100px; height: 100px; margin: 1px; float: left; border: 0px solid black;'title=['RED WINGED BLACKBIRD'] src='dataset_birds\\test\\RED WINGED BLACKBIRD\\1.jpg'/></div><div class=\"zoom\"><img style='width: 100px; height: 100px; margin: 1px; float: left; border: 0px solid black;'title=['RED WINGED BLACKBIRD'] src='dataset_birds\\test\\RED WINGED BLACKBIRD\\2.jpg'/></div><div class=\"zoom\"><img style='width: 100px; height: 100px; margin: 1px; float: left; border: 0px solid black;'title=['RED WINGED BLACKBIRD'] src='dataset_birds\\test\\RED WINGED BLACKBIRD\\3.jpg'/></div><div class=\"zoom\"><img style='width: 100px; height: 100px; margin: 1px; float: left; border: 0px solid black;'title=['RED WINGED BLACKBIRD'] src='dataset_birds\\test\\RED WINGED BLACKBIRD\\4.jpg'/></div><div class=\"zoom\"><img style='width: 100px; height: 100px; margin: 1px; float: left; border: 0px solid black;'title=['RED WINGED BLACKBIRD'] src='dataset_birds\\test\\RED WINGED BLACKBIRD\\5.jpg'/></div>"
      ],
      "text/plain": [
       "<IPython.core.display.HTML object>"
      ]
     },
     "metadata": {},
     "output_type": "display_data"
    },
    {
     "name": "stdout",
     "output_type": "stream",
     "text": [
      "Drawing RED WISKERED BULBUL\n"
     ]
    },
    {
     "data": {
      "text/html": [
       "<div class=\"zoom\"><img style='width: 100px; height: 100px; margin: 1px; float: left; border: 0px solid black;'title=['RED WISKERED BULBUL'] src='dataset_birds\\test\\RED WISKERED BULBUL\\1.jpg'/></div><div class=\"zoom\"><img style='width: 100px; height: 100px; margin: 1px; float: left; border: 0px solid black;'title=['RED WISKERED BULBUL'] src='dataset_birds\\test\\RED WISKERED BULBUL\\2.jpg'/></div><div class=\"zoom\"><img style='width: 100px; height: 100px; margin: 1px; float: left; border: 0px solid black;'title=['RED WISKERED BULBUL'] src='dataset_birds\\test\\RED WISKERED BULBUL\\3.jpg'/></div><div class=\"zoom\"><img style='width: 100px; height: 100px; margin: 1px; float: left; border: 0px solid black;'title=['RED WISKERED BULBUL'] src='dataset_birds\\test\\RED WISKERED BULBUL\\4.jpg'/></div><div class=\"zoom\"><img style='width: 100px; height: 100px; margin: 1px; float: left; border: 0px solid black;'title=['RED WISKERED BULBUL'] src='dataset_birds\\test\\RED WISKERED BULBUL\\5.jpg'/></div>"
      ],
      "text/plain": [
       "<IPython.core.display.HTML object>"
      ]
     },
     "metadata": {},
     "output_type": "display_data"
    },
    {
     "name": "stdout",
     "output_type": "stream",
     "text": [
      "Drawing REGENT BOWERBIRD\n"
     ]
    },
    {
     "data": {
      "text/html": [
       "<div class=\"zoom\"><img style='width: 100px; height: 100px; margin: 1px; float: left; border: 0px solid black;'title=['REGENT BOWERBIRD'] src='dataset_birds\\test\\REGENT BOWERBIRD\\1.jpg'/></div><div class=\"zoom\"><img style='width: 100px; height: 100px; margin: 1px; float: left; border: 0px solid black;'title=['REGENT BOWERBIRD'] src='dataset_birds\\test\\REGENT BOWERBIRD\\2.jpg'/></div><div class=\"zoom\"><img style='width: 100px; height: 100px; margin: 1px; float: left; border: 0px solid black;'title=['REGENT BOWERBIRD'] src='dataset_birds\\test\\REGENT BOWERBIRD\\3.jpg'/></div><div class=\"zoom\"><img style='width: 100px; height: 100px; margin: 1px; float: left; border: 0px solid black;'title=['REGENT BOWERBIRD'] src='dataset_birds\\test\\REGENT BOWERBIRD\\4.jpg'/></div><div class=\"zoom\"><img style='width: 100px; height: 100px; margin: 1px; float: left; border: 0px solid black;'title=['REGENT BOWERBIRD'] src='dataset_birds\\test\\REGENT BOWERBIRD\\5.jpg'/></div>"
      ],
      "text/plain": [
       "<IPython.core.display.HTML object>"
      ]
     },
     "metadata": {},
     "output_type": "display_data"
    },
    {
     "name": "stdout",
     "output_type": "stream",
     "text": [
      "Drawing RING-NECKED PHEASANT\n"
     ]
    },
    {
     "data": {
      "text/html": [
       "<div class=\"zoom\"><img style='width: 100px; height: 100px; margin: 1px; float: left; border: 0px solid black;'title=['RING-NECKED PHEASANT'] src='dataset_birds\\test\\RING-NECKED PHEASANT\\1.jpg'/></div><div class=\"zoom\"><img style='width: 100px; height: 100px; margin: 1px; float: left; border: 0px solid black;'title=['RING-NECKED PHEASANT'] src='dataset_birds\\test\\RING-NECKED PHEASANT\\2.jpg'/></div><div class=\"zoom\"><img style='width: 100px; height: 100px; margin: 1px; float: left; border: 0px solid black;'title=['RING-NECKED PHEASANT'] src='dataset_birds\\test\\RING-NECKED PHEASANT\\3.jpg'/></div><div class=\"zoom\"><img style='width: 100px; height: 100px; margin: 1px; float: left; border: 0px solid black;'title=['RING-NECKED PHEASANT'] src='dataset_birds\\test\\RING-NECKED PHEASANT\\4.jpg'/></div><div class=\"zoom\"><img style='width: 100px; height: 100px; margin: 1px; float: left; border: 0px solid black;'title=['RING-NECKED PHEASANT'] src='dataset_birds\\test\\RING-NECKED PHEASANT\\5.jpg'/></div>"
      ],
      "text/plain": [
       "<IPython.core.display.HTML object>"
      ]
     },
     "metadata": {},
     "output_type": "display_data"
    },
    {
     "name": "stdout",
     "output_type": "stream",
     "text": [
      "Drawing ROADRUNNER\n"
     ]
    },
    {
     "data": {
      "text/html": [
       "<div class=\"zoom\"><img style='width: 100px; height: 100px; margin: 1px; float: left; border: 0px solid black;'title=['ROADRUNNER'] src='dataset_birds\\test\\ROADRUNNER\\1.jpg'/></div><div class=\"zoom\"><img style='width: 100px; height: 100px; margin: 1px; float: left; border: 0px solid black;'title=['ROADRUNNER'] src='dataset_birds\\test\\ROADRUNNER\\2.jpg'/></div><div class=\"zoom\"><img style='width: 100px; height: 100px; margin: 1px; float: left; border: 0px solid black;'title=['ROADRUNNER'] src='dataset_birds\\test\\ROADRUNNER\\3.jpg'/></div><div class=\"zoom\"><img style='width: 100px; height: 100px; margin: 1px; float: left; border: 0px solid black;'title=['ROADRUNNER'] src='dataset_birds\\test\\ROADRUNNER\\4.jpg'/></div><div class=\"zoom\"><img style='width: 100px; height: 100px; margin: 1px; float: left; border: 0px solid black;'title=['ROADRUNNER'] src='dataset_birds\\test\\ROADRUNNER\\5.jpg'/></div>"
      ],
      "text/plain": [
       "<IPython.core.display.HTML object>"
      ]
     },
     "metadata": {},
     "output_type": "display_data"
    },
    {
     "name": "stdout",
     "output_type": "stream",
     "text": [
      "Drawing ROCK DOVE\n"
     ]
    },
    {
     "data": {
      "text/html": [
       "<div class=\"zoom\"><img style='width: 100px; height: 100px; margin: 1px; float: left; border: 0px solid black;'title=['ROCK DOVE'] src='dataset_birds\\test\\ROCK DOVE\\1.jpg'/></div><div class=\"zoom\"><img style='width: 100px; height: 100px; margin: 1px; float: left; border: 0px solid black;'title=['ROCK DOVE'] src='dataset_birds\\test\\ROCK DOVE\\2.jpg'/></div><div class=\"zoom\"><img style='width: 100px; height: 100px; margin: 1px; float: left; border: 0px solid black;'title=['ROCK DOVE'] src='dataset_birds\\test\\ROCK DOVE\\3.jpg'/></div><div class=\"zoom\"><img style='width: 100px; height: 100px; margin: 1px; float: left; border: 0px solid black;'title=['ROCK DOVE'] src='dataset_birds\\test\\ROCK DOVE\\4.jpg'/></div><div class=\"zoom\"><img style='width: 100px; height: 100px; margin: 1px; float: left; border: 0px solid black;'title=['ROCK DOVE'] src='dataset_birds\\test\\ROCK DOVE\\5.jpg'/></div>"
      ],
      "text/plain": [
       "<IPython.core.display.HTML object>"
      ]
     },
     "metadata": {},
     "output_type": "display_data"
    },
    {
     "name": "stdout",
     "output_type": "stream",
     "text": [
      "Drawing ROSE BREASTED COCKATOO\n"
     ]
    },
    {
     "data": {
      "text/html": [
       "<div class=\"zoom\"><img style='width: 100px; height: 100px; margin: 1px; float: left; border: 0px solid black;'title=['ROSE BREASTED COCKATOO'] src='dataset_birds\\test\\ROSE BREASTED COCKATOO\\1.jpg'/></div><div class=\"zoom\"><img style='width: 100px; height: 100px; margin: 1px; float: left; border: 0px solid black;'title=['ROSE BREASTED COCKATOO'] src='dataset_birds\\test\\ROSE BREASTED COCKATOO\\2.jpg'/></div><div class=\"zoom\"><img style='width: 100px; height: 100px; margin: 1px; float: left; border: 0px solid black;'title=['ROSE BREASTED COCKATOO'] src='dataset_birds\\test\\ROSE BREASTED COCKATOO\\3.jpg'/></div><div class=\"zoom\"><img style='width: 100px; height: 100px; margin: 1px; float: left; border: 0px solid black;'title=['ROSE BREASTED COCKATOO'] src='dataset_birds\\test\\ROSE BREASTED COCKATOO\\4.jpg'/></div><div class=\"zoom\"><img style='width: 100px; height: 100px; margin: 1px; float: left; border: 0px solid black;'title=['ROSE BREASTED COCKATOO'] src='dataset_birds\\test\\ROSE BREASTED COCKATOO\\5.jpg'/></div>"
      ],
      "text/plain": [
       "<IPython.core.display.HTML object>"
      ]
     },
     "metadata": {},
     "output_type": "display_data"
    },
    {
     "name": "stdout",
     "output_type": "stream",
     "text": [
      "Drawing ROSE BREASTED GROSBEAK\n"
     ]
    },
    {
     "data": {
      "text/html": [
       "<div class=\"zoom\"><img style='width: 100px; height: 100px; margin: 1px; float: left; border: 0px solid black;'title=['ROSE BREASTED GROSBEAK'] src='dataset_birds\\test\\ROSE BREASTED GROSBEAK\\1.jpg'/></div><div class=\"zoom\"><img style='width: 100px; height: 100px; margin: 1px; float: left; border: 0px solid black;'title=['ROSE BREASTED GROSBEAK'] src='dataset_birds\\test\\ROSE BREASTED GROSBEAK\\2.jpg'/></div><div class=\"zoom\"><img style='width: 100px; height: 100px; margin: 1px; float: left; border: 0px solid black;'title=['ROSE BREASTED GROSBEAK'] src='dataset_birds\\test\\ROSE BREASTED GROSBEAK\\3.jpg'/></div><div class=\"zoom\"><img style='width: 100px; height: 100px; margin: 1px; float: left; border: 0px solid black;'title=['ROSE BREASTED GROSBEAK'] src='dataset_birds\\test\\ROSE BREASTED GROSBEAK\\4.jpg'/></div><div class=\"zoom\"><img style='width: 100px; height: 100px; margin: 1px; float: left; border: 0px solid black;'title=['ROSE BREASTED GROSBEAK'] src='dataset_birds\\test\\ROSE BREASTED GROSBEAK\\5.jpg'/></div>"
      ],
      "text/plain": [
       "<IPython.core.display.HTML object>"
      ]
     },
     "metadata": {},
     "output_type": "display_data"
    },
    {
     "name": "stdout",
     "output_type": "stream",
     "text": [
      "Drawing ROSEATE SPOONBILL\n"
     ]
    },
    {
     "data": {
      "text/html": [
       "<div class=\"zoom\"><img style='width: 100px; height: 100px; margin: 1px; float: left; border: 0px solid black;'title=['ROSEATE SPOONBILL'] src='dataset_birds\\test\\ROSEATE SPOONBILL\\1.jpg'/></div><div class=\"zoom\"><img style='width: 100px; height: 100px; margin: 1px; float: left; border: 0px solid black;'title=['ROSEATE SPOONBILL'] src='dataset_birds\\test\\ROSEATE SPOONBILL\\2.jpg'/></div><div class=\"zoom\"><img style='width: 100px; height: 100px; margin: 1px; float: left; border: 0px solid black;'title=['ROSEATE SPOONBILL'] src='dataset_birds\\test\\ROSEATE SPOONBILL\\3.jpg'/></div><div class=\"zoom\"><img style='width: 100px; height: 100px; margin: 1px; float: left; border: 0px solid black;'title=['ROSEATE SPOONBILL'] src='dataset_birds\\test\\ROSEATE SPOONBILL\\4.jpg'/></div><div class=\"zoom\"><img style='width: 100px; height: 100px; margin: 1px; float: left; border: 0px solid black;'title=['ROSEATE SPOONBILL'] src='dataset_birds\\test\\ROSEATE SPOONBILL\\5.jpg'/></div>"
      ],
      "text/plain": [
       "<IPython.core.display.HTML object>"
      ]
     },
     "metadata": {},
     "output_type": "display_data"
    },
    {
     "name": "stdout",
     "output_type": "stream",
     "text": [
      "Drawing ROSY FACED LOVEBIRD\n"
     ]
    },
    {
     "data": {
      "text/html": [
       "<div class=\"zoom\"><img style='width: 100px; height: 100px; margin: 1px; float: left; border: 0px solid black;'title=['ROSY FACED LOVEBIRD'] src='dataset_birds\\test\\ROSY FACED LOVEBIRD\\1.jpg'/></div><div class=\"zoom\"><img style='width: 100px; height: 100px; margin: 1px; float: left; border: 0px solid black;'title=['ROSY FACED LOVEBIRD'] src='dataset_birds\\test\\ROSY FACED LOVEBIRD\\2.jpg'/></div><div class=\"zoom\"><img style='width: 100px; height: 100px; margin: 1px; float: left; border: 0px solid black;'title=['ROSY FACED LOVEBIRD'] src='dataset_birds\\test\\ROSY FACED LOVEBIRD\\3.jpg'/></div><div class=\"zoom\"><img style='width: 100px; height: 100px; margin: 1px; float: left; border: 0px solid black;'title=['ROSY FACED LOVEBIRD'] src='dataset_birds\\test\\ROSY FACED LOVEBIRD\\4.jpg'/></div><div class=\"zoom\"><img style='width: 100px; height: 100px; margin: 1px; float: left; border: 0px solid black;'title=['ROSY FACED LOVEBIRD'] src='dataset_birds\\test\\ROSY FACED LOVEBIRD\\5.jpg'/></div>"
      ],
      "text/plain": [
       "<IPython.core.display.HTML object>"
      ]
     },
     "metadata": {},
     "output_type": "display_data"
    },
    {
     "name": "stdout",
     "output_type": "stream",
     "text": [
      "Drawing ROUGH LEG BUZZARD\n"
     ]
    },
    {
     "data": {
      "text/html": [
       "<div class=\"zoom\"><img style='width: 100px; height: 100px; margin: 1px; float: left; border: 0px solid black;'title=['ROUGH LEG BUZZARD'] src='dataset_birds\\test\\ROUGH LEG BUZZARD\\1.jpg'/></div><div class=\"zoom\"><img style='width: 100px; height: 100px; margin: 1px; float: left; border: 0px solid black;'title=['ROUGH LEG BUZZARD'] src='dataset_birds\\test\\ROUGH LEG BUZZARD\\2.jpg'/></div><div class=\"zoom\"><img style='width: 100px; height: 100px; margin: 1px; float: left; border: 0px solid black;'title=['ROUGH LEG BUZZARD'] src='dataset_birds\\test\\ROUGH LEG BUZZARD\\3.jpg'/></div><div class=\"zoom\"><img style='width: 100px; height: 100px; margin: 1px; float: left; border: 0px solid black;'title=['ROUGH LEG BUZZARD'] src='dataset_birds\\test\\ROUGH LEG BUZZARD\\4.jpg'/></div><div class=\"zoom\"><img style='width: 100px; height: 100px; margin: 1px; float: left; border: 0px solid black;'title=['ROUGH LEG BUZZARD'] src='dataset_birds\\test\\ROUGH LEG BUZZARD\\5.jpg'/></div>"
      ],
      "text/plain": [
       "<IPython.core.display.HTML object>"
      ]
     },
     "metadata": {},
     "output_type": "display_data"
    },
    {
     "name": "stdout",
     "output_type": "stream",
     "text": [
      "Drawing ROYAL FLYCATCHER\n"
     ]
    },
    {
     "data": {
      "text/html": [
       "<div class=\"zoom\"><img style='width: 100px; height: 100px; margin: 1px; float: left; border: 0px solid black;'title=['ROYAL FLYCATCHER'] src='dataset_birds\\test\\ROYAL FLYCATCHER\\1.jpg'/></div><div class=\"zoom\"><img style='width: 100px; height: 100px; margin: 1px; float: left; border: 0px solid black;'title=['ROYAL FLYCATCHER'] src='dataset_birds\\test\\ROYAL FLYCATCHER\\2.jpg'/></div><div class=\"zoom\"><img style='width: 100px; height: 100px; margin: 1px; float: left; border: 0px solid black;'title=['ROYAL FLYCATCHER'] src='dataset_birds\\test\\ROYAL FLYCATCHER\\3.jpg'/></div><div class=\"zoom\"><img style='width: 100px; height: 100px; margin: 1px; float: left; border: 0px solid black;'title=['ROYAL FLYCATCHER'] src='dataset_birds\\test\\ROYAL FLYCATCHER\\4.jpg'/></div><div class=\"zoom\"><img style='width: 100px; height: 100px; margin: 1px; float: left; border: 0px solid black;'title=['ROYAL FLYCATCHER'] src='dataset_birds\\test\\ROYAL FLYCATCHER\\5.jpg'/></div>"
      ],
      "text/plain": [
       "<IPython.core.display.HTML object>"
      ]
     },
     "metadata": {},
     "output_type": "display_data"
    },
    {
     "name": "stdout",
     "output_type": "stream",
     "text": [
      "Drawing RUBY CROWNED KINGLET\n"
     ]
    },
    {
     "data": {
      "text/html": [
       "<div class=\"zoom\"><img style='width: 100px; height: 100px; margin: 1px; float: left; border: 0px solid black;'title=['RUBY CROWNED KINGLET'] src='dataset_birds\\test\\RUBY CROWNED KINGLET\\1.jpg'/></div><div class=\"zoom\"><img style='width: 100px; height: 100px; margin: 1px; float: left; border: 0px solid black;'title=['RUBY CROWNED KINGLET'] src='dataset_birds\\test\\RUBY CROWNED KINGLET\\2.jpg'/></div><div class=\"zoom\"><img style='width: 100px; height: 100px; margin: 1px; float: left; border: 0px solid black;'title=['RUBY CROWNED KINGLET'] src='dataset_birds\\test\\RUBY CROWNED KINGLET\\3.jpg'/></div><div class=\"zoom\"><img style='width: 100px; height: 100px; margin: 1px; float: left; border: 0px solid black;'title=['RUBY CROWNED KINGLET'] src='dataset_birds\\test\\RUBY CROWNED KINGLET\\4.jpg'/></div><div class=\"zoom\"><img style='width: 100px; height: 100px; margin: 1px; float: left; border: 0px solid black;'title=['RUBY CROWNED KINGLET'] src='dataset_birds\\test\\RUBY CROWNED KINGLET\\5.jpg'/></div>"
      ],
      "text/plain": [
       "<IPython.core.display.HTML object>"
      ]
     },
     "metadata": {},
     "output_type": "display_data"
    },
    {
     "name": "stdout",
     "output_type": "stream",
     "text": [
      "Drawing RUBY THROATED HUMMINGBIRD\n"
     ]
    },
    {
     "data": {
      "text/html": [
       "<div class=\"zoom\"><img style='width: 100px; height: 100px; margin: 1px; float: left; border: 0px solid black;'title=['RUBY THROATED HUMMINGBIRD'] src='dataset_birds\\test\\RUBY THROATED HUMMINGBIRD\\1.jpg'/></div><div class=\"zoom\"><img style='width: 100px; height: 100px; margin: 1px; float: left; border: 0px solid black;'title=['RUBY THROATED HUMMINGBIRD'] src='dataset_birds\\test\\RUBY THROATED HUMMINGBIRD\\2.jpg'/></div><div class=\"zoom\"><img style='width: 100px; height: 100px; margin: 1px; float: left; border: 0px solid black;'title=['RUBY THROATED HUMMINGBIRD'] src='dataset_birds\\test\\RUBY THROATED HUMMINGBIRD\\3.jpg'/></div><div class=\"zoom\"><img style='width: 100px; height: 100px; margin: 1px; float: left; border: 0px solid black;'title=['RUBY THROATED HUMMINGBIRD'] src='dataset_birds\\test\\RUBY THROATED HUMMINGBIRD\\4.jpg'/></div><div class=\"zoom\"><img style='width: 100px; height: 100px; margin: 1px; float: left; border: 0px solid black;'title=['RUBY THROATED HUMMINGBIRD'] src='dataset_birds\\test\\RUBY THROATED HUMMINGBIRD\\5.jpg'/></div>"
      ],
      "text/plain": [
       "<IPython.core.display.HTML object>"
      ]
     },
     "metadata": {},
     "output_type": "display_data"
    },
    {
     "name": "stdout",
     "output_type": "stream",
     "text": [
      "Drawing RUDDY SHELDUCK\n"
     ]
    },
    {
     "data": {
      "text/html": [
       "<div class=\"zoom\"><img style='width: 100px; height: 100px; margin: 1px; float: left; border: 0px solid black;'title=['RUDDY SHELDUCK'] src='dataset_birds\\test\\RUDDY SHELDUCK\\1.jpg'/></div><div class=\"zoom\"><img style='width: 100px; height: 100px; margin: 1px; float: left; border: 0px solid black;'title=['RUDDY SHELDUCK'] src='dataset_birds\\test\\RUDDY SHELDUCK\\2.jpg'/></div><div class=\"zoom\"><img style='width: 100px; height: 100px; margin: 1px; float: left; border: 0px solid black;'title=['RUDDY SHELDUCK'] src='dataset_birds\\test\\RUDDY SHELDUCK\\3.jpg'/></div><div class=\"zoom\"><img style='width: 100px; height: 100px; margin: 1px; float: left; border: 0px solid black;'title=['RUDDY SHELDUCK'] src='dataset_birds\\test\\RUDDY SHELDUCK\\4.jpg'/></div><div class=\"zoom\"><img style='width: 100px; height: 100px; margin: 1px; float: left; border: 0px solid black;'title=['RUDDY SHELDUCK'] src='dataset_birds\\test\\RUDDY SHELDUCK\\5.jpg'/></div>"
      ],
      "text/plain": [
       "<IPython.core.display.HTML object>"
      ]
     },
     "metadata": {},
     "output_type": "display_data"
    },
    {
     "name": "stdout",
     "output_type": "stream",
     "text": [
      "Drawing RUDY KINGFISHER\n"
     ]
    },
    {
     "data": {
      "text/html": [
       "<div class=\"zoom\"><img style='width: 100px; height: 100px; margin: 1px; float: left; border: 0px solid black;'title=['RUDY KINGFISHER'] src='dataset_birds\\test\\RUDY KINGFISHER\\1.jpg'/></div><div class=\"zoom\"><img style='width: 100px; height: 100px; margin: 1px; float: left; border: 0px solid black;'title=['RUDY KINGFISHER'] src='dataset_birds\\test\\RUDY KINGFISHER\\2.jpg'/></div><div class=\"zoom\"><img style='width: 100px; height: 100px; margin: 1px; float: left; border: 0px solid black;'title=['RUDY KINGFISHER'] src='dataset_birds\\test\\RUDY KINGFISHER\\3.jpg'/></div><div class=\"zoom\"><img style='width: 100px; height: 100px; margin: 1px; float: left; border: 0px solid black;'title=['RUDY KINGFISHER'] src='dataset_birds\\test\\RUDY KINGFISHER\\4.jpg'/></div><div class=\"zoom\"><img style='width: 100px; height: 100px; margin: 1px; float: left; border: 0px solid black;'title=['RUDY KINGFISHER'] src='dataset_birds\\test\\RUDY KINGFISHER\\5.jpg'/></div>"
      ],
      "text/plain": [
       "<IPython.core.display.HTML object>"
      ]
     },
     "metadata": {},
     "output_type": "display_data"
    },
    {
     "name": "stdout",
     "output_type": "stream",
     "text": [
      "Drawing RUFOUS KINGFISHER\n"
     ]
    },
    {
     "data": {
      "text/html": [
       "<div class=\"zoom\"><img style='width: 100px; height: 100px; margin: 1px; float: left; border: 0px solid black;'title=['RUFOUS KINGFISHER'] src='dataset_birds\\test\\RUFOUS KINGFISHER\\1.jpg'/></div><div class=\"zoom\"><img style='width: 100px; height: 100px; margin: 1px; float: left; border: 0px solid black;'title=['RUFOUS KINGFISHER'] src='dataset_birds\\test\\RUFOUS KINGFISHER\\2.jpg'/></div><div class=\"zoom\"><img style='width: 100px; height: 100px; margin: 1px; float: left; border: 0px solid black;'title=['RUFOUS KINGFISHER'] src='dataset_birds\\test\\RUFOUS KINGFISHER\\3.jpg'/></div><div class=\"zoom\"><img style='width: 100px; height: 100px; margin: 1px; float: left; border: 0px solid black;'title=['RUFOUS KINGFISHER'] src='dataset_birds\\test\\RUFOUS KINGFISHER\\4.jpg'/></div><div class=\"zoom\"><img style='width: 100px; height: 100px; margin: 1px; float: left; border: 0px solid black;'title=['RUFOUS KINGFISHER'] src='dataset_birds\\test\\RUFOUS KINGFISHER\\5.jpg'/></div>"
      ],
      "text/plain": [
       "<IPython.core.display.HTML object>"
      ]
     },
     "metadata": {},
     "output_type": "display_data"
    },
    {
     "name": "stdout",
     "output_type": "stream",
     "text": [
      "Drawing RUFOUS TREPE\n"
     ]
    },
    {
     "data": {
      "text/html": [
       "<div class=\"zoom\"><img style='width: 100px; height: 100px; margin: 1px; float: left; border: 0px solid black;'title=['RUFOUS TREPE'] src='dataset_birds\\test\\RUFOUS TREPE\\1.jpg'/></div><div class=\"zoom\"><img style='width: 100px; height: 100px; margin: 1px; float: left; border: 0px solid black;'title=['RUFOUS TREPE'] src='dataset_birds\\test\\RUFOUS TREPE\\2.jpg'/></div><div class=\"zoom\"><img style='width: 100px; height: 100px; margin: 1px; float: left; border: 0px solid black;'title=['RUFOUS TREPE'] src='dataset_birds\\test\\RUFOUS TREPE\\3.jpg'/></div><div class=\"zoom\"><img style='width: 100px; height: 100px; margin: 1px; float: left; border: 0px solid black;'title=['RUFOUS TREPE'] src='dataset_birds\\test\\RUFOUS TREPE\\4.jpg'/></div><div class=\"zoom\"><img style='width: 100px; height: 100px; margin: 1px; float: left; border: 0px solid black;'title=['RUFOUS TREPE'] src='dataset_birds\\test\\RUFOUS TREPE\\5.jpg'/></div>"
      ],
      "text/plain": [
       "<IPython.core.display.HTML object>"
      ]
     },
     "metadata": {},
     "output_type": "display_data"
    },
    {
     "name": "stdout",
     "output_type": "stream",
     "text": [
      "Drawing RUFUOS MOTMOT\n"
     ]
    },
    {
     "data": {
      "text/html": [
       "<div class=\"zoom\"><img style='width: 100px; height: 100px; margin: 1px; float: left; border: 0px solid black;'title=['RUFUOS MOTMOT'] src='dataset_birds\\test\\RUFUOS MOTMOT\\1.jpg'/></div><div class=\"zoom\"><img style='width: 100px; height: 100px; margin: 1px; float: left; border: 0px solid black;'title=['RUFUOS MOTMOT'] src='dataset_birds\\test\\RUFUOS MOTMOT\\2.jpg'/></div><div class=\"zoom\"><img style='width: 100px; height: 100px; margin: 1px; float: left; border: 0px solid black;'title=['RUFUOS MOTMOT'] src='dataset_birds\\test\\RUFUOS MOTMOT\\3.jpg'/></div><div class=\"zoom\"><img style='width: 100px; height: 100px; margin: 1px; float: left; border: 0px solid black;'title=['RUFUOS MOTMOT'] src='dataset_birds\\test\\RUFUOS MOTMOT\\4.jpg'/></div><div class=\"zoom\"><img style='width: 100px; height: 100px; margin: 1px; float: left; border: 0px solid black;'title=['RUFUOS MOTMOT'] src='dataset_birds\\test\\RUFUOS MOTMOT\\5.jpg'/></div>"
      ],
      "text/plain": [
       "<IPython.core.display.HTML object>"
      ]
     },
     "metadata": {},
     "output_type": "display_data"
    },
    {
     "name": "stdout",
     "output_type": "stream",
     "text": [
      "Drawing SAMATRAN THRUSH\n"
     ]
    },
    {
     "data": {
      "text/html": [
       "<div class=\"zoom\"><img style='width: 100px; height: 100px; margin: 1px; float: left; border: 0px solid black;'title=['SAMATRAN THRUSH'] src='dataset_birds\\test\\SAMATRAN THRUSH\\1.jpg'/></div><div class=\"zoom\"><img style='width: 100px; height: 100px; margin: 1px; float: left; border: 0px solid black;'title=['SAMATRAN THRUSH'] src='dataset_birds\\test\\SAMATRAN THRUSH\\2.jpg'/></div><div class=\"zoom\"><img style='width: 100px; height: 100px; margin: 1px; float: left; border: 0px solid black;'title=['SAMATRAN THRUSH'] src='dataset_birds\\test\\SAMATRAN THRUSH\\3.jpg'/></div><div class=\"zoom\"><img style='width: 100px; height: 100px; margin: 1px; float: left; border: 0px solid black;'title=['SAMATRAN THRUSH'] src='dataset_birds\\test\\SAMATRAN THRUSH\\4.jpg'/></div><div class=\"zoom\"><img style='width: 100px; height: 100px; margin: 1px; float: left; border: 0px solid black;'title=['SAMATRAN THRUSH'] src='dataset_birds\\test\\SAMATRAN THRUSH\\5.jpg'/></div>"
      ],
      "text/plain": [
       "<IPython.core.display.HTML object>"
      ]
     },
     "metadata": {},
     "output_type": "display_data"
    },
    {
     "name": "stdout",
     "output_type": "stream",
     "text": [
      "Drawing SAND MARTIN\n"
     ]
    },
    {
     "data": {
      "text/html": [
       "<div class=\"zoom\"><img style='width: 100px; height: 100px; margin: 1px; float: left; border: 0px solid black;'title=['SAND MARTIN'] src='dataset_birds\\test\\SAND MARTIN\\1.jpg'/></div><div class=\"zoom\"><img style='width: 100px; height: 100px; margin: 1px; float: left; border: 0px solid black;'title=['SAND MARTIN'] src='dataset_birds\\test\\SAND MARTIN\\2.jpg'/></div><div class=\"zoom\"><img style='width: 100px; height: 100px; margin: 1px; float: left; border: 0px solid black;'title=['SAND MARTIN'] src='dataset_birds\\test\\SAND MARTIN\\3.jpg'/></div><div class=\"zoom\"><img style='width: 100px; height: 100px; margin: 1px; float: left; border: 0px solid black;'title=['SAND MARTIN'] src='dataset_birds\\test\\SAND MARTIN\\4.jpg'/></div><div class=\"zoom\"><img style='width: 100px; height: 100px; margin: 1px; float: left; border: 0px solid black;'title=['SAND MARTIN'] src='dataset_birds\\test\\SAND MARTIN\\5.jpg'/></div>"
      ],
      "text/plain": [
       "<IPython.core.display.HTML object>"
      ]
     },
     "metadata": {},
     "output_type": "display_data"
    },
    {
     "name": "stdout",
     "output_type": "stream",
     "text": [
      "Drawing SANDHILL CRANE\n"
     ]
    },
    {
     "data": {
      "text/html": [
       "<div class=\"zoom\"><img style='width: 100px; height: 100px; margin: 1px; float: left; border: 0px solid black;'title=['SANDHILL CRANE'] src='dataset_birds\\test\\SANDHILL CRANE\\1.jpg'/></div><div class=\"zoom\"><img style='width: 100px; height: 100px; margin: 1px; float: left; border: 0px solid black;'title=['SANDHILL CRANE'] src='dataset_birds\\test\\SANDHILL CRANE\\2.jpg'/></div><div class=\"zoom\"><img style='width: 100px; height: 100px; margin: 1px; float: left; border: 0px solid black;'title=['SANDHILL CRANE'] src='dataset_birds\\test\\SANDHILL CRANE\\3.jpg'/></div><div class=\"zoom\"><img style='width: 100px; height: 100px; margin: 1px; float: left; border: 0px solid black;'title=['SANDHILL CRANE'] src='dataset_birds\\test\\SANDHILL CRANE\\4.jpg'/></div><div class=\"zoom\"><img style='width: 100px; height: 100px; margin: 1px; float: left; border: 0px solid black;'title=['SANDHILL CRANE'] src='dataset_birds\\test\\SANDHILL CRANE\\5.jpg'/></div>"
      ],
      "text/plain": [
       "<IPython.core.display.HTML object>"
      ]
     },
     "metadata": {},
     "output_type": "display_data"
    },
    {
     "name": "stdout",
     "output_type": "stream",
     "text": [
      "Drawing SATYR TRAGOPAN\n"
     ]
    },
    {
     "data": {
      "text/html": [
       "<div class=\"zoom\"><img style='width: 100px; height: 100px; margin: 1px; float: left; border: 0px solid black;'title=['SATYR TRAGOPAN'] src='dataset_birds\\test\\SATYR TRAGOPAN\\1.jpg'/></div><div class=\"zoom\"><img style='width: 100px; height: 100px; margin: 1px; float: left; border: 0px solid black;'title=['SATYR TRAGOPAN'] src='dataset_birds\\test\\SATYR TRAGOPAN\\2.jpg'/></div><div class=\"zoom\"><img style='width: 100px; height: 100px; margin: 1px; float: left; border: 0px solid black;'title=['SATYR TRAGOPAN'] src='dataset_birds\\test\\SATYR TRAGOPAN\\3.jpg'/></div><div class=\"zoom\"><img style='width: 100px; height: 100px; margin: 1px; float: left; border: 0px solid black;'title=['SATYR TRAGOPAN'] src='dataset_birds\\test\\SATYR TRAGOPAN\\4.jpg'/></div><div class=\"zoom\"><img style='width: 100px; height: 100px; margin: 1px; float: left; border: 0px solid black;'title=['SATYR TRAGOPAN'] src='dataset_birds\\test\\SATYR TRAGOPAN\\5.jpg'/></div>"
      ],
      "text/plain": [
       "<IPython.core.display.HTML object>"
      ]
     },
     "metadata": {},
     "output_type": "display_data"
    },
    {
     "name": "stdout",
     "output_type": "stream",
     "text": [
      "Drawing SAYS PHOEBE\n"
     ]
    },
    {
     "data": {
      "text/html": [
       "<div class=\"zoom\"><img style='width: 100px; height: 100px; margin: 1px; float: left; border: 0px solid black;'title=['SAYS PHOEBE'] src='dataset_birds\\test\\SAYS PHOEBE\\1.jpg'/></div><div class=\"zoom\"><img style='width: 100px; height: 100px; margin: 1px; float: left; border: 0px solid black;'title=['SAYS PHOEBE'] src='dataset_birds\\test\\SAYS PHOEBE\\2.jpg'/></div><div class=\"zoom\"><img style='width: 100px; height: 100px; margin: 1px; float: left; border: 0px solid black;'title=['SAYS PHOEBE'] src='dataset_birds\\test\\SAYS PHOEBE\\3.jpg'/></div><div class=\"zoom\"><img style='width: 100px; height: 100px; margin: 1px; float: left; border: 0px solid black;'title=['SAYS PHOEBE'] src='dataset_birds\\test\\SAYS PHOEBE\\4.jpg'/></div><div class=\"zoom\"><img style='width: 100px; height: 100px; margin: 1px; float: left; border: 0px solid black;'title=['SAYS PHOEBE'] src='dataset_birds\\test\\SAYS PHOEBE\\5.jpg'/></div>"
      ],
      "text/plain": [
       "<IPython.core.display.HTML object>"
      ]
     },
     "metadata": {},
     "output_type": "display_data"
    },
    {
     "name": "stdout",
     "output_type": "stream",
     "text": [
      "Drawing SCARLET CROWNED FRUIT DOVE\n"
     ]
    },
    {
     "data": {
      "text/html": [
       "<div class=\"zoom\"><img style='width: 100px; height: 100px; margin: 1px; float: left; border: 0px solid black;'title=['SCARLET CROWNED FRUIT DOVE'] src='dataset_birds\\test\\SCARLET CROWNED FRUIT DOVE\\1.jpg'/></div><div class=\"zoom\"><img style='width: 100px; height: 100px; margin: 1px; float: left; border: 0px solid black;'title=['SCARLET CROWNED FRUIT DOVE'] src='dataset_birds\\test\\SCARLET CROWNED FRUIT DOVE\\2.jpg'/></div><div class=\"zoom\"><img style='width: 100px; height: 100px; margin: 1px; float: left; border: 0px solid black;'title=['SCARLET CROWNED FRUIT DOVE'] src='dataset_birds\\test\\SCARLET CROWNED FRUIT DOVE\\3.jpg'/></div><div class=\"zoom\"><img style='width: 100px; height: 100px; margin: 1px; float: left; border: 0px solid black;'title=['SCARLET CROWNED FRUIT DOVE'] src='dataset_birds\\test\\SCARLET CROWNED FRUIT DOVE\\4.jpg'/></div><div class=\"zoom\"><img style='width: 100px; height: 100px; margin: 1px; float: left; border: 0px solid black;'title=['SCARLET CROWNED FRUIT DOVE'] src='dataset_birds\\test\\SCARLET CROWNED FRUIT DOVE\\5.jpg'/></div>"
      ],
      "text/plain": [
       "<IPython.core.display.HTML object>"
      ]
     },
     "metadata": {},
     "output_type": "display_data"
    },
    {
     "name": "stdout",
     "output_type": "stream",
     "text": [
      "Drawing SCARLET FACED LIOCICHLA\n"
     ]
    },
    {
     "data": {
      "text/html": [
       "<div class=\"zoom\"><img style='width: 100px; height: 100px; margin: 1px; float: left; border: 0px solid black;'title=['SCARLET FACED LIOCICHLA'] src='dataset_birds\\test\\SCARLET FACED LIOCICHLA\\1.jpg'/></div><div class=\"zoom\"><img style='width: 100px; height: 100px; margin: 1px; float: left; border: 0px solid black;'title=['SCARLET FACED LIOCICHLA'] src='dataset_birds\\test\\SCARLET FACED LIOCICHLA\\2.jpg'/></div><div class=\"zoom\"><img style='width: 100px; height: 100px; margin: 1px; float: left; border: 0px solid black;'title=['SCARLET FACED LIOCICHLA'] src='dataset_birds\\test\\SCARLET FACED LIOCICHLA\\3.jpg'/></div><div class=\"zoom\"><img style='width: 100px; height: 100px; margin: 1px; float: left; border: 0px solid black;'title=['SCARLET FACED LIOCICHLA'] src='dataset_birds\\test\\SCARLET FACED LIOCICHLA\\4.jpg'/></div><div class=\"zoom\"><img style='width: 100px; height: 100px; margin: 1px; float: left; border: 0px solid black;'title=['SCARLET FACED LIOCICHLA'] src='dataset_birds\\test\\SCARLET FACED LIOCICHLA\\5.jpg'/></div>"
      ],
      "text/plain": [
       "<IPython.core.display.HTML object>"
      ]
     },
     "metadata": {},
     "output_type": "display_data"
    },
    {
     "name": "stdout",
     "output_type": "stream",
     "text": [
      "Drawing SCARLET IBIS\n"
     ]
    },
    {
     "data": {
      "text/html": [
       "<div class=\"zoom\"><img style='width: 100px; height: 100px; margin: 1px; float: left; border: 0px solid black;'title=['SCARLET IBIS'] src='dataset_birds\\test\\SCARLET IBIS\\1.jpg'/></div><div class=\"zoom\"><img style='width: 100px; height: 100px; margin: 1px; float: left; border: 0px solid black;'title=['SCARLET IBIS'] src='dataset_birds\\test\\SCARLET IBIS\\2.jpg'/></div><div class=\"zoom\"><img style='width: 100px; height: 100px; margin: 1px; float: left; border: 0px solid black;'title=['SCARLET IBIS'] src='dataset_birds\\test\\SCARLET IBIS\\3.jpg'/></div><div class=\"zoom\"><img style='width: 100px; height: 100px; margin: 1px; float: left; border: 0px solid black;'title=['SCARLET IBIS'] src='dataset_birds\\test\\SCARLET IBIS\\4.jpg'/></div><div class=\"zoom\"><img style='width: 100px; height: 100px; margin: 1px; float: left; border: 0px solid black;'title=['SCARLET IBIS'] src='dataset_birds\\test\\SCARLET IBIS\\5.jpg'/></div>"
      ],
      "text/plain": [
       "<IPython.core.display.HTML object>"
      ]
     },
     "metadata": {},
     "output_type": "display_data"
    },
    {
     "name": "stdout",
     "output_type": "stream",
     "text": [
      "Drawing SCARLET MACAW\n"
     ]
    },
    {
     "data": {
      "text/html": [
       "<div class=\"zoom\"><img style='width: 100px; height: 100px; margin: 1px; float: left; border: 0px solid black;'title=['SCARLET MACAW'] src='dataset_birds\\test\\SCARLET MACAW\\1.jpg'/></div><div class=\"zoom\"><img style='width: 100px; height: 100px; margin: 1px; float: left; border: 0px solid black;'title=['SCARLET MACAW'] src='dataset_birds\\test\\SCARLET MACAW\\2.jpg'/></div><div class=\"zoom\"><img style='width: 100px; height: 100px; margin: 1px; float: left; border: 0px solid black;'title=['SCARLET MACAW'] src='dataset_birds\\test\\SCARLET MACAW\\3.jpg'/></div><div class=\"zoom\"><img style='width: 100px; height: 100px; margin: 1px; float: left; border: 0px solid black;'title=['SCARLET MACAW'] src='dataset_birds\\test\\SCARLET MACAW\\4.jpg'/></div><div class=\"zoom\"><img style='width: 100px; height: 100px; margin: 1px; float: left; border: 0px solid black;'title=['SCARLET MACAW'] src='dataset_birds\\test\\SCARLET MACAW\\5.jpg'/></div>"
      ],
      "text/plain": [
       "<IPython.core.display.HTML object>"
      ]
     },
     "metadata": {},
     "output_type": "display_data"
    },
    {
     "name": "stdout",
     "output_type": "stream",
     "text": [
      "Drawing SCARLET TANAGER\n"
     ]
    },
    {
     "data": {
      "text/html": [
       "<div class=\"zoom\"><img style='width: 100px; height: 100px; margin: 1px; float: left; border: 0px solid black;'title=['SCARLET TANAGER'] src='dataset_birds\\test\\SCARLET TANAGER\\1.jpg'/></div><div class=\"zoom\"><img style='width: 100px; height: 100px; margin: 1px; float: left; border: 0px solid black;'title=['SCARLET TANAGER'] src='dataset_birds\\test\\SCARLET TANAGER\\2.jpg'/></div><div class=\"zoom\"><img style='width: 100px; height: 100px; margin: 1px; float: left; border: 0px solid black;'title=['SCARLET TANAGER'] src='dataset_birds\\test\\SCARLET TANAGER\\3.jpg'/></div><div class=\"zoom\"><img style='width: 100px; height: 100px; margin: 1px; float: left; border: 0px solid black;'title=['SCARLET TANAGER'] src='dataset_birds\\test\\SCARLET TANAGER\\4.jpg'/></div><div class=\"zoom\"><img style='width: 100px; height: 100px; margin: 1px; float: left; border: 0px solid black;'title=['SCARLET TANAGER'] src='dataset_birds\\test\\SCARLET TANAGER\\5.jpg'/></div>"
      ],
      "text/plain": [
       "<IPython.core.display.HTML object>"
      ]
     },
     "metadata": {},
     "output_type": "display_data"
    },
    {
     "name": "stdout",
     "output_type": "stream",
     "text": [
      "Drawing SHOEBILL\n"
     ]
    },
    {
     "data": {
      "text/html": [
       "<div class=\"zoom\"><img style='width: 100px; height: 100px; margin: 1px; float: left; border: 0px solid black;'title=['SHOEBILL'] src='dataset_birds\\test\\SHOEBILL\\1.jpg'/></div><div class=\"zoom\"><img style='width: 100px; height: 100px; margin: 1px; float: left; border: 0px solid black;'title=['SHOEBILL'] src='dataset_birds\\test\\SHOEBILL\\2.jpg'/></div><div class=\"zoom\"><img style='width: 100px; height: 100px; margin: 1px; float: left; border: 0px solid black;'title=['SHOEBILL'] src='dataset_birds\\test\\SHOEBILL\\3.jpg'/></div><div class=\"zoom\"><img style='width: 100px; height: 100px; margin: 1px; float: left; border: 0px solid black;'title=['SHOEBILL'] src='dataset_birds\\test\\SHOEBILL\\4.jpg'/></div><div class=\"zoom\"><img style='width: 100px; height: 100px; margin: 1px; float: left; border: 0px solid black;'title=['SHOEBILL'] src='dataset_birds\\test\\SHOEBILL\\5.jpg'/></div>"
      ],
      "text/plain": [
       "<IPython.core.display.HTML object>"
      ]
     },
     "metadata": {},
     "output_type": "display_data"
    },
    {
     "name": "stdout",
     "output_type": "stream",
     "text": [
      "Drawing SHORT BILLED DOWITCHER\n"
     ]
    },
    {
     "data": {
      "text/html": [
       "<div class=\"zoom\"><img style='width: 100px; height: 100px; margin: 1px; float: left; border: 0px solid black;'title=['SHORT BILLED DOWITCHER'] src='dataset_birds\\test\\SHORT BILLED DOWITCHER\\1.jpg'/></div><div class=\"zoom\"><img style='width: 100px; height: 100px; margin: 1px; float: left; border: 0px solid black;'title=['SHORT BILLED DOWITCHER'] src='dataset_birds\\test\\SHORT BILLED DOWITCHER\\2.jpg'/></div><div class=\"zoom\"><img style='width: 100px; height: 100px; margin: 1px; float: left; border: 0px solid black;'title=['SHORT BILLED DOWITCHER'] src='dataset_birds\\test\\SHORT BILLED DOWITCHER\\3.jpg'/></div><div class=\"zoom\"><img style='width: 100px; height: 100px; margin: 1px; float: left; border: 0px solid black;'title=['SHORT BILLED DOWITCHER'] src='dataset_birds\\test\\SHORT BILLED DOWITCHER\\4.jpg'/></div><div class=\"zoom\"><img style='width: 100px; height: 100px; margin: 1px; float: left; border: 0px solid black;'title=['SHORT BILLED DOWITCHER'] src='dataset_birds\\test\\SHORT BILLED DOWITCHER\\5.jpg'/></div>"
      ],
      "text/plain": [
       "<IPython.core.display.HTML object>"
      ]
     },
     "metadata": {},
     "output_type": "display_data"
    },
    {
     "name": "stdout",
     "output_type": "stream",
     "text": [
      "Drawing SMITHS LONGSPUR\n"
     ]
    },
    {
     "data": {
      "text/html": [
       "<div class=\"zoom\"><img style='width: 100px; height: 100px; margin: 1px; float: left; border: 0px solid black;'title=['SMITHS LONGSPUR'] src='dataset_birds\\test\\SMITHS LONGSPUR\\1.jpg'/></div><div class=\"zoom\"><img style='width: 100px; height: 100px; margin: 1px; float: left; border: 0px solid black;'title=['SMITHS LONGSPUR'] src='dataset_birds\\test\\SMITHS LONGSPUR\\2.jpg'/></div><div class=\"zoom\"><img style='width: 100px; height: 100px; margin: 1px; float: left; border: 0px solid black;'title=['SMITHS LONGSPUR'] src='dataset_birds\\test\\SMITHS LONGSPUR\\3.jpg'/></div><div class=\"zoom\"><img style='width: 100px; height: 100px; margin: 1px; float: left; border: 0px solid black;'title=['SMITHS LONGSPUR'] src='dataset_birds\\test\\SMITHS LONGSPUR\\4.jpg'/></div><div class=\"zoom\"><img style='width: 100px; height: 100px; margin: 1px; float: left; border: 0px solid black;'title=['SMITHS LONGSPUR'] src='dataset_birds\\test\\SMITHS LONGSPUR\\5.jpg'/></div>"
      ],
      "text/plain": [
       "<IPython.core.display.HTML object>"
      ]
     },
     "metadata": {},
     "output_type": "display_data"
    },
    {
     "name": "stdout",
     "output_type": "stream",
     "text": [
      "Drawing SNOW GOOSE\n"
     ]
    },
    {
     "data": {
      "text/html": [
       "<div class=\"zoom\"><img style='width: 100px; height: 100px; margin: 1px; float: left; border: 0px solid black;'title=['SNOW GOOSE'] src='dataset_birds\\test\\SNOW GOOSE\\1.jpg'/></div><div class=\"zoom\"><img style='width: 100px; height: 100px; margin: 1px; float: left; border: 0px solid black;'title=['SNOW GOOSE'] src='dataset_birds\\test\\SNOW GOOSE\\2.jpg'/></div><div class=\"zoom\"><img style='width: 100px; height: 100px; margin: 1px; float: left; border: 0px solid black;'title=['SNOW GOOSE'] src='dataset_birds\\test\\SNOW GOOSE\\3.jpg'/></div><div class=\"zoom\"><img style='width: 100px; height: 100px; margin: 1px; float: left; border: 0px solid black;'title=['SNOW GOOSE'] src='dataset_birds\\test\\SNOW GOOSE\\4.jpg'/></div><div class=\"zoom\"><img style='width: 100px; height: 100px; margin: 1px; float: left; border: 0px solid black;'title=['SNOW GOOSE'] src='dataset_birds\\test\\SNOW GOOSE\\5.jpg'/></div>"
      ],
      "text/plain": [
       "<IPython.core.display.HTML object>"
      ]
     },
     "metadata": {},
     "output_type": "display_data"
    },
    {
     "name": "stdout",
     "output_type": "stream",
     "text": [
      "Drawing SNOW PARTRIDGE\n"
     ]
    },
    {
     "data": {
      "text/html": [
       "<div class=\"zoom\"><img style='width: 100px; height: 100px; margin: 1px; float: left; border: 0px solid black;'title=['SNOW PARTRIDGE'] src='dataset_birds\\test\\SNOW PARTRIDGE\\1.jpg'/></div><div class=\"zoom\"><img style='width: 100px; height: 100px; margin: 1px; float: left; border: 0px solid black;'title=['SNOW PARTRIDGE'] src='dataset_birds\\test\\SNOW PARTRIDGE\\2.jpg'/></div><div class=\"zoom\"><img style='width: 100px; height: 100px; margin: 1px; float: left; border: 0px solid black;'title=['SNOW PARTRIDGE'] src='dataset_birds\\test\\SNOW PARTRIDGE\\3.jpg'/></div><div class=\"zoom\"><img style='width: 100px; height: 100px; margin: 1px; float: left; border: 0px solid black;'title=['SNOW PARTRIDGE'] src='dataset_birds\\test\\SNOW PARTRIDGE\\4.jpg'/></div><div class=\"zoom\"><img style='width: 100px; height: 100px; margin: 1px; float: left; border: 0px solid black;'title=['SNOW PARTRIDGE'] src='dataset_birds\\test\\SNOW PARTRIDGE\\5.jpg'/></div>"
      ],
      "text/plain": [
       "<IPython.core.display.HTML object>"
      ]
     },
     "metadata": {},
     "output_type": "display_data"
    },
    {
     "name": "stdout",
     "output_type": "stream",
     "text": [
      "Drawing SNOWY EGRET\n"
     ]
    },
    {
     "data": {
      "text/html": [
       "<div class=\"zoom\"><img style='width: 100px; height: 100px; margin: 1px; float: left; border: 0px solid black;'title=['SNOWY EGRET'] src='dataset_birds\\test\\SNOWY EGRET\\1.jpg'/></div><div class=\"zoom\"><img style='width: 100px; height: 100px; margin: 1px; float: left; border: 0px solid black;'title=['SNOWY EGRET'] src='dataset_birds\\test\\SNOWY EGRET\\2.jpg'/></div><div class=\"zoom\"><img style='width: 100px; height: 100px; margin: 1px; float: left; border: 0px solid black;'title=['SNOWY EGRET'] src='dataset_birds\\test\\SNOWY EGRET\\3.jpg'/></div><div class=\"zoom\"><img style='width: 100px; height: 100px; margin: 1px; float: left; border: 0px solid black;'title=['SNOWY EGRET'] src='dataset_birds\\test\\SNOWY EGRET\\4.jpg'/></div><div class=\"zoom\"><img style='width: 100px; height: 100px; margin: 1px; float: left; border: 0px solid black;'title=['SNOWY EGRET'] src='dataset_birds\\test\\SNOWY EGRET\\5.jpg'/></div>"
      ],
      "text/plain": [
       "<IPython.core.display.HTML object>"
      ]
     },
     "metadata": {},
     "output_type": "display_data"
    },
    {
     "name": "stdout",
     "output_type": "stream",
     "text": [
      "Drawing SNOWY OWL\n"
     ]
    },
    {
     "data": {
      "text/html": [
       "<div class=\"zoom\"><img style='width: 100px; height: 100px; margin: 1px; float: left; border: 0px solid black;'title=['SNOWY OWL'] src='dataset_birds\\test\\SNOWY OWL\\1.jpg'/></div><div class=\"zoom\"><img style='width: 100px; height: 100px; margin: 1px; float: left; border: 0px solid black;'title=['SNOWY OWL'] src='dataset_birds\\test\\SNOWY OWL\\2.jpg'/></div><div class=\"zoom\"><img style='width: 100px; height: 100px; margin: 1px; float: left; border: 0px solid black;'title=['SNOWY OWL'] src='dataset_birds\\test\\SNOWY OWL\\3.jpg'/></div><div class=\"zoom\"><img style='width: 100px; height: 100px; margin: 1px; float: left; border: 0px solid black;'title=['SNOWY OWL'] src='dataset_birds\\test\\SNOWY OWL\\4.jpg'/></div><div class=\"zoom\"><img style='width: 100px; height: 100px; margin: 1px; float: left; border: 0px solid black;'title=['SNOWY OWL'] src='dataset_birds\\test\\SNOWY OWL\\5.jpg'/></div>"
      ],
      "text/plain": [
       "<IPython.core.display.HTML object>"
      ]
     },
     "metadata": {},
     "output_type": "display_data"
    },
    {
     "name": "stdout",
     "output_type": "stream",
     "text": [
      "Drawing SNOWY PLOVER\n"
     ]
    },
    {
     "data": {
      "text/html": [
       "<div class=\"zoom\"><img style='width: 100px; height: 100px; margin: 1px; float: left; border: 0px solid black;'title=['SNOWY PLOVER'] src='dataset_birds\\test\\SNOWY PLOVER\\1.jpg'/></div><div class=\"zoom\"><img style='width: 100px; height: 100px; margin: 1px; float: left; border: 0px solid black;'title=['SNOWY PLOVER'] src='dataset_birds\\test\\SNOWY PLOVER\\2.jpg'/></div><div class=\"zoom\"><img style='width: 100px; height: 100px; margin: 1px; float: left; border: 0px solid black;'title=['SNOWY PLOVER'] src='dataset_birds\\test\\SNOWY PLOVER\\3.jpg'/></div><div class=\"zoom\"><img style='width: 100px; height: 100px; margin: 1px; float: left; border: 0px solid black;'title=['SNOWY PLOVER'] src='dataset_birds\\test\\SNOWY PLOVER\\4.jpg'/></div><div class=\"zoom\"><img style='width: 100px; height: 100px; margin: 1px; float: left; border: 0px solid black;'title=['SNOWY PLOVER'] src='dataset_birds\\test\\SNOWY PLOVER\\5.jpg'/></div>"
      ],
      "text/plain": [
       "<IPython.core.display.HTML object>"
      ]
     },
     "metadata": {},
     "output_type": "display_data"
    },
    {
     "name": "stdout",
     "output_type": "stream",
     "text": [
      "Drawing SNOWY SHEATHBILL\n"
     ]
    },
    {
     "data": {
      "text/html": [
       "<div class=\"zoom\"><img style='width: 100px; height: 100px; margin: 1px; float: left; border: 0px solid black;'title=['SNOWY SHEATHBILL'] src='dataset_birds\\test\\SNOWY SHEATHBILL\\1.jpg'/></div><div class=\"zoom\"><img style='width: 100px; height: 100px; margin: 1px; float: left; border: 0px solid black;'title=['SNOWY SHEATHBILL'] src='dataset_birds\\test\\SNOWY SHEATHBILL\\2.jpg'/></div><div class=\"zoom\"><img style='width: 100px; height: 100px; margin: 1px; float: left; border: 0px solid black;'title=['SNOWY SHEATHBILL'] src='dataset_birds\\test\\SNOWY SHEATHBILL\\3.jpg'/></div><div class=\"zoom\"><img style='width: 100px; height: 100px; margin: 1px; float: left; border: 0px solid black;'title=['SNOWY SHEATHBILL'] src='dataset_birds\\test\\SNOWY SHEATHBILL\\4.jpg'/></div><div class=\"zoom\"><img style='width: 100px; height: 100px; margin: 1px; float: left; border: 0px solid black;'title=['SNOWY SHEATHBILL'] src='dataset_birds\\test\\SNOWY SHEATHBILL\\5.jpg'/></div>"
      ],
      "text/plain": [
       "<IPython.core.display.HTML object>"
      ]
     },
     "metadata": {},
     "output_type": "display_data"
    },
    {
     "name": "stdout",
     "output_type": "stream",
     "text": [
      "Drawing SORA\n"
     ]
    },
    {
     "data": {
      "text/html": [
       "<div class=\"zoom\"><img style='width: 100px; height: 100px; margin: 1px; float: left; border: 0px solid black;'title=['SORA'] src='dataset_birds\\test\\SORA\\1.jpg'/></div><div class=\"zoom\"><img style='width: 100px; height: 100px; margin: 1px; float: left; border: 0px solid black;'title=['SORA'] src='dataset_birds\\test\\SORA\\2.jpg'/></div><div class=\"zoom\"><img style='width: 100px; height: 100px; margin: 1px; float: left; border: 0px solid black;'title=['SORA'] src='dataset_birds\\test\\SORA\\3.jpg'/></div><div class=\"zoom\"><img style='width: 100px; height: 100px; margin: 1px; float: left; border: 0px solid black;'title=['SORA'] src='dataset_birds\\test\\SORA\\4.jpg'/></div><div class=\"zoom\"><img style='width: 100px; height: 100px; margin: 1px; float: left; border: 0px solid black;'title=['SORA'] src='dataset_birds\\test\\SORA\\5.jpg'/></div>"
      ],
      "text/plain": [
       "<IPython.core.display.HTML object>"
      ]
     },
     "metadata": {},
     "output_type": "display_data"
    },
    {
     "name": "stdout",
     "output_type": "stream",
     "text": [
      "Drawing SPANGLED COTINGA\n"
     ]
    },
    {
     "data": {
      "text/html": [
       "<div class=\"zoom\"><img style='width: 100px; height: 100px; margin: 1px; float: left; border: 0px solid black;'title=['SPANGLED COTINGA'] src='dataset_birds\\test\\SPANGLED COTINGA\\1.jpg'/></div><div class=\"zoom\"><img style='width: 100px; height: 100px; margin: 1px; float: left; border: 0px solid black;'title=['SPANGLED COTINGA'] src='dataset_birds\\test\\SPANGLED COTINGA\\2.jpg'/></div><div class=\"zoom\"><img style='width: 100px; height: 100px; margin: 1px; float: left; border: 0px solid black;'title=['SPANGLED COTINGA'] src='dataset_birds\\test\\SPANGLED COTINGA\\3.jpg'/></div><div class=\"zoom\"><img style='width: 100px; height: 100px; margin: 1px; float: left; border: 0px solid black;'title=['SPANGLED COTINGA'] src='dataset_birds\\test\\SPANGLED COTINGA\\4.jpg'/></div><div class=\"zoom\"><img style='width: 100px; height: 100px; margin: 1px; float: left; border: 0px solid black;'title=['SPANGLED COTINGA'] src='dataset_birds\\test\\SPANGLED COTINGA\\5.jpg'/></div>"
      ],
      "text/plain": [
       "<IPython.core.display.HTML object>"
      ]
     },
     "metadata": {},
     "output_type": "display_data"
    },
    {
     "name": "stdout",
     "output_type": "stream",
     "text": [
      "Drawing SPLENDID WREN\n"
     ]
    },
    {
     "data": {
      "text/html": [
       "<div class=\"zoom\"><img style='width: 100px; height: 100px; margin: 1px; float: left; border: 0px solid black;'title=['SPLENDID WREN'] src='dataset_birds\\test\\SPLENDID WREN\\1.jpg'/></div><div class=\"zoom\"><img style='width: 100px; height: 100px; margin: 1px; float: left; border: 0px solid black;'title=['SPLENDID WREN'] src='dataset_birds\\test\\SPLENDID WREN\\2.jpg'/></div><div class=\"zoom\"><img style='width: 100px; height: 100px; margin: 1px; float: left; border: 0px solid black;'title=['SPLENDID WREN'] src='dataset_birds\\test\\SPLENDID WREN\\3.jpg'/></div><div class=\"zoom\"><img style='width: 100px; height: 100px; margin: 1px; float: left; border: 0px solid black;'title=['SPLENDID WREN'] src='dataset_birds\\test\\SPLENDID WREN\\4.jpg'/></div><div class=\"zoom\"><img style='width: 100px; height: 100px; margin: 1px; float: left; border: 0px solid black;'title=['SPLENDID WREN'] src='dataset_birds\\test\\SPLENDID WREN\\5.jpg'/></div>"
      ],
      "text/plain": [
       "<IPython.core.display.HTML object>"
      ]
     },
     "metadata": {},
     "output_type": "display_data"
    },
    {
     "name": "stdout",
     "output_type": "stream",
     "text": [
      "Drawing SPOON BILED SANDPIPER\n"
     ]
    },
    {
     "data": {
      "text/html": [
       "<div class=\"zoom\"><img style='width: 100px; height: 100px; margin: 1px; float: left; border: 0px solid black;'title=['SPOON BILED SANDPIPER'] src='dataset_birds\\test\\SPOON BILED SANDPIPER\\1.jpg'/></div><div class=\"zoom\"><img style='width: 100px; height: 100px; margin: 1px; float: left; border: 0px solid black;'title=['SPOON BILED SANDPIPER'] src='dataset_birds\\test\\SPOON BILED SANDPIPER\\2.jpg'/></div><div class=\"zoom\"><img style='width: 100px; height: 100px; margin: 1px; float: left; border: 0px solid black;'title=['SPOON BILED SANDPIPER'] src='dataset_birds\\test\\SPOON BILED SANDPIPER\\3.jpg'/></div><div class=\"zoom\"><img style='width: 100px; height: 100px; margin: 1px; float: left; border: 0px solid black;'title=['SPOON BILED SANDPIPER'] src='dataset_birds\\test\\SPOON BILED SANDPIPER\\4.jpg'/></div><div class=\"zoom\"><img style='width: 100px; height: 100px; margin: 1px; float: left; border: 0px solid black;'title=['SPOON BILED SANDPIPER'] src='dataset_birds\\test\\SPOON BILED SANDPIPER\\5.jpg'/></div>"
      ],
      "text/plain": [
       "<IPython.core.display.HTML object>"
      ]
     },
     "metadata": {},
     "output_type": "display_data"
    },
    {
     "name": "stdout",
     "output_type": "stream",
     "text": [
      "Drawing SPOTTED CATBIRD\n"
     ]
    },
    {
     "data": {
      "text/html": [
       "<div class=\"zoom\"><img style='width: 100px; height: 100px; margin: 1px; float: left; border: 0px solid black;'title=['SPOTTED CATBIRD'] src='dataset_birds\\test\\SPOTTED CATBIRD\\1.jpg'/></div><div class=\"zoom\"><img style='width: 100px; height: 100px; margin: 1px; float: left; border: 0px solid black;'title=['SPOTTED CATBIRD'] src='dataset_birds\\test\\SPOTTED CATBIRD\\2.jpg'/></div><div class=\"zoom\"><img style='width: 100px; height: 100px; margin: 1px; float: left; border: 0px solid black;'title=['SPOTTED CATBIRD'] src='dataset_birds\\test\\SPOTTED CATBIRD\\3.jpg'/></div><div class=\"zoom\"><img style='width: 100px; height: 100px; margin: 1px; float: left; border: 0px solid black;'title=['SPOTTED CATBIRD'] src='dataset_birds\\test\\SPOTTED CATBIRD\\4.jpg'/></div><div class=\"zoom\"><img style='width: 100px; height: 100px; margin: 1px; float: left; border: 0px solid black;'title=['SPOTTED CATBIRD'] src='dataset_birds\\test\\SPOTTED CATBIRD\\5.jpg'/></div>"
      ],
      "text/plain": [
       "<IPython.core.display.HTML object>"
      ]
     },
     "metadata": {},
     "output_type": "display_data"
    },
    {
     "name": "stdout",
     "output_type": "stream",
     "text": [
      "Drawing SPOTTED WHISTLING DUCK\n"
     ]
    },
    {
     "data": {
      "text/html": [
       "<div class=\"zoom\"><img style='width: 100px; height: 100px; margin: 1px; float: left; border: 0px solid black;'title=['SPOTTED WHISTLING DUCK'] src='dataset_birds\\test\\SPOTTED WHISTLING DUCK\\1.jpg'/></div><div class=\"zoom\"><img style='width: 100px; height: 100px; margin: 1px; float: left; border: 0px solid black;'title=['SPOTTED WHISTLING DUCK'] src='dataset_birds\\test\\SPOTTED WHISTLING DUCK\\2.jpg'/></div><div class=\"zoom\"><img style='width: 100px; height: 100px; margin: 1px; float: left; border: 0px solid black;'title=['SPOTTED WHISTLING DUCK'] src='dataset_birds\\test\\SPOTTED WHISTLING DUCK\\3.jpg'/></div><div class=\"zoom\"><img style='width: 100px; height: 100px; margin: 1px; float: left; border: 0px solid black;'title=['SPOTTED WHISTLING DUCK'] src='dataset_birds\\test\\SPOTTED WHISTLING DUCK\\4.jpg'/></div><div class=\"zoom\"><img style='width: 100px; height: 100px; margin: 1px; float: left; border: 0px solid black;'title=['SPOTTED WHISTLING DUCK'] src='dataset_birds\\test\\SPOTTED WHISTLING DUCK\\5.jpg'/></div>"
      ],
      "text/plain": [
       "<IPython.core.display.HTML object>"
      ]
     },
     "metadata": {},
     "output_type": "display_data"
    },
    {
     "name": "stdout",
     "output_type": "stream",
     "text": [
      "Drawing SQUACCO HERON\n"
     ]
    },
    {
     "data": {
      "text/html": [
       "<div class=\"zoom\"><img style='width: 100px; height: 100px; margin: 1px; float: left; border: 0px solid black;'title=['SQUACCO HERON'] src='dataset_birds\\test\\SQUACCO HERON\\1.jpg'/></div><div class=\"zoom\"><img style='width: 100px; height: 100px; margin: 1px; float: left; border: 0px solid black;'title=['SQUACCO HERON'] src='dataset_birds\\test\\SQUACCO HERON\\2.jpg'/></div><div class=\"zoom\"><img style='width: 100px; height: 100px; margin: 1px; float: left; border: 0px solid black;'title=['SQUACCO HERON'] src='dataset_birds\\test\\SQUACCO HERON\\3.jpg'/></div><div class=\"zoom\"><img style='width: 100px; height: 100px; margin: 1px; float: left; border: 0px solid black;'title=['SQUACCO HERON'] src='dataset_birds\\test\\SQUACCO HERON\\4.jpg'/></div><div class=\"zoom\"><img style='width: 100px; height: 100px; margin: 1px; float: left; border: 0px solid black;'title=['SQUACCO HERON'] src='dataset_birds\\test\\SQUACCO HERON\\5.jpg'/></div>"
      ],
      "text/plain": [
       "<IPython.core.display.HTML object>"
      ]
     },
     "metadata": {},
     "output_type": "display_data"
    },
    {
     "name": "stdout",
     "output_type": "stream",
     "text": [
      "Drawing SRI LANKA BLUE MAGPIE\n"
     ]
    },
    {
     "data": {
      "text/html": [
       "<div class=\"zoom\"><img style='width: 100px; height: 100px; margin: 1px; float: left; border: 0px solid black;'title=['SRI LANKA BLUE MAGPIE'] src='dataset_birds\\test\\SRI LANKA BLUE MAGPIE\\1.jpg'/></div><div class=\"zoom\"><img style='width: 100px; height: 100px; margin: 1px; float: left; border: 0px solid black;'title=['SRI LANKA BLUE MAGPIE'] src='dataset_birds\\test\\SRI LANKA BLUE MAGPIE\\2.jpg'/></div><div class=\"zoom\"><img style='width: 100px; height: 100px; margin: 1px; float: left; border: 0px solid black;'title=['SRI LANKA BLUE MAGPIE'] src='dataset_birds\\test\\SRI LANKA BLUE MAGPIE\\3.jpg'/></div><div class=\"zoom\"><img style='width: 100px; height: 100px; margin: 1px; float: left; border: 0px solid black;'title=['SRI LANKA BLUE MAGPIE'] src='dataset_birds\\test\\SRI LANKA BLUE MAGPIE\\4.jpg'/></div><div class=\"zoom\"><img style='width: 100px; height: 100px; margin: 1px; float: left; border: 0px solid black;'title=['SRI LANKA BLUE MAGPIE'] src='dataset_birds\\test\\SRI LANKA BLUE MAGPIE\\5.jpg'/></div>"
      ],
      "text/plain": [
       "<IPython.core.display.HTML object>"
      ]
     },
     "metadata": {},
     "output_type": "display_data"
    },
    {
     "name": "stdout",
     "output_type": "stream",
     "text": [
      "Drawing STEAMER DUCK\n"
     ]
    },
    {
     "data": {
      "text/html": [
       "<div class=\"zoom\"><img style='width: 100px; height: 100px; margin: 1px; float: left; border: 0px solid black;'title=['STEAMER DUCK'] src='dataset_birds\\test\\STEAMER DUCK\\1.jpg'/></div><div class=\"zoom\"><img style='width: 100px; height: 100px; margin: 1px; float: left; border: 0px solid black;'title=['STEAMER DUCK'] src='dataset_birds\\test\\STEAMER DUCK\\2.jpg'/></div><div class=\"zoom\"><img style='width: 100px; height: 100px; margin: 1px; float: left; border: 0px solid black;'title=['STEAMER DUCK'] src='dataset_birds\\test\\STEAMER DUCK\\3.jpg'/></div><div class=\"zoom\"><img style='width: 100px; height: 100px; margin: 1px; float: left; border: 0px solid black;'title=['STEAMER DUCK'] src='dataset_birds\\test\\STEAMER DUCK\\4.jpg'/></div><div class=\"zoom\"><img style='width: 100px; height: 100px; margin: 1px; float: left; border: 0px solid black;'title=['STEAMER DUCK'] src='dataset_birds\\test\\STEAMER DUCK\\5.jpg'/></div>"
      ],
      "text/plain": [
       "<IPython.core.display.HTML object>"
      ]
     },
     "metadata": {},
     "output_type": "display_data"
    },
    {
     "name": "stdout",
     "output_type": "stream",
     "text": [
      "Drawing STORK BILLED KINGFISHER\n"
     ]
    },
    {
     "data": {
      "text/html": [
       "<div class=\"zoom\"><img style='width: 100px; height: 100px; margin: 1px; float: left; border: 0px solid black;'title=['STORK BILLED KINGFISHER'] src='dataset_birds\\test\\STORK BILLED KINGFISHER\\1.jpg'/></div><div class=\"zoom\"><img style='width: 100px; height: 100px; margin: 1px; float: left; border: 0px solid black;'title=['STORK BILLED KINGFISHER'] src='dataset_birds\\test\\STORK BILLED KINGFISHER\\2.jpg'/></div><div class=\"zoom\"><img style='width: 100px; height: 100px; margin: 1px; float: left; border: 0px solid black;'title=['STORK BILLED KINGFISHER'] src='dataset_birds\\test\\STORK BILLED KINGFISHER\\3.jpg'/></div><div class=\"zoom\"><img style='width: 100px; height: 100px; margin: 1px; float: left; border: 0px solid black;'title=['STORK BILLED KINGFISHER'] src='dataset_birds\\test\\STORK BILLED KINGFISHER\\4.jpg'/></div><div class=\"zoom\"><img style='width: 100px; height: 100px; margin: 1px; float: left; border: 0px solid black;'title=['STORK BILLED KINGFISHER'] src='dataset_birds\\test\\STORK BILLED KINGFISHER\\5.jpg'/></div>"
      ],
      "text/plain": [
       "<IPython.core.display.HTML object>"
      ]
     },
     "metadata": {},
     "output_type": "display_data"
    },
    {
     "name": "stdout",
     "output_type": "stream",
     "text": [
      "Drawing STRIATED CARACARA\n"
     ]
    },
    {
     "data": {
      "text/html": [
       "<div class=\"zoom\"><img style='width: 100px; height: 100px; margin: 1px; float: left; border: 0px solid black;'title=['STRIATED CARACARA'] src='dataset_birds\\test\\STRIATED CARACARA\\1.jpg'/></div><div class=\"zoom\"><img style='width: 100px; height: 100px; margin: 1px; float: left; border: 0px solid black;'title=['STRIATED CARACARA'] src='dataset_birds\\test\\STRIATED CARACARA\\2.jpg'/></div><div class=\"zoom\"><img style='width: 100px; height: 100px; margin: 1px; float: left; border: 0px solid black;'title=['STRIATED CARACARA'] src='dataset_birds\\test\\STRIATED CARACARA\\3.jpg'/></div><div class=\"zoom\"><img style='width: 100px; height: 100px; margin: 1px; float: left; border: 0px solid black;'title=['STRIATED CARACARA'] src='dataset_birds\\test\\STRIATED CARACARA\\4.jpg'/></div><div class=\"zoom\"><img style='width: 100px; height: 100px; margin: 1px; float: left; border: 0px solid black;'title=['STRIATED CARACARA'] src='dataset_birds\\test\\STRIATED CARACARA\\5.jpg'/></div>"
      ],
      "text/plain": [
       "<IPython.core.display.HTML object>"
      ]
     },
     "metadata": {},
     "output_type": "display_data"
    },
    {
     "name": "stdout",
     "output_type": "stream",
     "text": [
      "Drawing STRIPED OWL\n"
     ]
    },
    {
     "data": {
      "text/html": [
       "<div class=\"zoom\"><img style='width: 100px; height: 100px; margin: 1px; float: left; border: 0px solid black;'title=['STRIPED OWL'] src='dataset_birds\\test\\STRIPED OWL\\1.jpg'/></div><div class=\"zoom\"><img style='width: 100px; height: 100px; margin: 1px; float: left; border: 0px solid black;'title=['STRIPED OWL'] src='dataset_birds\\test\\STRIPED OWL\\2.jpg'/></div><div class=\"zoom\"><img style='width: 100px; height: 100px; margin: 1px; float: left; border: 0px solid black;'title=['STRIPED OWL'] src='dataset_birds\\test\\STRIPED OWL\\3.jpg'/></div><div class=\"zoom\"><img style='width: 100px; height: 100px; margin: 1px; float: left; border: 0px solid black;'title=['STRIPED OWL'] src='dataset_birds\\test\\STRIPED OWL\\4.jpg'/></div><div class=\"zoom\"><img style='width: 100px; height: 100px; margin: 1px; float: left; border: 0px solid black;'title=['STRIPED OWL'] src='dataset_birds\\test\\STRIPED OWL\\5.jpg'/></div>"
      ],
      "text/plain": [
       "<IPython.core.display.HTML object>"
      ]
     },
     "metadata": {},
     "output_type": "display_data"
    },
    {
     "name": "stdout",
     "output_type": "stream",
     "text": [
      "Drawing STRIPPED MANAKIN\n"
     ]
    },
    {
     "data": {
      "text/html": [
       "<div class=\"zoom\"><img style='width: 100px; height: 100px; margin: 1px; float: left; border: 0px solid black;'title=['STRIPPED MANAKIN'] src='dataset_birds\\test\\STRIPPED MANAKIN\\1.jpg'/></div><div class=\"zoom\"><img style='width: 100px; height: 100px; margin: 1px; float: left; border: 0px solid black;'title=['STRIPPED MANAKIN'] src='dataset_birds\\test\\STRIPPED MANAKIN\\2.jpg'/></div><div class=\"zoom\"><img style='width: 100px; height: 100px; margin: 1px; float: left; border: 0px solid black;'title=['STRIPPED MANAKIN'] src='dataset_birds\\test\\STRIPPED MANAKIN\\3.jpg'/></div><div class=\"zoom\"><img style='width: 100px; height: 100px; margin: 1px; float: left; border: 0px solid black;'title=['STRIPPED MANAKIN'] src='dataset_birds\\test\\STRIPPED MANAKIN\\4.jpg'/></div><div class=\"zoom\"><img style='width: 100px; height: 100px; margin: 1px; float: left; border: 0px solid black;'title=['STRIPPED MANAKIN'] src='dataset_birds\\test\\STRIPPED MANAKIN\\5.jpg'/></div>"
      ],
      "text/plain": [
       "<IPython.core.display.HTML object>"
      ]
     },
     "metadata": {},
     "output_type": "display_data"
    },
    {
     "name": "stdout",
     "output_type": "stream",
     "text": [
      "Drawing STRIPPED SWALLOW\n"
     ]
    },
    {
     "data": {
      "text/html": [
       "<div class=\"zoom\"><img style='width: 100px; height: 100px; margin: 1px; float: left; border: 0px solid black;'title=['STRIPPED SWALLOW'] src='dataset_birds\\test\\STRIPPED SWALLOW\\1.jpg'/></div><div class=\"zoom\"><img style='width: 100px; height: 100px; margin: 1px; float: left; border: 0px solid black;'title=['STRIPPED SWALLOW'] src='dataset_birds\\test\\STRIPPED SWALLOW\\2.jpg'/></div><div class=\"zoom\"><img style='width: 100px; height: 100px; margin: 1px; float: left; border: 0px solid black;'title=['STRIPPED SWALLOW'] src='dataset_birds\\test\\STRIPPED SWALLOW\\3.jpg'/></div><div class=\"zoom\"><img style='width: 100px; height: 100px; margin: 1px; float: left; border: 0px solid black;'title=['STRIPPED SWALLOW'] src='dataset_birds\\test\\STRIPPED SWALLOW\\4.jpg'/></div><div class=\"zoom\"><img style='width: 100px; height: 100px; margin: 1px; float: left; border: 0px solid black;'title=['STRIPPED SWALLOW'] src='dataset_birds\\test\\STRIPPED SWALLOW\\5.jpg'/></div>"
      ],
      "text/plain": [
       "<IPython.core.display.HTML object>"
      ]
     },
     "metadata": {},
     "output_type": "display_data"
    },
    {
     "name": "stdout",
     "output_type": "stream",
     "text": [
      "Drawing SUNBITTERN\n"
     ]
    },
    {
     "data": {
      "text/html": [
       "<div class=\"zoom\"><img style='width: 100px; height: 100px; margin: 1px; float: left; border: 0px solid black;'title=['SUNBITTERN'] src='dataset_birds\\test\\SUNBITTERN\\1.jpg'/></div><div class=\"zoom\"><img style='width: 100px; height: 100px; margin: 1px; float: left; border: 0px solid black;'title=['SUNBITTERN'] src='dataset_birds\\test\\SUNBITTERN\\2.jpg'/></div><div class=\"zoom\"><img style='width: 100px; height: 100px; margin: 1px; float: left; border: 0px solid black;'title=['SUNBITTERN'] src='dataset_birds\\test\\SUNBITTERN\\3.jpg'/></div><div class=\"zoom\"><img style='width: 100px; height: 100px; margin: 1px; float: left; border: 0px solid black;'title=['SUNBITTERN'] src='dataset_birds\\test\\SUNBITTERN\\4.jpg'/></div><div class=\"zoom\"><img style='width: 100px; height: 100px; margin: 1px; float: left; border: 0px solid black;'title=['SUNBITTERN'] src='dataset_birds\\test\\SUNBITTERN\\5.jpg'/></div>"
      ],
      "text/plain": [
       "<IPython.core.display.HTML object>"
      ]
     },
     "metadata": {},
     "output_type": "display_data"
    },
    {
     "name": "stdout",
     "output_type": "stream",
     "text": [
      "Drawing SUPERB STARLING\n"
     ]
    },
    {
     "data": {
      "text/html": [
       "<div class=\"zoom\"><img style='width: 100px; height: 100px; margin: 1px; float: left; border: 0px solid black;'title=['SUPERB STARLING'] src='dataset_birds\\test\\SUPERB STARLING\\1.jpg'/></div><div class=\"zoom\"><img style='width: 100px; height: 100px; margin: 1px; float: left; border: 0px solid black;'title=['SUPERB STARLING'] src='dataset_birds\\test\\SUPERB STARLING\\2.jpg'/></div><div class=\"zoom\"><img style='width: 100px; height: 100px; margin: 1px; float: left; border: 0px solid black;'title=['SUPERB STARLING'] src='dataset_birds\\test\\SUPERB STARLING\\3.jpg'/></div><div class=\"zoom\"><img style='width: 100px; height: 100px; margin: 1px; float: left; border: 0px solid black;'title=['SUPERB STARLING'] src='dataset_birds\\test\\SUPERB STARLING\\4.jpg'/></div><div class=\"zoom\"><img style='width: 100px; height: 100px; margin: 1px; float: left; border: 0px solid black;'title=['SUPERB STARLING'] src='dataset_birds\\test\\SUPERB STARLING\\5.jpg'/></div>"
      ],
      "text/plain": [
       "<IPython.core.display.HTML object>"
      ]
     },
     "metadata": {},
     "output_type": "display_data"
    },
    {
     "name": "stdout",
     "output_type": "stream",
     "text": [
      "Drawing SURF SCOTER\n"
     ]
    },
    {
     "data": {
      "text/html": [
       "<div class=\"zoom\"><img style='width: 100px; height: 100px; margin: 1px; float: left; border: 0px solid black;'title=['SURF SCOTER'] src='dataset_birds\\test\\SURF SCOTER\\1.jpg'/></div><div class=\"zoom\"><img style='width: 100px; height: 100px; margin: 1px; float: left; border: 0px solid black;'title=['SURF SCOTER'] src='dataset_birds\\test\\SURF SCOTER\\2.jpg'/></div><div class=\"zoom\"><img style='width: 100px; height: 100px; margin: 1px; float: left; border: 0px solid black;'title=['SURF SCOTER'] src='dataset_birds\\test\\SURF SCOTER\\3.jpg'/></div><div class=\"zoom\"><img style='width: 100px; height: 100px; margin: 1px; float: left; border: 0px solid black;'title=['SURF SCOTER'] src='dataset_birds\\test\\SURF SCOTER\\4.jpg'/></div><div class=\"zoom\"><img style='width: 100px; height: 100px; margin: 1px; float: left; border: 0px solid black;'title=['SURF SCOTER'] src='dataset_birds\\test\\SURF SCOTER\\5.jpg'/></div>"
      ],
      "text/plain": [
       "<IPython.core.display.HTML object>"
      ]
     },
     "metadata": {},
     "output_type": "display_data"
    },
    {
     "name": "stdout",
     "output_type": "stream",
     "text": [
      "Drawing SWINHOES PHEASANT\n"
     ]
    },
    {
     "data": {
      "text/html": [
       "<div class=\"zoom\"><img style='width: 100px; height: 100px; margin: 1px; float: left; border: 0px solid black;'title=['SWINHOES PHEASANT'] src='dataset_birds\\test\\SWINHOES PHEASANT\\1.jpg'/></div><div class=\"zoom\"><img style='width: 100px; height: 100px; margin: 1px; float: left; border: 0px solid black;'title=['SWINHOES PHEASANT'] src='dataset_birds\\test\\SWINHOES PHEASANT\\2.jpg'/></div><div class=\"zoom\"><img style='width: 100px; height: 100px; margin: 1px; float: left; border: 0px solid black;'title=['SWINHOES PHEASANT'] src='dataset_birds\\test\\SWINHOES PHEASANT\\3.jpg'/></div><div class=\"zoom\"><img style='width: 100px; height: 100px; margin: 1px; float: left; border: 0px solid black;'title=['SWINHOES PHEASANT'] src='dataset_birds\\test\\SWINHOES PHEASANT\\4.jpg'/></div><div class=\"zoom\"><img style='width: 100px; height: 100px; margin: 1px; float: left; border: 0px solid black;'title=['SWINHOES PHEASANT'] src='dataset_birds\\test\\SWINHOES PHEASANT\\5.jpg'/></div>"
      ],
      "text/plain": [
       "<IPython.core.display.HTML object>"
      ]
     },
     "metadata": {},
     "output_type": "display_data"
    },
    {
     "name": "stdout",
     "output_type": "stream",
     "text": [
      "Drawing TAILORBIRD\n"
     ]
    },
    {
     "data": {
      "text/html": [
       "<div class=\"zoom\"><img style='width: 100px; height: 100px; margin: 1px; float: left; border: 0px solid black;'title=['TAILORBIRD'] src='dataset_birds\\test\\TAILORBIRD\\1.jpg'/></div><div class=\"zoom\"><img style='width: 100px; height: 100px; margin: 1px; float: left; border: 0px solid black;'title=['TAILORBIRD'] src='dataset_birds\\test\\TAILORBIRD\\2.jpg'/></div><div class=\"zoom\"><img style='width: 100px; height: 100px; margin: 1px; float: left; border: 0px solid black;'title=['TAILORBIRD'] src='dataset_birds\\test\\TAILORBIRD\\3.jpg'/></div><div class=\"zoom\"><img style='width: 100px; height: 100px; margin: 1px; float: left; border: 0px solid black;'title=['TAILORBIRD'] src='dataset_birds\\test\\TAILORBIRD\\4.jpg'/></div><div class=\"zoom\"><img style='width: 100px; height: 100px; margin: 1px; float: left; border: 0px solid black;'title=['TAILORBIRD'] src='dataset_birds\\test\\TAILORBIRD\\5.jpg'/></div>"
      ],
      "text/plain": [
       "<IPython.core.display.HTML object>"
      ]
     },
     "metadata": {},
     "output_type": "display_data"
    },
    {
     "name": "stdout",
     "output_type": "stream",
     "text": [
      "Drawing TAIWAN MAGPIE\n"
     ]
    },
    {
     "data": {
      "text/html": [
       "<div class=\"zoom\"><img style='width: 100px; height: 100px; margin: 1px; float: left; border: 0px solid black;'title=['TAIWAN MAGPIE'] src='dataset_birds\\test\\TAIWAN MAGPIE\\1.jpg'/></div><div class=\"zoom\"><img style='width: 100px; height: 100px; margin: 1px; float: left; border: 0px solid black;'title=['TAIWAN MAGPIE'] src='dataset_birds\\test\\TAIWAN MAGPIE\\2.jpg'/></div><div class=\"zoom\"><img style='width: 100px; height: 100px; margin: 1px; float: left; border: 0px solid black;'title=['TAIWAN MAGPIE'] src='dataset_birds\\test\\TAIWAN MAGPIE\\3.jpg'/></div><div class=\"zoom\"><img style='width: 100px; height: 100px; margin: 1px; float: left; border: 0px solid black;'title=['TAIWAN MAGPIE'] src='dataset_birds\\test\\TAIWAN MAGPIE\\4.jpg'/></div><div class=\"zoom\"><img style='width: 100px; height: 100px; margin: 1px; float: left; border: 0px solid black;'title=['TAIWAN MAGPIE'] src='dataset_birds\\test\\TAIWAN MAGPIE\\5.jpg'/></div>"
      ],
      "text/plain": [
       "<IPython.core.display.HTML object>"
      ]
     },
     "metadata": {},
     "output_type": "display_data"
    },
    {
     "name": "stdout",
     "output_type": "stream",
     "text": [
      "Drawing TAKAHE\n"
     ]
    },
    {
     "data": {
      "text/html": [
       "<div class=\"zoom\"><img style='width: 100px; height: 100px; margin: 1px; float: left; border: 0px solid black;'title=['TAKAHE'] src='dataset_birds\\test\\TAKAHE\\1.jpg'/></div><div class=\"zoom\"><img style='width: 100px; height: 100px; margin: 1px; float: left; border: 0px solid black;'title=['TAKAHE'] src='dataset_birds\\test\\TAKAHE\\2.jpg'/></div><div class=\"zoom\"><img style='width: 100px; height: 100px; margin: 1px; float: left; border: 0px solid black;'title=['TAKAHE'] src='dataset_birds\\test\\TAKAHE\\3.jpg'/></div><div class=\"zoom\"><img style='width: 100px; height: 100px; margin: 1px; float: left; border: 0px solid black;'title=['TAKAHE'] src='dataset_birds\\test\\TAKAHE\\4.jpg'/></div><div class=\"zoom\"><img style='width: 100px; height: 100px; margin: 1px; float: left; border: 0px solid black;'title=['TAKAHE'] src='dataset_birds\\test\\TAKAHE\\5.jpg'/></div>"
      ],
      "text/plain": [
       "<IPython.core.display.HTML object>"
      ]
     },
     "metadata": {},
     "output_type": "display_data"
    },
    {
     "name": "stdout",
     "output_type": "stream",
     "text": [
      "Drawing TASMANIAN HEN\n"
     ]
    },
    {
     "data": {
      "text/html": [
       "<div class=\"zoom\"><img style='width: 100px; height: 100px; margin: 1px; float: left; border: 0px solid black;'title=['TASMANIAN HEN'] src='dataset_birds\\test\\TASMANIAN HEN\\1.jpg'/></div><div class=\"zoom\"><img style='width: 100px; height: 100px; margin: 1px; float: left; border: 0px solid black;'title=['TASMANIAN HEN'] src='dataset_birds\\test\\TASMANIAN HEN\\2.jpg'/></div><div class=\"zoom\"><img style='width: 100px; height: 100px; margin: 1px; float: left; border: 0px solid black;'title=['TASMANIAN HEN'] src='dataset_birds\\test\\TASMANIAN HEN\\3.jpg'/></div><div class=\"zoom\"><img style='width: 100px; height: 100px; margin: 1px; float: left; border: 0px solid black;'title=['TASMANIAN HEN'] src='dataset_birds\\test\\TASMANIAN HEN\\4.jpg'/></div><div class=\"zoom\"><img style='width: 100px; height: 100px; margin: 1px; float: left; border: 0px solid black;'title=['TASMANIAN HEN'] src='dataset_birds\\test\\TASMANIAN HEN\\5.jpg'/></div>"
      ],
      "text/plain": [
       "<IPython.core.display.HTML object>"
      ]
     },
     "metadata": {},
     "output_type": "display_data"
    },
    {
     "name": "stdout",
     "output_type": "stream",
     "text": [
      "Drawing TAWNY FROGMOUTH\n"
     ]
    },
    {
     "data": {
      "text/html": [
       "<div class=\"zoom\"><img style='width: 100px; height: 100px; margin: 1px; float: left; border: 0px solid black;'title=['TAWNY FROGMOUTH'] src='dataset_birds\\test\\TAWNY FROGMOUTH\\1.jpg'/></div><div class=\"zoom\"><img style='width: 100px; height: 100px; margin: 1px; float: left; border: 0px solid black;'title=['TAWNY FROGMOUTH'] src='dataset_birds\\test\\TAWNY FROGMOUTH\\2.jpg'/></div><div class=\"zoom\"><img style='width: 100px; height: 100px; margin: 1px; float: left; border: 0px solid black;'title=['TAWNY FROGMOUTH'] src='dataset_birds\\test\\TAWNY FROGMOUTH\\3.jpg'/></div><div class=\"zoom\"><img style='width: 100px; height: 100px; margin: 1px; float: left; border: 0px solid black;'title=['TAWNY FROGMOUTH'] src='dataset_birds\\test\\TAWNY FROGMOUTH\\4.jpg'/></div><div class=\"zoom\"><img style='width: 100px; height: 100px; margin: 1px; float: left; border: 0px solid black;'title=['TAWNY FROGMOUTH'] src='dataset_birds\\test\\TAWNY FROGMOUTH\\5.jpg'/></div>"
      ],
      "text/plain": [
       "<IPython.core.display.HTML object>"
      ]
     },
     "metadata": {},
     "output_type": "display_data"
    },
    {
     "name": "stdout",
     "output_type": "stream",
     "text": [
      "Drawing TEAL DUCK\n"
     ]
    },
    {
     "data": {
      "text/html": [
       "<div class=\"zoom\"><img style='width: 100px; height: 100px; margin: 1px; float: left; border: 0px solid black;'title=['TEAL DUCK'] src='dataset_birds\\test\\TEAL DUCK\\1.jpg'/></div><div class=\"zoom\"><img style='width: 100px; height: 100px; margin: 1px; float: left; border: 0px solid black;'title=['TEAL DUCK'] src='dataset_birds\\test\\TEAL DUCK\\2.jpg'/></div><div class=\"zoom\"><img style='width: 100px; height: 100px; margin: 1px; float: left; border: 0px solid black;'title=['TEAL DUCK'] src='dataset_birds\\test\\TEAL DUCK\\3.jpg'/></div><div class=\"zoom\"><img style='width: 100px; height: 100px; margin: 1px; float: left; border: 0px solid black;'title=['TEAL DUCK'] src='dataset_birds\\test\\TEAL DUCK\\4.jpg'/></div><div class=\"zoom\"><img style='width: 100px; height: 100px; margin: 1px; float: left; border: 0px solid black;'title=['TEAL DUCK'] src='dataset_birds\\test\\TEAL DUCK\\5.jpg'/></div>"
      ],
      "text/plain": [
       "<IPython.core.display.HTML object>"
      ]
     },
     "metadata": {},
     "output_type": "display_data"
    },
    {
     "name": "stdout",
     "output_type": "stream",
     "text": [
      "Drawing TIT MOUSE\n"
     ]
    },
    {
     "data": {
      "text/html": [
       "<div class=\"zoom\"><img style='width: 100px; height: 100px; margin: 1px; float: left; border: 0px solid black;'title=['TIT MOUSE'] src='dataset_birds\\test\\TIT MOUSE\\1.jpg'/></div><div class=\"zoom\"><img style='width: 100px; height: 100px; margin: 1px; float: left; border: 0px solid black;'title=['TIT MOUSE'] src='dataset_birds\\test\\TIT MOUSE\\2.jpg'/></div><div class=\"zoom\"><img style='width: 100px; height: 100px; margin: 1px; float: left; border: 0px solid black;'title=['TIT MOUSE'] src='dataset_birds\\test\\TIT MOUSE\\3.jpg'/></div><div class=\"zoom\"><img style='width: 100px; height: 100px; margin: 1px; float: left; border: 0px solid black;'title=['TIT MOUSE'] src='dataset_birds\\test\\TIT MOUSE\\4.jpg'/></div><div class=\"zoom\"><img style='width: 100px; height: 100px; margin: 1px; float: left; border: 0px solid black;'title=['TIT MOUSE'] src='dataset_birds\\test\\TIT MOUSE\\5.jpg'/></div>"
      ],
      "text/plain": [
       "<IPython.core.display.HTML object>"
      ]
     },
     "metadata": {},
     "output_type": "display_data"
    },
    {
     "name": "stdout",
     "output_type": "stream",
     "text": [
      "Drawing TOUCHAN\n"
     ]
    },
    {
     "data": {
      "text/html": [
       "<div class=\"zoom\"><img style='width: 100px; height: 100px; margin: 1px; float: left; border: 0px solid black;'title=['TOUCHAN'] src='dataset_birds\\test\\TOUCHAN\\1.jpg'/></div><div class=\"zoom\"><img style='width: 100px; height: 100px; margin: 1px; float: left; border: 0px solid black;'title=['TOUCHAN'] src='dataset_birds\\test\\TOUCHAN\\2.jpg'/></div><div class=\"zoom\"><img style='width: 100px; height: 100px; margin: 1px; float: left; border: 0px solid black;'title=['TOUCHAN'] src='dataset_birds\\test\\TOUCHAN\\3.jpg'/></div><div class=\"zoom\"><img style='width: 100px; height: 100px; margin: 1px; float: left; border: 0px solid black;'title=['TOUCHAN'] src='dataset_birds\\test\\TOUCHAN\\4.jpg'/></div><div class=\"zoom\"><img style='width: 100px; height: 100px; margin: 1px; float: left; border: 0px solid black;'title=['TOUCHAN'] src='dataset_birds\\test\\TOUCHAN\\5.jpg'/></div>"
      ],
      "text/plain": [
       "<IPython.core.display.HTML object>"
      ]
     },
     "metadata": {},
     "output_type": "display_data"
    },
    {
     "name": "stdout",
     "output_type": "stream",
     "text": [
      "Drawing TOWNSENDS WARBLER\n"
     ]
    },
    {
     "data": {
      "text/html": [
       "<div class=\"zoom\"><img style='width: 100px; height: 100px; margin: 1px; float: left; border: 0px solid black;'title=['TOWNSENDS WARBLER'] src='dataset_birds\\test\\TOWNSENDS WARBLER\\1.jpg'/></div><div class=\"zoom\"><img style='width: 100px; height: 100px; margin: 1px; float: left; border: 0px solid black;'title=['TOWNSENDS WARBLER'] src='dataset_birds\\test\\TOWNSENDS WARBLER\\2.jpg'/></div><div class=\"zoom\"><img style='width: 100px; height: 100px; margin: 1px; float: left; border: 0px solid black;'title=['TOWNSENDS WARBLER'] src='dataset_birds\\test\\TOWNSENDS WARBLER\\3.jpg'/></div><div class=\"zoom\"><img style='width: 100px; height: 100px; margin: 1px; float: left; border: 0px solid black;'title=['TOWNSENDS WARBLER'] src='dataset_birds\\test\\TOWNSENDS WARBLER\\4.jpg'/></div><div class=\"zoom\"><img style='width: 100px; height: 100px; margin: 1px; float: left; border: 0px solid black;'title=['TOWNSENDS WARBLER'] src='dataset_birds\\test\\TOWNSENDS WARBLER\\5.jpg'/></div>"
      ],
      "text/plain": [
       "<IPython.core.display.HTML object>"
      ]
     },
     "metadata": {},
     "output_type": "display_data"
    },
    {
     "name": "stdout",
     "output_type": "stream",
     "text": [
      "Drawing TREE SWALLOW\n"
     ]
    },
    {
     "data": {
      "text/html": [
       "<div class=\"zoom\"><img style='width: 100px; height: 100px; margin: 1px; float: left; border: 0px solid black;'title=['TREE SWALLOW'] src='dataset_birds\\test\\TREE SWALLOW\\1.jpg'/></div><div class=\"zoom\"><img style='width: 100px; height: 100px; margin: 1px; float: left; border: 0px solid black;'title=['TREE SWALLOW'] src='dataset_birds\\test\\TREE SWALLOW\\2.jpg'/></div><div class=\"zoom\"><img style='width: 100px; height: 100px; margin: 1px; float: left; border: 0px solid black;'title=['TREE SWALLOW'] src='dataset_birds\\test\\TREE SWALLOW\\3.jpg'/></div><div class=\"zoom\"><img style='width: 100px; height: 100px; margin: 1px; float: left; border: 0px solid black;'title=['TREE SWALLOW'] src='dataset_birds\\test\\TREE SWALLOW\\4.jpg'/></div><div class=\"zoom\"><img style='width: 100px; height: 100px; margin: 1px; float: left; border: 0px solid black;'title=['TREE SWALLOW'] src='dataset_birds\\test\\TREE SWALLOW\\5.jpg'/></div>"
      ],
      "text/plain": [
       "<IPython.core.display.HTML object>"
      ]
     },
     "metadata": {},
     "output_type": "display_data"
    },
    {
     "name": "stdout",
     "output_type": "stream",
     "text": [
      "Drawing TRICOLORED BLACKBIRD\n"
     ]
    },
    {
     "data": {
      "text/html": [
       "<div class=\"zoom\"><img style='width: 100px; height: 100px; margin: 1px; float: left; border: 0px solid black;'title=['TRICOLORED BLACKBIRD'] src='dataset_birds\\test\\TRICOLORED BLACKBIRD\\1.jpg'/></div><div class=\"zoom\"><img style='width: 100px; height: 100px; margin: 1px; float: left; border: 0px solid black;'title=['TRICOLORED BLACKBIRD'] src='dataset_birds\\test\\TRICOLORED BLACKBIRD\\2.jpg'/></div><div class=\"zoom\"><img style='width: 100px; height: 100px; margin: 1px; float: left; border: 0px solid black;'title=['TRICOLORED BLACKBIRD'] src='dataset_birds\\test\\TRICOLORED BLACKBIRD\\3.jpg'/></div><div class=\"zoom\"><img style='width: 100px; height: 100px; margin: 1px; float: left; border: 0px solid black;'title=['TRICOLORED BLACKBIRD'] src='dataset_birds\\test\\TRICOLORED BLACKBIRD\\4.jpg'/></div><div class=\"zoom\"><img style='width: 100px; height: 100px; margin: 1px; float: left; border: 0px solid black;'title=['TRICOLORED BLACKBIRD'] src='dataset_birds\\test\\TRICOLORED BLACKBIRD\\5.jpg'/></div>"
      ],
      "text/plain": [
       "<IPython.core.display.HTML object>"
      ]
     },
     "metadata": {},
     "output_type": "display_data"
    },
    {
     "name": "stdout",
     "output_type": "stream",
     "text": [
      "Drawing TROPICAL KINGBIRD\n"
     ]
    },
    {
     "data": {
      "text/html": [
       "<div class=\"zoom\"><img style='width: 100px; height: 100px; margin: 1px; float: left; border: 0px solid black;'title=['TROPICAL KINGBIRD'] src='dataset_birds\\test\\TROPICAL KINGBIRD\\1.jpg'/></div><div class=\"zoom\"><img style='width: 100px; height: 100px; margin: 1px; float: left; border: 0px solid black;'title=['TROPICAL KINGBIRD'] src='dataset_birds\\test\\TROPICAL KINGBIRD\\2.jpg'/></div><div class=\"zoom\"><img style='width: 100px; height: 100px; margin: 1px; float: left; border: 0px solid black;'title=['TROPICAL KINGBIRD'] src='dataset_birds\\test\\TROPICAL KINGBIRD\\3.jpg'/></div><div class=\"zoom\"><img style='width: 100px; height: 100px; margin: 1px; float: left; border: 0px solid black;'title=['TROPICAL KINGBIRD'] src='dataset_birds\\test\\TROPICAL KINGBIRD\\4.jpg'/></div><div class=\"zoom\"><img style='width: 100px; height: 100px; margin: 1px; float: left; border: 0px solid black;'title=['TROPICAL KINGBIRD'] src='dataset_birds\\test\\TROPICAL KINGBIRD\\5.jpg'/></div>"
      ],
      "text/plain": [
       "<IPython.core.display.HTML object>"
      ]
     },
     "metadata": {},
     "output_type": "display_data"
    },
    {
     "name": "stdout",
     "output_type": "stream",
     "text": [
      "Drawing TRUMPTER SWAN\n"
     ]
    },
    {
     "data": {
      "text/html": [
       "<div class=\"zoom\"><img style='width: 100px; height: 100px; margin: 1px; float: left; border: 0px solid black;'title=['TRUMPTER SWAN'] src='dataset_birds\\test\\TRUMPTER SWAN\\1.jpg'/></div><div class=\"zoom\"><img style='width: 100px; height: 100px; margin: 1px; float: left; border: 0px solid black;'title=['TRUMPTER SWAN'] src='dataset_birds\\test\\TRUMPTER SWAN\\2.jpg'/></div><div class=\"zoom\"><img style='width: 100px; height: 100px; margin: 1px; float: left; border: 0px solid black;'title=['TRUMPTER SWAN'] src='dataset_birds\\test\\TRUMPTER SWAN\\3.jpg'/></div><div class=\"zoom\"><img style='width: 100px; height: 100px; margin: 1px; float: left; border: 0px solid black;'title=['TRUMPTER SWAN'] src='dataset_birds\\test\\TRUMPTER SWAN\\4.jpg'/></div><div class=\"zoom\"><img style='width: 100px; height: 100px; margin: 1px; float: left; border: 0px solid black;'title=['TRUMPTER SWAN'] src='dataset_birds\\test\\TRUMPTER SWAN\\5.jpg'/></div>"
      ],
      "text/plain": [
       "<IPython.core.display.HTML object>"
      ]
     },
     "metadata": {},
     "output_type": "display_data"
    },
    {
     "name": "stdout",
     "output_type": "stream",
     "text": [
      "Drawing TURKEY VULTURE\n"
     ]
    },
    {
     "data": {
      "text/html": [
       "<div class=\"zoom\"><img style='width: 100px; height: 100px; margin: 1px; float: left; border: 0px solid black;'title=['TURKEY VULTURE'] src='dataset_birds\\test\\TURKEY VULTURE\\1.jpg'/></div><div class=\"zoom\"><img style='width: 100px; height: 100px; margin: 1px; float: left; border: 0px solid black;'title=['TURKEY VULTURE'] src='dataset_birds\\test\\TURKEY VULTURE\\2.jpg'/></div><div class=\"zoom\"><img style='width: 100px; height: 100px; margin: 1px; float: left; border: 0px solid black;'title=['TURKEY VULTURE'] src='dataset_birds\\test\\TURKEY VULTURE\\3.jpg'/></div><div class=\"zoom\"><img style='width: 100px; height: 100px; margin: 1px; float: left; border: 0px solid black;'title=['TURKEY VULTURE'] src='dataset_birds\\test\\TURKEY VULTURE\\4.jpg'/></div><div class=\"zoom\"><img style='width: 100px; height: 100px; margin: 1px; float: left; border: 0px solid black;'title=['TURKEY VULTURE'] src='dataset_birds\\test\\TURKEY VULTURE\\5.jpg'/></div>"
      ],
      "text/plain": [
       "<IPython.core.display.HTML object>"
      ]
     },
     "metadata": {},
     "output_type": "display_data"
    },
    {
     "name": "stdout",
     "output_type": "stream",
     "text": [
      "Drawing TURQUOISE MOTMOT\n"
     ]
    },
    {
     "data": {
      "text/html": [
       "<div class=\"zoom\"><img style='width: 100px; height: 100px; margin: 1px; float: left; border: 0px solid black;'title=['TURQUOISE MOTMOT'] src='dataset_birds\\test\\TURQUOISE MOTMOT\\1.jpg'/></div><div class=\"zoom\"><img style='width: 100px; height: 100px; margin: 1px; float: left; border: 0px solid black;'title=['TURQUOISE MOTMOT'] src='dataset_birds\\test\\TURQUOISE MOTMOT\\2.jpg'/></div><div class=\"zoom\"><img style='width: 100px; height: 100px; margin: 1px; float: left; border: 0px solid black;'title=['TURQUOISE MOTMOT'] src='dataset_birds\\test\\TURQUOISE MOTMOT\\3.jpg'/></div><div class=\"zoom\"><img style='width: 100px; height: 100px; margin: 1px; float: left; border: 0px solid black;'title=['TURQUOISE MOTMOT'] src='dataset_birds\\test\\TURQUOISE MOTMOT\\4.jpg'/></div><div class=\"zoom\"><img style='width: 100px; height: 100px; margin: 1px; float: left; border: 0px solid black;'title=['TURQUOISE MOTMOT'] src='dataset_birds\\test\\TURQUOISE MOTMOT\\5.jpg'/></div>"
      ],
      "text/plain": [
       "<IPython.core.display.HTML object>"
      ]
     },
     "metadata": {},
     "output_type": "display_data"
    },
    {
     "name": "stdout",
     "output_type": "stream",
     "text": [
      "Drawing UMBRELLA BIRD\n"
     ]
    },
    {
     "data": {
      "text/html": [
       "<div class=\"zoom\"><img style='width: 100px; height: 100px; margin: 1px; float: left; border: 0px solid black;'title=['UMBRELLA BIRD'] src='dataset_birds\\test\\UMBRELLA BIRD\\1.jpg'/></div><div class=\"zoom\"><img style='width: 100px; height: 100px; margin: 1px; float: left; border: 0px solid black;'title=['UMBRELLA BIRD'] src='dataset_birds\\test\\UMBRELLA BIRD\\2.jpg'/></div><div class=\"zoom\"><img style='width: 100px; height: 100px; margin: 1px; float: left; border: 0px solid black;'title=['UMBRELLA BIRD'] src='dataset_birds\\test\\UMBRELLA BIRD\\3.jpg'/></div><div class=\"zoom\"><img style='width: 100px; height: 100px; margin: 1px; float: left; border: 0px solid black;'title=['UMBRELLA BIRD'] src='dataset_birds\\test\\UMBRELLA BIRD\\4.jpg'/></div><div class=\"zoom\"><img style='width: 100px; height: 100px; margin: 1px; float: left; border: 0px solid black;'title=['UMBRELLA BIRD'] src='dataset_birds\\test\\UMBRELLA BIRD\\5.jpg'/></div>"
      ],
      "text/plain": [
       "<IPython.core.display.HTML object>"
      ]
     },
     "metadata": {},
     "output_type": "display_data"
    },
    {
     "name": "stdout",
     "output_type": "stream",
     "text": [
      "Drawing VARIED THRUSH\n"
     ]
    },
    {
     "data": {
      "text/html": [
       "<div class=\"zoom\"><img style='width: 100px; height: 100px; margin: 1px; float: left; border: 0px solid black;'title=['VARIED THRUSH'] src='dataset_birds\\test\\VARIED THRUSH\\1.jpg'/></div><div class=\"zoom\"><img style='width: 100px; height: 100px; margin: 1px; float: left; border: 0px solid black;'title=['VARIED THRUSH'] src='dataset_birds\\test\\VARIED THRUSH\\2.jpg'/></div><div class=\"zoom\"><img style='width: 100px; height: 100px; margin: 1px; float: left; border: 0px solid black;'title=['VARIED THRUSH'] src='dataset_birds\\test\\VARIED THRUSH\\3.jpg'/></div><div class=\"zoom\"><img style='width: 100px; height: 100px; margin: 1px; float: left; border: 0px solid black;'title=['VARIED THRUSH'] src='dataset_birds\\test\\VARIED THRUSH\\4.jpg'/></div><div class=\"zoom\"><img style='width: 100px; height: 100px; margin: 1px; float: left; border: 0px solid black;'title=['VARIED THRUSH'] src='dataset_birds\\test\\VARIED THRUSH\\5.jpg'/></div>"
      ],
      "text/plain": [
       "<IPython.core.display.HTML object>"
      ]
     },
     "metadata": {},
     "output_type": "display_data"
    },
    {
     "name": "stdout",
     "output_type": "stream",
     "text": [
      "Drawing VEERY\n"
     ]
    },
    {
     "data": {
      "text/html": [
       "<div class=\"zoom\"><img style='width: 100px; height: 100px; margin: 1px; float: left; border: 0px solid black;'title=['VEERY'] src='dataset_birds\\test\\VEERY\\1.jpg'/></div><div class=\"zoom\"><img style='width: 100px; height: 100px; margin: 1px; float: left; border: 0px solid black;'title=['VEERY'] src='dataset_birds\\test\\VEERY\\2.jpg'/></div><div class=\"zoom\"><img style='width: 100px; height: 100px; margin: 1px; float: left; border: 0px solid black;'title=['VEERY'] src='dataset_birds\\test\\VEERY\\3.jpg'/></div><div class=\"zoom\"><img style='width: 100px; height: 100px; margin: 1px; float: left; border: 0px solid black;'title=['VEERY'] src='dataset_birds\\test\\VEERY\\4.jpg'/></div><div class=\"zoom\"><img style='width: 100px; height: 100px; margin: 1px; float: left; border: 0px solid black;'title=['VEERY'] src='dataset_birds\\test\\VEERY\\5.jpg'/></div>"
      ],
      "text/plain": [
       "<IPython.core.display.HTML object>"
      ]
     },
     "metadata": {},
     "output_type": "display_data"
    },
    {
     "name": "stdout",
     "output_type": "stream",
     "text": [
      "Drawing VENEZUELIAN TROUPIAL\n"
     ]
    },
    {
     "data": {
      "text/html": [
       "<div class=\"zoom\"><img style='width: 100px; height: 100px; margin: 1px; float: left; border: 0px solid black;'title=['VENEZUELIAN TROUPIAL'] src='dataset_birds\\test\\VENEZUELIAN TROUPIAL\\1.jpg'/></div><div class=\"zoom\"><img style='width: 100px; height: 100px; margin: 1px; float: left; border: 0px solid black;'title=['VENEZUELIAN TROUPIAL'] src='dataset_birds\\test\\VENEZUELIAN TROUPIAL\\2.jpg'/></div><div class=\"zoom\"><img style='width: 100px; height: 100px; margin: 1px; float: left; border: 0px solid black;'title=['VENEZUELIAN TROUPIAL'] src='dataset_birds\\test\\VENEZUELIAN TROUPIAL\\3.jpg'/></div><div class=\"zoom\"><img style='width: 100px; height: 100px; margin: 1px; float: left; border: 0px solid black;'title=['VENEZUELIAN TROUPIAL'] src='dataset_birds\\test\\VENEZUELIAN TROUPIAL\\4.jpg'/></div><div class=\"zoom\"><img style='width: 100px; height: 100px; margin: 1px; float: left; border: 0px solid black;'title=['VENEZUELIAN TROUPIAL'] src='dataset_birds\\test\\VENEZUELIAN TROUPIAL\\5.jpg'/></div>"
      ],
      "text/plain": [
       "<IPython.core.display.HTML object>"
      ]
     },
     "metadata": {},
     "output_type": "display_data"
    },
    {
     "name": "stdout",
     "output_type": "stream",
     "text": [
      "Drawing VERDIN\n"
     ]
    },
    {
     "data": {
      "text/html": [
       "<div class=\"zoom\"><img style='width: 100px; height: 100px; margin: 1px; float: left; border: 0px solid black;'title=['VERDIN'] src='dataset_birds\\test\\VERDIN\\1.jpg'/></div><div class=\"zoom\"><img style='width: 100px; height: 100px; margin: 1px; float: left; border: 0px solid black;'title=['VERDIN'] src='dataset_birds\\test\\VERDIN\\2.jpg'/></div><div class=\"zoom\"><img style='width: 100px; height: 100px; margin: 1px; float: left; border: 0px solid black;'title=['VERDIN'] src='dataset_birds\\test\\VERDIN\\3.jpg'/></div><div class=\"zoom\"><img style='width: 100px; height: 100px; margin: 1px; float: left; border: 0px solid black;'title=['VERDIN'] src='dataset_birds\\test\\VERDIN\\4.jpg'/></div><div class=\"zoom\"><img style='width: 100px; height: 100px; margin: 1px; float: left; border: 0px solid black;'title=['VERDIN'] src='dataset_birds\\test\\VERDIN\\5.jpg'/></div>"
      ],
      "text/plain": [
       "<IPython.core.display.HTML object>"
      ]
     },
     "metadata": {},
     "output_type": "display_data"
    },
    {
     "name": "stdout",
     "output_type": "stream",
     "text": [
      "Drawing VERMILION FLYCATHER\n"
     ]
    },
    {
     "data": {
      "text/html": [
       "<div class=\"zoom\"><img style='width: 100px; height: 100px; margin: 1px; float: left; border: 0px solid black;'title=['VERMILION FLYCATHER'] src='dataset_birds\\test\\VERMILION FLYCATHER\\1.jpg'/></div><div class=\"zoom\"><img style='width: 100px; height: 100px; margin: 1px; float: left; border: 0px solid black;'title=['VERMILION FLYCATHER'] src='dataset_birds\\test\\VERMILION FLYCATHER\\2.jpg'/></div><div class=\"zoom\"><img style='width: 100px; height: 100px; margin: 1px; float: left; border: 0px solid black;'title=['VERMILION FLYCATHER'] src='dataset_birds\\test\\VERMILION FLYCATHER\\3.jpg'/></div><div class=\"zoom\"><img style='width: 100px; height: 100px; margin: 1px; float: left; border: 0px solid black;'title=['VERMILION FLYCATHER'] src='dataset_birds\\test\\VERMILION FLYCATHER\\4.jpg'/></div><div class=\"zoom\"><img style='width: 100px; height: 100px; margin: 1px; float: left; border: 0px solid black;'title=['VERMILION FLYCATHER'] src='dataset_birds\\test\\VERMILION FLYCATHER\\5.jpg'/></div>"
      ],
      "text/plain": [
       "<IPython.core.display.HTML object>"
      ]
     },
     "metadata": {},
     "output_type": "display_data"
    },
    {
     "name": "stdout",
     "output_type": "stream",
     "text": [
      "Drawing VICTORIA CROWNED PIGEON\n"
     ]
    },
    {
     "data": {
      "text/html": [
       "<div class=\"zoom\"><img style='width: 100px; height: 100px; margin: 1px; float: left; border: 0px solid black;'title=['VICTORIA CROWNED PIGEON'] src='dataset_birds\\test\\VICTORIA CROWNED PIGEON\\1.jpg'/></div><div class=\"zoom\"><img style='width: 100px; height: 100px; margin: 1px; float: left; border: 0px solid black;'title=['VICTORIA CROWNED PIGEON'] src='dataset_birds\\test\\VICTORIA CROWNED PIGEON\\2.jpg'/></div><div class=\"zoom\"><img style='width: 100px; height: 100px; margin: 1px; float: left; border: 0px solid black;'title=['VICTORIA CROWNED PIGEON'] src='dataset_birds\\test\\VICTORIA CROWNED PIGEON\\3.jpg'/></div><div class=\"zoom\"><img style='width: 100px; height: 100px; margin: 1px; float: left; border: 0px solid black;'title=['VICTORIA CROWNED PIGEON'] src='dataset_birds\\test\\VICTORIA CROWNED PIGEON\\4.jpg'/></div><div class=\"zoom\"><img style='width: 100px; height: 100px; margin: 1px; float: left; border: 0px solid black;'title=['VICTORIA CROWNED PIGEON'] src='dataset_birds\\test\\VICTORIA CROWNED PIGEON\\5.jpg'/></div>"
      ],
      "text/plain": [
       "<IPython.core.display.HTML object>"
      ]
     },
     "metadata": {},
     "output_type": "display_data"
    },
    {
     "name": "stdout",
     "output_type": "stream",
     "text": [
      "Drawing VIOLET BACKED STARLING\n"
     ]
    },
    {
     "data": {
      "text/html": [
       "<div class=\"zoom\"><img style='width: 100px; height: 100px; margin: 1px; float: left; border: 0px solid black;'title=['VIOLET BACKED STARLING'] src='dataset_birds\\test\\VIOLET BACKED STARLING\\1.jpg'/></div><div class=\"zoom\"><img style='width: 100px; height: 100px; margin: 1px; float: left; border: 0px solid black;'title=['VIOLET BACKED STARLING'] src='dataset_birds\\test\\VIOLET BACKED STARLING\\2.jpg'/></div><div class=\"zoom\"><img style='width: 100px; height: 100px; margin: 1px; float: left; border: 0px solid black;'title=['VIOLET BACKED STARLING'] src='dataset_birds\\test\\VIOLET BACKED STARLING\\3.jpg'/></div><div class=\"zoom\"><img style='width: 100px; height: 100px; margin: 1px; float: left; border: 0px solid black;'title=['VIOLET BACKED STARLING'] src='dataset_birds\\test\\VIOLET BACKED STARLING\\4.jpg'/></div><div class=\"zoom\"><img style='width: 100px; height: 100px; margin: 1px; float: left; border: 0px solid black;'title=['VIOLET BACKED STARLING'] src='dataset_birds\\test\\VIOLET BACKED STARLING\\5.jpg'/></div>"
      ],
      "text/plain": [
       "<IPython.core.display.HTML object>"
      ]
     },
     "metadata": {},
     "output_type": "display_data"
    },
    {
     "name": "stdout",
     "output_type": "stream",
     "text": [
      "Drawing VIOLET CUCKOO\n"
     ]
    },
    {
     "data": {
      "text/html": [
       "<div class=\"zoom\"><img style='width: 100px; height: 100px; margin: 1px; float: left; border: 0px solid black;'title=['VIOLET CUCKOO'] src='dataset_birds\\test\\VIOLET CUCKOO\\1.jpg'/></div><div class=\"zoom\"><img style='width: 100px; height: 100px; margin: 1px; float: left; border: 0px solid black;'title=['VIOLET CUCKOO'] src='dataset_birds\\test\\VIOLET CUCKOO\\2.jpg'/></div><div class=\"zoom\"><img style='width: 100px; height: 100px; margin: 1px; float: left; border: 0px solid black;'title=['VIOLET CUCKOO'] src='dataset_birds\\test\\VIOLET CUCKOO\\3.jpg'/></div><div class=\"zoom\"><img style='width: 100px; height: 100px; margin: 1px; float: left; border: 0px solid black;'title=['VIOLET CUCKOO'] src='dataset_birds\\test\\VIOLET CUCKOO\\4.jpg'/></div><div class=\"zoom\"><img style='width: 100px; height: 100px; margin: 1px; float: left; border: 0px solid black;'title=['VIOLET CUCKOO'] src='dataset_birds\\test\\VIOLET CUCKOO\\5.jpg'/></div>"
      ],
      "text/plain": [
       "<IPython.core.display.HTML object>"
      ]
     },
     "metadata": {},
     "output_type": "display_data"
    },
    {
     "name": "stdout",
     "output_type": "stream",
     "text": [
      "Drawing VIOLET GREEN SWALLOW\n"
     ]
    },
    {
     "data": {
      "text/html": [
       "<div class=\"zoom\"><img style='width: 100px; height: 100px; margin: 1px; float: left; border: 0px solid black;'title=['VIOLET GREEN SWALLOW'] src='dataset_birds\\test\\VIOLET GREEN SWALLOW\\1.jpg'/></div><div class=\"zoom\"><img style='width: 100px; height: 100px; margin: 1px; float: left; border: 0px solid black;'title=['VIOLET GREEN SWALLOW'] src='dataset_birds\\test\\VIOLET GREEN SWALLOW\\2.jpg'/></div><div class=\"zoom\"><img style='width: 100px; height: 100px; margin: 1px; float: left; border: 0px solid black;'title=['VIOLET GREEN SWALLOW'] src='dataset_birds\\test\\VIOLET GREEN SWALLOW\\3.jpg'/></div><div class=\"zoom\"><img style='width: 100px; height: 100px; margin: 1px; float: left; border: 0px solid black;'title=['VIOLET GREEN SWALLOW'] src='dataset_birds\\test\\VIOLET GREEN SWALLOW\\4.jpg'/></div><div class=\"zoom\"><img style='width: 100px; height: 100px; margin: 1px; float: left; border: 0px solid black;'title=['VIOLET GREEN SWALLOW'] src='dataset_birds\\test\\VIOLET GREEN SWALLOW\\5.jpg'/></div>"
      ],
      "text/plain": [
       "<IPython.core.display.HTML object>"
      ]
     },
     "metadata": {},
     "output_type": "display_data"
    },
    {
     "name": "stdout",
     "output_type": "stream",
     "text": [
      "Drawing VIOLET TURACO\n"
     ]
    },
    {
     "data": {
      "text/html": [
       "<div class=\"zoom\"><img style='width: 100px; height: 100px; margin: 1px; float: left; border: 0px solid black;'title=['VIOLET TURACO'] src='dataset_birds\\test\\VIOLET TURACO\\1.jpg'/></div><div class=\"zoom\"><img style='width: 100px; height: 100px; margin: 1px; float: left; border: 0px solid black;'title=['VIOLET TURACO'] src='dataset_birds\\test\\VIOLET TURACO\\2.jpg'/></div><div class=\"zoom\"><img style='width: 100px; height: 100px; margin: 1px; float: left; border: 0px solid black;'title=['VIOLET TURACO'] src='dataset_birds\\test\\VIOLET TURACO\\3.jpg'/></div><div class=\"zoom\"><img style='width: 100px; height: 100px; margin: 1px; float: left; border: 0px solid black;'title=['VIOLET TURACO'] src='dataset_birds\\test\\VIOLET TURACO\\4.jpg'/></div><div class=\"zoom\"><img style='width: 100px; height: 100px; margin: 1px; float: left; border: 0px solid black;'title=['VIOLET TURACO'] src='dataset_birds\\test\\VIOLET TURACO\\5.jpg'/></div>"
      ],
      "text/plain": [
       "<IPython.core.display.HTML object>"
      ]
     },
     "metadata": {},
     "output_type": "display_data"
    },
    {
     "name": "stdout",
     "output_type": "stream",
     "text": [
      "Drawing VISAYAN HORNBILL\n"
     ]
    },
    {
     "data": {
      "text/html": [
       "<div class=\"zoom\"><img style='width: 100px; height: 100px; margin: 1px; float: left; border: 0px solid black;'title=['VISAYAN HORNBILL'] src='dataset_birds\\test\\VISAYAN HORNBILL\\1.jpg'/></div><div class=\"zoom\"><img style='width: 100px; height: 100px; margin: 1px; float: left; border: 0px solid black;'title=['VISAYAN HORNBILL'] src='dataset_birds\\test\\VISAYAN HORNBILL\\2.jpg'/></div><div class=\"zoom\"><img style='width: 100px; height: 100px; margin: 1px; float: left; border: 0px solid black;'title=['VISAYAN HORNBILL'] src='dataset_birds\\test\\VISAYAN HORNBILL\\3.jpg'/></div><div class=\"zoom\"><img style='width: 100px; height: 100px; margin: 1px; float: left; border: 0px solid black;'title=['VISAYAN HORNBILL'] src='dataset_birds\\test\\VISAYAN HORNBILL\\4.jpg'/></div><div class=\"zoom\"><img style='width: 100px; height: 100px; margin: 1px; float: left; border: 0px solid black;'title=['VISAYAN HORNBILL'] src='dataset_birds\\test\\VISAYAN HORNBILL\\5.jpg'/></div>"
      ],
      "text/plain": [
       "<IPython.core.display.HTML object>"
      ]
     },
     "metadata": {},
     "output_type": "display_data"
    },
    {
     "name": "stdout",
     "output_type": "stream",
     "text": [
      "Drawing VULTURINE GUINEAFOWL\n"
     ]
    },
    {
     "data": {
      "text/html": [
       "<div class=\"zoom\"><img style='width: 100px; height: 100px; margin: 1px; float: left; border: 0px solid black;'title=['VULTURINE GUINEAFOWL'] src='dataset_birds\\test\\VULTURINE GUINEAFOWL\\1.jpg'/></div><div class=\"zoom\"><img style='width: 100px; height: 100px; margin: 1px; float: left; border: 0px solid black;'title=['VULTURINE GUINEAFOWL'] src='dataset_birds\\test\\VULTURINE GUINEAFOWL\\2.jpg'/></div><div class=\"zoom\"><img style='width: 100px; height: 100px; margin: 1px; float: left; border: 0px solid black;'title=['VULTURINE GUINEAFOWL'] src='dataset_birds\\test\\VULTURINE GUINEAFOWL\\3.jpg'/></div><div class=\"zoom\"><img style='width: 100px; height: 100px; margin: 1px; float: left; border: 0px solid black;'title=['VULTURINE GUINEAFOWL'] src='dataset_birds\\test\\VULTURINE GUINEAFOWL\\4.jpg'/></div><div class=\"zoom\"><img style='width: 100px; height: 100px; margin: 1px; float: left; border: 0px solid black;'title=['VULTURINE GUINEAFOWL'] src='dataset_birds\\test\\VULTURINE GUINEAFOWL\\5.jpg'/></div>"
      ],
      "text/plain": [
       "<IPython.core.display.HTML object>"
      ]
     },
     "metadata": {},
     "output_type": "display_data"
    },
    {
     "name": "stdout",
     "output_type": "stream",
     "text": [
      "Drawing WALL CREAPER\n"
     ]
    },
    {
     "data": {
      "text/html": [
       "<div class=\"zoom\"><img style='width: 100px; height: 100px; margin: 1px; float: left; border: 0px solid black;'title=['WALL CREAPER'] src='dataset_birds\\test\\WALL CREAPER\\1.jpg'/></div><div class=\"zoom\"><img style='width: 100px; height: 100px; margin: 1px; float: left; border: 0px solid black;'title=['WALL CREAPER'] src='dataset_birds\\test\\WALL CREAPER\\2.jpg'/></div><div class=\"zoom\"><img style='width: 100px; height: 100px; margin: 1px; float: left; border: 0px solid black;'title=['WALL CREAPER'] src='dataset_birds\\test\\WALL CREAPER\\3.jpg'/></div><div class=\"zoom\"><img style='width: 100px; height: 100px; margin: 1px; float: left; border: 0px solid black;'title=['WALL CREAPER'] src='dataset_birds\\test\\WALL CREAPER\\4.jpg'/></div><div class=\"zoom\"><img style='width: 100px; height: 100px; margin: 1px; float: left; border: 0px solid black;'title=['WALL CREAPER'] src='dataset_birds\\test\\WALL CREAPER\\5.jpg'/></div>"
      ],
      "text/plain": [
       "<IPython.core.display.HTML object>"
      ]
     },
     "metadata": {},
     "output_type": "display_data"
    },
    {
     "name": "stdout",
     "output_type": "stream",
     "text": [
      "Drawing WATTLED CURASSOW\n"
     ]
    },
    {
     "data": {
      "text/html": [
       "<div class=\"zoom\"><img style='width: 100px; height: 100px; margin: 1px; float: left; border: 0px solid black;'title=['WATTLED CURASSOW'] src='dataset_birds\\test\\WATTLED CURASSOW\\1.jpg'/></div><div class=\"zoom\"><img style='width: 100px; height: 100px; margin: 1px; float: left; border: 0px solid black;'title=['WATTLED CURASSOW'] src='dataset_birds\\test\\WATTLED CURASSOW\\2.jpg'/></div><div class=\"zoom\"><img style='width: 100px; height: 100px; margin: 1px; float: left; border: 0px solid black;'title=['WATTLED CURASSOW'] src='dataset_birds\\test\\WATTLED CURASSOW\\3.jpg'/></div><div class=\"zoom\"><img style='width: 100px; height: 100px; margin: 1px; float: left; border: 0px solid black;'title=['WATTLED CURASSOW'] src='dataset_birds\\test\\WATTLED CURASSOW\\4.jpg'/></div><div class=\"zoom\"><img style='width: 100px; height: 100px; margin: 1px; float: left; border: 0px solid black;'title=['WATTLED CURASSOW'] src='dataset_birds\\test\\WATTLED CURASSOW\\5.jpg'/></div>"
      ],
      "text/plain": [
       "<IPython.core.display.HTML object>"
      ]
     },
     "metadata": {},
     "output_type": "display_data"
    },
    {
     "name": "stdout",
     "output_type": "stream",
     "text": [
      "Drawing WATTLED LAPWING\n"
     ]
    },
    {
     "data": {
      "text/html": [
       "<div class=\"zoom\"><img style='width: 100px; height: 100px; margin: 1px; float: left; border: 0px solid black;'title=['WATTLED LAPWING'] src='dataset_birds\\test\\WATTLED LAPWING\\1.jpg'/></div><div class=\"zoom\"><img style='width: 100px; height: 100px; margin: 1px; float: left; border: 0px solid black;'title=['WATTLED LAPWING'] src='dataset_birds\\test\\WATTLED LAPWING\\2.jpg'/></div><div class=\"zoom\"><img style='width: 100px; height: 100px; margin: 1px; float: left; border: 0px solid black;'title=['WATTLED LAPWING'] src='dataset_birds\\test\\WATTLED LAPWING\\3.jpg'/></div><div class=\"zoom\"><img style='width: 100px; height: 100px; margin: 1px; float: left; border: 0px solid black;'title=['WATTLED LAPWING'] src='dataset_birds\\test\\WATTLED LAPWING\\4.jpg'/></div><div class=\"zoom\"><img style='width: 100px; height: 100px; margin: 1px; float: left; border: 0px solid black;'title=['WATTLED LAPWING'] src='dataset_birds\\test\\WATTLED LAPWING\\5.jpg'/></div>"
      ],
      "text/plain": [
       "<IPython.core.display.HTML object>"
      ]
     },
     "metadata": {},
     "output_type": "display_data"
    },
    {
     "name": "stdout",
     "output_type": "stream",
     "text": [
      "Drawing WHIMBREL\n"
     ]
    },
    {
     "data": {
      "text/html": [
       "<div class=\"zoom\"><img style='width: 100px; height: 100px; margin: 1px; float: left; border: 0px solid black;'title=['WHIMBREL'] src='dataset_birds\\test\\WHIMBREL\\1.jpg'/></div><div class=\"zoom\"><img style='width: 100px; height: 100px; margin: 1px; float: left; border: 0px solid black;'title=['WHIMBREL'] src='dataset_birds\\test\\WHIMBREL\\2.jpg'/></div><div class=\"zoom\"><img style='width: 100px; height: 100px; margin: 1px; float: left; border: 0px solid black;'title=['WHIMBREL'] src='dataset_birds\\test\\WHIMBREL\\3.jpg'/></div><div class=\"zoom\"><img style='width: 100px; height: 100px; margin: 1px; float: left; border: 0px solid black;'title=['WHIMBREL'] src='dataset_birds\\test\\WHIMBREL\\4.jpg'/></div><div class=\"zoom\"><img style='width: 100px; height: 100px; margin: 1px; float: left; border: 0px solid black;'title=['WHIMBREL'] src='dataset_birds\\test\\WHIMBREL\\5.jpg'/></div>"
      ],
      "text/plain": [
       "<IPython.core.display.HTML object>"
      ]
     },
     "metadata": {},
     "output_type": "display_data"
    },
    {
     "name": "stdout",
     "output_type": "stream",
     "text": [
      "Drawing WHITE BREASTED WATERHEN\n"
     ]
    },
    {
     "data": {
      "text/html": [
       "<div class=\"zoom\"><img style='width: 100px; height: 100px; margin: 1px; float: left; border: 0px solid black;'title=['WHITE BREASTED WATERHEN'] src='dataset_birds\\test\\WHITE BREASTED WATERHEN\\1.jpg'/></div><div class=\"zoom\"><img style='width: 100px; height: 100px; margin: 1px; float: left; border: 0px solid black;'title=['WHITE BREASTED WATERHEN'] src='dataset_birds\\test\\WHITE BREASTED WATERHEN\\2.jpg'/></div><div class=\"zoom\"><img style='width: 100px; height: 100px; margin: 1px; float: left; border: 0px solid black;'title=['WHITE BREASTED WATERHEN'] src='dataset_birds\\test\\WHITE BREASTED WATERHEN\\3.jpg'/></div><div class=\"zoom\"><img style='width: 100px; height: 100px; margin: 1px; float: left; border: 0px solid black;'title=['WHITE BREASTED WATERHEN'] src='dataset_birds\\test\\WHITE BREASTED WATERHEN\\4.jpg'/></div><div class=\"zoom\"><img style='width: 100px; height: 100px; margin: 1px; float: left; border: 0px solid black;'title=['WHITE BREASTED WATERHEN'] src='dataset_birds\\test\\WHITE BREASTED WATERHEN\\5.jpg'/></div>"
      ],
      "text/plain": [
       "<IPython.core.display.HTML object>"
      ]
     },
     "metadata": {},
     "output_type": "display_data"
    },
    {
     "name": "stdout",
     "output_type": "stream",
     "text": [
      "Drawing WHITE BROWED CRAKE\n"
     ]
    },
    {
     "data": {
      "text/html": [
       "<div class=\"zoom\"><img style='width: 100px; height: 100px; margin: 1px; float: left; border: 0px solid black;'title=['WHITE BROWED CRAKE'] src='dataset_birds\\test\\WHITE BROWED CRAKE\\1.jpg'/></div><div class=\"zoom\"><img style='width: 100px; height: 100px; margin: 1px; float: left; border: 0px solid black;'title=['WHITE BROWED CRAKE'] src='dataset_birds\\test\\WHITE BROWED CRAKE\\2.jpg'/></div><div class=\"zoom\"><img style='width: 100px; height: 100px; margin: 1px; float: left; border: 0px solid black;'title=['WHITE BROWED CRAKE'] src='dataset_birds\\test\\WHITE BROWED CRAKE\\3.jpg'/></div><div class=\"zoom\"><img style='width: 100px; height: 100px; margin: 1px; float: left; border: 0px solid black;'title=['WHITE BROWED CRAKE'] src='dataset_birds\\test\\WHITE BROWED CRAKE\\4.jpg'/></div><div class=\"zoom\"><img style='width: 100px; height: 100px; margin: 1px; float: left; border: 0px solid black;'title=['WHITE BROWED CRAKE'] src='dataset_birds\\test\\WHITE BROWED CRAKE\\5.jpg'/></div>"
      ],
      "text/plain": [
       "<IPython.core.display.HTML object>"
      ]
     },
     "metadata": {},
     "output_type": "display_data"
    },
    {
     "name": "stdout",
     "output_type": "stream",
     "text": [
      "Drawing WHITE CHEEKED TURACO\n"
     ]
    },
    {
     "data": {
      "text/html": [
       "<div class=\"zoom\"><img style='width: 100px; height: 100px; margin: 1px; float: left; border: 0px solid black;'title=['WHITE CHEEKED TURACO'] src='dataset_birds\\test\\WHITE CHEEKED TURACO\\1.jpg'/></div><div class=\"zoom\"><img style='width: 100px; height: 100px; margin: 1px; float: left; border: 0px solid black;'title=['WHITE CHEEKED TURACO'] src='dataset_birds\\test\\WHITE CHEEKED TURACO\\2.jpg'/></div><div class=\"zoom\"><img style='width: 100px; height: 100px; margin: 1px; float: left; border: 0px solid black;'title=['WHITE CHEEKED TURACO'] src='dataset_birds\\test\\WHITE CHEEKED TURACO\\3.jpg'/></div><div class=\"zoom\"><img style='width: 100px; height: 100px; margin: 1px; float: left; border: 0px solid black;'title=['WHITE CHEEKED TURACO'] src='dataset_birds\\test\\WHITE CHEEKED TURACO\\4.jpg'/></div><div class=\"zoom\"><img style='width: 100px; height: 100px; margin: 1px; float: left; border: 0px solid black;'title=['WHITE CHEEKED TURACO'] src='dataset_birds\\test\\WHITE CHEEKED TURACO\\5.jpg'/></div>"
      ],
      "text/plain": [
       "<IPython.core.display.HTML object>"
      ]
     },
     "metadata": {},
     "output_type": "display_data"
    },
    {
     "name": "stdout",
     "output_type": "stream",
     "text": [
      "Drawing WHITE CRESTED HORNBILL\n"
     ]
    },
    {
     "data": {
      "text/html": [
       "<div class=\"zoom\"><img style='width: 100px; height: 100px; margin: 1px; float: left; border: 0px solid black;'title=['WHITE CRESTED HORNBILL'] src='dataset_birds\\test\\WHITE CRESTED HORNBILL\\1.jpg'/></div><div class=\"zoom\"><img style='width: 100px; height: 100px; margin: 1px; float: left; border: 0px solid black;'title=['WHITE CRESTED HORNBILL'] src='dataset_birds\\test\\WHITE CRESTED HORNBILL\\2.jpg'/></div><div class=\"zoom\"><img style='width: 100px; height: 100px; margin: 1px; float: left; border: 0px solid black;'title=['WHITE CRESTED HORNBILL'] src='dataset_birds\\test\\WHITE CRESTED HORNBILL\\3.jpg'/></div><div class=\"zoom\"><img style='width: 100px; height: 100px; margin: 1px; float: left; border: 0px solid black;'title=['WHITE CRESTED HORNBILL'] src='dataset_birds\\test\\WHITE CRESTED HORNBILL\\4.jpg'/></div><div class=\"zoom\"><img style='width: 100px; height: 100px; margin: 1px; float: left; border: 0px solid black;'title=['WHITE CRESTED HORNBILL'] src='dataset_birds\\test\\WHITE CRESTED HORNBILL\\5.jpg'/></div>"
      ],
      "text/plain": [
       "<IPython.core.display.HTML object>"
      ]
     },
     "metadata": {},
     "output_type": "display_data"
    },
    {
     "name": "stdout",
     "output_type": "stream",
     "text": [
      "Drawing WHITE EARED HUMMINGBIRD\n"
     ]
    },
    {
     "data": {
      "text/html": [
       "<div class=\"zoom\"><img style='width: 100px; height: 100px; margin: 1px; float: left; border: 0px solid black;'title=['WHITE EARED HUMMINGBIRD'] src='dataset_birds\\test\\WHITE EARED HUMMINGBIRD\\1.jpg'/></div><div class=\"zoom\"><img style='width: 100px; height: 100px; margin: 1px; float: left; border: 0px solid black;'title=['WHITE EARED HUMMINGBIRD'] src='dataset_birds\\test\\WHITE EARED HUMMINGBIRD\\2.jpg'/></div><div class=\"zoom\"><img style='width: 100px; height: 100px; margin: 1px; float: left; border: 0px solid black;'title=['WHITE EARED HUMMINGBIRD'] src='dataset_birds\\test\\WHITE EARED HUMMINGBIRD\\3.jpg'/></div><div class=\"zoom\"><img style='width: 100px; height: 100px; margin: 1px; float: left; border: 0px solid black;'title=['WHITE EARED HUMMINGBIRD'] src='dataset_birds\\test\\WHITE EARED HUMMINGBIRD\\4.jpg'/></div><div class=\"zoom\"><img style='width: 100px; height: 100px; margin: 1px; float: left; border: 0px solid black;'title=['WHITE EARED HUMMINGBIRD'] src='dataset_birds\\test\\WHITE EARED HUMMINGBIRD\\5.jpg'/></div>"
      ],
      "text/plain": [
       "<IPython.core.display.HTML object>"
      ]
     },
     "metadata": {},
     "output_type": "display_data"
    },
    {
     "name": "stdout",
     "output_type": "stream",
     "text": [
      "Drawing WHITE NECKED RAVEN\n"
     ]
    },
    {
     "data": {
      "text/html": [
       "<div class=\"zoom\"><img style='width: 100px; height: 100px; margin: 1px; float: left; border: 0px solid black;'title=['WHITE NECKED RAVEN'] src='dataset_birds\\test\\WHITE NECKED RAVEN\\1.jpg'/></div><div class=\"zoom\"><img style='width: 100px; height: 100px; margin: 1px; float: left; border: 0px solid black;'title=['WHITE NECKED RAVEN'] src='dataset_birds\\test\\WHITE NECKED RAVEN\\2.jpg'/></div><div class=\"zoom\"><img style='width: 100px; height: 100px; margin: 1px; float: left; border: 0px solid black;'title=['WHITE NECKED RAVEN'] src='dataset_birds\\test\\WHITE NECKED RAVEN\\3.jpg'/></div><div class=\"zoom\"><img style='width: 100px; height: 100px; margin: 1px; float: left; border: 0px solid black;'title=['WHITE NECKED RAVEN'] src='dataset_birds\\test\\WHITE NECKED RAVEN\\4.jpg'/></div><div class=\"zoom\"><img style='width: 100px; height: 100px; margin: 1px; float: left; border: 0px solid black;'title=['WHITE NECKED RAVEN'] src='dataset_birds\\test\\WHITE NECKED RAVEN\\5.jpg'/></div>"
      ],
      "text/plain": [
       "<IPython.core.display.HTML object>"
      ]
     },
     "metadata": {},
     "output_type": "display_data"
    },
    {
     "name": "stdout",
     "output_type": "stream",
     "text": [
      "Drawing WHITE TAILED TROPIC\n"
     ]
    },
    {
     "data": {
      "text/html": [
       "<div class=\"zoom\"><img style='width: 100px; height: 100px; margin: 1px; float: left; border: 0px solid black;'title=['WHITE TAILED TROPIC'] src='dataset_birds\\test\\WHITE TAILED TROPIC\\1.jpg'/></div><div class=\"zoom\"><img style='width: 100px; height: 100px; margin: 1px; float: left; border: 0px solid black;'title=['WHITE TAILED TROPIC'] src='dataset_birds\\test\\WHITE TAILED TROPIC\\2.jpg'/></div><div class=\"zoom\"><img style='width: 100px; height: 100px; margin: 1px; float: left; border: 0px solid black;'title=['WHITE TAILED TROPIC'] src='dataset_birds\\test\\WHITE TAILED TROPIC\\3.jpg'/></div><div class=\"zoom\"><img style='width: 100px; height: 100px; margin: 1px; float: left; border: 0px solid black;'title=['WHITE TAILED TROPIC'] src='dataset_birds\\test\\WHITE TAILED TROPIC\\4.jpg'/></div><div class=\"zoom\"><img style='width: 100px; height: 100px; margin: 1px; float: left; border: 0px solid black;'title=['WHITE TAILED TROPIC'] src='dataset_birds\\test\\WHITE TAILED TROPIC\\5.jpg'/></div>"
      ],
      "text/plain": [
       "<IPython.core.display.HTML object>"
      ]
     },
     "metadata": {},
     "output_type": "display_data"
    },
    {
     "name": "stdout",
     "output_type": "stream",
     "text": [
      "Drawing WHITE THROATED BEE EATER\n"
     ]
    },
    {
     "data": {
      "text/html": [
       "<div class=\"zoom\"><img style='width: 100px; height: 100px; margin: 1px; float: left; border: 0px solid black;'title=['WHITE THROATED BEE EATER'] src='dataset_birds\\test\\WHITE THROATED BEE EATER\\1.jpg'/></div><div class=\"zoom\"><img style='width: 100px; height: 100px; margin: 1px; float: left; border: 0px solid black;'title=['WHITE THROATED BEE EATER'] src='dataset_birds\\test\\WHITE THROATED BEE EATER\\2.jpg'/></div><div class=\"zoom\"><img style='width: 100px; height: 100px; margin: 1px; float: left; border: 0px solid black;'title=['WHITE THROATED BEE EATER'] src='dataset_birds\\test\\WHITE THROATED BEE EATER\\3.jpg'/></div><div class=\"zoom\"><img style='width: 100px; height: 100px; margin: 1px; float: left; border: 0px solid black;'title=['WHITE THROATED BEE EATER'] src='dataset_birds\\test\\WHITE THROATED BEE EATER\\4.jpg'/></div><div class=\"zoom\"><img style='width: 100px; height: 100px; margin: 1px; float: left; border: 0px solid black;'title=['WHITE THROATED BEE EATER'] src='dataset_birds\\test\\WHITE THROATED BEE EATER\\5.jpg'/></div>"
      ],
      "text/plain": [
       "<IPython.core.display.HTML object>"
      ]
     },
     "metadata": {},
     "output_type": "display_data"
    },
    {
     "name": "stdout",
     "output_type": "stream",
     "text": [
      "Drawing WILD TURKEY\n"
     ]
    },
    {
     "data": {
      "text/html": [
       "<div class=\"zoom\"><img style='width: 100px; height: 100px; margin: 1px; float: left; border: 0px solid black;'title=['WILD TURKEY'] src='dataset_birds\\test\\WILD TURKEY\\1.jpg'/></div><div class=\"zoom\"><img style='width: 100px; height: 100px; margin: 1px; float: left; border: 0px solid black;'title=['WILD TURKEY'] src='dataset_birds\\test\\WILD TURKEY\\2.jpg'/></div><div class=\"zoom\"><img style='width: 100px; height: 100px; margin: 1px; float: left; border: 0px solid black;'title=['WILD TURKEY'] src='dataset_birds\\test\\WILD TURKEY\\3.jpg'/></div><div class=\"zoom\"><img style='width: 100px; height: 100px; margin: 1px; float: left; border: 0px solid black;'title=['WILD TURKEY'] src='dataset_birds\\test\\WILD TURKEY\\4.jpg'/></div><div class=\"zoom\"><img style='width: 100px; height: 100px; margin: 1px; float: left; border: 0px solid black;'title=['WILD TURKEY'] src='dataset_birds\\test\\WILD TURKEY\\5.jpg'/></div>"
      ],
      "text/plain": [
       "<IPython.core.display.HTML object>"
      ]
     },
     "metadata": {},
     "output_type": "display_data"
    },
    {
     "name": "stdout",
     "output_type": "stream",
     "text": [
      "Drawing WILLOW PTARMIGAN\n"
     ]
    },
    {
     "data": {
      "text/html": [
       "<div class=\"zoom\"><img style='width: 100px; height: 100px; margin: 1px; float: left; border: 0px solid black;'title=['WILLOW PTARMIGAN'] src='dataset_birds\\test\\WILLOW PTARMIGAN\\1.jpg'/></div><div class=\"zoom\"><img style='width: 100px; height: 100px; margin: 1px; float: left; border: 0px solid black;'title=['WILLOW PTARMIGAN'] src='dataset_birds\\test\\WILLOW PTARMIGAN\\2.jpg'/></div><div class=\"zoom\"><img style='width: 100px; height: 100px; margin: 1px; float: left; border: 0px solid black;'title=['WILLOW PTARMIGAN'] src='dataset_birds\\test\\WILLOW PTARMIGAN\\3.jpg'/></div><div class=\"zoom\"><img style='width: 100px; height: 100px; margin: 1px; float: left; border: 0px solid black;'title=['WILLOW PTARMIGAN'] src='dataset_birds\\test\\WILLOW PTARMIGAN\\4.jpg'/></div><div class=\"zoom\"><img style='width: 100px; height: 100px; margin: 1px; float: left; border: 0px solid black;'title=['WILLOW PTARMIGAN'] src='dataset_birds\\test\\WILLOW PTARMIGAN\\5.jpg'/></div>"
      ],
      "text/plain": [
       "<IPython.core.display.HTML object>"
      ]
     },
     "metadata": {},
     "output_type": "display_data"
    },
    {
     "name": "stdout",
     "output_type": "stream",
     "text": [
      "Drawing WILSONS BIRD OF PARADISE\n"
     ]
    },
    {
     "data": {
      "text/html": [
       "<div class=\"zoom\"><img style='width: 100px; height: 100px; margin: 1px; float: left; border: 0px solid black;'title=['WILSONS BIRD OF PARADISE'] src='dataset_birds\\test\\WILSONS BIRD OF PARADISE\\1.jpg'/></div><div class=\"zoom\"><img style='width: 100px; height: 100px; margin: 1px; float: left; border: 0px solid black;'title=['WILSONS BIRD OF PARADISE'] src='dataset_birds\\test\\WILSONS BIRD OF PARADISE\\2.jpg'/></div><div class=\"zoom\"><img style='width: 100px; height: 100px; margin: 1px; float: left; border: 0px solid black;'title=['WILSONS BIRD OF PARADISE'] src='dataset_birds\\test\\WILSONS BIRD OF PARADISE\\3.jpg'/></div><div class=\"zoom\"><img style='width: 100px; height: 100px; margin: 1px; float: left; border: 0px solid black;'title=['WILSONS BIRD OF PARADISE'] src='dataset_birds\\test\\WILSONS BIRD OF PARADISE\\4.jpg'/></div><div class=\"zoom\"><img style='width: 100px; height: 100px; margin: 1px; float: left; border: 0px solid black;'title=['WILSONS BIRD OF PARADISE'] src='dataset_birds\\test\\WILSONS BIRD OF PARADISE\\5.jpg'/></div>"
      ],
      "text/plain": [
       "<IPython.core.display.HTML object>"
      ]
     },
     "metadata": {},
     "output_type": "display_data"
    },
    {
     "name": "stdout",
     "output_type": "stream",
     "text": [
      "Drawing WOOD DUCK\n"
     ]
    },
    {
     "data": {
      "text/html": [
       "<div class=\"zoom\"><img style='width: 100px; height: 100px; margin: 1px; float: left; border: 0px solid black;'title=['WOOD DUCK'] src='dataset_birds\\test\\WOOD DUCK\\1.jpg'/></div><div class=\"zoom\"><img style='width: 100px; height: 100px; margin: 1px; float: left; border: 0px solid black;'title=['WOOD DUCK'] src='dataset_birds\\test\\WOOD DUCK\\2.jpg'/></div><div class=\"zoom\"><img style='width: 100px; height: 100px; margin: 1px; float: left; border: 0px solid black;'title=['WOOD DUCK'] src='dataset_birds\\test\\WOOD DUCK\\3.jpg'/></div><div class=\"zoom\"><img style='width: 100px; height: 100px; margin: 1px; float: left; border: 0px solid black;'title=['WOOD DUCK'] src='dataset_birds\\test\\WOOD DUCK\\4.jpg'/></div><div class=\"zoom\"><img style='width: 100px; height: 100px; margin: 1px; float: left; border: 0px solid black;'title=['WOOD DUCK'] src='dataset_birds\\test\\WOOD DUCK\\5.jpg'/></div>"
      ],
      "text/plain": [
       "<IPython.core.display.HTML object>"
      ]
     },
     "metadata": {},
     "output_type": "display_data"
    },
    {
     "name": "stdout",
     "output_type": "stream",
     "text": [
      "Drawing WOOD THRUSH\n"
     ]
    },
    {
     "data": {
      "text/html": [
       "<div class=\"zoom\"><img style='width: 100px; height: 100px; margin: 1px; float: left; border: 0px solid black;'title=['WOOD THRUSH'] src='dataset_birds\\test\\WOOD THRUSH\\1.jpg'/></div><div class=\"zoom\"><img style='width: 100px; height: 100px; margin: 1px; float: left; border: 0px solid black;'title=['WOOD THRUSH'] src='dataset_birds\\test\\WOOD THRUSH\\2.jpg'/></div><div class=\"zoom\"><img style='width: 100px; height: 100px; margin: 1px; float: left; border: 0px solid black;'title=['WOOD THRUSH'] src='dataset_birds\\test\\WOOD THRUSH\\3.jpg'/></div><div class=\"zoom\"><img style='width: 100px; height: 100px; margin: 1px; float: left; border: 0px solid black;'title=['WOOD THRUSH'] src='dataset_birds\\test\\WOOD THRUSH\\4.jpg'/></div><div class=\"zoom\"><img style='width: 100px; height: 100px; margin: 1px; float: left; border: 0px solid black;'title=['WOOD THRUSH'] src='dataset_birds\\test\\WOOD THRUSH\\5.jpg'/></div>"
      ],
      "text/plain": [
       "<IPython.core.display.HTML object>"
      ]
     },
     "metadata": {},
     "output_type": "display_data"
    },
    {
     "name": "stdout",
     "output_type": "stream",
     "text": [
      "Drawing WOODLAND KINGFISHER\n"
     ]
    },
    {
     "data": {
      "text/html": [
       "<div class=\"zoom\"><img style='width: 100px; height: 100px; margin: 1px; float: left; border: 0px solid black;'title=['WOODLAND KINGFISHER'] src='dataset_birds\\test\\WOODLAND KINGFISHER\\1.jpg'/></div><div class=\"zoom\"><img style='width: 100px; height: 100px; margin: 1px; float: left; border: 0px solid black;'title=['WOODLAND KINGFISHER'] src='dataset_birds\\test\\WOODLAND KINGFISHER\\2.jpg'/></div><div class=\"zoom\"><img style='width: 100px; height: 100px; margin: 1px; float: left; border: 0px solid black;'title=['WOODLAND KINGFISHER'] src='dataset_birds\\test\\WOODLAND KINGFISHER\\3.jpg'/></div><div class=\"zoom\"><img style='width: 100px; height: 100px; margin: 1px; float: left; border: 0px solid black;'title=['WOODLAND KINGFISHER'] src='dataset_birds\\test\\WOODLAND KINGFISHER\\4.jpg'/></div><div class=\"zoom\"><img style='width: 100px; height: 100px; margin: 1px; float: left; border: 0px solid black;'title=['WOODLAND KINGFISHER'] src='dataset_birds\\test\\WOODLAND KINGFISHER\\5.jpg'/></div>"
      ],
      "text/plain": [
       "<IPython.core.display.HTML object>"
      ]
     },
     "metadata": {},
     "output_type": "display_data"
    },
    {
     "name": "stdout",
     "output_type": "stream",
     "text": [
      "Drawing WRENTIT\n"
     ]
    },
    {
     "data": {
      "text/html": [
       "<div class=\"zoom\"><img style='width: 100px; height: 100px; margin: 1px; float: left; border: 0px solid black;'title=['WRENTIT'] src='dataset_birds\\test\\WRENTIT\\1.jpg'/></div><div class=\"zoom\"><img style='width: 100px; height: 100px; margin: 1px; float: left; border: 0px solid black;'title=['WRENTIT'] src='dataset_birds\\test\\WRENTIT\\2.jpg'/></div><div class=\"zoom\"><img style='width: 100px; height: 100px; margin: 1px; float: left; border: 0px solid black;'title=['WRENTIT'] src='dataset_birds\\test\\WRENTIT\\3.jpg'/></div><div class=\"zoom\"><img style='width: 100px; height: 100px; margin: 1px; float: left; border: 0px solid black;'title=['WRENTIT'] src='dataset_birds\\test\\WRENTIT\\4.jpg'/></div><div class=\"zoom\"><img style='width: 100px; height: 100px; margin: 1px; float: left; border: 0px solid black;'title=['WRENTIT'] src='dataset_birds\\test\\WRENTIT\\5.jpg'/></div>"
      ],
      "text/plain": [
       "<IPython.core.display.HTML object>"
      ]
     },
     "metadata": {},
     "output_type": "display_data"
    },
    {
     "name": "stdout",
     "output_type": "stream",
     "text": [
      "Drawing YELLOW BELLIED FLOWERPECKER\n"
     ]
    },
    {
     "data": {
      "text/html": [
       "<div class=\"zoom\"><img style='width: 100px; height: 100px; margin: 1px; float: left; border: 0px solid black;'title=['YELLOW BELLIED FLOWERPECKER'] src='dataset_birds\\test\\YELLOW BELLIED FLOWERPECKER\\1.jpg'/></div><div class=\"zoom\"><img style='width: 100px; height: 100px; margin: 1px; float: left; border: 0px solid black;'title=['YELLOW BELLIED FLOWERPECKER'] src='dataset_birds\\test\\YELLOW BELLIED FLOWERPECKER\\2.jpg'/></div><div class=\"zoom\"><img style='width: 100px; height: 100px; margin: 1px; float: left; border: 0px solid black;'title=['YELLOW BELLIED FLOWERPECKER'] src='dataset_birds\\test\\YELLOW BELLIED FLOWERPECKER\\3.jpg'/></div><div class=\"zoom\"><img style='width: 100px; height: 100px; margin: 1px; float: left; border: 0px solid black;'title=['YELLOW BELLIED FLOWERPECKER'] src='dataset_birds\\test\\YELLOW BELLIED FLOWERPECKER\\4.jpg'/></div><div class=\"zoom\"><img style='width: 100px; height: 100px; margin: 1px; float: left; border: 0px solid black;'title=['YELLOW BELLIED FLOWERPECKER'] src='dataset_birds\\test\\YELLOW BELLIED FLOWERPECKER\\5.jpg'/></div>"
      ],
      "text/plain": [
       "<IPython.core.display.HTML object>"
      ]
     },
     "metadata": {},
     "output_type": "display_data"
    },
    {
     "name": "stdout",
     "output_type": "stream",
     "text": [
      "Drawing YELLOW BREASTED CHAT\n"
     ]
    },
    {
     "data": {
      "text/html": [
       "<div class=\"zoom\"><img style='width: 100px; height: 100px; margin: 1px; float: left; border: 0px solid black;'title=['YELLOW BREASTED CHAT'] src='dataset_birds\\test\\YELLOW BREASTED CHAT\\1.jpg'/></div><div class=\"zoom\"><img style='width: 100px; height: 100px; margin: 1px; float: left; border: 0px solid black;'title=['YELLOW BREASTED CHAT'] src='dataset_birds\\test\\YELLOW BREASTED CHAT\\2.jpg'/></div><div class=\"zoom\"><img style='width: 100px; height: 100px; margin: 1px; float: left; border: 0px solid black;'title=['YELLOW BREASTED CHAT'] src='dataset_birds\\test\\YELLOW BREASTED CHAT\\3.jpg'/></div><div class=\"zoom\"><img style='width: 100px; height: 100px; margin: 1px; float: left; border: 0px solid black;'title=['YELLOW BREASTED CHAT'] src='dataset_birds\\test\\YELLOW BREASTED CHAT\\4.jpg'/></div><div class=\"zoom\"><img style='width: 100px; height: 100px; margin: 1px; float: left; border: 0px solid black;'title=['YELLOW BREASTED CHAT'] src='dataset_birds\\test\\YELLOW BREASTED CHAT\\5.jpg'/></div>"
      ],
      "text/plain": [
       "<IPython.core.display.HTML object>"
      ]
     },
     "metadata": {},
     "output_type": "display_data"
    },
    {
     "name": "stdout",
     "output_type": "stream",
     "text": [
      "Drawing YELLOW CACIQUE\n"
     ]
    },
    {
     "data": {
      "text/html": [
       "<div class=\"zoom\"><img style='width: 100px; height: 100px; margin: 1px; float: left; border: 0px solid black;'title=['YELLOW CACIQUE'] src='dataset_birds\\test\\YELLOW CACIQUE\\1.jpg'/></div><div class=\"zoom\"><img style='width: 100px; height: 100px; margin: 1px; float: left; border: 0px solid black;'title=['YELLOW CACIQUE'] src='dataset_birds\\test\\YELLOW CACIQUE\\2.jpg'/></div><div class=\"zoom\"><img style='width: 100px; height: 100px; margin: 1px; float: left; border: 0px solid black;'title=['YELLOW CACIQUE'] src='dataset_birds\\test\\YELLOW CACIQUE\\3.jpg'/></div><div class=\"zoom\"><img style='width: 100px; height: 100px; margin: 1px; float: left; border: 0px solid black;'title=['YELLOW CACIQUE'] src='dataset_birds\\test\\YELLOW CACIQUE\\4.jpg'/></div><div class=\"zoom\"><img style='width: 100px; height: 100px; margin: 1px; float: left; border: 0px solid black;'title=['YELLOW CACIQUE'] src='dataset_birds\\test\\YELLOW CACIQUE\\5.jpg'/></div>"
      ],
      "text/plain": [
       "<IPython.core.display.HTML object>"
      ]
     },
     "metadata": {},
     "output_type": "display_data"
    },
    {
     "name": "stdout",
     "output_type": "stream",
     "text": [
      "Drawing YELLOW HEADED BLACKBIRD\n"
     ]
    },
    {
     "data": {
      "text/html": [
       "<div class=\"zoom\"><img style='width: 100px; height: 100px; margin: 1px; float: left; border: 0px solid black;'title=['YELLOW HEADED BLACKBIRD'] src='dataset_birds\\test\\YELLOW HEADED BLACKBIRD\\1.jpg'/></div><div class=\"zoom\"><img style='width: 100px; height: 100px; margin: 1px; float: left; border: 0px solid black;'title=['YELLOW HEADED BLACKBIRD'] src='dataset_birds\\test\\YELLOW HEADED BLACKBIRD\\2.jpg'/></div><div class=\"zoom\"><img style='width: 100px; height: 100px; margin: 1px; float: left; border: 0px solid black;'title=['YELLOW HEADED BLACKBIRD'] src='dataset_birds\\test\\YELLOW HEADED BLACKBIRD\\3.jpg'/></div><div class=\"zoom\"><img style='width: 100px; height: 100px; margin: 1px; float: left; border: 0px solid black;'title=['YELLOW HEADED BLACKBIRD'] src='dataset_birds\\test\\YELLOW HEADED BLACKBIRD\\4.jpg'/></div><div class=\"zoom\"><img style='width: 100px; height: 100px; margin: 1px; float: left; border: 0px solid black;'title=['YELLOW HEADED BLACKBIRD'] src='dataset_birds\\test\\YELLOW HEADED BLACKBIRD\\5.jpg'/></div>"
      ],
      "text/plain": [
       "<IPython.core.display.HTML object>"
      ]
     },
     "metadata": {},
     "output_type": "display_data"
    },
    {
     "name": "stdout",
     "output_type": "stream",
     "text": [
      "Drawing ZEBRA DOVE\n"
     ]
    },
    {
     "data": {
      "text/html": [
       "<div class=\"zoom\"><img style='width: 100px; height: 100px; margin: 1px; float: left; border: 0px solid black;'title=['ZEBRA DOVE'] src='dataset_birds\\test\\ZEBRA DOVE\\1.jpg'/></div><div class=\"zoom\"><img style='width: 100px; height: 100px; margin: 1px; float: left; border: 0px solid black;'title=['ZEBRA DOVE'] src='dataset_birds\\test\\ZEBRA DOVE\\2.jpg'/></div><div class=\"zoom\"><img style='width: 100px; height: 100px; margin: 1px; float: left; border: 0px solid black;'title=['ZEBRA DOVE'] src='dataset_birds\\test\\ZEBRA DOVE\\3.jpg'/></div><div class=\"zoom\"><img style='width: 100px; height: 100px; margin: 1px; float: left; border: 0px solid black;'title=['ZEBRA DOVE'] src='dataset_birds\\test\\ZEBRA DOVE\\4.jpg'/></div><div class=\"zoom\"><img style='width: 100px; height: 100px; margin: 1px; float: left; border: 0px solid black;'title=['ZEBRA DOVE'] src='dataset_birds\\test\\ZEBRA DOVE\\5.jpg'/></div>"
      ],
      "text/plain": [
       "<IPython.core.display.HTML object>"
      ]
     },
     "metadata": {},
     "output_type": "display_data"
    }
   ],
   "source": [
    "from easyimages import EasyImageList\n",
    "li = EasyImageList.from_multilevel_folder(dirDsPath + \"/test\")\n",
    "li.html(by_class=True)"
   ]
  }
 ],
 "metadata": {
  "kernelspec": {
   "display_name": "Python 3 (ipykernel)",
   "language": "python",
   "name": "python3"
  },
  "language_info": {
   "codemirror_mode": {
    "name": "ipython",
    "version": 3
   },
   "file_extension": ".py",
   "mimetype": "text/x-python",
   "name": "python",
   "nbconvert_exporter": "python",
   "pygments_lexer": "ipython3",
   "version": "3.11.2"
  }
 },
 "nbformat": 4,
 "nbformat_minor": 5
}
