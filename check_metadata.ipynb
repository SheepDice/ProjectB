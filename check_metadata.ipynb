{
 "cells": [
  {
   "cell_type": "code",
   "execution_count": 3,
   "id": "db9ebf23",
   "metadata": {},
   "outputs": [],
   "source": [
    "from PIL import Image\n",
    "from PIL.ExifTags import TAGS\n",
    "import os\n",
    "import csv\n",
    "import pandas as pd\n",
    "import numpy as np"
   ]
  },
  {
   "cell_type": "code",
   "execution_count": 13,
   "id": "b415d321",
   "metadata": {},
   "outputs": [],
   "source": [
    "#Recuperation des metadata d'une image \n",
    "def getImagesInfos(imagePath):\n",
    "    image = Image.open(imagePath)\n",
    "    info_dict = {\n",
    "    \"Filename\": image.filename,\n",
    "    \"Size\": image.size,\n",
    "    \"Height\": image.height,\n",
    "    \"Width\": image.width,\n",
    "    \"Format\": image.format,\n",
    "    \"Mode\": image.mode,}\n",
    "    return info_dict\n"
   ]
  },
  {
   "cell_type": "code",
   "execution_count": 11,
   "id": "023ab7c0",
   "metadata": {},
   "outputs": [],
   "source": [
    "imagesInfos = dict()\n",
    "dirDsPath = \"dataset_birds\""
   ]
  },
  {
   "cell_type": "code",
   "execution_count": 24,
   "id": "9fe77ac6",
   "metadata": {},
   "outputs": [],
   "source": [
    "#Ecriture dans le fichier CSV\n",
    "with open(\"imagesInfos.csv\", 'w', newline='') as f:\n",
    "    writer = csv.writer(f, delimiter=\",\")\n",
    "    writer.writerow([\"set\", \"birdName\", \"filename\", \"size\", \"height\", \"width\", \"format\", \"mode\"])\n",
    "    for setPath in os.listdir(dirDsPath):\n",
    "        fullSetPath = os.path.join(dirDsPath, setPath)\n",
    "        for birdPath in os.listdir(fullSetPath): \n",
    "            birdImagesList = os.listdir(os.path.join(fullSetPath, birdPath))\n",
    "            for file in birdImagesList:\n",
    "                infos = getImagesInfos(os.path.join(fullSetPath, birdPath, file,))\n",
    "                writer.writerow([setPath, birdPath, file, infos['Size'], infos['Height'], infos['Width'], infos['Format'], infos['Mode']])\n",
    "\n",
    "        "
   ]
  },
  {
   "cell_type": "code",
   "execution_count": 4,
   "id": "910167c7",
   "metadata": {},
   "outputs": [
    {
     "name": "stdout",
     "output_type": "stream",
     "text": [
      "Nombre de taille d'images différentes : 212\n",
      "\n",
      "\n",
      "Nombre de taille d'images différentes dans le set de test : 6\n",
      "Nombre de taille d'images différentes dans le set d'entrainement : 202\n",
      "Nombre de taille d'images différentes dans le set de validation : 6\n",
      "\n",
      "\n",
      "Nombre d'images de taille différente de 224*224 dans le set de test : 5\n",
      "Nombre d'images de taille différente de 224*224 dans le set d'entrainement : 201\n",
      "Nombre d'images de taille différente de 224*224 dans le set de validation : 5\n"
     ]
    }
   ],
   "source": [
    "#Informations sur la taille des images\n",
    "df = pd.read_csv(\"imagesInfos.csv\")\n",
    "print(\"Nombre de taille d'images différentes : \" + str(df['size'].nunique()))\n",
    "print('\\n')\n",
    "print(\"Nombre de taille d'images différentes dans le set de test : \" + str(df[df['set']== \"test\"]['size'].nunique()))\n",
    "print(\"Nombre de taille d'images différentes dans le set d'entrainement : \" + str(df[df['set']== \"train\"]['size'].nunique()))\n",
    "print(\"Nombre de taille d'images différentes dans le set de validation : \" + str(df[df['set']== \"valid\"]['size'].nunique()))\n",
    "print('\\n')\n",
    "\n",
    "print(\"Nombre d'images de taille différente de 224*224 dans le set de test : \" + str(df[(df['set']== \"test\") & (df['size'] != '(224, 224)')]['size'].nunique()))\n",
    "print(\"Nombre d'images de taille différente de 224*224 dans le set d'entrainement : \" + str(df[(df['set']== \"train\") & (df['size'] != '(224, 224)')]['size'].nunique()))\n",
    "print(\"Nombre d'images de taille différente de 224*224 dans le set de validation : \" + str(df[(df['set']== \"valid\") & (df['size'] != '(224, 224)')]['size'].nunique()))\n"
   ]
  },
  {
   "cell_type": "code",
   "execution_count": null,
   "id": "94decc6b",
   "metadata": {},
   "outputs": [],
   "source": [
    "df_to_resize = df[df['size'] != '(224, 224)']\n",
    "df_to_resize.groupby(['birdName', 'set']).count()\n",
    "#Aucune image concernant le Plush Crested Jay n'est à la bonne taille. On se propose donc de laisser tomber cette espèce.\n",
    "#En revanche, le Loggerhead Shrike n'a qu'une image qui pose problème. On va voir si on peut la garder en changeant sa taille. Sinon on pourra la supprimer car c'est une parmi 200"
   ]
  },
  {
   "cell_type": "code",
   "execution_count": 6,
   "metadata": {},
   "outputs": [
    {
     "name": "stdout",
     "output_type": "stream",
     "text": [
      "Il faut passer de  (170, 196)  à (224,224)\n"
     ]
    }
   ],
   "source": [
    "#Resize l'image de Loggerhead Shrike\n",
    "imageToResize = df[(df['birdName']== \"LOGGERHEAD SHRIKE\") & (df['size'] != '(224, 224)')]\n",
    "print(\"Il faut passer de \", imageToResize['size'].iloc[0], \" à (224,224)\")\n",
    "img_path = os.path.join(dirDsPath, imageToResize['set'].iloc[0], imageToResize['birdName'].iloc[0], imageToResize['filename'].iloc[0])\n",
    "img = Image.open(img_path)\n",
    "img_resize = img.resize((224,224))\n",
    "img_resize_path = os.path.join(dirDsPath+\"_clean\", imageToResize['set'].iloc[0], imageToResize['birdName'].iloc[0], imageToResize['filename'].iloc[0])\n",
    "img_resize.save(img_resize_path)\n"
   ]
  },
  {
   "cell_type": "code",
   "execution_count": null,
   "id": "bb20ba43",
   "metadata": {},
   "outputs": [],
   "source": [
    "#On va essayer de voir si la classe \"PLUSH CRESTED JAY\" peut être facilement conservée\n",
    "df_PCJ = df_to_resize[df_to_resize['birdName'] == \"PLUSH CRESTED JAY\"]\n",
    "df_PCJ['ratio_size'] = df_PCJ['height'] / df_PCJ['width']\n",
    "df_PCJ['ratio_size_close_to_1'] = np.abs(1 - df_PCJ['ratio_size']) < 0.1\n",
    "print(df_PCJ['ratio_size_close_to_1'].value_counts())\n",
    "#Il y a trop peu d'images proches d'un carré et donc facilement resizable, on confirme la suppression de la classe \"PLUSH CRESTED JAY\"\n"
   ]
  },
  {
   "cell_type": "code",
   "execution_count": 9,
   "id": "1d004f96",
   "metadata": {},
   "outputs": [
    {
     "data": {
      "text/plain": [
       "mode\n",
       "RGB    89885\n",
       "Name: count, dtype: int64"
      ]
     },
     "execution_count": 9,
     "metadata": {},
     "output_type": "execute_result"
    }
   ],
   "source": [
    "df['mode'].value_counts()\n",
    "#Toute les images sont en couleurs"
   ]
  },
  {
   "cell_type": "code",
   "execution_count": 26,
   "id": "4ae73dbc",
   "metadata": {},
   "outputs": [
    {
     "name": "stdout",
     "output_type": "stream",
     "text": [
      "Il n'y a que des digits, probablement pas de doublons. Nombre de fichiers scannés :  89885\n"
     ]
    }
   ],
   "source": [
    "#On cherche ici la présence dans les noms de fichier de characters non numéric qui pourrait montrer des fichiers dupliqués (comme \"(1)\" ou encore \" - copie\")\n",
    "potentialDouble = list()\n",
    "nbScannedFile = 0\n",
    "for setPath in os.listdir(dirDsPath):\n",
    "    fullSetPath = os.path.join(dirDsPath, setPath)\n",
    "    for birdPath in os.listdir(fullSetPath): \n",
    "        birdImagesList = os.listdir(os.path.join(fullSetPath, birdPath))\n",
    "        for file in birdImagesList:\n",
    "            if not(file.split(\".\")[0].isdigit()):\n",
    "                potentialDouble.append(birdPath + file)\n",
    "            nbScannedFile += 1\n",
    "\n",
    "if len(potentialDouble) == 0:\n",
    "    print(\"Il n'y a que des digits, probablement pas de doublons. Nombre de fichiers scannés : \", nbScannedFile)"
   ]
  }
 ],
 "metadata": {
  "kernelspec": {
   "display_name": "Python 3 (ipykernel)",
   "language": "python",
   "name": "python3"
  },
  "language_info": {
   "codemirror_mode": {
    "name": "ipython",
    "version": 3
   },
   "file_extension": ".py",
   "mimetype": "text/x-python",
   "name": "python",
   "nbconvert_exporter": "python",
   "pygments_lexer": "ipython3",
   "version": "3.11.2"
  }
 },
 "nbformat": 4,
 "nbformat_minor": 5
}
