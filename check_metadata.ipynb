{
 "cells": [
  {
   "cell_type": "code",
   "execution_count": 71,
   "id": "db9ebf23",
   "metadata": {},
   "outputs": [],
   "source": [
    "from PIL import Image\n",
    "from PIL.ExifTags import TAGS\n",
    "import os\n",
    "import csv\n"
   ]
  },
  {
   "cell_type": "code",
   "execution_count": 25,
   "id": "87f81875",
   "metadata": {},
   "outputs": [],
   "source": [
    "imageName = \"1.jpg\"\n",
    "imagePath = os.getcwd() + \"/dataset_birds/test/ABBOTTS BABBLER/\"\n",
    "image = Image.open(imagePath + imageName) #ouvrir le fichier\n",
    "#Récupérer les infos nécessaires\n",
    "info_dict = {\n",
    "    \"Filename\": image.filename,\n",
    "    \"Image Size\": image.size,\n",
    "    \"Image Height\": image.height,\n",
    "    \"Image Width\": image.width,\n",
    "    \"Image Format\": image.format,\n",
    "    \"Image Mode\": image.mode,\n",
    "    \"Image is Animated\": getattr(image, \"is_animated\", False),\n",
    "    \"Frames in Image\": getattr(image, \"n_frames\", 1)\n",
    "}"
   ]
  },
  {
   "cell_type": "code",
   "execution_count": 26,
   "id": "478e6022",
   "metadata": {},
   "outputs": [
    {
     "name": "stdout",
     "output_type": "stream",
     "text": [
      "Filename                 : d:\\Code\\Datascience\\ProjectB/dataset_birds/test/ABBOTTS BABBLER/1.jpg\n",
      "Image Size               : (224, 224)\n",
      "Image Height             : 224\n",
      "Image Width              : 224\n",
      "Image Format             : JPEG\n",
      "Image Mode               : RGB\n",
      "Image is Animated        : False\n",
      "Frames in Image          : 1\n"
     ]
    }
   ],
   "source": [
    "#Afficher toutes les infos de l'image\n",
    "for label,value in info_dict.items():\n",
    "    print(f\"{label:25}: {value}\")"
   ]
  },
  {
   "cell_type": "code",
   "execution_count": 76,
   "id": "b415d321",
   "metadata": {},
   "outputs": [],
   "source": [
    "def getImagesInfos(imagePath):\n",
    "    image = Image.open(imagePath)\n",
    "    info_dict = {\n",
    "    \"Filename\": image.filename,\n",
    "    \"Size\": image.size,\n",
    "    \"Height\": image.height,\n",
    "    \"Width\": image.width,\n",
    "    \"Format\": image.format,\n",
    "    \"Mode\": image.mode,}\n",
    "    return info_dict\n"
   ]
  },
  {
   "cell_type": "code",
   "execution_count": null,
   "id": "9fe77ac6",
   "metadata": {},
   "outputs": [],
   "source": [
    "imagesInfos = dict()\n",
    "dirDsPath = \"dataset_birds\"\n",
    "with open(\"file.csv\", 'w', newline='') as f:\n",
    "    writer = csv.writer(f, delimiter=\",\")\n",
    "    writer.writerow([\"set\", \"birdName\", \"filename\", \"height\", \"width\", \"format\", \"mode\"])\n",
    "    for setPath in os.listdir(dirDsPath):\n",
    "        fullSetPath = os.path.join(dirDsPath, setPath)\n",
    "\n",
    "        i = 1\n",
    "        for birdPath in os.listdir(fullSetPath): \n",
    "            birdImagesList = os.listdir(os.path.join(fullSetPath, birdPath))\n",
    "            print(setPath + \" : \" + str(i) + \"/\" + str(len(os.listdir(fullSetPath))))\n",
    "            i +=1\n",
    "            for file in birdImagesList:\n",
    "                infos = getImagesInfos(os.path.join(fullSetPath, birdPath, file,))\n",
    "                writer.writerow([setPath, birdPath, file, infos['Height'], infos['Width'], infos['Format'], infos['Mode']])\n",
    "\n",
    "        "
   ]
  }
 ],
 "metadata": {
  "kernelspec": {
   "display_name": "Python 3 (ipykernel)",
   "language": "python",
   "name": "python3"
  },
  "language_info": {
   "codemirror_mode": {
    "name": "ipython",
    "version": 3
   },
   "file_extension": ".py",
   "mimetype": "text/x-python",
   "name": "python",
   "nbconvert_exporter": "python",
   "pygments_lexer": "ipython3",
   "version": "3.11.2"
  }
 },
 "nbformat": 4,
 "nbformat_minor": 5
}
